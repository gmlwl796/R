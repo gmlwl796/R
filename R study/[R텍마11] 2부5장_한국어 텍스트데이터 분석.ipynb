{
 "cells": [
  {
   "cell_type": "markdown",
   "metadata": {},
   "source": [
    "# <font color = 'color'>[R텍마11] 2부5장_한국어 텍스트데이터 분석</font>"
   ]
  },
  {
   "cell_type": "markdown",
   "metadata": {},
   "source": [
    "## 관련 패키지 라이브러리 로딩"
   ]
  },
  {
   "cell_type": "markdown",
   "metadata": {},
   "source": [
    "### 한글 텍스트마이닝 전용패키지 KoNLP 단독설치"
   ]
  },
  {
   "cell_type": "code",
   "execution_count": 1,
   "metadata": {},
   "outputs": [],
   "source": [
    "# 사용중인 PC운영체제에 맞는 자바실행환경이 어느 경로에 설치되어 있는지 경로명을 자바홈 디렉토리로 설정함\n",
    "Sys.setenv(JAVA_HOME = 'C:/Program Files/Java/jre1.8.0_201')"
   ]
  },
  {
   "cell_type": "code",
   "execution_count": 2,
   "metadata": {},
   "outputs": [
    {
     "name": "stderr",
     "output_type": "stream",
     "text": [
      "Installing package into 'C:/Users/databarista/Documents/R/win-library/3.5'\n",
      "(as 'lib' is unspecified)\n"
     ]
    },
    {
     "name": "stdout",
     "output_type": "stream",
     "text": [
      "package 'KoNLP' successfully unpacked and MD5 sums checked\n",
      "\n",
      "The downloaded binary packages are in\n",
      "\tC:\\Users\\databarista\\AppData\\Local\\Temp\\RtmpqKZKkj\\downloaded_packages\n"
     ]
    }
   ],
   "source": [
    "# KoNLP 한글자연어처리 패키지 인스톨\n",
    "install.packages('KoNLP')\n",
    "\n",
    "# 패키지 설치시 특정한 라이브러리 폴더를 직접지정해서 저장하는 방법\n",
    "# => install.packages(\"zoo\", lib=\"C:/software/Rpackages\")\n",
    "\n",
    "# 특정패키지 설치시연결되어 있는 다른 패키지도 같이 다운/설치하며, 다운로드시 접속하는 CRAN사이트를 별도로 지정하하는 방법 \n",
    "# => install.packages(new_pkg, dependencies = TRUE, repos=\"http://R-Forge.R-project.org\")"
   ]
  },
  {
   "cell_type": "code",
   "execution_count": 3,
   "metadata": {},
   "outputs": [
    {
     "name": "stderr",
     "output_type": "stream",
     "text": [
      "Checking user defined dictionary!\n",
      "\n"
     ]
    }
   ],
   "source": [
    "# KoNLP 한글자연어처리 패키지 메모리로 로딩\n",
    "library(KoNLP)\n",
    "\n",
    "# 패키지 로딩시에 특정한 폴더에 있는 라이브러리를 직접지정해서 로딩하는 방법\n",
    "# => library(\"zoo\", lib.loc=\"C:/software/Rpackages\")"
   ]
  },
  {
   "cell_type": "markdown",
   "metadata": {},
   "source": [
    "### 필요 패키지 동시 인스톨 및 라이브러리 로딩"
   ]
  },
  {
   "cell_type": "code",
   "execution_count": 4,
   "metadata": {},
   "outputs": [
    {
     "data": {
      "text/html": [
       "<dl class=dl-horizontal>\n",
       "\t<dt>stringr</dt>\n",
       "\t\t<dd>TRUE</dd>\n",
       "\t<dt>magrittr</dt>\n",
       "\t\t<dd>TRUE</dd>\n",
       "\t<dt>purrr</dt>\n",
       "\t\t<dd>TRUE</dd>\n",
       "\t<dt>dplyr</dt>\n",
       "\t\t<dd>TRUE</dd>\n",
       "\t<dt>tm</dt>\n",
       "\t\t<dd>TRUE</dd>\n",
       "\t<dt>RWeka</dt>\n",
       "\t\t<dd>TRUE</dd>\n",
       "\t<dt>KoNLP</dt>\n",
       "\t\t<dd>TRUE</dd>\n",
       "</dl>\n"
      ],
      "text/latex": [
       "\\begin{description*}\n",
       "\\item[stringr] TRUE\n",
       "\\item[magrittr] TRUE\n",
       "\\item[purrr] TRUE\n",
       "\\item[dplyr] TRUE\n",
       "\\item[tm] TRUE\n",
       "\\item[RWeka] TRUE\n",
       "\\item[KoNLP] TRUE\n",
       "\\end{description*}\n"
      ],
      "text/markdown": [
       "stringr\n",
       ":   TRUEmagrittr\n",
       ":   TRUEpurrr\n",
       ":   TRUEdplyr\n",
       ":   TRUEtm\n",
       ":   TRUERWeka\n",
       ":   TRUEKoNLP\n",
       ":   TRUE\n",
       "\n"
      ],
      "text/plain": [
       " stringr magrittr    purrr    dplyr       tm    RWeka    KoNLP \n",
       "    TRUE     TRUE     TRUE     TRUE     TRUE     TRUE     TRUE "
      ]
     },
     "metadata": {},
     "output_type": "display_data"
    }
   ],
   "source": [
    "# 필요한 패키지 목록 생성\n",
    "pkg <- c('stringr', 'magrittr', 'purrr', 'dplyr', 'tm', 'RWeka', 'KoNLP')\n",
    "\n",
    "# 필요패키지 설지여부를 체크해 미설치패키지 목록을 저장\n",
    "new_pkg <- pkg[!(pkg %in% rownames(installed.packages()))]\n",
    "\n",
    "# 미설치 패키지 목록이 1개라도 있으면, 일괄 인스톨 실시\n",
    "if (length(new_pkg)) install.packages(new_pkg, dependencies = TRUE)\n",
    "# if (length(new_pkg)) install.packages(new_pkg, dependencies = TRUE, repos=\"http://R-Forge.R-project.org\")\n",
    "\n",
    "# 필요패키지를 일괄 로딩실시\n",
    "suppressMessages(sapply(pkg, require, character.only = TRUE))  \n",
    "# - suppressMessages() 함수를 통해 패키지 로딩시 나타나는 복잡한 설명/진행상황 문구 출력억제"
   ]
  },
  {
   "cell_type": "markdown",
   "metadata": {},
   "source": [
    "## 세션 상황 확인"
   ]
  },
  {
   "cell_type": "markdown",
   "metadata": {},
   "source": [
    "### 현재 세션정보 확인"
   ]
  },
  {
   "cell_type": "code",
   "execution_count": 5,
   "metadata": {
    "scrolled": true
   },
   "outputs": [
    {
     "data": {
      "text/plain": [
       "R version 3.5.2 (2018-12-20)\n",
       "Platform: x86_64-w64-mingw32/x64 (64-bit)\n",
       "Running under: Windows 10 x64 (build 17134)\n",
       "\n",
       "Matrix products: default\n",
       "\n",
       "locale:\n",
       "[1] LC_COLLATE=Korean_Korea.949  LC_CTYPE=Korean_Korea.949   \n",
       "[3] LC_MONETARY=Korean_Korea.949 LC_NUMERIC=C                \n",
       "[5] LC_TIME=Korean_Korea.949    \n",
       "\n",
       "attached base packages:\n",
       "[1] stats     graphics  grDevices utils     datasets  methods   base     \n",
       "\n",
       "other attached packages:\n",
       "[1] RWeka_0.4-38  tm_0.7-6      NLP_0.2-0     dplyr_0.7.8   purrr_0.2.5  \n",
       "[6] magrittr_1.5  stringr_1.3.1 KoNLP_0.80.1  jsonlite_1.6 \n",
       "\n",
       "loaded via a namespace (and not attached):\n",
       " [1] pbdZMQ_0.3-3         tidyselect_0.2.5     slam_0.1-43         \n",
       " [4] repr_0.19.1          remotes_2.0.2        rJava_0.9-10        \n",
       " [7] testthat_2.0.0       htmltools_0.3.6      usethis_1.4.0       \n",
       "[10] hash_2.2.6           base64enc_0.1-3      blob_1.1.1          \n",
       "[13] rlang_0.3.0.1        pkgbuild_1.0.2       pillar_1.2.3        \n",
       "[16] glue_1.3.0           withr_2.1.2          DBI_1.0.0           \n",
       "[19] bit64_0.9-7          tau_0.0-20           sessioninfo_1.1.1   \n",
       "[22] bindrcpp_0.2.2       uuid_0.1-2           bindr_0.1.1         \n",
       "[25] Sejong_0.01          devtools_2.0.1       memoise_1.1.0       \n",
       "[28] evaluate_0.12        RWekajars_3.9.2-1    callr_2.0.4         \n",
       "[31] parallel_3.5.2       IRdisplay_0.7.0      Rcpp_1.0.0          \n",
       "[34] backports_1.1.2      IRkernel_0.8.15.9000 desc_1.2.0          \n",
       "[37] pkgload_1.0.2        fs_1.2.6             bit_1.1-14          \n",
       "[40] digest_0.6.18        stringi_1.1.7        processx_3.1.0      \n",
       "[43] grid_3.5.2           rprojroot_1.3-2      cli_1.0.0           \n",
       "[46] tools_3.5.2          RSQLite_2.1.1        tibble_1.4.2        \n",
       "[49] crayon_1.3.4         pkgconfig_2.0.1      xml2_1.2.0          \n",
       "[52] prettyunits_1.0.2    assertthat_0.2.0     R6_2.2.2            \n",
       "[55] compiler_3.5.2      "
      ]
     },
     "metadata": {},
     "output_type": "display_data"
    }
   ],
   "source": [
    "sessionInfo()\n",
    "# - 현재 사용중인 R커널 관련정보와 메모리상에 로딩된 패키지 라이브러리 목록 확인"
   ]
  },
  {
   "cell_type": "markdown",
   "metadata": {},
   "source": [
    "### 현재 메모리에 로딩된 패키지 목록 확인"
   ]
  },
  {
   "cell_type": "code",
   "execution_count": 6,
   "metadata": {
    "scrolled": true
   },
   "outputs": [
    {
     "name": "stdout",
     "output_type": "stream",
     "text": [
      " [1] \".GlobalEnv\"        \"package:RWeka\"     \"package:tm\"       \n",
      " [4] \"package:NLP\"       \"package:dplyr\"     \"package:purrr\"    \n",
      " [7] \"package:magrittr\"  \"package:stringr\"   \"package:KoNLP\"    \n",
      "[10] \"package:jsonlite\"  \"jupyter:irkernel\"  \"package:stats\"    \n",
      "[13] \"package:graphics\"  \"package:grDevices\" \"package:utils\"    \n",
      "[16] \"package:datasets\"  \"package:methods\"   \"Autoloads\"        \n",
      "[19] \"package:base\"     \n"
     ]
    }
   ],
   "source": [
    "search() %>% print\n",
    "\n",
    "# - 어려 패키지가 메모리상에 로딩되어 있을 때, 특정 기능함수이름을 복수 패키지에서 사용하는 경우\n",
    "#   [1]번 인덱스에 있는 패키지라이브러리 부터 해당 기능함수가 있는지를 체크해서 실행하게 됨\n",
    "# - 원하는 특정패키지에 속한 기능함수를 명시적으로 실행할 때에는 패키지명::기능함수명() 형태로 사용해야 함"
   ]
  },
  {
   "cell_type": "markdown",
   "metadata": {},
   "source": [
    "### 설치된 패키지라이브러리 저장경로 확인"
   ]
  },
  {
   "cell_type": "code",
   "execution_count": 7,
   "metadata": {},
   "outputs": [
    {
     "name": "stdout",
     "output_type": "stream",
     "text": [
      "[1] \"C:/Users/databarista/Documents/R/win-library/3.5\"\n",
      "[2] \"C:/Program Files/R/R-3.5.2/library\"              \n"
     ]
    }
   ],
   "source": [
    ".libPaths() %>% print\n",
    "\n",
    "# - 첫번째 경로는 사용자가 필요한 외부패키지를 다운받아 설치하면 압축이 풀려서 저장되는 경로임\n",
    "# - 두번째 경로는 R base패키지 설치시 디폴트로 설정되는 기본(base)패키지와 추천(recommended)패키지가 저장되는 경로임\n",
    "\n",
    "# 디폴트로 설정된 패키지라이브러리 설치경로 이외에 다른 경로를 추가하는 방법\n",
    "# => .libPaths( c( .libPaths(), \"~/userLibrary\") )\n",
    "# - 결국 .libPaths() 함수 괄호안에 필요한 경로를 복수로 여러개 설정할 수 있으며, \n",
    "#   불필요한 경로는 괄호안에 입력을 하지 않으면 자동으로 제외되게 됨\n",
    "\n",
    "# 패키지 설치시 특정한 라이브러리 폴더를 직접지정해서 저장하는 방법\n",
    "# => install.packages(\"zoo\", lib=\"C:/software/Rpackages\")\n",
    "\n",
    "# 패키지 로딩시에 특정한 폴더에 있는 라이브러리를 직접지정해서 로딩하는 방법\n",
    "# => library(\"zoo\", lib.loc=\"C:/software/Rpackages\")"
   ]
  },
  {
   "cell_type": "markdown",
   "metadata": {},
   "source": [
    "### 시스템 환경설정 세부정보 확인"
   ]
  },
  {
   "cell_type": "code",
   "execution_count": 8,
   "metadata": {
    "scrolled": true
   },
   "outputs": [
    {
     "data": {
      "text/plain": [
       "ALLUSERSPROFILE         C:\\ProgramData\n",
       "APPDATA                 C:\\Users\\databarista\\AppData\\Roaming\n",
       "COMMONPROGRAMFILES      C:\\Program Files\\Common Files\n",
       "COMMONPROGRAMFILES(X86)\n",
       "                        C:\\Program Files (x86)\\Common Files\n",
       "COMMONPROGRAMW6432      C:\\Program Files\\Common Files\n",
       "COMPUTERNAME            SKYMISSIONS\n",
       "COMSPEC                 C:\\WINDOWS\\system32\\cmd.exe\n",
       "CONDA_PREFIX            C:\\Anaconda3\n",
       "DRIVERDATA              C:\\Windows\\System32\\Drivers\\DriverData\n",
       "FPS_BROWSER_APP_PROFILE_STRING\n",
       "                        Internet Explorer\n",
       "FPS_BROWSER_USER_PROFILE_STRING\n",
       "                        Default\n",
       "HOME                    C:\\Users\\databarista\\Documents\n",
       "HOMEDRIVE               C:\n",
       "HOMEPATH                \\Users\\databarista\n",
       "IPY_INTERRUPT_EVENT     1616\n",
       "JAVA_HOME               C:/Program Files/Java/jre1.8.0_201\n",
       "JPY_INTERRUPT_EVENT     1616\n",
       "JPY_PARENT_PID          1832\n",
       "LOCALAPPDATA            C:\\Users\\databarista\\AppData\\Local\n",
       "LOGONSERVER             \\\\SKYMISSIONS\n",
       "MSYS2_ENV_CONV_EXCL     R_ARCH\n",
       "NUMBER_OF_PROCESSORS    4\n",
       "ONEDRIVE                C:\\my\\OneDrive\n",
       "ONEDRIVECONSUMER        C:\\my\\OneDrive\n",
       "OS                      Windows_NT\n",
       "PATH                    C:\\Anaconda3;C:\\Anaconda3\\Library\\mingw-w64\\bin;C:\\Anaconda3\\Library\\usr\\bin;C:\\Anaconda3\\Library\\bin;C:\\Anaconda3\\Scripts;C:\\Anaconda3\\Library\\bin;C:\\Program\n",
       "                        Files (x86)\\NAT Service;C:\\Program Files\n",
       "                        (x86)\\Common\n",
       "                        Files\\Oracle\\Java\\javapath;C:\\Program Files\n",
       "                        (x86)\\Intel\\iCLS Client\\;C:\\Program\n",
       "                        Files\\Intel\\iCLS\n",
       "                        Client\\;C:\\WINDOWS\\system32;C:\\WINDOWS;C:\\WINDOWS\\System32\\Wbem;C:\\WINDOWS\\System32\\WindowsPowerShell\\v1.0\\;C:\\Program\n",
       "                        Files (x86)\\Intel\\Intel(R) Management Engine\n",
       "                        Components\\DAL;C:\\Program Files\\Intel\\Intel(R)\n",
       "                        Management Engine Components\\DAL;C:\\Program\n",
       "                        Files (x86)\\Intel\\Intel(R) Management Engine\n",
       "                        Components\\IPT;C:\\Program Files\\Intel\\Intel(R)\n",
       "                        Management Engine\n",
       "                        Components\\IPT;C:\\WINDOWS\\System32\\OpenSSH\\;C:\\Program\n",
       "                        Files\\Intel\\WiFi\\bin\\;C:\\Program Files\\Common\n",
       "                        Files\\Intel\\WirelessCommon\\;C:\\Program\n",
       "                        Files\\MiKTeX 2.9\\miktex\\bin\\x64\\;C:\\Program\n",
       "                        Files (x86)\\Graphviz2.38\\bin;C:\\Program\n",
       "                        Files\\PuTTY\\;C:\\Program\n",
       "                        Files\\Git\\cmd;C:\\Users\\databarista\\AppData\\Local\\Microsoft\\WindowsApps;C:\\Program\n",
       "                        Files (x86)\\SoftForum\\XecureHSM\\;C:\\Program\n",
       "                        Files\\Intel\\WiFi\\bin\\;C:\\Program Files\\Common\n",
       "                        Files\\Intel\\WirelessCommon\\;C:\\Users\\databarista\\AppData\\Roaming\\TinyTeX\\bin\\win32;C:\\Program\n",
       "                        Files (x86)\\ESTsoft\\ALSee\\x64\n",
       "PATHEXT                 .COM;.EXE;.BAT;.CMD;.VBS;.VBE;.JS;.JSE;.WSF;.WSH;.MSC\n",
       "PROCESSOR_ARCHITECTURE\n",
       "                        AMD64\n",
       "PROCESSOR_IDENTIFIER    Intel64 Family 6 Model 142 Stepping 9,\n",
       "                        GenuineIntel\n",
       "PROCESSOR_LEVEL         6\n",
       "PROCESSOR_REVISION      8e09\n",
       "PROGRAMDATA             C:\\ProgramData\n",
       "PROGRAMFILES            C:\\Program Files\n",
       "PROGRAMFILES(X86)       C:\\Program Files (x86)\n",
       "PROGRAMW6432            C:\\Program Files\n",
       "PROMPT                  $P$G\n",
       "PSMODULEPATH            C:\\Program\n",
       "                        Files\\WindowsPowerShell\\Modules;C:\\WINDOWS\\system32\\WindowsPowerShell\\v1.0\\Modules\n",
       "PUBLIC                  C:\\Users\\Public\n",
       "PYTHONPATH              C:\\my\\OneDrive\\mcpy\\packages;C:\\my\\OneDrive\\mcpy\\modules\n",
       "R_ARCH                  /x64\n",
       "R_COMPILED_BY           gcc 4.9.3\n",
       "R_HOME                  C:/PROGRA~1/R/R-35~1.2\n",
       "R_LIBS_USER             C:\\Users\\databarista\\Documents/R/win-library/3.5\n",
       "R_USER                  C:\\Users\\databarista\\Documents\n",
       "SESSIONNAME             Console\n",
       "SYSTEMDRIVE             C:\n",
       "SYSTEMROOT              C:\\WINDOWS\n",
       "TEMP                    C:\\Users\\DATABA~1\\AppData\\Local\\Temp\n",
       "TMP                     C:\\Users\\DATABA~1\\AppData\\Local\\Temp\n",
       "USERDOMAIN              SKYMISSIONS\n",
       "USERDOMAIN_ROAMINGPROFILE\n",
       "                        SKYMISSIONS\n",
       "USERNAME                databarista\n",
       "USERPROFILE             C:\\Users\\databarista\n",
       "WEKA_HOME               C:\\Users\\DATABA~1\\AppData\\Local\\Temp\\RtmpqKZKkj\\RWeka3f7449a25890\n",
       "WINDIR                  C:\\WINDOWS"
      ]
     },
     "metadata": {},
     "output_type": "display_data"
    }
   ],
   "source": [
    "Sys.getenv()"
   ]
  },
  {
   "cell_type": "markdown",
   "metadata": {},
   "source": [
    "# <font color = 'blue'>텍스트셋 준비</font>\n",
    "* 한글로 작성된 여러 개의 논문초록(abstract) 파일들을 하나의 말뭉치(Corpus)로 만들어 분석수행\n",
    "* 이를 위해 작업경로내 관련 폴더와 파일 정보를 확인함"
   ]
  },
  {
   "cell_type": "markdown",
   "metadata": {},
   "source": [
    "## 작업경로내 폴더 정보 확인"
   ]
  },
  {
   "cell_type": "code",
   "execution_count": 9,
   "metadata": {},
   "outputs": [
    {
     "name": "stdout",
     "output_type": "stream",
     "text": [
      "[1] \"C:/my/OneDrive/mcpy/tm\"\n"
     ]
    }
   ],
   "source": [
    "# 현재 작업경로 확인\n",
    "getwd() %>% print"
   ]
  },
  {
   "cell_type": "code",
   "execution_count": 10,
   "metadata": {},
   "outputs": [
    {
     "name": "stdout",
     "output_type": "stream",
     "text": [
      " [1] \"[R텍마01] 2부1장_텍스트분석을 위한 R기초.ipynb\"                       \n",
      " [2] \"[R텍마02] 2부1장_텍스트분석을 위한 데이터순환 함수.ipynb\"             \n",
      " [3] \"[R텍마03] 2부2장_텍스트분석을 위한 R 기본함수.ipynb\"                  \n",
      " [4] \"[R텍마04] 2부2장_텍스트분석을 위한 정규표현식.ipynb\"                  \n",
      " [5] \"[R텍마05] 2부2장3장_텍스트분석을 위한 정규표현식2.ipynb\"              \n",
      " [6] \"[R텍마06] 2부2장3장_텍스트분석을 위한 정규표현식3.ipynb\"              \n",
      " [7] \"[R텍마07] 2부2장3장_텍스트분석을 위한 정규표현식4.ipynb\"              \n",
      " [8] \"[R텍마08] 2부4장_텍스트 데이터 전처리.ipynb\"                          \n",
      " [9] \"[R텍마09] 2부4장_텍스트 데이터 전처리_tm패키지 이용(updated).ipynb\"   \n",
      "[10] \"[R텍마09] 2부4장_텍스트 데이터 전처리_tm패키지 이용(updated).r\"       \n",
      "[11] \"[R텍마10] 2부4장_텍스트 데이터 전처리_엔그램과 문서단어행렬객체.ipynb\"\n",
      "[12] \"[R텍마10] 2부4장_텍스트 데이터 전처리_엔그램과 문서단어행렬객체.r\"    \n",
      "[13] \"[R텍마11] 2부5장_한국어 텍스트데이터 분석_KoNLP-Copy1.ipynb\"          \n",
      "[14] \"[R텍마11] 2부5장_한국어 텍스트데이터 분석_KoNLP.ipynb\"                \n",
      "[15] \"datatm\"                                                               \n",
      "[16] \"images\"                                                               \n",
      "[17] \"KoNLP이용 전처리.r\"                                                   \n",
      "[18] \"mypaper.Rdata\"                                                        \n",
      "[19] \"R텍마_본문설명그림_20190121_v0.10.pptx\"                               \n",
      "[20] \"tm.Rproj\"                                                             \n",
      "[21] \"Untitled.ipynb\"                                                       \n",
      "[22] \"Untitled1.ipynb\"                                                      \n",
      "[23] \"Untitled2.ipynb\"                                                      \n",
      "[24] \"조롱이\"                                                               \n"
     ]
    }
   ],
   "source": [
    "# 작업경로내 폴더목록과 파일목록 조회\n",
    "dir() %>% print\n",
    "# - 서브폴더와 서브폴더내 파일목록은 보이지 않음"
   ]
  },
  {
   "cell_type": "code",
   "execution_count": 11,
   "metadata": {},
   "outputs": [
    {
     "name": "stdout",
     "output_type": "stream",
     "text": [
      "[1] \"./.ipynb_checkpoints\" \"./.Rproj.user\"        \"./datatm\"            \n",
      "[4] \"./images\"             \"./조롱이\"            \n"
     ]
    }
   ],
   "source": [
    "# 작업경로내 폴더목록만 조회\n",
    "list.dirs(recursive = F) %>% print"
   ]
  },
  {
   "cell_type": "code",
   "execution_count": 45,
   "metadata": {},
   "outputs": [
    {
     "name": "stdout",
     "output_type": "stream",
     "text": [
      " [1] \".\"                                        \n",
      " [2] \"./.ipynb_checkpoints\"                     \n",
      " [3] \"./.Rproj.user\"                            \n",
      " [4] \"./.Rproj.user/D31FAAAB\"                   \n",
      " [5] \"./.Rproj.user/D31FAAAB/console06\"         \n",
      " [6] \"./.Rproj.user/D31FAAAB/ctx\"               \n",
      " [7] \"./.Rproj.user/D31FAAAB/explorer-cache\"    \n",
      " [8] \"./.Rproj.user/D31FAAAB/presentation\"      \n",
      " [9] \"./.Rproj.user/D31FAAAB/profiles-cache\"    \n",
      "[10] \"./.Rproj.user/D31FAAAB/sources\"           \n",
      "[11] \"./.Rproj.user/D31FAAAB/sources/prop\"      \n",
      "[12] \"./.Rproj.user/D31FAAAB/sources/s-74A96CD7\"\n",
      "[13] \"./.Rproj.user/D31FAAAB/viewer-cache\"      \n",
      "[14] \"./.Rproj.user/shared\"                     \n",
      "[15] \"./.Rproj.user/shared/notebooks\"           \n",
      "[16] \"./datatm\"                                 \n",
      "[17] \"./datatm/ymbaek_papers_en\"                \n",
      "[18] \"./datatm/ymbaek_papers_kor\"               \n",
      "[19] \"./datatm/ymbaek_papers_kor - 복사본\"      \n",
      "[20] \"./images\"                                 \n",
      "[21] \"./조롱이\"                                 \n"
     ]
    }
   ],
   "source": [
    "# 작업경로내 폴더목록과 각 폴더별 하위 폴더목록까지 조회\n",
    "list.dirs(recursive = T) %>% print"
   ]
  },
  {
   "cell_type": "code",
   "execution_count": 12,
   "metadata": {},
   "outputs": [
    {
     "name": "stdout",
     "output_type": "stream",
     "text": [
      "[1] FALSE\n",
      "[1] \"datatm\"        \"mypaper.Rdata\"\n"
     ]
    }
   ],
   "source": [
    "# 특정 패턴을 갖는 폴더&파일 목록 존재여부 체크\n",
    "file.exists(\"data\") %>% print\n",
    "\n",
    "# 특정한 패턴을 갖는 폴더&파일 목록 조회\n",
    "dir(pattern = 'data') %>% print"
   ]
  },
  {
   "cell_type": "code",
   "execution_count": 13,
   "metadata": {},
   "outputs": [
    {
     "name": "stdout",
     "output_type": "stream",
     "text": [
      "[1] \"./datatm\"                            \"./datatm/ymbaek_papers_en\"          \n",
      "[3] \"./datatm/ymbaek_papers_kor\"          \"./datatm/ymbaek_papers_kor - 복사본\"\n"
     ]
    }
   ],
   "source": [
    "# 특정 폴더내 서브폴더 목록 조회\n",
    "list.dirs(path = './datatm') %>% print"
   ]
  },
  {
   "cell_type": "markdown",
   "metadata": {},
   "source": [
    "## 작업경로내 파일 정보 확인"
   ]
  },
  {
   "cell_type": "code",
   "execution_count": 14,
   "metadata": {},
   "outputs": [
    {
     "name": "stdout",
     "output_type": "stream",
     "text": [
      " [1] \"[R텍마01] 2부1장_텍스트분석을 위한 R기초.ipynb\"                       \n",
      " [2] \"[R텍마02] 2부1장_텍스트분석을 위한 데이터순환 함수.ipynb\"             \n",
      " [3] \"[R텍마03] 2부2장_텍스트분석을 위한 R 기본함수.ipynb\"                  \n",
      " [4] \"[R텍마04] 2부2장_텍스트분석을 위한 정규표현식.ipynb\"                  \n",
      " [5] \"[R텍마05] 2부2장3장_텍스트분석을 위한 정규표현식2.ipynb\"              \n",
      " [6] \"[R텍마06] 2부2장3장_텍스트분석을 위한 정규표현식3.ipynb\"              \n",
      " [7] \"[R텍마07] 2부2장3장_텍스트분석을 위한 정규표현식4.ipynb\"              \n",
      " [8] \"[R텍마08] 2부4장_텍스트 데이터 전처리.ipynb\"                          \n",
      " [9] \"[R텍마09] 2부4장_텍스트 데이터 전처리_tm패키지 이용(updated).ipynb\"   \n",
      "[10] \"[R텍마09] 2부4장_텍스트 데이터 전처리_tm패키지 이용(updated).r\"       \n",
      "[11] \"[R텍마10] 2부4장_텍스트 데이터 전처리_엔그램과 문서단어행렬객체.ipynb\"\n",
      "[12] \"[R텍마10] 2부4장_텍스트 데이터 전처리_엔그램과 문서단어행렬객체.r\"    \n",
      "[13] \"[R텍마11] 2부5장_한국어 텍스트데이터 분석_KoNLP-Copy1.ipynb\"          \n",
      "[14] \"[R텍마11] 2부5장_한국어 텍스트데이터 분석_KoNLP.ipynb\"                \n",
      "[15] \"datatm\"                                                               \n",
      "[16] \"images\"                                                               \n",
      "[17] \"KoNLP이용 전처리.r\"                                                   \n",
      "[18] \"mypaper.Rdata\"                                                        \n",
      "[19] \"R텍마_본문설명그림_20190121_v0.10.pptx\"                               \n",
      "[20] \"tm.Rproj\"                                                             \n",
      "[21] \"Untitled.ipynb\"                                                       \n",
      "[22] \"Untitled1.ipynb\"                                                      \n",
      "[23] \"Untitled2.ipynb\"                                                      \n",
      "[24] \"조롱이\"                                                               \n"
     ]
    }
   ],
   "source": [
    "# 작업경로내 파일목록과 폴더목록 조회\n",
    "list.files(recursive = F) %>% print"
   ]
  },
  {
   "cell_type": "code",
   "execution_count": 15,
   "metadata": {
    "scrolled": true
   },
   "outputs": [
    {
     "name": "stdout",
     "output_type": "stream",
     "text": [
      " [1] \"[R텍마01] 2부1장_텍스트분석을 위한 R기초.ipynb\"                       \n",
      " [2] \"[R텍마02] 2부1장_텍스트분석을 위한 데이터순환 함수.ipynb\"             \n",
      " [3] \"[R텍마03] 2부2장_텍스트분석을 위한 R 기본함수.ipynb\"                  \n",
      " [4] \"[R텍마04] 2부2장_텍스트분석을 위한 정규표현식.ipynb\"                  \n",
      " [5] \"[R텍마05] 2부2장3장_텍스트분석을 위한 정규표현식2.ipynb\"              \n",
      " [6] \"[R텍마06] 2부2장3장_텍스트분석을 위한 정규표현식3.ipynb\"              \n",
      " [7] \"[R텍마07] 2부2장3장_텍스트분석을 위한 정규표현식4.ipynb\"              \n",
      " [8] \"[R텍마08] 2부4장_텍스트 데이터 전처리.ipynb\"                          \n",
      " [9] \"[R텍마09] 2부4장_텍스트 데이터 전처리_tm패키지 이용(updated).ipynb\"   \n",
      "[10] \"[R텍마09] 2부4장_텍스트 데이터 전처리_tm패키지 이용(updated).r\"       \n",
      "[11] \"[R텍마10] 2부4장_텍스트 데이터 전처리_엔그램과 문서단어행렬객체.ipynb\"\n",
      "[12] \"[R텍마10] 2부4장_텍스트 데이터 전처리_엔그램과 문서단어행렬객체.r\"    \n",
      "[13] \"[R텍마11] 2부5장_한국어 텍스트데이터 분석_KoNLP-Copy1.ipynb\"          \n",
      "[14] \"[R텍마11] 2부5장_한국어 텍스트데이터 분석_KoNLP.ipynb\"                \n",
      "[15] \"datatm/ymbaek_papers_en.Rdata\"                                        \n",
      "[16] \"datatm/ymbaek_papers_en/p2009a.txt\"                                   \n",
      "[17] \"datatm/ymbaek_papers_en/p2009b.txt\"                                   \n",
      "[18] \"datatm/ymbaek_papers_en/p2010a.txt\"                                   \n",
      "[19] \"datatm/ymbaek_papers_en/p2010b.txt\"                                   \n",
      "[20] \"datatm/ymbaek_papers_en/p2010c.txt\"                                   \n",
      "[21] \"datatm/ymbaek_papers_en/p2011a.txt\"                                   \n",
      "[22] \"datatm/ymbaek_papers_en/p2011b.txt\"                                   \n",
      "[23] \"datatm/ymbaek_papers_en/p2012a.txt\"                                   \n",
      "[24] \"datatm/ymbaek_papers_en/p2012b.txt\"                                   \n",
      "[25] \"datatm/ymbaek_papers_en/p2013a.txt\"                                   \n",
      "[26] \"datatm/ymbaek_papers_en/p2014a.txt\"                                   \n",
      "[27] \"datatm/ymbaek_papers_en/p2014b.txt\"                                   \n",
      "[28] \"datatm/ymbaek_papers_en/p2014c.txt\"                                   \n",
      "[29] \"datatm/ymbaek_papers_en/p2014d.txt\"                                   \n",
      "[30] \"datatm/ymbaek_papers_en/p2014e.txt\"                                   \n",
      "[31] \"datatm/ymbaek_papers_en/p2014f.txt\"                                   \n",
      "[32] \"datatm/ymbaek_papers_en/p2014g.txt\"                                   \n",
      "[33] \"datatm/ymbaek_papers_en/p2014h.txt\"                                   \n",
      "[34] \"datatm/ymbaek_papers_en/p2014i.txt\"                                   \n",
      "[35] \"datatm/ymbaek_papers_en/p2014k.txt\"                                   \n",
      "[36] \"datatm/ymbaek_papers_en/p2015a.txt\"                                   \n",
      "[37] \"datatm/ymbaek_papers_en/p2015b.txt\"                                   \n",
      "[38] \"datatm/ymbaek_papers_en/p2015c.txt\"                                   \n",
      "[39] \"datatm/ymbaek_papers_en/p2015d.txt\"                                   \n",
      "[40] \"datatm/ymbaek_papers_en_my원본1차수정본.zip\"                          \n",
      "[41] \"datatm/ymbaek_papers_kor - 복사본/kp2004a.txt\"                        \n",
      "[42] \"datatm/ymbaek_papers_kor - 복사본/kp2005a.txt\"                        \n",
      "[43] \"datatm/ymbaek_papers_kor - 복사본/kp2005b.txt\"                        \n",
      "[44] \"datatm/ymbaek_papers_kor - 복사본/kp2012a.txt\"                        \n",
      "[45] \"datatm/ymbaek_papers_kor - 복사본/kp2012b.txt\"                        \n",
      "[46] \"datatm/ymbaek_papers_kor - 복사본/kp2013a.txt\"                        \n",
      "[47] \"datatm/ymbaek_papers_kor - 복사본/kp2013b.txt\"                        \n",
      "[48] \"datatm/ymbaek_papers_kor - 복사본/kp2014a.txt\"                        \n",
      "[49] \"datatm/ymbaek_papers_kor - 복사본/kp2014b.txt\"                        \n",
      "[50] \"datatm/ymbaek_papers_kor - 복사본/kp2014c.txt\"                        \n",
      "[51] \"datatm/ymbaek_papers_kor - 복사본/kp2014d.txt\"                        \n",
      "[52] \"datatm/ymbaek_papers_kor - 복사본/kp2016a.txt\"                        \n",
      "[53] \"datatm/ymbaek_papers_kor - 복사본/kp2016b.txt\"                        \n",
      "[54] \"datatm/ymbaek_papers_kor - 복사본/kp2016c.txt\"                        \n",
      "[55] \"datatm/ymbaek_papers_kor - 복사본/kp2016d.txt\"                        \n",
      "[56] \"datatm/ymbaek_papers_kor - 복사본/kp2016e.txt\"                        \n",
      "[57] \"datatm/ymbaek_papers_kor - 복사본/kp2016f.txt\"                        \n",
      "[58] \"datatm/ymbaek_papers_kor - 복사본/kp2016g.txt\"                        \n",
      "[59] \"datatm/ymbaek_papers_kor - 복사본/kp2016h.txt\"                        \n",
      "[60] \"datatm/ymbaek_papers_kor/kp2004a.txt\"                                 \n",
      "[61] \"datatm/ymbaek_papers_kor/kp2005a.txt\"                                 \n",
      "[62] \"datatm/ymbaek_papers_kor/kp2005b.txt\"                                 \n",
      "[63] \"datatm/ymbaek_papers_kor/kp2012a.txt\"                                 \n",
      "[64] \"datatm/ymbaek_papers_kor/kp2012b.txt\"                                 \n",
      "[65] \"datatm/ymbaek_papers_kor/kp2013a.txt\"                                 \n",
      "[66] \"datatm/ymbaek_papers_kor/kp2013b.txt\"                                 \n",
      "[67] \"datatm/ymbaek_papers_kor/kp2014a.txt\"                                 \n",
      "[68] \"datatm/ymbaek_papers_kor/kp2014b.txt\"                                 \n",
      "[69] \"datatm/ymbaek_papers_kor/kp2014c.txt\"                                 \n",
      "[70] \"datatm/ymbaek_papers_kor/kp2014d.txt\"                                 \n",
      "[71] \"datatm/ymbaek_papers_kor/kp2016a.txt\"                                 \n",
      "[72] \"datatm/ymbaek_papers_kor/kp2016b.txt\"                                 \n",
      "[73] \"datatm/ymbaek_papers_kor/kp2016c.txt\"                                 \n",
      "[74] \"datatm/ymbaek_papers_kor/kp2016d.txt\"                                 \n",
      "[75] \"datatm/ymbaek_papers_kor/kp2016e.txt\"                                 \n",
      "[76] \"datatm/ymbaek_papers_kor/kp2016f.txt\"                                 \n",
      "[77] \"datatm/ymbaek_papers_kor/kp2016g.txt\"                                 \n",
      "[78] \"datatm/ymbaek_papers_kor/kp2016h.txt\"                                 \n",
      "[79] \"images/regex.jpg\"                                                     \n",
      "[80] \"images/tf.jpg\"                                                        \n",
      "[81] \"images/tfidf.jpg\"                                                     \n",
      "[82] \"images/tfidf_formula.jpg\"                                             \n",
      "[83] \"KoNLP이용 전처리.r\"                                                   \n",
      "[84] \"mypaper.Rdata\"                                                        \n",
      "[85] \"R텍마_본문설명그림_20190121_v0.10.pptx\"                               \n",
      "[86] \"tm.Rproj\"                                                             \n",
      "[87] \"Untitled.ipynb\"                                                       \n",
      "[88] \"Untitled1.ipynb\"                                                      \n",
      "[89] \"Untitled2.ipynb\"                                                      \n"
     ]
    }
   ],
   "source": [
    "# 작업경로내 파일목록과 각 폴더별 파일목록을 일괄 조회\n",
    "list.files(recursive = T) %>% print"
   ]
  },
  {
   "cell_type": "code",
   "execution_count": 16,
   "metadata": {},
   "outputs": [
    {
     "name": "stdout",
     "output_type": "stream",
     "text": [
      "[1] \"./datatm\"                            \"./datatm/ymbaek_papers_en\"          \n",
      "[3] \"./datatm/ymbaek_papers_kor\"          \"./datatm/ymbaek_papers_kor - 복사본\"\n",
      "\n",
      " [1] \"kp2004a.txt\" \"kp2005a.txt\" \"kp2005b.txt\" \"kp2012a.txt\" \"kp2012b.txt\"\n",
      " [6] \"kp2013a.txt\" \"kp2013b.txt\" \"kp2014a.txt\" \"kp2014b.txt\" \"kp2014c.txt\"\n",
      "[11] \"kp2014d.txt\" \"kp2016a.txt\" \"kp2016b.txt\" \"kp2016c.txt\" \"kp2016d.txt\"\n",
      "[16] \"kp2016e.txt\" \"kp2016f.txt\" \"kp2016g.txt\" \"kp2016h.txt\"\n"
     ]
    }
   ],
   "source": [
    "# 특정 폴더내 서브폴더 목록 조회\n",
    "list.dirs(path = './datatm') %>% print\n",
    "cat('\\n')\n",
    "# 특정 폴더내 파일 목록 조회\n",
    "list.files (path = \"./datatm/ymbaek_papers_kor\") %>% print"
   ]
  },
  {
   "cell_type": "markdown",
   "metadata": {},
   "source": [
    "# <font color = 'blue'>말뭉치(Corpus) 생성 (p.140)</font>\n",
    "* 특정한 폴더에 저장되어 있는 텍스트셋을 로딩하여, 말뭉치 생성작업을 실시함\n",
    "* 준비된 텍스트 파일이 1개면 1개 문서로 말뭉치를 구성함\n",
    "* 여러 개 텍스트 파일인 경우 각 문서의 독립성을 유지하면서 하나의 말뭉치 형태로 접근할 수 있도록 리스트 구조를 가지게됨 "
   ]
  },
  {
   "cell_type": "markdown",
   "metadata": {},
   "source": [
    "## 텍스트셋 파일로부터 말뭉치 생성"
   ]
  },
  {
   "cell_type": "code",
   "execution_count": 17,
   "metadata": {},
   "outputs": [],
   "source": [
    "# 말뭉치 생성대상 텍스트데이터 위치경로 설정\n",
    "loc_papers_kor <- './datatm/ymbaek_papers_kor'\n",
    "\n",
    "# tm패키지 Vcorpus() 함수를 이용해 텍스트셋 파일들을 통합해 말뭉치로 생성함\n",
    "my <-VCorpus(DirSource(loc_papers_kor))"
   ]
  },
  {
   "cell_type": "markdown",
   "metadata": {},
   "source": [
    "## 말뭉치 기본 특성파악"
   ]
  },
  {
   "cell_type": "code",
   "execution_count": 18,
   "metadata": {},
   "outputs": [
    {
     "name": "stdout",
     "output_type": "stream",
     "text": [
      "<<VCorpus>>\n",
      "Metadata:  corpus specific: 0, document level (indexed): 0\n",
      "Content:  documents: 19\n"
     ]
    },
    {
     "data": {
      "text/html": [
       "'말뭉치 객체유형:'"
      ],
      "text/latex": [
       "'말뭉치 객체유형:'"
      ],
      "text/markdown": [
       "'말뭉치 객체유형:'"
      ],
      "text/plain": [
       "[1] \"말뭉치 객체유형:\""
      ]
     },
     "metadata": {},
     "output_type": "display_data"
    },
    {
     "name": "stdout",
     "output_type": "stream",
     "text": [
      "[1] \"VCorpus\" \"Corpus\" \n",
      "[1] \"말뭉치 구성요소 길이: 19\"\n"
     ]
    }
   ],
   "source": [
    "# 말뭉치 간단출력\n",
    "my %>% print\n",
    "# - Metadata: 말뭉치를 구성하는 각 파일에 대한 별도의 설명은 없는 상태임\n",
    "# - Content: 19개 문서(documents)로 구성되어 있음을 알 수 있음\n",
    "\n",
    "sprintf('말뭉치 객체유형:')\n",
    "class(my) %>% print\n",
    "# - Corpus객체도 리스트 객체구조를 가지고 있는데, \n",
    "#   결합되는 여러개 텍스트셋 파일별 내용과 메타정보를 독립적으로 각 리스트항목으로 유지하는 구조임\n",
    "# - VCorpus: Volatile Corpus 임시생성(휘발성있는) 코퍼스 파일\n",
    "\n",
    "sprintf('말뭉치 구성요소 길이: %d', length(my))  %>% print"
   ]
  },
  {
   "cell_type": "code",
   "execution_count": 19,
   "metadata": {},
   "outputs": [
    {
     "name": "stdout",
     "output_type": "stream",
     "text": [
      " [1] \"kp2004a.txt\" \"kp2005a.txt\" \"kp2005b.txt\" \"kp2012a.txt\" \"kp2012b.txt\"\n",
      " [6] \"kp2013a.txt\" \"kp2013b.txt\" \"kp2014a.txt\" \"kp2014b.txt\" \"kp2014c.txt\"\n",
      "[11] \"kp2014d.txt\" \"kp2016a.txt\" \"kp2016b.txt\" \"kp2016c.txt\" \"kp2016d.txt\"\n",
      "[16] \"kp2016e.txt\" \"kp2016f.txt\" \"kp2016g.txt\" \"kp2016h.txt\"\n"
     ]
    }
   ],
   "source": [
    "# 말뭉치 객체의 리스트항목이름 조회\n",
    "names(my) %>% print\n",
    "# - 여러개의 텍스트파일이 하나의 말뭉치로 결합되면서 \n",
    "#   각 파일명이 리스트항목명으로 반영되었음을 알 수 있음 "
   ]
  },
  {
   "cell_type": "code",
   "execution_count": 54,
   "metadata": {
    "scrolled": true
   },
   "outputs": [
    {
     "data": {
      "text/plain": [
       "            Length Class             Mode\n",
       "kp2004a.txt 2      PlainTextDocument list\n",
       "kp2005a.txt 2      PlainTextDocument list\n",
       "kp2005b.txt 2      PlainTextDocument list\n",
       "kp2012a.txt 2      PlainTextDocument list\n",
       "kp2012b.txt 2      PlainTextDocument list\n",
       "kp2013a.txt 2      PlainTextDocument list\n",
       "kp2013b.txt 2      PlainTextDocument list\n",
       "kp2014a.txt 2      PlainTextDocument list\n",
       "kp2014b.txt 2      PlainTextDocument list\n",
       "kp2014c.txt 2      PlainTextDocument list\n",
       "kp2014d.txt 2      PlainTextDocument list\n",
       "kp2016a.txt 2      PlainTextDocument list\n",
       "kp2016b.txt 2      PlainTextDocument list\n",
       "kp2016c.txt 2      PlainTextDocument list\n",
       "kp2016d.txt 2      PlainTextDocument list\n",
       "kp2016e.txt 2      PlainTextDocument list\n",
       "kp2016f.txt 2      PlainTextDocument list\n",
       "kp2016g.txt 2      PlainTextDocument list\n",
       "kp2016h.txt 2      PlainTextDocument list"
      ]
     },
     "metadata": {},
     "output_type": "display_data"
    }
   ],
   "source": [
    "# 말뭉치 객체의 간략요약정보 확인\n",
    "summary(my)\n",
    "# - 각 문서들은 PlainTextDocument 포맷양식이며, 리스트 구조임 \n",
    "# - 각 문서별로 리스트객체의 길이(Length)가 2개인데, \n",
    "#   1개는 문서내용($content)이며, 또 다른 1개는 해당 문서에 대한 메타($meta) 정보임"
   ]
  },
  {
   "cell_type": "code",
   "execution_count": 20,
   "metadata": {
    "scrolled": true
   },
   "outputs": [
    {
     "name": "stdout",
     "output_type": "stream",
     "text": [
      "<<VCorpus>>\n",
      "Metadata:  corpus specific: 0, document level (indexed): 0\n",
      "Content:  documents: 19\n",
      "\n",
      "[[1]]\n",
      "<<PlainTextDocument>>\n",
      "Metadata:  7\n",
      "Content:  chars: 652\n",
      "\n",
      "[[2]]\n",
      "<<PlainTextDocument>>\n",
      "Metadata:  7\n",
      "Content:  chars: 535\n",
      "\n",
      "[[3]]\n",
      "<<PlainTextDocument>>\n",
      "Metadata:  7\n",
      "Content:  chars: 622\n",
      "\n",
      "[[4]]\n",
      "<<PlainTextDocument>>\n",
      "Metadata:  7\n",
      "Content:  chars: 844\n",
      "\n",
      "[[5]]\n",
      "<<PlainTextDocument>>\n",
      "Metadata:  7\n",
      "Content:  chars: 613\n",
      "\n",
      "[[6]]\n",
      "<<PlainTextDocument>>\n",
      "Metadata:  7\n",
      "Content:  chars: 591\n",
      "\n",
      "[[7]]\n",
      "<<PlainTextDocument>>\n",
      "Metadata:  7\n",
      "Content:  chars: 563\n",
      "\n",
      "[[8]]\n",
      "<<PlainTextDocument>>\n",
      "Metadata:  7\n",
      "Content:  chars: 766\n",
      "\n",
      "[[9]]\n",
      "<<PlainTextDocument>>\n",
      "Metadata:  7\n",
      "Content:  chars: 572\n",
      "\n",
      "[[10]]\n",
      "<<PlainTextDocument>>\n",
      "Metadata:  7\n",
      "Content:  chars: 706\n",
      "\n",
      "[[11]]\n",
      "<<PlainTextDocument>>\n",
      "Metadata:  7\n",
      "Content:  chars: 794\n",
      "\n",
      "[[12]]\n",
      "<<PlainTextDocument>>\n",
      "Metadata:  7\n",
      "Content:  chars: 490\n",
      "\n",
      "[[13]]\n",
      "<<PlainTextDocument>>\n",
      "Metadata:  7\n",
      "Content:  chars: 717\n",
      "\n",
      "[[14]]\n",
      "<<PlainTextDocument>>\n",
      "Metadata:  7\n",
      "Content:  chars: 728\n",
      "\n",
      "[[15]]\n",
      "<<PlainTextDocument>>\n",
      "Metadata:  7\n",
      "Content:  chars: 662\n",
      "\n",
      "[[16]]\n",
      "<<PlainTextDocument>>\n",
      "Metadata:  7\n",
      "Content:  chars: 697\n",
      "\n",
      "[[17]]\n",
      "<<PlainTextDocument>>\n",
      "Metadata:  7\n",
      "Content:  chars: 713\n",
      "\n",
      "[[18]]\n",
      "<<PlainTextDocument>>\n",
      "Metadata:  7\n",
      "Content:  chars: 811\n",
      "\n",
      "[[19]]\n",
      "<<PlainTextDocument>>\n",
      "Metadata:  7\n",
      "Content:  chars: 483\n",
      "\n"
     ]
    }
   ],
   "source": [
    "# 말뭉치객체 문서특성 간단조회\n",
    "inspect(my)"
   ]
  },
  {
   "cell_type": "code",
   "execution_count": 21,
   "metadata": {
    "scrolled": true
   },
   "outputs": [
    {
     "name": "stdout",
     "output_type": "stream",
     "text": [
      "List of 19\n",
      " $ kp2004a.txt:List of 2\n",
      "  ..$ content: chr \"   여론조사환경의 변화로 기존의 전화조사를 이용한 대표성 확보는 점차 어려워지고 있다. 이에 따라 기존 표본조사방\"| __truncated__\n",
      "  ..$ meta   :List of 7\n",
      "  .. ..$ author       : chr(0) \n",
      "  .. ..$ datetimestamp: POSIXlt[1:1], format: \"2019-01-29 00:04:23\"\n",
      "  .. ..$ description  : chr(0) \n",
      "  .. ..$ heading      : chr(0) \n",
      "  .. ..$ id           : chr \"kp2004a.txt\"\n",
      "  .. ..$ language     : chr \"en\"\n",
      "  .. ..$ origin       : chr(0) \n",
      "  .. ..- attr(*, \"class\")= chr \"TextDocumentMeta\"\n",
      "  ..- attr(*, \"class\")= chr [1:2] \"PlainTextDocument\" \"TextDocument\"\n",
      " $ kp2005a.txt:List of 2\n",
      "  ..$ content: chr [1:4] \"\\t이  논문은 커뮤니케이션 정책연구에 대한 부정적 인식의 본질과 원인을 밝히고, 20가지 현실적 개선방안을 생각해 \"| __truncated__ \"\" \"\" \"이러한 문제의식에서 이 연구는 커뮤니케이션 정책연구의 대상과 방법론, 국내외의 정책연구 동향, 그리고 정책연구를 \"| __truncated__\n",
      "  ..$ meta   :List of 7\n",
      "  .. ..$ author       : chr(0) \n",
      "  .. ..$ datetimestamp: POSIXlt[1:1], format: \"2019-01-29 00:04:23\"\n",
      "  .. ..$ description  : chr(0) \n",
      "  .. ..$ heading      : chr(0) \n",
      "  .. ..$ id           : chr \"kp2005a.txt\"\n",
      "  .. ..$ language     : chr \"en\"\n",
      "  .. ..$ origin       : chr(0) \n",
      "  .. ..- attr(*, \"class\")= chr \"TextDocumentMeta\"\n",
      "  ..- attr(*, \"class\")= chr [1:2] \"PlainTextDocument\" \"TextDocument\"\n",
      " $ kp2005b.txt:List of 2\n",
      "  ..$ content: chr [1:2] \"지상파 방송사   조직문화에 대한 기존연구들은 연간 60건 정도에서 -13편 정도가 감소한 47편 정도로 나타났다. 방송\"| __truncated__ \"반면 부서의 자율성보다 조직 전체의 목교 추구를 중시하며 부서 내 응집도가 높은 ‘가부장적 문화’에는 보도/기획/\"| __truncated__\n",
      "  ..$ meta   :List of 7\n",
      "  .. ..$ author       : chr(0) \n",
      "  .. ..$ datetimestamp: POSIXlt[1:1], format: \"2019-01-29 00:04:23\"\n",
      "  .. ..$ description  : chr(0) \n",
      "  .. ..$ heading      : chr(0) \n",
      "  .. ..$ id           : chr \"kp2005b.txt\"\n",
      "  .. ..$ language     : chr \"en\"\n",
      "  .. ..$ origin       : chr(0) \n",
      "  .. ..- attr(*, \"class\")= chr \"TextDocumentMeta\"\n",
      "  ..- attr(*, \"class\")= chr [1:2] \"PlainTextDocument\" \"TextDocument\"\n",
      " $ kp2012a.txt:List of 2\n",
      "  ..$ content: chr [1:3] \"\\t최근 한국의 문화예술 분야에서 벌어지고 있는 역동적 변화를 이해하기 위해서는 창조-매개?소비의 상호작용에 관한 \"| __truncated__ \"\" \"구체적으로는 2000년대를 거치며 급격하게 성장한 공연예술에 주목하여, 2001∼2006년 사이에 티켓링크에서 비교적 꾸\"| __truncated__\n",
      "  ..$ meta   :List of 7\n",
      "  .. ..$ author       : chr(0) \n",
      "  .. ..$ datetimestamp: POSIXlt[1:1], format: \"2019-01-29 00:04:23\"\n",
      "  .. ..$ description  : chr(0) \n",
      "  .. ..$ heading      : chr(0) \n",
      "  .. ..$ id           : chr \"kp2012a.txt\"\n",
      "  .. ..$ language     : chr \"en\"\n",
      "  .. ..$ origin       : chr(0) \n",
      "  .. ..- attr(*, \"class\")= chr \"TextDocumentMeta\"\n",
      "  ..- attr(*, \"class\")= chr [1:2] \"PlainTextDocument\" \"TextDocument\"\n",
      " $ kp2012b.txt:List of 2\n",
      "  ..$ content: chr [1:12] \"\" \" 인터넷 이용의 심리적/사회적 효과에 관한 연구에서  이용시간 변수는 핵심적 변수 역할을 하고 있다. \" \"많은 연구들이 자기응답방식을 통해서 인터넷 이용시간을 측정하지만, 자기응답방식을 통한 인간의 행동측정은 과도응\"| __truncated__ \"    \" ...\n",
      "  ..$ meta   :List of 7\n",
      "  .. ..$ author       : chr(0) \n",
      "  .. ..$ datetimestamp: POSIXlt[1:1], format: \"2019-01-29 00:04:23\"\n",
      "  .. ..$ description  : chr(0) \n",
      "  .. ..$ heading      : chr(0) \n",
      "  .. ..$ id           : chr \"kp2012b.txt\"\n",
      "  .. ..$ language     : chr \"en\"\n",
      "  .. ..$ origin       : chr(0) \n",
      "  .. ..- attr(*, \"class\")= chr \"TextDocumentMeta\"\n",
      "  ..- attr(*, \"class\")= chr [1:2] \"PlainTextDocument\" \"TextDocument\"\n",
      " $ kp2013a.txt:List of 2\n",
      "  ..$ content: chr [1:5] \"\" \"\" \"이 연구는 정치인의 말하기 방식에 따라 해당정치인에 대한 개인적 윤리적/도덕성 평가는 물론 정치전반에 대한 신뢰와\"| __truncated__ \"\" ...\n",
      "  ..$ meta   :List of 7\n",
      "  .. ..$ author       : chr(0) \n",
      "  .. ..$ datetimestamp: POSIXlt[1:1], format: \"2019-01-29 00:04:23\"\n",
      "  .. ..$ description  : chr(0) \n",
      "  .. ..$ heading      : chr(0) \n",
      "  .. ..$ id           : chr \"kp2013a.txt\"\n",
      "  .. ..$ language     : chr \"en\"\n",
      "  .. ..$ origin       : chr(0) \n",
      "  .. ..- attr(*, \"class\")= chr \"TextDocumentMeta\"\n",
      "  ..- attr(*, \"class\")= chr [1:2] \"PlainTextDocument\" \"TextDocument\"\n",
      " $ kp2013b.txt:List of 2\n",
      "  ..$ content: chr [1:2] \"우리 연구는 ‘트위터(Twitter)’가 이용자들의 여론지각에 어떠한 영향을 미치는지를 ‘허위합의지각’을 중심으로 살\"| __truncated__ \"\"\n",
      "  ..$ meta   :List of 7\n",
      "  .. ..$ author       : chr(0) \n",
      "  .. ..$ datetimestamp: POSIXlt[1:1], format: \"2019-01-29 00:04:23\"\n",
      "  .. ..$ description  : chr(0) \n",
      "  .. ..$ heading      : chr(0) \n",
      "  .. ..$ id           : chr \"kp2013b.txt\"\n",
      "  .. ..$ language     : chr \"en\"\n",
      "  .. ..$ origin       : chr(0) \n",
      "  .. ..- attr(*, \"class\")= chr \"TextDocumentMeta\"\n",
      "  ..- attr(*, \"class\")= chr [1:2] \"PlainTextDocument\" \"TextDocument\"\n",
      " $ kp2014a.txt:List of 2\n",
      "  ..$ content: chr [1:3] \"이 연구는 위키리크스를 통해서 공개된 주한 미국대사관의 외교전문들을 컴퓨터 언어처리 기법을 이용하여 분석한 것이\"| __truncated__ \"\" \"또한 공개된 외교전문들에서 \\t① 한국  내 정세, ②  북한관련, ③ 주한미군, ④ 남북경협, ⑤ 해외파병, ⑥ 동북아문\"| __truncated__\n",
      "  ..$ meta   :List of 7\n",
      "  .. ..$ author       : chr(0) \n",
      "  .. ..$ datetimestamp: POSIXlt[1:1], format: \"2019-01-29 00:04:23\"\n",
      "  .. ..$ description  : chr(0) \n",
      "  .. ..$ heading      : chr(0) \n",
      "  .. ..$ id           : chr \"kp2014a.txt\"\n",
      "  .. ..$ language     : chr \"en\"\n",
      "  .. ..$ origin       : chr(0) \n",
      "  .. ..- attr(*, \"class\")= chr \"TextDocumentMeta\"\n",
      "  ..- attr(*, \"class\")= chr [1:2] \"PlainTextDocument\" \"TextDocument\"\n",
      " $ kp2014b.txt:List of 2\n",
      "  ..$ content: chr \"SNS(Social Network Service) 공간에서는 다양한 유형의 인간-관계를 유지·형성하는 것이 가능하다.\\t 본 연구는 SNS \"| __truncated__\n",
      "  ..$ meta   :List of 7\n",
      "  .. ..$ author       : chr(0) \n",
      "  .. ..$ datetimestamp: POSIXlt[1:1], format: \"2019-01-29 00:04:23\"\n",
      "  .. ..$ description  : chr(0) \n",
      "  .. ..$ heading      : chr(0) \n",
      "  .. ..$ id           : chr \"kp2014b.txt\"\n",
      "  .. ..$ language     : chr \"en\"\n",
      "  .. ..$ origin       : chr(0) \n",
      "  .. ..- attr(*, \"class\")= chr \"TextDocumentMeta\"\n",
      "  ..- attr(*, \"class\")= chr [1:2] \"PlainTextDocument\" \"TextDocument\"\n",
      " $ kp2014c.txt:List of 2\n",
      "  ..$ content: chr \"본 연구는 인터넷(Internet)을 통한 커뮤니케이션이 사회적 규범 변화에 미치는 영향을 주목했다. \\t\\t\\t구체적으로 인\"| __truncated__\n",
      "  ..$ meta   :List of 7\n",
      "  .. ..$ author       : chr(0) \n",
      "  .. ..$ datetimestamp: POSIXlt[1:1], format: \"2019-01-29 00:04:23\"\n",
      "  .. ..$ description  : chr(0) \n",
      "  .. ..$ heading      : chr(0) \n",
      "  .. ..$ id           : chr \"kp2014c.txt\"\n",
      "  .. ..$ language     : chr \"en\"\n",
      "  .. ..$ origin       : chr(0) \n",
      "  .. ..- attr(*, \"class\")= chr \"TextDocumentMeta\"\n",
      "  ..- attr(*, \"class\")= chr [1:2] \"PlainTextDocument\" \"TextDocument\"\n",
      " $ kp2014d.txt:List of 2\n",
      "  ..$ content: chr \"이 연구의 목적은 TV 건강프로그램 시청경험이 어떻게 시청자의 건강증진행동으로 이어지는가를 밝히는 것이다. 이를 \"| __truncated__\n",
      "  ..$ meta   :List of 7\n",
      "  .. ..$ author       : chr(0) \n",
      "  .. ..$ datetimestamp: POSIXlt[1:1], format: \"2019-01-29 00:04:23\"\n",
      "  .. ..$ description  : chr(0) \n",
      "  .. ..$ heading      : chr(0) \n",
      "  .. ..$ id           : chr \"kp2014d.txt\"\n",
      "  .. ..$ language     : chr \"en\"\n",
      "  .. ..$ origin       : chr(0) \n",
      "  .. ..- attr(*, \"class\")= chr \"TextDocumentMeta\"\n",
      "  ..- attr(*, \"class\")= chr [1:2] \"PlainTextDocument\" \"TextDocument\"\n",
      " $ kp2016a.txt:List of 2\n",
      "  ..$ content: chr \"본 연구는   신문사에 칼럼을 기고하는 외부 필진(1회이상/1개월)과 일반 신문 이용자의 정파적 미디어 이용행태가 어\"| __truncated__\n",
      "  ..$ meta   :List of 7\n",
      "  .. ..$ author       : chr(0) \n",
      "  .. ..$ datetimestamp: POSIXlt[1:1], format: \"2019-01-29 00:04:23\"\n",
      "  .. ..$ description  : chr(0) \n",
      "  .. ..$ heading      : chr(0) \n",
      "  .. ..$ id           : chr \"kp2016a.txt\"\n",
      "  .. ..$ language     : chr \"en\"\n",
      "  .. ..$ origin       : chr(0) \n",
      "  .. ..- attr(*, \"class\")= chr \"TextDocumentMeta\"\n",
      "  ..- attr(*, \"class\")= chr [1:2] \"PlainTextDocument\" \"TextDocument\"\n",
      " $ kp2016b.txt:List of 2\n",
      "  ..$ content: chr \"본 연구는 최근 인기를 끄는 음식프로그램 시청이 시청자에게 어떠한 심리적 욕구를 충족시키며 주관적 행복감 증진에 \"| __truncated__\n",
      "  ..$ meta   :List of 7\n",
      "  .. ..$ author       : chr(0) \n",
      "  .. ..$ datetimestamp: POSIXlt[1:1], format: \"2019-01-29 00:04:23\"\n",
      "  .. ..$ description  : chr(0) \n",
      "  .. ..$ heading      : chr(0) \n",
      "  .. ..$ id           : chr \"kp2016b.txt\"\n",
      "  .. ..$ language     : chr \"en\"\n",
      "  .. ..$ origin       : chr(0) \n",
      "  .. ..- attr(*, \"class\")= chr \"TextDocumentMeta\"\n",
      "  ..- attr(*, \"class\")= chr [1:2] \"PlainTextDocument\" \"TextDocument\"\n",
      " $ kp2016c.txt:List of 2\n",
      "  ..$ content: chr \"본 연구의 목적은 사람들의 건강관련 신념과 정치관련 신념이 어떤 관계를 맺고 있으며, 이러한 신념이 2015년 한국의 \"| __truncated__\n",
      "  ..$ meta   :List of 7\n",
      "  .. ..$ author       : chr(0) \n",
      "  .. ..$ datetimestamp: POSIXlt[1:1], format: \"2019-01-29 00:04:23\"\n",
      "  .. ..$ description  : chr(0) \n",
      "  .. ..$ heading      : chr(0) \n",
      "  .. ..$ id           : chr \"kp2016c.txt\"\n",
      "  .. ..$ language     : chr \"en\"\n",
      "  .. ..$ origin       : chr(0) \n",
      "  .. ..- attr(*, \"class\")= chr \"TextDocumentMeta\"\n",
      "  ..- attr(*, \"class\")= chr [1:2] \"PlainTextDocument\" \"TextDocument\"\n",
      " $ kp2016d.txt:List of 2\n",
      "  ..$ content: chr [1:7] \"\" \"\" \"본 연구는 서울시의 25개 구에서 120명씩 성별·연령별 할당표집한 서울시민들을 설문조사한 데이터를 활용하여 마을 \"| __truncated__ \"‘탈물질주의 가치지향’은 마을 공동체 활동은 환경보호나 공동육아 등 기존의 정치·경제적 제도가 추구했던 가치와\"| __truncated__ ...\n",
      "  ..$ meta   :List of 7\n",
      "  .. ..$ author       : chr(0) \n",
      "  .. ..$ datetimestamp: POSIXlt[1:1], format: \"2019-01-29 00:04:23\"\n",
      "  .. ..$ description  : chr(0) \n",
      "  .. ..$ heading      : chr(0) \n",
      "  .. ..$ id           : chr \"kp2016d.txt\"\n",
      "  .. ..$ language     : chr \"en\"\n",
      "  .. ..$ origin       : chr(0) \n",
      "  .. ..- attr(*, \"class\")= chr \"TextDocumentMeta\"\n",
      "  ..- attr(*, \"class\")= chr [1:2] \"PlainTextDocument\" \"TextDocument\"\n",
      " $ kp2016e.txt:List of 2\n",
      "  ..$ content: chr \"\\t\\t본 연구는 공익 연계 마케팅에서 추구하는 사회적 가치와 기업 활동의 관련성이 공익 연계 광고태도와 기업태도에 \"| __truncated__\n",
      "  ..$ meta   :List of 7\n",
      "  .. ..$ author       : chr(0) \n",
      "  .. ..$ datetimestamp: POSIXlt[1:1], format: \"2019-01-29 00:04:23\"\n",
      "  .. ..$ description  : chr(0) \n",
      "  .. ..$ heading      : chr(0) \n",
      "  .. ..$ id           : chr \"kp2016e.txt\"\n",
      "  .. ..$ language     : chr \"en\"\n",
      "  .. ..$ origin       : chr(0) \n",
      "  .. ..- attr(*, \"class\")= chr \"TextDocumentMeta\"\n",
      "  ..- attr(*, \"class\")= chr [1:2] \"PlainTextDocument\" \"TextDocument\"\n",
      " $ kp2016f.txt:List of 2\n",
      "  ..$ content: chr \"이 연구는 \\t\\t최근 활발히 진행되고 있는 마을공동체 사업의 실천이론이 되는 소통행위(communicative action)이론들\"| __truncated__\n",
      "  ..$ meta   :List of 7\n",
      "  .. ..$ author       : chr(0) \n",
      "  .. ..$ datetimestamp: POSIXlt[1:1], format: \"2019-01-29 00:04:23\"\n",
      "  .. ..$ description  : chr(0) \n",
      "  .. ..$ heading      : chr(0) \n",
      "  .. ..$ id           : chr \"kp2016f.txt\"\n",
      "  .. ..$ language     : chr \"en\"\n",
      "  .. ..$ origin       : chr(0) \n",
      "  .. ..- attr(*, \"class\")= chr \"TextDocumentMeta\"\n",
      "  ..- attr(*, \"class\")= chr [1:2] \"PlainTextDocument\" \"TextDocument\"\n",
      " $ kp2016g.txt:List of 2\n",
      "  ..$ content: chr [1:3] \"본 논문은 커뮤니케이션 관점을 통해 전 세계적으로 나타나는 (1)포퓰리즘 현상의 의미는 무엇이며, \\t(2)왜 그리고 (3\"| __truncated__ \"\" \"둘째, [1]포퓰리즘 현상들을 관통하는 특징들은 무엇이며 [2] 언제 어떤 조건에서 포퓰리즘이 등장하는지 설명한 후, \"| __truncated__\n",
      "  ..$ meta   :List of 7\n",
      "  .. ..$ author       : chr(0) \n",
      "  .. ..$ datetimestamp: POSIXlt[1:1], format: \"2019-01-29 00:04:23\"\n",
      "  .. ..$ description  : chr(0) \n",
      "  .. ..$ heading      : chr(0) \n",
      "  .. ..$ id           : chr \"kp2016g.txt\"\n",
      "  .. ..$ language     : chr \"en\"\n",
      "  .. ..$ origin       : chr(0) \n",
      "  .. ..- attr(*, \"class\")= chr \"TextDocumentMeta\"\n",
      "  ..- attr(*, \"class\")= chr [1:2] \"PlainTextDocument\" \"TextDocument\"\n",
      " $ kp2016h.txt:List of 2\n",
      "  ..$ content: chr \"\\t본 논문의 목적은 언론학 교육과정(curriculum) 개선논의의 등장배경과 역사를 서술하고 그 필요성/방향성을 제시하\"| __truncated__\n",
      "  ..$ meta   :List of 7\n",
      "  .. ..$ author       : chr(0) \n",
      "  .. ..$ datetimestamp: POSIXlt[1:1], format: \"2019-01-29 00:04:23\"\n",
      "  .. ..$ description  : chr(0) \n",
      "  .. ..$ heading      : chr(0) \n",
      "  .. ..$ id           : chr \"kp2016h.txt\"\n",
      "  .. ..$ language     : chr \"en\"\n",
      "  .. ..$ origin       : chr(0) \n",
      "  .. ..- attr(*, \"class\")= chr \"TextDocumentMeta\"\n",
      "  ..- attr(*, \"class\")= chr [1:2] \"PlainTextDocument\" \"TextDocument\"\n",
      " - attr(*, \"class\")= chr [1:2] \"VCorpus\" \"Corpus\"\n"
     ]
    }
   ],
   "source": [
    "# 말뭉치 객체의 내부구조정보 확인\n",
    "str(my)\n",
    "# - 말뭉치 자체가 19개 텍스트문서로 구성된 리스트객체임\n",
    "# - 말뭉치에 결합된 각 문서들은 PlainTextDocument 포맷양식이며, 또한 리스트 구조임 \n",
    "# - 즉 말뭉치를 구성하는 각 리스트항목(문서) 별로 세부 리스트객체의 길이(Length)가 2개인데, \n",
    "#   1개는 문서내용($content)이며, 또 다른 1개는 해당 문서에 대한 메타($meta) 정보를 가지고 있는 구조임\n",
    "# - 메타항목을 보면 각 파일별 id(파일명)와 생성시점(datetimestamp), 사용언어(language)가 확인되며, \n",
    "#   다른 메타항목은 별도 정보가 없는 상태임\n",
    "\n",
    "# 주의\n",
    "# - 각 리스트항목(문서)별 세부 리스트항목 2개 요소 중에서 $content를 보면 \n",
    "#   문서에 따라 content의 구성내용이 1개 문자열로 구성된 것도 있고, 2개 이상의 여러 개 문자열 요소로 구성되어 있는 경우도 있음\n",
    "# - 이것은 해당 문서파일에 엔터키(\\n)표시가 군데 군데 있어서 여러 개의 문단으로 구별되어 있기 때문임\n",
    "# ==> 말뭉치에 대한 전처리 작업시 각 리스트항목별로 구성요소갯수가 달라서 오류가 발생하므로\n",
    "#     모든 리스트항목(문서) 별로 동일한 조건인 1개 문자열 요소상태로 만들어 주어야 함"
   ]
  },
  {
   "cell_type": "code",
   "execution_count": 22,
   "metadata": {
    "scrolled": true
   },
   "outputs": [
    {
     "name": "stdout",
     "output_type": "stream",
     "text": [
      "        kp2004a.txt kp2005a.txt kp2005b.txt kp2012a.txt kp2012b.txt kp2013a.txt\n",
      "content           1           4           2           3          12           5\n",
      "meta              7           7           7           7           7           7\n",
      "        kp2013b.txt kp2014a.txt kp2014b.txt kp2014c.txt kp2014d.txt kp2016a.txt\n",
      "content           2           3           1           1           1           1\n",
      "meta              7           7           7           7           7           7\n",
      "        kp2016b.txt kp2016c.txt kp2016d.txt kp2016e.txt kp2016f.txt kp2016g.txt\n",
      "content           1           1           7           1           1           3\n",
      "meta              7           7           7           7           7           7\n",
      "        kp2016h.txt\n",
      "content           1\n",
      "meta              7\n"
     ]
    },
    {
     "data": {
      "text/html": [
       "'matrix'"
      ],
      "text/latex": [
       "'matrix'"
      ],
      "text/markdown": [
       "'matrix'"
      ],
      "text/plain": [
       "[1] \"matrix\""
      ]
     },
     "metadata": {},
     "output_type": "display_data"
    }
   ],
   "source": [
    "# 말뭉치 객체의 각 문서별 content 항목의 세부요소갯수 파악 \n",
    "sapply(my, lengths) %>% print %>% class\n",
    "\n",
    "# - 말뭉치를 구성하고 있는 각 리스트항목(문서)에 데이터순환방식으로 접근해 \n",
    "#   content 항목의 길이를 카운팅하고, 결과를 행렬구조로 보여줌\n",
    "# - 문서파일 중 일부는 content항목의 길이가 1로 나와서 1개의 문자열로 구성되어 있지만,\n",
    "#   다른 문서파일들의 경우에는 들어 있는 content항목의 길이가 여러 개로 파악되고 있어\n",
    "#   이를 1개의 문자열 데이터로 결합해주는 작업이 필요함"
   ]
  },
  {
   "cell_type": "code",
   "execution_count": 23,
   "metadata": {
    "scrolled": true
   },
   "outputs": [
    {
     "name": "stdout",
     "output_type": "stream",
     "text": [
      "$kp2004a.txt\n",
      "content    meta \n",
      "      1       7 \n",
      "\n",
      "$kp2005a.txt\n",
      "content    meta \n",
      "      4       7 \n",
      "\n",
      "$kp2005b.txt\n",
      "content    meta \n",
      "      2       7 \n",
      "\n",
      "$kp2012a.txt\n",
      "content    meta \n",
      "      3       7 \n",
      "\n",
      "$kp2012b.txt\n",
      "content    meta \n",
      "     12       7 \n",
      "\n",
      "$kp2013a.txt\n",
      "content    meta \n",
      "      5       7 \n",
      "\n",
      "$kp2013b.txt\n",
      "content    meta \n",
      "      2       7 \n",
      "\n",
      "$kp2014a.txt\n",
      "content    meta \n",
      "      3       7 \n",
      "\n",
      "$kp2014b.txt\n",
      "content    meta \n",
      "      1       7 \n",
      "\n",
      "$kp2014c.txt\n",
      "content    meta \n",
      "      1       7 \n",
      "\n",
      "$kp2014d.txt\n",
      "content    meta \n",
      "      1       7 \n",
      "\n",
      "$kp2016a.txt\n",
      "content    meta \n",
      "      1       7 \n",
      "\n",
      "$kp2016b.txt\n",
      "content    meta \n",
      "      1       7 \n",
      "\n",
      "$kp2016c.txt\n",
      "content    meta \n",
      "      1       7 \n",
      "\n",
      "$kp2016d.txt\n",
      "content    meta \n",
      "      7       7 \n",
      "\n",
      "$kp2016e.txt\n",
      "content    meta \n",
      "      1       7 \n",
      "\n",
      "$kp2016f.txt\n",
      "content    meta \n",
      "      1       7 \n",
      "\n",
      "$kp2016g.txt\n",
      "content    meta \n",
      "      3       7 \n",
      "\n",
      "$kp2016h.txt\n",
      "content    meta \n",
      "      1       7 \n",
      "\n"
     ]
    },
    {
     "data": {
      "text/html": [
       "'list'"
      ],
      "text/latex": [
       "'list'"
      ],
      "text/markdown": [
       "'list'"
      ],
      "text/plain": [
       "[1] \"list\""
      ]
     },
     "metadata": {},
     "output_type": "display_data"
    }
   ],
   "source": [
    "# 말뭉치 객체의 각 문서별 content 항목의 세부요소갯수 파악\n",
    "lapply(my, lengths) %>% print %>% class\n",
    "\n",
    "# - 말뭉치를 구성하고 있는 각 리스트항목(문서)에 데이터순환방식으로 접근해 \n",
    "#   content 항목의 길이를 카운팅하고, 결과를 리스트구조로 보여줌\n",
    "# - 문서파일 중 일부는 content항목의 길이가 1로 나와서 1개의 문자열로 구성되어 있지만,\n",
    "#   다른 문서파일들의 경우에는 들어 있는 content항목의 길이가 여러 개로 파악되고 있어\n",
    "#   이를 1개의 문자열 데이터로 결합해주는 작업이 필요함"
   ]
  },
  {
   "cell_type": "markdown",
   "metadata": {},
   "source": [
    "## 말뭉치 세부 내용 파악"
   ]
  },
  {
   "cell_type": "markdown",
   "metadata": {},
   "source": [
    "### 말뭉치 문서별 특성파악 "
   ]
  },
  {
   "cell_type": "code",
   "execution_count": 24,
   "metadata": {},
   "outputs": [
    {
     "data": {
      "text/plain": [
       "<<PlainTextDocument>>\n",
       "Metadata:  7\n",
       "Content:  chars: 652"
      ]
     },
     "metadata": {},
     "output_type": "display_data"
    },
    {
     "data": {
      "text/plain": [
       "<<PlainTextDocument>>\n",
       "Metadata:  7\n",
       "Content:  chars: 652"
      ]
     },
     "metadata": {},
     "output_type": "display_data"
    },
    {
     "data": {
      "text/plain": [
       "<<PlainTextDocument>>\n",
       "Metadata:  7\n",
       "Content:  chars: 613"
      ]
     },
     "metadata": {},
     "output_type": "display_data"
    },
    {
     "data": {
      "text/plain": [
       "<<PlainTextDocument>>\n",
       "Metadata:  7\n",
       "Content:  chars: 613"
      ]
     },
     "metadata": {},
     "output_type": "display_data"
    }
   ],
   "source": [
    "# 말뭉치 중 특정 문서에 대한 기본특성조회\n",
    "# - 2가지 방식으로 접근가능함\n",
    "#   (1) 결합된 순서대로 부여받는 숫자인덱스를 이용한 방식\n",
    "#   (2) 문서결합시 리스트항목병으로 자동설정된 문서명으로 인덱싱 \n",
    "\n",
    "my[[1]]\n",
    "my[['kp2004a.txt']] \n",
    "# - 코퍼스객체를 구성하는 문서들 중 첫번째 문서의 \n",
    "#   기본 특성내용 파악: 메타데이터 항목이 7개, 글자수는 629개 글자\n",
    "\n",
    "my[[5]]\n",
    "my[['kp2012b.txt']]\n",
    "# - 코퍼스객체를 구성하는 문서들 중 다섯번째 문서의 \n",
    "#   기본 특성내용 파악: 메타데이터 항목이 7개, 글자수는 591개 글자"
   ]
  },
  {
   "cell_type": "code",
   "execution_count": 25,
   "metadata": {},
   "outputs": [
    {
     "name": "stdout",
     "output_type": "stream",
     "text": [
      "[1] \"content\" \"meta\"   \n",
      "[1] \"content\" \"meta\"   \n",
      "[1] \"content\" \"meta\"   \n",
      "[1] \"content\" \"meta\"   \n"
     ]
    }
   ],
   "source": [
    "# 말뭉치를 특정문서 세부항목 확인\n",
    "# - 말뭉치를 구성하는 리스트항목(특정문서)별로 \n",
    "#   content와 meta라는 세부항목을 보유하고 있음을 알 수 있음 \n",
    "\n",
    "names(my[[1]]) %>% print \n",
    "names(my[['kp2004a.txt']] ) %>% print\n",
    "\n",
    "names(my[[5]]) %>% print\n",
    "names(my[['kp2012b.txt']]) %>% print"
   ]
  },
  {
   "cell_type": "code",
   "execution_count": 26,
   "metadata": {},
   "outputs": [
    {
     "name": "stdout",
     "output_type": "stream",
     "text": [
      "[1] \"   여론조사환경의 변화로 기존의 전화조사를 이용한 대표성 확보는 점차 어려워지고 있다. 이에 따라 기존 표본조사방법에 대한 대안으로 인터넷， 휴대전화와 같은 새로운 미디어를 이용한 \\\"대안적 여론조사\\\" 도입이 시도되고 있으며, 몇몇 사례들에서 성공을 거두었다. 그러나 시간과 비용을 절약하고 기존 표본조사방법의 한계를 극복할 수 있는 잠재력을 활용하기 위해서는 ‘대안적 여론조사방법이 갖고 있는 표본편파의 문제점이 극복되어 야 한다. 따라서 이 글은 ㄱ)'전통적인 조사방법'과 '대안적 조사방법'을 실제 여론조사’와의 비교와 이론적 분석을 토대로 “대안적 조사방법”의 특징과 문제점을 살펴보았다(Kim, et al., 2015). 아울러 대안적 조사방법이 갖는 비확률적 표집방법에 따른 문제점을 해결하는 방안으로 최큰 제기되는 새로운 가중치 부여방법인 ㄴ)성향-가중방법과 반복-비례가중법을 살펴보았다. 이들은 인구통계학적 특성만을 고려한 가중치 부여방법보다 비확률적 표집방법에 의한 편차를 줄이는 데 효과적 방법으로 평가받고 있다. 그러나 통계학적 문제점들과 적용사례가 기존연구방법론 대비 1/10 정도수준으로 충분치 많다는 점, 그리고 몇몇 치명적인 실패사례들은 대안적 여론조사방법이 활용되기 위한 보정방법에 관한 지속적인 추후연구가 필요함을 보여주고 있다.\\t \\t\"\n"
     ]
    },
    {
     "data": {
      "text/html": [
       "1"
      ],
      "text/latex": [
       "1"
      ],
      "text/markdown": [
       "1"
      ],
      "text/plain": [
       "[1] 1"
      ]
     },
     "metadata": {},
     "output_type": "display_data"
    },
    {
     "name": "stdout",
     "output_type": "stream",
     "text": [
      "[1] 652\n"
     ]
    }
   ],
   "source": [
    "# 말뭉치 중 특정문서의 내용(content)확인\n",
    "my[[1]]$content %>% print\n",
    "# - 큰따옴표로 열고/닫은 형태의 단일한 1개의 문자열 데이터임을 알 수 있음\n",
    "\n",
    "my[[1]]$content %>% length\n",
    "# - 큰따옴표로 열고/닫은 형태의 단일한 1개의 문자열이므로 길이도 1로 나옴\n",
    "\n",
    "# 말뭉치 중 특정문서의 글자수(nuber of character)확인\n",
    "my[[1]]$content %>% str_length %>% print\n",
    "# - 1개 문자열이 가지고 있는 글자수"
   ]
  },
  {
   "cell_type": "code",
   "execution_count": 27,
   "metadata": {},
   "outputs": [
    {
     "name": "stdout",
     "output_type": "stream",
     "text": [
      " [1] \"\"                                                                                                                                                                                                                                                                                                                                                                               \n",
      " [2] \" 인터넷 이용의 심리적/사회적 효과에 관한 연구에서  이용시간 변수는 핵심적 변수 역할을 하고 있다. \"                                                                                                                                                                                                                                                                              \n",
      " [3] \"많은 연구들이 자기응답방식을 통해서 인터넷 이용시간을 측정하지만, 자기응답방식을 통한 인간의 행동측정은 과도응답의 위험성에 100% 노출되어 있다는 문제점이 있다.\"                                                                                                                                                                                                                \n",
      " [4] \"    \"                                                                                                                                                                                                                                                                                                                                                                           \n",
      " [5] \"이번 연구에서는 (1) 관행적인 [자기응답방식]으로 얻어진 인터넷의 이용시간이 기계측정방식으로 얻어진  이용시간에 비하여 과도응답이 나타나는지, 그리고 (2) 선행연구들에서 제시된 가설들을 통해 과도응답을 일으키는 이유가 무엇인지 탐구하였다. \"                                                                                                                                   \n",
      " [6] \"도출된 ‘적정응답가설’, ‘추정오류가설’, 그리고 ‘사회요망성가설’들 중 ‘추정오류가설’이 경험적 지지를 얻은 반면, 다른 두 가설들은 가설예측과 정반대의 결과를 보이는 것으로    나타났다. \"                                                                                                                                                                                  \n",
      " [7] \"\"                                                                                                                                                                                                                                                                                                                                                                               \n",
      " [8] \"또한 (3) 자기응답방식으로 얻어진 이용시간이 연구문제 및 가설검증에 어떠한 미치는지를 기계측정방식으로 얻어진 이용시간과의 비교를 통해, 자기응답방식으로 얻어진 인터넷 이용시간으로 응답자의 인터넷에     대한 주관적인 평가(‘자신의 인터넷 행위 인식’ 및 (4)‘다른 인터넷 이용자에 대한 인식’)를 예측할 경우 타입-I(type-1) 오류를 범할 가능성이 높다는 결과를 발견하였다.\\t\"\n",
      " [9] \"\"                                                                                                                                                                                                                                                                                                                                                                               \n",
      "[10] \"\"                                                                                                                                                                                                                                                                                                                                                                               \n",
      "[11] \"\"                                                                                                                                                                                                                                                                                                                                                                               \n",
      "[12] \"\\t\"                                                                                                                                                                                                                                                                                                                                                                             \n"
     ]
    },
    {
     "data": {
      "text/html": [
       "12"
      ],
      "text/latex": [
       "12"
      ],
      "text/markdown": [
       "12"
      ],
      "text/plain": [
       "[1] 12"
      ]
     },
     "metadata": {},
     "output_type": "display_data"
    },
    {
     "name": "stdout",
     "output_type": "stream",
     "text": [
      " [1]   0  57  91   4 136 108   0 216   0   0   0   1\n"
     ]
    }
   ],
   "source": [
    "## 말뭉치 중 특정문서의 내용(content)확인\n",
    "my[[5]]$content %>% print\n",
    "# - 큰따옴표로 열고/닫은 형태가 여러개로 관찰되는 데이터임을 알 수 있음\n",
    "\n",
    "my[[5]]$content %>% length\n",
    "# - 큰따옴표로 열고/닫은 형태가 여러 개로 관찰되므로 길이도 12개로 나옴\n",
    "# - 해당 문서에 문단을 구별하는 엔터키(\\n) 기호가 여러 개 포함되어 있기 때문인데, \n",
    "#   일부 문단들 문장없이 공백이나 엔터키, 탭키로만 내용이 구성되어 있음을 알 수 있음\n",
    "\n",
    "# 말뭉치 중 특정문서의 글자수(nuber of character)확인\n",
    "my[[5]]$content %>% str_length %>% print\n",
    "# - 각 문자열이 가지고 있는 각각의 글자수"
   ]
  },
  {
   "cell_type": "code",
   "execution_count": 28,
   "metadata": {
    "scrolled": true
   },
   "outputs": [
    {
     "data": {
      "text/plain": [
       "  author       : character(0)\n",
       "  datetimestamp: 2019-01-29 00:04:23\n",
       "  description  : character(0)\n",
       "  heading      : character(0)\n",
       "  id           : kp2004a.txt\n",
       "  language     : en\n",
       "  origin       : character(0)"
      ]
     },
     "metadata": {},
     "output_type": "display_data"
    }
   ],
   "source": [
    "# 말뭉치 중 특정문서의 메타정보(meta)확인\n",
    "my[[1]]$meta"
   ]
  },
  {
   "cell_type": "code",
   "execution_count": 29,
   "metadata": {},
   "outputs": [
    {
     "data": {
      "text/plain": [
       "  author       : character(0)\n",
       "  datetimestamp: 2019-01-29 00:04:23\n",
       "  description  : character(0)\n",
       "  heading      : character(0)\n",
       "  id           : kp2012b.txt\n",
       "  language     : en\n",
       "  origin       : character(0)"
      ]
     },
     "metadata": {},
     "output_type": "display_data"
    }
   ],
   "source": [
    "# 말뭉치 중 특정문서의 메타정보(meta)확인\n",
    "my[[5]]$meta"
   ]
  },
  {
   "cell_type": "code",
   "execution_count": 30,
   "metadata": {},
   "outputs": [
    {
     "data": {
      "text/plain": [
       "  author       : 백영민\n",
       "  datetimestamp: 2019-01-29 00:04:23\n",
       "  description  : 퍼블리싱된 한글논문의 초록\n",
       "  heading      : character(0)\n",
       "  id           : kp2004a.txt\n",
       "  language     : en\n",
       "  origin       : character(0)"
      ]
     },
     "metadata": {},
     "output_type": "display_data"
    }
   ],
   "source": [
    "# 말뭉치 중 특정문서의 메타정보(meta) 업데이트\n",
    "meta(my[[1]], tag = 'author') <- '백영민'\n",
    "meta(my[[1]], tag = 'description') <- '퍼블리싱된 한글논문의 초록'\n",
    "\n",
    "my[[1]]$meta"
   ]
  },
  {
   "cell_type": "code",
   "execution_count": 31,
   "metadata": {
    "scrolled": true
   },
   "outputs": [
    {
     "data": {
      "text/plain": [
       "  author       : 백영민\n",
       "  datetimestamp: 2019-01-29 00:04:23\n",
       "  description  : 초록내용에 엔터키와 탭키 등의 간격/공백/제어 문자들이 있어서 여러개 문자열 요소로 구성되어 있음\n",
       "  heading      : character(0)\n",
       "  id           : kp2012b.txt\n",
       "  language     : en\n",
       "  origin       : character(0)"
      ]
     },
     "metadata": {},
     "output_type": "display_data"
    }
   ],
   "source": [
    "# 말뭉치 중 특정문서의 메타정보(meta) 업데이트\n",
    "meta(my[[5]], tag = 'author') <- '백영민'\n",
    "meta(my[[5]], tag = 'description') <- '초록내용에 엔터키와 탭키 등의 간격/공백/제어 문자들이 있어서 여러개 문자열 요소로 구성되어 있음'\n",
    "\n",
    "my[[5]]$meta"
   ]
  },
  {
   "cell_type": "markdown",
   "metadata": {},
   "source": [
    "### 말뭉치 전체 내용조회"
   ]
  },
  {
   "cell_type": "code",
   "execution_count": 32,
   "metadata": {
    "scrolled": true
   },
   "outputs": [
    {
     "name": "stdout",
     "output_type": "stream",
     "text": [
      "$kp2004a.txt.content\n",
      "[1] \"   여론조사환경의 변화로 기존의 전화조사를 이용한 대표성 확보는 점차 어려워지고 있다. 이에 따라 기존 표본조사방법에 대한 대안으로 인터넷， 휴대전화와 같은 새로운 미디어를 이용한 \\\"대안적 여론조사\\\" 도입이 시도되고 있으며, 몇몇 사례들에서 성공을 거두었다. 그러나 시간과 비용을 절약하고 기존 표본조사방법의 한계를 극복할 수 있는 잠재력을 활용하기 위해서는 ‘대안적 여론조사방법이 갖고 있는 표본편파의 문제점이 극복되어 야 한다. 따라서 이 글은 ㄱ)'전통적인 조사방법'과 '대안적 조사방법'을 실제 여론조사’와의 비교와 이론적 분석을 토대로 “대안적 조사방법”의 특징과 문제점을 살펴보았다(Kim, et al., 2015). 아울러 대안적 조사방법이 갖는 비확률적 표집방법에 따른 문제점을 해결하는 방안으로 최큰 제기되는 새로운 가중치 부여방법인 ㄴ)성향-가중방법과 반복-비례가중법을 살펴보았다. 이들은 인구통계학적 특성만을 고려한 가중치 부여방법보다 비확률적 표집방법에 의한 편차를 줄이는 데 효과적 방법으로 평가받고 있다. 그러나 통계학적 문제점들과 적용사례가 기존연구방법론 대비 1/10 정도수준으로 충분치 많다는 점, 그리고 몇몇 치명적인 실패사례들은 대안적 여론조사방법이 활용되기 위한 보정방법에 관한 지속적인 추후연구가 필요함을 보여주고 있다.\\t \\t\"\n",
      "\n",
      "$kp2005a.txt.content\n",
      "[1] \"\\t이  논문은 커뮤니케이션 정책연구에 대한 부정적 인식의 본질과 원인을 밝히고, 20가지 현실적 개선방안을 생각해 보는 것을 목적으로 한다. 미디어의 발전과 더불어 커뮤니케이션  정책에 대한 사회적 수요는 증가되고 있다.    이에  따라 많은 커뮤니케이션 학자들이 \\\"정책연구\\\"에 직ㆍ간접적으로 개입되어 있음에도 불구하고, 정책 연구는 학계와 현업 모두에게서 인정받지 못하는 실정이다. \"                                                                                                                                                                                               \n",
      "[2] \"\"                                                                                                                                                                                                                                                                                                                                                                                                                                                                                                                                                                                    \n",
      "[3] \"\"                                                                                                                                                                                                                                                                                                                                                                                                                                                                                                                                                                                    \n",
      "[4] \"이러한 문제의식에서 이 연구는 커뮤니케이션 정책연구의 대상과 방법론, 국내외의 정책연구 동향, 그리고 정책연구를 둘러싼 논란 등을 차례로 살펴보았다. \\\"커뮤니케이션-정책연구\\\"는 학문과 현실을 연결짓는 중요한 사회과학적  실천학문이며, 커뮤니케이션 방법론의 문제나 학문적 비순수성//비실용성 등은 커뮤니케이션 정책연구의 구조와 잘못된 관행에서 온 편견이지 정책연구의 생래적 한계로 환원되지 않는다는 것이 이 연구의 결론이다. 커뮤니케이션 \\t학술연구와 정책연구를 구별하는 인식의 장애를 극복하면서 이론과 현실분석을 결합시켜가는 노력이 양자 모두의 발전을 위해 \\t필요하다.  \"\n",
      "\n",
      "$kp2005b.txt.content\n",
      "[1] \"지상파 방송사   조직문화에 대한 기존연구들은 연간 60건 정도에서 -13편 정도가 감소한 47편 정도로 나타났다. 방송사 내부의 이질적이고 상호-배타적인 하위문화들의 존재와 그 상호작용에 주목하지 못하고 있다. 본 논문에서는 자율성 선호도와 부서 내 응집도라는 두 축에 따라 네 가지 하위문화 유형을 구분한 후, 방송사내 부서들이 이중 어느 유형에 속하며, 이에 따라 공공성과 상업성 중 어느 방향의 가치지향성을 갖는지 분석하였다. 연구결과, 자율성과 응집도가 모두 높은 ‘공동체적 합의문화’ 유형에는 기술과 영상미술 부서들, 자율성은 높지만 응집도가 낮은 ‘개별화된 네트워크(Network) 문화’에는 라디오와 시사교양 부서가 속하는 것으로 드러났다. ㅡ([참고] 언론정보학연구)\\t\"\n",
      "[2] \"반면 부서의 자율성보다 조직 전체의 목교 추구를 중시하며 부서 내 응집도가 높은 ‘가부장적 문화’에는 보도/기획/편성 부서들, 전체 조직의 목표 추구를 중시하지만 부서 내 응집도가 낮은 ‘관료제적 문화’에는 인력자원 부서가 속하는 것으로 확인되었다... ㅡ가치지향성과 관련해 부서의 자율성을 중시할수록 방송사가 추구할  목표를 공익성으로 인식하는 반면, 전체 조직 목표를 중시할수록 상업성 방향으로 기울어 있음이 확인되었다.  \"                                                                                                                                                                                                                                             \n",
      "\n",
      "$kp2012a.txt.content\n",
      "[1] \"\\t최근 한국의 문화예술 분야에서 벌어지고 있는 역동적 변화를 이해하기 위해서는 창조-매개?소비의 상호작용에 관한 예술계 각 부문을 아우르는 시각으로 접근할 필요가 있다. 특히 문화산업의 발전으로 소비-지형에 대한 신뢰성 있는 연구의 필요성이 증대되었지만, 개별적으로 다양하게 이뤄지는 소비ㅡ행위를 측정하는데 어려움이 존재했다. \\t본 연구에서는 기존의 설문조사에 의존하는 문화예술 소비 연구의 대안으로,      온라인 구매 기록을 활용하는 /3가지 연구 방법/을 도입하였다. \"                                                                                                                                                                                                                                                                                                                                                                                                                                                                                                                               \n",
      "[2] \"\"                                                                                                                                                                                                                                                                                                                                                                                                                                                                                                                                                                                                                                                                                                                                                                                                                                                                                                                                                                                                            \n",
      "[3] \"구체적으로는 2000년대를 거치며 급격하게 성장한 공연예술에 주목하여, 2001∼2006년 사이에 티켓링크에서 비교적 꾸준하게 공연을 구매한 적극적인 문화소비자들(Active Performing-arts Consumer)의 구매기록을 분석했다. 이를 통해 실제로 문화를 소비하는 사람들의 특징과 시간(계절/월간/주간/일간)에 따른 문화소비의 양적 변화, 장르적 차원에서의 소비 내용 변화 및 문화소비다양성을 \\t확인함으로써 한국의 ‘문화소비’ 지형을 기술하는 것을 연구의 목적으로 한다. 연구 결과, 양적으로는 공연 예술 분야의 양적 팽창과 소비의 양극화 경향을, 소비내용에 있어서는 소비 저변의 확대와 소비다양성 감소 추세를 확인할 수 있었다. 최근의 통시적 변화를 보여주는 이러한 결과는 문화산업 분야의 전략/정책 수립과 예술경영 운영//관리방안 수립에 근거로서 활용될 수 있을 것이다. 다만, 온라인 구매 기록이 분석을 목적으로 한 자료가 아니라는   점에서 이론적 설명에 어려움이 있었다. --향후에는 ‘로그 데이터’ 분석에 기존의 사회과학 연구모델을 치밀하게 접목하는 등의 보다 융합적인 연구 시도가 필요할 것으로 보인다.ㅡㅡ\"\n",
      "\n",
      "$kp2012b.txt.content\n",
      " [1] \"\"                                                                                                                                                                                                                                                                                                                                                                               \n",
      " [2] \" 인터넷 이용의 심리적/사회적 효과에 관한 연구에서  이용시간 변수는 핵심적 변수 역할을 하고 있다. \"                                                                                                                                                                                                                                                                              \n",
      " [3] \"많은 연구들이 자기응답방식을 통해서 인터넷 이용시간을 측정하지만, 자기응답방식을 통한 인간의 행동측정은 과도응답의 위험성에 100% 노출되어 있다는 문제점이 있다.\"                                                                                                                                                                                                                \n",
      " [4] \"    \"                                                                                                                                                                                                                                                                                                                                                                           \n",
      " [5] \"이번 연구에서는 (1) 관행적인 [자기응답방식]으로 얻어진 인터넷의 이용시간이 기계측정방식으로 얻어진  이용시간에 비하여 과도응답이 나타나는지, 그리고 (2) 선행연구들에서 제시된 가설들을 통해 과도응답을 일으키는 이유가 무엇인지 탐구하였다. \"                                                                                                                                   \n",
      " [6] \"도출된 ‘적정응답가설’, ‘추정오류가설’, 그리고 ‘사회요망성가설’들 중 ‘추정오류가설’이 경험적 지지를 얻은 반면, 다른 두 가설들은 가설예측과 정반대의 결과를 보이는 것으로    나타났다. \"                                                                                                                                                                                  \n",
      " [7] \"\"                                                                                                                                                                                                                                                                                                                                                                               \n",
      " [8] \"또한 (3) 자기응답방식으로 얻어진 이용시간이 연구문제 및 가설검증에 어떠한 미치는지를 기계측정방식으로 얻어진 이용시간과의 비교를 통해, 자기응답방식으로 얻어진 인터넷 이용시간으로 응답자의 인터넷에     대한 주관적인 평가(‘자신의 인터넷 행위 인식’ 및 (4)‘다른 인터넷 이용자에 대한 인식’)를 예측할 경우 타입-I(type-1) 오류를 범할 가능성이 높다는 결과를 발견하였다.\\t\"\n",
      " [9] \"\"                                                                                                                                                                                                                                                                                                                                                                               \n",
      "[10] \"\"                                                                                                                                                                                                                                                                                                                                                                               \n",
      "[11] \"\"                                                                                                                                                                                                                                                                                                                                                                               \n",
      "[12] \"\\t\"                                                                                                                                                                                                                                                                                                                                                                             \n",
      "\n",
      "$kp2013a.txt.content\n",
      "[1] \"\"                                                                                                                                                                                                                                                                                                                                                                                                                                                                                                                                                                                                                                                                                                                                                                                                                                                                                                                                                                                                                  \n",
      "[2] \"\"                                                                                                                                                                                                                                                                                                                                                                                                                                                                                                                                                                                                                                                                                                                                                                                                                                                                                                                                                                                                                  \n",
      "[3] \"이 연구는 정치인의 말하기 방식에 따라 해당정치인에 대한 개인적 윤리적/도덕성 평가는 물론 정치전반에 대한 신뢰와 냉소주의에 미치는 영향을 가상적 ”인사청문회”   상황을 이용한 실험연구를 통해 살펴보았다. 선행연구에 기반하여 의혹에 싸인 정치인이 채택할 수 있는 정치적 말하기 방식을\\t (1) 부인(denial), (2) 정당화(justification), (3) 변명(excuse), (4) 참회(confession)로 구분한 후 각각의 해명효과를 살펴보기 위해서 의혹만 제기되고 해명은 제기되지 않는 (5) 해명 없음(no account)을 추가한 5가지의 실험조건을 준비하였다. 정치적 의혹이 제기되고 해명되는 정치적  상황으로는 ‘고위공직자 인사청문회’를 선택하였다. 실험결과 ‘정당화’와 ‘참회’ 전략에서 해당정치인에 대해 상대적으로 높은 도덕적 \\t\\t평가가 나타났다. 정치전반에 대한 신뢰의 경우 오직 ‘참회’ 전략만이 국민들의 정치신뢰를 고양시킬 수 있는 것으로 나타났다.     이 연구는 정치인의 말하기 방식이 개별정치인의 ‘평판관리 전략’을 넘어서 ‘좋은 민주주의’의 조건 중 하나인 ‘정치신뢰’를 낳을 수도 있다는 것을 보여주고 있다.\\t\"\n",
      "[4] \"\"                                                                                                                                                                                                                                                                                                                                                                                                                                                                                                                                                                                                                                                                                                                                                                                                                                                                                                                                                                                                                  \n",
      "[5] \"\"                                                                                                                                                                                                                                                                                                                                                                                                                                                                                                                                                                                                                                                                                                                                                                                                                                                                                                                                                                                                                  \n",
      "\n",
      "$kp2013b.txt.content\n",
      "[1] \"우리 연구는 ‘트위터(Twitter)’가 이용자들의 여론지각에 어떠한 영향을 미치는지를 ‘허위합의지각’을 중심으로 살펴보았다. 트위터는 많은 사람들이 참여하는 담론공간이지만, 인간관계가 선택적으로 구성되는 특징으로 비슷한 의견의 사람들끼리 상호작용하는 공간//장소에 불과하다는 지적도 있다. \\t\\t트위터(TWITTER)가 \\\"여론지각\\\"에 미치는 영향을 실증적으로 탐색하기 위해 우리는 <10회이상/1일>, <30회이상/1주일> 정도의 이용패턴을 가지는 트위터 이용자들이 비이용자들에 비해 실제로 '허위합의지각'이 높은지,   또한 트위터 이용자 집단 내에서 이들의 “이념강도”와 “네트워크 동질성”의 인식이 허위합의 지각에 어떤 영향을 미치는지 살펴보았다.. 연구결과 /트위터/ 이용자가 비이용자에 비해 높은 허위합의지각을 보였을 뿐 아니라, 이용자 집단 내부에서도 동질성 인식이 높고 ‘이념강도’가 강할수록 잘못된 여론지각을 보이는 것을 부분적으로 확인할 수 있었다. 연구결과를 바탕으로 우리는 트위터 공간이 여론연구에 어떠한 함의를 갖는지 그리고 한국 민주주의에 어떠한 영향을 끼칠 것인지 논의하였다.   \"\n",
      "[2] \"\"                                                                                                                                                                                                                                                                                                                                                                                                                                                                                                                                                                                                                                                                                                                                                                                                                                                                                                                                                                                                         \n",
      "\n",
      "$kp2014a.txt.content\n",
      "[1] \"이 연구는 위키리크스를 통해서 공개된 주한 미국대사관의 외교전문들을 컴퓨터 언어처리 기법을 이용하여 분석한 것이다.  구체적으로   2006년 1월  1일부터 2010년 2월 25일까지  미국대사관에서 본국으로 발송한 1,080건의 ‘비밀’ 혹은 ‘대외비’ 외교전문들 중 64.7%를 분석하였다.   해당 시기는 본국인 미국과 주재국인 한국 모두에서 정권교체가 일어났던 시기였다. 한국의 정권교체를 ‘대등적-협력적’로 미국의 정권교체를 ‘일방적-상호적’로 단순화한 후 위키리크스에서 공개된 전문들을  (1)‘대등적－일방적’, (2)‘협력적－일방적’그리고 (3)‘협력적－상호적’의 세 기간으로 나누었다. \"                                                                                                                                                                   \n",
      "[2] \"\"                                                                                                                                                                                                                                                                                                                                                                                                                                                                                                                                                                                                                                                                                                                                                           \n",
      "[3] \"또한 공개된 외교전문들에서 \\t① 한국  내 정세, ②  북한관련, ③ 주한미군, ④ 남북경협, ⑤ 해외파병, ⑥ 동북아문제, ⑦ 한미통상의 주제들을, 그리고 긍정적/부정적 감정과 두 감정이 공존하는 양가감정(兩價感情)을 각각 (1)잠재적 디리쉴레분포 배치모형, (2)주성분 분석, 그리고 (3)LIWC 분석을 통하여 추출하였다. \\t분석결과, 첫째, 주제와 감정을 추출하는 컴퓨터 텍스트 분석은 일정수준의 타당성을 확보할 수 있었고, 둘째, 문서내의 주제와 감정의 변화는 주로 본국의 정권변화에 민감하게 반응하며, 주재국의 변화에는 그 변화가 상대적으로 적다는 사실을 확인할 수 있었다. 이 논문에서는 위키리크스 외교전문과 같은 대용량의 텍스트를 분석할 때 컴퓨터 언어처리 방식의 방법론적 타당성과 주재국-대사관-본국간의 외교 커뮤니케이션의 이론적 함의도 논의하였다.\\t\"\n",
      "\n",
      "$kp2014b.txt.content\n",
      "[1] \"SNS(Social Network Service) 공간에서는 다양한 유형의 인간-관계를 유지·형성하는 것이 가능하다.\\t 본 연구는 SNS 공간에서의 인간-관계유형을 ‘관계유지’\\t(기존 오프라인 관계가 SNS로 옮겨간 경우), ‘관계형성’ (SNS에서 새로이 형성된 경우), ‘관계회복’(끊어졌던 오프라인 관계가 SNS를 통해 회복된 경우)의 세 가지로 구분하였고, 각각의 관계망의 크기와 강도를 구분하였다. 또한 이에 영향을 받는 사회적 지지감 역시도 온라인/오프라인으로 구분한 후 각 관계망의 크기와 강도가어떠한 영향을 미치는지를 살펴보았다. 연구결과, 오프라인 사회적  지지감과 온라인 사회적 지지감은 서로 구분되며, SNS 관계망 유형별에 따라 다른 영향을 받는 것으로 나타났다. 구체적으로 모든 유형의 관계망 크기는 온/오프라인 사회적 지지감에 별다른 영향을 주지 못하였지만, 관계형성형 관계망 강도는 온라인 사회적 지지감에 그리고 관계유지형 관계망 강도는 오프라인 사회적 지지감에 +방향으로 긍정적 효과를 끼치는 것으로 나타났다. 결과에 대한 논의와 이론적 함의, 그리고 한계점은 결론부에서 구체적으로 논의하였다.\"\n",
      "\n",
      "$kp2014c.txt.content\n",
      "[1] \"본 연구는 인터넷(Internet)을 통한 커뮤니케이션이 사회적 규범 변화에 미치는 영향을 주목했다. \\t\\t\\t구체적으로 인터넷(internet) 이용의 빈도/방식의 차이가 세대 간의 규범 차이라는 결과로 이어지는지 그리고 만약 그렇다면 어떤 요인들이 이 과정을 매개하는지를 탐색했다. 사회적 규범의 형성과 변화에 관한 기존의 연구는 사회적 규범이  개인의 커뮤니케이션 경험에 따라 차이가 나며, 주관적으로 선택한 준거-집단과 교류 대상자에 영향을 받는다는 점에 주목하고 있다. 따라서 ㄱ)인터넷을 통해 어떤 커뮤니케이션 경험을 하는가?, ㄴ)어떤 준거집단을 선택했는가, ㄷ)어떤 대상과 교류하고 있는가에 따라 사회적 규범 변화에 미치는 영향이 달라질 것이라고 보았다. 전국 인터넷 이용자를 대상으로 진행한 서베이 자료를 통해 분석한 결과, 사회적 규범에 근간이 되는 가치관에는 연령집단 간 차이가 나지 않았으나 구체적 탈규범 행동에는 연령집단 간 차이가 유의미하게 나타났다. (p-value < 0.01) 사회적 규범은 온라인 행동과 오프라인 행동에서 유의미한 상관관계(r = 0.87)를 보였으며, 온라인 서술적 규범과 명령적 규범은 온라인 탈규범을 매개로 오프라인 탈규범에 영향을 미칠 수 있는 것으로 나타났다. \\t이를 통해 온라인 이용이 사회적 규범에 있어, 모든 세대에 걸쳐 온라인-행동과 오프라인-행동에 정(+)의 영향을 미친다는 점을 확인할 수 있었다.\"\n",
      "\n",
      "$kp2014d.txt.content\n",
      "[1] \"이 연구의 목적은 TV 건강프로그램 시청경험이 어떻게 시청자의 건강증진행동으로 이어지는가를 밝히는 것이다. 이를 위해 사회인지이론(ㅡBandura,  1977; 2004)과 \\t건강정보의 설득과정모형(ㅡMcGuire, 1981, 2001)에 기반하여 TV 건강프로그램 시청경험이 건강효능감에 미치는 영향과 건강효능감이 시청경험과 건강증진행동 사이에서 매개변수 역할을 하는 연구모형을 구축하였다. 연구를 위해 2013년 10월 18일부터 10월 23일까지 서울 및 서울 주변 신도시 거주 성인남녀 300명을 대상으로 설문조사 데이터를 수집하였다. 시청경험은 시청빈도, 신뢰도, 만족도의 세 개 변수로, 건강효능감과 건강증진행동은 운동, 식이습관 등 두 가지 하부 영역으로 구분하였다. 연구모형은 구조방정식 모형을 활용하여 검증하였다. 연구결과는 다음과 같다. 첫째, 시청자가 건강프로그램을 빈번하게 시청하고 프로그램 내용에 대한 만족감이 클 때 식이습관과 운동에 대한 건강효능감이 모두 증가하였다. 프로그램에 대한 신뢰도는 건강효능감에 유의미한 영향을 \\t미치지 않았다.(p > 0.05)     둘째, 운동 관련 건강효능감은 운동 관련 건강증진행동에, 식이습관 관련 건강효능감은 식이습관 관련 건강증진행동에 긍정적인 영향을 미쳤다. 건강효능감영역 간 교차효과는 발견되지 않았다. \\t\\t셋째, 시청경험 변수들 중에서 시청빈도만이 운동 관련 건강증진행동에 직접효과(direct effect)를 나타내었다. 즉 시청빈도는 운동 행동에 대해 직접효과와 (운동 관련 건강효능감을 경유하는) 간접효과를 모두 보였다. (p < 0.10)\"\n",
      "\n",
      "$kp2016a.txt.content\n",
      "[1] \"본 연구는   신문사에 칼럼을 기고하는 외부 필진(1회이상/1개월)과 일반 신문 이용자의 정파적 미디어 이용행태가 어떠한지를 살펴보았다. 이를 위해, 본 연구에서는 \\t보수ㆍ진보 신문에 대한 ‘균형 노출’, 이념성향이 일치하는 신문에 대한 ‘관점 일치 노출’, 이념/성향과 일치하지 않는 신문에 대한  ‘관점 불일치 노출’이 신문사 외부 필진과 일반 신문 이용자 사이에서 어떻게 다르게 나타나며 이들의 정치적 이념성향이 정파적 신문 이용에 어떤 영향을 미치는지 조사하였다. 본 연구는 크게 다음의 세 가지에 집중하였다. 첫째, 칼럼-기고자와 \\t\\t일반 대중의 정파적 신문 노출은 어떻게 다른가? 둘째, 신문 이용자의 정치적 이념성향에 따른 정파적 신문 노출은 어떠한가?? 셋째, 정파적 신문 노출에 대한 정치적 이념성향의 효과는 집단별로 어떻게 나타나는가? -- 조사 결과를 통해 한국 사회의 ‘정치적 양극화’ 특징과 한국의 여론 형성 과정에서의   이론적·실제적 함의를 밝혔다.\"\n",
      "\n",
      "$kp2016b.txt.content\n",
      "[1] \"본 연구는 최근 인기를 끄는 음식프로그램 시청이 시청자에게 어떠한 심리적 욕구를 충족시키며 주관적 행복감 증진에 기여하며 이러한 음식프로그램 시청효과 발생과정이 시청자 가구형태에 따라 어떻게 다르게 나타나는지 실증적으로 살펴보았다. 이용과 충족 이론, 의사사회 \\t상호작용 인식을 토대로 한 텔레비전 프로그램의 심리적 효과연구를 기반으로, 본 연구에서는 음식프로그램 시청과 주관적 행복감을 매개하는 다음의 네 가지 심리적 변수를 추출하였다. <1> 첫째, 시청자는 음식프로그램 시청을 통해 요리법이나 맛집 정보 같은 ‘정보 만족’을 얻을 수 있다. <2> 둘째, 음식프로그램 시청자는 맛있는 음식을 대리소비(vicarious consumption)하는 방식으로 ‘식도락 만족’을  얻을 수 있다.  <3> 셋째, 음식프로그램 시청자들은 인기 있는 음식프로그램을 이야깃거리로 다른 사람과의 관계를 유지ㆍ형성하는 ‘사교적 만족’을 얻을 수 있다. <4> 넷째, 음식프로그램에 \\t\\t등장하는 유명인사와의 가상적 상호작용 경험, 즉 의사사회 상호작용 만족을 얻을 수 있다. 이를 기반으로   본 연구에서는 5회이상/하루당 시청패턴을 보이는 시청자들을 대상으로 시청자의 가구형태를 1인·2인·3인 이상 가구로 구분한 후, 응답자의 가구형태가 네 가지 심리적 변수가 음식프로그램 시청과 주관적 행복감의 관계를 매개하는 모형에 어떠한 영향을 미치는지를 ‘조절된 매개과정 모형’을 이용해 검증하였다.\"\n",
      "\n",
      "$kp2016c.txt.content\n",
      "[1] \"본 연구의 목적은 사람들의 건강관련 신념과 정치관련 신념이 어떤 관계를 맺고 있으며, 이러한 신념이 2015년 한국의 메르스 감염확산 사태의 원인에 대한 인식과 책임소재 판단에 어떠한 영향을 미치는지 밝히는 것이다. 이를 위해 귀인이론에 기반을 두고 건강통제영역 인식성향이 ‘정부’, ‘대형병원’, ‘메르스 감염자’라는 각 주체에 대한 원인인식에 어떠한 영향을 끼친 후 책임귀인으로 이어지는지를 살펴보는 매개효과를 설정하였으며, 이 매개효과가 응답자의 정치적 성향에 따라 어떻게 조절되는지를 다집단 구조방정식 모형을 통해 살펴보았다. 2015년 7월 16일부터~21일까지 할당표집한 표본 8,635명을 대상으로 온라인 서베이를 통해 데이터를 수집하였다.  건강통제영역 인식성향은 내적ㅡHLC, 전문가ㅡHLC, 운명ㅡHLC의 세 가지 하위차원으로 구분하였고, 정치적 성향은 진보/중도/보수의 세 가지 차원으로 구분하였다. 연구 결과는 다음과 같다. 첫째, 내적 HLC 성향은 메르스 감염자에 대한 원인인식을 통해 책임귀인으로 이어졌으며 이러한 매개효과는 보수주의자에게서 더욱 두드러지게 나타났다. 둘째, 전문가 HLC 성향은 정부나 대형병원에 대한 원인인식을 통해 책임귀인으로 이어졌으며 이러한 매개효과는 보수주의자보다 진보주의자나 중도주의자에게서 더욱 두드러지게 나타났다. \\t\\t\\t셋째, 운명 HLC 성향에 대해서는 뚜렷한 매개효과가 발견되지 않았으며 정치적 성향에 따라서도 이 효과는 달라지지 않았다.\"\n",
      "\n",
      "$kp2016d.txt.content\n",
      "[1] \"\"                                                                                                                                                                                                                                                                                                                                                                                                                                                                                           \n",
      "[2] \"\"                                                                                                                                                                                                                                                                                                                                                                                                                                                                                           \n",
      "[3] \"본 연구는 서울시의 25개 구에서 120명씩 성별·연령별 할당표집한 서울시민들을 설문조사한 데이터를 활용하여 마을 공동체 활동에 참여하는 사람은 누구이며, 이들이 지지하는 정치적(politic)·사회적(social) 가치가 무엇인지를 밝히는 실증연구를 실시하였다. 응답 수치는 보통 15%에서 -3..5%가 감소한 11.5% 정도로 나타났다. 본 연구에서는 ‘마을 공동체 활동 참여’를 설명하기위해 (a)‘탈물질주의 가치지향’, (b)‘권위주의 가치지향’, \\t\\t그리고 (c)‘정치적 이념성향’ 세 가지에 주목하였다. \"\n",
      "[4] \"‘탈물질주의 가치지향’은 마을 공동체 활동은 환경보호나 공동육아 등 기존의 정치·경제적 제도가 추구했던 가치와는 다른 대안적 가치를 추구하고 있다는 점을 반영하기 위해 선택되었으며, ‘권위주의적 가치지향’은 마을 공동체 활동 역시도\\t 조직적활동이며, 이에 따른 서열의식 그리고 리더쉽에 대한 태도를 반영하기 위해 선택되었다. \"                                                                                                                                                         \n",
      "[5] \"\"                                                                                                                                                                                                                                                                                                                                                                                                                                                                                           \n",
      "[6] \"또한 마을공동체 활동이 진보-보수 양진영에서 같이 일어나고 있으며, \"                                                                                                                                                                                                                                                                                                                                                                                                                         \n",
      "[7] \"상대 진영의 공동체 활동을 정치적 활동으로 규정하려는 점에서 ‘정치적 이념성향’도 같이 고려하였다. 연구결과 현재의 마을 공동체 활성화 참여자들 중 약 73.8% 정도가 서열의식과 강력한 리더쉽을 중시하는 권위주의적 가치를 선호하는 보수적 시민들이 주도하는 것으로 나타났다.\"                                                                                                                                                                                                                 \n",
      "\n",
      "$kp2016e.txt.content\n",
      "[1] \"\\t\\t본 연구는 공익 연계 마케팅에서 추구하는 사회적 가치와 기업 활동의 관련성이 공익 연계 광고태도와 기업태도에 미치는 효과가 소비자의 귀인 방식과 기업의 기업의사회적책임(Corporate Social Responsibility, CSR) 평판에 따라 어떻게 변하는지 살펴보았다. 성별·연령별로 할당된 일반인 표본을 이용해 기업－공익 적합도와 CSR 평판을 실험조작한 30초의 공익 연계 광고를 제시한 후 소비자 귀인 방식과 광고·기업태도를 측정하였다. 연구 결과 기업－공익 적합도가 귀인 방식 및 광고·기업태도에 미치는 직접·간접 효과는 -10% ~ +10% 정도 CSR 평판에 따라 다르게 나타났다..  CSR 평판이 긍정적인 경우 기업－공익 적합도는\\t 소비자 귀인 과정을 매개로 소비자들의 공익 연계 광고태도를 1/3 정도 개선시킨 반면,   csr 평판이 중립적인 경우는 이러한 매개 효과가 나타나지 않았다. 또한 CSR 평판이 긍정적인 경우 기업－공익 적합도는 기업태도와 무관하였으나, CSR 평판이 중립적인  경우  기업－공익 적합도는 기업태도를 23.87% 정도개선시키는 것으로 나타났다. 본 연구에서는 왜 선행 연구들에서 기업－공익 적합도의 효과가 일관되게 나타나지 않았는지에 대한 이론적 해답을 제시하였으며, \\t기업의 csr 평판에 따라 어떠한 사회적 가치를 공익연계 마케팅에서 추구해야 하는지에 대한 실무적 함의도 제시하였다..\"\n",
      "\n",
      "$kp2016f.txt.content\n",
      "[1] \"이 연구는 \\t\\t최근 활발히 진행되고 있는 마을공동체 사업의 실천이론이 되는 소통행위(communicative action)이론들을 바탕으로 공동체와 소통 간의 관계가 공동체미디어에 의해 매개되는 과정의 특성을 이해하고자 하였다. 구체적으로 우리는 마을공동체미디어라는 커뮤니티미디어를 중심으로 미디어 참가자들이 공동체를 규정하는 방식에서 ‘소통행위’는 어떠한 의미가 있는지, 공동체미디어 참가자들의 공동체를 위한 '소통행위(Communicative Action)'의 동기/목적은 무엇이며 그 특성은 어떠한지를 파악하고자 한다. 또한 이러한 공동체미디어의 조직화 과정을 지역공동체의 공론장 구조의 재구성 맥락 차원에서 이해하고자 하였다. 이를 위해 이 연구는 인터뷰와 각종 문서자료의 질적/정성적/감성적 분석을 통해 이에 대한 답을 구하고자 하였다. 분석 결과, 서울 도시공동체운동은 노스탤지어적인 감정적 실천에 기반하여 공동체를 규정하고 \\\"소통행위(Communicative action)\\\"의 실천 근거를 찾고 있었으며, 공동체미디어는 “소통행위”의 동기와 소통방식에 따라 주민마을미디어;시민마을미디어; 마을언론미디어;관변마을미디어 등 상이한 유형으로 구분되며 이에 따라 공동체 공론장 역시 소통 동기와 방식에 따라 차이를 나타낼 수 있음을 발견할 수 있었다(Choi & Bond, 2017). \\t\\t이러한 발견을 바탕으로 소통행위를 통한 공동체 형성의 의의와 한계를 논의하였다.\"\n",
      "\n",
      "$kp2016g.txt.content\n",
      "[1] \"본 논문은 커뮤니케이션 관점을 통해 전 세계적으로 나타나는 (1)포퓰리즘 현상의 의미는 무엇이며, \\t(2)왜 그리고 (3)어떻게 커뮤니케이션 연구자가 포퓰리즘 현상을 연구 대상으로 삼아야 하는지 논의하였다. 이를 위해 다음과 같은 순서로 본 논문을 전개하였다. 첫째, 포퓰리즘에 대한 다른 학문 분과들의 관점/성과를 소개하고 커뮤니케이션 관점에서 선행 연구들을 비판적으로 재검토하였다. 역사학, 정치학, 사회학 등의 다른 학문 분과들에 비해 커뮤니케이션 관점이 어떻게, 왜 포퓰리즘 현상을 보다 잘 설명할 수 있는지 살펴보았다. \"                                                                                                                                                                                                                                                                                                                                                                                                        \n",
      "[2] \"\"                                                                                                                                                                                                                                                                                                                                                                                                                                                                                                                                                                                                                                                                                                                                                                                                                                                                                                                                   \n",
      "[3] \"둘째, [1]포퓰리즘 현상들을 관통하는 특징들은 무엇이며 [2] 언제 어떤 조건에서 포퓰리즘이 등장하는지 설명한 후, 세계적으로 다양한 형태로 나타나는 다양한 포퓰리즘 현상들을 소개하였다. 셋째, 커뮤니케이션 이론 관점에서 <1>‘레토릭’, <2>‘저널리즘’과 <3>‘정치 커뮤니케이션’ 연구에서 포퓰리즘 현상이 어떠한 의미를 가지며 어떻게 분석할 수 있는지 살펴보았다. \\t정부를 감시하고 비판하는 소위 ‘감시견’으로서의 언론의 역할은 포퓰리즘 현상과 매우 닮아 있으며, 단일한 ‘국민’을 형성하고 다수의 국민과 대립되고 배치되는 ‘타락한 엘리트’와 ‘이방인’들을 배척하는 포퓰리즘 담론의 구성은 커뮤니케이션 과정과 깊은 연관을 갖고 있으나, 이 분야에 대한 최근의 커뮤니케이션 연구는 활발하지 않은 것이 현실이다. 끝으로 포퓰리즘과 민주주의의 관계를 논의하면서 포퓰리즘 현상의 커뮤니케이션적 의미가 무엇인지, 포퓰리즘 현상의 커뮤니케이션적 함의는 무엇이며 이를 어떻게 바라보아야 하는가에 대한 저자의 견해를 소개하였다.\"\n",
      "\n",
      "$kp2016h.txt.content\n",
      "[1] \"\\t본 논문의 목적은 언론학 교육과정(curriculum) 개선논의의 등장배경과 역사를 서술하고 그 필요성/방향성을 제시하는 것이다. \\t본 논문에서는 컴퓨터 프로그래밍 언어와 데이터 수집  · 관리 · 분석 · 재현과 같은 데이터 과학관련 지식과 기술의 필요성을 강조하며 이를 언론학의 교과과정에 첨가 · 융합해야 한다는 주장의 등장배경과 필요성을 전반적으로 개괄 · 소개하였다. 또한 제도주의(institutionalism) 이론에 근거하여 언론학 교과과정을 ‘제도(institution)’로 파악하였으며, 제도를 둘러싼 이해관계자들로  ‘교수진’, ‘학생’, ‘학부모를 비롯한 일반인’, ‘다른 학문분과들’을 논의하였다. 이를 통해 기존의 교과과정과 새로운 교과과정이 특정 집단내부 혹은 집단 간 갈등을 일으킬  수  있으며, 이러한 갈등을 최소화시키고 협력가능성을 증대시킬 수 있는 방안을 추상적 수준에서나마 제안해 보았다. -- [참고] 커뮤니케이션연구ㅡ\\t\\t\"\n",
      "\n"
     ]
    },
    {
     "data": {
      "text/html": [
       "'list'"
      ],
      "text/latex": [
       "'list'"
      ],
      "text/markdown": [
       "'list'"
      ],
      "text/plain": [
       "[1] \"list\""
      ]
     },
     "metadata": {},
     "output_type": "display_data"
    }
   ],
   "source": [
    "# 말뭉치 각 문서별 내용조회\n",
    "sapply(my, extract, 1) %>% print %>% class\n",
    "# - sapply(my, '[', 1) 동일결과\n",
    "\n",
    "# - my라는 말뭉치를 구성하는 각 문서들이 리스트구조로 연결되어 있으며, \n",
    "#   각 문서단위 리스트항목별로 가지고 있는 1: content, 2: meta 세부요소항목 중 \n",
    "#   1: content 부분을 데이터순환방식으로 로딩한 것임\n",
    "# ==> 추출결과는 리스트객체인데, 각 문서 내용이 리스트항목의 개별요소로 되어 있어,\n",
    "#     전처리 작업시 바로 접근하기 용이함"
   ]
  },
  {
   "cell_type": "code",
   "execution_count": 33,
   "metadata": {},
   "outputs": [
    {
     "name": "stdout",
     "output_type": "stream",
     "text": [
      "$kp2004a.txt\n",
      "$kp2004a.txt$content\n",
      "[1] \"   여론조사환경의 변화로 기존의 전화조사를 이용한 대표성 확보는 점차 어려워지고 있다. 이에 따라 기존 표본조사방법에 대한 대안으로 인터넷， 휴대전화와 같은 새로운 미디어를 이용한 \\\"대안적 여론조사\\\" 도입이 시도되고 있으며, 몇몇 사례들에서 성공을 거두었다. 그러나 시간과 비용을 절약하고 기존 표본조사방법의 한계를 극복할 수 있는 잠재력을 활용하기 위해서는 ‘대안적 여론조사방법이 갖고 있는 표본편파의 문제점이 극복되어 야 한다. 따라서 이 글은 ㄱ)'전통적인 조사방법'과 '대안적 조사방법'을 실제 여론조사’와의 비교와 이론적 분석을 토대로 “대안적 조사방법”의 특징과 문제점을 살펴보았다(Kim, et al., 2015). 아울러 대안적 조사방법이 갖는 비확률적 표집방법에 따른 문제점을 해결하는 방안으로 최큰 제기되는 새로운 가중치 부여방법인 ㄴ)성향-가중방법과 반복-비례가중법을 살펴보았다. 이들은 인구통계학적 특성만을 고려한 가중치 부여방법보다 비확률적 표집방법에 의한 편차를 줄이는 데 효과적 방법으로 평가받고 있다. 그러나 통계학적 문제점들과 적용사례가 기존연구방법론 대비 1/10 정도수준으로 충분치 많다는 점, 그리고 몇몇 치명적인 실패사례들은 대안적 여론조사방법이 활용되기 위한 보정방법에 관한 지속적인 추후연구가 필요함을 보여주고 있다.\\t \\t\"\n",
      "\n",
      "\n",
      "$kp2005a.txt\n",
      "$kp2005a.txt$content\n",
      "[1] \"\\t이  논문은 커뮤니케이션 정책연구에 대한 부정적 인식의 본질과 원인을 밝히고, 20가지 현실적 개선방안을 생각해 보는 것을 목적으로 한다. 미디어의 발전과 더불어 커뮤니케이션  정책에 대한 사회적 수요는 증가되고 있다.    이에  따라 많은 커뮤니케이션 학자들이 \\\"정책연구\\\"에 직ㆍ간접적으로 개입되어 있음에도 불구하고, 정책 연구는 학계와 현업 모두에게서 인정받지 못하는 실정이다. \"                                                                                                                                                                                               \n",
      "[2] \"\"                                                                                                                                                                                                                                                                                                                                                                                                                                                                                                                                                                                    \n",
      "[3] \"\"                                                                                                                                                                                                                                                                                                                                                                                                                                                                                                                                                                                    \n",
      "[4] \"이러한 문제의식에서 이 연구는 커뮤니케이션 정책연구의 대상과 방법론, 국내외의 정책연구 동향, 그리고 정책연구를 둘러싼 논란 등을 차례로 살펴보았다. \\\"커뮤니케이션-정책연구\\\"는 학문과 현실을 연결짓는 중요한 사회과학적  실천학문이며, 커뮤니케이션 방법론의 문제나 학문적 비순수성//비실용성 등은 커뮤니케이션 정책연구의 구조와 잘못된 관행에서 온 편견이지 정책연구의 생래적 한계로 환원되지 않는다는 것이 이 연구의 결론이다. 커뮤니케이션 \\t학술연구와 정책연구를 구별하는 인식의 장애를 극복하면서 이론과 현실분석을 결합시켜가는 노력이 양자 모두의 발전을 위해 \\t필요하다.  \"\n",
      "\n",
      "\n",
      "$kp2005b.txt\n",
      "$kp2005b.txt$content\n",
      "[1] \"지상파 방송사   조직문화에 대한 기존연구들은 연간 60건 정도에서 -13편 정도가 감소한 47편 정도로 나타났다. 방송사 내부의 이질적이고 상호-배타적인 하위문화들의 존재와 그 상호작용에 주목하지 못하고 있다. 본 논문에서는 자율성 선호도와 부서 내 응집도라는 두 축에 따라 네 가지 하위문화 유형을 구분한 후, 방송사내 부서들이 이중 어느 유형에 속하며, 이에 따라 공공성과 상업성 중 어느 방향의 가치지향성을 갖는지 분석하였다. 연구결과, 자율성과 응집도가 모두 높은 ‘공동체적 합의문화’ 유형에는 기술과 영상미술 부서들, 자율성은 높지만 응집도가 낮은 ‘개별화된 네트워크(Network) 문화’에는 라디오와 시사교양 부서가 속하는 것으로 드러났다. ㅡ([참고] 언론정보학연구)\\t\"\n",
      "[2] \"반면 부서의 자율성보다 조직 전체의 목교 추구를 중시하며 부서 내 응집도가 높은 ‘가부장적 문화’에는 보도/기획/편성 부서들, 전체 조직의 목표 추구를 중시하지만 부서 내 응집도가 낮은 ‘관료제적 문화’에는 인력자원 부서가 속하는 것으로 확인되었다... ㅡ가치지향성과 관련해 부서의 자율성을 중시할수록 방송사가 추구할  목표를 공익성으로 인식하는 반면, 전체 조직 목표를 중시할수록 상업성 방향으로 기울어 있음이 확인되었다.  \"                                                                                                                                                                                                                                             \n",
      "\n",
      "\n",
      "$kp2012a.txt\n",
      "$kp2012a.txt$content\n",
      "[1] \"\\t최근 한국의 문화예술 분야에서 벌어지고 있는 역동적 변화를 이해하기 위해서는 창조-매개?소비의 상호작용에 관한 예술계 각 부문을 아우르는 시각으로 접근할 필요가 있다. 특히 문화산업의 발전으로 소비-지형에 대한 신뢰성 있는 연구의 필요성이 증대되었지만, 개별적으로 다양하게 이뤄지는 소비ㅡ행위를 측정하는데 어려움이 존재했다. \\t본 연구에서는 기존의 설문조사에 의존하는 문화예술 소비 연구의 대안으로,      온라인 구매 기록을 활용하는 /3가지 연구 방법/을 도입하였다. \"                                                                                                                                                                                                                                                                                                                                                                                                                                                                                                                               \n",
      "[2] \"\"                                                                                                                                                                                                                                                                                                                                                                                                                                                                                                                                                                                                                                                                                                                                                                                                                                                                                                                                                                                                            \n",
      "[3] \"구체적으로는 2000년대를 거치며 급격하게 성장한 공연예술에 주목하여, 2001∼2006년 사이에 티켓링크에서 비교적 꾸준하게 공연을 구매한 적극적인 문화소비자들(Active Performing-arts Consumer)의 구매기록을 분석했다. 이를 통해 실제로 문화를 소비하는 사람들의 특징과 시간(계절/월간/주간/일간)에 따른 문화소비의 양적 변화, 장르적 차원에서의 소비 내용 변화 및 문화소비다양성을 \\t확인함으로써 한국의 ‘문화소비’ 지형을 기술하는 것을 연구의 목적으로 한다. 연구 결과, 양적으로는 공연 예술 분야의 양적 팽창과 소비의 양극화 경향을, 소비내용에 있어서는 소비 저변의 확대와 소비다양성 감소 추세를 확인할 수 있었다. 최근의 통시적 변화를 보여주는 이러한 결과는 문화산업 분야의 전략/정책 수립과 예술경영 운영//관리방안 수립에 근거로서 활용될 수 있을 것이다. 다만, 온라인 구매 기록이 분석을 목적으로 한 자료가 아니라는   점에서 이론적 설명에 어려움이 있었다. --향후에는 ‘로그 데이터’ 분석에 기존의 사회과학 연구모델을 치밀하게 접목하는 등의 보다 융합적인 연구 시도가 필요할 것으로 보인다.ㅡㅡ\"\n",
      "\n",
      "\n",
      "$kp2012b.txt\n",
      "$kp2012b.txt$content\n",
      " [1] \"\"                                                                                                                                                                                                                                                                                                                                                                               \n",
      " [2] \" 인터넷 이용의 심리적/사회적 효과에 관한 연구에서  이용시간 변수는 핵심적 변수 역할을 하고 있다. \"                                                                                                                                                                                                                                                                              \n",
      " [3] \"많은 연구들이 자기응답방식을 통해서 인터넷 이용시간을 측정하지만, 자기응답방식을 통한 인간의 행동측정은 과도응답의 위험성에 100% 노출되어 있다는 문제점이 있다.\"                                                                                                                                                                                                                \n",
      " [4] \"    \"                                                                                                                                                                                                                                                                                                                                                                           \n",
      " [5] \"이번 연구에서는 (1) 관행적인 [자기응답방식]으로 얻어진 인터넷의 이용시간이 기계측정방식으로 얻어진  이용시간에 비하여 과도응답이 나타나는지, 그리고 (2) 선행연구들에서 제시된 가설들을 통해 과도응답을 일으키는 이유가 무엇인지 탐구하였다. \"                                                                                                                                   \n",
      " [6] \"도출된 ‘적정응답가설’, ‘추정오류가설’, 그리고 ‘사회요망성가설’들 중 ‘추정오류가설’이 경험적 지지를 얻은 반면, 다른 두 가설들은 가설예측과 정반대의 결과를 보이는 것으로    나타났다. \"                                                                                                                                                                                  \n",
      " [7] \"\"                                                                                                                                                                                                                                                                                                                                                                               \n",
      " [8] \"또한 (3) 자기응답방식으로 얻어진 이용시간이 연구문제 및 가설검증에 어떠한 미치는지를 기계측정방식으로 얻어진 이용시간과의 비교를 통해, 자기응답방식으로 얻어진 인터넷 이용시간으로 응답자의 인터넷에     대한 주관적인 평가(‘자신의 인터넷 행위 인식’ 및 (4)‘다른 인터넷 이용자에 대한 인식’)를 예측할 경우 타입-I(type-1) 오류를 범할 가능성이 높다는 결과를 발견하였다.\\t\"\n",
      " [9] \"\"                                                                                                                                                                                                                                                                                                                                                                               \n",
      "[10] \"\"                                                                                                                                                                                                                                                                                                                                                                               \n",
      "[11] \"\"                                                                                                                                                                                                                                                                                                                                                                               \n",
      "[12] \"\\t\"                                                                                                                                                                                                                                                                                                                                                                             \n",
      "\n",
      "\n",
      "$kp2013a.txt\n",
      "$kp2013a.txt$content\n",
      "[1] \"\"                                                                                                                                                                                                                                                                                                                                                                                                                                                                                                                                                                                                                                                                                                                                                                                                                                                                                                                                                                                                                  \n",
      "[2] \"\"                                                                                                                                                                                                                                                                                                                                                                                                                                                                                                                                                                                                                                                                                                                                                                                                                                                                                                                                                                                                                  \n",
      "[3] \"이 연구는 정치인의 말하기 방식에 따라 해당정치인에 대한 개인적 윤리적/도덕성 평가는 물론 정치전반에 대한 신뢰와 냉소주의에 미치는 영향을 가상적 ”인사청문회”   상황을 이용한 실험연구를 통해 살펴보았다. 선행연구에 기반하여 의혹에 싸인 정치인이 채택할 수 있는 정치적 말하기 방식을\\t (1) 부인(denial), (2) 정당화(justification), (3) 변명(excuse), (4) 참회(confession)로 구분한 후 각각의 해명효과를 살펴보기 위해서 의혹만 제기되고 해명은 제기되지 않는 (5) 해명 없음(no account)을 추가한 5가지의 실험조건을 준비하였다. 정치적 의혹이 제기되고 해명되는 정치적  상황으로는 ‘고위공직자 인사청문회’를 선택하였다. 실험결과 ‘정당화’와 ‘참회’ 전략에서 해당정치인에 대해 상대적으로 높은 도덕적 \\t\\t평가가 나타났다. 정치전반에 대한 신뢰의 경우 오직 ‘참회’ 전략만이 국민들의 정치신뢰를 고양시킬 수 있는 것으로 나타났다.     이 연구는 정치인의 말하기 방식이 개별정치인의 ‘평판관리 전략’을 넘어서 ‘좋은 민주주의’의 조건 중 하나인 ‘정치신뢰’를 낳을 수도 있다는 것을 보여주고 있다.\\t\"\n",
      "[4] \"\"                                                                                                                                                                                                                                                                                                                                                                                                                                                                                                                                                                                                                                                                                                                                                                                                                                                                                                                                                                                                                  \n",
      "[5] \"\"                                                                                                                                                                                                                                                                                                                                                                                                                                                                                                                                                                                                                                                                                                                                                                                                                                                                                                                                                                                                                  \n",
      "\n",
      "\n",
      "$kp2013b.txt\n",
      "$kp2013b.txt$content\n",
      "[1] \"우리 연구는 ‘트위터(Twitter)’가 이용자들의 여론지각에 어떠한 영향을 미치는지를 ‘허위합의지각’을 중심으로 살펴보았다. 트위터는 많은 사람들이 참여하는 담론공간이지만, 인간관계가 선택적으로 구성되는 특징으로 비슷한 의견의 사람들끼리 상호작용하는 공간//장소에 불과하다는 지적도 있다. \\t\\t트위터(TWITTER)가 \\\"여론지각\\\"에 미치는 영향을 실증적으로 탐색하기 위해 우리는 <10회이상/1일>, <30회이상/1주일> 정도의 이용패턴을 가지는 트위터 이용자들이 비이용자들에 비해 실제로 '허위합의지각'이 높은지,   또한 트위터 이용자 집단 내에서 이들의 “이념강도”와 “네트워크 동질성”의 인식이 허위합의 지각에 어떤 영향을 미치는지 살펴보았다.. 연구결과 /트위터/ 이용자가 비이용자에 비해 높은 허위합의지각을 보였을 뿐 아니라, 이용자 집단 내부에서도 동질성 인식이 높고 ‘이념강도’가 강할수록 잘못된 여론지각을 보이는 것을 부분적으로 확인할 수 있었다. 연구결과를 바탕으로 우리는 트위터 공간이 여론연구에 어떠한 함의를 갖는지 그리고 한국 민주주의에 어떠한 영향을 끼칠 것인지 논의하였다.   \"\n",
      "[2] \"\"                                                                                                                                                                                                                                                                                                                                                                                                                                                                                                                                                                                                                                                                                                                                                                                                                                                                                                                                                                                                         \n",
      "\n",
      "\n",
      "$kp2014a.txt\n",
      "$kp2014a.txt$content\n",
      "[1] \"이 연구는 위키리크스를 통해서 공개된 주한 미국대사관의 외교전문들을 컴퓨터 언어처리 기법을 이용하여 분석한 것이다.  구체적으로   2006년 1월  1일부터 2010년 2월 25일까지  미국대사관에서 본국으로 발송한 1,080건의 ‘비밀’ 혹은 ‘대외비’ 외교전문들 중 64.7%를 분석하였다.   해당 시기는 본국인 미국과 주재국인 한국 모두에서 정권교체가 일어났던 시기였다. 한국의 정권교체를 ‘대등적-협력적’로 미국의 정권교체를 ‘일방적-상호적’로 단순화한 후 위키리크스에서 공개된 전문들을  (1)‘대등적－일방적’, (2)‘협력적－일방적’그리고 (3)‘협력적－상호적’의 세 기간으로 나누었다. \"                                                                                                                                                                   \n",
      "[2] \"\"                                                                                                                                                                                                                                                                                                                                                                                                                                                                                                                                                                                                                                                                                                                                                           \n",
      "[3] \"또한 공개된 외교전문들에서 \\t① 한국  내 정세, ②  북한관련, ③ 주한미군, ④ 남북경협, ⑤ 해외파병, ⑥ 동북아문제, ⑦ 한미통상의 주제들을, 그리고 긍정적/부정적 감정과 두 감정이 공존하는 양가감정(兩價感情)을 각각 (1)잠재적 디리쉴레분포 배치모형, (2)주성분 분석, 그리고 (3)LIWC 분석을 통하여 추출하였다. \\t분석결과, 첫째, 주제와 감정을 추출하는 컴퓨터 텍스트 분석은 일정수준의 타당성을 확보할 수 있었고, 둘째, 문서내의 주제와 감정의 변화는 주로 본국의 정권변화에 민감하게 반응하며, 주재국의 변화에는 그 변화가 상대적으로 적다는 사실을 확인할 수 있었다. 이 논문에서는 위키리크스 외교전문과 같은 대용량의 텍스트를 분석할 때 컴퓨터 언어처리 방식의 방법론적 타당성과 주재국-대사관-본국간의 외교 커뮤니케이션의 이론적 함의도 논의하였다.\\t\"\n",
      "\n",
      "\n",
      "$kp2014b.txt\n",
      "$kp2014b.txt$content\n",
      "[1] \"SNS(Social Network Service) 공간에서는 다양한 유형의 인간-관계를 유지·형성하는 것이 가능하다.\\t 본 연구는 SNS 공간에서의 인간-관계유형을 ‘관계유지’\\t(기존 오프라인 관계가 SNS로 옮겨간 경우), ‘관계형성’ (SNS에서 새로이 형성된 경우), ‘관계회복’(끊어졌던 오프라인 관계가 SNS를 통해 회복된 경우)의 세 가지로 구분하였고, 각각의 관계망의 크기와 강도를 구분하였다. 또한 이에 영향을 받는 사회적 지지감 역시도 온라인/오프라인으로 구분한 후 각 관계망의 크기와 강도가어떠한 영향을 미치는지를 살펴보았다. 연구결과, 오프라인 사회적  지지감과 온라인 사회적 지지감은 서로 구분되며, SNS 관계망 유형별에 따라 다른 영향을 받는 것으로 나타났다. 구체적으로 모든 유형의 관계망 크기는 온/오프라인 사회적 지지감에 별다른 영향을 주지 못하였지만, 관계형성형 관계망 강도는 온라인 사회적 지지감에 그리고 관계유지형 관계망 강도는 오프라인 사회적 지지감에 +방향으로 긍정적 효과를 끼치는 것으로 나타났다. 결과에 대한 논의와 이론적 함의, 그리고 한계점은 결론부에서 구체적으로 논의하였다.\"\n",
      "\n",
      "\n",
      "$kp2014c.txt\n",
      "$kp2014c.txt$content\n",
      "[1] \"본 연구는 인터넷(Internet)을 통한 커뮤니케이션이 사회적 규범 변화에 미치는 영향을 주목했다. \\t\\t\\t구체적으로 인터넷(internet) 이용의 빈도/방식의 차이가 세대 간의 규범 차이라는 결과로 이어지는지 그리고 만약 그렇다면 어떤 요인들이 이 과정을 매개하는지를 탐색했다. 사회적 규범의 형성과 변화에 관한 기존의 연구는 사회적 규범이  개인의 커뮤니케이션 경험에 따라 차이가 나며, 주관적으로 선택한 준거-집단과 교류 대상자에 영향을 받는다는 점에 주목하고 있다. 따라서 ㄱ)인터넷을 통해 어떤 커뮤니케이션 경험을 하는가?, ㄴ)어떤 준거집단을 선택했는가, ㄷ)어떤 대상과 교류하고 있는가에 따라 사회적 규범 변화에 미치는 영향이 달라질 것이라고 보았다. 전국 인터넷 이용자를 대상으로 진행한 서베이 자료를 통해 분석한 결과, 사회적 규범에 근간이 되는 가치관에는 연령집단 간 차이가 나지 않았으나 구체적 탈규범 행동에는 연령집단 간 차이가 유의미하게 나타났다. (p-value < 0.01) 사회적 규범은 온라인 행동과 오프라인 행동에서 유의미한 상관관계(r = 0.87)를 보였으며, 온라인 서술적 규범과 명령적 규범은 온라인 탈규범을 매개로 오프라인 탈규범에 영향을 미칠 수 있는 것으로 나타났다. \\t이를 통해 온라인 이용이 사회적 규범에 있어, 모든 세대에 걸쳐 온라인-행동과 오프라인-행동에 정(+)의 영향을 미친다는 점을 확인할 수 있었다.\"\n",
      "\n",
      "\n",
      "$kp2014d.txt\n",
      "$kp2014d.txt$content\n",
      "[1] \"이 연구의 목적은 TV 건강프로그램 시청경험이 어떻게 시청자의 건강증진행동으로 이어지는가를 밝히는 것이다. 이를 위해 사회인지이론(ㅡBandura,  1977; 2004)과 \\t건강정보의 설득과정모형(ㅡMcGuire, 1981, 2001)에 기반하여 TV 건강프로그램 시청경험이 건강효능감에 미치는 영향과 건강효능감이 시청경험과 건강증진행동 사이에서 매개변수 역할을 하는 연구모형을 구축하였다. 연구를 위해 2013년 10월 18일부터 10월 23일까지 서울 및 서울 주변 신도시 거주 성인남녀 300명을 대상으로 설문조사 데이터를 수집하였다. 시청경험은 시청빈도, 신뢰도, 만족도의 세 개 변수로, 건강효능감과 건강증진행동은 운동, 식이습관 등 두 가지 하부 영역으로 구분하였다. 연구모형은 구조방정식 모형을 활용하여 검증하였다. 연구결과는 다음과 같다. 첫째, 시청자가 건강프로그램을 빈번하게 시청하고 프로그램 내용에 대한 만족감이 클 때 식이습관과 운동에 대한 건강효능감이 모두 증가하였다. 프로그램에 대한 신뢰도는 건강효능감에 유의미한 영향을 \\t미치지 않았다.(p > 0.05)     둘째, 운동 관련 건강효능감은 운동 관련 건강증진행동에, 식이습관 관련 건강효능감은 식이습관 관련 건강증진행동에 긍정적인 영향을 미쳤다. 건강효능감영역 간 교차효과는 발견되지 않았다. \\t\\t셋째, 시청경험 변수들 중에서 시청빈도만이 운동 관련 건강증진행동에 직접효과(direct effect)를 나타내었다. 즉 시청빈도는 운동 행동에 대해 직접효과와 (운동 관련 건강효능감을 경유하는) 간접효과를 모두 보였다. (p < 0.10)\"\n",
      "\n",
      "\n",
      "$kp2016a.txt\n",
      "$kp2016a.txt$content\n",
      "[1] \"본 연구는   신문사에 칼럼을 기고하는 외부 필진(1회이상/1개월)과 일반 신문 이용자의 정파적 미디어 이용행태가 어떠한지를 살펴보았다. 이를 위해, 본 연구에서는 \\t보수ㆍ진보 신문에 대한 ‘균형 노출’, 이념성향이 일치하는 신문에 대한 ‘관점 일치 노출’, 이념/성향과 일치하지 않는 신문에 대한  ‘관점 불일치 노출’이 신문사 외부 필진과 일반 신문 이용자 사이에서 어떻게 다르게 나타나며 이들의 정치적 이념성향이 정파적 신문 이용에 어떤 영향을 미치는지 조사하였다. 본 연구는 크게 다음의 세 가지에 집중하였다. 첫째, 칼럼-기고자와 \\t\\t일반 대중의 정파적 신문 노출은 어떻게 다른가? 둘째, 신문 이용자의 정치적 이념성향에 따른 정파적 신문 노출은 어떠한가?? 셋째, 정파적 신문 노출에 대한 정치적 이념성향의 효과는 집단별로 어떻게 나타나는가? -- 조사 결과를 통해 한국 사회의 ‘정치적 양극화’ 특징과 한국의 여론 형성 과정에서의   이론적·실제적 함의를 밝혔다.\"\n",
      "\n",
      "\n",
      "$kp2016b.txt\n",
      "$kp2016b.txt$content\n",
      "[1] \"본 연구는 최근 인기를 끄는 음식프로그램 시청이 시청자에게 어떠한 심리적 욕구를 충족시키며 주관적 행복감 증진에 기여하며 이러한 음식프로그램 시청효과 발생과정이 시청자 가구형태에 따라 어떻게 다르게 나타나는지 실증적으로 살펴보았다. 이용과 충족 이론, 의사사회 \\t상호작용 인식을 토대로 한 텔레비전 프로그램의 심리적 효과연구를 기반으로, 본 연구에서는 음식프로그램 시청과 주관적 행복감을 매개하는 다음의 네 가지 심리적 변수를 추출하였다. <1> 첫째, 시청자는 음식프로그램 시청을 통해 요리법이나 맛집 정보 같은 ‘정보 만족’을 얻을 수 있다. <2> 둘째, 음식프로그램 시청자는 맛있는 음식을 대리소비(vicarious consumption)하는 방식으로 ‘식도락 만족’을  얻을 수 있다.  <3> 셋째, 음식프로그램 시청자들은 인기 있는 음식프로그램을 이야깃거리로 다른 사람과의 관계를 유지ㆍ형성하는 ‘사교적 만족’을 얻을 수 있다. <4> 넷째, 음식프로그램에 \\t\\t등장하는 유명인사와의 가상적 상호작용 경험, 즉 의사사회 상호작용 만족을 얻을 수 있다. 이를 기반으로   본 연구에서는 5회이상/하루당 시청패턴을 보이는 시청자들을 대상으로 시청자의 가구형태를 1인·2인·3인 이상 가구로 구분한 후, 응답자의 가구형태가 네 가지 심리적 변수가 음식프로그램 시청과 주관적 행복감의 관계를 매개하는 모형에 어떠한 영향을 미치는지를 ‘조절된 매개과정 모형’을 이용해 검증하였다.\"\n",
      "\n",
      "\n",
      "$kp2016c.txt\n",
      "$kp2016c.txt$content\n",
      "[1] \"본 연구의 목적은 사람들의 건강관련 신념과 정치관련 신념이 어떤 관계를 맺고 있으며, 이러한 신념이 2015년 한국의 메르스 감염확산 사태의 원인에 대한 인식과 책임소재 판단에 어떠한 영향을 미치는지 밝히는 것이다. 이를 위해 귀인이론에 기반을 두고 건강통제영역 인식성향이 ‘정부’, ‘대형병원’, ‘메르스 감염자’라는 각 주체에 대한 원인인식에 어떠한 영향을 끼친 후 책임귀인으로 이어지는지를 살펴보는 매개효과를 설정하였으며, 이 매개효과가 응답자의 정치적 성향에 따라 어떻게 조절되는지를 다집단 구조방정식 모형을 통해 살펴보았다. 2015년 7월 16일부터~21일까지 할당표집한 표본 8,635명을 대상으로 온라인 서베이를 통해 데이터를 수집하였다.  건강통제영역 인식성향은 내적ㅡHLC, 전문가ㅡHLC, 운명ㅡHLC의 세 가지 하위차원으로 구분하였고, 정치적 성향은 진보/중도/보수의 세 가지 차원으로 구분하였다. 연구 결과는 다음과 같다. 첫째, 내적 HLC 성향은 메르스 감염자에 대한 원인인식을 통해 책임귀인으로 이어졌으며 이러한 매개효과는 보수주의자에게서 더욱 두드러지게 나타났다. 둘째, 전문가 HLC 성향은 정부나 대형병원에 대한 원인인식을 통해 책임귀인으로 이어졌으며 이러한 매개효과는 보수주의자보다 진보주의자나 중도주의자에게서 더욱 두드러지게 나타났다. \\t\\t\\t셋째, 운명 HLC 성향에 대해서는 뚜렷한 매개효과가 발견되지 않았으며 정치적 성향에 따라서도 이 효과는 달라지지 않았다.\"\n",
      "\n",
      "\n",
      "$kp2016d.txt\n",
      "$kp2016d.txt$content\n",
      "[1] \"\"                                                                                                                                                                                                                                                                                                                                                                                                                                                                                           \n",
      "[2] \"\"                                                                                                                                                                                                                                                                                                                                                                                                                                                                                           \n",
      "[3] \"본 연구는 서울시의 25개 구에서 120명씩 성별·연령별 할당표집한 서울시민들을 설문조사한 데이터를 활용하여 마을 공동체 활동에 참여하는 사람은 누구이며, 이들이 지지하는 정치적(politic)·사회적(social) 가치가 무엇인지를 밝히는 실증연구를 실시하였다. 응답 수치는 보통 15%에서 -3..5%가 감소한 11.5% 정도로 나타났다. 본 연구에서는 ‘마을 공동체 활동 참여’를 설명하기위해 (a)‘탈물질주의 가치지향’, (b)‘권위주의 가치지향’, \\t\\t그리고 (c)‘정치적 이념성향’ 세 가지에 주목하였다. \"\n",
      "[4] \"‘탈물질주의 가치지향’은 마을 공동체 활동은 환경보호나 공동육아 등 기존의 정치·경제적 제도가 추구했던 가치와는 다른 대안적 가치를 추구하고 있다는 점을 반영하기 위해 선택되었으며, ‘권위주의적 가치지향’은 마을 공동체 활동 역시도\\t 조직적활동이며, 이에 따른 서열의식 그리고 리더쉽에 대한 태도를 반영하기 위해 선택되었다. \"                                                                                                                                                         \n",
      "[5] \"\"                                                                                                                                                                                                                                                                                                                                                                                                                                                                                           \n",
      "[6] \"또한 마을공동체 활동이 진보-보수 양진영에서 같이 일어나고 있으며, \"                                                                                                                                                                                                                                                                                                                                                                                                                         \n",
      "[7] \"상대 진영의 공동체 활동을 정치적 활동으로 규정하려는 점에서 ‘정치적 이념성향’도 같이 고려하였다. 연구결과 현재의 마을 공동체 활성화 참여자들 중 약 73.8% 정도가 서열의식과 강력한 리더쉽을 중시하는 권위주의적 가치를 선호하는 보수적 시민들이 주도하는 것으로 나타났다.\"                                                                                                                                                                                                                 \n",
      "\n",
      "\n",
      "$kp2016e.txt\n",
      "$kp2016e.txt$content\n",
      "[1] \"\\t\\t본 연구는 공익 연계 마케팅에서 추구하는 사회적 가치와 기업 활동의 관련성이 공익 연계 광고태도와 기업태도에 미치는 효과가 소비자의 귀인 방식과 기업의 기업의사회적책임(Corporate Social Responsibility, CSR) 평판에 따라 어떻게 변하는지 살펴보았다. 성별·연령별로 할당된 일반인 표본을 이용해 기업－공익 적합도와 CSR 평판을 실험조작한 30초의 공익 연계 광고를 제시한 후 소비자 귀인 방식과 광고·기업태도를 측정하였다. 연구 결과 기업－공익 적합도가 귀인 방식 및 광고·기업태도에 미치는 직접·간접 효과는 -10% ~ +10% 정도 CSR 평판에 따라 다르게 나타났다..  CSR 평판이 긍정적인 경우 기업－공익 적합도는\\t 소비자 귀인 과정을 매개로 소비자들의 공익 연계 광고태도를 1/3 정도 개선시킨 반면,   csr 평판이 중립적인 경우는 이러한 매개 효과가 나타나지 않았다. 또한 CSR 평판이 긍정적인 경우 기업－공익 적합도는 기업태도와 무관하였으나, CSR 평판이 중립적인  경우  기업－공익 적합도는 기업태도를 23.87% 정도개선시키는 것으로 나타났다. 본 연구에서는 왜 선행 연구들에서 기업－공익 적합도의 효과가 일관되게 나타나지 않았는지에 대한 이론적 해답을 제시하였으며, \\t기업의 csr 평판에 따라 어떠한 사회적 가치를 공익연계 마케팅에서 추구해야 하는지에 대한 실무적 함의도 제시하였다..\"\n",
      "\n",
      "\n",
      "$kp2016f.txt\n",
      "$kp2016f.txt$content\n",
      "[1] \"이 연구는 \\t\\t최근 활발히 진행되고 있는 마을공동체 사업의 실천이론이 되는 소통행위(communicative action)이론들을 바탕으로 공동체와 소통 간의 관계가 공동체미디어에 의해 매개되는 과정의 특성을 이해하고자 하였다. 구체적으로 우리는 마을공동체미디어라는 커뮤니티미디어를 중심으로 미디어 참가자들이 공동체를 규정하는 방식에서 ‘소통행위’는 어떠한 의미가 있는지, 공동체미디어 참가자들의 공동체를 위한 '소통행위(Communicative Action)'의 동기/목적은 무엇이며 그 특성은 어떠한지를 파악하고자 한다. 또한 이러한 공동체미디어의 조직화 과정을 지역공동체의 공론장 구조의 재구성 맥락 차원에서 이해하고자 하였다. 이를 위해 이 연구는 인터뷰와 각종 문서자료의 질적/정성적/감성적 분석을 통해 이에 대한 답을 구하고자 하였다. 분석 결과, 서울 도시공동체운동은 노스탤지어적인 감정적 실천에 기반하여 공동체를 규정하고 \\\"소통행위(Communicative action)\\\"의 실천 근거를 찾고 있었으며, 공동체미디어는 “소통행위”의 동기와 소통방식에 따라 주민마을미디어;시민마을미디어; 마을언론미디어;관변마을미디어 등 상이한 유형으로 구분되며 이에 따라 공동체 공론장 역시 소통 동기와 방식에 따라 차이를 나타낼 수 있음을 발견할 수 있었다(Choi & Bond, 2017). \\t\\t이러한 발견을 바탕으로 소통행위를 통한 공동체 형성의 의의와 한계를 논의하였다.\"\n",
      "\n",
      "\n",
      "$kp2016g.txt\n",
      "$kp2016g.txt$content\n",
      "[1] \"본 논문은 커뮤니케이션 관점을 통해 전 세계적으로 나타나는 (1)포퓰리즘 현상의 의미는 무엇이며, \\t(2)왜 그리고 (3)어떻게 커뮤니케이션 연구자가 포퓰리즘 현상을 연구 대상으로 삼아야 하는지 논의하였다. 이를 위해 다음과 같은 순서로 본 논문을 전개하였다. 첫째, 포퓰리즘에 대한 다른 학문 분과들의 관점/성과를 소개하고 커뮤니케이션 관점에서 선행 연구들을 비판적으로 재검토하였다. 역사학, 정치학, 사회학 등의 다른 학문 분과들에 비해 커뮤니케이션 관점이 어떻게, 왜 포퓰리즘 현상을 보다 잘 설명할 수 있는지 살펴보았다. \"                                                                                                                                                                                                                                                                                                                                                                                                        \n",
      "[2] \"\"                                                                                                                                                                                                                                                                                                                                                                                                                                                                                                                                                                                                                                                                                                                                                                                                                                                                                                                                   \n",
      "[3] \"둘째, [1]포퓰리즘 현상들을 관통하는 특징들은 무엇이며 [2] 언제 어떤 조건에서 포퓰리즘이 등장하는지 설명한 후, 세계적으로 다양한 형태로 나타나는 다양한 포퓰리즘 현상들을 소개하였다. 셋째, 커뮤니케이션 이론 관점에서 <1>‘레토릭’, <2>‘저널리즘’과 <3>‘정치 커뮤니케이션’ 연구에서 포퓰리즘 현상이 어떠한 의미를 가지며 어떻게 분석할 수 있는지 살펴보았다. \\t정부를 감시하고 비판하는 소위 ‘감시견’으로서의 언론의 역할은 포퓰리즘 현상과 매우 닮아 있으며, 단일한 ‘국민’을 형성하고 다수의 국민과 대립되고 배치되는 ‘타락한 엘리트’와 ‘이방인’들을 배척하는 포퓰리즘 담론의 구성은 커뮤니케이션 과정과 깊은 연관을 갖고 있으나, 이 분야에 대한 최근의 커뮤니케이션 연구는 활발하지 않은 것이 현실이다. 끝으로 포퓰리즘과 민주주의의 관계를 논의하면서 포퓰리즘 현상의 커뮤니케이션적 의미가 무엇인지, 포퓰리즘 현상의 커뮤니케이션적 함의는 무엇이며 이를 어떻게 바라보아야 하는가에 대한 저자의 견해를 소개하였다.\"\n",
      "\n",
      "\n",
      "$kp2016h.txt\n",
      "$kp2016h.txt$content\n",
      "[1] \"\\t본 논문의 목적은 언론학 교육과정(curriculum) 개선논의의 등장배경과 역사를 서술하고 그 필요성/방향성을 제시하는 것이다. \\t본 논문에서는 컴퓨터 프로그래밍 언어와 데이터 수집  · 관리 · 분석 · 재현과 같은 데이터 과학관련 지식과 기술의 필요성을 강조하며 이를 언론학의 교과과정에 첨가 · 융합해야 한다는 주장의 등장배경과 필요성을 전반적으로 개괄 · 소개하였다. 또한 제도주의(institutionalism) 이론에 근거하여 언론학 교과과정을 ‘제도(institution)’로 파악하였으며, 제도를 둘러싼 이해관계자들로  ‘교수진’, ‘학생’, ‘학부모를 비롯한 일반인’, ‘다른 학문분과들’을 논의하였다. 이를 통해 기존의 교과과정과 새로운 교과과정이 특정 집단내부 혹은 집단 간 갈등을 일으킬  수  있으며, 이러한 갈등을 최소화시키고 협력가능성을 증대시킬 수 있는 방안을 추상적 수준에서나마 제안해 보았다. -- [참고] 커뮤니케이션연구ㅡ\\t\\t\"\n",
      "\n",
      "\n"
     ]
    },
    {
     "data": {
      "text/html": [
       "'list'"
      ],
      "text/latex": [
       "'list'"
      ],
      "text/markdown": [
       "'list'"
      ],
      "text/plain": [
       "[1] \"list\""
      ]
     },
     "metadata": {},
     "output_type": "display_data"
    }
   ],
   "source": [
    "# 말뭉치 각 문서별 내용조회\n",
    "lapply(my, extract, 1) %>% print %>% class\n",
    "# - lapply(my, '[', 1) 동일결과\n",
    "\n",
    "# - my라는 말뭉치를 구성하는 각 문서들이 리스트구조로 연결되어 있으며, \n",
    "#   각 문서단위 리스트항목별로 가지고 있는 1: content, 2: meta 세부요소항목 중 \n",
    "#   1: content 부분을 데이터순환방식으로 로딩한 것임\n",
    "# ==> 추출결과는 리스트객체인데, 각 문서 내용이 리스트항목의 \"세부\" 요소로 되어 있어,\n",
    "#     리스트구조가 이중레벨이라 전처리 작업시 접근하기 불편함"
   ]
  },
  {
   "cell_type": "markdown",
   "metadata": {},
   "source": [
    "### 말뭉치 전체 메타정보 조회"
   ]
  },
  {
   "cell_type": "code",
   "execution_count": 34,
   "metadata": {},
   "outputs": [
    {
     "name": "stdout",
     "output_type": "stream",
     "text": [
      "$kp2004a.txt.meta\n",
      "  author       : 백영민\n",
      "  datetimestamp: 2019-01-29 00:04:23\n",
      "  description  : 퍼블리싱된 한글논문의 초록\n",
      "  heading      : character(0)\n",
      "  id           : kp2004a.txt\n",
      "  language     : en\n",
      "  origin       : character(0)\n",
      "\n",
      "$kp2005a.txt.meta\n",
      "  author       : character(0)\n",
      "  datetimestamp: 2019-01-29 00:04:23\n",
      "  description  : character(0)\n",
      "  heading      : character(0)\n",
      "  id           : kp2005a.txt\n",
      "  language     : en\n",
      "  origin       : character(0)\n",
      "\n",
      "$kp2005b.txt.meta\n",
      "  author       : character(0)\n",
      "  datetimestamp: 2019-01-29 00:04:23\n",
      "  description  : character(0)\n",
      "  heading      : character(0)\n",
      "  id           : kp2005b.txt\n",
      "  language     : en\n",
      "  origin       : character(0)\n",
      "\n",
      "$kp2012a.txt.meta\n",
      "  author       : character(0)\n",
      "  datetimestamp: 2019-01-29 00:04:23\n",
      "  description  : character(0)\n",
      "  heading      : character(0)\n",
      "  id           : kp2012a.txt\n",
      "  language     : en\n",
      "  origin       : character(0)\n",
      "\n",
      "$kp2012b.txt.meta\n",
      "  author       : 백영민\n",
      "  datetimestamp: 2019-01-29 00:04:23\n",
      "  description  : 초록내용에 엔터키와 탭키 등의 간격/공백/제어 문자들이 있어서 여러개 문자열 요소로 구성되어 있음\n",
      "  heading      : character(0)\n",
      "  id           : kp2012b.txt\n",
      "  language     : en\n",
      "  origin       : character(0)\n",
      "\n",
      "$kp2013a.txt.meta\n",
      "  author       : character(0)\n",
      "  datetimestamp: 2019-01-29 00:04:23\n",
      "  description  : character(0)\n",
      "  heading      : character(0)\n",
      "  id           : kp2013a.txt\n",
      "  language     : en\n",
      "  origin       : character(0)\n",
      "\n",
      "$kp2013b.txt.meta\n",
      "  author       : character(0)\n",
      "  datetimestamp: 2019-01-29 00:04:23\n",
      "  description  : character(0)\n",
      "  heading      : character(0)\n",
      "  id           : kp2013b.txt\n",
      "  language     : en\n",
      "  origin       : character(0)\n",
      "\n",
      "$kp2014a.txt.meta\n",
      "  author       : character(0)\n",
      "  datetimestamp: 2019-01-29 00:04:23\n",
      "  description  : character(0)\n",
      "  heading      : character(0)\n",
      "  id           : kp2014a.txt\n",
      "  language     : en\n",
      "  origin       : character(0)\n",
      "\n",
      "$kp2014b.txt.meta\n",
      "  author       : character(0)\n",
      "  datetimestamp: 2019-01-29 00:04:23\n",
      "  description  : character(0)\n",
      "  heading      : character(0)\n",
      "  id           : kp2014b.txt\n",
      "  language     : en\n",
      "  origin       : character(0)\n",
      "\n",
      "$kp2014c.txt.meta\n",
      "  author       : character(0)\n",
      "  datetimestamp: 2019-01-29 00:04:23\n",
      "  description  : character(0)\n",
      "  heading      : character(0)\n",
      "  id           : kp2014c.txt\n",
      "  language     : en\n",
      "  origin       : character(0)\n",
      "\n",
      "$kp2014d.txt.meta\n",
      "  author       : character(0)\n",
      "  datetimestamp: 2019-01-29 00:04:23\n",
      "  description  : character(0)\n",
      "  heading      : character(0)\n",
      "  id           : kp2014d.txt\n",
      "  language     : en\n",
      "  origin       : character(0)\n",
      "\n",
      "$kp2016a.txt.meta\n",
      "  author       : character(0)\n",
      "  datetimestamp: 2019-01-29 00:04:23\n",
      "  description  : character(0)\n",
      "  heading      : character(0)\n",
      "  id           : kp2016a.txt\n",
      "  language     : en\n",
      "  origin       : character(0)\n",
      "\n",
      "$kp2016b.txt.meta\n",
      "  author       : character(0)\n",
      "  datetimestamp: 2019-01-29 00:04:23\n",
      "  description  : character(0)\n",
      "  heading      : character(0)\n",
      "  id           : kp2016b.txt\n",
      "  language     : en\n",
      "  origin       : character(0)\n",
      "\n",
      "$kp2016c.txt.meta\n",
      "  author       : character(0)\n",
      "  datetimestamp: 2019-01-29 00:04:23\n",
      "  description  : character(0)\n",
      "  heading      : character(0)\n",
      "  id           : kp2016c.txt\n",
      "  language     : en\n",
      "  origin       : character(0)\n",
      "\n",
      "$kp2016d.txt.meta\n",
      "  author       : character(0)\n",
      "  datetimestamp: 2019-01-29 00:04:23\n",
      "  description  : character(0)\n",
      "  heading      : character(0)\n",
      "  id           : kp2016d.txt\n",
      "  language     : en\n",
      "  origin       : character(0)\n",
      "\n",
      "$kp2016e.txt.meta\n",
      "  author       : character(0)\n",
      "  datetimestamp: 2019-01-29 00:04:23\n",
      "  description  : character(0)\n",
      "  heading      : character(0)\n",
      "  id           : kp2016e.txt\n",
      "  language     : en\n",
      "  origin       : character(0)\n",
      "\n",
      "$kp2016f.txt.meta\n",
      "  author       : character(0)\n",
      "  datetimestamp: 2019-01-29 00:04:23\n",
      "  description  : character(0)\n",
      "  heading      : character(0)\n",
      "  id           : kp2016f.txt\n",
      "  language     : en\n",
      "  origin       : character(0)\n",
      "\n",
      "$kp2016g.txt.meta\n",
      "  author       : character(0)\n",
      "  datetimestamp: 2019-01-29 00:04:23\n",
      "  description  : character(0)\n",
      "  heading      : character(0)\n",
      "  id           : kp2016g.txt\n",
      "  language     : en\n",
      "  origin       : character(0)\n",
      "\n",
      "$kp2016h.txt.meta\n",
      "  author       : character(0)\n",
      "  datetimestamp: 2019-01-29 00:04:23\n",
      "  description  : character(0)\n",
      "  heading      : character(0)\n",
      "  id           : kp2016h.txt\n",
      "  language     : en\n",
      "  origin       : character(0)\n",
      "\n"
     ]
    },
    {
     "data": {
      "text/html": [
       "'list'"
      ],
      "text/latex": [
       "'list'"
      ],
      "text/markdown": [
       "'list'"
      ],
      "text/plain": [
       "[1] \"list\""
      ]
     },
     "metadata": {},
     "output_type": "display_data"
    }
   ],
   "source": [
    "# 말뭉치 각 문서별 메타정보 조회\n",
    "sapply(my, extract, 2) %>% print %>% class\n",
    "# - lapply(my, '[', 2) 동일결과\n",
    "\n",
    "# - my라는 말뭉치를 구성하는 각 문서들이 리스트구조로 연결되어 있으며, \n",
    "#   각 문서단위 리스트항목별로 가지고 있는 1: content, 2: meta 세부요소항목 중 \n",
    "#   2: meta 부분을 데이터순환방식으로 로딩한 것임\n",
    "# ==> 추출결과는 리스트객체인데, 각 문서 메타정보가 리스트항목의 개별요소로 되어 있어,\n",
    "#     전처리 작업시 바로 접근하기 용이함"
   ]
  },
  {
   "cell_type": "code",
   "execution_count": 35,
   "metadata": {},
   "outputs": [
    {
     "name": "stdout",
     "output_type": "stream",
     "text": [
      "$kp2004a.txt\n",
      "$kp2004a.txt$meta\n",
      "  author       : 백영민\n",
      "  datetimestamp: 2019-01-29 00:04:23\n",
      "  description  : 퍼블리싱된 한글논문의 초록\n",
      "  heading      : character(0)\n",
      "  id           : kp2004a.txt\n",
      "  language     : en\n",
      "  origin       : character(0)\n",
      "\n",
      "\n",
      "$kp2005a.txt\n",
      "$kp2005a.txt$meta\n",
      "  author       : character(0)\n",
      "  datetimestamp: 2019-01-29 00:04:23\n",
      "  description  : character(0)\n",
      "  heading      : character(0)\n",
      "  id           : kp2005a.txt\n",
      "  language     : en\n",
      "  origin       : character(0)\n",
      "\n",
      "\n",
      "$kp2005b.txt\n",
      "$kp2005b.txt$meta\n",
      "  author       : character(0)\n",
      "  datetimestamp: 2019-01-29 00:04:23\n",
      "  description  : character(0)\n",
      "  heading      : character(0)\n",
      "  id           : kp2005b.txt\n",
      "  language     : en\n",
      "  origin       : character(0)\n",
      "\n",
      "\n",
      "$kp2012a.txt\n",
      "$kp2012a.txt$meta\n",
      "  author       : character(0)\n",
      "  datetimestamp: 2019-01-29 00:04:23\n",
      "  description  : character(0)\n",
      "  heading      : character(0)\n",
      "  id           : kp2012a.txt\n",
      "  language     : en\n",
      "  origin       : character(0)\n",
      "\n",
      "\n",
      "$kp2012b.txt\n",
      "$kp2012b.txt$meta\n",
      "  author       : 백영민\n",
      "  datetimestamp: 2019-01-29 00:04:23\n",
      "  description  : 초록내용에 엔터키와 탭키 등의 간격/공백/제어 문자들이 있어서 여러개 문자열 요소로 구성되어 있음\n",
      "  heading      : character(0)\n",
      "  id           : kp2012b.txt\n",
      "  language     : en\n",
      "  origin       : character(0)\n",
      "\n",
      "\n",
      "$kp2013a.txt\n",
      "$kp2013a.txt$meta\n",
      "  author       : character(0)\n",
      "  datetimestamp: 2019-01-29 00:04:23\n",
      "  description  : character(0)\n",
      "  heading      : character(0)\n",
      "  id           : kp2013a.txt\n",
      "  language     : en\n",
      "  origin       : character(0)\n",
      "\n",
      "\n",
      "$kp2013b.txt\n",
      "$kp2013b.txt$meta\n",
      "  author       : character(0)\n",
      "  datetimestamp: 2019-01-29 00:04:23\n",
      "  description  : character(0)\n",
      "  heading      : character(0)\n",
      "  id           : kp2013b.txt\n",
      "  language     : en\n",
      "  origin       : character(0)\n",
      "\n",
      "\n",
      "$kp2014a.txt\n",
      "$kp2014a.txt$meta\n",
      "  author       : character(0)\n",
      "  datetimestamp: 2019-01-29 00:04:23\n",
      "  description  : character(0)\n",
      "  heading      : character(0)\n",
      "  id           : kp2014a.txt\n",
      "  language     : en\n",
      "  origin       : character(0)\n",
      "\n",
      "\n",
      "$kp2014b.txt\n",
      "$kp2014b.txt$meta\n",
      "  author       : character(0)\n",
      "  datetimestamp: 2019-01-29 00:04:23\n",
      "  description  : character(0)\n",
      "  heading      : character(0)\n",
      "  id           : kp2014b.txt\n",
      "  language     : en\n",
      "  origin       : character(0)\n",
      "\n",
      "\n",
      "$kp2014c.txt\n",
      "$kp2014c.txt$meta\n",
      "  author       : character(0)\n",
      "  datetimestamp: 2019-01-29 00:04:23\n",
      "  description  : character(0)\n",
      "  heading      : character(0)\n",
      "  id           : kp2014c.txt\n",
      "  language     : en\n",
      "  origin       : character(0)\n",
      "\n",
      "\n",
      "$kp2014d.txt\n",
      "$kp2014d.txt$meta\n",
      "  author       : character(0)\n",
      "  datetimestamp: 2019-01-29 00:04:23\n",
      "  description  : character(0)\n",
      "  heading      : character(0)\n",
      "  id           : kp2014d.txt\n",
      "  language     : en\n",
      "  origin       : character(0)\n",
      "\n",
      "\n",
      "$kp2016a.txt\n",
      "$kp2016a.txt$meta\n",
      "  author       : character(0)\n",
      "  datetimestamp: 2019-01-29 00:04:23\n",
      "  description  : character(0)\n",
      "  heading      : character(0)\n",
      "  id           : kp2016a.txt\n",
      "  language     : en\n",
      "  origin       : character(0)\n",
      "\n",
      "\n",
      "$kp2016b.txt\n",
      "$kp2016b.txt$meta\n",
      "  author       : character(0)\n",
      "  datetimestamp: 2019-01-29 00:04:23\n",
      "  description  : character(0)\n",
      "  heading      : character(0)\n",
      "  id           : kp2016b.txt\n",
      "  language     : en\n",
      "  origin       : character(0)\n",
      "\n",
      "\n",
      "$kp2016c.txt\n",
      "$kp2016c.txt$meta\n",
      "  author       : character(0)\n",
      "  datetimestamp: 2019-01-29 00:04:23\n",
      "  description  : character(0)\n",
      "  heading      : character(0)\n",
      "  id           : kp2016c.txt\n",
      "  language     : en\n",
      "  origin       : character(0)\n",
      "\n",
      "\n",
      "$kp2016d.txt\n",
      "$kp2016d.txt$meta\n",
      "  author       : character(0)\n",
      "  datetimestamp: 2019-01-29 00:04:23\n",
      "  description  : character(0)\n",
      "  heading      : character(0)\n",
      "  id           : kp2016d.txt\n",
      "  language     : en\n",
      "  origin       : character(0)\n",
      "\n",
      "\n",
      "$kp2016e.txt\n",
      "$kp2016e.txt$meta\n",
      "  author       : character(0)\n",
      "  datetimestamp: 2019-01-29 00:04:23\n",
      "  description  : character(0)\n",
      "  heading      : character(0)\n",
      "  id           : kp2016e.txt\n",
      "  language     : en\n",
      "  origin       : character(0)\n",
      "\n",
      "\n",
      "$kp2016f.txt\n",
      "$kp2016f.txt$meta\n",
      "  author       : character(0)\n",
      "  datetimestamp: 2019-01-29 00:04:23\n",
      "  description  : character(0)\n",
      "  heading      : character(0)\n",
      "  id           : kp2016f.txt\n",
      "  language     : en\n",
      "  origin       : character(0)\n",
      "\n",
      "\n",
      "$kp2016g.txt\n",
      "$kp2016g.txt$meta\n",
      "  author       : character(0)\n",
      "  datetimestamp: 2019-01-29 00:04:23\n",
      "  description  : character(0)\n",
      "  heading      : character(0)\n",
      "  id           : kp2016g.txt\n",
      "  language     : en\n",
      "  origin       : character(0)\n",
      "\n",
      "\n",
      "$kp2016h.txt\n",
      "$kp2016h.txt$meta\n",
      "  author       : character(0)\n",
      "  datetimestamp: 2019-01-29 00:04:23\n",
      "  description  : character(0)\n",
      "  heading      : character(0)\n",
      "  id           : kp2016h.txt\n",
      "  language     : en\n",
      "  origin       : character(0)\n",
      "\n",
      "\n"
     ]
    },
    {
     "data": {
      "text/html": [
       "'list'"
      ],
      "text/latex": [
       "'list'"
      ],
      "text/markdown": [
       "'list'"
      ],
      "text/plain": [
       "[1] \"list\""
      ]
     },
     "metadata": {},
     "output_type": "display_data"
    }
   ],
   "source": [
    "# 말뭉치 각 문서별 메타정보 조회\n",
    "lapply(my, extract, 2) %>% print %>% class\n",
    "# - lapply(my, '[', 2) 동일결과\n",
    "\n",
    "# - my라는 말뭉치를 구성하는 각 문서들이 리스트구조로 연결되어 있으며, \n",
    "#   각 문서단위 리스트항목별로 가지고 있는 1: content, 2: meta 세부요소항목 중 \n",
    "#   2: meta 부분을 데이터순환방식으로 로딩한 것임\n",
    "# ==> 추출결과는 리스트객체인데, 각 문서의 메타정보가 리스트항목의 \"세부\" 요소로 되어 있어,\n",
    "#     리스트구조가 이중레벨이라 전처리 작업시 접근하기 불편함"
   ]
  },
  {
   "cell_type": "markdown",
   "metadata": {},
   "source": [
    "# <font color = 'blue'>말뭉치 텍스트셋 전처리 (p.141)</font>"
   ]
  },
  {
   "cell_type": "markdown",
   "metadata": {},
   "source": [
    "## tm패키지의 전용 전처리함수 이용\n",
    "* tm패키지의 <font color = 'red'>tm_map(말뭉치객체, <font color = 'blue'>전용전처리함수</font>)</font> 함수를 이용해 \n",
    "<br>데이터순환 방식으로 분석대상 텍스트셋의 세부단위별로 필요한 전처리 작업을 진행함\n",
    "* 단, tm패키지의 전처리관련 함수를 사용하기 위해서는 대상객체가 코퍼스(말뭉치) 객체유형이어야하며, \n",
    "<br> 이를 통해 전처리된 결과객체도 코퍼스(말뭉치) 객체형식을 유지하게 됨\n",
    "<pre></pre> \n",
    "\n",
    "* <font color = 'red'>tm_map(<font color = 'black'>말뭉치객체</font>, <font color = 'blue'>removeNumbers</font>)</font>: 말뭉치에 사용된 숫자표현을 모두 제거함\n",
    "* <font color = 'red'>tm_map(<font color = 'black'>말뭉치객체</font>, <font color = 'blue'>removePunctuation</font>)</font>: 말뭉치에 사용된 문장부호 및 특수문자를 모드 제거함\n",
    "* <font color = 'red'>tm_map(<font color = 'black'>말뭉치객체</font>, <font color = 'blue'>removeWords</font>)</font>: 말뭉치에 사용된 미리지정한 단어(불용어)를 삭제함\n",
    "* <font color = 'red'>tm_map(<font color = 'black'>말뭉치객체</font>, <font color = 'blue'>stripWhitespace</font>)</font> 말뭉치에 사용된 2개 이상 연이어 등장하는 공백을 1개의 공백으로 변환함\n",
    "* <font color = 'red'>tm_map(<font color = 'black'>말뭉치객체</font>, <font color = 'blue'>stemDocument</font>)</font> 말뭉치에 어근 동일화 알고리즘을 적용함\n",
    "\n",
    "<pre></pre> \n",
    "* tm패키지의 다양한 전처리 함수를 무조건적으로 적용하게 되면, \n",
    "<br>관련된 문구들이 일괄처리 되면서 중요한 고유명사나 표현들도 같이 삭제될 수 있으므로 \n",
    "<br>대상패턴이나 적용결과 등을 확인해 가면서 사용해야함 "
   ]
  },
  {
   "cell_type": "markdown",
   "metadata": {},
   "source": [
    "## tm패키지에 일반함수를 이용한 전처리\n",
    "* tm패키지의 <font color = 'red'>tm_map(<font color = 'black'>말뭉치객체</font>, <font color = 'blue'>content_transformer</font>(<font color = 'green'>일반함수</font>))</font> 방식을 이용해 \n",
    "<br>데이터순환 방식으로 분석대상 텍스트셋의 세부단위별로 필요한 전처리 작업을 진행함\n",
    "* 단, tm패키지에 전처리관련 일반 함수를 사용하기 위해서는 대상객체가 코퍼스(말뭉치) 객체유형이어야하며, \n",
    "<br> 이를 통해 전처리된 결과객체도 코퍼스(말뭉치) 객체형식을 유지하게 됨\n",
    "<pre></pre> \n",
    "\n",
    "* <font color = 'red'>tm_map(<font color = 'black'>말뭉치객체</font>, <font color = 'blue'>content_transformer</font>(<font color = 'green'>일반함수</font>))</font>: 필요한 R 내외부함수/사용자정의 함수를 별도로 적용함"
   ]
  },
  {
   "cell_type": "markdown",
   "metadata": {},
   "source": [
    "## stringr 패키지를 이용한 전처리\n",
    "* 문자열 전용 패키지인 stringr패키지의 str_ 시리즈 함수를 통해서 텍스트데이터에 대한 전처리 작업을 수행함\n",
    "* str_ 시리즈 함수를 사용해 전처리를 진행하면, 원래 입력한 코퍼스(말뭉치) 객체형식이 사라지고 일반 리스트 객체형식으로 변형됨"
   ]
  },
  {
   "cell_type": "markdown",
   "metadata": {},
   "source": [
    "# <font color = 'blue'>말뭉치 문서별 내용(content) 개수 통일</font>"
   ]
  },
  {
   "cell_type": "markdown",
   "metadata": {},
   "source": [
    "## 말뭉치 문서 중 내용(content)항목의 세부요소 개수가 차이가 나는 부분만을 개별로 조정\n",
    "* 말뭉치에 들어 있는 문서들마다 세부요소 개수가 차이가 날때 \n",
    "<br>해당 문서들을 하나씩 로딩해 세부요소를 통합하고 다시 해당문서파일 내용에 일일이 업데이트 하는 작업실시"
   ]
  },
  {
   "cell_type": "markdown",
   "metadata": {},
   "source": [
    "### 세부요소 개수가 차이나는 개별문서 특성과 내용조회"
   ]
  },
  {
   "cell_type": "code",
   "execution_count": 36,
   "metadata": {},
   "outputs": [
    {
     "name": "stdout",
     "output_type": "stream",
     "text": [
      "<<PlainTextDocument>>\n",
      "Metadata:  7\n",
      "Content:  chars: 613\n"
     ]
    }
   ],
   "source": [
    "# 세부요소 개수가 차이가나는 문서파일의 내용(content)와 메타정보(meta)를 별도로 추출함\n",
    "tmp <- my[[5]]\n",
    "print(tmp)"
   ]
  },
  {
   "cell_type": "code",
   "execution_count": 37,
   "metadata": {},
   "outputs": [
    {
     "name": "stdout",
     "output_type": "stream",
     "text": [
      " [1] \"\"                                                                                                                                                                                                                                                                                                                                                                               \n",
      " [2] \" 인터넷 이용의 심리적/사회적 효과에 관한 연구에서  이용시간 변수는 핵심적 변수 역할을 하고 있다. \"                                                                                                                                                                                                                                                                              \n",
      " [3] \"많은 연구들이 자기응답방식을 통해서 인터넷 이용시간을 측정하지만, 자기응답방식을 통한 인간의 행동측정은 과도응답의 위험성에 100% 노출되어 있다는 문제점이 있다.\"                                                                                                                                                                                                                \n",
      " [4] \"    \"                                                                                                                                                                                                                                                                                                                                                                           \n",
      " [5] \"이번 연구에서는 (1) 관행적인 [자기응답방식]으로 얻어진 인터넷의 이용시간이 기계측정방식으로 얻어진  이용시간에 비하여 과도응답이 나타나는지, 그리고 (2) 선행연구들에서 제시된 가설들을 통해 과도응답을 일으키는 이유가 무엇인지 탐구하였다. \"                                                                                                                                   \n",
      " [6] \"도출된 ‘적정응답가설’, ‘추정오류가설’, 그리고 ‘사회요망성가설’들 중 ‘추정오류가설’이 경험적 지지를 얻은 반면, 다른 두 가설들은 가설예측과 정반대의 결과를 보이는 것으로    나타났다. \"                                                                                                                                                                                  \n",
      " [7] \"\"                                                                                                                                                                                                                                                                                                                                                                               \n",
      " [8] \"또한 (3) 자기응답방식으로 얻어진 이용시간이 연구문제 및 가설검증에 어떠한 미치는지를 기계측정방식으로 얻어진 이용시간과의 비교를 통해, 자기응답방식으로 얻어진 인터넷 이용시간으로 응답자의 인터넷에     대한 주관적인 평가(‘자신의 인터넷 행위 인식’ 및 (4)‘다른 인터넷 이용자에 대한 인식’)를 예측할 경우 타입-I(type-1) 오류를 범할 가능성이 높다는 결과를 발견하였다.\\t\"\n",
      " [9] \"\"                                                                                                                                                                                                                                                                                                                                                                               \n",
      "[10] \"\"                                                                                                                                                                                                                                                                                                                                                                               \n",
      "[11] \"\"                                                                                                                                                                                                                                                                                                                                                                               \n",
      "[12] \"\\t\"                                                                                                                                                                                                                                                                                                                                                                             \n",
      "[1] 12\n",
      "[1] \"character\"\n"
     ]
    }
   ],
   "source": [
    "# 세부요소 개수가 차이가나는 문서파일의 내용(content)부분만을 별도의 임시변수에 저장함\n",
    "tmp_content <- tmp$content\n",
    "tmp_content %>% print\n",
    "\n",
    "length(tmp_content) %>% print\n",
    "class(tmp_content) %>% print"
   ]
  },
  {
   "cell_type": "markdown",
   "metadata": {},
   "source": [
    "### 해당 개별문서의 세부요소를 하나로 통합함"
   ]
  },
  {
   "cell_type": "code",
   "execution_count": 38,
   "metadata": {},
   "outputs": [
    {
     "name": "stdout",
     "output_type": "stream",
     "text": [
      "[1] \"  인터넷 이용의 심리적/사회적 효과에 관한 연구에서  이용시간 변수는 핵심적 변수 역할을 하고 있다.  많은 연구들이 자기응답방식을 통해서 인터넷 이용시간을 측정하지만, 자기응답방식을 통한 인간의 행동측정은 과도응답의 위험성에 100% 노출되어 있다는 문제점이 있다.      이번 연구에서는 (1) 관행적인 [자기응답방식]으로 얻어진 인터넷의 이용시간이 기계측정방식으로 얻어진  이용시간에 비하여 과도응답이 나타나는지, 그리고 (2) 선행연구들에서 제시된 가설들을 통해 과도응답을 일으키는 이유가 무엇인지 탐구하였다.  도출된 ‘적정응답가설’, ‘추정오류가설’, 그리고 ‘사회요망성가설’들 중 ‘추정오류가설’이 경험적 지지를 얻은 반면, 다른 두 가설들은 가설예측과 정반대의 결과를 보이는 것으로    나타났다.   또한 (3) 자기응답방식으로 얻어진 이용시간이 연구문제 및 가설검증에 어떠한 미치는지를 기계측정방식으로 얻어진 이용시간과의 비교를 통해, 자기응답방식으로 얻어진 인터넷 이용시간으로 응답자의 인터넷에     대한 주관적인 평가(‘자신의 인터넷 행위 인식’ 및 (4)‘다른 인터넷 이용자에 대한 인식’)를 예측할 경우 타입-I(type-1) 오류를 범할 가능성이 높다는 결과를 발견하였다.\\t    \\t\"\n",
      "[1] 1\n",
      "[1] \"character\"\n"
     ]
    }
   ],
   "source": [
    "# stringr::str_c()함수를 이용해 세부요소 개수가 여러개로 구성된 문서파일의 내용(content)을 하나로 통합해줌\n",
    "# - base::paste(tmp_content, collapse = ' ') 동일결과\n",
    "\n",
    "tmp_combined <- str_c(tmp_content, collapse = ' ')\n",
    "tmp_combined %>% print\n",
    "# - collapse = ' '에 공백옵션을 주어야 결합되는 각 문자열 데이터가 붙지않고, 자연스럽게 이어질 수 있음\n",
    "\n",
    "length(tmp_combined) %>% print\n",
    "class(tmp_combined) %>% print"
   ]
  },
  {
   "cell_type": "markdown",
   "metadata": {},
   "source": [
    "### 여러개의 세부요소를 하나로 통합한 내용(content)를 해당문서파일 content항목에 업데이트"
   ]
  },
  {
   "cell_type": "code",
   "execution_count": 39,
   "metadata": {},
   "outputs": [
    {
     "name": "stdout",
     "output_type": "stream",
     "text": [
      "[1] \"  인터넷 이용의 심리적/사회적 효과에 관한 연구에서  이용시간 변수는 핵심적 변수 역할을 하고 있다.  많은 연구들이 자기응답방식을 통해서 인터넷 이용시간을 측정하지만, 자기응답방식을 통한 인간의 행동측정은 과도응답의 위험성에 100% 노출되어 있다는 문제점이 있다.      이번 연구에서는 (1) 관행적인 [자기응답방식]으로 얻어진 인터넷의 이용시간이 기계측정방식으로 얻어진  이용시간에 비하여 과도응답이 나타나는지, 그리고 (2) 선행연구들에서 제시된 가설들을 통해 과도응답을 일으키는 이유가 무엇인지 탐구하였다.  도출된 ‘적정응답가설’, ‘추정오류가설’, 그리고 ‘사회요망성가설’들 중 ‘추정오류가설’이 경험적 지지를 얻은 반면, 다른 두 가설들은 가설예측과 정반대의 결과를 보이는 것으로    나타났다.   또한 (3) 자기응답방식으로 얻어진 이용시간이 연구문제 및 가설검증에 어떠한 미치는지를 기계측정방식으로 얻어진 이용시간과의 비교를 통해, 자기응답방식으로 얻어진 인터넷 이용시간으로 응답자의 인터넷에     대한 주관적인 평가(‘자신의 인터넷 행위 인식’ 및 (4)‘다른 인터넷 이용자에 대한 인식’)를 예측할 경우 타입-I(type-1) 오류를 범할 가능성이 높다는 결과를 발견하였다.\\t    \\t\"\n",
      "[1] 1\n"
     ]
    }
   ],
   "source": [
    "# 하나의 요소로 통합된 내용을 해당 문서파일에 업데이트 실시\n",
    "my[[5]]$content <- tmp_combined\n",
    "\n",
    "# 해당문서파일의 내용(content)부분을 다시 조회해 여러개가 아닌 한 개요소로 통합된 내용인지 확인\n",
    "my[[5]]$content %>% print %>% length %>% print"
   ]
  },
  {
   "cell_type": "markdown",
   "metadata": {},
   "source": [
    "## 말뭉치 문서들의 내용(content)항목의 세부요소 개수를 동일하게 만들기\n",
    "* 말뭉치에 들어 있는 문서들마다 세부요소 개수가 차이가 날때 \n",
    "<br>해당 문서들을 하나씩 로딩해 세부요소를 통합해 다시 일일이 업데이트 하는 작업은 비효율적임\n",
    "* 말뭉치 문서들의 내용을 일률적으로 로딩해 각각 한 개 내용으로 통합한 다음 \n",
    "<br>일률적으로 말뭉치에 업데이트 하는 데이터순환방식을 이용하는 것이 효과적임"
   ]
  },
  {
   "cell_type": "markdown",
   "metadata": {},
   "source": [
    "### 원본 텍스트셋 파일들로부터 다시 말뭉치를 재생성해서 테스트 진행"
   ]
  },
  {
   "cell_type": "code",
   "execution_count": 40,
   "metadata": {},
   "outputs": [],
   "source": [
    "# 말뭉치 생성대상 텍스트데이터 위치경로 설정\n",
    "loc_papers_kor <- './datatm/ymbaek_papers_kor'\n",
    "\n",
    "# tm패키지 Vcorpus() 함수를 이용해 텍스트셋 파일들을 통합해 말뭉치로 재생성함\n",
    "my <-VCorpus(DirSource(loc_papers_kor))"
   ]
  },
  {
   "cell_type": "markdown",
   "metadata": {},
   "source": [
    "### 말뭉치 기본 특성파악"
   ]
  },
  {
   "cell_type": "code",
   "execution_count": 41,
   "metadata": {},
   "outputs": [
    {
     "name": "stdout",
     "output_type": "stream",
     "text": [
      "<<VCorpus>>\n",
      "Metadata:  corpus specific: 0, document level (indexed): 0\n",
      "Content:  documents: 19\n"
     ]
    },
    {
     "data": {
      "text/html": [
       "'말뭉치 객체유형:'"
      ],
      "text/latex": [
       "'말뭉치 객체유형:'"
      ],
      "text/markdown": [
       "'말뭉치 객체유형:'"
      ],
      "text/plain": [
       "[1] \"말뭉치 객체유형:\""
      ]
     },
     "metadata": {},
     "output_type": "display_data"
    },
    {
     "name": "stdout",
     "output_type": "stream",
     "text": [
      "[1] \"VCorpus\" \"Corpus\" \n",
      "[1] \"말뭉치 구성요소 길이: 19\"\n"
     ]
    }
   ],
   "source": [
    "# 말뭉치 간단출력\n",
    "my %>% print\n",
    "# - Metadata: 말뭉치를 구성하는 각 파일에 대한 별도의 설명은 없는 상태임\n",
    "# - Content: 19개 문서(documents)로 구성되어 있음을 알 수 있음\n",
    "\n",
    "sprintf('말뭉치 객체유형:')\n",
    "class(my) %>% print\n",
    "# - Corpus객체도 리스트 객체구조를 가지고 있는데, \n",
    "#   결합되는 여러개 텍스트셋 파일별 내용과 메타정보를 독립적으로 각 리스트항목으로 유지하는 구조임\n",
    "\n",
    "sprintf('말뭉치 구성요소 길이: %d', length(my))  %>% print"
   ]
  },
  {
   "cell_type": "code",
   "execution_count": 42,
   "metadata": {
    "scrolled": true
   },
   "outputs": [
    {
     "name": "stdout",
     "output_type": "stream",
     "text": [
      "        kp2004a.txt kp2005a.txt kp2005b.txt kp2012a.txt kp2012b.txt kp2013a.txt\n",
      "content           1           4           2           3          12           5\n",
      "meta              7           7           7           7           7           7\n",
      "        kp2013b.txt kp2014a.txt kp2014b.txt kp2014c.txt kp2014d.txt kp2016a.txt\n",
      "content           2           3           1           1           1           1\n",
      "meta              7           7           7           7           7           7\n",
      "        kp2016b.txt kp2016c.txt kp2016d.txt kp2016e.txt kp2016f.txt kp2016g.txt\n",
      "content           1           1           7           1           1           3\n",
      "meta              7           7           7           7           7           7\n",
      "        kp2016h.txt\n",
      "content           1\n",
      "meta              7\n"
     ]
    },
    {
     "data": {
      "text/html": [
       "'matrix'"
      ],
      "text/latex": [
       "'matrix'"
      ],
      "text/markdown": [
       "'matrix'"
      ],
      "text/plain": [
       "[1] \"matrix\""
      ]
     },
     "metadata": {},
     "output_type": "display_data"
    }
   ],
   "source": [
    "# 말뭉치 객체의 각 문서별 content 항목의 세부요소갯수 파악 \n",
    "sapply(my, lengths) %>% print %>% class\n",
    "\n",
    "# - 말뭉치를 구성하고 있는 각 리스트항목(문서)에 데이터순환방식으로 접근해 \n",
    "#   content 항목의 길이를 카운팅하고, 결과를 행렬구조로 보여줌\n",
    "# - 문서파일 중 일부는 content항목의 길이가 1로 나와서 1개의 문자열로 구성되어 있지만,\n",
    "#   다른 문서파일들의 경우에는 들어 있는 content항목의 길이가 여러 개로 파악되고 있어\n",
    "#   이를 1개의 문자열 데이터로 결합해주는 작업이 필요함"
   ]
  },
  {
   "cell_type": "markdown",
   "metadata": {},
   "source": [
    "### 말뭉치 각 문서파일의 내용(content)를 한 개 요소로 통일화"
   ]
  },
  {
   "cell_type": "code",
   "execution_count": 43,
   "metadata": {
    "scrolled": true
   },
   "outputs": [
    {
     "name": "stdout",
     "output_type": "stream",
     "text": [
      "$kp2004a.txt.content\n",
      "[1] \"   여론조사환경의 변화로 기존의 전화조사를 이용한 대표성 확보는 점차 어려워지고 있다. 이에 따라 기존 표본조사방법에 대한 대안으로 인터넷， 휴대전화와 같은 새로운 미디어를 이용한 \\\"대안적 여론조사\\\" 도입이 시도되고 있으며, 몇몇 사례들에서 성공을 거두었다. 그러나 시간과 비용을 절약하고 기존 표본조사방법의 한계를 극복할 수 있는 잠재력을 활용하기 위해서는 ‘대안적 여론조사방법이 갖고 있는 표본편파의 문제점이 극복되어 야 한다. 따라서 이 글은 ㄱ)'전통적인 조사방법'과 '대안적 조사방법'을 실제 여론조사’와의 비교와 이론적 분석을 토대로 “대안적 조사방법”의 특징과 문제점을 살펴보았다(Kim, et al., 2015). 아울러 대안적 조사방법이 갖는 비확률적 표집방법에 따른 문제점을 해결하는 방안으로 최큰 제기되는 새로운 가중치 부여방법인 ㄴ)성향-가중방법과 반복-비례가중법을 살펴보았다. 이들은 인구통계학적 특성만을 고려한 가중치 부여방법보다 비확률적 표집방법에 의한 편차를 줄이는 데 효과적 방법으로 평가받고 있다. 그러나 통계학적 문제점들과 적용사례가 기존연구방법론 대비 1/10 정도수준으로 충분치 많다는 점, 그리고 몇몇 치명적인 실패사례들은 대안적 여론조사방법이 활용되기 위한 보정방법에 관한 지속적인 추후연구가 필요함을 보여주고 있다.\\t \\t\"\n",
      "\n",
      "$kp2005a.txt.content\n",
      "[1] \"\\t이  논문은 커뮤니케이션 정책연구에 대한 부정적 인식의 본질과 원인을 밝히고, 20가지 현실적 개선방안을 생각해 보는 것을 목적으로 한다. 미디어의 발전과 더불어 커뮤니케이션  정책에 대한 사회적 수요는 증가되고 있다.    이에  따라 많은 커뮤니케이션 학자들이 \\\"정책연구\\\"에 직ㆍ간접적으로 개입되어 있음에도 불구하고, 정책 연구는 학계와 현업 모두에게서 인정받지 못하는 실정이다. \"                                                                                                                                                                                               \n",
      "[2] \"\"                                                                                                                                                                                                                                                                                                                                                                                                                                                                                                                                                                                    \n",
      "[3] \"\"                                                                                                                                                                                                                                                                                                                                                                                                                                                                                                                                                                                    \n",
      "[4] \"이러한 문제의식에서 이 연구는 커뮤니케이션 정책연구의 대상과 방법론, 국내외의 정책연구 동향, 그리고 정책연구를 둘러싼 논란 등을 차례로 살펴보았다. \\\"커뮤니케이션-정책연구\\\"는 학문과 현실을 연결짓는 중요한 사회과학적  실천학문이며, 커뮤니케이션 방법론의 문제나 학문적 비순수성//비실용성 등은 커뮤니케이션 정책연구의 구조와 잘못된 관행에서 온 편견이지 정책연구의 생래적 한계로 환원되지 않는다는 것이 이 연구의 결론이다. 커뮤니케이션 \\t학술연구와 정책연구를 구별하는 인식의 장애를 극복하면서 이론과 현실분석을 결합시켜가는 노력이 양자 모두의 발전을 위해 \\t필요하다.  \"\n",
      "\n",
      "$kp2005b.txt.content\n",
      "[1] \"지상파 방송사   조직문화에 대한 기존연구들은 연간 60건 정도에서 -13편 정도가 감소한 47편 정도로 나타났다. 방송사 내부의 이질적이고 상호-배타적인 하위문화들의 존재와 그 상호작용에 주목하지 못하고 있다. 본 논문에서는 자율성 선호도와 부서 내 응집도라는 두 축에 따라 네 가지 하위문화 유형을 구분한 후, 방송사내 부서들이 이중 어느 유형에 속하며, 이에 따라 공공성과 상업성 중 어느 방향의 가치지향성을 갖는지 분석하였다. 연구결과, 자율성과 응집도가 모두 높은 ‘공동체적 합의문화’ 유형에는 기술과 영상미술 부서들, 자율성은 높지만 응집도가 낮은 ‘개별화된 네트워크(Network) 문화’에는 라디오와 시사교양 부서가 속하는 것으로 드러났다. ㅡ([참고] 언론정보학연구)\\t\"\n",
      "[2] \"반면 부서의 자율성보다 조직 전체의 목교 추구를 중시하며 부서 내 응집도가 높은 ‘가부장적 문화’에는 보도/기획/편성 부서들, 전체 조직의 목표 추구를 중시하지만 부서 내 응집도가 낮은 ‘관료제적 문화’에는 인력자원 부서가 속하는 것으로 확인되었다... ㅡ가치지향성과 관련해 부서의 자율성을 중시할수록 방송사가 추구할  목표를 공익성으로 인식하는 반면, 전체 조직 목표를 중시할수록 상업성 방향으로 기울어 있음이 확인되었다.  \"                                                                                                                                                                                                                                             \n",
      "\n",
      "$kp2012a.txt.content\n",
      "[1] \"\\t최근 한국의 문화예술 분야에서 벌어지고 있는 역동적 변화를 이해하기 위해서는 창조-매개?소비의 상호작용에 관한 예술계 각 부문을 아우르는 시각으로 접근할 필요가 있다. 특히 문화산업의 발전으로 소비-지형에 대한 신뢰성 있는 연구의 필요성이 증대되었지만, 개별적으로 다양하게 이뤄지는 소비ㅡ행위를 측정하는데 어려움이 존재했다. \\t본 연구에서는 기존의 설문조사에 의존하는 문화예술 소비 연구의 대안으로,      온라인 구매 기록을 활용하는 /3가지 연구 방법/을 도입하였다. \"                                                                                                                                                                                                                                                                                                                                                                                                                                                                                                                               \n",
      "[2] \"\"                                                                                                                                                                                                                                                                                                                                                                                                                                                                                                                                                                                                                                                                                                                                                                                                                                                                                                                                                                                                            \n",
      "[3] \"구체적으로는 2000년대를 거치며 급격하게 성장한 공연예술에 주목하여, 2001∼2006년 사이에 티켓링크에서 비교적 꾸준하게 공연을 구매한 적극적인 문화소비자들(Active Performing-arts Consumer)의 구매기록을 분석했다. 이를 통해 실제로 문화를 소비하는 사람들의 특징과 시간(계절/월간/주간/일간)에 따른 문화소비의 양적 변화, 장르적 차원에서의 소비 내용 변화 및 문화소비다양성을 \\t확인함으로써 한국의 ‘문화소비’ 지형을 기술하는 것을 연구의 목적으로 한다. 연구 결과, 양적으로는 공연 예술 분야의 양적 팽창과 소비의 양극화 경향을, 소비내용에 있어서는 소비 저변의 확대와 소비다양성 감소 추세를 확인할 수 있었다. 최근의 통시적 변화를 보여주는 이러한 결과는 문화산업 분야의 전략/정책 수립과 예술경영 운영//관리방안 수립에 근거로서 활용될 수 있을 것이다. 다만, 온라인 구매 기록이 분석을 목적으로 한 자료가 아니라는   점에서 이론적 설명에 어려움이 있었다. --향후에는 ‘로그 데이터’ 분석에 기존의 사회과학 연구모델을 치밀하게 접목하는 등의 보다 융합적인 연구 시도가 필요할 것으로 보인다.ㅡㅡ\"\n",
      "\n",
      "$kp2012b.txt.content\n",
      " [1] \"\"                                                                                                                                                                                                                                                                                                                                                                               \n",
      " [2] \" 인터넷 이용의 심리적/사회적 효과에 관한 연구에서  이용시간 변수는 핵심적 변수 역할을 하고 있다. \"                                                                                                                                                                                                                                                                              \n",
      " [3] \"많은 연구들이 자기응답방식을 통해서 인터넷 이용시간을 측정하지만, 자기응답방식을 통한 인간의 행동측정은 과도응답의 위험성에 100% 노출되어 있다는 문제점이 있다.\"                                                                                                                                                                                                                \n",
      " [4] \"    \"                                                                                                                                                                                                                                                                                                                                                                           \n",
      " [5] \"이번 연구에서는 (1) 관행적인 [자기응답방식]으로 얻어진 인터넷의 이용시간이 기계측정방식으로 얻어진  이용시간에 비하여 과도응답이 나타나는지, 그리고 (2) 선행연구들에서 제시된 가설들을 통해 과도응답을 일으키는 이유가 무엇인지 탐구하였다. \"                                                                                                                                   \n",
      " [6] \"도출된 ‘적정응답가설’, ‘추정오류가설’, 그리고 ‘사회요망성가설’들 중 ‘추정오류가설’이 경험적 지지를 얻은 반면, 다른 두 가설들은 가설예측과 정반대의 결과를 보이는 것으로    나타났다. \"                                                                                                                                                                                  \n",
      " [7] \"\"                                                                                                                                                                                                                                                                                                                                                                               \n",
      " [8] \"또한 (3) 자기응답방식으로 얻어진 이용시간이 연구문제 및 가설검증에 어떠한 미치는지를 기계측정방식으로 얻어진 이용시간과의 비교를 통해, 자기응답방식으로 얻어진 인터넷 이용시간으로 응답자의 인터넷에     대한 주관적인 평가(‘자신의 인터넷 행위 인식’ 및 (4)‘다른 인터넷 이용자에 대한 인식’)를 예측할 경우 타입-I(type-1) 오류를 범할 가능성이 높다는 결과를 발견하였다.\\t\"\n",
      " [9] \"\"                                                                                                                                                                                                                                                                                                                                                                               \n",
      "[10] \"\"                                                                                                                                                                                                                                                                                                                                                                               \n",
      "[11] \"\"                                                                                                                                                                                                                                                                                                                                                                               \n",
      "[12] \"\\t\"                                                                                                                                                                                                                                                                                                                                                                             \n",
      "\n",
      "$kp2013a.txt.content\n",
      "[1] \"\"                                                                                                                                                                                                                                                                                                                                                                                                                                                                                                                                                                                                                                                                                                                                                                                                                                                                                                                                                                                                                  \n",
      "[2] \"\"                                                                                                                                                                                                                                                                                                                                                                                                                                                                                                                                                                                                                                                                                                                                                                                                                                                                                                                                                                                                                  \n",
      "[3] \"이 연구는 정치인의 말하기 방식에 따라 해당정치인에 대한 개인적 윤리적/도덕성 평가는 물론 정치전반에 대한 신뢰와 냉소주의에 미치는 영향을 가상적 ”인사청문회”   상황을 이용한 실험연구를 통해 살펴보았다. 선행연구에 기반하여 의혹에 싸인 정치인이 채택할 수 있는 정치적 말하기 방식을\\t (1) 부인(denial), (2) 정당화(justification), (3) 변명(excuse), (4) 참회(confession)로 구분한 후 각각의 해명효과를 살펴보기 위해서 의혹만 제기되고 해명은 제기되지 않는 (5) 해명 없음(no account)을 추가한 5가지의 실험조건을 준비하였다. 정치적 의혹이 제기되고 해명되는 정치적  상황으로는 ‘고위공직자 인사청문회’를 선택하였다. 실험결과 ‘정당화’와 ‘참회’ 전략에서 해당정치인에 대해 상대적으로 높은 도덕적 \\t\\t평가가 나타났다. 정치전반에 대한 신뢰의 경우 오직 ‘참회’ 전략만이 국민들의 정치신뢰를 고양시킬 수 있는 것으로 나타났다.     이 연구는 정치인의 말하기 방식이 개별정치인의 ‘평판관리 전략’을 넘어서 ‘좋은 민주주의’의 조건 중 하나인 ‘정치신뢰’를 낳을 수도 있다는 것을 보여주고 있다.\\t\"\n",
      "[4] \"\"                                                                                                                                                                                                                                                                                                                                                                                                                                                                                                                                                                                                                                                                                                                                                                                                                                                                                                                                                                                                                  \n",
      "[5] \"\"                                                                                                                                                                                                                                                                                                                                                                                                                                                                                                                                                                                                                                                                                                                                                                                                                                                                                                                                                                                                                  \n",
      "\n",
      "$kp2013b.txt.content\n",
      "[1] \"우리 연구는 ‘트위터(Twitter)’가 이용자들의 여론지각에 어떠한 영향을 미치는지를 ‘허위합의지각’을 중심으로 살펴보았다. 트위터는 많은 사람들이 참여하는 담론공간이지만, 인간관계가 선택적으로 구성되는 특징으로 비슷한 의견의 사람들끼리 상호작용하는 공간//장소에 불과하다는 지적도 있다. \\t\\t트위터(TWITTER)가 \\\"여론지각\\\"에 미치는 영향을 실증적으로 탐색하기 위해 우리는 <10회이상/1일>, <30회이상/1주일> 정도의 이용패턴을 가지는 트위터 이용자들이 비이용자들에 비해 실제로 '허위합의지각'이 높은지,   또한 트위터 이용자 집단 내에서 이들의 “이념강도”와 “네트워크 동질성”의 인식이 허위합의 지각에 어떤 영향을 미치는지 살펴보았다.. 연구결과 /트위터/ 이용자가 비이용자에 비해 높은 허위합의지각을 보였을 뿐 아니라, 이용자 집단 내부에서도 동질성 인식이 높고 ‘이념강도’가 강할수록 잘못된 여론지각을 보이는 것을 부분적으로 확인할 수 있었다. 연구결과를 바탕으로 우리는 트위터 공간이 여론연구에 어떠한 함의를 갖는지 그리고 한국 민주주의에 어떠한 영향을 끼칠 것인지 논의하였다.   \"\n",
      "[2] \"\"                                                                                                                                                                                                                                                                                                                                                                                                                                                                                                                                                                                                                                                                                                                                                                                                                                                                                                                                                                                                         \n",
      "\n",
      "$kp2014a.txt.content\n",
      "[1] \"이 연구는 위키리크스를 통해서 공개된 주한 미국대사관의 외교전문들을 컴퓨터 언어처리 기법을 이용하여 분석한 것이다.  구체적으로   2006년 1월  1일부터 2010년 2월 25일까지  미국대사관에서 본국으로 발송한 1,080건의 ‘비밀’ 혹은 ‘대외비’ 외교전문들 중 64.7%를 분석하였다.   해당 시기는 본국인 미국과 주재국인 한국 모두에서 정권교체가 일어났던 시기였다. 한국의 정권교체를 ‘대등적-협력적’로 미국의 정권교체를 ‘일방적-상호적’로 단순화한 후 위키리크스에서 공개된 전문들을  (1)‘대등적－일방적’, (2)‘협력적－일방적’그리고 (3)‘협력적－상호적’의 세 기간으로 나누었다. \"                                                                                                                                                                   \n",
      "[2] \"\"                                                                                                                                                                                                                                                                                                                                                                                                                                                                                                                                                                                                                                                                                                                                                           \n",
      "[3] \"또한 공개된 외교전문들에서 \\t① 한국  내 정세, ②  북한관련, ③ 주한미군, ④ 남북경협, ⑤ 해외파병, ⑥ 동북아문제, ⑦ 한미통상의 주제들을, 그리고 긍정적/부정적 감정과 두 감정이 공존하는 양가감정(兩價感情)을 각각 (1)잠재적 디리쉴레분포 배치모형, (2)주성분 분석, 그리고 (3)LIWC 분석을 통하여 추출하였다. \\t분석결과, 첫째, 주제와 감정을 추출하는 컴퓨터 텍스트 분석은 일정수준의 타당성을 확보할 수 있었고, 둘째, 문서내의 주제와 감정의 변화는 주로 본국의 정권변화에 민감하게 반응하며, 주재국의 변화에는 그 변화가 상대적으로 적다는 사실을 확인할 수 있었다. 이 논문에서는 위키리크스 외교전문과 같은 대용량의 텍스트를 분석할 때 컴퓨터 언어처리 방식의 방법론적 타당성과 주재국-대사관-본국간의 외교 커뮤니케이션의 이론적 함의도 논의하였다.\\t\"\n",
      "\n",
      "$kp2014b.txt.content\n",
      "[1] \"SNS(Social Network Service) 공간에서는 다양한 유형의 인간-관계를 유지·형성하는 것이 가능하다.\\t 본 연구는 SNS 공간에서의 인간-관계유형을 ‘관계유지’\\t(기존 오프라인 관계가 SNS로 옮겨간 경우), ‘관계형성’ (SNS에서 새로이 형성된 경우), ‘관계회복’(끊어졌던 오프라인 관계가 SNS를 통해 회복된 경우)의 세 가지로 구분하였고, 각각의 관계망의 크기와 강도를 구분하였다. 또한 이에 영향을 받는 사회적 지지감 역시도 온라인/오프라인으로 구분한 후 각 관계망의 크기와 강도가어떠한 영향을 미치는지를 살펴보았다. 연구결과, 오프라인 사회적  지지감과 온라인 사회적 지지감은 서로 구분되며, SNS 관계망 유형별에 따라 다른 영향을 받는 것으로 나타났다. 구체적으로 모든 유형의 관계망 크기는 온/오프라인 사회적 지지감에 별다른 영향을 주지 못하였지만, 관계형성형 관계망 강도는 온라인 사회적 지지감에 그리고 관계유지형 관계망 강도는 오프라인 사회적 지지감에 +방향으로 긍정적 효과를 끼치는 것으로 나타났다. 결과에 대한 논의와 이론적 함의, 그리고 한계점은 결론부에서 구체적으로 논의하였다.\"\n",
      "\n",
      "$kp2014c.txt.content\n",
      "[1] \"본 연구는 인터넷(Internet)을 통한 커뮤니케이션이 사회적 규범 변화에 미치는 영향을 주목했다. \\t\\t\\t구체적으로 인터넷(internet) 이용의 빈도/방식의 차이가 세대 간의 규범 차이라는 결과로 이어지는지 그리고 만약 그렇다면 어떤 요인들이 이 과정을 매개하는지를 탐색했다. 사회적 규범의 형성과 변화에 관한 기존의 연구는 사회적 규범이  개인의 커뮤니케이션 경험에 따라 차이가 나며, 주관적으로 선택한 준거-집단과 교류 대상자에 영향을 받는다는 점에 주목하고 있다. 따라서 ㄱ)인터넷을 통해 어떤 커뮤니케이션 경험을 하는가?, ㄴ)어떤 준거집단을 선택했는가, ㄷ)어떤 대상과 교류하고 있는가에 따라 사회적 규범 변화에 미치는 영향이 달라질 것이라고 보았다. 전국 인터넷 이용자를 대상으로 진행한 서베이 자료를 통해 분석한 결과, 사회적 규범에 근간이 되는 가치관에는 연령집단 간 차이가 나지 않았으나 구체적 탈규범 행동에는 연령집단 간 차이가 유의미하게 나타났다. (p-value < 0.01) 사회적 규범은 온라인 행동과 오프라인 행동에서 유의미한 상관관계(r = 0.87)를 보였으며, 온라인 서술적 규범과 명령적 규범은 온라인 탈규범을 매개로 오프라인 탈규범에 영향을 미칠 수 있는 것으로 나타났다. \\t이를 통해 온라인 이용이 사회적 규범에 있어, 모든 세대에 걸쳐 온라인-행동과 오프라인-행동에 정(+)의 영향을 미친다는 점을 확인할 수 있었다.\"\n",
      "\n",
      "$kp2014d.txt.content\n",
      "[1] \"이 연구의 목적은 TV 건강프로그램 시청경험이 어떻게 시청자의 건강증진행동으로 이어지는가를 밝히는 것이다. 이를 위해 사회인지이론(ㅡBandura,  1977; 2004)과 \\t건강정보의 설득과정모형(ㅡMcGuire, 1981, 2001)에 기반하여 TV 건강프로그램 시청경험이 건강효능감에 미치는 영향과 건강효능감이 시청경험과 건강증진행동 사이에서 매개변수 역할을 하는 연구모형을 구축하였다. 연구를 위해 2013년 10월 18일부터 10월 23일까지 서울 및 서울 주변 신도시 거주 성인남녀 300명을 대상으로 설문조사 데이터를 수집하였다. 시청경험은 시청빈도, 신뢰도, 만족도의 세 개 변수로, 건강효능감과 건강증진행동은 운동, 식이습관 등 두 가지 하부 영역으로 구분하였다. 연구모형은 구조방정식 모형을 활용하여 검증하였다. 연구결과는 다음과 같다. 첫째, 시청자가 건강프로그램을 빈번하게 시청하고 프로그램 내용에 대한 만족감이 클 때 식이습관과 운동에 대한 건강효능감이 모두 증가하였다. 프로그램에 대한 신뢰도는 건강효능감에 유의미한 영향을 \\t미치지 않았다.(p > 0.05)     둘째, 운동 관련 건강효능감은 운동 관련 건강증진행동에, 식이습관 관련 건강효능감은 식이습관 관련 건강증진행동에 긍정적인 영향을 미쳤다. 건강효능감영역 간 교차효과는 발견되지 않았다. \\t\\t셋째, 시청경험 변수들 중에서 시청빈도만이 운동 관련 건강증진행동에 직접효과(direct effect)를 나타내었다. 즉 시청빈도는 운동 행동에 대해 직접효과와 (운동 관련 건강효능감을 경유하는) 간접효과를 모두 보였다. (p < 0.10)\"\n",
      "\n",
      "$kp2016a.txt.content\n",
      "[1] \"본 연구는   신문사에 칼럼을 기고하는 외부 필진(1회이상/1개월)과 일반 신문 이용자의 정파적 미디어 이용행태가 어떠한지를 살펴보았다. 이를 위해, 본 연구에서는 \\t보수ㆍ진보 신문에 대한 ‘균형 노출’, 이념성향이 일치하는 신문에 대한 ‘관점 일치 노출’, 이념/성향과 일치하지 않는 신문에 대한  ‘관점 불일치 노출’이 신문사 외부 필진과 일반 신문 이용자 사이에서 어떻게 다르게 나타나며 이들의 정치적 이념성향이 정파적 신문 이용에 어떤 영향을 미치는지 조사하였다. 본 연구는 크게 다음의 세 가지에 집중하였다. 첫째, 칼럼-기고자와 \\t\\t일반 대중의 정파적 신문 노출은 어떻게 다른가? 둘째, 신문 이용자의 정치적 이념성향에 따른 정파적 신문 노출은 어떠한가?? 셋째, 정파적 신문 노출에 대한 정치적 이념성향의 효과는 집단별로 어떻게 나타나는가? -- 조사 결과를 통해 한국 사회의 ‘정치적 양극화’ 특징과 한국의 여론 형성 과정에서의   이론적·실제적 함의를 밝혔다.\"\n",
      "\n",
      "$kp2016b.txt.content\n",
      "[1] \"본 연구는 최근 인기를 끄는 음식프로그램 시청이 시청자에게 어떠한 심리적 욕구를 충족시키며 주관적 행복감 증진에 기여하며 이러한 음식프로그램 시청효과 발생과정이 시청자 가구형태에 따라 어떻게 다르게 나타나는지 실증적으로 살펴보았다. 이용과 충족 이론, 의사사회 \\t상호작용 인식을 토대로 한 텔레비전 프로그램의 심리적 효과연구를 기반으로, 본 연구에서는 음식프로그램 시청과 주관적 행복감을 매개하는 다음의 네 가지 심리적 변수를 추출하였다. <1> 첫째, 시청자는 음식프로그램 시청을 통해 요리법이나 맛집 정보 같은 ‘정보 만족’을 얻을 수 있다. <2> 둘째, 음식프로그램 시청자는 맛있는 음식을 대리소비(vicarious consumption)하는 방식으로 ‘식도락 만족’을  얻을 수 있다.  <3> 셋째, 음식프로그램 시청자들은 인기 있는 음식프로그램을 이야깃거리로 다른 사람과의 관계를 유지ㆍ형성하는 ‘사교적 만족’을 얻을 수 있다. <4> 넷째, 음식프로그램에 \\t\\t등장하는 유명인사와의 가상적 상호작용 경험, 즉 의사사회 상호작용 만족을 얻을 수 있다. 이를 기반으로   본 연구에서는 5회이상/하루당 시청패턴을 보이는 시청자들을 대상으로 시청자의 가구형태를 1인·2인·3인 이상 가구로 구분한 후, 응답자의 가구형태가 네 가지 심리적 변수가 음식프로그램 시청과 주관적 행복감의 관계를 매개하는 모형에 어떠한 영향을 미치는지를 ‘조절된 매개과정 모형’을 이용해 검증하였다.\"\n",
      "\n",
      "$kp2016c.txt.content\n",
      "[1] \"본 연구의 목적은 사람들의 건강관련 신념과 정치관련 신념이 어떤 관계를 맺고 있으며, 이러한 신념이 2015년 한국의 메르스 감염확산 사태의 원인에 대한 인식과 책임소재 판단에 어떠한 영향을 미치는지 밝히는 것이다. 이를 위해 귀인이론에 기반을 두고 건강통제영역 인식성향이 ‘정부’, ‘대형병원’, ‘메르스 감염자’라는 각 주체에 대한 원인인식에 어떠한 영향을 끼친 후 책임귀인으로 이어지는지를 살펴보는 매개효과를 설정하였으며, 이 매개효과가 응답자의 정치적 성향에 따라 어떻게 조절되는지를 다집단 구조방정식 모형을 통해 살펴보았다. 2015년 7월 16일부터~21일까지 할당표집한 표본 8,635명을 대상으로 온라인 서베이를 통해 데이터를 수집하였다.  건강통제영역 인식성향은 내적ㅡHLC, 전문가ㅡHLC, 운명ㅡHLC의 세 가지 하위차원으로 구분하였고, 정치적 성향은 진보/중도/보수의 세 가지 차원으로 구분하였다. 연구 결과는 다음과 같다. 첫째, 내적 HLC 성향은 메르스 감염자에 대한 원인인식을 통해 책임귀인으로 이어졌으며 이러한 매개효과는 보수주의자에게서 더욱 두드러지게 나타났다. 둘째, 전문가 HLC 성향은 정부나 대형병원에 대한 원인인식을 통해 책임귀인으로 이어졌으며 이러한 매개효과는 보수주의자보다 진보주의자나 중도주의자에게서 더욱 두드러지게 나타났다. \\t\\t\\t셋째, 운명 HLC 성향에 대해서는 뚜렷한 매개효과가 발견되지 않았으며 정치적 성향에 따라서도 이 효과는 달라지지 않았다.\"\n",
      "\n",
      "$kp2016d.txt.content\n",
      "[1] \"\"                                                                                                                                                                                                                                                                                                                                                                                                                                                                                           \n",
      "[2] \"\"                                                                                                                                                                                                                                                                                                                                                                                                                                                                                           \n",
      "[3] \"본 연구는 서울시의 25개 구에서 120명씩 성별·연령별 할당표집한 서울시민들을 설문조사한 데이터를 활용하여 마을 공동체 활동에 참여하는 사람은 누구이며, 이들이 지지하는 정치적(politic)·사회적(social) 가치가 무엇인지를 밝히는 실증연구를 실시하였다. 응답 수치는 보통 15%에서 -3..5%가 감소한 11.5% 정도로 나타났다. 본 연구에서는 ‘마을 공동체 활동 참여’를 설명하기위해 (a)‘탈물질주의 가치지향’, (b)‘권위주의 가치지향’, \\t\\t그리고 (c)‘정치적 이념성향’ 세 가지에 주목하였다. \"\n",
      "[4] \"‘탈물질주의 가치지향’은 마을 공동체 활동은 환경보호나 공동육아 등 기존의 정치·경제적 제도가 추구했던 가치와는 다른 대안적 가치를 추구하고 있다는 점을 반영하기 위해 선택되었으며, ‘권위주의적 가치지향’은 마을 공동체 활동 역시도\\t 조직적활동이며, 이에 따른 서열의식 그리고 리더쉽에 대한 태도를 반영하기 위해 선택되었다. \"                                                                                                                                                         \n",
      "[5] \"\"                                                                                                                                                                                                                                                                                                                                                                                                                                                                                           \n",
      "[6] \"또한 마을공동체 활동이 진보-보수 양진영에서 같이 일어나고 있으며, \"                                                                                                                                                                                                                                                                                                                                                                                                                         \n",
      "[7] \"상대 진영의 공동체 활동을 정치적 활동으로 규정하려는 점에서 ‘정치적 이념성향’도 같이 고려하였다. 연구결과 현재의 마을 공동체 활성화 참여자들 중 약 73.8% 정도가 서열의식과 강력한 리더쉽을 중시하는 권위주의적 가치를 선호하는 보수적 시민들이 주도하는 것으로 나타났다.\"                                                                                                                                                                                                                 \n",
      "\n",
      "$kp2016e.txt.content\n",
      "[1] \"\\t\\t본 연구는 공익 연계 마케팅에서 추구하는 사회적 가치와 기업 활동의 관련성이 공익 연계 광고태도와 기업태도에 미치는 효과가 소비자의 귀인 방식과 기업의 기업의사회적책임(Corporate Social Responsibility, CSR) 평판에 따라 어떻게 변하는지 살펴보았다. 성별·연령별로 할당된 일반인 표본을 이용해 기업－공익 적합도와 CSR 평판을 실험조작한 30초의 공익 연계 광고를 제시한 후 소비자 귀인 방식과 광고·기업태도를 측정하였다. 연구 결과 기업－공익 적합도가 귀인 방식 및 광고·기업태도에 미치는 직접·간접 효과는 -10% ~ +10% 정도 CSR 평판에 따라 다르게 나타났다..  CSR 평판이 긍정적인 경우 기업－공익 적합도는\\t 소비자 귀인 과정을 매개로 소비자들의 공익 연계 광고태도를 1/3 정도 개선시킨 반면,   csr 평판이 중립적인 경우는 이러한 매개 효과가 나타나지 않았다. 또한 CSR 평판이 긍정적인 경우 기업－공익 적합도는 기업태도와 무관하였으나, CSR 평판이 중립적인  경우  기업－공익 적합도는 기업태도를 23.87% 정도개선시키는 것으로 나타났다. 본 연구에서는 왜 선행 연구들에서 기업－공익 적합도의 효과가 일관되게 나타나지 않았는지에 대한 이론적 해답을 제시하였으며, \\t기업의 csr 평판에 따라 어떠한 사회적 가치를 공익연계 마케팅에서 추구해야 하는지에 대한 실무적 함의도 제시하였다..\"\n",
      "\n",
      "$kp2016f.txt.content\n",
      "[1] \"이 연구는 \\t\\t최근 활발히 진행되고 있는 마을공동체 사업의 실천이론이 되는 소통행위(communicative action)이론들을 바탕으로 공동체와 소통 간의 관계가 공동체미디어에 의해 매개되는 과정의 특성을 이해하고자 하였다. 구체적으로 우리는 마을공동체미디어라는 커뮤니티미디어를 중심으로 미디어 참가자들이 공동체를 규정하는 방식에서 ‘소통행위’는 어떠한 의미가 있는지, 공동체미디어 참가자들의 공동체를 위한 '소통행위(Communicative Action)'의 동기/목적은 무엇이며 그 특성은 어떠한지를 파악하고자 한다. 또한 이러한 공동체미디어의 조직화 과정을 지역공동체의 공론장 구조의 재구성 맥락 차원에서 이해하고자 하였다. 이를 위해 이 연구는 인터뷰와 각종 문서자료의 질적/정성적/감성적 분석을 통해 이에 대한 답을 구하고자 하였다. 분석 결과, 서울 도시공동체운동은 노스탤지어적인 감정적 실천에 기반하여 공동체를 규정하고 \\\"소통행위(Communicative action)\\\"의 실천 근거를 찾고 있었으며, 공동체미디어는 “소통행위”의 동기와 소통방식에 따라 주민마을미디어;시민마을미디어; 마을언론미디어;관변마을미디어 등 상이한 유형으로 구분되며 이에 따라 공동체 공론장 역시 소통 동기와 방식에 따라 차이를 나타낼 수 있음을 발견할 수 있었다(Choi & Bond, 2017). \\t\\t이러한 발견을 바탕으로 소통행위를 통한 공동체 형성의 의의와 한계를 논의하였다.\"\n",
      "\n",
      "$kp2016g.txt.content\n",
      "[1] \"본 논문은 커뮤니케이션 관점을 통해 전 세계적으로 나타나는 (1)포퓰리즘 현상의 의미는 무엇이며, \\t(2)왜 그리고 (3)어떻게 커뮤니케이션 연구자가 포퓰리즘 현상을 연구 대상으로 삼아야 하는지 논의하였다. 이를 위해 다음과 같은 순서로 본 논문을 전개하였다. 첫째, 포퓰리즘에 대한 다른 학문 분과들의 관점/성과를 소개하고 커뮤니케이션 관점에서 선행 연구들을 비판적으로 재검토하였다. 역사학, 정치학, 사회학 등의 다른 학문 분과들에 비해 커뮤니케이션 관점이 어떻게, 왜 포퓰리즘 현상을 보다 잘 설명할 수 있는지 살펴보았다. \"                                                                                                                                                                                                                                                                                                                                                                                                        \n",
      "[2] \"\"                                                                                                                                                                                                                                                                                                                                                                                                                                                                                                                                                                                                                                                                                                                                                                                                                                                                                                                                   \n",
      "[3] \"둘째, [1]포퓰리즘 현상들을 관통하는 특징들은 무엇이며 [2] 언제 어떤 조건에서 포퓰리즘이 등장하는지 설명한 후, 세계적으로 다양한 형태로 나타나는 다양한 포퓰리즘 현상들을 소개하였다. 셋째, 커뮤니케이션 이론 관점에서 <1>‘레토릭’, <2>‘저널리즘’과 <3>‘정치 커뮤니케이션’ 연구에서 포퓰리즘 현상이 어떠한 의미를 가지며 어떻게 분석할 수 있는지 살펴보았다. \\t정부를 감시하고 비판하는 소위 ‘감시견’으로서의 언론의 역할은 포퓰리즘 현상과 매우 닮아 있으며, 단일한 ‘국민’을 형성하고 다수의 국민과 대립되고 배치되는 ‘타락한 엘리트’와 ‘이방인’들을 배척하는 포퓰리즘 담론의 구성은 커뮤니케이션 과정과 깊은 연관을 갖고 있으나, 이 분야에 대한 최근의 커뮤니케이션 연구는 활발하지 않은 것이 현실이다. 끝으로 포퓰리즘과 민주주의의 관계를 논의하면서 포퓰리즘 현상의 커뮤니케이션적 의미가 무엇인지, 포퓰리즘 현상의 커뮤니케이션적 함의는 무엇이며 이를 어떻게 바라보아야 하는가에 대한 저자의 견해를 소개하였다.\"\n",
      "\n",
      "$kp2016h.txt.content\n",
      "[1] \"\\t본 논문의 목적은 언론학 교육과정(curriculum) 개선논의의 등장배경과 역사를 서술하고 그 필요성/방향성을 제시하는 것이다. \\t본 논문에서는 컴퓨터 프로그래밍 언어와 데이터 수집  · 관리 · 분석 · 재현과 같은 데이터 과학관련 지식과 기술의 필요성을 강조하며 이를 언론학의 교과과정에 첨가 · 융합해야 한다는 주장의 등장배경과 필요성을 전반적으로 개괄 · 소개하였다. 또한 제도주의(institutionalism) 이론에 근거하여 언론학 교과과정을 ‘제도(institution)’로 파악하였으며, 제도를 둘러싼 이해관계자들로  ‘교수진’, ‘학생’, ‘학부모를 비롯한 일반인’, ‘다른 학문분과들’을 논의하였다. 이를 통해 기존의 교과과정과 새로운 교과과정이 특정 집단내부 혹은 집단 간 갈등을 일으킬  수  있으며, 이러한 갈등을 최소화시키고 협력가능성을 증대시킬 수 있는 방안을 추상적 수준에서나마 제안해 보았다. -- [참고] 커뮤니케이션연구ㅡ\\t\\t\"\n",
      "\n"
     ]
    },
    {
     "ename": "ERROR",
     "evalue": "Error in eval(expr, envir, enclos): 객체 'tmp_all_combined'를 찾을 수 없습니다\n",
     "output_type": "error",
     "traceback": [
      "Error in eval(expr, envir, enclos): 객체 'tmp_all_combined'를 찾을 수 없습니다\nTraceback:\n"
     ]
    }
   ],
   "source": [
    "# 말뭉치 각 문서파일의 내용을 일괄 로딩\n",
    "tmp_all <- sapply(my, extract, 1) \n",
    "tmp_all  %>% print\n",
    "\n",
    "# - 말뭉치를 구성하고 있는 각 리스트항목(문서)에 데이터순환방식으로 접근해 \n",
    "#   content 항목의 내용을 추출해 조회하고, 결과를 리스트구조로 보여줌\n",
    "# - 문서파일 중 일부는 content항목의 길이가 1로 나와서 1개의 문자열로 구성되어 있지만,\n",
    "#   다른 문서파일들의 경우에는 들어 있는 content항목의 길이가 여러 개로 파악되고 있어\n",
    "#   이를 1개의 문자열 데이터로 결합해주는 작업이 필요함\n",
    "\n",
    "length(tmp_all_combined)\n",
    "class(tmp_all_combined)"
   ]
  },
  {
   "cell_type": "code",
   "execution_count": 44,
   "metadata": {
    "scrolled": true
   },
   "outputs": [
    {
     "data": {
      "text/html": [
       "<dl class=dl-horizontal>\n",
       "\t<dt>kp2004a.txt.content</dt>\n",
       "\t\t<dd><span style=white-space:pre-wrap>'   여론조사환경의 변화로 기존의 전화조사를 이용한 대표성 확보는 점차 어려워지고 있다. 이에 따라 기존 표본조사방법에 대한 대안으로 인터넷， 휴대전화와 같은 새로운 미디어를 이용한 \"대안적 여론조사\" 도입이 시도되고 있으며, 몇몇 사례들에서 성공을 거두었다. 그러나 시간과 비용을 절약하고 기존 표본조사방법의 한계를 극복할 수 있는 잠재력을 활용하기 위해서는 ‘대안적 여론조사방법이 갖고 있는 표본편파의 문제점이 극복되어 야 한다. 따라서 이 글은 ㄱ)\\'전통적인 조사방법\\'과 \\'대안적 조사방법\\'을 실제 여론조사’와의 비교와 이론적 분석을 토대로 “대안적 조사방법”의 특징과 문제점을 살펴보았다(Kim, et al., 2015). 아울러 대안적 조사방법이 갖는 비확률적 표집방법에 따른 문제점을 해결하는 방안으로 최큰 제기되는 새로운 가중치 부여방법인 ㄴ)성향-가중방법과 반복-비례가중법을 살펴보았다. 이들은 인구통계학적 특성만을 고려한 가중치 부여방법보다 비확률적 표집방법에 의한 편차를 줄이는 데 효과적 방법으로 평가받고 있다. 그러나 통계학적 문제점들과 적용사례가 기존연구방법론 대비 1/10 정도수준으로 충분치 많다는 점, 그리고 몇몇 치명적인 실패사례들은 대안적 여론조사방법이 활용되기 위한 보정방법에 관한 지속적인 추후연구가 필요함을 보여주고 있다.\\t \\t'</span></dd>\n",
       "\t<dt>kp2005a.txt.content</dt>\n",
       "\t\t<dd><span style=white-space:pre-wrap>'\\t이  논문은 커뮤니케이션 정책연구에 대한 부정적 인식의 본질과 원인을 밝히고, 20가지 현실적 개선방안을 생각해 보는 것을 목적으로 한다. 미디어의 발전과 더불어 커뮤니케이션  정책에 대한 사회적 수요는 증가되고 있다.    이에  따라 많은 커뮤니케이션 학자들이 \"정책연구\"에 직ㆍ간접적으로 개입되어 있음에도 불구하고, 정책 연구는 학계와 현업 모두에게서 인정받지 못하는 실정이다.    이러한 문제의식에서 이 연구는 커뮤니케이션 정책연구의 대상과 방법론, 국내외의 정책연구 동향, 그리고 정책연구를 둘러싼 논란 등을 차례로 살펴보았다. \"커뮤니케이션-정책연구\"는 학문과 현실을 연결짓는 중요한 사회과학적  실천학문이며, 커뮤니케이션 방법론의 문제나 학문적 비순수성//비실용성 등은 커뮤니케이션 정책연구의 구조와 잘못된 관행에서 온 편견이지 정책연구의 생래적 한계로 환원되지 않는다는 것이 이 연구의 결론이다. 커뮤니케이션 \\t학술연구와 정책연구를 구별하는 인식의 장애를 극복하면서 이론과 현실분석을 결합시켜가는 노력이 양자 모두의 발전을 위해 \\t필요하다.  '</span></dd>\n",
       "\t<dt>kp2005b.txt.content</dt>\n",
       "\t\t<dd><span style=white-space:pre-wrap>'지상파 방송사   조직문화에 대한 기존연구들은 연간 60건 정도에서 -13편 정도가 감소한 47편 정도로 나타났다. 방송사 내부의 이질적이고 상호-배타적인 하위문화들의 존재와 그 상호작용에 주목하지 못하고 있다. 본 논문에서는 자율성 선호도와 부서 내 응집도라는 두 축에 따라 네 가지 하위문화 유형을 구분한 후, 방송사내 부서들이 이중 어느 유형에 속하며, 이에 따라 공공성과 상업성 중 어느 방향의 가치지향성을 갖는지 분석하였다. 연구결과, 자율성과 응집도가 모두 높은 ‘공동체적 합의문화’ 유형에는 기술과 영상미술 부서들, 자율성은 높지만 응집도가 낮은 ‘개별화된 네트워크(Network) 문화’에는 라디오와 시사교양 부서가 속하는 것으로 드러났다. ㅡ([참고] 언론정보학연구)\\t 반면 부서의 자율성보다 조직 전체의 목교 추구를 중시하며 부서 내 응집도가 높은 ‘가부장적 문화’에는 보도/기획/편성 부서들, 전체 조직의 목표 추구를 중시하지만 부서 내 응집도가 낮은 ‘관료제적 문화’에는 인력자원 부서가 속하는 것으로 확인되었다... ㅡ가치지향성과 관련해 부서의 자율성을 중시할수록 방송사가 추구할  목표를 공익성으로 인식하는 반면, 전체 조직 목표를 중시할수록 상업성 방향으로 기울어 있음이 확인되었다.  '</span></dd>\n",
       "\t<dt>kp2012a.txt.content</dt>\n",
       "\t\t<dd><span style=white-space:pre-wrap>'\\t최근 한국의 문화예술 분야에서 벌어지고 있는 역동적 변화를 이해하기 위해서는 창조-매개?소비의 상호작용에 관한 예술계 각 부문을 아우르는 시각으로 접근할 필요가 있다. 특히 문화산업의 발전으로 소비-지형에 대한 신뢰성 있는 연구의 필요성이 증대되었지만, 개별적으로 다양하게 이뤄지는 소비ㅡ행위를 측정하는데 어려움이 존재했다. \\t본 연구에서는 기존의 설문조사에 의존하는 문화예술 소비 연구의 대안으로,      온라인 구매 기록을 활용하는 /3가지 연구 방법/을 도입하였다.   구체적으로는 2000년대를 거치며 급격하게 성장한 공연예술에 주목하여, 2001∼2006년 사이에 티켓링크에서 비교적 꾸준하게 공연을 구매한 적극적인 문화소비자들(Active Performing-arts Consumer)의 구매기록을 분석했다. 이를 통해 실제로 문화를 소비하는 사람들의 특징과 시간(계절/월간/주간/일간)에 따른 문화소비의 양적 변화, 장르적 차원에서의 소비 내용 변화 및 문화소비다양성을 \\t확인함으로써 한국의 ‘문화소비’ 지형을 기술하는 것을 연구의 목적으로 한다. 연구 결과, 양적으로는 공연 예술 분야의 양적 팽창과 소비의 양극화 경향을, 소비내용에 있어서는 소비 저변의 확대와 소비다양성 감소 추세를 확인할 수 있었다. 최근의 통시적 변화를 보여주는 이러한 결과는 문화산업 분야의 전략/정책 수립과 예술경영 운영//관리방안 수립에 근거로서 활용될 수 있을 것이다. 다만, 온라인 구매 기록이 분석을 목적으로 한 자료가 아니라는   점에서 이론적 설명에 어려움이 있었다. --향후에는 ‘로그 데이터’ 분석에 기존의 사회과학 연구모델을 치밀하게 접목하는 등의 보다 융합적인 연구 시도가 필요할 것으로 보인다.ㅡㅡ'</span></dd>\n",
       "\t<dt>kp2012b.txt.content</dt>\n",
       "\t\t<dd><span style=white-space:pre-wrap>'  인터넷 이용의 심리적/사회적 효과에 관한 연구에서  이용시간 변수는 핵심적 변수 역할을 하고 있다.  많은 연구들이 자기응답방식을 통해서 인터넷 이용시간을 측정하지만, 자기응답방식을 통한 인간의 행동측정은 과도응답의 위험성에 100% 노출되어 있다는 문제점이 있다.      이번 연구에서는 (1) 관행적인 [자기응답방식]으로 얻어진 인터넷의 이용시간이 기계측정방식으로 얻어진  이용시간에 비하여 과도응답이 나타나는지, 그리고 (2) 선행연구들에서 제시된 가설들을 통해 과도응답을 일으키는 이유가 무엇인지 탐구하였다.  도출된 ‘적정응답가설’, ‘추정오류가설’, 그리고 ‘사회요망성가설’들 중 ‘추정오류가설’이 경험적 지지를 얻은 반면, 다른 두 가설들은 가설예측과 정반대의 결과를 보이는 것으로    나타났다.   또한 (3) 자기응답방식으로 얻어진 이용시간이 연구문제 및 가설검증에 어떠한 미치는지를 기계측정방식으로 얻어진 이용시간과의 비교를 통해, 자기응답방식으로 얻어진 인터넷 이용시간으로 응답자의 인터넷에     대한 주관적인 평가(‘자신의 인터넷 행위 인식’ 및 (4)‘다른 인터넷 이용자에 대한 인식’)를 예측할 경우 타입-I(type-1) 오류를 범할 가능성이 높다는 결과를 발견하였다.\\t    \\t'</span></dd>\n",
       "\t<dt>kp2013a.txt.content</dt>\n",
       "\t\t<dd><span style=white-space:pre-wrap>'  이 연구는 정치인의 말하기 방식에 따라 해당정치인에 대한 개인적 윤리적/도덕성 평가는 물론 정치전반에 대한 신뢰와 냉소주의에 미치는 영향을 가상적 ”인사청문회”   상황을 이용한 실험연구를 통해 살펴보았다. 선행연구에 기반하여 의혹에 싸인 정치인이 채택할 수 있는 정치적 말하기 방식을\\t (1) 부인(denial), (2) 정당화(justification), (3) 변명(excuse), (4) 참회(confession)로 구분한 후 각각의 해명효과를 살펴보기 위해서 의혹만 제기되고 해명은 제기되지 않는 (5) 해명 없음(no account)을 추가한 5가지의 실험조건을 준비하였다. 정치적 의혹이 제기되고 해명되는 정치적  상황으로는 ‘고위공직자 인사청문회’를 선택하였다. 실험결과 ‘정당화’와 ‘참회’ 전략에서 해당정치인에 대해 상대적으로 높은 도덕적 \\t\\t평가가 나타났다. 정치전반에 대한 신뢰의 경우 오직 ‘참회’ 전략만이 국민들의 정치신뢰를 고양시킬 수 있는 것으로 나타났다.     이 연구는 정치인의 말하기 방식이 개별정치인의 ‘평판관리 전략’을 넘어서 ‘좋은 민주주의’의 조건 중 하나인 ‘정치신뢰’를 낳을 수도 있다는 것을 보여주고 있다.\\t  '</span></dd>\n",
       "\t<dt>kp2013b.txt.content</dt>\n",
       "\t\t<dd><span style=white-space:pre-wrap>'우리 연구는 ‘트위터(Twitter)’가 이용자들의 여론지각에 어떠한 영향을 미치는지를 ‘허위합의지각’을 중심으로 살펴보았다. 트위터는 많은 사람들이 참여하는 담론공간이지만, 인간관계가 선택적으로 구성되는 특징으로 비슷한 의견의 사람들끼리 상호작용하는 공간//장소에 불과하다는 지적도 있다. \\t\\t트위터(TWITTER)가 \"여론지각\"에 미치는 영향을 실증적으로 탐색하기 위해 우리는 &lt;10회이상/1일&gt;, &lt;30회이상/1주일&gt; 정도의 이용패턴을 가지는 트위터 이용자들이 비이용자들에 비해 실제로 \\'허위합의지각\\'이 높은지,   또한 트위터 이용자 집단 내에서 이들의 “이념강도”와 “네트워크 동질성”의 인식이 허위합의 지각에 어떤 영향을 미치는지 살펴보았다.. 연구결과 /트위터/ 이용자가 비이용자에 비해 높은 허위합의지각을 보였을 뿐 아니라, 이용자 집단 내부에서도 동질성 인식이 높고 ‘이념강도’가 강할수록 잘못된 여론지각을 보이는 것을 부분적으로 확인할 수 있었다. 연구결과를 바탕으로 우리는 트위터 공간이 여론연구에 어떠한 함의를 갖는지 그리고 한국 민주주의에 어떠한 영향을 끼칠 것인지 논의하였다.    '</span></dd>\n",
       "\t<dt>kp2014a.txt.content</dt>\n",
       "\t\t<dd><span style=white-space:pre-wrap>'이 연구는 위키리크스를 통해서 공개된 주한 미국대사관의 외교전문들을 컴퓨터 언어처리 기법을 이용하여 분석한 것이다.  구체적으로   2006년 1월  1일부터 2010년 2월 25일까지  미국대사관에서 본국으로 발송한 1,080건의 ‘비밀’ 혹은 ‘대외비’ 외교전문들 중 64.7%를 분석하였다.   해당 시기는 본국인 미국과 주재국인 한국 모두에서 정권교체가 일어났던 시기였다. 한국의 정권교체를 ‘대등적-협력적’로 미국의 정권교체를 ‘일방적-상호적’로 단순화한 후 위키리크스에서 공개된 전문들을  (1)‘대등적－일방적’, (2)‘협력적－일방적’그리고 (3)‘협력적－상호적’의 세 기간으로 나누었다.   또한 공개된 외교전문들에서 \\t① 한국  내 정세, ②  북한관련, ③ 주한미군, ④ 남북경협, ⑤ 해외파병, ⑥ 동북아문제, ⑦ 한미통상의 주제들을, 그리고 긍정적/부정적 감정과 두 감정이 공존하는 양가감정(兩價感情)을 각각 (1)잠재적 디리쉴레분포 배치모형, (2)주성분 분석, 그리고 (3)LIWC 분석을 통하여 추출하였다. \\t분석결과, 첫째, 주제와 감정을 추출하는 컴퓨터 텍스트 분석은 일정수준의 타당성을 확보할 수 있었고, 둘째, 문서내의 주제와 감정의 변화는 주로 본국의 정권변화에 민감하게 반응하며, 주재국의 변화에는 그 변화가 상대적으로 적다는 사실을 확인할 수 있었다. 이 논문에서는 위키리크스 외교전문과 같은 대용량의 텍스트를 분석할 때 컴퓨터 언어처리 방식의 방법론적 타당성과 주재국-대사관-본국간의 외교 커뮤니케이션의 이론적 함의도 논의하였다.\\t'</span></dd>\n",
       "\t<dt>kp2014b.txt.content</dt>\n",
       "\t\t<dd><span style=white-space:pre-wrap>'SNS(Social Network Service) 공간에서는 다양한 유형의 인간-관계를 유지·형성하는 것이 가능하다.\\t 본 연구는 SNS 공간에서의 인간-관계유형을 ‘관계유지’\\t(기존 오프라인 관계가 SNS로 옮겨간 경우), ‘관계형성’ (SNS에서 새로이 형성된 경우), ‘관계회복’(끊어졌던 오프라인 관계가 SNS를 통해 회복된 경우)의 세 가지로 구분하였고, 각각의 관계망의 크기와 강도를 구분하였다. 또한 이에 영향을 받는 사회적 지지감 역시도 온라인/오프라인으로 구분한 후 각 관계망의 크기와 강도가어떠한 영향을 미치는지를 살펴보았다. 연구결과, 오프라인 사회적  지지감과 온라인 사회적 지지감은 서로 구분되며, SNS 관계망 유형별에 따라 다른 영향을 받는 것으로 나타났다. 구체적으로 모든 유형의 관계망 크기는 온/오프라인 사회적 지지감에 별다른 영향을 주지 못하였지만, 관계형성형 관계망 강도는 온라인 사회적 지지감에 그리고 관계유지형 관계망 강도는 오프라인 사회적 지지감에 +방향으로 긍정적 효과를 끼치는 것으로 나타났다. 결과에 대한 논의와 이론적 함의, 그리고 한계점은 결론부에서 구체적으로 논의하였다.'</span></dd>\n",
       "\t<dt>kp2014c.txt.content</dt>\n",
       "\t\t<dd><span style=white-space:pre-wrap>'본 연구는 인터넷(Internet)을 통한 커뮤니케이션이 사회적 규범 변화에 미치는 영향을 주목했다. \\t\\t\\t구체적으로 인터넷(internet) 이용의 빈도/방식의 차이가 세대 간의 규범 차이라는 결과로 이어지는지 그리고 만약 그렇다면 어떤 요인들이 이 과정을 매개하는지를 탐색했다. 사회적 규범의 형성과 변화에 관한 기존의 연구는 사회적 규범이  개인의 커뮤니케이션 경험에 따라 차이가 나며, 주관적으로 선택한 준거-집단과 교류 대상자에 영향을 받는다는 점에 주목하고 있다. 따라서 ㄱ)인터넷을 통해 어떤 커뮤니케이션 경험을 하는가?, ㄴ)어떤 준거집단을 선택했는가, ㄷ)어떤 대상과 교류하고 있는가에 따라 사회적 규범 변화에 미치는 영향이 달라질 것이라고 보았다. 전국 인터넷 이용자를 대상으로 진행한 서베이 자료를 통해 분석한 결과, 사회적 규범에 근간이 되는 가치관에는 연령집단 간 차이가 나지 않았으나 구체적 탈규범 행동에는 연령집단 간 차이가 유의미하게 나타났다. (p-value &lt; 0.01) 사회적 규범은 온라인 행동과 오프라인 행동에서 유의미한 상관관계(r = 0.87)를 보였으며, 온라인 서술적 규범과 명령적 규범은 온라인 탈규범을 매개로 오프라인 탈규범에 영향을 미칠 수 있는 것으로 나타났다. \\t이를 통해 온라인 이용이 사회적 규범에 있어, 모든 세대에 걸쳐 온라인-행동과 오프라인-행동에 정(+)의 영향을 미친다는 점을 확인할 수 있었다.'</span></dd>\n",
       "\t<dt>kp2014d.txt.content</dt>\n",
       "\t\t<dd><span style=white-space:pre-wrap>'이 연구의 목적은 TV 건강프로그램 시청경험이 어떻게 시청자의 건강증진행동으로 이어지는가를 밝히는 것이다. 이를 위해 사회인지이론(ㅡBandura,  1977; 2004)과 \\t건강정보의 설득과정모형(ㅡMcGuire, 1981, 2001)에 기반하여 TV 건강프로그램 시청경험이 건강효능감에 미치는 영향과 건강효능감이 시청경험과 건강증진행동 사이에서 매개변수 역할을 하는 연구모형을 구축하였다. 연구를 위해 2013년 10월 18일부터 10월 23일까지 서울 및 서울 주변 신도시 거주 성인남녀 300명을 대상으로 설문조사 데이터를 수집하였다. 시청경험은 시청빈도, 신뢰도, 만족도의 세 개 변수로, 건강효능감과 건강증진행동은 운동, 식이습관 등 두 가지 하부 영역으로 구분하였다. 연구모형은 구조방정식 모형을 활용하여 검증하였다. 연구결과는 다음과 같다. 첫째, 시청자가 건강프로그램을 빈번하게 시청하고 프로그램 내용에 대한 만족감이 클 때 식이습관과 운동에 대한 건강효능감이 모두 증가하였다. 프로그램에 대한 신뢰도는 건강효능감에 유의미한 영향을 \\t미치지 않았다.(p &gt; 0.05)     둘째, 운동 관련 건강효능감은 운동 관련 건강증진행동에, 식이습관 관련 건강효능감은 식이습관 관련 건강증진행동에 긍정적인 영향을 미쳤다. 건강효능감영역 간 교차효과는 발견되지 않았다. \\t\\t셋째, 시청경험 변수들 중에서 시청빈도만이 운동 관련 건강증진행동에 직접효과(direct effect)를 나타내었다. 즉 시청빈도는 운동 행동에 대해 직접효과와 (운동 관련 건강효능감을 경유하는) 간접효과를 모두 보였다. (p &lt; 0.10)'</span></dd>\n",
       "\t<dt>kp2016a.txt.content</dt>\n",
       "\t\t<dd><span style=white-space:pre-wrap>'본 연구는   신문사에 칼럼을 기고하는 외부 필진(1회이상/1개월)과 일반 신문 이용자의 정파적 미디어 이용행태가 어떠한지를 살펴보았다. 이를 위해, 본 연구에서는 \\t보수ㆍ진보 신문에 대한 ‘균형 노출’, 이념성향이 일치하는 신문에 대한 ‘관점 일치 노출’, 이념/성향과 일치하지 않는 신문에 대한  ‘관점 불일치 노출’이 신문사 외부 필진과 일반 신문 이용자 사이에서 어떻게 다르게 나타나며 이들의 정치적 이념성향이 정파적 신문 이용에 어떤 영향을 미치는지 조사하였다. 본 연구는 크게 다음의 세 가지에 집중하였다. 첫째, 칼럼-기고자와 \\t\\t일반 대중의 정파적 신문 노출은 어떻게 다른가? 둘째, 신문 이용자의 정치적 이념성향에 따른 정파적 신문 노출은 어떠한가?? 셋째, 정파적 신문 노출에 대한 정치적 이념성향의 효과는 집단별로 어떻게 나타나는가? -- 조사 결과를 통해 한국 사회의 ‘정치적 양극화’ 특징과 한국의 여론 형성 과정에서의   이론적·실제적 함의를 밝혔다.'</span></dd>\n",
       "\t<dt>kp2016b.txt.content</dt>\n",
       "\t\t<dd><span style=white-space:pre-wrap>'본 연구는 최근 인기를 끄는 음식프로그램 시청이 시청자에게 어떠한 심리적 욕구를 충족시키며 주관적 행복감 증진에 기여하며 이러한 음식프로그램 시청효과 발생과정이 시청자 가구형태에 따라 어떻게 다르게 나타나는지 실증적으로 살펴보았다. 이용과 충족 이론, 의사사회 \\t상호작용 인식을 토대로 한 텔레비전 프로그램의 심리적 효과연구를 기반으로, 본 연구에서는 음식프로그램 시청과 주관적 행복감을 매개하는 다음의 네 가지 심리적 변수를 추출하였다. &lt;1&gt; 첫째, 시청자는 음식프로그램 시청을 통해 요리법이나 맛집 정보 같은 ‘정보 만족’을 얻을 수 있다. &lt;2&gt; 둘째, 음식프로그램 시청자는 맛있는 음식을 대리소비(vicarious consumption)하는 방식으로 ‘식도락 만족’을  얻을 수 있다.  &lt;3&gt; 셋째, 음식프로그램 시청자들은 인기 있는 음식프로그램을 이야깃거리로 다른 사람과의 관계를 유지ㆍ형성하는 ‘사교적 만족’을 얻을 수 있다. &lt;4&gt; 넷째, 음식프로그램에 \\t\\t등장하는 유명인사와의 가상적 상호작용 경험, 즉 의사사회 상호작용 만족을 얻을 수 있다. 이를 기반으로   본 연구에서는 5회이상/하루당 시청패턴을 보이는 시청자들을 대상으로 시청자의 가구형태를 1인·2인·3인 이상 가구로 구분한 후, 응답자의 가구형태가 네 가지 심리적 변수가 음식프로그램 시청과 주관적 행복감의 관계를 매개하는 모형에 어떠한 영향을 미치는지를 ‘조절된 매개과정 모형’을 이용해 검증하였다.'</span></dd>\n",
       "\t<dt>kp2016c.txt.content</dt>\n",
       "\t\t<dd><span style=white-space:pre-wrap>'본 연구의 목적은 사람들의 건강관련 신념과 정치관련 신념이 어떤 관계를 맺고 있으며, 이러한 신념이 2015년 한국의 메르스 감염확산 사태의 원인에 대한 인식과 책임소재 판단에 어떠한 영향을 미치는지 밝히는 것이다. 이를 위해 귀인이론에 기반을 두고 건강통제영역 인식성향이 ‘정부’, ‘대형병원’, ‘메르스 감염자’라는 각 주체에 대한 원인인식에 어떠한 영향을 끼친 후 책임귀인으로 이어지는지를 살펴보는 매개효과를 설정하였으며, 이 매개효과가 응답자의 정치적 성향에 따라 어떻게 조절되는지를 다집단 구조방정식 모형을 통해 살펴보았다. 2015년 7월 16일부터~21일까지 할당표집한 표본 8,635명을 대상으로 온라인 서베이를 통해 데이터를 수집하였다.  건강통제영역 인식성향은 내적ㅡHLC, 전문가ㅡHLC, 운명ㅡHLC의 세 가지 하위차원으로 구분하였고, 정치적 성향은 진보/중도/보수의 세 가지 차원으로 구분하였다. 연구 결과는 다음과 같다. 첫째, 내적 HLC 성향은 메르스 감염자에 대한 원인인식을 통해 책임귀인으로 이어졌으며 이러한 매개효과는 보수주의자에게서 더욱 두드러지게 나타났다. 둘째, 전문가 HLC 성향은 정부나 대형병원에 대한 원인인식을 통해 책임귀인으로 이어졌으며 이러한 매개효과는 보수주의자보다 진보주의자나 중도주의자에게서 더욱 두드러지게 나타났다. \\t\\t\\t셋째, 운명 HLC 성향에 대해서는 뚜렷한 매개효과가 발견되지 않았으며 정치적 성향에 따라서도 이 효과는 달라지지 않았다.'</span></dd>\n",
       "\t<dt>kp2016d.txt.content</dt>\n",
       "\t\t<dd><span style=white-space:pre-wrap>'  본 연구는 서울시의 25개 구에서 120명씩 성별·연령별 할당표집한 서울시민들을 설문조사한 데이터를 활용하여 마을 공동체 활동에 참여하는 사람은 누구이며, 이들이 지지하는 정치적(politic)·사회적(social) 가치가 무엇인지를 밝히는 실증연구를 실시하였다. 응답 수치는 보통 15%에서 -3..5%가 감소한 11.5% 정도로 나타났다. 본 연구에서는 ‘마을 공동체 활동 참여’를 설명하기위해 (a)‘탈물질주의 가치지향’, (b)‘권위주의 가치지향’, \\t\\t그리고 (c)‘정치적 이념성향’ 세 가지에 주목하였다.  ‘탈물질주의 가치지향’은 마을 공동체 활동은 환경보호나 공동육아 등 기존의 정치·경제적 제도가 추구했던 가치와는 다른 대안적 가치를 추구하고 있다는 점을 반영하기 위해 선택되었으며, ‘권위주의적 가치지향’은 마을 공동체 활동 역시도\\t 조직적활동이며, 이에 따른 서열의식 그리고 리더쉽에 대한 태도를 반영하기 위해 선택되었다.   또한 마을공동체 활동이 진보-보수 양진영에서 같이 일어나고 있으며,  상대 진영의 공동체 활동을 정치적 활동으로 규정하려는 점에서 ‘정치적 이념성향’도 같이 고려하였다. 연구결과 현재의 마을 공동체 활성화 참여자들 중 약 73.8% 정도가 서열의식과 강력한 리더쉽을 중시하는 권위주의적 가치를 선호하는 보수적 시민들이 주도하는 것으로 나타났다.'</span></dd>\n",
       "\t<dt>kp2016e.txt.content</dt>\n",
       "\t\t<dd><span style=white-space:pre-wrap>'\\t\\t본 연구는 공익 연계 마케팅에서 추구하는 사회적 가치와 기업 활동의 관련성이 공익 연계 광고태도와 기업태도에 미치는 효과가 소비자의 귀인 방식과 기업의 기업의사회적책임(Corporate Social Responsibility, CSR) 평판에 따라 어떻게 변하는지 살펴보았다. 성별·연령별로 할당된 일반인 표본을 이용해 기업－공익 적합도와 CSR 평판을 실험조작한 30초의 공익 연계 광고를 제시한 후 소비자 귀인 방식과 광고·기업태도를 측정하였다. 연구 결과 기업－공익 적합도가 귀인 방식 및 광고·기업태도에 미치는 직접·간접 효과는 -10% ~ +10% 정도 CSR 평판에 따라 다르게 나타났다..  CSR 평판이 긍정적인 경우 기업－공익 적합도는\\t 소비자 귀인 과정을 매개로 소비자들의 공익 연계 광고태도를 1/3 정도 개선시킨 반면,   csr 평판이 중립적인 경우는 이러한 매개 효과가 나타나지 않았다. 또한 CSR 평판이 긍정적인 경우 기업－공익 적합도는 기업태도와 무관하였으나, CSR 평판이 중립적인  경우  기업－공익 적합도는 기업태도를 23.87% 정도개선시키는 것으로 나타났다. 본 연구에서는 왜 선행 연구들에서 기업－공익 적합도의 효과가 일관되게 나타나지 않았는지에 대한 이론적 해답을 제시하였으며, \\t기업의 csr 평판에 따라 어떠한 사회적 가치를 공익연계 마케팅에서 추구해야 하는지에 대한 실무적 함의도 제시하였다..'</span></dd>\n",
       "\t<dt>kp2016f.txt.content</dt>\n",
       "\t\t<dd>'이 연구는 \\t\\t최근 활발히 진행되고 있는 마을공동체 사업의 실천이론이 되는 소통행위(communicative action)이론들을 바탕으로 공동체와 소통 간의 관계가 공동체미디어에 의해 매개되는 과정의 특성을 이해하고자 하였다. 구체적으로 우리는 마을공동체미디어라는 커뮤니티미디어를 중심으로 미디어 참가자들이 공동체를 규정하는 방식에서 ‘소통행위’는 어떠한 의미가 있는지, 공동체미디어 참가자들의 공동체를 위한 \\'소통행위(Communicative Action)\\'의 동기/목적은 무엇이며 그 특성은 어떠한지를 파악하고자 한다. 또한 이러한 공동체미디어의 조직화 과정을 지역공동체의 공론장 구조의 재구성 맥락 차원에서 이해하고자 하였다. 이를 위해 이 연구는 인터뷰와 각종 문서자료의 질적/정성적/감성적 분석을 통해 이에 대한 답을 구하고자 하였다. 분석 결과, 서울 도시공동체운동은 노스탤지어적인 감정적 실천에 기반하여 공동체를 규정하고 \"소통행위(Communicative action)\"의 실천 근거를 찾고 있었으며, 공동체미디어는 “소통행위”의 동기와 소통방식에 따라 주민마을미디어;시민마을미디어; 마을언론미디어;관변마을미디어 등 상이한 유형으로 구분되며 이에 따라 공동체 공론장 역시 소통 동기와 방식에 따라 차이를 나타낼 수 있음을 발견할 수 있었다(Choi &amp; Bond, 2017). \\t\\t이러한 발견을 바탕으로 소통행위를 통한 공동체 형성의 의의와 한계를 논의하였다.'</dd>\n",
       "\t<dt>kp2016g.txt.content</dt>\n",
       "\t\t<dd><span style=white-space:pre-wrap>'본 논문은 커뮤니케이션 관점을 통해 전 세계적으로 나타나는 (1)포퓰리즘 현상의 의미는 무엇이며, \\t(2)왜 그리고 (3)어떻게 커뮤니케이션 연구자가 포퓰리즘 현상을 연구 대상으로 삼아야 하는지 논의하였다. 이를 위해 다음과 같은 순서로 본 논문을 전개하였다. 첫째, 포퓰리즘에 대한 다른 학문 분과들의 관점/성과를 소개하고 커뮤니케이션 관점에서 선행 연구들을 비판적으로 재검토하였다. 역사학, 정치학, 사회학 등의 다른 학문 분과들에 비해 커뮤니케이션 관점이 어떻게, 왜 포퓰리즘 현상을 보다 잘 설명할 수 있는지 살펴보았다.   둘째, [1]포퓰리즘 현상들을 관통하는 특징들은 무엇이며 [2] 언제 어떤 조건에서 포퓰리즘이 등장하는지 설명한 후, 세계적으로 다양한 형태로 나타나는 다양한 포퓰리즘 현상들을 소개하였다. 셋째, 커뮤니케이션 이론 관점에서 &lt;1&gt;‘레토릭’, &lt;2&gt;‘저널리즘’과 &lt;3&gt;‘정치 커뮤니케이션’ 연구에서 포퓰리즘 현상이 어떠한 의미를 가지며 어떻게 분석할 수 있는지 살펴보았다. \\t정부를 감시하고 비판하는 소위 ‘감시견’으로서의 언론의 역할은 포퓰리즘 현상과 매우 닮아 있으며, 단일한 ‘국민’을 형성하고 다수의 국민과 대립되고 배치되는 ‘타락한 엘리트’와 ‘이방인’들을 배척하는 포퓰리즘 담론의 구성은 커뮤니케이션 과정과 깊은 연관을 갖고 있으나, 이 분야에 대한 최근의 커뮤니케이션 연구는 활발하지 않은 것이 현실이다. 끝으로 포퓰리즘과 민주주의의 관계를 논의하면서 포퓰리즘 현상의 커뮤니케이션적 의미가 무엇인지, 포퓰리즘 현상의 커뮤니케이션적 함의는 무엇이며 이를 어떻게 바라보아야 하는가에 대한 저자의 견해를 소개하였다.'</span></dd>\n",
       "\t<dt>kp2016h.txt.content</dt>\n",
       "\t\t<dd><span style=white-space:pre-wrap>'\\t본 논문의 목적은 언론학 교육과정(curriculum) 개선논의의 등장배경과 역사를 서술하고 그 필요성/방향성을 제시하는 것이다. \\t본 논문에서는 컴퓨터 프로그래밍 언어와 데이터 수집  · 관리 · 분석 · 재현과 같은 데이터 과학관련 지식과 기술의 필요성을 강조하며 이를 언론학의 교과과정에 첨가 · 융합해야 한다는 주장의 등장배경과 필요성을 전반적으로 개괄 · 소개하였다. 또한 제도주의(institutionalism) 이론에 근거하여 언론학 교과과정을 ‘제도(institution)’로 파악하였으며, 제도를 둘러싼 이해관계자들로  ‘교수진’, ‘학생’, ‘학부모를 비롯한 일반인’, ‘다른 학문분과들’을 논의하였다. 이를 통해 기존의 교과과정과 새로운 교과과정이 특정 집단내부 혹은 집단 간 갈등을 일으킬  수  있으며, 이러한 갈등을 최소화시키고 협력가능성을 증대시킬 수 있는 방안을 추상적 수준에서나마 제안해 보았다. -- [참고] 커뮤니케이션연구ㅡ\\t\\t'</span></dd>\n",
       "</dl>\n"
      ],
      "text/latex": [
       "\\begin{description*}\n",
       "\\item[kp2004a.txt.content] '   여론조사환경의 변화로 기존의 전화조사를 이용한 대표성 확보는 점차 어려워지고 있다. 이에 따라 기존 표본조사방법에 대한 대안으로 인터넷， 휴대전화와 같은 새로운 미디어를 이용한 \"대안적 여론조사\" 도입이 시도되고 있으며, 몇몇 사례들에서 성공을 거두었다. 그러나 시간과 비용을 절약하고 기존 표본조사방법의 한계를 극복할 수 있는 잠재력을 활용하기 위해서는 ‘대안적 여론조사방법이 갖고 있는 표본편파의 문제점이 극복되어 야 한다. 따라서 이 글은 ㄱ)\\textbackslash{}'전통적인 조사방법\\textbackslash{}'과 \\textbackslash{}'대안적 조사방법\\textbackslash{}'을 실제 여론조사’와의 비교와 이론적 분석을 토대로 “대안적 조사방법”의 특징과 문제점을 살펴보았다(Kim, et al., 2015). 아울러 대안적 조사방법이 갖는 비확률적 표집방법에 따른 문제점을 해결하는 방안으로 최큰 제기되는 새로운 가중치 부여방법인 ㄴ)성향-가중방법과 반복-비례가중법을 살펴보았다. 이들은 인구통계학적 특성만을 고려한 가중치 부여방법보다 비확률적 표집방법에 의한 편차를 줄이는 데 효과적 방법으로 평가받고 있다. 그러나 통계학적 문제점들과 적용사례가 기존연구방법론 대비 1/10 정도수준으로 충분치 많다는 점, 그리고 몇몇 치명적인 실패사례들은 대안적 여론조사방법이 활용되기 위한 보정방법에 관한 지속적인 추후연구가 필요함을 보여주고 있다.\\textbackslash{}t \\textbackslash{}t'\n",
       "\\item[kp2005a.txt.content] '\\textbackslash{}t이  논문은 커뮤니케이션 정책연구에 대한 부정적 인식의 본질과 원인을 밝히고, 20가지 현실적 개선방안을 생각해 보는 것을 목적으로 한다. 미디어의 발전과 더불어 커뮤니케이션  정책에 대한 사회적 수요는 증가되고 있다.    이에  따라 많은 커뮤니케이션 학자들이 \"정책연구\"에 직ㆍ간접적으로 개입되어 있음에도 불구하고, 정책 연구는 학계와 현업 모두에게서 인정받지 못하는 실정이다.    이러한 문제의식에서 이 연구는 커뮤니케이션 정책연구의 대상과 방법론, 국내외의 정책연구 동향, 그리고 정책연구를 둘러싼 논란 등을 차례로 살펴보았다. \"커뮤니케이션-정책연구\"는 학문과 현실을 연결짓는 중요한 사회과학적  실천학문이며, 커뮤니케이션 방법론의 문제나 학문적 비순수성//비실용성 등은 커뮤니케이션 정책연구의 구조와 잘못된 관행에서 온 편견이지 정책연구의 생래적 한계로 환원되지 않는다는 것이 이 연구의 결론이다. 커뮤니케이션 \\textbackslash{}t학술연구와 정책연구를 구별하는 인식의 장애를 극복하면서 이론과 현실분석을 결합시켜가는 노력이 양자 모두의 발전을 위해 \\textbackslash{}t필요하다.  '\n",
       "\\item[kp2005b.txt.content] '지상파 방송사   조직문화에 대한 기존연구들은 연간 60건 정도에서 -13편 정도가 감소한 47편 정도로 나타났다. 방송사 내부의 이질적이고 상호-배타적인 하위문화들의 존재와 그 상호작용에 주목하지 못하고 있다. 본 논문에서는 자율성 선호도와 부서 내 응집도라는 두 축에 따라 네 가지 하위문화 유형을 구분한 후, 방송사내 부서들이 이중 어느 유형에 속하며, 이에 따라 공공성과 상업성 중 어느 방향의 가치지향성을 갖는지 분석하였다. 연구결과, 자율성과 응집도가 모두 높은 ‘공동체적 합의문화’ 유형에는 기술과 영상미술 부서들, 자율성은 높지만 응집도가 낮은 ‘개별화된 네트워크(Network) 문화’에는 라디오와 시사교양 부서가 속하는 것으로 드러났다. ㅡ({[}참고{]} 언론정보학연구)\\textbackslash{}t 반면 부서의 자율성보다 조직 전체의 목교 추구를 중시하며 부서 내 응집도가 높은 ‘가부장적 문화’에는 보도/기획/편성 부서들, 전체 조직의 목표 추구를 중시하지만 부서 내 응집도가 낮은 ‘관료제적 문화’에는 인력자원 부서가 속하는 것으로 확인되었다... ㅡ가치지향성과 관련해 부서의 자율성을 중시할수록 방송사가 추구할  목표를 공익성으로 인식하는 반면, 전체 조직 목표를 중시할수록 상업성 방향으로 기울어 있음이 확인되었다.  '\n",
       "\\item[kp2012a.txt.content] '\\textbackslash{}t최근 한국의 문화예술 분야에서 벌어지고 있는 역동적 변화를 이해하기 위해서는 창조-매개?소비의 상호작용에 관한 예술계 각 부문을 아우르는 시각으로 접근할 필요가 있다. 특히 문화산업의 발전으로 소비-지형에 대한 신뢰성 있는 연구의 필요성이 증대되었지만, 개별적으로 다양하게 이뤄지는 소비ㅡ행위를 측정하는데 어려움이 존재했다. \\textbackslash{}t본 연구에서는 기존의 설문조사에 의존하는 문화예술 소비 연구의 대안으로,      온라인 구매 기록을 활용하는 /3가지 연구 방법/을 도입하였다.   구체적으로는 2000년대를 거치며 급격하게 성장한 공연예술에 주목하여, 2001∼2006년 사이에 티켓링크에서 비교적 꾸준하게 공연을 구매한 적극적인 문화소비자들(Active Performing-arts Consumer)의 구매기록을 분석했다. 이를 통해 실제로 문화를 소비하는 사람들의 특징과 시간(계절/월간/주간/일간)에 따른 문화소비의 양적 변화, 장르적 차원에서의 소비 내용 변화 및 문화소비다양성을 \\textbackslash{}t확인함으로써 한국의 ‘문화소비’ 지형을 기술하는 것을 연구의 목적으로 한다. 연구 결과, 양적으로는 공연 예술 분야의 양적 팽창과 소비의 양극화 경향을, 소비내용에 있어서는 소비 저변의 확대와 소비다양성 감소 추세를 확인할 수 있었다. 최근의 통시적 변화를 보여주는 이러한 결과는 문화산업 분야의 전략/정책 수립과 예술경영 운영//관리방안 수립에 근거로서 활용될 수 있을 것이다. 다만, 온라인 구매 기록이 분석을 목적으로 한 자료가 아니라는   점에서 이론적 설명에 어려움이 있었다. --향후에는 ‘로그 데이터’ 분석에 기존의 사회과학 연구모델을 치밀하게 접목하는 등의 보다 융합적인 연구 시도가 필요할 것으로 보인다.ㅡㅡ'\n",
       "\\item[kp2012b.txt.content] '  인터넷 이용의 심리적/사회적 효과에 관한 연구에서  이용시간 변수는 핵심적 변수 역할을 하고 있다.  많은 연구들이 자기응답방식을 통해서 인터넷 이용시간을 측정하지만, 자기응답방식을 통한 인간의 행동측정은 과도응답의 위험성에 100\\% 노출되어 있다는 문제점이 있다.      이번 연구에서는 (1) 관행적인 {[}자기응답방식{]}으로 얻어진 인터넷의 이용시간이 기계측정방식으로 얻어진  이용시간에 비하여 과도응답이 나타나는지, 그리고 (2) 선행연구들에서 제시된 가설들을 통해 과도응답을 일으키는 이유가 무엇인지 탐구하였다.  도출된 ‘적정응답가설’, ‘추정오류가설’, 그리고 ‘사회요망성가설’들 중 ‘추정오류가설’이 경험적 지지를 얻은 반면, 다른 두 가설들은 가설예측과 정반대의 결과를 보이는 것으로    나타났다.   또한 (3) 자기응답방식으로 얻어진 이용시간이 연구문제 및 가설검증에 어떠한 미치는지를 기계측정방식으로 얻어진 이용시간과의 비교를 통해, 자기응답방식으로 얻어진 인터넷 이용시간으로 응답자의 인터넷에     대한 주관적인 평가(‘자신의 인터넷 행위 인식’ 및 (4)‘다른 인터넷 이용자에 대한 인식’)를 예측할 경우 타입-I(type-1) 오류를 범할 가능성이 높다는 결과를 발견하였다.\\textbackslash{}t    \\textbackslash{}t'\n",
       "\\item[kp2013a.txt.content] '  이 연구는 정치인의 말하기 방식에 따라 해당정치인에 대한 개인적 윤리적/도덕성 평가는 물론 정치전반에 대한 신뢰와 냉소주의에 미치는 영향을 가상적 ”인사청문회”   상황을 이용한 실험연구를 통해 살펴보았다. 선행연구에 기반하여 의혹에 싸인 정치인이 채택할 수 있는 정치적 말하기 방식을\\textbackslash{}t (1) 부인(denial), (2) 정당화(justification), (3) 변명(excuse), (4) 참회(confession)로 구분한 후 각각의 해명효과를 살펴보기 위해서 의혹만 제기되고 해명은 제기되지 않는 (5) 해명 없음(no account)을 추가한 5가지의 실험조건을 준비하였다. 정치적 의혹이 제기되고 해명되는 정치적  상황으로는 ‘고위공직자 인사청문회’를 선택하였다. 실험결과 ‘정당화’와 ‘참회’ 전략에서 해당정치인에 대해 상대적으로 높은 도덕적 \\textbackslash{}t\\textbackslash{}t평가가 나타났다. 정치전반에 대한 신뢰의 경우 오직 ‘참회’ 전략만이 국민들의 정치신뢰를 고양시킬 수 있는 것으로 나타났다.     이 연구는 정치인의 말하기 방식이 개별정치인의 ‘평판관리 전략’을 넘어서 ‘좋은 민주주의’의 조건 중 하나인 ‘정치신뢰’를 낳을 수도 있다는 것을 보여주고 있다.\\textbackslash{}t  '\n",
       "\\item[kp2013b.txt.content] '우리 연구는 ‘트위터(Twitter)’가 이용자들의 여론지각에 어떠한 영향을 미치는지를 ‘허위합의지각’을 중심으로 살펴보았다. 트위터는 많은 사람들이 참여하는 담론공간이지만, 인간관계가 선택적으로 구성되는 특징으로 비슷한 의견의 사람들끼리 상호작용하는 공간//장소에 불과하다는 지적도 있다. \\textbackslash{}t\\textbackslash{}t트위터(TWITTER)가 \"여론지각\"에 미치는 영향을 실증적으로 탐색하기 위해 우리는 <10회이상/1일>, <30회이상/1주일> 정도의 이용패턴을 가지는 트위터 이용자들이 비이용자들에 비해 실제로 \\textbackslash{}'허위합의지각\\textbackslash{}'이 높은지,   또한 트위터 이용자 집단 내에서 이들의 “이념강도”와 “네트워크 동질성”의 인식이 허위합의 지각에 어떤 영향을 미치는지 살펴보았다.. 연구결과 /트위터/ 이용자가 비이용자에 비해 높은 허위합의지각을 보였을 뿐 아니라, 이용자 집단 내부에서도 동질성 인식이 높고 ‘이념강도’가 강할수록 잘못된 여론지각을 보이는 것을 부분적으로 확인할 수 있었다. 연구결과를 바탕으로 우리는 트위터 공간이 여론연구에 어떠한 함의를 갖는지 그리고 한국 민주주의에 어떠한 영향을 끼칠 것인지 논의하였다.    '\n",
       "\\item[kp2014a.txt.content] '이 연구는 위키리크스를 통해서 공개된 주한 미국대사관의 외교전문들을 컴퓨터 언어처리 기법을 이용하여 분석한 것이다.  구체적으로   2006년 1월  1일부터 2010년 2월 25일까지  미국대사관에서 본국으로 발송한 1,080건의 ‘비밀’ 혹은 ‘대외비’ 외교전문들 중 64.7\\%를 분석하였다.   해당 시기는 본국인 미국과 주재국인 한국 모두에서 정권교체가 일어났던 시기였다. 한국의 정권교체를 ‘대등적-협력적’로 미국의 정권교체를 ‘일방적-상호적’로 단순화한 후 위키리크스에서 공개된 전문들을  (1)‘대등적－일방적’, (2)‘협력적－일방적’그리고 (3)‘협력적－상호적’의 세 기간으로 나누었다.   또한 공개된 외교전문들에서 \\textbackslash{}t① 한국  내 정세, ②  북한관련, ③ 주한미군, ④ 남북경협, ⑤ 해외파병, ⑥ 동북아문제, ⑦ 한미통상의 주제들을, 그리고 긍정적/부정적 감정과 두 감정이 공존하는 양가감정(兩價感情)을 각각 (1)잠재적 디리쉴레분포 배치모형, (2)주성분 분석, 그리고 (3)LIWC 분석을 통하여 추출하였다. \\textbackslash{}t분석결과, 첫째, 주제와 감정을 추출하는 컴퓨터 텍스트 분석은 일정수준의 타당성을 확보할 수 있었고, 둘째, 문서내의 주제와 감정의 변화는 주로 본국의 정권변화에 민감하게 반응하며, 주재국의 변화에는 그 변화가 상대적으로 적다는 사실을 확인할 수 있었다. 이 논문에서는 위키리크스 외교전문과 같은 대용량의 텍스트를 분석할 때 컴퓨터 언어처리 방식의 방법론적 타당성과 주재국-대사관-본국간의 외교 커뮤니케이션의 이론적 함의도 논의하였다.\\textbackslash{}t'\n",
       "\\item[kp2014b.txt.content] 'SNS(Social Network Service) 공간에서는 다양한 유형의 인간-관계를 유지·형성하는 것이 가능하다.\\textbackslash{}t 본 연구는 SNS 공간에서의 인간-관계유형을 ‘관계유지’\\textbackslash{}t(기존 오프라인 관계가 SNS로 옮겨간 경우), ‘관계형성’ (SNS에서 새로이 형성된 경우), ‘관계회복’(끊어졌던 오프라인 관계가 SNS를 통해 회복된 경우)의 세 가지로 구분하였고, 각각의 관계망의 크기와 강도를 구분하였다. 또한 이에 영향을 받는 사회적 지지감 역시도 온라인/오프라인으로 구분한 후 각 관계망의 크기와 강도가어떠한 영향을 미치는지를 살펴보았다. 연구결과, 오프라인 사회적  지지감과 온라인 사회적 지지감은 서로 구분되며, SNS 관계망 유형별에 따라 다른 영향을 받는 것으로 나타났다. 구체적으로 모든 유형의 관계망 크기는 온/오프라인 사회적 지지감에 별다른 영향을 주지 못하였지만, 관계형성형 관계망 강도는 온라인 사회적 지지감에 그리고 관계유지형 관계망 강도는 오프라인 사회적 지지감에 +방향으로 긍정적 효과를 끼치는 것으로 나타났다. 결과에 대한 논의와 이론적 함의, 그리고 한계점은 결론부에서 구체적으로 논의하였다.'\n",
       "\\item[kp2014c.txt.content] '본 연구는 인터넷(Internet)을 통한 커뮤니케이션이 사회적 규범 변화에 미치는 영향을 주목했다. \\textbackslash{}t\\textbackslash{}t\\textbackslash{}t구체적으로 인터넷(internet) 이용의 빈도/방식의 차이가 세대 간의 규범 차이라는 결과로 이어지는지 그리고 만약 그렇다면 어떤 요인들이 이 과정을 매개하는지를 탐색했다. 사회적 규범의 형성과 변화에 관한 기존의 연구는 사회적 규범이  개인의 커뮤니케이션 경험에 따라 차이가 나며, 주관적으로 선택한 준거-집단과 교류 대상자에 영향을 받는다는 점에 주목하고 있다. 따라서 ㄱ)인터넷을 통해 어떤 커뮤니케이션 경험을 하는가?, ㄴ)어떤 준거집단을 선택했는가, ㄷ)어떤 대상과 교류하고 있는가에 따라 사회적 규범 변화에 미치는 영향이 달라질 것이라고 보았다. 전국 인터넷 이용자를 대상으로 진행한 서베이 자료를 통해 분석한 결과, 사회적 규범에 근간이 되는 가치관에는 연령집단 간 차이가 나지 않았으나 구체적 탈규범 행동에는 연령집단 간 차이가 유의미하게 나타났다. (p-value < 0.01) 사회적 규범은 온라인 행동과 오프라인 행동에서 유의미한 상관관계(r = 0.87)를 보였으며, 온라인 서술적 규범과 명령적 규범은 온라인 탈규범을 매개로 오프라인 탈규범에 영향을 미칠 수 있는 것으로 나타났다. \\textbackslash{}t이를 통해 온라인 이용이 사회적 규범에 있어, 모든 세대에 걸쳐 온라인-행동과 오프라인-행동에 정(+)의 영향을 미친다는 점을 확인할 수 있었다.'\n",
       "\\item[kp2014d.txt.content] '이 연구의 목적은 TV 건강프로그램 시청경험이 어떻게 시청자의 건강증진행동으로 이어지는가를 밝히는 것이다. 이를 위해 사회인지이론(ㅡBandura,  1977; 2004)과 \\textbackslash{}t건강정보의 설득과정모형(ㅡMcGuire, 1981, 2001)에 기반하여 TV 건강프로그램 시청경험이 건강효능감에 미치는 영향과 건강효능감이 시청경험과 건강증진행동 사이에서 매개변수 역할을 하는 연구모형을 구축하였다. 연구를 위해 2013년 10월 18일부터 10월 23일까지 서울 및 서울 주변 신도시 거주 성인남녀 300명을 대상으로 설문조사 데이터를 수집하였다. 시청경험은 시청빈도, 신뢰도, 만족도의 세 개 변수로, 건강효능감과 건강증진행동은 운동, 식이습관 등 두 가지 하부 영역으로 구분하였다. 연구모형은 구조방정식 모형을 활용하여 검증하였다. 연구결과는 다음과 같다. 첫째, 시청자가 건강프로그램을 빈번하게 시청하고 프로그램 내용에 대한 만족감이 클 때 식이습관과 운동에 대한 건강효능감이 모두 증가하였다. 프로그램에 대한 신뢰도는 건강효능감에 유의미한 영향을 \\textbackslash{}t미치지 않았다.(p > 0.05)     둘째, 운동 관련 건강효능감은 운동 관련 건강증진행동에, 식이습관 관련 건강효능감은 식이습관 관련 건강증진행동에 긍정적인 영향을 미쳤다. 건강효능감영역 간 교차효과는 발견되지 않았다. \\textbackslash{}t\\textbackslash{}t셋째, 시청경험 변수들 중에서 시청빈도만이 운동 관련 건강증진행동에 직접효과(direct effect)를 나타내었다. 즉 시청빈도는 운동 행동에 대해 직접효과와 (운동 관련 건강효능감을 경유하는) 간접효과를 모두 보였다. (p < 0.10)'\n",
       "\\item[kp2016a.txt.content] '본 연구는   신문사에 칼럼을 기고하는 외부 필진(1회이상/1개월)과 일반 신문 이용자의 정파적 미디어 이용행태가 어떠한지를 살펴보았다. 이를 위해, 본 연구에서는 \\textbackslash{}t보수ㆍ진보 신문에 대한 ‘균형 노출’, 이념성향이 일치하는 신문에 대한 ‘관점 일치 노출’, 이념/성향과 일치하지 않는 신문에 대한  ‘관점 불일치 노출’이 신문사 외부 필진과 일반 신문 이용자 사이에서 어떻게 다르게 나타나며 이들의 정치적 이념성향이 정파적 신문 이용에 어떤 영향을 미치는지 조사하였다. 본 연구는 크게 다음의 세 가지에 집중하였다. 첫째, 칼럼-기고자와 \\textbackslash{}t\\textbackslash{}t일반 대중의 정파적 신문 노출은 어떻게 다른가? 둘째, 신문 이용자의 정치적 이념성향에 따른 정파적 신문 노출은 어떠한가?? 셋째, 정파적 신문 노출에 대한 정치적 이념성향의 효과는 집단별로 어떻게 나타나는가? -- 조사 결과를 통해 한국 사회의 ‘정치적 양극화’ 특징과 한국의 여론 형성 과정에서의   이론적·실제적 함의를 밝혔다.'\n",
       "\\item[kp2016b.txt.content] '본 연구는 최근 인기를 끄는 음식프로그램 시청이 시청자에게 어떠한 심리적 욕구를 충족시키며 주관적 행복감 증진에 기여하며 이러한 음식프로그램 시청효과 발생과정이 시청자 가구형태에 따라 어떻게 다르게 나타나는지 실증적으로 살펴보았다. 이용과 충족 이론, 의사사회 \\textbackslash{}t상호작용 인식을 토대로 한 텔레비전 프로그램의 심리적 효과연구를 기반으로, 본 연구에서는 음식프로그램 시청과 주관적 행복감을 매개하는 다음의 네 가지 심리적 변수를 추출하였다. <1> 첫째, 시청자는 음식프로그램 시청을 통해 요리법이나 맛집 정보 같은 ‘정보 만족’을 얻을 수 있다. <2> 둘째, 음식프로그램 시청자는 맛있는 음식을 대리소비(vicarious consumption)하는 방식으로 ‘식도락 만족’을  얻을 수 있다.  <3> 셋째, 음식프로그램 시청자들은 인기 있는 음식프로그램을 이야깃거리로 다른 사람과의 관계를 유지ㆍ형성하는 ‘사교적 만족’을 얻을 수 있다. <4> 넷째, 음식프로그램에 \\textbackslash{}t\\textbackslash{}t등장하는 유명인사와의 가상적 상호작용 경험, 즉 의사사회 상호작용 만족을 얻을 수 있다. 이를 기반으로   본 연구에서는 5회이상/하루당 시청패턴을 보이는 시청자들을 대상으로 시청자의 가구형태를 1인·2인·3인 이상 가구로 구분한 후, 응답자의 가구형태가 네 가지 심리적 변수가 음식프로그램 시청과 주관적 행복감의 관계를 매개하는 모형에 어떠한 영향을 미치는지를 ‘조절된 매개과정 모형’을 이용해 검증하였다.'\n",
       "\\item[kp2016c.txt.content] '본 연구의 목적은 사람들의 건강관련 신념과 정치관련 신념이 어떤 관계를 맺고 있으며, 이러한 신념이 2015년 한국의 메르스 감염확산 사태의 원인에 대한 인식과 책임소재 판단에 어떠한 영향을 미치는지 밝히는 것이다. 이를 위해 귀인이론에 기반을 두고 건강통제영역 인식성향이 ‘정부’, ‘대형병원’, ‘메르스 감염자’라는 각 주체에 대한 원인인식에 어떠한 영향을 끼친 후 책임귀인으로 이어지는지를 살펴보는 매개효과를 설정하였으며, 이 매개효과가 응답자의 정치적 성향에 따라 어떻게 조절되는지를 다집단 구조방정식 모형을 통해 살펴보았다. 2015년 7월 16일부터\\textasciitilde{}21일까지 할당표집한 표본 8,635명을 대상으로 온라인 서베이를 통해 데이터를 수집하였다.  건강통제영역 인식성향은 내적ㅡHLC, 전문가ㅡHLC, 운명ㅡHLC의 세 가지 하위차원으로 구분하였고, 정치적 성향은 진보/중도/보수의 세 가지 차원으로 구분하였다. 연구 결과는 다음과 같다. 첫째, 내적 HLC 성향은 메르스 감염자에 대한 원인인식을 통해 책임귀인으로 이어졌으며 이러한 매개효과는 보수주의자에게서 더욱 두드러지게 나타났다. 둘째, 전문가 HLC 성향은 정부나 대형병원에 대한 원인인식을 통해 책임귀인으로 이어졌으며 이러한 매개효과는 보수주의자보다 진보주의자나 중도주의자에게서 더욱 두드러지게 나타났다. \\textbackslash{}t\\textbackslash{}t\\textbackslash{}t셋째, 운명 HLC 성향에 대해서는 뚜렷한 매개효과가 발견되지 않았으며 정치적 성향에 따라서도 이 효과는 달라지지 않았다.'\n",
       "\\item[kp2016d.txt.content] '  본 연구는 서울시의 25개 구에서 120명씩 성별·연령별 할당표집한 서울시민들을 설문조사한 데이터를 활용하여 마을 공동체 활동에 참여하는 사람은 누구이며, 이들이 지지하는 정치적(politic)·사회적(social) 가치가 무엇인지를 밝히는 실증연구를 실시하였다. 응답 수치는 보통 15\\%에서 -3..5\\%가 감소한 11.5\\% 정도로 나타났다. 본 연구에서는 ‘마을 공동체 활동 참여’를 설명하기위해 (a)‘탈물질주의 가치지향’, (b)‘권위주의 가치지향’, \\textbackslash{}t\\textbackslash{}t그리고 (c)‘정치적 이념성향’ 세 가지에 주목하였다.  ‘탈물질주의 가치지향’은 마을 공동체 활동은 환경보호나 공동육아 등 기존의 정치·경제적 제도가 추구했던 가치와는 다른 대안적 가치를 추구하고 있다는 점을 반영하기 위해 선택되었으며, ‘권위주의적 가치지향’은 마을 공동체 활동 역시도\\textbackslash{}t 조직적활동이며, 이에 따른 서열의식 그리고 리더쉽에 대한 태도를 반영하기 위해 선택되었다.   또한 마을공동체 활동이 진보-보수 양진영에서 같이 일어나고 있으며,  상대 진영의 공동체 활동을 정치적 활동으로 규정하려는 점에서 ‘정치적 이념성향’도 같이 고려하였다. 연구결과 현재의 마을 공동체 활성화 참여자들 중 약 73.8\\% 정도가 서열의식과 강력한 리더쉽을 중시하는 권위주의적 가치를 선호하는 보수적 시민들이 주도하는 것으로 나타났다.'\n",
       "\\item[kp2016e.txt.content] '\\textbackslash{}t\\textbackslash{}t본 연구는 공익 연계 마케팅에서 추구하는 사회적 가치와 기업 활동의 관련성이 공익 연계 광고태도와 기업태도에 미치는 효과가 소비자의 귀인 방식과 기업의 기업의사회적책임(Corporate Social Responsibility, CSR) 평판에 따라 어떻게 변하는지 살펴보았다. 성별·연령별로 할당된 일반인 표본을 이용해 기업－공익 적합도와 CSR 평판을 실험조작한 30초의 공익 연계 광고를 제시한 후 소비자 귀인 방식과 광고·기업태도를 측정하였다. 연구 결과 기업－공익 적합도가 귀인 방식 및 광고·기업태도에 미치는 직접·간접 효과는 -10\\% \\textasciitilde{} +10\\% 정도 CSR 평판에 따라 다르게 나타났다..  CSR 평판이 긍정적인 경우 기업－공익 적합도는\\textbackslash{}t 소비자 귀인 과정을 매개로 소비자들의 공익 연계 광고태도를 1/3 정도 개선시킨 반면,   csr 평판이 중립적인 경우는 이러한 매개 효과가 나타나지 않았다. 또한 CSR 평판이 긍정적인 경우 기업－공익 적합도는 기업태도와 무관하였으나, CSR 평판이 중립적인  경우  기업－공익 적합도는 기업태도를 23.87\\% 정도개선시키는 것으로 나타났다. 본 연구에서는 왜 선행 연구들에서 기업－공익 적합도의 효과가 일관되게 나타나지 않았는지에 대한 이론적 해답을 제시하였으며, \\textbackslash{}t기업의 csr 평판에 따라 어떠한 사회적 가치를 공익연계 마케팅에서 추구해야 하는지에 대한 실무적 함의도 제시하였다..'\n",
       "\\item[kp2016f.txt.content] '이 연구는 \\textbackslash{}t\\textbackslash{}t최근 활발히 진행되고 있는 마을공동체 사업의 실천이론이 되는 소통행위(communicative action)이론들을 바탕으로 공동체와 소통 간의 관계가 공동체미디어에 의해 매개되는 과정의 특성을 이해하고자 하였다. 구체적으로 우리는 마을공동체미디어라는 커뮤니티미디어를 중심으로 미디어 참가자들이 공동체를 규정하는 방식에서 ‘소통행위’는 어떠한 의미가 있는지, 공동체미디어 참가자들의 공동체를 위한 \\textbackslash{}'소통행위(Communicative Action)\\textbackslash{}'의 동기/목적은 무엇이며 그 특성은 어떠한지를 파악하고자 한다. 또한 이러한 공동체미디어의 조직화 과정을 지역공동체의 공론장 구조의 재구성 맥락 차원에서 이해하고자 하였다. 이를 위해 이 연구는 인터뷰와 각종 문서자료의 질적/정성적/감성적 분석을 통해 이에 대한 답을 구하고자 하였다. 분석 결과, 서울 도시공동체운동은 노스탤지어적인 감정적 실천에 기반하여 공동체를 규정하고 \"소통행위(Communicative action)\"의 실천 근거를 찾고 있었으며, 공동체미디어는 “소통행위”의 동기와 소통방식에 따라 주민마을미디어;시민마을미디어; 마을언론미디어;관변마을미디어 등 상이한 유형으로 구분되며 이에 따라 공동체 공론장 역시 소통 동기와 방식에 따라 차이를 나타낼 수 있음을 발견할 수 있었다(Choi \\& Bond, 2017). \\textbackslash{}t\\textbackslash{}t이러한 발견을 바탕으로 소통행위를 통한 공동체 형성의 의의와 한계를 논의하였다.'\n",
       "\\item[kp2016g.txt.content] '본 논문은 커뮤니케이션 관점을 통해 전 세계적으로 나타나는 (1)포퓰리즘 현상의 의미는 무엇이며, \\textbackslash{}t(2)왜 그리고 (3)어떻게 커뮤니케이션 연구자가 포퓰리즘 현상을 연구 대상으로 삼아야 하는지 논의하였다. 이를 위해 다음과 같은 순서로 본 논문을 전개하였다. 첫째, 포퓰리즘에 대한 다른 학문 분과들의 관점/성과를 소개하고 커뮤니케이션 관점에서 선행 연구들을 비판적으로 재검토하였다. 역사학, 정치학, 사회학 등의 다른 학문 분과들에 비해 커뮤니케이션 관점이 어떻게, 왜 포퓰리즘 현상을 보다 잘 설명할 수 있는지 살펴보았다.   둘째, {[}1{]}포퓰리즘 현상들을 관통하는 특징들은 무엇이며 {[}2{]} 언제 어떤 조건에서 포퓰리즘이 등장하는지 설명한 후, 세계적으로 다양한 형태로 나타나는 다양한 포퓰리즘 현상들을 소개하였다. 셋째, 커뮤니케이션 이론 관점에서 <1>‘레토릭’, <2>‘저널리즘’과 <3>‘정치 커뮤니케이션’ 연구에서 포퓰리즘 현상이 어떠한 의미를 가지며 어떻게 분석할 수 있는지 살펴보았다. \\textbackslash{}t정부를 감시하고 비판하는 소위 ‘감시견’으로서의 언론의 역할은 포퓰리즘 현상과 매우 닮아 있으며, 단일한 ‘국민’을 형성하고 다수의 국민과 대립되고 배치되는 ‘타락한 엘리트’와 ‘이방인’들을 배척하는 포퓰리즘 담론의 구성은 커뮤니케이션 과정과 깊은 연관을 갖고 있으나, 이 분야에 대한 최근의 커뮤니케이션 연구는 활발하지 않은 것이 현실이다. 끝으로 포퓰리즘과 민주주의의 관계를 논의하면서 포퓰리즘 현상의 커뮤니케이션적 의미가 무엇인지, 포퓰리즘 현상의 커뮤니케이션적 함의는 무엇이며 이를 어떻게 바라보아야 하는가에 대한 저자의 견해를 소개하였다.'\n",
       "\\item[kp2016h.txt.content] '\\textbackslash{}t본 논문의 목적은 언론학 교육과정(curriculum) 개선논의의 등장배경과 역사를 서술하고 그 필요성/방향성을 제시하는 것이다. \\textbackslash{}t본 논문에서는 컴퓨터 프로그래밍 언어와 데이터 수집  · 관리 · 분석 · 재현과 같은 데이터 과학관련 지식과 기술의 필요성을 강조하며 이를 언론학의 교과과정에 첨가 · 융합해야 한다는 주장의 등장배경과 필요성을 전반적으로 개괄 · 소개하였다. 또한 제도주의(institutionalism) 이론에 근거하여 언론학 교과과정을 ‘제도(institution)’로 파악하였으며, 제도를 둘러싼 이해관계자들로  ‘교수진’, ‘학생’, ‘학부모를 비롯한 일반인’, ‘다른 학문분과들’을 논의하였다. 이를 통해 기존의 교과과정과 새로운 교과과정이 특정 집단내부 혹은 집단 간 갈등을 일으킬  수  있으며, 이러한 갈등을 최소화시키고 협력가능성을 증대시킬 수 있는 방안을 추상적 수준에서나마 제안해 보았다. -- {[}참고{]} 커뮤니케이션연구ㅡ\\textbackslash{}t\\textbackslash{}t'\n",
       "\\end{description*}\n"
      ],
      "text/markdown": [
       "kp2004a.txt.content\n",
       ":   <span style=white-space:pre-wrap>'   여론조사환경의 변화로 기존의 전화조사를 이용한 대표성 확보는 점차 어려워지고 있다. 이에 따라 기존 표본조사방법에 대한 대안으로 인터넷， 휴대전화와 같은 새로운 미디어를 이용한 \"대안적 여론조사\" 도입이 시도되고 있으며, 몇몇 사례들에서 성공을 거두었다. 그러나 시간과 비용을 절약하고 기존 표본조사방법의 한계를 극복할 수 있는 잠재력을 활용하기 위해서는 ‘대안적 여론조사방법이 갖고 있는 표본편파의 문제점이 극복되어 야 한다. 따라서 이 글은 ㄱ)\\'전통적인 조사방법\\'과 \\'대안적 조사방법\\'을 실제 여론조사’와의 비교와 이론적 분석을 토대로 “대안적 조사방법”의 특징과 문제점을 살펴보았다(Kim, et al., 2015). 아울러 대안적 조사방법이 갖는 비확률적 표집방법에 따른 문제점을 해결하는 방안으로 최큰 제기되는 새로운 가중치 부여방법인 ㄴ)성향-가중방법과 반복-비례가중법을 살펴보았다. 이들은 인구통계학적 특성만을 고려한 가중치 부여방법보다 비확률적 표집방법에 의한 편차를 줄이는 데 효과적 방법으로 평가받고 있다. 그러나 통계학적 문제점들과 적용사례가 기존연구방법론 대비 1/10 정도수준으로 충분치 많다는 점, 그리고 몇몇 치명적인 실패사례들은 대안적 여론조사방법이 활용되기 위한 보정방법에 관한 지속적인 추후연구가 필요함을 보여주고 있다.\\t \\t'</span>kp2005a.txt.content\n",
       ":   <span style=white-space:pre-wrap>'\\t이  논문은 커뮤니케이션 정책연구에 대한 부정적 인식의 본질과 원인을 밝히고, 20가지 현실적 개선방안을 생각해 보는 것을 목적으로 한다. 미디어의 발전과 더불어 커뮤니케이션  정책에 대한 사회적 수요는 증가되고 있다.    이에  따라 많은 커뮤니케이션 학자들이 \"정책연구\"에 직ㆍ간접적으로 개입되어 있음에도 불구하고, 정책 연구는 학계와 현업 모두에게서 인정받지 못하는 실정이다.    이러한 문제의식에서 이 연구는 커뮤니케이션 정책연구의 대상과 방법론, 국내외의 정책연구 동향, 그리고 정책연구를 둘러싼 논란 등을 차례로 살펴보았다. \"커뮤니케이션-정책연구\"는 학문과 현실을 연결짓는 중요한 사회과학적  실천학문이며, 커뮤니케이션 방법론의 문제나 학문적 비순수성//비실용성 등은 커뮤니케이션 정책연구의 구조와 잘못된 관행에서 온 편견이지 정책연구의 생래적 한계로 환원되지 않는다는 것이 이 연구의 결론이다. 커뮤니케이션 \\t학술연구와 정책연구를 구별하는 인식의 장애를 극복하면서 이론과 현실분석을 결합시켜가는 노력이 양자 모두의 발전을 위해 \\t필요하다.  '</span>kp2005b.txt.content\n",
       ":   <span style=white-space:pre-wrap>'지상파 방송사   조직문화에 대한 기존연구들은 연간 60건 정도에서 -13편 정도가 감소한 47편 정도로 나타났다. 방송사 내부의 이질적이고 상호-배타적인 하위문화들의 존재와 그 상호작용에 주목하지 못하고 있다. 본 논문에서는 자율성 선호도와 부서 내 응집도라는 두 축에 따라 네 가지 하위문화 유형을 구분한 후, 방송사내 부서들이 이중 어느 유형에 속하며, 이에 따라 공공성과 상업성 중 어느 방향의 가치지향성을 갖는지 분석하였다. 연구결과, 자율성과 응집도가 모두 높은 ‘공동체적 합의문화’ 유형에는 기술과 영상미술 부서들, 자율성은 높지만 응집도가 낮은 ‘개별화된 네트워크(Network) 문화’에는 라디오와 시사교양 부서가 속하는 것으로 드러났다. ㅡ([참고] 언론정보학연구)\\t 반면 부서의 자율성보다 조직 전체의 목교 추구를 중시하며 부서 내 응집도가 높은 ‘가부장적 문화’에는 보도/기획/편성 부서들, 전체 조직의 목표 추구를 중시하지만 부서 내 응집도가 낮은 ‘관료제적 문화’에는 인력자원 부서가 속하는 것으로 확인되었다... ㅡ가치지향성과 관련해 부서의 자율성을 중시할수록 방송사가 추구할  목표를 공익성으로 인식하는 반면, 전체 조직 목표를 중시할수록 상업성 방향으로 기울어 있음이 확인되었다.  '</span>kp2012a.txt.content\n",
       ":   <span style=white-space:pre-wrap>'\\t최근 한국의 문화예술 분야에서 벌어지고 있는 역동적 변화를 이해하기 위해서는 창조-매개?소비의 상호작용에 관한 예술계 각 부문을 아우르는 시각으로 접근할 필요가 있다. 특히 문화산업의 발전으로 소비-지형에 대한 신뢰성 있는 연구의 필요성이 증대되었지만, 개별적으로 다양하게 이뤄지는 소비ㅡ행위를 측정하는데 어려움이 존재했다. \\t본 연구에서는 기존의 설문조사에 의존하는 문화예술 소비 연구의 대안으로,      온라인 구매 기록을 활용하는 /3가지 연구 방법/을 도입하였다.   구체적으로는 2000년대를 거치며 급격하게 성장한 공연예술에 주목하여, 2001∼2006년 사이에 티켓링크에서 비교적 꾸준하게 공연을 구매한 적극적인 문화소비자들(Active Performing-arts Consumer)의 구매기록을 분석했다. 이를 통해 실제로 문화를 소비하는 사람들의 특징과 시간(계절/월간/주간/일간)에 따른 문화소비의 양적 변화, 장르적 차원에서의 소비 내용 변화 및 문화소비다양성을 \\t확인함으로써 한국의 ‘문화소비’ 지형을 기술하는 것을 연구의 목적으로 한다. 연구 결과, 양적으로는 공연 예술 분야의 양적 팽창과 소비의 양극화 경향을, 소비내용에 있어서는 소비 저변의 확대와 소비다양성 감소 추세를 확인할 수 있었다. 최근의 통시적 변화를 보여주는 이러한 결과는 문화산업 분야의 전략/정책 수립과 예술경영 운영//관리방안 수립에 근거로서 활용될 수 있을 것이다. 다만, 온라인 구매 기록이 분석을 목적으로 한 자료가 아니라는   점에서 이론적 설명에 어려움이 있었다. --향후에는 ‘로그 데이터’ 분석에 기존의 사회과학 연구모델을 치밀하게 접목하는 등의 보다 융합적인 연구 시도가 필요할 것으로 보인다.ㅡㅡ'</span>kp2012b.txt.content\n",
       ":   <span style=white-space:pre-wrap>'  인터넷 이용의 심리적/사회적 효과에 관한 연구에서  이용시간 변수는 핵심적 변수 역할을 하고 있다.  많은 연구들이 자기응답방식을 통해서 인터넷 이용시간을 측정하지만, 자기응답방식을 통한 인간의 행동측정은 과도응답의 위험성에 100% 노출되어 있다는 문제점이 있다.      이번 연구에서는 (1) 관행적인 [자기응답방식]으로 얻어진 인터넷의 이용시간이 기계측정방식으로 얻어진  이용시간에 비하여 과도응답이 나타나는지, 그리고 (2) 선행연구들에서 제시된 가설들을 통해 과도응답을 일으키는 이유가 무엇인지 탐구하였다.  도출된 ‘적정응답가설’, ‘추정오류가설’, 그리고 ‘사회요망성가설’들 중 ‘추정오류가설’이 경험적 지지를 얻은 반면, 다른 두 가설들은 가설예측과 정반대의 결과를 보이는 것으로    나타났다.   또한 (3) 자기응답방식으로 얻어진 이용시간이 연구문제 및 가설검증에 어떠한 미치는지를 기계측정방식으로 얻어진 이용시간과의 비교를 통해, 자기응답방식으로 얻어진 인터넷 이용시간으로 응답자의 인터넷에     대한 주관적인 평가(‘자신의 인터넷 행위 인식’ 및 (4)‘다른 인터넷 이용자에 대한 인식’)를 예측할 경우 타입-I(type-1) 오류를 범할 가능성이 높다는 결과를 발견하였다.\\t    \\t'</span>kp2013a.txt.content\n",
       ":   <span style=white-space:pre-wrap>'  이 연구는 정치인의 말하기 방식에 따라 해당정치인에 대한 개인적 윤리적/도덕성 평가는 물론 정치전반에 대한 신뢰와 냉소주의에 미치는 영향을 가상적 ”인사청문회”   상황을 이용한 실험연구를 통해 살펴보았다. 선행연구에 기반하여 의혹에 싸인 정치인이 채택할 수 있는 정치적 말하기 방식을\\t (1) 부인(denial), (2) 정당화(justification), (3) 변명(excuse), (4) 참회(confession)로 구분한 후 각각의 해명효과를 살펴보기 위해서 의혹만 제기되고 해명은 제기되지 않는 (5) 해명 없음(no account)을 추가한 5가지의 실험조건을 준비하였다. 정치적 의혹이 제기되고 해명되는 정치적  상황으로는 ‘고위공직자 인사청문회’를 선택하였다. 실험결과 ‘정당화’와 ‘참회’ 전략에서 해당정치인에 대해 상대적으로 높은 도덕적 \\t\\t평가가 나타났다. 정치전반에 대한 신뢰의 경우 오직 ‘참회’ 전략만이 국민들의 정치신뢰를 고양시킬 수 있는 것으로 나타났다.     이 연구는 정치인의 말하기 방식이 개별정치인의 ‘평판관리 전략’을 넘어서 ‘좋은 민주주의’의 조건 중 하나인 ‘정치신뢰’를 낳을 수도 있다는 것을 보여주고 있다.\\t  '</span>kp2013b.txt.content\n",
       ":   <span style=white-space:pre-wrap>'우리 연구는 ‘트위터(Twitter)’가 이용자들의 여론지각에 어떠한 영향을 미치는지를 ‘허위합의지각’을 중심으로 살펴보았다. 트위터는 많은 사람들이 참여하는 담론공간이지만, 인간관계가 선택적으로 구성되는 특징으로 비슷한 의견의 사람들끼리 상호작용하는 공간//장소에 불과하다는 지적도 있다. \\t\\t트위터(TWITTER)가 \"여론지각\"에 미치는 영향을 실증적으로 탐색하기 위해 우리는 &lt;10회이상/1일&gt;, &lt;30회이상/1주일&gt; 정도의 이용패턴을 가지는 트위터 이용자들이 비이용자들에 비해 실제로 \\'허위합의지각\\'이 높은지,   또한 트위터 이용자 집단 내에서 이들의 “이념강도”와 “네트워크 동질성”의 인식이 허위합의 지각에 어떤 영향을 미치는지 살펴보았다.. 연구결과 /트위터/ 이용자가 비이용자에 비해 높은 허위합의지각을 보였을 뿐 아니라, 이용자 집단 내부에서도 동질성 인식이 높고 ‘이념강도’가 강할수록 잘못된 여론지각을 보이는 것을 부분적으로 확인할 수 있었다. 연구결과를 바탕으로 우리는 트위터 공간이 여론연구에 어떠한 함의를 갖는지 그리고 한국 민주주의에 어떠한 영향을 끼칠 것인지 논의하였다.    '</span>kp2014a.txt.content\n",
       ":   <span style=white-space:pre-wrap>'이 연구는 위키리크스를 통해서 공개된 주한 미국대사관의 외교전문들을 컴퓨터 언어처리 기법을 이용하여 분석한 것이다.  구체적으로   2006년 1월  1일부터 2010년 2월 25일까지  미국대사관에서 본국으로 발송한 1,080건의 ‘비밀’ 혹은 ‘대외비’ 외교전문들 중 64.7%를 분석하였다.   해당 시기는 본국인 미국과 주재국인 한국 모두에서 정권교체가 일어났던 시기였다. 한국의 정권교체를 ‘대등적-협력적’로 미국의 정권교체를 ‘일방적-상호적’로 단순화한 후 위키리크스에서 공개된 전문들을  (1)‘대등적－일방적’, (2)‘협력적－일방적’그리고 (3)‘협력적－상호적’의 세 기간으로 나누었다.   또한 공개된 외교전문들에서 \\t① 한국  내 정세, ②  북한관련, ③ 주한미군, ④ 남북경협, ⑤ 해외파병, ⑥ 동북아문제, ⑦ 한미통상의 주제들을, 그리고 긍정적/부정적 감정과 두 감정이 공존하는 양가감정(兩價感情)을 각각 (1)잠재적 디리쉴레분포 배치모형, (2)주성분 분석, 그리고 (3)LIWC 분석을 통하여 추출하였다. \\t분석결과, 첫째, 주제와 감정을 추출하는 컴퓨터 텍스트 분석은 일정수준의 타당성을 확보할 수 있었고, 둘째, 문서내의 주제와 감정의 변화는 주로 본국의 정권변화에 민감하게 반응하며, 주재국의 변화에는 그 변화가 상대적으로 적다는 사실을 확인할 수 있었다. 이 논문에서는 위키리크스 외교전문과 같은 대용량의 텍스트를 분석할 때 컴퓨터 언어처리 방식의 방법론적 타당성과 주재국-대사관-본국간의 외교 커뮤니케이션의 이론적 함의도 논의하였다.\\t'</span>kp2014b.txt.content\n",
       ":   <span style=white-space:pre-wrap>'SNS(Social Network Service) 공간에서는 다양한 유형의 인간-관계를 유지·형성하는 것이 가능하다.\\t 본 연구는 SNS 공간에서의 인간-관계유형을 ‘관계유지’\\t(기존 오프라인 관계가 SNS로 옮겨간 경우), ‘관계형성’ (SNS에서 새로이 형성된 경우), ‘관계회복’(끊어졌던 오프라인 관계가 SNS를 통해 회복된 경우)의 세 가지로 구분하였고, 각각의 관계망의 크기와 강도를 구분하였다. 또한 이에 영향을 받는 사회적 지지감 역시도 온라인/오프라인으로 구분한 후 각 관계망의 크기와 강도가어떠한 영향을 미치는지를 살펴보았다. 연구결과, 오프라인 사회적  지지감과 온라인 사회적 지지감은 서로 구분되며, SNS 관계망 유형별에 따라 다른 영향을 받는 것으로 나타났다. 구체적으로 모든 유형의 관계망 크기는 온/오프라인 사회적 지지감에 별다른 영향을 주지 못하였지만, 관계형성형 관계망 강도는 온라인 사회적 지지감에 그리고 관계유지형 관계망 강도는 오프라인 사회적 지지감에 +방향으로 긍정적 효과를 끼치는 것으로 나타났다. 결과에 대한 논의와 이론적 함의, 그리고 한계점은 결론부에서 구체적으로 논의하였다.'</span>kp2014c.txt.content\n",
       ":   <span style=white-space:pre-wrap>'본 연구는 인터넷(Internet)을 통한 커뮤니케이션이 사회적 규범 변화에 미치는 영향을 주목했다. \\t\\t\\t구체적으로 인터넷(internet) 이용의 빈도/방식의 차이가 세대 간의 규범 차이라는 결과로 이어지는지 그리고 만약 그렇다면 어떤 요인들이 이 과정을 매개하는지를 탐색했다. 사회적 규범의 형성과 변화에 관한 기존의 연구는 사회적 규범이  개인의 커뮤니케이션 경험에 따라 차이가 나며, 주관적으로 선택한 준거-집단과 교류 대상자에 영향을 받는다는 점에 주목하고 있다. 따라서 ㄱ)인터넷을 통해 어떤 커뮤니케이션 경험을 하는가?, ㄴ)어떤 준거집단을 선택했는가, ㄷ)어떤 대상과 교류하고 있는가에 따라 사회적 규범 변화에 미치는 영향이 달라질 것이라고 보았다. 전국 인터넷 이용자를 대상으로 진행한 서베이 자료를 통해 분석한 결과, 사회적 규범에 근간이 되는 가치관에는 연령집단 간 차이가 나지 않았으나 구체적 탈규범 행동에는 연령집단 간 차이가 유의미하게 나타났다. (p-value &lt; 0.01) 사회적 규범은 온라인 행동과 오프라인 행동에서 유의미한 상관관계(r = 0.87)를 보였으며, 온라인 서술적 규범과 명령적 규범은 온라인 탈규범을 매개로 오프라인 탈규범에 영향을 미칠 수 있는 것으로 나타났다. \\t이를 통해 온라인 이용이 사회적 규범에 있어, 모든 세대에 걸쳐 온라인-행동과 오프라인-행동에 정(+)의 영향을 미친다는 점을 확인할 수 있었다.'</span>kp2014d.txt.content\n",
       ":   <span style=white-space:pre-wrap>'이 연구의 목적은 TV 건강프로그램 시청경험이 어떻게 시청자의 건강증진행동으로 이어지는가를 밝히는 것이다. 이를 위해 사회인지이론(ㅡBandura,  1977; 2004)과 \\t건강정보의 설득과정모형(ㅡMcGuire, 1981, 2001)에 기반하여 TV 건강프로그램 시청경험이 건강효능감에 미치는 영향과 건강효능감이 시청경험과 건강증진행동 사이에서 매개변수 역할을 하는 연구모형을 구축하였다. 연구를 위해 2013년 10월 18일부터 10월 23일까지 서울 및 서울 주변 신도시 거주 성인남녀 300명을 대상으로 설문조사 데이터를 수집하였다. 시청경험은 시청빈도, 신뢰도, 만족도의 세 개 변수로, 건강효능감과 건강증진행동은 운동, 식이습관 등 두 가지 하부 영역으로 구분하였다. 연구모형은 구조방정식 모형을 활용하여 검증하였다. 연구결과는 다음과 같다. 첫째, 시청자가 건강프로그램을 빈번하게 시청하고 프로그램 내용에 대한 만족감이 클 때 식이습관과 운동에 대한 건강효능감이 모두 증가하였다. 프로그램에 대한 신뢰도는 건강효능감에 유의미한 영향을 \\t미치지 않았다.(p &gt; 0.05)     둘째, 운동 관련 건강효능감은 운동 관련 건강증진행동에, 식이습관 관련 건강효능감은 식이습관 관련 건강증진행동에 긍정적인 영향을 미쳤다. 건강효능감영역 간 교차효과는 발견되지 않았다. \\t\\t셋째, 시청경험 변수들 중에서 시청빈도만이 운동 관련 건강증진행동에 직접효과(direct effect)를 나타내었다. 즉 시청빈도는 운동 행동에 대해 직접효과와 (운동 관련 건강효능감을 경유하는) 간접효과를 모두 보였다. (p &lt; 0.10)'</span>kp2016a.txt.content\n",
       ":   <span style=white-space:pre-wrap>'본 연구는   신문사에 칼럼을 기고하는 외부 필진(1회이상/1개월)과 일반 신문 이용자의 정파적 미디어 이용행태가 어떠한지를 살펴보았다. 이를 위해, 본 연구에서는 \\t보수ㆍ진보 신문에 대한 ‘균형 노출’, 이념성향이 일치하는 신문에 대한 ‘관점 일치 노출’, 이념/성향과 일치하지 않는 신문에 대한  ‘관점 불일치 노출’이 신문사 외부 필진과 일반 신문 이용자 사이에서 어떻게 다르게 나타나며 이들의 정치적 이념성향이 정파적 신문 이용에 어떤 영향을 미치는지 조사하였다. 본 연구는 크게 다음의 세 가지에 집중하였다. 첫째, 칼럼-기고자와 \\t\\t일반 대중의 정파적 신문 노출은 어떻게 다른가? 둘째, 신문 이용자의 정치적 이념성향에 따른 정파적 신문 노출은 어떠한가?? 셋째, 정파적 신문 노출에 대한 정치적 이념성향의 효과는 집단별로 어떻게 나타나는가? -- 조사 결과를 통해 한국 사회의 ‘정치적 양극화’ 특징과 한국의 여론 형성 과정에서의   이론적·실제적 함의를 밝혔다.'</span>kp2016b.txt.content\n",
       ":   <span style=white-space:pre-wrap>'본 연구는 최근 인기를 끄는 음식프로그램 시청이 시청자에게 어떠한 심리적 욕구를 충족시키며 주관적 행복감 증진에 기여하며 이러한 음식프로그램 시청효과 발생과정이 시청자 가구형태에 따라 어떻게 다르게 나타나는지 실증적으로 살펴보았다. 이용과 충족 이론, 의사사회 \\t상호작용 인식을 토대로 한 텔레비전 프로그램의 심리적 효과연구를 기반으로, 본 연구에서는 음식프로그램 시청과 주관적 행복감을 매개하는 다음의 네 가지 심리적 변수를 추출하였다. &lt;1&gt; 첫째, 시청자는 음식프로그램 시청을 통해 요리법이나 맛집 정보 같은 ‘정보 만족’을 얻을 수 있다. &lt;2&gt; 둘째, 음식프로그램 시청자는 맛있는 음식을 대리소비(vicarious consumption)하는 방식으로 ‘식도락 만족’을  얻을 수 있다.  &lt;3&gt; 셋째, 음식프로그램 시청자들은 인기 있는 음식프로그램을 이야깃거리로 다른 사람과의 관계를 유지ㆍ형성하는 ‘사교적 만족’을 얻을 수 있다. &lt;4&gt; 넷째, 음식프로그램에 \\t\\t등장하는 유명인사와의 가상적 상호작용 경험, 즉 의사사회 상호작용 만족을 얻을 수 있다. 이를 기반으로   본 연구에서는 5회이상/하루당 시청패턴을 보이는 시청자들을 대상으로 시청자의 가구형태를 1인·2인·3인 이상 가구로 구분한 후, 응답자의 가구형태가 네 가지 심리적 변수가 음식프로그램 시청과 주관적 행복감의 관계를 매개하는 모형에 어떠한 영향을 미치는지를 ‘조절된 매개과정 모형’을 이용해 검증하였다.'</span>kp2016c.txt.content\n",
       ":   <span style=white-space:pre-wrap>'본 연구의 목적은 사람들의 건강관련 신념과 정치관련 신념이 어떤 관계를 맺고 있으며, 이러한 신념이 2015년 한국의 메르스 감염확산 사태의 원인에 대한 인식과 책임소재 판단에 어떠한 영향을 미치는지 밝히는 것이다. 이를 위해 귀인이론에 기반을 두고 건강통제영역 인식성향이 ‘정부’, ‘대형병원’, ‘메르스 감염자’라는 각 주체에 대한 원인인식에 어떠한 영향을 끼친 후 책임귀인으로 이어지는지를 살펴보는 매개효과를 설정하였으며, 이 매개효과가 응답자의 정치적 성향에 따라 어떻게 조절되는지를 다집단 구조방정식 모형을 통해 살펴보았다. 2015년 7월 16일부터~21일까지 할당표집한 표본 8,635명을 대상으로 온라인 서베이를 통해 데이터를 수집하였다.  건강통제영역 인식성향은 내적ㅡHLC, 전문가ㅡHLC, 운명ㅡHLC의 세 가지 하위차원으로 구분하였고, 정치적 성향은 진보/중도/보수의 세 가지 차원으로 구분하였다. 연구 결과는 다음과 같다. 첫째, 내적 HLC 성향은 메르스 감염자에 대한 원인인식을 통해 책임귀인으로 이어졌으며 이러한 매개효과는 보수주의자에게서 더욱 두드러지게 나타났다. 둘째, 전문가 HLC 성향은 정부나 대형병원에 대한 원인인식을 통해 책임귀인으로 이어졌으며 이러한 매개효과는 보수주의자보다 진보주의자나 중도주의자에게서 더욱 두드러지게 나타났다. \\t\\t\\t셋째, 운명 HLC 성향에 대해서는 뚜렷한 매개효과가 발견되지 않았으며 정치적 성향에 따라서도 이 효과는 달라지지 않았다.'</span>kp2016d.txt.content\n",
       ":   <span style=white-space:pre-wrap>'  본 연구는 서울시의 25개 구에서 120명씩 성별·연령별 할당표집한 서울시민들을 설문조사한 데이터를 활용하여 마을 공동체 활동에 참여하는 사람은 누구이며, 이들이 지지하는 정치적(politic)·사회적(social) 가치가 무엇인지를 밝히는 실증연구를 실시하였다. 응답 수치는 보통 15%에서 -3..5%가 감소한 11.5% 정도로 나타났다. 본 연구에서는 ‘마을 공동체 활동 참여’를 설명하기위해 (a)‘탈물질주의 가치지향’, (b)‘권위주의 가치지향’, \\t\\t그리고 (c)‘정치적 이념성향’ 세 가지에 주목하였다.  ‘탈물질주의 가치지향’은 마을 공동체 활동은 환경보호나 공동육아 등 기존의 정치·경제적 제도가 추구했던 가치와는 다른 대안적 가치를 추구하고 있다는 점을 반영하기 위해 선택되었으며, ‘권위주의적 가치지향’은 마을 공동체 활동 역시도\\t 조직적활동이며, 이에 따른 서열의식 그리고 리더쉽에 대한 태도를 반영하기 위해 선택되었다.   또한 마을공동체 활동이 진보-보수 양진영에서 같이 일어나고 있으며,  상대 진영의 공동체 활동을 정치적 활동으로 규정하려는 점에서 ‘정치적 이념성향’도 같이 고려하였다. 연구결과 현재의 마을 공동체 활성화 참여자들 중 약 73.8% 정도가 서열의식과 강력한 리더쉽을 중시하는 권위주의적 가치를 선호하는 보수적 시민들이 주도하는 것으로 나타났다.'</span>kp2016e.txt.content\n",
       ":   <span style=white-space:pre-wrap>'\\t\\t본 연구는 공익 연계 마케팅에서 추구하는 사회적 가치와 기업 활동의 관련성이 공익 연계 광고태도와 기업태도에 미치는 효과가 소비자의 귀인 방식과 기업의 기업의사회적책임(Corporate Social Responsibility, CSR) 평판에 따라 어떻게 변하는지 살펴보았다. 성별·연령별로 할당된 일반인 표본을 이용해 기업－공익 적합도와 CSR 평판을 실험조작한 30초의 공익 연계 광고를 제시한 후 소비자 귀인 방식과 광고·기업태도를 측정하였다. 연구 결과 기업－공익 적합도가 귀인 방식 및 광고·기업태도에 미치는 직접·간접 효과는 -10% ~ +10% 정도 CSR 평판에 따라 다르게 나타났다..  CSR 평판이 긍정적인 경우 기업－공익 적합도는\\t 소비자 귀인 과정을 매개로 소비자들의 공익 연계 광고태도를 1/3 정도 개선시킨 반면,   csr 평판이 중립적인 경우는 이러한 매개 효과가 나타나지 않았다. 또한 CSR 평판이 긍정적인 경우 기업－공익 적합도는 기업태도와 무관하였으나, CSR 평판이 중립적인  경우  기업－공익 적합도는 기업태도를 23.87% 정도개선시키는 것으로 나타났다. 본 연구에서는 왜 선행 연구들에서 기업－공익 적합도의 효과가 일관되게 나타나지 않았는지에 대한 이론적 해답을 제시하였으며, \\t기업의 csr 평판에 따라 어떠한 사회적 가치를 공익연계 마케팅에서 추구해야 하는지에 대한 실무적 함의도 제시하였다..'</span>kp2016f.txt.content\n",
       ":   '이 연구는 \\t\\t최근 활발히 진행되고 있는 마을공동체 사업의 실천이론이 되는 소통행위(communicative action)이론들을 바탕으로 공동체와 소통 간의 관계가 공동체미디어에 의해 매개되는 과정의 특성을 이해하고자 하였다. 구체적으로 우리는 마을공동체미디어라는 커뮤니티미디어를 중심으로 미디어 참가자들이 공동체를 규정하는 방식에서 ‘소통행위’는 어떠한 의미가 있는지, 공동체미디어 참가자들의 공동체를 위한 \\'소통행위(Communicative Action)\\'의 동기/목적은 무엇이며 그 특성은 어떠한지를 파악하고자 한다. 또한 이러한 공동체미디어의 조직화 과정을 지역공동체의 공론장 구조의 재구성 맥락 차원에서 이해하고자 하였다. 이를 위해 이 연구는 인터뷰와 각종 문서자료의 질적/정성적/감성적 분석을 통해 이에 대한 답을 구하고자 하였다. 분석 결과, 서울 도시공동체운동은 노스탤지어적인 감정적 실천에 기반하여 공동체를 규정하고 \"소통행위(Communicative action)\"의 실천 근거를 찾고 있었으며, 공동체미디어는 “소통행위”의 동기와 소통방식에 따라 주민마을미디어;시민마을미디어; 마을언론미디어;관변마을미디어 등 상이한 유형으로 구분되며 이에 따라 공동체 공론장 역시 소통 동기와 방식에 따라 차이를 나타낼 수 있음을 발견할 수 있었다(Choi &amp; Bond, 2017). \\t\\t이러한 발견을 바탕으로 소통행위를 통한 공동체 형성의 의의와 한계를 논의하였다.'kp2016g.txt.content\n",
       ":   <span style=white-space:pre-wrap>'본 논문은 커뮤니케이션 관점을 통해 전 세계적으로 나타나는 (1)포퓰리즘 현상의 의미는 무엇이며, \\t(2)왜 그리고 (3)어떻게 커뮤니케이션 연구자가 포퓰리즘 현상을 연구 대상으로 삼아야 하는지 논의하였다. 이를 위해 다음과 같은 순서로 본 논문을 전개하였다. 첫째, 포퓰리즘에 대한 다른 학문 분과들의 관점/성과를 소개하고 커뮤니케이션 관점에서 선행 연구들을 비판적으로 재검토하였다. 역사학, 정치학, 사회학 등의 다른 학문 분과들에 비해 커뮤니케이션 관점이 어떻게, 왜 포퓰리즘 현상을 보다 잘 설명할 수 있는지 살펴보았다.   둘째, [1]포퓰리즘 현상들을 관통하는 특징들은 무엇이며 [2] 언제 어떤 조건에서 포퓰리즘이 등장하는지 설명한 후, 세계적으로 다양한 형태로 나타나는 다양한 포퓰리즘 현상들을 소개하였다. 셋째, 커뮤니케이션 이론 관점에서 &lt;1&gt;‘레토릭’, &lt;2&gt;‘저널리즘’과 &lt;3&gt;‘정치 커뮤니케이션’ 연구에서 포퓰리즘 현상이 어떠한 의미를 가지며 어떻게 분석할 수 있는지 살펴보았다. \\t정부를 감시하고 비판하는 소위 ‘감시견’으로서의 언론의 역할은 포퓰리즘 현상과 매우 닮아 있으며, 단일한 ‘국민’을 형성하고 다수의 국민과 대립되고 배치되는 ‘타락한 엘리트’와 ‘이방인’들을 배척하는 포퓰리즘 담론의 구성은 커뮤니케이션 과정과 깊은 연관을 갖고 있으나, 이 분야에 대한 최근의 커뮤니케이션 연구는 활발하지 않은 것이 현실이다. 끝으로 포퓰리즘과 민주주의의 관계를 논의하면서 포퓰리즘 현상의 커뮤니케이션적 의미가 무엇인지, 포퓰리즘 현상의 커뮤니케이션적 함의는 무엇이며 이를 어떻게 바라보아야 하는가에 대한 저자의 견해를 소개하였다.'</span>kp2016h.txt.content\n",
       ":   <span style=white-space:pre-wrap>'\\t본 논문의 목적은 언론학 교육과정(curriculum) 개선논의의 등장배경과 역사를 서술하고 그 필요성/방향성을 제시하는 것이다. \\t본 논문에서는 컴퓨터 프로그래밍 언어와 데이터 수집  · 관리 · 분석 · 재현과 같은 데이터 과학관련 지식과 기술의 필요성을 강조하며 이를 언론학의 교과과정에 첨가 · 융합해야 한다는 주장의 등장배경과 필요성을 전반적으로 개괄 · 소개하였다. 또한 제도주의(institutionalism) 이론에 근거하여 언론학 교과과정을 ‘제도(institution)’로 파악하였으며, 제도를 둘러싼 이해관계자들로  ‘교수진’, ‘학생’, ‘학부모를 비롯한 일반인’, ‘다른 학문분과들’을 논의하였다. 이를 통해 기존의 교과과정과 새로운 교과과정이 특정 집단내부 혹은 집단 간 갈등을 일으킬  수  있으며, 이러한 갈등을 최소화시키고 협력가능성을 증대시킬 수 있는 방안을 추상적 수준에서나마 제안해 보았다. -- [참고] 커뮤니케이션연구ㅡ\\t\\t'</span>\n",
       "\n"
      ],
      "text/plain": [
       "                                                                                                                                                                                                                                                                                                                                                                                                                                                                                                                                                                                                                                                                                                                                                                                                                                                                                                                                                                                                                                                                                                                                                                                                                                                                                                                                                                                                                                                                          kp2004a.txt.content \n",
       "                                                                                                                                                                                                                                                                                                                 \"   여론조사환경의 변화로 기존의 전화조사를 이용한 대표성 확보는 점차 어려워지고 있다. 이에 따라 기존 표본조사방법에 대한 대안으로 인터넷， 휴대전화와 같은 새로운 미디어를 이용한 \\\"대안적 여론조사\\\" 도입이 시도되고 있으며, 몇몇 사례들에서 성공을 거두었다. 그러나 시간과 비용을 절약하고 기존 표본조사방법의 한계를 극복할 수 있는 잠재력을 활용하기 위해서는 ‘대안적 여론조사방법이 갖고 있는 표본편파의 문제점이 극복되어 야 한다. 따라서 이 글은 ㄱ)'전통적인 조사방법'과 '대안적 조사방법'을 실제 여론조사’와의 비교와 이론적 분석을 토대로 “대안적 조사방법”의 특징과 문제점을 살펴보았다(Kim, et al., 2015). 아울러 대안적 조사방법이 갖는 비확률적 표집방법에 따른 문제점을 해결하는 방안으로 최큰 제기되는 새로운 가중치 부여방법인 ㄴ)성향-가중방법과 반복-비례가중법을 살펴보았다. 이들은 인구통계학적 특성만을 고려한 가중치 부여방법보다 비확률적 표집방법에 의한 편차를 줄이는 데 효과적 방법으로 평가받고 있다. 그러나 통계학적 문제점들과 적용사례가 기존연구방법론 대비 1/10 정도수준으로 충분치 많다는 점, 그리고 몇몇 치명적인 실패사례들은 대안적 여론조사방법이 활용되기 위한 보정방법에 관한 지속적인 추후연구가 필요함을 보여주고 있다.\\t \\t\" \n",
       "                                                                                                                                                                                                                                                                                                                                                                                                                                                                                                                                                                                                                                                                                                                                                                                                                                                                                                                                                                                                                                                                                                                                                                                                                                                                                                                                                                                                                                                                          kp2005a.txt.content \n",
       "                                                                                                                                                                                                                                                                                                                                                                                                                                                                                                               \"\\t이  논문은 커뮤니케이션 정책연구에 대한 부정적 인식의 본질과 원인을 밝히고, 20가지 현실적 개선방안을 생각해 보는 것을 목적으로 한다. 미디어의 발전과 더불어 커뮤니케이션  정책에 대한 사회적 수요는 증가되고 있다.    이에  따라 많은 커뮤니케이션 학자들이 \\\"정책연구\\\"에 직ㆍ간접적으로 개입되어 있음에도 불구하고, 정책 연구는 학계와 현업 모두에게서 인정받지 못하는 실정이다.    이러한 문제의식에서 이 연구는 커뮤니케이션 정책연구의 대상과 방법론, 국내외의 정책연구 동향, 그리고 정책연구를 둘러싼 논란 등을 차례로 살펴보았다. \\\"커뮤니케이션-정책연구\\\"는 학문과 현실을 연결짓는 중요한 사회과학적  실천학문이며, 커뮤니케이션 방법론의 문제나 학문적 비순수성//비실용성 등은 커뮤니케이션 정책연구의 구조와 잘못된 관행에서 온 편견이지 정책연구의 생래적 한계로 환원되지 않는다는 것이 이 연구의 결론이다. 커뮤니케이션 \\t학술연구와 정책연구를 구별하는 인식의 장애를 극복하면서 이론과 현실분석을 결합시켜가는 노력이 양자 모두의 발전을 위해 \\t필요하다.  \" \n",
       "                                                                                                                                                                                                                                                                                                                                                                                                                                                                                                                                                                                                                                                                                                                                                                                                                                                                                                                                                                                                                                                                                                                                                                                                                                                                                                                                                                                                                                                                          kp2005b.txt.content \n",
       "                                                                                                                                                                                                                                                                                                                                                                             \"지상파 방송사   조직문화에 대한 기존연구들은 연간 60건 정도에서 -13편 정도가 감소한 47편 정도로 나타났다. 방송사 내부의 이질적이고 상호-배타적인 하위문화들의 존재와 그 상호작용에 주목하지 못하고 있다. 본 논문에서는 자율성 선호도와 부서 내 응집도라는 두 축에 따라 네 가지 하위문화 유형을 구분한 후, 방송사내 부서들이 이중 어느 유형에 속하며, 이에 따라 공공성과 상업성 중 어느 방향의 가치지향성을 갖는지 분석하였다. 연구결과, 자율성과 응집도가 모두 높은 ‘공동체적 합의문화’ 유형에는 기술과 영상미술 부서들, 자율성은 높지만 응집도가 낮은 ‘개별화된 네트워크(Network) 문화’에는 라디오와 시사교양 부서가 속하는 것으로 드러났다. ㅡ([참고] 언론정보학연구)\\t 반면 부서의 자율성보다 조직 전체의 목교 추구를 중시하며 부서 내 응집도가 높은 ‘가부장적 문화’에는 보도/기획/편성 부서들, 전체 조직의 목표 추구를 중시하지만 부서 내 응집도가 낮은 ‘관료제적 문화’에는 인력자원 부서가 속하는 것으로 확인되었다... ㅡ가치지향성과 관련해 부서의 자율성을 중시할수록 방송사가 추구할  목표를 공익성으로 인식하는 반면, 전체 조직 목표를 중시할수록 상업성 방향으로 기울어 있음이 확인되었다.  \" \n",
       "                                                                                                                                                                                                                                                                                                                                                                                                                                                                                                                                                                                                                                                                                                                                                                                                                                                                                                                                                                                                                                                                                                                                                                                                                                                                                                                                                                                                                                                                          kp2012a.txt.content \n",
       "\"\\t최근 한국의 문화예술 분야에서 벌어지고 있는 역동적 변화를 이해하기 위해서는 창조-매개?소비의 상호작용에 관한 예술계 각 부문을 아우르는 시각으로 접근할 필요가 있다. 특히 문화산업의 발전으로 소비-지형에 대한 신뢰성 있는 연구의 필요성이 증대되었지만, 개별적으로 다양하게 이뤄지는 소비ㅡ행위를 측정하는데 어려움이 존재했다. \\t본 연구에서는 기존의 설문조사에 의존하는 문화예술 소비 연구의 대안으로,      온라인 구매 기록을 활용하는 /3가지 연구 방법/을 도입하였다.   구체적으로는 2000년대를 거치며 급격하게 성장한 공연예술에 주목하여, 2001∼2006년 사이에 티켓링크에서 비교적 꾸준하게 공연을 구매한 적극적인 문화소비자들(Active Performing-arts Consumer)의 구매기록을 분석했다. 이를 통해 실제로 문화를 소비하는 사람들의 특징과 시간(계절/월간/주간/일간)에 따른 문화소비의 양적 변화, 장르적 차원에서의 소비 내용 변화 및 문화소비다양성을 \\t확인함으로써 한국의 ‘문화소비’ 지형을 기술하는 것을 연구의 목적으로 한다. 연구 결과, 양적으로는 공연 예술 분야의 양적 팽창과 소비의 양극화 경향을, 소비내용에 있어서는 소비 저변의 확대와 소비다양성 감소 추세를 확인할 수 있었다. 최근의 통시적 변화를 보여주는 이러한 결과는 문화산업 분야의 전략/정책 수립과 예술경영 운영//관리방안 수립에 근거로서 활용될 수 있을 것이다. 다만, 온라인 구매 기록이 분석을 목적으로 한 자료가 아니라는   점에서 이론적 설명에 어려움이 있었다. --향후에는 ‘로그 데이터’ 분석에 기존의 사회과학 연구모델을 치밀하게 접목하는 등의 보다 융합적인 연구 시도가 필요할 것으로 보인다.ㅡㅡ\" \n",
       "                                                                                                                                                                                                                                                                                                                                                                                                                                                                                                                                                                                                                                                                                                                                                                                                                                                                                                                                                                                                                                                                                                                                                                                                                                                                                                                                                                                                                                                                          kp2012b.txt.content \n",
       "                                                                                                                                                                                                                                                                                                                                                                                  \"  인터넷 이용의 심리적/사회적 효과에 관한 연구에서  이용시간 변수는 핵심적 변수 역할을 하고 있다.  많은 연구들이 자기응답방식을 통해서 인터넷 이용시간을 측정하지만, 자기응답방식을 통한 인간의 행동측정은 과도응답의 위험성에 100% 노출되어 있다는 문제점이 있다.      이번 연구에서는 (1) 관행적인 [자기응답방식]으로 얻어진 인터넷의 이용시간이 기계측정방식으로 얻어진  이용시간에 비하여 과도응답이 나타나는지, 그리고 (2) 선행연구들에서 제시된 가설들을 통해 과도응답을 일으키는 이유가 무엇인지 탐구하였다.  도출된 ‘적정응답가설’, ‘추정오류가설’, 그리고 ‘사회요망성가설’들 중 ‘추정오류가설’이 경험적 지지를 얻은 반면, 다른 두 가설들은 가설예측과 정반대의 결과를 보이는 것으로    나타났다.   또한 (3) 자기응답방식으로 얻어진 이용시간이 연구문제 및 가설검증에 어떠한 미치는지를 기계측정방식으로 얻어진 이용시간과의 비교를 통해, 자기응답방식으로 얻어진 인터넷 이용시간으로 응답자의 인터넷에     대한 주관적인 평가(‘자신의 인터넷 행위 인식’ 및 (4)‘다른 인터넷 이용자에 대한 인식’)를 예측할 경우 타입-I(type-1) 오류를 범할 가능성이 높다는 결과를 발견하였다.\\t    \\t\" \n",
       "                                                                                                                                                                                                                                                                                                                                                                                                                                                                                                                                                                                                                                                                                                                                                                                                                                                                                                                                                                                                                                                                                                                                                                                                                                                                                                                                                                                                                                                                          kp2013a.txt.content \n",
       "                                                                                                                                                                                                                                                                                                                                                                                                                                                                     \"  이 연구는 정치인의 말하기 방식에 따라 해당정치인에 대한 개인적 윤리적/도덕성 평가는 물론 정치전반에 대한 신뢰와 냉소주의에 미치는 영향을 가상적 ”인사청문회”   상황을 이용한 실험연구를 통해 살펴보았다. 선행연구에 기반하여 의혹에 싸인 정치인이 채택할 수 있는 정치적 말하기 방식을\\t (1) 부인(denial), (2) 정당화(justification), (3) 변명(excuse), (4) 참회(confession)로 구분한 후 각각의 해명효과를 살펴보기 위해서 의혹만 제기되고 해명은 제기되지 않는 (5) 해명 없음(no account)을 추가한 5가지의 실험조건을 준비하였다. 정치적 의혹이 제기되고 해명되는 정치적  상황으로는 ‘고위공직자 인사청문회’를 선택하였다. 실험결과 ‘정당화’와 ‘참회’ 전략에서 해당정치인에 대해 상대적으로 높은 도덕적 \\t\\t평가가 나타났다. 정치전반에 대한 신뢰의 경우 오직 ‘참회’ 전략만이 국민들의 정치신뢰를 고양시킬 수 있는 것으로 나타났다.     이 연구는 정치인의 말하기 방식이 개별정치인의 ‘평판관리 전략’을 넘어서 ‘좋은 민주주의’의 조건 중 하나인 ‘정치신뢰’를 낳을 수도 있다는 것을 보여주고 있다.\\t  \" \n",
       "                                                                                                                                                                                                                                                                                                                                                                                                                                                                                                                                                                                                                                                                                                                                                                                                                                                                                                                                                                                                                                                                                                                                                                                                                                                                                                                                                                                                                                                                          kp2013b.txt.content \n",
       "                                                                                                                                                                                                                                                                                                                                                                                                                                                                                 \"우리 연구는 ‘트위터(Twitter)’가 이용자들의 여론지각에 어떠한 영향을 미치는지를 ‘허위합의지각’을 중심으로 살펴보았다. 트위터는 많은 사람들이 참여하는 담론공간이지만, 인간관계가 선택적으로 구성되는 특징으로 비슷한 의견의 사람들끼리 상호작용하는 공간//장소에 불과하다는 지적도 있다. \\t\\t트위터(TWITTER)가 \\\"여론지각\\\"에 미치는 영향을 실증적으로 탐색하기 위해 우리는 <10회이상/1일>, <30회이상/1주일> 정도의 이용패턴을 가지는 트위터 이용자들이 비이용자들에 비해 실제로 '허위합의지각'이 높은지,   또한 트위터 이용자 집단 내에서 이들의 “이념강도”와 “네트워크 동질성”의 인식이 허위합의 지각에 어떤 영향을 미치는지 살펴보았다.. 연구결과 /트위터/ 이용자가 비이용자에 비해 높은 허위합의지각을 보였을 뿐 아니라, 이용자 집단 내부에서도 동질성 인식이 높고 ‘이념강도’가 강할수록 잘못된 여론지각을 보이는 것을 부분적으로 확인할 수 있었다. 연구결과를 바탕으로 우리는 트위터 공간이 여론연구에 어떠한 함의를 갖는지 그리고 한국 민주주의에 어떠한 영향을 끼칠 것인지 논의하였다.    \" \n",
       "                                                                                                                                                                                                                                                                                                                                                                                                                                                                                                                                                                                                                                                                                                                                                                                                                                                                                                                                                                                                                                                                                                                                                                                                                                                                                                                                                                                                                                                                          kp2014a.txt.content \n",
       "                                                                                                                                      \"이 연구는 위키리크스를 통해서 공개된 주한 미국대사관의 외교전문들을 컴퓨터 언어처리 기법을 이용하여 분석한 것이다.  구체적으로   2006년 1월  1일부터 2010년 2월 25일까지  미국대사관에서 본국으로 발송한 1,080건의 ‘비밀’ 혹은 ‘대외비’ 외교전문들 중 64.7%를 분석하였다.   해당 시기는 본국인 미국과 주재국인 한국 모두에서 정권교체가 일어났던 시기였다. 한국의 정권교체를 ‘대등적-협력적’로 미국의 정권교체를 ‘일방적-상호적’로 단순화한 후 위키리크스에서 공개된 전문들을  (1)‘대등적－일방적’, (2)‘협력적－일방적’그리고 (3)‘협력적－상호적’의 세 기간으로 나누었다.   또한 공개된 외교전문들에서 \\t① 한국  내 정세, ②  북한관련, ③ 주한미군, ④ 남북경협, ⑤ 해외파병, ⑥ 동북아문제, ⑦ 한미통상의 주제들을, 그리고 긍정적/부정적 감정과 두 감정이 공존하는 양가감정(兩價感情)을 각각 (1)잠재적 디리쉴레분포 배치모형, (2)주성분 분석, 그리고 (3)LIWC 분석을 통하여 추출하였다. \\t분석결과, 첫째, 주제와 감정을 추출하는 컴퓨터 텍스트 분석은 일정수준의 타당성을 확보할 수 있었고, 둘째, 문서내의 주제와 감정의 변화는 주로 본국의 정권변화에 민감하게 반응하며, 주재국의 변화에는 그 변화가 상대적으로 적다는 사실을 확인할 수 있었다. 이 논문에서는 위키리크스 외교전문과 같은 대용량의 텍스트를 분석할 때 컴퓨터 언어처리 방식의 방법론적 타당성과 주재국-대사관-본국간의 외교 커뮤니케이션의 이론적 함의도 논의하였다.\\t\" \n",
       "                                                                                                                                                                                                                                                                                                                                                                                                                                                                                                                                                                                                                                                                                                                                                                                                                                                                                                                                                                                                                                                                                                                                                                                                                                                                                                                                                                                                                                                                          kp2014b.txt.content \n",
       "                                                                                                                                                                                                                                                                                                                                                                                                                                                                                        \"SNS(Social Network Service) 공간에서는 다양한 유형의 인간-관계를 유지·형성하는 것이 가능하다.\\t 본 연구는 SNS 공간에서의 인간-관계유형을 ‘관계유지’\\t(기존 오프라인 관계가 SNS로 옮겨간 경우), ‘관계형성’ (SNS에서 새로이 형성된 경우), ‘관계회복’(끊어졌던 오프라인 관계가 SNS를 통해 회복된 경우)의 세 가지로 구분하였고, 각각의 관계망의 크기와 강도를 구분하였다. 또한 이에 영향을 받는 사회적 지지감 역시도 온라인/오프라인으로 구분한 후 각 관계망의 크기와 강도가어떠한 영향을 미치는지를 살펴보았다. 연구결과, 오프라인 사회적  지지감과 온라인 사회적 지지감은 서로 구분되며, SNS 관계망 유형별에 따라 다른 영향을 받는 것으로 나타났다. 구체적으로 모든 유형의 관계망 크기는 온/오프라인 사회적 지지감에 별다른 영향을 주지 못하였지만, 관계형성형 관계망 강도는 온라인 사회적 지지감에 그리고 관계유지형 관계망 강도는 오프라인 사회적 지지감에 +방향으로 긍정적 효과를 끼치는 것으로 나타났다. 결과에 대한 논의와 이론적 함의, 그리고 한계점은 결론부에서 구체적으로 논의하였다.\" \n",
       "                                                                                                                                                                                                                                                                                                                                                                                                                                                                                                                                                                                                                                                                                                                                                                                                                                                                                                                                                                                                                                                                                                                                                                                                                                                                                                                                                                                                                                                                          kp2014c.txt.content \n",
       "                                                                                                                                                                                                                                                     \"본 연구는 인터넷(Internet)을 통한 커뮤니케이션이 사회적 규범 변화에 미치는 영향을 주목했다. \\t\\t\\t구체적으로 인터넷(internet) 이용의 빈도/방식의 차이가 세대 간의 규범 차이라는 결과로 이어지는지 그리고 만약 그렇다면 어떤 요인들이 이 과정을 매개하는지를 탐색했다. 사회적 규범의 형성과 변화에 관한 기존의 연구는 사회적 규범이  개인의 커뮤니케이션 경험에 따라 차이가 나며, 주관적으로 선택한 준거-집단과 교류 대상자에 영향을 받는다는 점에 주목하고 있다. 따라서 ㄱ)인터넷을 통해 어떤 커뮤니케이션 경험을 하는가?, ㄴ)어떤 준거집단을 선택했는가, ㄷ)어떤 대상과 교류하고 있는가에 따라 사회적 규범 변화에 미치는 영향이 달라질 것이라고 보았다. 전국 인터넷 이용자를 대상으로 진행한 서베이 자료를 통해 분석한 결과, 사회적 규범에 근간이 되는 가치관에는 연령집단 간 차이가 나지 않았으나 구체적 탈규범 행동에는 연령집단 간 차이가 유의미하게 나타났다. (p-value < 0.01) 사회적 규범은 온라인 행동과 오프라인 행동에서 유의미한 상관관계(r = 0.87)를 보였으며, 온라인 서술적 규범과 명령적 규범은 온라인 탈규범을 매개로 오프라인 탈규범에 영향을 미칠 수 있는 것으로 나타났다. \\t이를 통해 온라인 이용이 사회적 규범에 있어, 모든 세대에 걸쳐 온라인-행동과 오프라인-행동에 정(+)의 영향을 미친다는 점을 확인할 수 있었다.\" \n",
       "                                                                                                                                                                                                                                                                                                                                                                                                                                                                                                                                                                                                                                                                                                                                                                                                                                                                                                                                                                                                                                                                                                                                                                                                                                                                                                                                                                                                                                                                          kp2014d.txt.content \n",
       "                                                                                                                    \"이 연구의 목적은 TV 건강프로그램 시청경험이 어떻게 시청자의 건강증진행동으로 이어지는가를 밝히는 것이다. 이를 위해 사회인지이론(ㅡBandura,  1977; 2004)과 \\t건강정보의 설득과정모형(ㅡMcGuire, 1981, 2001)에 기반하여 TV 건강프로그램 시청경험이 건강효능감에 미치는 영향과 건강효능감이 시청경험과 건강증진행동 사이에서 매개변수 역할을 하는 연구모형을 구축하였다. 연구를 위해 2013년 10월 18일부터 10월 23일까지 서울 및 서울 주변 신도시 거주 성인남녀 300명을 대상으로 설문조사 데이터를 수집하였다. 시청경험은 시청빈도, 신뢰도, 만족도의 세 개 변수로, 건강효능감과 건강증진행동은 운동, 식이습관 등 두 가지 하부 영역으로 구분하였다. 연구모형은 구조방정식 모형을 활용하여 검증하였다. 연구결과는 다음과 같다. 첫째, 시청자가 건강프로그램을 빈번하게 시청하고 프로그램 내용에 대한 만족감이 클 때 식이습관과 운동에 대한 건강효능감이 모두 증가하였다. 프로그램에 대한 신뢰도는 건강효능감에 유의미한 영향을 \\t미치지 않았다.(p > 0.05)     둘째, 운동 관련 건강효능감은 운동 관련 건강증진행동에, 식이습관 관련 건강효능감은 식이습관 관련 건강증진행동에 긍정적인 영향을 미쳤다. 건강효능감영역 간 교차효과는 발견되지 않았다. \\t\\t셋째, 시청경험 변수들 중에서 시청빈도만이 운동 관련 건강증진행동에 직접효과(direct effect)를 나타내었다. 즉 시청빈도는 운동 행동에 대해 직접효과와 (운동 관련 건강효능감을 경유하는) 간접효과를 모두 보였다. (p < 0.10)\" \n",
       "                                                                                                                                                                                                                                                                                                                                                                                                                                                                                                                                                                                                                                                                                                                                                                                                                                                                                                                                                                                                                                                                                                                                                                                                                                                                                                                                                                                                                                                                          kp2016a.txt.content \n",
       "                                                                                                                                                                                                                                                                                                                                                                                                                                                                                                                                                                                                                  \"본 연구는   신문사에 칼럼을 기고하는 외부 필진(1회이상/1개월)과 일반 신문 이용자의 정파적 미디어 이용행태가 어떠한지를 살펴보았다. 이를 위해, 본 연구에서는 \\t보수ㆍ진보 신문에 대한 ‘균형 노출’, 이념성향이 일치하는 신문에 대한 ‘관점 일치 노출’, 이념/성향과 일치하지 않는 신문에 대한  ‘관점 불일치 노출’이 신문사 외부 필진과 일반 신문 이용자 사이에서 어떻게 다르게 나타나며 이들의 정치적 이념성향이 정파적 신문 이용에 어떤 영향을 미치는지 조사하였다. 본 연구는 크게 다음의 세 가지에 집중하였다. 첫째, 칼럼-기고자와 \\t\\t일반 대중의 정파적 신문 노출은 어떻게 다른가? 둘째, 신문 이용자의 정치적 이념성향에 따른 정파적 신문 노출은 어떠한가?? 셋째, 정파적 신문 노출에 대한 정치적 이념성향의 효과는 집단별로 어떻게 나타나는가? -- 조사 결과를 통해 한국 사회의 ‘정치적 양극화’ 특징과 한국의 여론 형성 과정에서의   이론적·실제적 함의를 밝혔다.\" \n",
       "                                                                                                                                                                                                                                                                                                                                                                                                                                                                                                                                                                                                                                                                                                                                                                                                                                                                                                                                                                                                                                                                                                                                                                                                                                                                                                                                                                                                                                                                          kp2016b.txt.content \n",
       "                                                                                                                                                                                                                  \"본 연구는 최근 인기를 끄는 음식프로그램 시청이 시청자에게 어떠한 심리적 욕구를 충족시키며 주관적 행복감 증진에 기여하며 이러한 음식프로그램 시청효과 발생과정이 시청자 가구형태에 따라 어떻게 다르게 나타나는지 실증적으로 살펴보았다. 이용과 충족 이론, 의사사회 \\t상호작용 인식을 토대로 한 텔레비전 프로그램의 심리적 효과연구를 기반으로, 본 연구에서는 음식프로그램 시청과 주관적 행복감을 매개하는 다음의 네 가지 심리적 변수를 추출하였다. <1> 첫째, 시청자는 음식프로그램 시청을 통해 요리법이나 맛집 정보 같은 ‘정보 만족’을 얻을 수 있다. <2> 둘째, 음식프로그램 시청자는 맛있는 음식을 대리소비(vicarious consumption)하는 방식으로 ‘식도락 만족’을  얻을 수 있다.  <3> 셋째, 음식프로그램 시청자들은 인기 있는 음식프로그램을 이야깃거리로 다른 사람과의 관계를 유지ㆍ형성하는 ‘사교적 만족’을 얻을 수 있다. <4> 넷째, 음식프로그램에 \\t\\t등장하는 유명인사와의 가상적 상호작용 경험, 즉 의사사회 상호작용 만족을 얻을 수 있다. 이를 기반으로   본 연구에서는 5회이상/하루당 시청패턴을 보이는 시청자들을 대상으로 시청자의 가구형태를 1인·2인·3인 이상 가구로 구분한 후, 응답자의 가구형태가 네 가지 심리적 변수가 음식프로그램 시청과 주관적 행복감의 관계를 매개하는 모형에 어떠한 영향을 미치는지를 ‘조절된 매개과정 모형’을 이용해 검증하였다.\" \n",
       "                                                                                                                                                                                                                                                                                                                                                                                                                                                                                                                                                                                                                                                                                                                                                                                                                                                                                                                                                                                                                                                                                                                                                                                                                                                                                                                                                                                                                                                                          kp2016c.txt.content \n",
       "                                                                                                                                                                                          \"본 연구의 목적은 사람들의 건강관련 신념과 정치관련 신념이 어떤 관계를 맺고 있으며, 이러한 신념이 2015년 한국의 메르스 감염확산 사태의 원인에 대한 인식과 책임소재 판단에 어떠한 영향을 미치는지 밝히는 것이다. 이를 위해 귀인이론에 기반을 두고 건강통제영역 인식성향이 ‘정부’, ‘대형병원’, ‘메르스 감염자’라는 각 주체에 대한 원인인식에 어떠한 영향을 끼친 후 책임귀인으로 이어지는지를 살펴보는 매개효과를 설정하였으며, 이 매개효과가 응답자의 정치적 성향에 따라 어떻게 조절되는지를 다집단 구조방정식 모형을 통해 살펴보았다. 2015년 7월 16일부터~21일까지 할당표집한 표본 8,635명을 대상으로 온라인 서베이를 통해 데이터를 수집하였다.  건강통제영역 인식성향은 내적ㅡHLC, 전문가ㅡHLC, 운명ㅡHLC의 세 가지 하위차원으로 구분하였고, 정치적 성향은 진보/중도/보수의 세 가지 차원으로 구분하였다. 연구 결과는 다음과 같다. 첫째, 내적 HLC 성향은 메르스 감염자에 대한 원인인식을 통해 책임귀인으로 이어졌으며 이러한 매개효과는 보수주의자에게서 더욱 두드러지게 나타났다. 둘째, 전문가 HLC 성향은 정부나 대형병원에 대한 원인인식을 통해 책임귀인으로 이어졌으며 이러한 매개효과는 보수주의자보다 진보주의자나 중도주의자에게서 더욱 두드러지게 나타났다. \\t\\t\\t셋째, 운명 HLC 성향에 대해서는 뚜렷한 매개효과가 발견되지 않았으며 정치적 성향에 따라서도 이 효과는 달라지지 않았다.\" \n",
       "                                                                                                                                                                                                                                                                                                                                                                                                                                                                                                                                                                                                                                                                                                                                                                                                                                                                                                                                                                                                                                                                                                                                                                                                                                                                                                                                                                                                                                                                          kp2016d.txt.content \n",
       "                                                                                                                                                                                                                                                                                                            \"  본 연구는 서울시의 25개 구에서 120명씩 성별·연령별 할당표집한 서울시민들을 설문조사한 데이터를 활용하여 마을 공동체 활동에 참여하는 사람은 누구이며, 이들이 지지하는 정치적(politic)·사회적(social) 가치가 무엇인지를 밝히는 실증연구를 실시하였다. 응답 수치는 보통 15%에서 -3..5%가 감소한 11.5% 정도로 나타났다. 본 연구에서는 ‘마을 공동체 활동 참여’를 설명하기위해 (a)‘탈물질주의 가치지향’, (b)‘권위주의 가치지향’, \\t\\t그리고 (c)‘정치적 이념성향’ 세 가지에 주목하였다.  ‘탈물질주의 가치지향’은 마을 공동체 활동은 환경보호나 공동육아 등 기존의 정치·경제적 제도가 추구했던 가치와는 다른 대안적 가치를 추구하고 있다는 점을 반영하기 위해 선택되었으며, ‘권위주의적 가치지향’은 마을 공동체 활동 역시도\\t 조직적활동이며, 이에 따른 서열의식 그리고 리더쉽에 대한 태도를 반영하기 위해 선택되었다.   또한 마을공동체 활동이 진보-보수 양진영에서 같이 일어나고 있으며,  상대 진영의 공동체 활동을 정치적 활동으로 규정하려는 점에서 ‘정치적 이념성향’도 같이 고려하였다. 연구결과 현재의 마을 공동체 활성화 참여자들 중 약 73.8% 정도가 서열의식과 강력한 리더쉽을 중시하는 권위주의적 가치를 선호하는 보수적 시민들이 주도하는 것으로 나타났다.\" \n",
       "                                                                                                                                                                                                                                                                                                                                                                                                                                                                                                                                                                                                                                                                                                                                                                                                                                                                                                                                                                                                                                                                                                                                                                                                                                                                                                                                                                                                                                                                          kp2016e.txt.content \n",
       "                                                                                                                                                                                                                                                                                        \"\\t\\t본 연구는 공익 연계 마케팅에서 추구하는 사회적 가치와 기업 활동의 관련성이 공익 연계 광고태도와 기업태도에 미치는 효과가 소비자의 귀인 방식과 기업의 기업의사회적책임(Corporate Social Responsibility, CSR) 평판에 따라 어떻게 변하는지 살펴보았다. 성별·연령별로 할당된 일반인 표본을 이용해 기업－공익 적합도와 CSR 평판을 실험조작한 30초의 공익 연계 광고를 제시한 후 소비자 귀인 방식과 광고·기업태도를 측정하였다. 연구 결과 기업－공익 적합도가 귀인 방식 및 광고·기업태도에 미치는 직접·간접 효과는 -10% ~ +10% 정도 CSR 평판에 따라 다르게 나타났다..  CSR 평판이 긍정적인 경우 기업－공익 적합도는\\t 소비자 귀인 과정을 매개로 소비자들의 공익 연계 광고태도를 1/3 정도 개선시킨 반면,   csr 평판이 중립적인 경우는 이러한 매개 효과가 나타나지 않았다. 또한 CSR 평판이 긍정적인 경우 기업－공익 적합도는 기업태도와 무관하였으나, CSR 평판이 중립적인  경우  기업－공익 적합도는 기업태도를 23.87% 정도개선시키는 것으로 나타났다. 본 연구에서는 왜 선행 연구들에서 기업－공익 적합도의 효과가 일관되게 나타나지 않았는지에 대한 이론적 해답을 제시하였으며, \\t기업의 csr 평판에 따라 어떠한 사회적 가치를 공익연계 마케팅에서 추구해야 하는지에 대한 실무적 함의도 제시하였다..\" \n",
       "                                                                                                                                                                                                                                                                                                                                                                                                                                                                                                                                                                                                                                                                                                                                                                                                                                                                                                                                                                                                                                                                                                                                                                                                                                                                                                                                                                                                                                                                          kp2016f.txt.content \n",
       "                                                                                                                                                                                                                                               \"이 연구는 \\t\\t최근 활발히 진행되고 있는 마을공동체 사업의 실천이론이 되는 소통행위(communicative action)이론들을 바탕으로 공동체와 소통 간의 관계가 공동체미디어에 의해 매개되는 과정의 특성을 이해하고자 하였다. 구체적으로 우리는 마을공동체미디어라는 커뮤니티미디어를 중심으로 미디어 참가자들이 공동체를 규정하는 방식에서 ‘소통행위’는 어떠한 의미가 있는지, 공동체미디어 참가자들의 공동체를 위한 '소통행위(Communicative Action)'의 동기/목적은 무엇이며 그 특성은 어떠한지를 파악하고자 한다. 또한 이러한 공동체미디어의 조직화 과정을 지역공동체의 공론장 구조의 재구성 맥락 차원에서 이해하고자 하였다. 이를 위해 이 연구는 인터뷰와 각종 문서자료의 질적/정성적/감성적 분석을 통해 이에 대한 답을 구하고자 하였다. 분석 결과, 서울 도시공동체운동은 노스탤지어적인 감정적 실천에 기반하여 공동체를 규정하고 \\\"소통행위(Communicative action)\\\"의 실천 근거를 찾고 있었으며, 공동체미디어는 “소통행위”의 동기와 소통방식에 따라 주민마을미디어;시민마을미디어; 마을언론미디어;관변마을미디어 등 상이한 유형으로 구분되며 이에 따라 공동체 공론장 역시 소통 동기와 방식에 따라 차이를 나타낼 수 있음을 발견할 수 있었다(Choi & Bond, 2017). \\t\\t이러한 발견을 바탕으로 소통행위를 통한 공동체 형성의 의의와 한계를 논의하였다.\" \n",
       "                                                                                                                                                                                                                                                                                                                                                                                                                                                                                                                                                                                                                                                                                                                                                                                                                                                                                                                                                                                                                                                                                                                                                                                                                                                                                                                                                                                                                                                                          kp2016g.txt.content \n",
       "                           \"본 논문은 커뮤니케이션 관점을 통해 전 세계적으로 나타나는 (1)포퓰리즘 현상의 의미는 무엇이며, \\t(2)왜 그리고 (3)어떻게 커뮤니케이션 연구자가 포퓰리즘 현상을 연구 대상으로 삼아야 하는지 논의하였다. 이를 위해 다음과 같은 순서로 본 논문을 전개하였다. 첫째, 포퓰리즘에 대한 다른 학문 분과들의 관점/성과를 소개하고 커뮤니케이션 관점에서 선행 연구들을 비판적으로 재검토하였다. 역사학, 정치학, 사회학 등의 다른 학문 분과들에 비해 커뮤니케이션 관점이 어떻게, 왜 포퓰리즘 현상을 보다 잘 설명할 수 있는지 살펴보았다.   둘째, [1]포퓰리즘 현상들을 관통하는 특징들은 무엇이며 [2] 언제 어떤 조건에서 포퓰리즘이 등장하는지 설명한 후, 세계적으로 다양한 형태로 나타나는 다양한 포퓰리즘 현상들을 소개하였다. 셋째, 커뮤니케이션 이론 관점에서 <1>‘레토릭’, <2>‘저널리즘’과 <3>‘정치 커뮤니케이션’ 연구에서 포퓰리즘 현상이 어떠한 의미를 가지며 어떻게 분석할 수 있는지 살펴보았다. \\t정부를 감시하고 비판하는 소위 ‘감시견’으로서의 언론의 역할은 포퓰리즘 현상과 매우 닮아 있으며, 단일한 ‘국민’을 형성하고 다수의 국민과 대립되고 배치되는 ‘타락한 엘리트’와 ‘이방인’들을 배척하는 포퓰리즘 담론의 구성은 커뮤니케이션 과정과 깊은 연관을 갖고 있으나, 이 분야에 대한 최근의 커뮤니케이션 연구는 활발하지 않은 것이 현실이다. 끝으로 포퓰리즘과 민주주의의 관계를 논의하면서 포퓰리즘 현상의 커뮤니케이션적 의미가 무엇인지, 포퓰리즘 현상의 커뮤니케이션적 함의는 무엇이며 이를 어떻게 바라보아야 하는가에 대한 저자의 견해를 소개하였다.\" \n",
       "                                                                                                                                                                                                                                                                                                                                                                                                                                                                                                                                                                                                                                                                                                                                                                                                                                                                                                                                                                                                                                                                                                                                                                                                                                                                                                                                                                                                                                                                          kp2016h.txt.content \n",
       "                                                                                                                                                                                                                                                                                                                                                                                                                                                                                                                                                                                                                                                 \"\\t본 논문의 목적은 언론학 교육과정(curriculum) 개선논의의 등장배경과 역사를 서술하고 그 필요성/방향성을 제시하는 것이다. \\t본 논문에서는 컴퓨터 프로그래밍 언어와 데이터 수집  · 관리 · 분석 · 재현과 같은 데이터 과학관련 지식과 기술의 필요성을 강조하며 이를 언론학의 교과과정에 첨가 · 융합해야 한다는 주장의 등장배경과 필요성을 전반적으로 개괄 · 소개하였다. 또한 제도주의(institutionalism) 이론에 근거하여 언론학 교과과정을 ‘제도(institution)’로 파악하였으며, 제도를 둘러싼 이해관계자들로  ‘교수진’, ‘학생’, ‘학부모를 비롯한 일반인’, ‘다른 학문분과들’을 논의하였다. 이를 통해 기존의 교과과정과 새로운 교과과정이 특정 집단내부 혹은 집단 간 갈등을 일으킬  수  있으며, 이러한 갈등을 최소화시키고 협력가능성을 증대시킬 수 있는 방안을 추상적 수준에서나마 제안해 보았다. -- [참고] 커뮤니케이션연구ㅡ\\t\\t\" "
      ]
     },
     "metadata": {},
     "output_type": "display_data"
    },
    {
     "name": "stdout",
     "output_type": "stream",
     "text": [
      "[1] 19\n",
      "[1] \"character\"\n"
     ]
    }
   ],
   "source": [
    "# 각 문서파일마다 content 내용을 한 개 요소로 통일화 작업실시\n",
    "tmp_all_combined <- sapply(tmp_all, str_c, collapse = ' ') \n",
    "tmp_all_combined \n",
    "# - tmp_all_combined <- sapply(tmp_all, pasete, collapse = ' ') 동일결과\n",
    "# - collapse = ' '에 공백옵션을 주어야 결합되는 각 문자열 데이터가 붙지않고, 자연스럽게 이어질 수 있음\n",
    "# - 각 문서파일마다 content 내용이 1개 문자열로 일원화 되었음\n",
    "\n",
    "length(tmp_all_combined) %>% print\n",
    "class(tmp_all_combined) %>% print"
   ]
  },
  {
   "cell_type": "markdown",
   "metadata": {},
   "source": [
    "### 각 문서별 세부요소를 하나씩으로 통일화한 내용(content)를 해당문서파일의 content항목마다 업데이트"
   ]
  },
  {
   "cell_type": "code",
   "execution_count": 45,
   "metadata": {},
   "outputs": [],
   "source": [
    "# 각 문서별로 하나의 요소로 통합된 내용을 해당 문서파일 content 항목에 개별 업데이트 실시\n",
    "\n",
    "# for loop 방식을 이용한 업데이트\n",
    "for (i in 1:length(tmp_all_combined)) {\n",
    "    my[[i]]$content <- tmp_all_combined[i]\n",
    "}"
   ]
  },
  {
   "cell_type": "code",
   "execution_count": 46,
   "metadata": {},
   "outputs": [
    {
     "name": "stdout",
     "output_type": "stream",
     "text": [
      "        kp2004a.txt kp2005a.txt kp2005b.txt kp2012a.txt kp2012b.txt kp2013a.txt\n",
      "content           1           1           1           1           1           1\n",
      "meta              7           7           7           7           7           7\n",
      "        kp2013b.txt kp2014a.txt kp2014b.txt kp2014c.txt kp2014d.txt kp2016a.txt\n",
      "content           1           1           1           1           1           1\n",
      "meta              7           7           7           7           7           7\n",
      "        kp2016b.txt kp2016c.txt kp2016d.txt kp2016e.txt kp2016f.txt kp2016g.txt\n",
      "content           1           1           1           1           1           1\n",
      "meta              7           7           7           7           7           7\n",
      "        kp2016h.txt\n",
      "content           1\n",
      "meta              7\n"
     ]
    },
    {
     "data": {
      "text/html": [
       "'matrix'"
      ],
      "text/latex": [
       "'matrix'"
      ],
      "text/markdown": [
       "'matrix'"
      ],
      "text/plain": [
       "[1] \"matrix\""
      ]
     },
     "metadata": {},
     "output_type": "display_data"
    }
   ],
   "source": [
    "# 말뭉치 객체의 각 문서별 업데이트된 content 항목의 세부요소갯수 파악 \n",
    "sapply(my, lengths) %>% print %>% class\n",
    "\n",
    "# - 말뭉치를 구성하고 있는 각 리스트항목(문서)에 데이터순환방식으로 접근해 \n",
    "#   content 항목의 길이를 카운팅하고, 결과를 행렬구조로 보여줌\n",
    "# - 모든 문서파일의 content항목의 길이는 1로 나와서 1개의 문자열로 구성되어 있는 것으로 확인됨"
   ]
  },
  {
   "cell_type": "markdown",
   "metadata": {},
   "source": [
    "# <font color = 'blue'>공백 처리(stripping white space)</font>\n",
    "* 공백(white space)은 단어와 단어를 구분하는 기능을 수행\n",
    "* 문자 입력의 실수, 또는 온라인 텍스트 수집과정의 오류로 공백이 2개이상 들어 있거나\n",
    "<br>탭키(Tab: \\t), 엔터키/라인피드(LF: \\n), 캐리지리턴(CR: \\r), 라인끝(EOL: \\r\\n) 등의 제어문자가 1개이상 포함된 경우 \n",
    "<br>모두 공백1칸으로 변경함"
   ]
  },
  {
   "cell_type": "markdown",
   "metadata": {},
   "source": [
    "## 검색패턴을 이용한 텍스트셋 탐색"
   ]
  },
  {
   "cell_type": "markdown",
   "metadata": {},
   "source": [
    "### 공백/간격/제어문자 검색패턴 설정"
   ]
  },
  {
   "cell_type": "code",
   "execution_count": 47,
   "metadata": {},
   "outputs": [],
   "source": [
    "# 문서내 공백/간격/제어문자가 들어간 문구를 찾는 정규표현식\n",
    "src <- '[[:graph:]]{0,}( {2,})|(\\t{1,})|(\\n{1,})|(\\r{1,})|(\\r\\n{1,})[[:graph:]]{0,}'\n",
    "\n",
    "# 양끝쪽   [[:graph:]]{0,} ==> 공백/간격/제어문자가 있는 패턴 전후로 어떠한 문구(숫자/문자/기호)가 \n",
    "#                            오는지(없던지, 1개 이상 오던지) 패턴검색 ==> [[:graph:]]* 동일검색패턴\n",
    "\n",
    "# 가운데 부분 정규표현식\n",
    "# - ( {2,})    ==> 공백(스페이스바)문자가 2개이상 들어 있는 패턴 검색\n",
    "# - (\\t{1,})   ==> 탭키(Tab)가 1개이상 들어 있는 패턴검색\n",
    "# - (\\n{1,})   ==> 엔터키/라인피드(LF)가 1개이상 들어 있는 패턴검색\n",
    "# - (\\r{1,})   ==> 캐리지리턴(CR)이 1개이상 들어 있는 패턴검색\n",
    "# - (\\r\\n{1,}) ==> 라인끝(End of Lines)이 1개 있앙 들어 있는 패턴검색\n",
    "\n",
    "# 가운데 사이사이 \n",
    "# - 수직바(|) ==> 일종의 or조건을 의미함. 공백/간격/제어문자 중에 해당하는 패턴이 나오는지 여러조건을 '또는'으로 연결함"
   ]
  },
  {
   "cell_type": "markdown",
   "metadata": {},
   "source": [
    "### 공백/간격/제어문자 검색패턴을 통한 텍스트셋 탐색"
   ]
  },
  {
   "cell_type": "markdown",
   "metadata": {},
   "source": [
    "#### 각 문서별 검색패턴 일치내용 파악"
   ]
  },
  {
   "cell_type": "code",
   "execution_count": 48,
   "metadata": {
    "scrolled": true
   },
   "outputs": [
    {
     "data": {
      "text/html": [
       "'말뭉치 문서별 공백/간격/제어문자 패턴 포함여부를 content항목에서 출현내용으로 파악:'"
      ],
      "text/latex": [
       "'말뭉치 문서별 공백/간격/제어문자 패턴 포함여부를 content항목에서 출현내용으로 파악:'"
      ],
      "text/markdown": [
       "'말뭉치 문서별 공백/간격/제어문자 패턴 포함여부를 content항목에서 출현내용으로 파악:'"
      ],
      "text/plain": [
       "[1] \"말뭉치 문서별 공백/간격/제어문자 패턴 포함여부를 content항목에서 출현내용으로 파악:\""
      ]
     },
     "metadata": {},
     "output_type": "display_data"
    },
    {
     "name": "stdout",
     "output_type": "stream",
     "text": [
      "$kp2004a.txt\n",
      "[1] \"   \" \"\\t\"  \"\\t\" \n",
      "\n",
      "$kp2005a.txt\n",
      " [1] \"\\t\"             \"이  \"           \"커뮤니케이션  \" \"있다.    \"     \n",
      " [5] \"이에  \"         \"실정이다.    \"  \"사회과학적  \"   \"\\t\"            \n",
      " [9] \"\\t\"             \"필요하다.  \"   \n",
      "\n",
      "$kp2005b.txt\n",
      "[1] \"방송사   \"     \"\\t\"            \"추구할  \"      \"확인되었다.  \"\n",
      "\n",
      "$kp2012a.txt\n",
      "[1] \"\\t\"              \"\\t\"              \"대안으로,      \" \"도입하였다.   \" \n",
      "[5] \"\\t\"              \"아니라는   \"    \n",
      "\n",
      "$kp2012b.txt\n",
      " [1] \"  \"            \"연구에서  \"    \"있다.  \"       \"있다.      \"  \n",
      " [5] \"얻어진  \"      \"탐구하였다.  \" \"것으로    \"    \"나타났다.   \" \n",
      " [9] \"인터넷에     \" \"\\t\"            \"    \"          \"\\t\"           \n",
      "\n",
      "$kp2013a.txt\n",
      "[1] \"  \"                \"”인사청문회”   \" \"\\t\"               \n",
      "[4] \"정치적  \"          \"\\t\\t\"              \"나타났다.     \"   \n",
      "[7] \"\\t\"                \"  \"               \n",
      "\n",
      "$kp2013b.txt\n",
      "[1] \"\\t\\t\"            \"높은지,   \"      \"논의하였다.    \"\n",
      "\n",
      "$kp2014a.txt\n",
      " [1] \"것이다.  \"      \"구체적으로   \"  \"1월  \"          \"25일까지  \"    \n",
      " [5] \"분석하였다.   \" \"전문들을  \"     \"나누었다.   \"   \"\\t\"            \n",
      " [9] \"한국  \"         \"②  \"           \"\\t\"             \"\\t\"            \n",
      "\n",
      "$kp2014b.txt\n",
      "[1] \"\\t\"       \"\\t\"       \"사회적  \"\n",
      "\n",
      "$kp2014c.txt\n",
      "[1] \"\\t\\t\\t\"   \"규범이  \" \"\\t\"      \n",
      "\n",
      "$kp2014d.txt\n",
      "[1] \"사회인지이론(ㅡBandura,  \" \"\\t\"                       \n",
      "[3] \"\\t\"                        \"0.05)     \"               \n",
      "[5] \"\\t\\t\"                     \n",
      "\n",
      "$kp2016a.txt\n",
      "[1] \"연구는   \"     \"\\t\"            \"대한  \"        \"\\t\\t\"         \n",
      "[5] \"과정에서의   \"\n",
      "\n",
      "$kp2016b.txt\n",
      "[1] \"\\t\"          \"만족’을  \"  \"있다.  \"     \"\\t\\t\"        \"기반으로   \"\n",
      "\n",
      "$kp2016c.txt\n",
      "[1] \"수집하였다.  \" \"\\t\\t\\t\"       \n",
      "\n",
      "$kp2016d.txt\n",
      "[1] \"  \"             \"\\t\\t\"           \"주목하였다.  \"  \"\\t\"            \n",
      "[5] \"선택되었다.   \" \"있으며,  \"     \n",
      "\n",
      "$kp2016e.txt\n",
      "[1] \"\\t\\t\"         \"나타났다..  \" \"\\t\"           \"반면,   \"     \"중립적인  \"  \n",
      "[6] \"경우  \"       \"\\t\"          \n",
      "\n",
      "$kp2016f.txt\n",
      "[1] \"\\t\\t\" \"\\t\\t\"\n",
      "\n",
      "$kp2016g.txt\n",
      "[1] \"\\t\"             \"살펴보았다.   \" \"\\t\"            \n",
      "\n",
      "$kp2016h.txt\n",
      "[1] \"\\t\"               \"\\t\"               \"수집  \"           \"이해관계자들로  \"\n",
      "[5] \"일으킬  \"         \"수  \"             \"\\t\\t\"            \n",
      "\n"
     ]
    }
   ],
   "source": [
    "sprintf('말뭉치 문서별 공백/간격/제어문자 패턴 포함여부를 content항목에서 출현내용으로 파악:')\n",
    "sapply(my, str_extract_all, pattern = src) %>% print\n",
    "# - sapply(my, gregexpr, pattern = src) %>% regmatche s(x = my) %>% print 동일결과\n",
    "# - 앞서 각 문서별 세부요소를 하나씩으로 통일화 전처리한 my 코퍼스객체를 투입함\n",
    "# - 검색패턴에 해당하는 공백/간격/제어문자 표현이 해당 텍스트요소에 들어 있지 않으면 character(0)을 출력함\n",
    "# - 말뭉치를 구성하는 각 문서별로 검색패턴과 일치하는 공백/간격/제어문자 실제내용을 파악함"
   ]
  },
  {
   "cell_type": "markdown",
   "metadata": {},
   "source": [
    "#### 말뭉치 전체내용 중 검색패턴 일치내용 빈도수 파악"
   ]
  },
  {
   "cell_type": "code",
   "execution_count": 49,
   "metadata": {},
   "outputs": [
    {
     "data": {
      "text/html": [
       "'전체 말뭉치에서 공백/간격/제어문자 패턴 출현내용을 문자순서 기준 정렬:'"
      ],
      "text/latex": [
       "'전체 말뭉치에서 공백/간격/제어문자 패턴 출현내용을 문자순서 기준 정렬:'"
      ],
      "text/markdown": [
       "'전체 말뭉치에서 공백/간격/제어문자 패턴 출현내용을 문자순서 기준 정렬:'"
      ],
      "text/plain": [
       "[1] \"전체 말뭉치에서 공백/간격/제어문자 패턴 출현내용을 문자순서 기준 정렬:\""
      ]
     },
     "metadata": {},
     "output_type": "display_data"
    },
    {
     "name": "stdout",
     "output_type": "stream",
     "text": [
      ".\n",
      "                                                                              \n",
      "                        4                         1                         1 \n",
      "                       \\t                      \\t\\t                    \\t\\t\\t \n",
      "                       30                        10                         2 \n",
      "        ”인사청문회”                   0.05)                          1월   \n",
      "                        1                         1                         1 \n",
      "                     ②                  25일까지                  것으로     \n",
      "                        1                         1                         1 \n",
      "                것이다.                      경우               과정에서의    \n",
      "                        1                         1                         1 \n",
      "            구체적으로                     규범이                 기반으로    \n",
      "                        1                         1                         1 \n",
      "             나누었다.                 나타났다.               나타났다.      \n",
      "                        1                         1                         1 \n",
      "             나타났다..             논의하였다.                    높은지,    \n",
      "                        1                         1                         1 \n",
      "          대안으로,                          대한              도입하였다.    \n",
      "                        1                         1                         1 \n",
      "               만족’을                    반면,                    방송사    \n",
      "                        1                         1                         1 \n",
      "           분석하였다.                 사회과학적   사회인지이론(ㅡBandura,   \n",
      "                        1                         1                         1 \n",
      "                 사회적              살펴보았다.               선택되었다.    \n",
      "                        1                         1                         1 \n",
      "                     수                      수집               수집하였다.   \n",
      "                        1                         1                         1 \n",
      "            실정이다.                   아니라는                     얻어진   \n",
      "                        1                         1                         1 \n",
      "                연구는                   연구에서                        이   \n",
      "                        1                         1                         1 \n",
      "                   이에            이해관계자들로               인터넷에      \n",
      "                        1                         1                         1 \n",
      "                 일으킬                     있다.                   있다.     \n",
      "                        1                         2                         1 \n",
      "              있다.                       있으며,                  전문들을   \n",
      "                        1                         1                         1 \n",
      "                 정치적               주목하였다.                  중립적인   \n",
      "                        1                         1                         1 \n",
      "                 추구할              커뮤니케이션               탐구하였다.   \n",
      "                        1                         1                         1 \n",
      "              필요하다.                      한국               확인되었다.   \n",
      "                        1                         1                         1 \n"
     ]
    },
    {
     "data": {
      "text/html": [
       "106"
      ],
      "text/latex": [
       "106"
      ],
      "text/markdown": [
       "106"
      ],
      "text/plain": [
       "[1] 106"
      ]
     },
     "metadata": {},
     "output_type": "display_data"
    }
   ],
   "source": [
    "sprintf('전체 말뭉치에서 공백/간격/제어문자 패턴 출현내용을 문자순서 기준 정렬:')\n",
    "sapply(my, str_extract_all, pattern = src) %>% \n",
    "    unlist %>% table %>% print %>% sum\n",
    "# - 말뭉치를 구성하는 각 문서가 아닌 전체 내용을 통합했을 때 \n",
    "#   검색패턴과 일치하는 공백/간격/제어문자 패턴 실제내용을 문자순서를 기준으로 정렬해 파악함 "
   ]
  },
  {
   "cell_type": "code",
   "execution_count": 50,
   "metadata": {
    "scrolled": true
   },
   "outputs": [
    {
     "data": {
      "text/html": [
       "'전체 말뭉치에서 공백/간격/제어문자 패턴 출현내용을 빈도수 기준 내림차순으로 정렬:'"
      ],
      "text/latex": [
       "'전체 말뭉치에서 공백/간격/제어문자 패턴 출현내용을 빈도수 기준 내림차순으로 정렬:'"
      ],
      "text/markdown": [
       "'전체 말뭉치에서 공백/간격/제어문자 패턴 출현내용을 빈도수 기준 내림차순으로 정렬:'"
      ],
      "text/plain": [
       "[1] \"전체 말뭉치에서 공백/간격/제어문자 패턴 출현내용을 빈도수 기준 내림차순으로 정렬:\""
      ]
     },
     "metadata": {},
     "output_type": "display_data"
    },
    {
     "name": "stdout",
     "output_type": "stream",
     "text": [
      ".\n",
      "                       \\t                      \\t\\t                           \n",
      "                       30                        10                         4 \n",
      "                   \\t\\t\\t                   있다.                             \n",
      "                        2                         2                         1 \n",
      "                                  ”인사청문회”                   0.05)      \n",
      "                        1                         1                         1 \n",
      "                    1월                        ②                  25일까지   \n",
      "                        1                         1                         1 \n",
      "               것으로                     것이다.                      경우   \n",
      "                        1                         1                         1 \n",
      "            과정에서의                구체적으로                     규범이   \n",
      "                        1                         1                         1 \n",
      "              기반으로                 나누었다.                 나타났다.    \n",
      "                        1                         1                         1 \n",
      "           나타났다.                   나타났다..             논의하였다.     \n",
      "                        1                         1                         1 \n",
      "               높은지,              대안으로,                          대한   \n",
      "                        1                         1                         1 \n",
      "           도입하였다.                   만족’을                    반면,    \n",
      "                        1                         1                         1 \n",
      "                방송사               분석하였다.                 사회과학적   \n",
      "                        1                         1                         1 \n",
      "사회인지이론(ㅡBandura,                    사회적              살펴보았다.    \n",
      "                        1                         1                         1 \n",
      "           선택되었다.                         수                      수집   \n",
      "                        1                         1                         1 \n",
      "            수집하였다.               실정이다.                   아니라는    \n",
      "                        1                         1                         1 \n",
      "                 얻어진                   연구는                   연구에서   \n",
      "                        1                         1                         1 \n",
      "                     이                      이에            이해관계자들로   \n",
      "                        1                         1                         1 \n",
      "            인터넷에                       일으킬                   있다.     \n",
      "                        1                         1                         1 \n",
      "              있다.                       있으며,                  전문들을   \n",
      "                        1                         1                         1 \n",
      "                 정치적               주목하였다.                  중립적인   \n",
      "                        1                         1                         1 \n",
      "                 추구할              커뮤니케이션               탐구하였다.   \n",
      "                        1                         1                         1 \n",
      "              필요하다.                      한국               확인되었다.   \n",
      "                        1                         1                         1 \n"
     ]
    },
    {
     "data": {
      "text/html": [
       "106"
      ],
      "text/latex": [
       "106"
      ],
      "text/markdown": [
       "106"
      ],
      "text/plain": [
       "[1] 106"
      ]
     },
     "metadata": {},
     "output_type": "display_data"
    }
   ],
   "source": [
    "sprintf('전체 말뭉치에서 공백/간격/제어문자 패턴 출현내용을 빈도수 기준 내림차순으로 정렬:')\n",
    "sapply(my, str_extract_all, pattern = src) %>% \n",
    "    unlist %>% table %>% sort(decreasing = TRUE) %>% print %>% sum\n",
    "# - 말뭉치를 구성하는 각 문서가 아닌 전체 내용을 통합했을 때 \n",
    "#   검색패턴과 일치하는 실제 공백/간격/제어문자 패턴 내용의 출현빈도수를 기준으로 내림차순으로 정렬해 파악함"
   ]
  },
  {
   "cell_type": "markdown",
   "metadata": {},
   "source": [
    "#### 각 문서별 검색패턴 일치내용을 데이터프레임 구조로 파악"
   ]
  },
  {
   "cell_type": "code",
   "execution_count": 51,
   "metadata": {
    "scrolled": true
   },
   "outputs": [
    {
     "data": {
      "text/plain": [
       ".\n",
       "                                                                              \n",
       "                        4                         1                         1 \n",
       "                       \\t                      \\t\\t                    \\t\\t\\t \n",
       "                       30                        10                         2 \n",
       "        ”인사청문회”                   0.05)                          1월   \n",
       "                        1                         1                         1 \n",
       "                     ②                  25일까지                  것으로     \n",
       "                        1                         1                         1 \n",
       "                것이다.                      경우               과정에서의    \n",
       "                        1                         1                         1 \n",
       "            구체적으로                     규범이                 기반으로    \n",
       "                        1                         1                         1 \n",
       "             나누었다.                 나타났다.               나타났다.      \n",
       "                        1                         1                         1 \n",
       "             나타났다..             논의하였다.                    높은지,    \n",
       "                        1                         1                         1 \n",
       "          대안으로,                          대한              도입하였다.    \n",
       "                        1                         1                         1 \n",
       "               만족’을                    반면,                    방송사    \n",
       "                        1                         1                         1 \n",
       "           분석하였다.                 사회과학적   사회인지이론(ㅡBandura,   \n",
       "                        1                         1                         1 \n",
       "                 사회적              살펴보았다.               선택되었다.    \n",
       "                        1                         1                         1 \n",
       "                     수                      수집               수집하였다.   \n",
       "                        1                         1                         1 \n",
       "            실정이다.                   아니라는                     얻어진   \n",
       "                        1                         1                         1 \n",
       "                연구는                   연구에서                        이   \n",
       "                        1                         1                         1 \n",
       "                   이에            이해관계자들로               인터넷에      \n",
       "                        1                         1                         1 \n",
       "                 일으킬                     있다.                   있다.     \n",
       "                        1                         2                         1 \n",
       "              있다.                       있으며,                  전문들을   \n",
       "                        1                         1                         1 \n",
       "                 정치적               주목하였다.                  중립적인   \n",
       "                        1                         1                         1 \n",
       "                 추구할              커뮤니케이션               탐구하였다.   \n",
       "                        1                         1                         1 \n",
       "              필요하다.                      한국               확인되었다.   \n",
       "                        1                         1                         1 "
      ]
     },
     "metadata": {},
     "output_type": "display_data"
    }
   ],
   "source": [
    "# 전체 말뭉치에서 공백/간격/제어문자 패턴 출현내용을 별도의 임시변수에 저장\n",
    "my_pp_tb <- sapply(my, str_extract_all, pattern = src) %>% unlist %>% table\n",
    "my_pp_tb"
   ]
  },
  {
   "cell_type": "code",
   "execution_count": 52,
   "metadata": {
    "scrolled": true
   },
   "outputs": [
    {
     "name": "stdout",
     "output_type": "stream",
     "text": [
      "                        term freq\n",
      "1                               4\n",
      "2                               1\n",
      "3                               1\n",
      "4                         \\t   30\n",
      "5                       \\t\\t   10\n",
      "6                     \\t\\t\\t    2\n",
      "7          ”인사청문회”       1\n",
      "8                 0.05)         1\n",
      "9                      1월      1\n",
      "10                      ②      1\n",
      "11                25일까지      1\n",
      "12                것으로        1\n",
      "13                 것이다.      1\n",
      "14                    경우      1\n",
      "15             과정에서의       1\n",
      "16             구체적으로       1\n",
      "17                  규범이      1\n",
      "18               기반으로       1\n",
      "19              나누었다.       1\n",
      "20              나타났다.       1\n",
      "21            나타났다.         1\n",
      "22              나타났다..      1\n",
      "23           논의하였다.        1\n",
      "24                높은지,       1\n",
      "25           대안으로,          1\n",
      "26                    대한      1\n",
      "27            도입하였다.       1\n",
      "28                만족’을      1\n",
      "29                  반면,       1\n",
      "30                 방송사       1\n",
      "31            분석하였다.       1\n",
      "32              사회과학적      1\n",
      "33 사회인지이론(ㅡBandura,      1\n",
      "34                  사회적      1\n",
      "35            살펴보았다.       1\n",
      "36            선택되었다.       1\n",
      "37                      수      1\n",
      "38                    수집      1\n",
      "39             수집하였다.      1\n",
      "40             실정이다.        1\n",
      "41               아니라는       1\n",
      "42                  얻어진      1\n",
      "43                 연구는       1\n",
      "44                연구에서      1\n",
      "45                      이      1\n",
      "46                    이에      1\n",
      "47          이해관계자들로      1\n",
      "48             인터넷에         1\n",
      "49                  일으킬      1\n",
      "50                   있다.      2\n",
      "51                 있다.        1\n",
      "52               있다.          1\n",
      "53                 있으며,      1\n",
      "54                전문들을      1\n",
      "55                  정치적      1\n",
      "56             주목하였다.      1\n",
      "57                중립적인      1\n",
      "58                  추구할      1\n",
      "59            커뮤니케이션      1\n",
      "60             탐구하였다.      1\n",
      "61               필요하다.      1\n",
      "62                    한국      1\n",
      "63             확인되었다.      1\n"
     ]
    }
   ],
   "source": [
    "# 전체 말뭉치에서 공백/간격/제어문자 패턴 출현내용을 별도의 데이터프레임 객체로 저장\n",
    "my_pp_df <- data.frame(term = names(my_pp_tb), freq = c(my_pp_tb), row.names = NULL)\n",
    "my_pp_df %>% print"
   ]
  },
  {
   "cell_type": "code",
   "execution_count": 53,
   "metadata": {
    "scrolled": true
   },
   "outputs": [
    {
     "name": "stdout",
     "output_type": "stream",
     "text": [
      "                        term freq\n",
      "1                         \\t   30\n",
      "2                       \\t\\t   10\n",
      "3                               4\n",
      "4                     \\t\\t\\t    2\n",
      "5                    있다.      2\n",
      "6                               1\n",
      "7                               1\n",
      "8          ”인사청문회”       1\n",
      "9                 0.05)         1\n",
      "10                     1월      1\n",
      "11                      ②      1\n",
      "12                25일까지      1\n",
      "13                것으로        1\n",
      "14                 것이다.      1\n",
      "15                    경우      1\n",
      "16             과정에서의       1\n",
      "17             구체적으로       1\n",
      "18                  규범이      1\n",
      "19               기반으로       1\n",
      "20              나누었다.       1\n",
      "21              나타났다.       1\n",
      "22            나타났다.         1\n",
      "23              나타났다..      1\n",
      "24           논의하였다.        1\n",
      "25                높은지,       1\n",
      "26           대안으로,          1\n",
      "27                    대한      1\n",
      "28            도입하였다.       1\n",
      "29                만족’을      1\n",
      "30                  반면,       1\n",
      "31                 방송사       1\n",
      "32            분석하였다.       1\n",
      "33              사회과학적      1\n",
      "34 사회인지이론(ㅡBandura,      1\n",
      "35                  사회적      1\n",
      "36            살펴보았다.       1\n",
      "37            선택되었다.       1\n",
      "38                      수      1\n",
      "39                    수집      1\n",
      "40             수집하였다.      1\n",
      "41             실정이다.        1\n",
      "42               아니라는       1\n",
      "43                  얻어진      1\n",
      "44                 연구는       1\n",
      "45                연구에서      1\n",
      "46                      이      1\n",
      "47                    이에      1\n",
      "48          이해관계자들로      1\n",
      "49             인터넷에         1\n",
      "50                  일으킬      1\n",
      "51                 있다.        1\n",
      "52               있다.          1\n",
      "53                 있으며,      1\n",
      "54                전문들을      1\n",
      "55                  정치적      1\n",
      "56             주목하였다.      1\n",
      "57                중립적인      1\n",
      "58                  추구할      1\n",
      "59            커뮤니케이션      1\n",
      "60             탐구하였다.      1\n",
      "61               필요하다.      1\n",
      "62                    한국      1\n",
      "63             확인되었다.      1\n"
     ]
    }
   ],
   "source": [
    "# 전체 말뭉치에서 공백/간격/제어문자 패턴 출현내용을 빈도수를 기준으로 내림차순 정렬\n",
    "my_pp_df %>% dplyr::arrange(desc(freq), term) %>% print"
   ]
  },
  {
   "cell_type": "code",
   "execution_count": 54,
   "metadata": {},
   "outputs": [
    {
     "name": "stdout",
     "output_type": "stream",
     "text": [
      "  term freq\n",
      "1   \\t   30\n",
      "2 \\t\\t   10\n"
     ]
    }
   ],
   "source": [
    "# 전체 말뭉치에서 공백/간격/제어문자 패턴 출현내용을 일정수준 이상의 빈도수를 기준으로 내림차순 정렬\n",
    "my_pp_df %>% arrange(desc(freq), term) %>% filter(freq >= 5) %>% print\n",
    "# - 5회 이상 반복적으로 나타나는 공백/간격/제어문자 문구는 탭키(\\t) 표시인 것으로 나타남"
   ]
  },
  {
   "cell_type": "markdown",
   "metadata": {},
   "source": [
    "## 텍스트셋 탐색결과에 따른 전처리 수행\n",
    "* 각 문서별로, 또는 말뭉치 전체적으로 출현한 공백/간격/제어문자 표현에 대한 내림차순 정렬결과, \n",
    "<br>특별한 의미를 가지는 공백/간격/제어문자는 없는 것으로 나타남\n",
    "* 이에 따라 말뭉치내 각 문서별로 포함되어 있는 공백/간격/제어문자 패턴들을 일괄적으로 공백1칸으로 전처리 방향성을 정리함"
   ]
  },
  {
   "cell_type": "markdown",
   "metadata": {},
   "source": [
    "### tm패키지 전용 전처리함수 이용"
   ]
  },
  {
   "cell_type": "code",
   "execution_count": 55,
   "metadata": {},
   "outputs": [
    {
     "data": {
      "text/html": [
       "<ol class=list-inline>\n",
       "\t<li>'VCorpus'</li>\n",
       "\t<li>'Corpus'</li>\n",
       "</ol>\n"
      ],
      "text/latex": [
       "\\begin{enumerate*}\n",
       "\\item 'VCorpus'\n",
       "\\item 'Corpus'\n",
       "\\end{enumerate*}\n"
      ],
      "text/markdown": [
       "1. 'VCorpus'\n",
       "2. 'Corpus'\n",
       "\n",
       "\n"
      ],
      "text/plain": [
       "[1] \"VCorpus\" \"Corpus\" "
      ]
     },
     "metadata": {},
     "output_type": "display_data"
    }
   ],
   "source": [
    "# tm::tm_map()에 전용 전처리함수 옵션을 이용한 전처리 \n",
    "# - 이 결과로 코퍼스(말뭉치)객체형식이 유지되어 \n",
    "#   tm패키지의 전용 전처리함수 옵션적용을 추가적으로 계속할 수 있음\n",
    "\n",
    "my_pp_stws <- tm_map(my, stripWhitespace)\n",
    "# - pp: pre-processing\n",
    "# - stws: strip whitespace\n",
    "# - 앞서 전처리된 my 코퍼스객체를 전처리 대상객체로 입력함\n",
    "# - 코퍼스 각 문서별로 포함되어 있는 공백/간격/제어문자 표현들을 일괄적으로 1칸짜리 공백으로 변경함\n",
    "\n",
    "class(my_pp_stws)\n",
    "# - tm패키지 tm_map()에 전용 전처리함수 옵션인 stripWhitespace을 이용했으므로\n",
    "#   전처리결과도 코퍼스(말뭉치) 객체형식을 유지하고 있음"
   ]
  },
  {
   "cell_type": "code",
   "execution_count": 56,
   "metadata": {
    "scrolled": true
   },
   "outputs": [
    {
     "data": {
      "text/html": [
       "'tm패키지를 이용한 공백/간격/제어문자 패턴 전처리 결과:'"
      ],
      "text/latex": [
       "'tm패키지를 이용한 공백/간격/제어문자 패턴 전처리 결과:'"
      ],
      "text/markdown": [
       "'tm패키지를 이용한 공백/간격/제어문자 패턴 전처리 결과:'"
      ],
      "text/plain": [
       "[1] \"tm패키지를 이용한 공백/간격/제어문자 패턴 전처리 결과:\""
      ]
     },
     "metadata": {},
     "output_type": "display_data"
    },
    {
     "name": "stdout",
     "output_type": "stream",
     "text": [
      "$kp2004a.txt\n",
      "character(0)\n",
      "\n",
      "$kp2005a.txt\n",
      "character(0)\n",
      "\n",
      "$kp2005b.txt\n",
      "character(0)\n",
      "\n",
      "$kp2012a.txt\n",
      "character(0)\n",
      "\n",
      "$kp2012b.txt\n",
      "character(0)\n",
      "\n",
      "$kp2013a.txt\n",
      "character(0)\n",
      "\n",
      "$kp2013b.txt\n",
      "character(0)\n",
      "\n",
      "$kp2014a.txt\n",
      "character(0)\n",
      "\n",
      "$kp2014b.txt\n",
      "character(0)\n",
      "\n",
      "$kp2014c.txt\n",
      "character(0)\n",
      "\n",
      "$kp2014d.txt\n",
      "character(0)\n",
      "\n",
      "$kp2016a.txt\n",
      "character(0)\n",
      "\n",
      "$kp2016b.txt\n",
      "character(0)\n",
      "\n",
      "$kp2016c.txt\n",
      "character(0)\n",
      "\n",
      "$kp2016d.txt\n",
      "character(0)\n",
      "\n",
      "$kp2016e.txt\n",
      "character(0)\n",
      "\n",
      "$kp2016f.txt\n",
      "character(0)\n",
      "\n",
      "$kp2016g.txt\n",
      "character(0)\n",
      "\n",
      "$kp2016h.txt\n",
      "character(0)\n",
      "\n"
     ]
    }
   ],
   "source": [
    "# 전처리 대상이 제대로 처리되었는지 출현내용 파악\n",
    "sprintf('tm패키지를 이용한 공백/간격/제어문자 패턴 전처리 결과:')\n",
    "sapply(my_pp_stws, str_extract_all, \n",
    "       pattern = '[[:graph:]]{0,}( {2,})|(\\t{1,})|(\\n{1,})|(\\r{1,})|(\\r\\n{1,})[[:graph:]]{0,}') %>% print\n",
    "\n",
    "# - 말뭉치를 구성하는 각 문서별로 전처리 대상 패턴이 존재하는 지 파악"
   ]
  },
  {
   "cell_type": "code",
   "execution_count": 57,
   "metadata": {
    "scrolled": true
   },
   "outputs": [
    {
     "data": {
      "text/html": [
       "'tm패키지를 이용한 공백/간격/제어문자 패턴 전처리 결과:'"
      ],
      "text/latex": [
       "'tm패키지를 이용한 공백/간격/제어문자 패턴 전처리 결과:'"
      ],
      "text/markdown": [
       "'tm패키지를 이용한 공백/간격/제어문자 패턴 전처리 결과:'"
      ],
      "text/plain": [
       "[1] \"tm패키지를 이용한 공백/간격/제어문자 패턴 전처리 결과:\""
      ]
     },
     "metadata": {},
     "output_type": "display_data"
    },
    {
     "name": "stdout",
     "output_type": "stream",
     "text": [
      "integer(0)\n"
     ]
    }
   ],
   "source": [
    "# 전처리 대상이 제대로 처리되었는지 출현내용 기술통계파악\n",
    "sprintf('tm패키지를 이용한 공백/간격/제어문자 패턴 전처리 결과:')\n",
    "sapply(my_pp_stws, str_extract_all, \n",
    "       pattern = '[[:graph:]]{0,}( {2,})|(\\t{1,})|(\\n{1,})|(\\r{1,})|(\\r\\n{1,})[[:graph:]]{0,}') %>% \n",
    "    unlist %>% table %>% sort(decreasing = TRUE) %>% print\n",
    "\n",
    "# - 말뭉치를 구성하는 각 문서가 아닌 전체 내용을 통합했을 때 \n",
    "#   검색패턴과 일치하는 공백/간격/제어문자 출현 실제내용의 빈도수를 내림차순으로 파악한 결과\n",
    "#   각 문서별 모든 공백/간격/제어문자 표현들이 1칸까리 공백으로 일괄 변경되었음을 알 수 있음"
   ]
  },
  {
   "cell_type": "markdown",
   "metadata": {},
   "source": [
    "### tm패키지에 일반함수를 이용한 전처리"
   ]
  },
  {
   "cell_type": "code",
   "execution_count": 58,
   "metadata": {},
   "outputs": [
    {
     "data": {
      "text/html": [
       "<ol class=list-inline>\n",
       "\t<li>'VCorpus'</li>\n",
       "\t<li>'Corpus'</li>\n",
       "</ol>\n"
      ],
      "text/latex": [
       "\\begin{enumerate*}\n",
       "\\item 'VCorpus'\n",
       "\\item 'Corpus'\n",
       "\\end{enumerate*}\n"
      ],
      "text/markdown": [
       "1. 'VCorpus'\n",
       "2. 'Corpus'\n",
       "\n",
       "\n"
      ],
      "text/plain": [
       "[1] \"VCorpus\" \"Corpus\" "
      ]
     },
     "metadata": {},
     "output_type": "display_data"
    }
   ],
   "source": [
    "# tm::tm_map()에 속해 있는 전용 전처리 함수가 아니라 일반 전처리 함수를 이용한 방식 \n",
    "# - 이 결과로 코퍼스(말뭉치)객체형식이 유지되어 \n",
    "#   tm패키지 전처리함수 적용을 추가적으로 계속할 수 있음\n",
    "\n",
    "# 공백/간격/제어문자 문구를 공백1칸으로 만들기 위해서 2번에 걸쳐 전처리 작업을 진행함\n",
    "# - tm_map()에 전용전처리 함수옵션이 아닌 content_transformer()를 이용해 \n",
    "#   일반 내/외부/사용자정의함수를 전처리 함수로 사용함\n",
    "\n",
    "# (1) 탭키, 엔터키, 커리지리턴, 라인끝 등의 제어문자를 우선적으로 공백1칸으로 만듬 \n",
    "my_pp_erws <- tm_map(my, content_transformer(str_replace_all), \n",
    "                     pattern = '(\\t{1,})|(\\n{1,})|(\\r{1,})|(\\r\\n{1,})', replacement = ' ')\n",
    "# - erws: erase whitespace 전처리\n",
    "# - 앞서 전처리된 my 코퍼스객체를 전처리 대상객체로 1차로 입력함입력함\n",
    "# - 일단 제어문자들을 공백으로 처리하고\n",
    "\n",
    "# (2) 제어문자를 공백1칸으로 만든 것 까지 포함해서, 공백이 2개이상 이어지는 패턴에 대해서 공백1칸으로 만듬\n",
    "my_pp_erws <- tm_map(my_pp_erws, content_transformer(str_replace_all), \n",
    "                     pattern = '( {2,})', replacement = ' ')\n",
    "# - 제어문자가 공백으로 변함으로써 공백이 2칸 이상이 되는 경우는 1칸으로 변경시켜준다.\n",
    "# - 위에서 제어문자를 공백으로 처리안하면 노이즈가 더 많이 생길 수 있기 때문에 이렇게 만들어줌!\n",
    "\n",
    "# (주의!!!)\n",
    "# pattern = [[:graph:]]{0,}( {2,})|(\\t{1,})|(\\n{1,})|(\\r{1,})|(\\r\\n{1,})[[:graph:]]{0,} 이 옵션으로 전처리를 하면 문제발생함\n",
    "# ==> 공백/간격/제어문구 표현 전후로 있는 문자코드를 다같이 변경하므로 원본데이터 내용 일부가 사라지게 됨\n",
    "# pattern = ( {2,})|(\\t{1,})|(\\n{1,})|(\\r{1,})|(\\r\\n{1,}) ==> 공백/간격/제어문자만을 탐색해 공백1칸으로 전처리할 수 있도록 함\n",
    "\n",
    "class(my_pp_erws)\n",
    "# - tm패키지 tm_map()에 일반 내외부/사용자정의함수를 사용할 수 있는 content_transformer을 이용했으므로\n",
    "#   전처리결과도 코퍼스(말뭉치) 객체형식을 유지하고 있음"
   ]
  },
  {
   "cell_type": "code",
   "execution_count": 59,
   "metadata": {
    "scrolled": true
   },
   "outputs": [
    {
     "data": {
      "text/html": [
       "'tm패키지를 이용한 공백/간격/제어문자 패턴 전처리 결과:'"
      ],
      "text/latex": [
       "'tm패키지를 이용한 공백/간격/제어문자 패턴 전처리 결과:'"
      ],
      "text/markdown": [
       "'tm패키지를 이용한 공백/간격/제어문자 패턴 전처리 결과:'"
      ],
      "text/plain": [
       "[1] \"tm패키지를 이용한 공백/간격/제어문자 패턴 전처리 결과:\""
      ]
     },
     "metadata": {},
     "output_type": "display_data"
    },
    {
     "name": "stdout",
     "output_type": "stream",
     "text": [
      "$kp2004a.txt\n",
      "character(0)\n",
      "\n",
      "$kp2005a.txt\n",
      "character(0)\n",
      "\n",
      "$kp2005b.txt\n",
      "character(0)\n",
      "\n",
      "$kp2012a.txt\n",
      "character(0)\n",
      "\n",
      "$kp2012b.txt\n",
      "character(0)\n",
      "\n",
      "$kp2013a.txt\n",
      "character(0)\n",
      "\n",
      "$kp2013b.txt\n",
      "character(0)\n",
      "\n",
      "$kp2014a.txt\n",
      "character(0)\n",
      "\n",
      "$kp2014b.txt\n",
      "character(0)\n",
      "\n",
      "$kp2014c.txt\n",
      "character(0)\n",
      "\n",
      "$kp2014d.txt\n",
      "character(0)\n",
      "\n",
      "$kp2016a.txt\n",
      "character(0)\n",
      "\n",
      "$kp2016b.txt\n",
      "character(0)\n",
      "\n",
      "$kp2016c.txt\n",
      "character(0)\n",
      "\n",
      "$kp2016d.txt\n",
      "character(0)\n",
      "\n",
      "$kp2016e.txt\n",
      "character(0)\n",
      "\n",
      "$kp2016f.txt\n",
      "character(0)\n",
      "\n",
      "$kp2016g.txt\n",
      "character(0)\n",
      "\n",
      "$kp2016h.txt\n",
      "character(0)\n",
      "\n"
     ]
    }
   ],
   "source": [
    "# 전처리 대상이 제대로 처리되었는지 출현내용 파악\n",
    "sprintf('tm패키지를 이용한 공백/간격/제어문자 패턴 전처리 결과:')\n",
    "sapply(my_pp_erws, str_extract_all, \n",
    "       pattern = '[[:graph:]]{0,}( {2,})|(\\t{1,})|(\\n{1,})|(\\r{1,})|(\\r\\n{1,})[[:graph:]]{0,}') %>% print\n",
    "\n",
    "# - 말뭉치를 구성하는 각 문서별로 전처리 대상 패턴이 존재하는 지 파악"
   ]
  },
  {
   "cell_type": "code",
   "execution_count": 60,
   "metadata": {
    "scrolled": true
   },
   "outputs": [
    {
     "data": {
      "text/html": [
       "'stringr패키지를 이용한 공백/간격/제어문자 전처리 결과:'"
      ],
      "text/latex": [
       "'stringr패키지를 이용한 공백/간격/제어문자 전처리 결과:'"
      ],
      "text/markdown": [
       "'stringr패키지를 이용한 공백/간격/제어문자 전처리 결과:'"
      ],
      "text/plain": [
       "[1] \"stringr패키지를 이용한 공백/간격/제어문자 전처리 결과:\""
      ]
     },
     "metadata": {},
     "output_type": "display_data"
    },
    {
     "name": "stdout",
     "output_type": "stream",
     "text": [
      "integer(0)\n"
     ]
    }
   ],
   "source": [
    "# 전처리 대상이 제대로 처리되었는지 출현내용 기술통계파악\n",
    "sprintf('stringr패키지를 이용한 공백/간격/제어문자 전처리 결과:')\n",
    "sapply(my_pp_erws, str_extract_all, pattern = '[[:graph:]]*( {2,})|(\\t{1,})|(\\n{1,})|(\\r{1,})|(\\r\\n{1,})[[:graph:]]*') %>% \n",
    "    unlist %>% table %>% sort(decreasing = TRUE) %>% print\n",
    "\n",
    "# - 말뭉치를 구성하는 각 문서가 아닌 전체 내용을 통합해 \n",
    "#   검색패턴과 일치하는 공백/간격/제어문자 표현이 발생한 부분들의 빈도수를 내림차순으로 파악한 결과\n",
    "#   각 문서별 모든 공백/간격/제어문자 표현들이 일괄적으로 공백1칸으로 변경되었음을 알 수 있음"
   ]
  },
  {
   "cell_type": "markdown",
   "metadata": {},
   "source": [
    "### stringr패키지를 이용한 전처리"
   ]
  },
  {
   "cell_type": "code",
   "execution_count": 61,
   "metadata": {},
   "outputs": [
    {
     "data": {
      "text/html": [
       "'character'"
      ],
      "text/latex": [
       "'character'"
      ],
      "text/markdown": [
       "'character'"
      ],
      "text/plain": [
       "[1] \"character\""
      ]
     },
     "metadata": {},
     "output_type": "display_data"
    }
   ],
   "source": [
    "# stringr::str_replace_all() 함수를 이용한 전처리\n",
    "# - 이 결과로 코퍼스(말뭉치)객체가 문자열객체로 변환되어, \n",
    "#   tm패키지 전처리함수 적용을 하려면 다시 말뭉치객체로 만드는 작업이 필요함\n",
    "\n",
    "# 공백/간격/제어문자 문구를 공백1칸으로 만들기 위해서 2번에 걸쳐 전처리 작업을 진행함\n",
    "\n",
    "# (1) 탭키, 엔터키, 커리지리턴, 라인끝 등의 제어문자를 우선적으로 공백1칸으로 만듬 \n",
    "my_pp_delws <-  sapply(my, str_replace_all, pattern = '(\\t{1,})|(\\n{1,})|(\\r{1,})|(\\r\\n{1,})', replacement = ' ')\n",
    "# - delws: delete whitespace\n",
    "# - 앞서 전처리된 my 코퍼스객체를 전처리 대상객체로 1차로 입력함입력함\n",
    "\n",
    "# (2) 제어문자를 공백1칸으로 만든 것 까지 포함해서, 공백이 2개이상 이어지는 패턴에 대해서 공백1칸으로 만듬\n",
    "my_pp_delws <-  sapply(my_pp_delws, str_replace_all, pattern = '( {2,})', replacement = ' ')\n",
    "\n",
    "# (주의!!!)\n",
    "# pattern = [[:graph:]]*[[:space:]]{2,}[[:graph:]]* 이 옵션으로 전처리를 하면 문제발생함\n",
    "# ==> 공백/간격/제어문자 표현 전후로 있는 문자코드를 다같이 변경하므로 원본데이터 내용 일부가 사라지게 됨\n",
    "# pattern = [[:space:]]{2,} ==> 공백/간격/제어문자만을 탐색해 공백1칸으로 전처리할 수 있도록 함\n",
    "\n",
    "class(my_pp_delws)\n",
    "# - stringr패키지의 문자열 전처리 함수인 str_replace_all을 이용했으므로 \n",
    "#   전처리결과도 코퍼스(말뭉치) 객체형식이 사라지고 일반 리스트 객체형식으로 변형됨"
   ]
  },
  {
   "cell_type": "code",
   "execution_count": 62,
   "metadata": {
    "scrolled": true
   },
   "outputs": [
    {
     "data": {
      "text/html": [
       "'tm패키지를 이용한 공백/간격/제어문자 패턴 전처리 결과:'"
      ],
      "text/latex": [
       "'tm패키지를 이용한 공백/간격/제어문자 패턴 전처리 결과:'"
      ],
      "text/markdown": [
       "'tm패키지를 이용한 공백/간격/제어문자 패턴 전처리 결과:'"
      ],
      "text/plain": [
       "[1] \"tm패키지를 이용한 공백/간격/제어문자 패턴 전처리 결과:\""
      ]
     },
     "metadata": {},
     "output_type": "display_data"
    },
    {
     "name": "stdout",
     "output_type": "stream",
     "text": [
      "$kp2004a.txt\n",
      "character(0)\n",
      "\n",
      "$kp2005a.txt\n",
      "character(0)\n",
      "\n",
      "$kp2005b.txt\n",
      "character(0)\n",
      "\n",
      "$kp2012a.txt\n",
      "character(0)\n",
      "\n",
      "$kp2012b.txt\n",
      "character(0)\n",
      "\n",
      "$kp2013a.txt\n",
      "character(0)\n",
      "\n",
      "$kp2013b.txt\n",
      "character(0)\n",
      "\n",
      "$kp2014a.txt\n",
      "character(0)\n",
      "\n",
      "$kp2014b.txt\n",
      "character(0)\n",
      "\n",
      "$kp2014c.txt\n",
      "character(0)\n",
      "\n",
      "$kp2014d.txt\n",
      "character(0)\n",
      "\n",
      "$kp2016a.txt\n",
      "character(0)\n",
      "\n",
      "$kp2016b.txt\n",
      "character(0)\n",
      "\n",
      "$kp2016c.txt\n",
      "character(0)\n",
      "\n",
      "$kp2016d.txt\n",
      "character(0)\n",
      "\n",
      "$kp2016e.txt\n",
      "character(0)\n",
      "\n",
      "$kp2016f.txt\n",
      "character(0)\n",
      "\n",
      "$kp2016g.txt\n",
      "character(0)\n",
      "\n",
      "$kp2016h.txt\n",
      "character(0)\n",
      "\n"
     ]
    }
   ],
   "source": [
    "# 전처리 대상이 제대로 처리되었는지 출현내용 파악\n",
    "sprintf('tm패키지를 이용한 공백/간격/제어문자 패턴 전처리 결과:')\n",
    "sapply(my_pp_delws, str_extract_all, \n",
    "       pattern = '[[:graph:]]{0,}( {2,})|(\\t{1,})|(\\n{1,})|(\\r{1,})|(\\r\\n{1,})[[:graph:]]{0,}') %>% print\n",
    "\n",
    "# - 말뭉치를 구성하는 각 문서별로 전처리 대상 패턴이 존재하는 지 파악"
   ]
  },
  {
   "cell_type": "code",
   "execution_count": 63,
   "metadata": {
    "scrolled": true
   },
   "outputs": [
    {
     "data": {
      "text/html": [
       "'stringr패키지를 이용한 공백/간격/제어문자 표현 전처리 결과:'"
      ],
      "text/latex": [
       "'stringr패키지를 이용한 공백/간격/제어문자 표현 전처리 결과:'"
      ],
      "text/markdown": [
       "'stringr패키지를 이용한 공백/간격/제어문자 표현 전처리 결과:'"
      ],
      "text/plain": [
       "[1] \"stringr패키지를 이용한 공백/간격/제어문자 표현 전처리 결과:\""
      ]
     },
     "metadata": {},
     "output_type": "display_data"
    },
    {
     "name": "stdout",
     "output_type": "stream",
     "text": [
      "integer(0)\n"
     ]
    }
   ],
   "source": [
    "# 전처리 대상이 제대로 처리되었는지 출현내용 기술통계파악\n",
    "sprintf('stringr패키지를 이용한 공백/간격/제어문자 표현 전처리 결과:')\n",
    "sapply(my_pp_delws, str_extract_all, pattern = '[[:graph:]]*( {2,})|(\\t{1,})|(\\n{1,})|(\\r{1,})|(\\r\\n{1,})[[:graph:]]*') %>% \n",
    "    unlist %>% table %>% sort(decreasing = TRUE) %>% print\n",
    "\n",
    "# - 말뭉치를 구성하는 각 문서가 아닌 전체 내용을 통합해 \n",
    "#   검색패턴과 일치하는 공백/간격/제어문자 표현이 발생한 부분들의 빈도수를 내림차순으로 파악한 결과\n",
    "#   각 문서별 모든 공백/간격/제어문자 표현들이 일괄적으로 공백1칸으로 변경되었음을 알 수 있음"
   ]
  },
  {
   "cell_type": "markdown",
   "metadata": {},
   "source": [
    "# <font color = 'blue'>숫자표현(numeric data) 제거</font>\n",
    "* 텍스트셋에는 양적인 크기나 서열/순서의 의미, 범주의 의미, 변화의 의미로서 숫자를 사용하므로 이에 대한 적절한 처리가 필요함\n",
    "* 일률적인 숫자텍스트 삭제 이외에, 여건에 따라 특정한 수치적 표현은 고유명사로 유지해야하는 경우도 있음"
   ]
  },
  {
   "cell_type": "markdown",
   "metadata": {},
   "source": [
    "## 검색패턴을 이용한 텍스트셋 탐색"
   ]
  },
  {
   "cell_type": "markdown",
   "metadata": {},
   "source": [
    "### 숫자표현 검색패턴 설정"
   ]
  },
  {
   "cell_type": "code",
   "execution_count": 64,
   "metadata": {},
   "outputs": [],
   "source": [
    "# 문서내 숫자가 들어간 문구를 찾는 정규표현식\n",
    "src <- '[[:graph:]]{0,}(-?)([[:digit:]]{1,})(\\\\.?)([[:digit:]]{0,})[[:graph:]]{0,}'\n",
    "\n",
    "# 양끝쪽   [[:graph:]]{0,} ==> 숫자가 있는 패턴 전후로 어떠한 문구(숫자/문자/기호)가 \n",
    "#                            오는지(없던지, 1개 이상 오던지) 패턴검색 ==> [[:graph:]]* 동일검색패턴\n",
    "\n",
    "# (-?) ==> 음수를 의미하는 마이너스(-)표시가 없던지/1개 나타나는 패턴탐색\n",
    "# [[:digit:]]{1,} ==> 숫자가 1개 이상 나타나는 패턴탐색 \n",
    "# (\\\\.?) ==> 소숫점을 의미하는 점(.)표시가 없던지 또는 1개까지만 나타나는 패턴탐색\n",
    "# [[:digit:]]{0,} ==> 소수점 다음에 소수 숫자가 없던지 1개 이상 존재하는 패턴탐색"
   ]
  },
  {
   "cell_type": "markdown",
   "metadata": {},
   "source": [
    "### 숫자표현 검색패턴을 통한 텍스트셋 탐색"
   ]
  },
  {
   "cell_type": "markdown",
   "metadata": {},
   "source": [
    "#### 각 문서별 검색패턴 일치내용 파악"
   ]
  },
  {
   "cell_type": "code",
   "execution_count": 65,
   "metadata": {
    "scrolled": true
   },
   "outputs": [
    {
     "data": {
      "text/html": [
       "'말뭉치 문서별 숫자패턴 포함여부를 content항목에서 출현내용으로 파악:'"
      ],
      "text/latex": [
       "'말뭉치 문서별 숫자패턴 포함여부를 content항목에서 출현내용으로 파악:'"
      ],
      "text/markdown": [
       "'말뭉치 문서별 숫자패턴 포함여부를 content항목에서 출현내용으로 파악:'"
      ],
      "text/plain": [
       "[1] \"말뭉치 문서별 숫자패턴 포함여부를 content항목에서 출현내용으로 파악:\""
      ]
     },
     "metadata": {},
     "output_type": "display_data"
    },
    {
     "name": "stdout",
     "output_type": "stream",
     "text": [
      "$kp2004a.txt\n",
      "[1] \"2015).\" \"1/10\"  \n",
      "\n",
      "$kp2005a.txt\n",
      "[1] \"20가지\"\n",
      "\n",
      "$kp2005b.txt\n",
      "[1] \"60건\"  \"-13편\" \"47편\" \n",
      "\n",
      "$kp2012a.txt\n",
      "[1] \"/3가지\"       \"2000년대를\"   \"2001∼2006년\"\n",
      "\n",
      "$kp2012b.txt\n",
      "[1] \"100%\"           \"(1)\"            \"(2)\"            \"(3)\"           \n",
      "[5] \"(4)‘다른\"      \"타입-I(type-1)\"\n",
      "\n",
      "$kp2013a.txt\n",
      "[1] \"(1)\"     \"(2)\"     \"(3)\"     \"(4)\"     \"(5)\"     \"5가지의\"\n",
      "\n",
      "$kp2013b.txt\n",
      "[1] \"<10회이상/1일>,\"  \"<30회이상/1주일>\"\n",
      "\n",
      "$kp2014a.txt\n",
      " [1] \"2006년\"                      \"1월\"                        \n",
      " [3] \"1일부터\"                     \"2010년\"                     \n",
      " [5] \"2월\"                         \"25일까지\"                   \n",
      " [7] \"1,080건의\"                   \"64.7%를\"                    \n",
      " [9] \"(1)‘대등적－일방적’,\"      \"(2)‘협력적－일방적’그리고\"\n",
      "[11] \"(3)‘협력적－상호적’의\"     \"(1)잠재적\"                  \n",
      "[13] \"(2)주성분\"                   \"(3)LIWC\"                    \n",
      "\n",
      "$kp2014b.txt\n",
      "character(0)\n",
      "\n",
      "$kp2014c.txt\n",
      "[1] \"0.01)\"   \"0.87)를\"\n",
      "\n",
      "$kp2014d.txt\n",
      " [1] \"1977;\"    \"2004)과\"  \"1981,\"    \"2001)에\"  \"2013년\"   \"10월\"    \n",
      " [7] \"18일부터\" \"10월\"     \"23일까지\" \"300명을\"  \"0.05)\"    \"0.10)\"   \n",
      "\n",
      "$kp2016a.txt\n",
      "[1] \"필진(1회이상/1개월)과\"\n",
      "\n",
      "$kp2016b.txt\n",
      "[1] \"<1>\"            \"<2>\"            \"<3>\"            \"<4>\"           \n",
      "[5] \"5회이상/하루당\" \"1인·2인·3인\" \n",
      "\n",
      "$kp2016c.txt\n",
      "[1] \"2015년\"            \"2015년\"            \"7월\"              \n",
      "[4] \"16일부터~21일까지\" \"8,635명을\"        \n",
      "\n",
      "$kp2016d.txt\n",
      "[1] \"25개\"     \"120명씩\"  \"15%에서\"  \"-3..5%가\" \"11.5%\"    \"73.8%\"   \n",
      "\n",
      "$kp2016e.txt\n",
      "[1] \"30초의\" \"-10%\"   \"+10%\"   \"1/3\"    \"23.87%\"\n",
      "\n",
      "$kp2016f.txt\n",
      "[1] \"2017).\"\n",
      "\n",
      "$kp2016g.txt\n",
      "[1] \"(1)포퓰리즘\"       \"(2)왜\"             \"(3)어떻게\"        \n",
      "[4] \"[1]포퓰리즘\"       \"[2]\"               \"<1>‘레토릭’,\"   \n",
      "[7] \"<2>‘저널리즘’과\" \"<3>‘정치\"        \n",
      "\n",
      "$kp2016h.txt\n",
      "character(0)\n",
      "\n"
     ]
    }
   ],
   "source": [
    "sprintf('말뭉치 문서별 숫자패턴 포함여부를 content항목에서 출현내용으로 파악:')\n",
    "sapply(my_pp_stws, str_extract_all, pattern = src) %>% print\n",
    "# - sapply(my_pp_stws, gregexpr, pattern = src) %>% regmatches(x = my_pp_stws) %>% print 동일결과\n",
    "# - 앞서 공백2개이상 문구를 1개로 전처리한 my_pp_stws 코퍼스객체을 인풋으로 사용\n",
    "# - 말뭉치를 구성하는 각 문서별로 검색패턴과 일치하는 숫자출현 실제내용을 파악함\n",
    "# - 검색패턴에 해당하는 숫자표현이 해당 텍스트요소에 들어 있지 않으면 character(0)을 출력함"
   ]
  },
  {
   "cell_type": "markdown",
   "metadata": {},
   "source": [
    "#### 말뭉치 전체내용 중 검색패턴 일치내용 빈도수 파악"
   ]
  },
  {
   "cell_type": "code",
   "execution_count": 66,
   "metadata": {
    "scrolled": true
   },
   "outputs": [
    {
     "data": {
      "text/html": [
       "'전체 말뭉치에서 숫자패턴 출현내용을 문자순서 기준 정렬:'"
      ],
      "text/latex": [
       "'전체 말뭉치에서 숫자패턴 출현내용을 문자순서 기준 정렬:'"
      ],
      "text/markdown": [
       "'전체 말뭉치에서 숫자패턴 출현내용을 문자순서 기준 정렬:'"
      ],
      "text/plain": [
       "[1] \"전체 말뭉치에서 숫자패턴 출현내용을 문자순서 기준 정렬:\""
      ]
     },
     "metadata": {},
     "output_type": "display_data"
    },
    {
     "name": "stdout",
     "output_type": "stream",
     "text": [
      ".\n",
      "                       -10%                       -13편 \n",
      "                          1                           1 \n",
      "                   -3..5%가                         (1) \n",
      "                          1                           2 \n",
      "     (1)‘대등적－일방적’,                   (1)잠재적 \n",
      "                          1                           1 \n",
      "                (1)포퓰리즘                         (2) \n",
      "                          1                           2 \n",
      "(2)‘협력적－일방적’그리고                       (2)왜 \n",
      "                          1                           1 \n",
      "                  (2)주성분                         (3) \n",
      "                          1                           2 \n",
      "    (3)‘협력적－상호적’의                     (3)LIWC \n",
      "                          1                           1 \n",
      "                  (3)어떻게                         (4) \n",
      "                          1                           1 \n",
      "                  (4)‘다른                         (5) \n",
      "                          1                           1 \n",
      "                     /3가지                 [1]포퓰리즘 \n",
      "                          1                           1 \n",
      "                        [2]                        +10% \n",
      "                          1                           1 \n",
      "                        <1>              <1>‘레토릭’, \n",
      "                          1                           1 \n",
      "            <10회이상/1일>,                         <2> \n",
      "                          1                           1 \n",
      "          <2>‘저널리즘’과                         <3> \n",
      "                          1                           1 \n",
      "                  <3>‘정치            <30회이상/1주일> \n",
      "                          1                           1 \n",
      "                        <4>                       0.01) \n",
      "                          1                           1 \n",
      "                      0.05)                       0.10) \n",
      "                          1                           1 \n",
      "                    0.87)를                   1,080건의 \n",
      "                          1                           1 \n",
      "                       1/10                         1/3 \n",
      "                          1                           1 \n",
      "                       100%                        10월 \n",
      "                          1                           2 \n",
      "                      11.5%                     120명씩 \n",
      "                          1                           1 \n",
      "                    15%에서           16일부터~21일까지 \n",
      "                          1                           1 \n",
      "                   18일부터                       1977; \n",
      "                          1                           1 \n",
      "                      1981,                         1월 \n",
      "                          1                           1 \n",
      "              1인·2인·3인                     1일부터 \n",
      "                          1                           1 \n",
      "                 2000년대를                     2001)에 \n",
      "                          1                           1 \n",
      "               2001∼2006년                     2004)과 \n",
      "                          1                           1 \n",
      "                     2006년                      2010년 \n",
      "                          1                           1 \n",
      "                     2013년                      2015). \n",
      "                          1                           1 \n",
      "                     2015년                      2017). \n",
      "                          2                           1 \n",
      "                     20가지                      23.87% \n",
      "                          1                           1 \n",
      "                   23일까지                        25개 \n",
      "                          1                           1 \n",
      "                   25일까지                         2월 \n",
      "                          1                           1 \n",
      "                    300명을                      30초의 \n",
      "                          1                           1 \n",
      "                       47편                     5가지의 \n",
      "                          1                           1 \n",
      "             5회이상/하루당                        60건 \n",
      "                          1                           1 \n",
      "                    64.7%를                       73.8% \n",
      "                          1                           1 \n",
      "                        7월                   8,635명을 \n",
      "                          1                           1 \n",
      "             타입-I(type-1)       필진(1회이상/1개월)과 \n",
      "                          1                           1 \n"
     ]
    }
   ],
   "source": [
    "sprintf('전체 말뭉치에서 숫자패턴 출현내용을 문자순서 기준 정렬:')\n",
    "sapply(my_pp_stws, str_extract_all, pattern = src) %>% \n",
    "    unlist %>% table %>% print\n",
    "# - 말뭉치를 구성하는 각 문서가 아닌 전체 내용을 통합했을 때 \n",
    "#   검색패턴과 일치하는 숫자들의 실제내용을 문자순서를 기준으로 정렬해 파악함"
   ]
  },
  {
   "cell_type": "code",
   "execution_count": 67,
   "metadata": {
    "scrolled": true
   },
   "outputs": [
    {
     "data": {
      "text/html": [
       "'전체 말뭉치에서 숫자패턴 출현내용을 빈도수 기준 내림차순으로 정렬:'"
      ],
      "text/latex": [
       "'전체 말뭉치에서 숫자패턴 출현내용을 빈도수 기준 내림차순으로 정렬:'"
      ],
      "text/markdown": [
       "'전체 말뭉치에서 숫자패턴 출현내용을 빈도수 기준 내림차순으로 정렬:'"
      ],
      "text/plain": [
       "[1] \"전체 말뭉치에서 숫자패턴 출현내용을 빈도수 기준 내림차순으로 정렬:\""
      ]
     },
     "metadata": {},
     "output_type": "display_data"
    },
    {
     "name": "stdout",
     "output_type": "stream",
     "text": [
      ".\n",
      "                        (1)                         (2) \n",
      "                          2                           2 \n",
      "                        (3)                        10월 \n",
      "                          2                           2 \n",
      "                     2015년                        -10% \n",
      "                          2                           1 \n",
      "                      -13편                    -3..5%가 \n",
      "                          1                           1 \n",
      "     (1)‘대등적－일방적’,                   (1)잠재적 \n",
      "                          1                           1 \n",
      "                (1)포퓰리즘 (2)‘협력적－일방적’그리고 \n",
      "                          1                           1 \n",
      "                      (2)왜                   (2)주성분 \n",
      "                          1                           1 \n",
      "    (3)‘협력적－상호적’의                     (3)LIWC \n",
      "                          1                           1 \n",
      "                  (3)어떻게                         (4) \n",
      "                          1                           1 \n",
      "                  (4)‘다른                         (5) \n",
      "                          1                           1 \n",
      "                     /3가지                 [1]포퓰리즘 \n",
      "                          1                           1 \n",
      "                        [2]                        +10% \n",
      "                          1                           1 \n",
      "                        <1>              <1>‘레토릭’, \n",
      "                          1                           1 \n",
      "            <10회이상/1일>,                         <2> \n",
      "                          1                           1 \n",
      "          <2>‘저널리즘’과                         <3> \n",
      "                          1                           1 \n",
      "                  <3>‘정치            <30회이상/1주일> \n",
      "                          1                           1 \n",
      "                        <4>                       0.01) \n",
      "                          1                           1 \n",
      "                      0.05)                       0.10) \n",
      "                          1                           1 \n",
      "                    0.87)를                   1,080건의 \n",
      "                          1                           1 \n",
      "                       1/10                         1/3 \n",
      "                          1                           1 \n",
      "                       100%                       11.5% \n",
      "                          1                           1 \n",
      "                    120명씩                     15%에서 \n",
      "                          1                           1 \n",
      "          16일부터~21일까지                    18일부터 \n",
      "                          1                           1 \n",
      "                      1977;                       1981, \n",
      "                          1                           1 \n",
      "                        1월               1인·2인·3인 \n",
      "                          1                           1 \n",
      "                    1일부터                  2000년대를 \n",
      "                          1                           1 \n",
      "                    2001)에                2001∼2006년 \n",
      "                          1                           1 \n",
      "                    2004)과                      2006년 \n",
      "                          1                           1 \n",
      "                     2010년                      2013년 \n",
      "                          1                           1 \n",
      "                     2015).                      2017). \n",
      "                          1                           1 \n",
      "                     20가지                      23.87% \n",
      "                          1                           1 \n",
      "                   23일까지                        25개 \n",
      "                          1                           1 \n",
      "                   25일까지                         2월 \n",
      "                          1                           1 \n",
      "                    300명을                      30초의 \n",
      "                          1                           1 \n",
      "                       47편                     5가지의 \n",
      "                          1                           1 \n",
      "             5회이상/하루당                        60건 \n",
      "                          1                           1 \n",
      "                    64.7%를                       73.8% \n",
      "                          1                           1 \n",
      "                        7월                   8,635명을 \n",
      "                          1                           1 \n",
      "             타입-I(type-1)       필진(1회이상/1개월)과 \n",
      "                          1                           1 \n"
     ]
    }
   ],
   "source": [
    "sprintf('전체 말뭉치에서 숫자패턴 출현내용을 빈도수 기준 내림차순으로 정렬:')\n",
    "sapply(my_pp_stws, str_extract_all, pattern = src) %>% \n",
    "    unlist %>% table %>% sort(decreasing = TRUE) %>% print\n",
    "# - 말뭉치를 구성하는 각 문서가 아닌 전체 내용을 통합했을 때 \n",
    "#   검색패턴과 일치하는 실제 숫자내용의 출현빈도수를 기준으로 내림차순으로 정렬해 파악함"
   ]
  },
  {
   "cell_type": "markdown",
   "metadata": {},
   "source": [
    "#### 각 문서별 검색패턴 일치내용을 데이터프레임 구조로 파악"
   ]
  },
  {
   "cell_type": "code",
   "execution_count": 68,
   "metadata": {
    "scrolled": true
   },
   "outputs": [
    {
     "data": {
      "text/plain": [
       ".\n",
       "                       -10%                       -13편 \n",
       "                          1                           1 \n",
       "                   -3..5%가                         (1) \n",
       "                          1                           2 \n",
       "     (1)‘대등적－일방적’,                   (1)잠재적 \n",
       "                          1                           1 \n",
       "                (1)포퓰리즘                         (2) \n",
       "                          1                           2 \n",
       "(2)‘협력적－일방적’그리고                       (2)왜 \n",
       "                          1                           1 \n",
       "                  (2)주성분                         (3) \n",
       "                          1                           2 \n",
       "    (3)‘협력적－상호적’의                     (3)LIWC \n",
       "                          1                           1 \n",
       "                  (3)어떻게                         (4) \n",
       "                          1                           1 \n",
       "                  (4)‘다른                         (5) \n",
       "                          1                           1 \n",
       "                     /3가지                 [1]포퓰리즘 \n",
       "                          1                           1 \n",
       "                        [2]                        +10% \n",
       "                          1                           1 \n",
       "                        <1>              <1>‘레토릭’, \n",
       "                          1                           1 \n",
       "            <10회이상/1일>,                         <2> \n",
       "                          1                           1 \n",
       "          <2>‘저널리즘’과                         <3> \n",
       "                          1                           1 \n",
       "                  <3>‘정치            <30회이상/1주일> \n",
       "                          1                           1 \n",
       "                        <4>                       0.01) \n",
       "                          1                           1 \n",
       "                      0.05)                       0.10) \n",
       "                          1                           1 \n",
       "                    0.87)를                   1,080건의 \n",
       "                          1                           1 \n",
       "                       1/10                         1/3 \n",
       "                          1                           1 \n",
       "                       100%                        10월 \n",
       "                          1                           2 \n",
       "                      11.5%                     120명씩 \n",
       "                          1                           1 \n",
       "                    15%에서           16일부터~21일까지 \n",
       "                          1                           1 \n",
       "                   18일부터                       1977; \n",
       "                          1                           1 \n",
       "                      1981,                         1월 \n",
       "                          1                           1 \n",
       "              1인·2인·3인                     1일부터 \n",
       "                          1                           1 \n",
       "                 2000년대를                     2001)에 \n",
       "                          1                           1 \n",
       "               2001∼2006년                     2004)과 \n",
       "                          1                           1 \n",
       "                     2006년                      2010년 \n",
       "                          1                           1 \n",
       "                     2013년                      2015). \n",
       "                          1                           1 \n",
       "                     2015년                      2017). \n",
       "                          2                           1 \n",
       "                     20가지                      23.87% \n",
       "                          1                           1 \n",
       "                   23일까지                        25개 \n",
       "                          1                           1 \n",
       "                   25일까지                         2월 \n",
       "                          1                           1 \n",
       "                    300명을                      30초의 \n",
       "                          1                           1 \n",
       "                       47편                     5가지의 \n",
       "                          1                           1 \n",
       "             5회이상/하루당                        60건 \n",
       "                          1                           1 \n",
       "                    64.7%를                       73.8% \n",
       "                          1                           1 \n",
       "                        7월                   8,635명을 \n",
       "                          1                           1 \n",
       "             타입-I(type-1)       필진(1회이상/1개월)과 \n",
       "                          1                           1 "
      ]
     },
     "metadata": {},
     "output_type": "display_data"
    }
   ],
   "source": [
    "# 전체 말뭉치에서 숫자패턴 출현내용을 별도의 임시변수에 저장\n",
    "my_pp_tb <- sapply(my_pp_stws, str_extract_all, pattern = src) %>% unlist %>% table\n",
    "my_pp_tb"
   ]
  },
  {
   "cell_type": "code",
   "execution_count": 69,
   "metadata": {
    "scrolled": true
   },
   "outputs": [
    {
     "name": "stdout",
     "output_type": "stream",
     "text": [
      "                          term freq\n",
      "1                         -10%    1\n",
      "2                        -13편    1\n",
      "3                     -3..5%가    1\n",
      "4                          (1)    2\n",
      "5       (1)‘대등적－일방적’,    1\n",
      "6                    (1)잠재적    1\n",
      "7                  (1)포퓰리즘    1\n",
      "8                          (2)    2\n",
      "9  (2)‘협력적－일방적’그리고    1\n",
      "10                       (2)왜    1\n",
      "11                   (2)주성분    1\n",
      "12                         (3)    2\n",
      "13     (3)‘협력적－상호적’의    1\n",
      "14                     (3)LIWC    1\n",
      "15                   (3)어떻게    1\n",
      "16                         (4)    1\n",
      "17                   (4)‘다른    1\n",
      "18                         (5)    1\n",
      "19                      /3가지    1\n",
      "20                 [1]포퓰리즘    1\n",
      "21                         [2]    1\n",
      "22                        +10%    1\n",
      "23                         <1>    1\n",
      "24              <1>‘레토릭’,    1\n",
      "25             <10회이상/1일>,    1\n",
      "26                         <2>    1\n",
      "27           <2>‘저널리즘’과    1\n",
      "28                         <3>    1\n",
      "29                   <3>‘정치    1\n",
      "30            <30회이상/1주일>    1\n",
      "31                         <4>    1\n",
      "32                       0.01)    1\n",
      "33                       0.05)    1\n",
      "34                       0.10)    1\n",
      "35                     0.87)를    1\n",
      "36                   1,080건의    1\n",
      "37                        1/10    1\n",
      "38                         1/3    1\n",
      "39                        100%    1\n",
      "40                        10월    2\n",
      "41                       11.5%    1\n",
      "42                     120명씩    1\n",
      "43                     15%에서    1\n",
      "44           16일부터~21일까지    1\n",
      "45                    18일부터    1\n",
      "46                       1977;    1\n",
      "47                       1981,    1\n",
      "48                         1월    1\n",
      "49               1인·2인·3인    1\n",
      "50                     1일부터    1\n",
      "51                  2000년대를    1\n",
      "52                     2001)에    1\n",
      "53                2001∼2006년    1\n",
      "54                     2004)과    1\n",
      "55                      2006년    1\n",
      "56                      2010년    1\n",
      "57                      2013년    1\n",
      "58                      2015).    1\n",
      "59                      2015년    2\n",
      "60                      2017).    1\n",
      "61                      20가지    1\n",
      "62                      23.87%    1\n",
      "63                    23일까지    1\n",
      "64                        25개    1\n",
      "65                    25일까지    1\n",
      "66                         2월    1\n",
      "67                     300명을    1\n",
      "68                      30초의    1\n",
      "69                        47편    1\n",
      "70                     5가지의    1\n",
      "71              5회이상/하루당    1\n",
      "72                        60건    1\n",
      "73                     64.7%를    1\n",
      "74                       73.8%    1\n",
      "75                         7월    1\n",
      "76                   8,635명을    1\n",
      "77              타입-I(type-1)    1\n",
      "78       필진(1회이상/1개월)과    1\n"
     ]
    }
   ],
   "source": [
    "# 전체 말뭉치에서 숫자패턴 출현내용을 별도의 데이터프레임 객체로 저장\n",
    "my_pp_df <- data.frame(term = names(my_pp_tb), freq = c(my_pp_tb), row.names = NULL)\n",
    "my_pp_df %>% print"
   ]
  },
  {
   "cell_type": "code",
   "execution_count": 70,
   "metadata": {
    "scrolled": true
   },
   "outputs": [
    {
     "name": "stdout",
     "output_type": "stream",
     "text": [
      "                          term freq\n",
      "1                          (1)    2\n",
      "2                          (2)    2\n",
      "3                          (3)    2\n",
      "4                         10월    2\n",
      "5                       2015년    2\n",
      "6                         -10%    1\n",
      "7                        -13편    1\n",
      "8                     -3..5%가    1\n",
      "9       (1)‘대등적－일방적’,    1\n",
      "10                   (1)잠재적    1\n",
      "11                 (1)포퓰리즘    1\n",
      "12 (2)‘협력적－일방적’그리고    1\n",
      "13                       (2)왜    1\n",
      "14                   (2)주성분    1\n",
      "15     (3)‘협력적－상호적’의    1\n",
      "16                     (3)LIWC    1\n",
      "17                   (3)어떻게    1\n",
      "18                         (4)    1\n",
      "19                   (4)‘다른    1\n",
      "20                         (5)    1\n",
      "21                      /3가지    1\n",
      "22                 [1]포퓰리즘    1\n",
      "23                         [2]    1\n",
      "24                        +10%    1\n",
      "25                         <1>    1\n",
      "26              <1>‘레토릭’,    1\n",
      "27             <10회이상/1일>,    1\n",
      "28                         <2>    1\n",
      "29           <2>‘저널리즘’과    1\n",
      "30                         <3>    1\n",
      "31                   <3>‘정치    1\n",
      "32            <30회이상/1주일>    1\n",
      "33                         <4>    1\n",
      "34                       0.01)    1\n",
      "35                       0.05)    1\n",
      "36                       0.10)    1\n",
      "37                     0.87)를    1\n",
      "38                   1,080건의    1\n",
      "39                        1/10    1\n",
      "40                         1/3    1\n",
      "41                        100%    1\n",
      "42                       11.5%    1\n",
      "43                     120명씩    1\n",
      "44                     15%에서    1\n",
      "45           16일부터~21일까지    1\n",
      "46                    18일부터    1\n",
      "47                       1977;    1\n",
      "48                       1981,    1\n",
      "49                         1월    1\n",
      "50               1인·2인·3인    1\n",
      "51                     1일부터    1\n",
      "52                  2000년대를    1\n",
      "53                     2001)에    1\n",
      "54                2001∼2006년    1\n",
      "55                     2004)과    1\n",
      "56                      2006년    1\n",
      "57                      2010년    1\n",
      "58                      2013년    1\n",
      "59                      2015).    1\n",
      "60                      2017).    1\n",
      "61                      20가지    1\n",
      "62                      23.87%    1\n",
      "63                    23일까지    1\n",
      "64                        25개    1\n",
      "65                    25일까지    1\n",
      "66                         2월    1\n",
      "67                     300명을    1\n",
      "68                      30초의    1\n",
      "69                        47편    1\n",
      "70                     5가지의    1\n",
      "71              5회이상/하루당    1\n",
      "72                        60건    1\n",
      "73                     64.7%를    1\n",
      "74                       73.8%    1\n",
      "75                         7월    1\n",
      "76                   8,635명을    1\n",
      "77              타입-I(type-1)    1\n",
      "78       필진(1회이상/1개월)과    1\n"
     ]
    }
   ],
   "source": [
    "# 전체 말뭉치에서 숫자패턴 출현내용을 빈도수를 기준으로 내림차순 정렬\n",
    "my_pp_df %>% dplyr::arrange(desc(freq), term) %>% print"
   ]
  },
  {
   "cell_type": "code",
   "execution_count": 71,
   "metadata": {},
   "outputs": [
    {
     "name": "stdout",
     "output_type": "stream",
     "text": [
      "[1] term freq\n",
      "<0 rows> (or 0-length row.names)\n"
     ]
    }
   ],
   "source": [
    "# 전체 말뭉치에서 숫자패턴 출현내용을 일정수준 이상의 빈도수를 기준으로 내림차순 정렬\n",
    "my_pp_df %>% arrange(desc(freq), term) %>% filter(freq >= 5) %>% print"
   ]
  },
  {
   "cell_type": "markdown",
   "metadata": {},
   "source": [
    "## 텍스트셋 탐색결과에 따른 전처리 수행\n",
    "* 각 문서별로, 또는 말뭉치 전체적으로 출현한 숫자들에 대한 내림차순 정렬결과, 특별한 의미를 가지는 숫자가 없는 것으로 나타남\n",
    "* 이에 따라 말뭉치내 각 문서별로 포함되어 있는 숫자표현들은 일괄 삭제하는 것으로 전처리 방향성을 정리함\n",
    "* 물론, 숫자와 결합된 문구들 자체도 일부 중요단어가 포함된 문구를 제외하고는 대체적으로 숫자와 단어들을 같이 삭제해도 괜찮을 것임"
   ]
  },
  {
   "cell_type": "markdown",
   "metadata": {},
   "source": [
    "### tm패키지 전용 전처리함수 이용"
   ]
  },
  {
   "cell_type": "code",
   "execution_count": 72,
   "metadata": {},
   "outputs": [
    {
     "data": {
      "text/html": [
       "<ol class=list-inline>\n",
       "\t<li>'VCorpus'</li>\n",
       "\t<li>'Corpus'</li>\n",
       "</ol>\n"
      ],
      "text/latex": [
       "\\begin{enumerate*}\n",
       "\\item 'VCorpus'\n",
       "\\item 'Corpus'\n",
       "\\end{enumerate*}\n"
      ],
      "text/markdown": [
       "1. 'VCorpus'\n",
       "2. 'Corpus'\n",
       "\n",
       "\n"
      ],
      "text/plain": [
       "[1] \"VCorpus\" \"Corpus\" "
      ]
     },
     "metadata": {},
     "output_type": "display_data"
    }
   ],
   "source": [
    "# tm::tm_map()에 전용 전처리함수 옵션을 이용한 전처리 \n",
    "# - 이 결과로 코퍼스(말뭉치)객체형식이 유지되어 \n",
    "#   tm패키지의 전용 전처리함수 옵션적용을 추가적으로 계속할 수 있음\n",
    "\n",
    "my_pp_rmnum <- tm_map(my_pp_stws, removeNumbers)\n",
    "# - rmnum: remove numeric character\n",
    "# - 앞서 전처리된 공백/간격/제어 문구를 공백1칸으로 변경한 my_pp_stws 코퍼스객체를 전처리 대상객체로 입력함\n",
    "# - 코퍼스 각 문서별로 포함되어 있는 숫자표현들을 일괄적으로 삭제함\n",
    "\n",
    "class(my_pp_rmnum)\n",
    "# - tm패키지 tm_map()에 전용 전처리함수 옵션인 removeNumbers를 이용했으므로\n",
    "#   전처리결과도 코퍼스(말뭉치) 객체형식을 유지하고 있음"
   ]
  },
  {
   "cell_type": "code",
   "execution_count": 73,
   "metadata": {
    "scrolled": true
   },
   "outputs": [
    {
     "data": {
      "text/html": [
       "'tm패키지를 이용한 숫자표현 전처리 결과:'"
      ],
      "text/latex": [
       "'tm패키지를 이용한 숫자표현 전처리 결과:'"
      ],
      "text/markdown": [
       "'tm패키지를 이용한 숫자표현 전처리 결과:'"
      ],
      "text/plain": [
       "[1] \"tm패키지를 이용한 숫자표현 전처리 결과:\""
      ]
     },
     "metadata": {},
     "output_type": "display_data"
    },
    {
     "name": "stdout",
     "output_type": "stream",
     "text": [
      "integer(0)\n"
     ]
    }
   ],
   "source": [
    "# 전처리 대상이 제대로 처리되었는지 출현내용 기술통계파악\n",
    "sprintf('tm패키지를 이용한 숫자표현 전처리 결과:')\n",
    "sapply(my_pp_rmnum, str_extract_all, pattern = '[[:graph:]]{0,}(-?)([[:digit:]]{1,})(\\\\.?)([[:digit:]]{0,})[[:graph:]]{0,}') %>% \n",
    "    unlist %>% table %>% sort(decreasing = TRUE) %>% print\n",
    "\n",
    "# - 말뭉치를 구성하는 각 문서가 아닌 전체 내용을 통합했을 때 \n",
    "#   검색패턴과 일치하는 숫자출현 실제내용의 빈도수를 내림차순으로 파악한 결과\n",
    "#   각 문서별 모든 숫자표현들이 일괄 삭제되었음을 알 수 있음"
   ]
  },
  {
   "cell_type": "markdown",
   "metadata": {},
   "source": [
    "### tm패키지에 일반함수를 이용한 전처리"
   ]
  },
  {
   "cell_type": "code",
   "execution_count": 74,
   "metadata": {},
   "outputs": [
    {
     "data": {
      "text/html": [
       "<ol class=list-inline>\n",
       "\t<li>'VCorpus'</li>\n",
       "\t<li>'Corpus'</li>\n",
       "</ol>\n"
      ],
      "text/latex": [
       "\\begin{enumerate*}\n",
       "\\item 'VCorpus'\n",
       "\\item 'Corpus'\n",
       "\\end{enumerate*}\n"
      ],
      "text/markdown": [
       "1. 'VCorpus'\n",
       "2. 'Corpus'\n",
       "\n",
       "\n"
      ],
      "text/plain": [
       "[1] \"VCorpus\" \"Corpus\" "
      ]
     },
     "metadata": {},
     "output_type": "display_data"
    }
   ],
   "source": [
    "# tm::tm_map()에 속해 있는 전용 전처리 함수가 아니라 일반 전처리 함수를 이용한 방식 \n",
    "# - 이 결과로 코퍼스(말뭉치)객체형식이 유지되어 \n",
    "#   tm패키지 전처리함수 적용을 추가적으로 계속할 수 있음\n",
    "\n",
    "my_pp_ernum <- tm_map(my_pp_erws, content_transformer(str_replace_all), \n",
    "                      pattern = '-?[[:digit:]]{1,}(\\\\.?)[[:digit:]]{0,}', replacement = ' ')\n",
    "# - ernum: erase numeric data 전처리\n",
    "# - 앞서 전처리된 공백/간격/제어 문구를 공백1칸으로 변경한 my_pp_erws 코퍼스(말뭉치)객체를 전처리 대상객체로 입력함\n",
    "# - 코퍼스 각 문서별로 포함되어 있는 숫자표현들을 일괄적으로 공백으로 변경함\n",
    "\n",
    "# (주의!!!)\n",
    "# pattern = [[:graph:]]{0,}(-?)([[:digit:]]{1,})(\\\\.?)([[:digit:]]{0,})[[:graph:]]{0,} 이 옵션으로 전처리를 하면 문제발생함\n",
    "# ==> 숫자 표현 전후로 있는 문구를 다같이 변경하므로 원본데이터 내용 일부가 사라지게 됨\n",
    "# pattern = -?[[:digit:]]{1,}(\\\\.?)[[:digit:]]{0,} ==> 숫자표현만을 탐색해 공백으로 전처리할 수 있도록 함\n",
    "\n",
    "class(my_pp_ernum)\n",
    "# - tm패키지 tm_map()에 일반 내외부/사용자정의함수를 사용할 수 있는 content_transformer을 이용했으므로\n",
    "#   전처리결과도 코퍼스(말뭉치) 객체형식을 유지하고 있음"
   ]
  },
  {
   "cell_type": "code",
   "execution_count": 75,
   "metadata": {
    "scrolled": true
   },
   "outputs": [
    {
     "data": {
      "text/html": [
       "'stringr패키지를 이용한 숫자표현 전처리 결과:'"
      ],
      "text/latex": [
       "'stringr패키지를 이용한 숫자표현 전처리 결과:'"
      ],
      "text/markdown": [
       "'stringr패키지를 이용한 숫자표현 전처리 결과:'"
      ],
      "text/plain": [
       "[1] \"stringr패키지를 이용한 숫자표현 전처리 결과:\""
      ]
     },
     "metadata": {},
     "output_type": "display_data"
    },
    {
     "name": "stdout",
     "output_type": "stream",
     "text": [
      "integer(0)\n"
     ]
    }
   ],
   "source": [
    "# 전처리 대상이 제대로 처리되었는지 출현내용 기술통계파악\n",
    "sprintf('stringr패키지를 이용한 숫자표현 전처리 결과:')\n",
    "sapply(my_pp_ernum, str_extract_all, pattern = '[[:graph:]]{0,}(-?)([[:digit:]]{1,})(\\\\.?)([[:digit:]]{0,})[[:graph:]]{0,}') %>% \n",
    "    unlist %>% table %>% sort(decreasing = TRUE) %>% print\n",
    "\n",
    "# - 말뭉치를 구성하는 각 문서가 아닌 전체 내용을 통합했을 때 \n",
    "#   검색패턴과 일치하는 숫자출현 실제내용의 빈도수를 내림차순으로 파악한 결과\n",
    "#   각 문서별 모든 숫자표현들이 일괄 삭제되었음을 알 수 있음"
   ]
  },
  {
   "cell_type": "markdown",
   "metadata": {},
   "source": [
    "### stringr패키지를 이용한 전처리"
   ]
  },
  {
   "cell_type": "code",
   "execution_count": 76,
   "metadata": {},
   "outputs": [
    {
     "data": {
      "text/html": [
       "'character'"
      ],
      "text/latex": [
       "'character'"
      ],
      "text/markdown": [
       "'character'"
      ],
      "text/plain": [
       "[1] \"character\""
      ]
     },
     "metadata": {},
     "output_type": "display_data"
    }
   ],
   "source": [
    "# stringr::str_replace_all() 함수를 이용한 전처리\n",
    "# - 이 결과로 코퍼스(말뭉치)객체가 문자열객체로 변환되어, \n",
    "#   tm패키지 전처리함수 적용을 하려면 다시 말뭉치객체로 만드는 작업이 필요함\n",
    "\n",
    "my_pp_delnum <- sapply(my_pp_delws, str_replace_all, pattern = '-?[[:digit:]]{1,}(\\\\.?)[[:digit:]]{0,}', replacement = ' ')\n",
    "# - delnum: delete numeric character\n",
    "# - 앞서 전처리된 공백2개이상 문구를 삭제한 my_pp_delws 일반문자열 객체를 전처리 대상객체로 입력함\n",
    "# - 코퍼스 각 문서별로 포함되어 있는 숫자표현들을 일괄적으로 삭제함\n",
    "\n",
    "# (주의!!!)\n",
    "# pattern = [[:graph:]]{0,}(-?)([[:digit:]]{1,})(\\\\.?)([[:digit:]]{0,})[[:graph:]]{0,} 이 옵션으로 전처리를 하면 문제발생함\n",
    "# ==> 숫자 표현 전후로 있는 문구를 다같이 변경하므로 원본데이터 내용 일부가 사라지게 됨\n",
    "# pattern = -?[[:digit:]]{1,}(\\\\.?)[[:digit:]]{0,} ==> 숫자표현만을 탐색해 공백으로 전처리할 수 있도록 함\n",
    "\n",
    "class(my_pp_delnum)\n",
    "# - stringr패키지의 문자열 전처리 함수인 str_replace_all을 이용했으므로 \n",
    "#   전처리결과도 코퍼스(말뭉치) 객체형식이 사라지고 일반 리스트 객체형식으로 변형됨"
   ]
  },
  {
   "cell_type": "code",
   "execution_count": 77,
   "metadata": {
    "scrolled": true
   },
   "outputs": [
    {
     "data": {
      "text/html": [
       "'stringr패키지를 이용한 숫자표현 전처리 결과:'"
      ],
      "text/latex": [
       "'stringr패키지를 이용한 숫자표현 전처리 결과:'"
      ],
      "text/markdown": [
       "'stringr패키지를 이용한 숫자표현 전처리 결과:'"
      ],
      "text/plain": [
       "[1] \"stringr패키지를 이용한 숫자표현 전처리 결과:\""
      ]
     },
     "metadata": {},
     "output_type": "display_data"
    },
    {
     "name": "stdout",
     "output_type": "stream",
     "text": [
      "integer(0)\n"
     ]
    }
   ],
   "source": [
    "# 전처리 대상이 제대로 처리되었는지 출현내용 기술통계파악\n",
    "sprintf('stringr패키지를 이용한 숫자표현 전처리 결과:')\n",
    "sapply(my_pp_delnum, str_extract_all, pattern = '[[:graph:]]{0,}(-?)([[:digit:]]{1,})(\\\\.?)([[:digit:]]{0,})[[:graph:]]{0,}') %>% \n",
    "    unlist %>% table %>% sort(decreasing = TRUE) %>% print\n",
    "\n",
    "# - 말뭉치를 구성하는 각 문서가 아닌 전체 내용을 통합했을 때 \n",
    "#   검색패턴과 일치하는 숫자출현 실제내용의 빈도수를 내림차순으로 파악한 결과\n",
    "#   각 문서별 모든 숫자표현들이 일괄 삭제되었음을 알 수 있음"
   ]
  },
  {
   "cell_type": "markdown",
   "metadata": {},
   "source": [
    "# <font color = 'blue'>대소문자 통일(Case-insensitive)</font>\n",
    "* 영문 텍스트셋은 대소문자를 구별해서 사용하므로, 이에 대한 적절한 처리가 필요함\n",
    "* 일률적인 소문자로 통일하는 방법 이외에, 여건에 따라 특정한 문구는 대문자나 대소문자 혼용을 유지해야하는 경우도 있음\n",
    "* 한편, 한글텍스트마이닝 분석상황에서는 영어대소문자 문구 자체가 제한적으로 텍스트셋에 들어 있으므로\n",
    "<br>원문표현이 유제되어야 하늩 특수한 경우를 제외하고, 영어단어들을 적절한 한글단어로 변환해 주는 것이 바람직함\n",
    "* 특히, 같은 의미인데, 문서마다 한글단어와 영어단어가 혼용되어 사용될 때는 하나의 표현으로 통일해 주는 것이 더 절실함\n",
    "* 물론, 최종적으로 엔그램까지 분석해서 2개 이상의 영어단어 결합으로 한단어처럼 사용되는 패턴까지 확인해 보고\n",
    "<br> 한글처리를 하는 것이 안전한 방법이 될 것임"
   ]
  },
  {
   "cell_type": "markdown",
   "metadata": {},
   "source": [
    "## 검색패턴을 이용한 텍스트셋 탐색"
   ]
  },
  {
   "cell_type": "markdown",
   "metadata": {},
   "source": [
    "### 대문자 검색패턴 설정"
   ]
  },
  {
   "cell_type": "code",
   "execution_count": 78,
   "metadata": {},
   "outputs": [],
   "source": [
    "# 문서내 대문자가 들어간 문구를 찾는 정규표현식\n",
    "src <- '[[:graph:]]{0,}[[:upper:]]{1,}[[:graph:]]{0,}'\n",
    "\n",
    "# 가운데 [[:upper:]]{1,} ==> 대문자에 해당하는 요소가 1개 이상 들어 있는 패턴검색\n",
    "# 양끝쪽 [[:graph:]]* ==> 대문자 1개이상 있는 패턴 전후로 어떠한 문자가 오는지 패턴검색"
   ]
  },
  {
   "cell_type": "markdown",
   "metadata": {},
   "source": [
    "### 대문자 검색패턴을 통한 텍스트셋 탐색"
   ]
  },
  {
   "cell_type": "markdown",
   "metadata": {},
   "source": [
    "#### 각 문서별 검색패턴 일치내용 파악"
   ]
  },
  {
   "cell_type": "code",
   "execution_count": 79,
   "metadata": {
    "scrolled": true
   },
   "outputs": [
    {
     "data": {
      "text/html": [
       "'말뭉치 문서별 대문자패턴 포함여부를 content항목에서 출현내용으로 파악:'"
      ],
      "text/latex": [
       "'말뭉치 문서별 대문자패턴 포함여부를 content항목에서 출현내용으로 파악:'"
      ],
      "text/markdown": [
       "'말뭉치 문서별 대문자패턴 포함여부를 content항목에서 출현내용으로 파악:'"
      ],
      "text/plain": [
       "[1] \"말뭉치 문서별 대문자패턴 포함여부를 content항목에서 출현내용으로 파악:\""
      ]
     },
     "metadata": {},
     "output_type": "display_data"
    },
    {
     "name": "stdout",
     "output_type": "stream",
     "text": [
      "$kp2004a.txt\n",
      "[1] \"살펴보았다(Kim,\"\n",
      "\n",
      "$kp2005a.txt\n",
      "character(0)\n",
      "\n",
      "$kp2005b.txt\n",
      "[1] \"네트워크(Network)\"\n",
      "\n",
      "$kp2012a.txt\n",
      "[1] \"문화소비자들(Active\" \"Performing-arts\"     \"Consumer)의\"        \n",
      "\n",
      "$kp2012b.txt\n",
      "[1] \"타입-I(type-)\"\n",
      "\n",
      "$kp2013a.txt\n",
      "character(0)\n",
      "\n",
      "$kp2013b.txt\n",
      "[1] \"‘트위터(Twitter)’가\" \"트위터(TWITTER)가\"    \n",
      "\n",
      "$kp2014a.txt\n",
      "[1] \"()LIWC\"\n",
      "\n",
      "$kp2014b.txt\n",
      "[1] \"SNS(Social\" \"Network\"    \"Service)\"   \"SNS\"        \"SNS로\"     \n",
      "[6] \"(SNS에서\"   \"SNS를\"      \"SNS\"       \n",
      "\n",
      "$kp2014c.txt\n",
      "[1] \"인터넷(Internet)을\"\n",
      "\n",
      "$kp2014d.txt\n",
      "[1] \"TV\"                      \"사회인지이론(ㅡBandura,\"\n",
      "[3] \"설득과정모형(ㅡMcGuire,\" \"TV\"                     \n",
      "\n",
      "$kp2016a.txt\n",
      "character(0)\n",
      "\n",
      "$kp2016b.txt\n",
      "character(0)\n",
      "\n",
      "$kp2016c.txt\n",
      "[1] \"내적ㅡHLC,\"   \"전문가ㅡHLC,\" \"운명ㅡHLC의\"  \"HLC\"          \"HLC\"         \n",
      "[6] \"HLC\"         \n",
      "\n",
      "$kp2016d.txt\n",
      "character(0)\n",
      "\n",
      "$kp2016e.txt\n",
      "[1] \"기업의사회적책임(Corporate\" \"Social\"                    \n",
      "[3] \"Responsibility,\"            \"CSR)\"                      \n",
      "[5] \"CSR\"                        \"CSR\"                       \n",
      "[7] \"CSR\"                        \"CSR\"                       \n",
      "[9] \"CSR\"                       \n",
      "\n",
      "$kp2016f.txt\n",
      "[1] \"'소통행위(Communicative\"  \"Action)'의\"              \n",
      "[3] \"\\\"소통행위(Communicative\" \"있었다(Choi\"             \n",
      "[5] \"Bond,\"                   \n",
      "\n",
      "$kp2016g.txt\n",
      "character(0)\n",
      "\n",
      "$kp2016h.txt\n",
      "character(0)\n",
      "\n"
     ]
    }
   ],
   "source": [
    "sprintf('말뭉치 문서별 대문자패턴 포함여부를 content항목에서 출현내용으로 파악:')\n",
    "sapply(my_pp_rmnum, str_extract_all, pattern = src) %>% print\n",
    "# - sapply(my, gregexpr, pattern = src) %>% regmatche s(x = my) %>% print 동일결과\n",
    "# - 검색패턴에 해당하는 대문자표현이 해당 텍스트요소에 들어 있지 않으면 character(0)을 출력함\n",
    "# - 앞서 (공백2칸을 1칸으로) + (숫자표현을 일괄삭제한) 전처리한 my_pp_rmnum 코퍼스객체를 투입함\n",
    "# - 말뭉치를 구성하는 각 문서별로 검색패턴과 일치하는 대문자출현 실제내용을 파악함"
   ]
  },
  {
   "cell_type": "markdown",
   "metadata": {},
   "source": [
    "#### 말뭉치 전체내용 중 검색패턴 일치내용 빈도수 파악"
   ]
  },
  {
   "cell_type": "code",
   "execution_count": 80,
   "metadata": {
    "scrolled": true
   },
   "outputs": [
    {
     "data": {
      "text/html": [
       "'전체 말뭉치에서 대문자패턴 출현내용을 문자순서 기준 정렬:'"
      ],
      "text/latex": [
       "'전체 말뭉치에서 대문자패턴 출현내용을 문자순서 기준 정렬:'"
      ],
      "text/markdown": [
       "'전체 말뭉치에서 대문자패턴 출현내용을 문자순서 기준 정렬:'"
      ],
      "text/plain": [
       "[1] \"전체 말뭉치에서 대문자패턴 출현내용을 문자순서 기준 정렬:\""
      ]
     },
     "metadata": {},
     "output_type": "display_data"
    },
    {
     "name": "stdout",
     "output_type": "stream",
     "text": [
      ".\n",
      "   '소통행위(Communicative    \"소통행위(Communicative \n",
      "                         1                          1 \n",
      "                    ()LIWC                   (SNS에서 \n",
      "                         1                          1 \n",
      "     ‘트위터(Twitter)’가                 Action)'의 \n",
      "                         1                          1 \n",
      "                     Bond,                Consumer)의 \n",
      "                         1                          1 \n",
      "                       CSR                       CSR) \n",
      "                         5                          1 \n",
      "                       HLC                    Network \n",
      "                         3                          1 \n",
      "           Performing-arts            Responsibility, \n",
      "                         1                          1 \n",
      "                  Service)                        SNS \n",
      "                         1                          2 \n",
      "                SNS(Social                      SNS로 \n",
      "                         1                          1 \n",
      "                     SNS를                     Social \n",
      "                         1                          1 \n",
      "                        TV 기업의사회적책임(Corporate \n",
      "                         2                          1 \n",
      "                내적ㅡHLC,          네트워크(Network) \n",
      "                         1                          1 \n",
      "       문화소비자들(Active    사회인지이론(ㅡBandura, \n",
      "                         1                          1 \n",
      "           살펴보았다(Kim,    설득과정모형(ㅡMcGuire, \n",
      "                         1                          1 \n",
      "               운명ㅡHLC의         인터넷(Internet)을 \n",
      "                         1                          1 \n",
      "               있었다(Choi               전문가ㅡHLC, \n",
      "                         1                          1 \n",
      "             타입-I(type-)          트위터(TWITTER)가 \n",
      "                         1                          1 \n"
     ]
    }
   ],
   "source": [
    "sprintf('전체 말뭉치에서 대문자패턴 출현내용을 문자순서 기준 정렬:')\n",
    "sapply(my_pp_rmnum, str_extract_all, pattern = src) %>% \n",
    "    unlist %>% table %>% print\n",
    "# - 말뭉치를 구성하는 각 문서가 아닌 전체 내용을 통합했을 때 \n",
    "#   검색패턴과 일치하는 대문자들의 실제내용을 문자순서를 기준으로 정렬해 파악함"
   ]
  },
  {
   "cell_type": "code",
   "execution_count": 81,
   "metadata": {
    "scrolled": true
   },
   "outputs": [
    {
     "data": {
      "text/html": [
       "'전체 말뭉치에서 대문자패턴 출현내용을 빈도수 기준 내림차순으로 정렬:'"
      ],
      "text/latex": [
       "'전체 말뭉치에서 대문자패턴 출현내용을 빈도수 기준 내림차순으로 정렬:'"
      ],
      "text/markdown": [
       "'전체 말뭉치에서 대문자패턴 출현내용을 빈도수 기준 내림차순으로 정렬:'"
      ],
      "text/plain": [
       "[1] \"전체 말뭉치에서 대문자패턴 출현내용을 빈도수 기준 내림차순으로 정렬:\""
      ]
     },
     "metadata": {},
     "output_type": "display_data"
    },
    {
     "name": "stdout",
     "output_type": "stream",
     "text": [
      ".\n",
      "                       CSR                        HLC \n",
      "                         5                          3 \n",
      "                       SNS                         TV \n",
      "                         2                          2 \n",
      "   '소통행위(Communicative    \"소통행위(Communicative \n",
      "                         1                          1 \n",
      "                    ()LIWC                   (SNS에서 \n",
      "                         1                          1 \n",
      "     ‘트위터(Twitter)’가                 Action)'의 \n",
      "                         1                          1 \n",
      "                     Bond,                Consumer)의 \n",
      "                         1                          1 \n",
      "                      CSR)                    Network \n",
      "                         1                          1 \n",
      "           Performing-arts            Responsibility, \n",
      "                         1                          1 \n",
      "                  Service)                 SNS(Social \n",
      "                         1                          1 \n",
      "                     SNS로                      SNS를 \n",
      "                         1                          1 \n",
      "                    Social 기업의사회적책임(Corporate \n",
      "                         1                          1 \n",
      "                내적ㅡHLC,          네트워크(Network) \n",
      "                         1                          1 \n",
      "       문화소비자들(Active    사회인지이론(ㅡBandura, \n",
      "                         1                          1 \n",
      "           살펴보았다(Kim,    설득과정모형(ㅡMcGuire, \n",
      "                         1                          1 \n",
      "               운명ㅡHLC의         인터넷(Internet)을 \n",
      "                         1                          1 \n",
      "               있었다(Choi               전문가ㅡHLC, \n",
      "                         1                          1 \n",
      "             타입-I(type-)          트위터(TWITTER)가 \n",
      "                         1                          1 \n"
     ]
    }
   ],
   "source": [
    "sprintf('전체 말뭉치에서 대문자패턴 출현내용을 빈도수 기준 내림차순으로 정렬:')\n",
    "sapply(my_pp_rmnum, str_extract_all, pattern = src) %>% \n",
    "    unlist %>% table %>% sort(decreasing = TRUE) %>% print\n",
    "# - 말뭉치를 구성하는 각 문서가 아닌 전체 내용을 통합했을 때 \n",
    "#   검색패턴과 일치하는 실제 대문자내용의 출현빈도수를 기준으로 내림차순으로 정렬해 파악함"
   ]
  },
  {
   "cell_type": "markdown",
   "metadata": {},
   "source": [
    "#### 각 문서별 검색패턴 일치내용을 데이터프레임 구조로 파악"
   ]
  },
  {
   "cell_type": "code",
   "execution_count": 82,
   "metadata": {
    "scrolled": true
   },
   "outputs": [
    {
     "data": {
      "text/plain": [
       ".\n",
       "   '소통행위(Communicative    \"소통행위(Communicative \n",
       "                         1                          1 \n",
       "                    ()LIWC                   (SNS에서 \n",
       "                         1                          1 \n",
       "     ‘트위터(Twitter)’가                 Action)'의 \n",
       "                         1                          1 \n",
       "                     Bond,                Consumer)의 \n",
       "                         1                          1 \n",
       "                       CSR                       CSR) \n",
       "                         5                          1 \n",
       "                       HLC                    Network \n",
       "                         3                          1 \n",
       "           Performing-arts            Responsibility, \n",
       "                         1                          1 \n",
       "                  Service)                        SNS \n",
       "                         1                          2 \n",
       "                SNS(Social                      SNS로 \n",
       "                         1                          1 \n",
       "                     SNS를                     Social \n",
       "                         1                          1 \n",
       "                        TV 기업의사회적책임(Corporate \n",
       "                         2                          1 \n",
       "                내적ㅡHLC,          네트워크(Network) \n",
       "                         1                          1 \n",
       "       문화소비자들(Active    사회인지이론(ㅡBandura, \n",
       "                         1                          1 \n",
       "           살펴보았다(Kim,    설득과정모형(ㅡMcGuire, \n",
       "                         1                          1 \n",
       "               운명ㅡHLC의         인터넷(Internet)을 \n",
       "                         1                          1 \n",
       "               있었다(Choi               전문가ㅡHLC, \n",
       "                         1                          1 \n",
       "             타입-I(type-)          트위터(TWITTER)가 \n",
       "                         1                          1 "
      ]
     },
     "metadata": {},
     "output_type": "display_data"
    }
   ],
   "source": [
    "# 전체 말뭉치에서 대문자패턴 출현내용을 별도의 임시변수에 저장\n",
    "my_pp_tb <- sapply(my_pp_rmnum, str_extract_all, pattern = src) %>% unlist %>% table\n",
    "my_pp_tb"
   ]
  },
  {
   "cell_type": "code",
   "execution_count": 83,
   "metadata": {
    "scrolled": true
   },
   "outputs": [
    {
     "name": "stdout",
     "output_type": "stream",
     "text": [
      "                         term freq\n",
      "1     '소통행위(Communicative    1\n",
      "2     \"소통행위(Communicative    1\n",
      "3                      ()LIWC    1\n",
      "4                    (SNS에서    1\n",
      "5       ‘트위터(Twitter)’가    1\n",
      "6                  Action)'의    1\n",
      "7                       Bond,    1\n",
      "8                 Consumer)의    1\n",
      "9                         CSR    5\n",
      "10                       CSR)    1\n",
      "11                        HLC    3\n",
      "12                    Network    1\n",
      "13            Performing-arts    1\n",
      "14            Responsibility,    1\n",
      "15                   Service)    1\n",
      "16                        SNS    2\n",
      "17                 SNS(Social    1\n",
      "18                      SNS로    1\n",
      "19                      SNS를    1\n",
      "20                     Social    1\n",
      "21                         TV    2\n",
      "22 기업의사회적책임(Corporate    1\n",
      "23                 내적ㅡHLC,    1\n",
      "24          네트워크(Network)    1\n",
      "25        문화소비자들(Active    1\n",
      "26    사회인지이론(ㅡBandura,    1\n",
      "27            살펴보았다(Kim,    1\n",
      "28    설득과정모형(ㅡMcGuire,    1\n",
      "29                운명ㅡHLC의    1\n",
      "30         인터넷(Internet)을    1\n",
      "31                있었다(Choi    1\n",
      "32               전문가ㅡHLC,    1\n",
      "33              타입-I(type-)    1\n",
      "34          트위터(TWITTER)가    1\n"
     ]
    }
   ],
   "source": [
    "# 전체 말뭉치에서 대문자패턴 출현내용을 별도의 데이터프레임 객체로 저장\n",
    "my_pp_df <- data.frame(term = names(my_pp_tb), freq = c(my_pp_tb), row.names = NULL)\n",
    "my_pp_df %>% print"
   ]
  },
  {
   "cell_type": "code",
   "execution_count": 84,
   "metadata": {},
   "outputs": [
    {
     "name": "stdout",
     "output_type": "stream",
     "text": [
      "                         term freq\n",
      "1                         CSR    5\n",
      "2                         HLC    3\n",
      "3                         SNS    2\n",
      "4                          TV    2\n",
      "5     '소통행위(Communicative    1\n",
      "6     \"소통행위(Communicative    1\n",
      "7                      ()LIWC    1\n",
      "8                    (SNS에서    1\n",
      "9       ‘트위터(Twitter)’가    1\n",
      "10                 Action)'의    1\n",
      "11                      Bond,    1\n",
      "12                Consumer)의    1\n",
      "13                       CSR)    1\n",
      "14                    Network    1\n",
      "15            Performing-arts    1\n",
      "16            Responsibility,    1\n",
      "17                   Service)    1\n",
      "18                 SNS(Social    1\n",
      "19                      SNS로    1\n",
      "20                      SNS를    1\n",
      "21                     Social    1\n",
      "22 기업의사회적책임(Corporate    1\n",
      "23                 내적ㅡHLC,    1\n",
      "24          네트워크(Network)    1\n",
      "25        문화소비자들(Active    1\n",
      "26    사회인지이론(ㅡBandura,    1\n",
      "27            살펴보았다(Kim,    1\n",
      "28    설득과정모형(ㅡMcGuire,    1\n",
      "29                운명ㅡHLC의    1\n",
      "30         인터넷(Internet)을    1\n",
      "31                있었다(Choi    1\n",
      "32               전문가ㅡHLC,    1\n",
      "33              타입-I(type-)    1\n",
      "34          트위터(TWITTER)가    1\n"
     ]
    }
   ],
   "source": [
    "# 전체 말뭉치에서 대문자패턴 출현내용을 빈도수를 기준으로 내림차순 정렬\n",
    "my_pp_df %>% dplyr::arrange(desc(freq), term) %>% print"
   ]
  },
  {
   "cell_type": "code",
   "execution_count": 85,
   "metadata": {},
   "outputs": [
    {
     "name": "stdout",
     "output_type": "stream",
     "text": [
      "  term freq\n",
      "1  CSR    5\n"
     ]
    }
   ],
   "source": [
    "# 전체 말뭉치에서 대문자패턴 출현내용을 일정수준 이상의 빈도수를 기준으로 내림차순 정렬\n",
    "my_pp_df %>% arrange(desc(freq), term) %>% filter(freq >= 5) %>% print"
   ]
  },
  {
   "cell_type": "markdown",
   "metadata": {},
   "source": [
    "## 텍스트셋 탐색결과에 따른 전처리 수행\n",
    "* 각 문서별로, 또는 말뭉치 전체적으로 출현한 대문자 포함 문구에 대한 내림차순 정렬결과, 특별한 의미를 가지는 대문자문구는 없는 것으로 나타남\n",
    "* 이에 따라 말뭉치내 각 문서별로 포함되어 있는 대문자 패턴들을 일괄 소문자로 변환하는 것으로 전처리 방향성을 정리함"
   ]
  },
  {
   "cell_type": "markdown",
   "metadata": {},
   "source": [
    "### tm패키지에 일반함수를 이용한 전처리"
   ]
  },
  {
   "cell_type": "code",
   "execution_count": 86,
   "metadata": {},
   "outputs": [
    {
     "data": {
      "text/html": [
       "<ol class=list-inline>\n",
       "\t<li>'VCorpus'</li>\n",
       "\t<li>'Corpus'</li>\n",
       "</ol>\n"
      ],
      "text/latex": [
       "\\begin{enumerate*}\n",
       "\\item 'VCorpus'\n",
       "\\item 'Corpus'\n",
       "\\end{enumerate*}\n"
      ],
      "text/markdown": [
       "1. 'VCorpus'\n",
       "2. 'Corpus'\n",
       "\n",
       "\n"
      ],
      "text/plain": [
       "[1] \"VCorpus\" \"Corpus\" "
      ]
     },
     "metadata": {},
     "output_type": "display_data"
    }
   ],
   "source": [
    "# tm::tm_map()에 속해 있는 전용 전처리 함수가 아니라 일반 전처리 함수를 이용한 방식 \n",
    "# - 이 결과로 코퍼스(말뭉치)객체형식이 유지되어 \n",
    "#   tm패키지 전처리함수 적용을 추가적으로 계속할 수 있음\n",
    "\n",
    "my_pp_tolw <- tm_map(my_pp_rmnum, content_transformer(tolower))\n",
    "# - tolw: to lower alphabet\n",
    "# - 앞서 전처리된 숫자표현 문구를 삭제한 my_pp_rmnum 코퍼스객체를 전처리 대상객체로 입력함\n",
    "# - 코퍼스 각 문서별로 포함되어 있는 대문자를 일괄적으로 소문자로 변환함\n",
    "\n",
    "# - tm_map() 함수를 이용한 전처리 작업시에 자체적으로 제공되는 전처리옵션 이외에 \n",
    "#   R의 다양한 내장/외부함수/사용자정의함수를 통한 전처리를 하려면\n",
    "#   tm_map() 함수 안에 content_fransformer(내외부/사용자정의 함수) 함수를 옵션으로 사용하면 됨\n",
    "\n",
    "class(my_pp_tolw)\n",
    "# - tm패키지 tm_map()에 일반 함수를 사용가능하도록 해주는 content_transformer를 이용했으므로\n",
    "#   전처리결과도 코퍼스(말뭉치) 객체형식을 유지하고 있음"
   ]
  },
  {
   "cell_type": "code",
   "execution_count": 87,
   "metadata": {
    "scrolled": true
   },
   "outputs": [
    {
     "data": {
      "text/html": [
       "'tm패키지를 이용한 대문자 일괄 소문자로 전처리 결과:'"
      ],
      "text/latex": [
       "'tm패키지를 이용한 대문자 일괄 소문자로 전처리 결과:'"
      ],
      "text/markdown": [
       "'tm패키지를 이용한 대문자 일괄 소문자로 전처리 결과:'"
      ],
      "text/plain": [
       "[1] \"tm패키지를 이용한 대문자 일괄 소문자로 전처리 결과:\""
      ]
     },
     "metadata": {},
     "output_type": "display_data"
    },
    {
     "name": "stdout",
     "output_type": "stream",
     "text": [
      "integer(0)\n"
     ]
    }
   ],
   "source": [
    "# 전처리 대상이 제대로 처리되었는지 출현내용 기술통계파악\n",
    "sprintf('tm패키지를 이용한 대문자 일괄 소문자로 전처리 결과:')\n",
    "sapply(my_pp_tolw, str_extract_all, pattern = '[[:graph:]]{0,}[[:upper:]]{1,}[[:graph:]]{0,}') %>% \n",
    "    unlist %>% table %>% sort(decreasing = TRUE) %>% print\n",
    "\n",
    "# - 말뭉치를 구성하는 각 문서가 아닌 전체 내용을 통합해 \n",
    "#   검색패턴과 일치하는 대문자 문구의 빈도수를 내림차순으로 파악한 결과\n",
    "#   각 문서별 대문자 문구들이 일괄 소문자로 변경되었음을 알 수 있음"
   ]
  },
  {
   "cell_type": "markdown",
   "metadata": {},
   "source": [
    "### stringr패키지를 이용한 전처리"
   ]
  },
  {
   "cell_type": "code",
   "execution_count": 88,
   "metadata": {},
   "outputs": [
    {
     "data": {
      "text/html": [
       "'character'"
      ],
      "text/latex": [
       "'character'"
      ],
      "text/markdown": [
       "'character'"
      ],
      "text/plain": [
       "[1] \"character\""
      ]
     },
     "metadata": {},
     "output_type": "display_data"
    }
   ],
   "source": [
    "# stringr::str_replace_all() 함수를 이용한 전처리\n",
    "# - 이 결과로 코퍼스(말뭉치)객체가 문자열객체로 변환되어, \n",
    "#   tm패키지 전처리함수 적용을 하려면 다시 말뭉치객체로 만드는 작업이 필요함\n",
    "\n",
    "my_pp_tosmall <- sapply(my_pp_delnum, str_replace_all, pattern = '[[:upper:]]{1,}', replacement = tolower)\n",
    "# - tomini: to small alphabet\n",
    "# - 앞서 전처리된 숫자표현 문구를 삭제한 my_pp_delnum 코퍼스객체를 전처리 대상객체로 입력함\n",
    "# - tolower함수를 이용해 코퍼스 각 문서별로 포함되어 있는 대문자들을 일괄적으로 소문자로 변경함\n",
    "\n",
    "# (주의!!!)\n",
    "# pattern = '[[:graph:]]*[[:upper:]]{1,}[[:graph:]]* 이 옵션으로 전처리를 하면 문제발생함\n",
    "# ==> 대문자가 사용된 문구와 그 전후로 있는 문자코드를 다같이 소문자 처리하므로 원본데이터에 영향을 미침\n",
    "# pattern = [[:upper:]]{1,} ==> 대문자가 사용된 부문만을 탐색해 전처리할 수 있도록 함\n",
    "\n",
    "class(my_pp_tosmall)\n",
    "# - stringr패키지의 문자열 전처리 함수인 str_replace_all을 이용했으므로 \n",
    "#   전처리결과도 코퍼스(말뭉치) 객체형식이 사라지고 일반 리스트 객체형식으로 변형됨"
   ]
  },
  {
   "cell_type": "code",
   "execution_count": 89,
   "metadata": {
    "scrolled": true
   },
   "outputs": [
    {
     "data": {
      "text/html": [
       "'stringr패키지를 이용한 대문자 일괄 소문자로 전처리 결과:'"
      ],
      "text/latex": [
       "'stringr패키지를 이용한 대문자 일괄 소문자로 전처리 결과:'"
      ],
      "text/markdown": [
       "'stringr패키지를 이용한 대문자 일괄 소문자로 전처리 결과:'"
      ],
      "text/plain": [
       "[1] \"stringr패키지를 이용한 대문자 일괄 소문자로 전처리 결과:\""
      ]
     },
     "metadata": {},
     "output_type": "display_data"
    },
    {
     "name": "stdout",
     "output_type": "stream",
     "text": [
      "integer(0)\n"
     ]
    }
   ],
   "source": [
    "# 전처리 대상이 제대로 처리되었는지 출현내용 기술통계파악\n",
    "sprintf('stringr패키지를 이용한 대문자 일괄 소문자로 전처리 결과:')\n",
    "sapply(my_pp_tosmall, str_extract_all, pattern = '[[:graph:]]{0,}[[:upper:]]{1,}[[:graph:]]{0,}') %>% \n",
    "    unlist %>% table %>% sort(decreasing = TRUE) %>% print\n",
    "\n",
    "# - 말뭉치를 구성하는 각 문서가 아닌 전체 내용을 통합해 \n",
    "#   검색패턴과 일치하는 대문자 문구의 빈도수를 내림차순으로 파악한 결과\n",
    "#   각 문서별 대문자 문구들이 일괄 소문자로 변경되었음을 알 수 있음"
   ]
  },
  {
   "cell_type": "code",
   "execution_count": 90,
   "metadata": {},
   "outputs": [
    {
     "ename": "ERROR",
     "evalue": "Error in save(my, my_pp_tosamll, file = \"./datatm/ymbaek_papers_kor.Rdata\"): object 'my_pp_tosamll' not found\n",
     "output_type": "error",
     "traceback": [
      "Error in save(my, my_pp_tosamll, file = \"./datatm/ymbaek_papers_kor.Rdata\"): object 'my_pp_tosamll' not found\nTraceback:\n",
      "1. save(my, my_pp_tosamll, file = \"./datatm/ymbaek_papers_kor.Rdata\")",
      "2. stop(sprintf(ngettext(n, \"object %s not found\", \"objects %s not found\"), \n .     paste(sQuote(list[!ok]), collapse = \", \")), domain = NA)"
     ]
    }
   ],
   "source": [
    "save(my, my_pp_tosamll, file = './datatm/ymbaek_papers_kor.Rdata')"
   ]
  },
  {
   "cell_type": "markdown",
   "metadata": {},
   "source": [
    "# End of Source"
   ]
  }
 ],
 "metadata": {
  "kernelspec": {
   "display_name": "R",
   "language": "R",
   "name": "ir"
  },
  "language_info": {
   "codemirror_mode": "r",
   "file_extension": ".r",
   "mimetype": "text/x-r-source",
   "name": "R",
   "pygments_lexer": "r",
   "version": "3.5.1"
  },
  "toc": {
   "base_numbering": 1,
   "nav_menu": {
    "height": "259px",
    "width": "160px"
   },
   "number_sections": true,
   "sideBar": true,
   "skip_h1_title": false,
   "title_cell": "Table of Contents",
   "title_sidebar": "Contents",
   "toc_cell": false,
   "toc_position": {
    "height": "calc(100% - 180px)",
    "left": "10px",
    "top": "150px",
    "width": "355px"
   },
   "toc_section_display": true,
   "toc_window_display": false
  },
  "varInspector": {
   "cols": {
    "lenName": 16,
    "lenType": 16,
    "lenVar": 40
   },
   "kernels_config": {
    "python": {
     "delete_cmd_postfix": "",
     "delete_cmd_prefix": "del ",
     "library": "var_list.py",
     "varRefreshCmd": "print(var_dic_list())"
    },
    "r": {
     "delete_cmd_postfix": ") ",
     "delete_cmd_prefix": "rm(",
     "library": "var_list.r",
     "varRefreshCmd": "cat(var_dic_list()) "
    }
   },
   "position": {
    "height": "448px",
    "left": "906px",
    "right": "20px",
    "top": "228px",
    "width": "521px"
   },
   "types_to_exclude": [
    "module",
    "function",
    "builtin_function_or_method",
    "instance",
    "_Feature"
   ],
   "window_display": false
  }
 },
 "nbformat": 4,
 "nbformat_minor": 2
}
