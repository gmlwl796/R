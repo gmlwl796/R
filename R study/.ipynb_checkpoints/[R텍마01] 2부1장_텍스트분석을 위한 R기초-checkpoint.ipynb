{
 "cells": [
  {
   "cell_type": "markdown",
   "metadata": {},
   "source": [
    "# <font color = 'color'>[R텍마01] 2부1장_텍스트분석을 위한 R기초</font>"
   ]
  },
  {
   "cell_type": "markdown",
   "metadata": {},
   "source": [
    "# <font color = 'blue'>벡터 객체(p.30)</font>"
   ]
  },
  {
   "cell_type": "markdown",
   "metadata": {},
   "source": [
    "### 벡터객체 생성"
   ]
  },
  {
   "cell_type": "code",
   "execution_count": 1,
   "metadata": {},
   "outputs": [],
   "source": [
    "a <- c(1, 2, 3, 4, 5)\n",
    "b <- 1:5\n",
    "c <- c(1:3, 4, 'text')"
   ]
  },
  {
   "cell_type": "code",
   "execution_count": 2,
   "metadata": {},
   "outputs": [
    {
     "data": {
      "text/html": [
       "'numeric'"
      ],
      "text/latex": [
       "'numeric'"
      ],
      "text/markdown": [
       "'numeric'"
      ],
      "text/plain": [
       "[1] \"numeric\""
      ]
     },
     "metadata": {},
     "output_type": "display_data"
    },
    {
     "data": {
      "text/html": [
       "'integer'"
      ],
      "text/latex": [
       "'integer'"
      ],
      "text/markdown": [
       "'integer'"
      ],
      "text/plain": [
       "[1] \"integer\""
      ]
     },
     "metadata": {},
     "output_type": "display_data"
    },
    {
     "data": {
      "text/html": [
       "'character'"
      ],
      "text/latex": [
       "'character'"
      ],
      "text/markdown": [
       "'character'"
      ],
      "text/plain": [
       "[1] \"character\""
      ]
     },
     "metadata": {},
     "output_type": "display_data"
    }
   ],
   "source": [
    "class(a)\n",
    "# - c() 함수를 이용해서 실수형 객체로 생성함\n",
    "\n",
    "class(b)\n",
    "# - 콜론(:) 연산자를 이용해 정수형 객체로 생성함\n",
    "\n",
    "class(c)\n",
    "# - c() 함수를 이용해 숫자와 문자 데이터를 입력하면 모두 문자열로 변환됨"
   ]
  },
  {
   "cell_type": "markdown",
   "metadata": {},
   "source": [
    "### 벡터객체 출력"
   ]
  },
  {
   "cell_type": "code",
   "execution_count": 3,
   "metadata": {},
   "outputs": [
    {
     "data": {
      "text/html": [
       "<ol class=list-inline>\n",
       "\t<li>1</li>\n",
       "\t<li>2</li>\n",
       "\t<li>3</li>\n",
       "\t<li>4</li>\n",
       "\t<li>5</li>\n",
       "</ol>\n"
      ],
      "text/latex": [
       "\\begin{enumerate*}\n",
       "\\item 1\n",
       "\\item 2\n",
       "\\item 3\n",
       "\\item 4\n",
       "\\item 5\n",
       "\\end{enumerate*}\n"
      ],
      "text/markdown": [
       "1. 1\n",
       "2. 2\n",
       "3. 3\n",
       "4. 4\n",
       "5. 5\n",
       "\n",
       "\n"
      ],
      "text/plain": [
       "[1] 1 2 3 4 5"
      ]
     },
     "metadata": {},
     "output_type": "display_data"
    },
    {
     "data": {
      "text/html": [
       "<ol class=list-inline>\n",
       "\t<li>1</li>\n",
       "\t<li>2</li>\n",
       "\t<li>3</li>\n",
       "\t<li>4</li>\n",
       "\t<li>5</li>\n",
       "</ol>\n"
      ],
      "text/latex": [
       "\\begin{enumerate*}\n",
       "\\item 1\n",
       "\\item 2\n",
       "\\item 3\n",
       "\\item 4\n",
       "\\item 5\n",
       "\\end{enumerate*}\n"
      ],
      "text/markdown": [
       "1. 1\n",
       "2. 2\n",
       "3. 3\n",
       "4. 4\n",
       "5. 5\n",
       "\n",
       "\n"
      ],
      "text/plain": [
       "[1] 1 2 3 4 5"
      ]
     },
     "metadata": {},
     "output_type": "display_data"
    },
    {
     "data": {
      "text/html": [
       "<ol class=list-inline>\n",
       "\t<li>'1'</li>\n",
       "\t<li>'2'</li>\n",
       "\t<li>'3'</li>\n",
       "\t<li>'4'</li>\n",
       "\t<li>'text'</li>\n",
       "</ol>\n"
      ],
      "text/latex": [
       "\\begin{enumerate*}\n",
       "\\item '1'\n",
       "\\item '2'\n",
       "\\item '3'\n",
       "\\item '4'\n",
       "\\item 'text'\n",
       "\\end{enumerate*}\n"
      ],
      "text/markdown": [
       "1. '1'\n",
       "2. '2'\n",
       "3. '3'\n",
       "4. '4'\n",
       "5. 'text'\n",
       "\n",
       "\n"
      ],
      "text/plain": [
       "[1] \"1\"    \"2\"    \"3\"    \"4\"    \"text\""
      ]
     },
     "metadata": {},
     "output_type": "display_data"
    }
   ],
   "source": [
    "# 해당 객체명을 그대로 사용해 객체내용 출력\n",
    "a\n",
    "b\n",
    "c\n",
    "\n",
    "# - 해당 객체의 내용이 그대로 출력됨"
   ]
  },
  {
   "cell_type": "code",
   "execution_count": 4,
   "metadata": {},
   "outputs": [
    {
     "name": "stdout",
     "output_type": "stream",
     "text": [
      "[1] 1 2 3 4 5\n",
      "[1] 1 2 3 4 5\n",
      "[1] \"1\"    \"2\"    \"3\"    \"4\"    \"text\"\n"
     ]
    }
   ],
   "source": [
    "# 별도의 print() 함수를 이용해 객체내용 출력\n",
    "\n",
    "print(a) # 실수 숫자데이터 출력\n",
    "print(b) # 정수 숫자데이터 출력\n",
    "print(c) # 문자열 데이터 출력\n",
    "\n",
    "# - 대괄호 [1]과 같은 인덱스 번호가 나타남"
   ]
  },
  {
   "cell_type": "markdown",
   "metadata": {},
   "source": [
    "### 벡터객체 인덱싱"
   ]
  },
  {
   "cell_type": "code",
   "execution_count": 5,
   "metadata": {},
   "outputs": [
    {
     "name": "stdout",
     "output_type": "stream",
     "text": [
      "numeric(0)\n",
      "[1] 1\n",
      "[1] 1 2 3\n",
      "[1]  5  1  2  3 NA\n"
     ]
    }
   ],
   "source": [
    "print(a[0])\n",
    "# - a[0]은 인덱스번호가 없으므로 출력되는 결과도 없음, 일종의 NULL 상태임\n",
    "\n",
    "print(a[1])\n",
    "print(a[1:3])\n",
    "# - 객체 a에 들어 있는 문자데이터가 출력됨\n",
    "\n",
    "print(a[c(5, 1:3, 7)])\n",
    "# - 객체 a에 7번째 요소는 없으므로 NA로 출력됨"
   ]
  },
  {
   "cell_type": "code",
   "execution_count": 6,
   "metadata": {},
   "outputs": [
    {
     "name": "stdout",
     "output_type": "stream",
     "text": [
      "character(0)\n",
      "[1] \"1\"\n",
      "[1] \"1\" \"2\" \"3\"\n",
      "[1] \"text\" \"1\"    \"2\"    \"3\"    NA    \n"
     ]
    }
   ],
   "source": [
    "print(c[0])\n",
    "# - c[0]은 인덱스번호가 없으므로 출력되는 결과도 없음, 일종의 NULL 상태임\n",
    "# - R은 0번 인덱스가 존재하지 X -> 1부터 인덱스가 시작된다\n",
    "\n",
    "print(c[1])\n",
    "print(c[1:3])\n",
    "\n",
    "print(c[c(0, 5, 1:3, 7)])\n",
    "# - 객체 c에 0번째 요소는 없으므로 나타나지 않음, 일종의 NULL 상태임\n",
    "# - 객체 c에 7번째 요소는 없으므로 NA로 출력됨"
   ]
  },
  {
   "cell_type": "markdown",
   "metadata": {},
   "source": [
    "# <font color = 'blue'>리스트 객체(p.31)</font>"
   ]
  },
  {
   "cell_type": "markdown",
   "metadata": {},
   "source": [
    "### 리스트객체 생성"
   ]
  },
  {
   "cell_type": "code",
   "execution_count": 7,
   "metadata": {},
   "outputs": [],
   "source": [
    "d <- list(1, 2, 3, 4)\n",
    "e <- list(1:4)\n",
    "f <- list(1:3, 4, 'text')"
   ]
  },
  {
   "cell_type": "code",
   "execution_count": 8,
   "metadata": {},
   "outputs": [
    {
     "data": {
      "text/html": [
       "'list'"
      ],
      "text/latex": [
       "'list'"
      ],
      "text/markdown": [
       "'list'"
      ],
      "text/plain": [
       "[1] \"list\""
      ]
     },
     "metadata": {},
     "output_type": "display_data"
    },
    {
     "data": {
      "text/html": [
       "'list'"
      ],
      "text/latex": [
       "'list'"
      ],
      "text/markdown": [
       "'list'"
      ],
      "text/plain": [
       "[1] \"list\""
      ]
     },
     "metadata": {},
     "output_type": "display_data"
    },
    {
     "data": {
      "text/html": [
       "'list'"
      ],
      "text/latex": [
       "'list'"
      ],
      "text/markdown": [
       "'list'"
      ],
      "text/plain": [
       "[1] \"list\""
      ]
     },
     "metadata": {},
     "output_type": "display_data"
    }
   ],
   "source": [
    "class(d)\n",
    "class(e)\n",
    "class(f)\n",
    "# - list() 함수를 이용해 객체를 생성했으므로 객체형식도 모두 리스트형식임"
   ]
  },
  {
   "cell_type": "markdown",
   "metadata": {},
   "source": [
    "### 리스트객체 출력"
   ]
  },
  {
   "cell_type": "code",
   "execution_count": 9,
   "metadata": {},
   "outputs": [
    {
     "name": "stdout",
     "output_type": "stream",
     "text": [
      "[[1]]\n",
      "[1] 1\n",
      "\n",
      "[[2]]\n",
      "[1] 2\n",
      "\n",
      "[[3]]\n",
      "[1] 3\n",
      "\n",
      "[[4]]\n",
      "[1] 4\n",
      "\n"
     ]
    }
   ],
   "source": [
    "print(d)\n",
    "# - 리스트 객체는 중첩대괄호 기호를 이용해 리스트항목요소를 표현함\n",
    "# - 객체 d에는 리스트항목요소가 4개 있으며, \n",
    "#   각 리스트항목요소마다 세부요소가 1개씩 들어 있는 구조임"
   ]
  },
  {
   "cell_type": "code",
   "execution_count": 10,
   "metadata": {},
   "outputs": [
    {
     "name": "stdout",
     "output_type": "stream",
     "text": [
      "[[1]]\n",
      "[1] 1 2 3 4\n",
      "\n"
     ]
    }
   ],
   "source": [
    "print(e)\n",
    "# - 리스트 객체는 중첩대괄호 기호를 이용해 리스트항목요소를 표현함\n",
    "# - 객체 d에는 리스트항목요소가 1개 있으며, \n",
    "#   세부요소가 4개로 구성되어 있음"
   ]
  },
  {
   "cell_type": "code",
   "execution_count": 11,
   "metadata": {},
   "outputs": [
    {
     "name": "stdout",
     "output_type": "stream",
     "text": [
      "[[1]]\n",
      "[1] 1 2 3\n",
      "\n",
      "[[2]]\n",
      "[1] 4\n",
      "\n",
      "[[3]]\n",
      "[1] \"text\"\n",
      "\n"
     ]
    }
   ],
   "source": [
    "print(f)\n",
    "# - 리스트 객체는 중첩대괄호 기호를 이용해 리스트항목요소를 표현하며,\n",
    "#   객체 f에는 리스트항목요소가 3개 있으며, \n",
    "# - 첫째 리스트항목요소에는 세부적으로 3개 숫자 요소가 있음\n",
    "#   둘재 리스트항목요소에는 세부적으로 1개 숫자 요소가 있음\n",
    "#   셋째 리스트항목요소에는 세부적으로 1개 문자 요소가 있음"
   ]
  },
  {
   "cell_type": "code",
   "execution_count": 12,
   "metadata": {},
   "outputs": [
    {
     "name": "stdout",
     "output_type": "stream",
     "text": [
      "[[1]]\n",
      "[1] 1 2 3\n",
      "\n",
      "[[1]]\n",
      "[1] 4\n",
      "\n",
      "[[1]]\n",
      "[1] \"text\"\n",
      "\n",
      "[[1]]\n",
      "NULL\n",
      "\n"
     ]
    }
   ],
   "source": [
    "print(f[1])\n",
    "print(f[2])\n",
    "print(f[3])\n",
    "print(f[4])\n",
    "# - 리스트객체의 정상적인 인덱싱 방법은 [[]] 중첩대괄호임"
   ]
  },
  {
   "cell_type": "code",
   "execution_count": 13,
   "metadata": {},
   "outputs": [
    {
     "name": "stdout",
     "output_type": "stream",
     "text": [
      "[1] 1 2 3\n",
      "[1] 4\n",
      "[1] \"text\"\n"
     ]
    },
    {
     "ename": "ERROR",
     "evalue": "Error in f[[4]]: 첨자의 허용 범위를 벗어났습니다\n",
     "output_type": "error",
     "traceback": [
      "Error in f[[4]]: 첨자의 허용 범위를 벗어났습니다\nTraceback:\n",
      "1. print(f[[4]])"
     ]
    }
   ],
   "source": [
    "print(f[[1]])\n",
    "print(f[[2]])\n",
    "print(f[[3]])\n",
    "# - 리스트객체의 정상적인 인덱싱 방법은 [[]] 중첩대괄호임\n",
    "\n",
    "print(f[[4]])\n",
    "# - 4번째 리스트항목요소는 없으므로 인덱싱 범위초과로 오류발생"
   ]
  },
  {
   "cell_type": "code",
   "execution_count": 14,
   "metadata": {},
   "outputs": [
    {
     "name": "stdout",
     "output_type": "stream",
     "text": [
      "[1] 1\n",
      "[1] 4\n",
      "[1] \"text\"\n"
     ]
    }
   ],
   "source": [
    "print(f[[1]][1])\n",
    "print(f[[2]][1])\n",
    "print(f[[3]][1])"
   ]
  },
  {
   "cell_type": "code",
   "execution_count": 15,
   "metadata": {},
   "outputs": [
    {
     "name": "stdout",
     "output_type": "stream",
     "text": [
      "[1] 2\n",
      "[1] NA\n",
      "[1] NA\n"
     ]
    }
   ],
   "source": [
    "print(f[[1]][2])\n",
    "\n",
    "print(f[[2]][2])\n",
    "print(f[[3]][2])\n",
    "# - 리스트 요소항목에 속한 세부요소들 중 범위를 벗어난 벡터요소는 NA로 나타남"
   ]
  },
  {
   "cell_type": "markdown",
   "metadata": {},
   "source": [
    "### 리스트객체를 리스트객체 인풋으로 활용"
   ]
  },
  {
   "cell_type": "code",
   "execution_count": 16,
   "metadata": {},
   "outputs": [],
   "source": [
    "g <- list(a, c, f)\n",
    "# - 객체 a와 c는 벡터형식이며, 객체 f는 리스트객체로 인풋을 함\n",
    "\n",
    "h <- list(a, c, f, g)\n",
    "# - 객체 a와 c는 벡터형식이며, 객체 f와 g는 리스트객체로 인풋을 함"
   ]
  },
  {
   "cell_type": "code",
   "execution_count": 17,
   "metadata": {},
   "outputs": [
    {
     "data": {
      "text/html": [
       "'list'"
      ],
      "text/latex": [
       "'list'"
      ],
      "text/markdown": [
       "'list'"
      ],
      "text/plain": [
       "[1] \"list\""
      ]
     },
     "metadata": {},
     "output_type": "display_data"
    },
    {
     "data": {
      "text/html": [
       "'list'"
      ],
      "text/latex": [
       "'list'"
      ],
      "text/markdown": [
       "'list'"
      ],
      "text/plain": [
       "[1] \"list\""
      ]
     },
     "metadata": {},
     "output_type": "display_data"
    }
   ],
   "source": [
    "class(g)\n",
    "class(h)\n",
    "# - list() 함수를 이용해 객체를 생성했으므로 객체형식도 둘 다 리스트형식임"
   ]
  },
  {
   "cell_type": "code",
   "execution_count": 18,
   "metadata": {},
   "outputs": [
    {
     "name": "stdout",
     "output_type": "stream",
     "text": [
      "[[1]]\n",
      "[1] 1 2 3 4 5\n",
      "\n",
      "[[2]]\n",
      "[1] \"1\"    \"2\"    \"3\"    \"4\"    \"text\"\n",
      "\n",
      "[[3]]\n",
      "[[3]][[1]]\n",
      "[1] 1 2 3\n",
      "\n",
      "[[3]][[2]]\n",
      "[1] 4\n",
      "\n",
      "[[3]][[3]]\n",
      "[1] \"text\"\n",
      "\n",
      "\n"
     ]
    }
   ],
   "source": [
    "print(g)\n",
    "# - 리스트 객체는 중첩대괄호 기호를 이용해 리스트항목요소를 표현하며, \n",
    "#   객체 g에는 리스트항목요소가 3개 있음 \n",
    "# - 첫째 리스트항목요소에는 세부적으로 4개 숫자요소가 있음\n",
    "# - 둘째 리스트항목요소에는 세부적으로 5개 문자요소가 있음\n",
    "# - 셋재 리스트항목요소에는 세부적으로 3개 요소가 있는데,\n",
    "#   각각 3개 숫자, 1개 숫자, 1개 문자 요소를 가지고 있음"
   ]
  },
  {
   "cell_type": "code",
   "execution_count": 19,
   "metadata": {
    "scrolled": true
   },
   "outputs": [
    {
     "name": "stdout",
     "output_type": "stream",
     "text": [
      "[[1]]\n",
      "[1] 1 2 3 4 5\n",
      "\n",
      "[[2]]\n",
      "[1] \"1\"    \"2\"    \"3\"    \"4\"    \"text\"\n",
      "\n",
      "[[3]]\n",
      "[[3]][[1]]\n",
      "[1] 1 2 3\n",
      "\n",
      "[[3]][[2]]\n",
      "[1] 4\n",
      "\n",
      "[[3]][[3]]\n",
      "[1] \"text\"\n",
      "\n",
      "\n",
      "[[4]]\n",
      "[[4]][[1]]\n",
      "[1] 1 2 3 4 5\n",
      "\n",
      "[[4]][[2]]\n",
      "[1] \"1\"    \"2\"    \"3\"    \"4\"    \"text\"\n",
      "\n",
      "[[4]][[3]]\n",
      "[[4]][[3]][[1]]\n",
      "[1] 1 2 3\n",
      "\n",
      "[[4]][[3]][[2]]\n",
      "[1] 4\n",
      "\n",
      "[[4]][[3]][[3]]\n",
      "[1] \"text\"\n",
      "\n",
      "\n",
      "\n"
     ]
    }
   ],
   "source": [
    "print(h)\n",
    "# - 리스트 객체는 중첩대괄호 기호를 이용해 리스트항목요소를 표현하며, \n",
    "#   객체 h에는 리스트항목요소가 4개 있음 \n",
    "# - 첫째 리스트항목요소에는 세부적으로 4개 숫자요소가 있음\n",
    "# - 둘째 리스트항목요소에는 세부적으로 5개 문자요소가 있음\n",
    "# - 셋째 리스트항목요소에는 세부적으로 3개 요소가 있는데,\n",
    "#   각각 숫자 3요소, 숫자 1요소, 문자 1요소를 가지고 있음\n",
    "# - 넷째 리스트항목요소에는 세부적으로 3개 요소가 있는데,\n",
    "#   각각 숫자 4요소, 문자 5요소, 복합 3요소로 구성됨"
   ]
  },
  {
   "cell_type": "markdown",
   "metadata": {},
   "source": [
    "### 리스트객체 인덱싱"
   ]
  },
  {
   "cell_type": "markdown",
   "metadata": {},
   "source": [
    "#### h[1] 관련 인덱싱"
   ]
  },
  {
   "cell_type": "code",
   "execution_count": 20,
   "metadata": {},
   "outputs": [
    {
     "name": "stdout",
     "output_type": "stream",
     "text": [
      "[[1]]\n",
      "[1] 1 2 3 4 5\n",
      "\n"
     ]
    }
   ],
   "source": [
    "print(h[1])"
   ]
  },
  {
   "cell_type": "code",
   "execution_count": 21,
   "metadata": {},
   "outputs": [
    {
     "name": "stdout",
     "output_type": "stream",
     "text": [
      "[1] 1 2 3 4 5\n"
     ]
    }
   ],
   "source": [
    "print(h[[1]])"
   ]
  },
  {
   "cell_type": "code",
   "execution_count": 22,
   "metadata": {},
   "outputs": [
    {
     "name": "stdout",
     "output_type": "stream",
     "text": [
      "[1] 2\n"
     ]
    }
   ],
   "source": [
    "print(h[[1]][2])"
   ]
  },
  {
   "cell_type": "markdown",
   "metadata": {},
   "source": [
    "#### h[2] 관련 인덱싱"
   ]
  },
  {
   "cell_type": "code",
   "execution_count": 23,
   "metadata": {},
   "outputs": [
    {
     "name": "stdout",
     "output_type": "stream",
     "text": [
      "[[1]]\n",
      "[1] \"1\"    \"2\"    \"3\"    \"4\"    \"text\"\n",
      "\n"
     ]
    }
   ],
   "source": [
    "print(h[2])"
   ]
  },
  {
   "cell_type": "code",
   "execution_count": 24,
   "metadata": {},
   "outputs": [
    {
     "name": "stdout",
     "output_type": "stream",
     "text": [
      "[1] \"1\"    \"2\"    \"3\"    \"4\"    \"text\"\n"
     ]
    }
   ],
   "source": [
    "print(h[[2]])"
   ]
  },
  {
   "cell_type": "code",
   "execution_count": 25,
   "metadata": {},
   "outputs": [
    {
     "name": "stdout",
     "output_type": "stream",
     "text": [
      "[1] \"text\"\n"
     ]
    }
   ],
   "source": [
    "print(h[[2]][5])"
   ]
  },
  {
   "cell_type": "markdown",
   "metadata": {},
   "source": [
    "#### h[3] 관련 인덱싱"
   ]
  },
  {
   "cell_type": "code",
   "execution_count": 26,
   "metadata": {},
   "outputs": [
    {
     "name": "stdout",
     "output_type": "stream",
     "text": [
      "[[1]]\n",
      "[[1]][[1]]\n",
      "[1] 1 2 3\n",
      "\n",
      "[[1]][[2]]\n",
      "[1] 4\n",
      "\n",
      "[[1]][[3]]\n",
      "[1] \"text\"\n",
      "\n",
      "\n"
     ]
    }
   ],
   "source": [
    "print(h[3])"
   ]
  },
  {
   "cell_type": "code",
   "execution_count": 27,
   "metadata": {
    "scrolled": true
   },
   "outputs": [
    {
     "name": "stdout",
     "output_type": "stream",
     "text": [
      "[[1]]\n",
      "[1] 1 2 3\n",
      "\n",
      "[[2]]\n",
      "[1] 4\n",
      "\n",
      "[[3]]\n",
      "[1] \"text\"\n",
      "\n"
     ]
    }
   ],
   "source": [
    "print(h[[3]])"
   ]
  },
  {
   "cell_type": "code",
   "execution_count": 28,
   "metadata": {},
   "outputs": [
    {
     "name": "stdout",
     "output_type": "stream",
     "text": [
      "[1] 1 2 3\n"
     ]
    }
   ],
   "source": [
    "print(h[[3]][[1]])"
   ]
  },
  {
   "cell_type": "code",
   "execution_count": 29,
   "metadata": {},
   "outputs": [
    {
     "name": "stdout",
     "output_type": "stream",
     "text": [
      "[1] 2\n"
     ]
    }
   ],
   "source": [
    "print(h[[3]][[1]][2])"
   ]
  },
  {
   "cell_type": "markdown",
   "metadata": {},
   "source": [
    "# <font color = 'blue'>리스트 객체의 구조해제: unlist(p.32)</font>"
   ]
  },
  {
   "cell_type": "markdown",
   "metadata": {},
   "source": [
    "### 벡터와 리스트 객체생성"
   ]
  },
  {
   "cell_type": "code",
   "execution_count": 30,
   "metadata": {},
   "outputs": [],
   "source": [
    "my_v <- c(1:6, 'a')\n",
    "my_l <- list(1:6, 'a')"
   ]
  },
  {
   "cell_type": "code",
   "execution_count": 31,
   "metadata": {},
   "outputs": [
    {
     "name": "stdout",
     "output_type": "stream",
     "text": [
      "[1] \"1\" \"2\" \"3\" \"4\" \"5\" \"6\" \"a\"\n"
     ]
    }
   ],
   "source": [
    "print(my_v)\n",
    "# - 숫자와 문자 요소가 혼합입력된 벡터객체인데, 문자열에 우선순위가 있어서\n",
    "#   문자열 벡터 요소로 모두 변환됨"
   ]
  },
  {
   "cell_type": "code",
   "execution_count": 32,
   "metadata": {},
   "outputs": [
    {
     "name": "stdout",
     "output_type": "stream",
     "text": [
      "[[1]]\n",
      "[1] 1 2 3 4 5 6\n",
      "\n",
      "[[2]]\n",
      "[1] \"a\"\n",
      "\n"
     ]
    }
   ],
   "source": [
    "print(my_l)\n",
    "# - 리스트 객체로 첫째 요소는 숫자 6개로 구성되며,\n",
    "#   둘째 요소는 문자 1개로 구성됨"
   ]
  },
  {
   "cell_type": "markdown",
   "metadata": {},
   "source": [
    "### 리스트 객체의 구조를 해제하여 벡터로 만들기"
   ]
  },
  {
   "cell_type": "code",
   "execution_count": 33,
   "metadata": {},
   "outputs": [
    {
     "name": "stdout",
     "output_type": "stream",
     "text": [
      "[1] \"1\" \"2\" \"3\" \"4\" \"5\" \"6\" \"a\"\n"
     ]
    }
   ],
   "source": [
    "my_u <- unlist(my_l)\n",
    "print(my_u)\n",
    "# - 리스트객체에 ulinst() 함수를 적용하면, 리스트객체를 구성하는\n",
    "#   각 리스트항목요소들의 구조가 해제되어 일반적인 벡터형식이 됨"
   ]
  },
  {
   "cell_type": "markdown",
   "metadata": {},
   "source": [
    "### 객체간 요소비교"
   ]
  },
  {
   "cell_type": "code",
   "execution_count": 34,
   "metadata": {},
   "outputs": [
    {
     "name": "stderr",
     "output_type": "stream",
     "text": [
      "Warning message in my_v == my_l:\n",
      "\"두 객체의 길이가 서로 배수관계에 있지 않습니다\""
     ]
    },
    {
     "data": {
      "text/html": [
       "<ol class=list-inline>\n",
       "\t<li>FALSE</li>\n",
       "\t<li>FALSE</li>\n",
       "\t<li>FALSE</li>\n",
       "\t<li>FALSE</li>\n",
       "\t<li>FALSE</li>\n",
       "\t<li>FALSE</li>\n",
       "\t<li>FALSE</li>\n",
       "</ol>\n"
      ],
      "text/latex": [
       "\\begin{enumerate*}\n",
       "\\item FALSE\n",
       "\\item FALSE\n",
       "\\item FALSE\n",
       "\\item FALSE\n",
       "\\item FALSE\n",
       "\\item FALSE\n",
       "\\item FALSE\n",
       "\\end{enumerate*}\n"
      ],
      "text/markdown": [
       "1. FALSE\n",
       "2. FALSE\n",
       "3. FALSE\n",
       "4. FALSE\n",
       "5. FALSE\n",
       "6. FALSE\n",
       "7. FALSE\n",
       "\n",
       "\n"
      ],
      "text/plain": [
       "[1] FALSE FALSE FALSE FALSE FALSE FALSE FALSE"
      ]
     },
     "metadata": {},
     "output_type": "display_data"
    }
   ],
   "source": [
    "my_v == my_l"
   ]
  },
  {
   "cell_type": "code",
   "execution_count": 35,
   "metadata": {
    "scrolled": true
   },
   "outputs": [
    {
     "data": {
      "text/html": [
       "<ol class=list-inline>\n",
       "\t<li>TRUE</li>\n",
       "\t<li>TRUE</li>\n",
       "\t<li>TRUE</li>\n",
       "\t<li>TRUE</li>\n",
       "\t<li>TRUE</li>\n",
       "\t<li>TRUE</li>\n",
       "\t<li>TRUE</li>\n",
       "</ol>\n"
      ],
      "text/latex": [
       "\\begin{enumerate*}\n",
       "\\item TRUE\n",
       "\\item TRUE\n",
       "\\item TRUE\n",
       "\\item TRUE\n",
       "\\item TRUE\n",
       "\\item TRUE\n",
       "\\item TRUE\n",
       "\\end{enumerate*}\n"
      ],
      "text/markdown": [
       "1. TRUE\n",
       "2. TRUE\n",
       "3. TRUE\n",
       "4. TRUE\n",
       "5. TRUE\n",
       "6. TRUE\n",
       "7. TRUE\n",
       "\n",
       "\n"
      ],
      "text/plain": [
       "[1] TRUE TRUE TRUE TRUE TRUE TRUE TRUE"
      ]
     },
     "metadata": {},
     "output_type": "display_data"
    }
   ],
   "source": [
    "my_v == my_u\n",
    "# - 두개 객체간 요소들의 형식이 일치하는지 비교함"
   ]
  },
  {
   "cell_type": "markdown",
   "metadata": {},
   "source": [
    "### 문자열 결합"
   ]
  },
  {
   "cell_type": "code",
   "execution_count": 36,
   "metadata": {},
   "outputs": [],
   "source": [
    "fname <- 'Donald'\n",
    "lname <- 'Trump'"
   ]
  },
  {
   "cell_type": "code",
   "execution_count": 37,
   "metadata": {},
   "outputs": [
    {
     "name": "stdout",
     "output_type": "stream",
     "text": [
      "[1] \"Donald\" \"Trump\" \n"
     ]
    }
   ],
   "source": [
    "name_v <- c(fname, lname)\n",
    "print(name_v)"
   ]
  },
  {
   "cell_type": "code",
   "execution_count": 38,
   "metadata": {},
   "outputs": [
    {
     "name": "stdout",
     "output_type": "stream",
     "text": [
      "[1] \"Donald Trump\"\n"
     ]
    }
   ],
   "source": [
    "full_name <- paste(fname, lname)\n",
    "print(full_name)"
   ]
  },
  {
   "cell_type": "code",
   "execution_count": 39,
   "metadata": {},
   "outputs": [
    {
     "name": "stdout",
     "output_type": "stream",
     "text": [
      "[[1]]\n",
      "[1] \"Donald\"\n",
      "\n",
      "[[2]]\n",
      "[1] \"Trump\"\n",
      "\n"
     ]
    }
   ],
   "source": [
    "name_l <- list(fname, lname)\n",
    "print(name_l)"
   ]
  },
  {
   "cell_type": "code",
   "execution_count": 40,
   "metadata": {},
   "outputs": [
    {
     "name": "stdout",
     "output_type": "stream",
     "text": [
      "[1] \"Donald\" \"Trump\" \n"
     ]
    }
   ],
   "source": [
    "detail_name <- unlist(name_l)\n",
    "print(detail_name)"
   ]
  },
  {
   "cell_type": "markdown",
   "metadata": {},
   "source": [
    "# <font color = 'blue'>객체의 속성 입력과 출력: attr() (p.34)</font>"
   ]
  },
  {
   "cell_type": "markdown",
   "metadata": {},
   "source": [
    "### 문자열 변수의 속성입력과 출력"
   ]
  },
  {
   "cell_type": "markdown",
   "metadata": {},
   "source": [
    "#### 문자변수 기본생성 및 내용조회"
   ]
  },
  {
   "cell_type": "code",
   "execution_count": 41,
   "metadata": {},
   "outputs": [],
   "source": [
    "# 문자열 변수 예시 생성\n",
    "name <- c('갑돌이', '을순이', '병렬이', '정렬이')"
   ]
  },
  {
   "cell_type": "code",
   "execution_count": 42,
   "metadata": {},
   "outputs": [
    {
     "data": {
      "text/html": [
       "<ol class=list-inline>\n",
       "\t<li>'갑돌이'</li>\n",
       "\t<li>'을순이'</li>\n",
       "\t<li>'병렬이'</li>\n",
       "\t<li>'정렬이'</li>\n",
       "</ol>\n"
      ],
      "text/latex": [
       "\\begin{enumerate*}\n",
       "\\item '갑돌이'\n",
       "\\item '을순이'\n",
       "\\item '병렬이'\n",
       "\\item '정렬이'\n",
       "\\end{enumerate*}\n"
      ],
      "text/markdown": [
       "1. '갑돌이'\n",
       "2. '을순이'\n",
       "3. '병렬이'\n",
       "4. '정렬이'\n",
       "\n",
       "\n"
      ],
      "text/plain": [
       "[1] \"갑돌이\" \"을순이\" \"병렬이\" \"정렬이\""
      ]
     },
     "metadata": {},
     "output_type": "display_data"
    },
    {
     "name": "stdout",
     "output_type": "stream",
     "text": [
      "[1] \"갑돌이\" \"을순이\" \"병렬이\" \"정렬이\"\n"
     ]
    }
   ],
   "source": [
    "# 문자열 변수 출력\n",
    "name\n",
    "print(name)"
   ]
  },
  {
   "cell_type": "code",
   "execution_count": 43,
   "metadata": {
    "scrolled": true
   },
   "outputs": [
    {
     "name": "stdout",
     "output_type": "stream",
     "text": [
      " chr [1:4] \"갑돌이\" \"을순이\" \"병렬이\" \"정렬이\"\n"
     ]
    }
   ],
   "source": [
    "str(name)\n",
    "# - 객체구조는 문자열(chr) 데이터로 나타남"
   ]
  },
  {
   "cell_type": "markdown",
   "metadata": {},
   "source": [
    "#### 문자변수에 속성입력"
   ]
  },
  {
   "cell_type": "code",
   "execution_count": 44,
   "metadata": {},
   "outputs": [],
   "source": [
    "# 문자열 변수에 속성명(메타데이터, 코딩북)과 속성값 입력\n",
    "attr(name, 'name변수 의미') <- '응답자 이름'\n",
    "\n",
    "# - name변수 의미: 속성\n",
    "# - 응답자 이름: 속성값(변수설명)"
   ]
  },
  {
   "cell_type": "code",
   "execution_count": 45,
   "metadata": {},
   "outputs": [
    {
     "data": {
      "text/html": [
       "<ol class=list-inline>\n",
       "\t<li>'갑돌이'</li>\n",
       "\t<li>'을순이'</li>\n",
       "\t<li>'병렬이'</li>\n",
       "\t<li>'정렬이'</li>\n",
       "</ol>\n"
      ],
      "text/latex": [
       "\\begin{enumerate*}\n",
       "\\item '갑돌이'\n",
       "\\item '을순이'\n",
       "\\item '병렬이'\n",
       "\\item '정렬이'\n",
       "\\end{enumerate*}\n"
      ],
      "text/markdown": [
       "1. '갑돌이'\n",
       "2. '을순이'\n",
       "3. '병렬이'\n",
       "4. '정렬이'\n",
       "\n",
       "\n"
      ],
      "text/plain": [
       "[1] \"갑돌이\" \"을순이\" \"병렬이\" \"정렬이\"\n",
       "attr(,\"name변수 의미\")\n",
       "[1] \"응답자 이름\""
      ]
     },
     "metadata": {},
     "output_type": "display_data"
    },
    {
     "name": "stdout",
     "output_type": "stream",
     "text": [
      "[1] \"갑돌이\" \"을순이\" \"병렬이\" \"정렬이\"\n",
      "attr(,\"name변수 의미\")\n",
      "[1] \"응답자 이름\"\n"
     ]
    }
   ],
   "source": [
    "# 문자열 변수출력\n",
    "\n",
    "name\n",
    "# - 해당 변수의 내용만 출력\n",
    "\n",
    "print(name)\n",
    "# - 해당 변수의 내용과 속성이 같이 출력됨"
   ]
  },
  {
   "cell_type": "code",
   "execution_count": 46,
   "metadata": {},
   "outputs": [
    {
     "name": "stdout",
     "output_type": "stream",
     "text": [
      " chr [1:4] \"갑돌이\" \"을순이\" \"병렬이\" \"정렬이\"\n",
      " - attr(*, \"name변수 의미\")= chr \"응답자 이름\"\n"
     ]
    }
   ],
   "source": [
    "str(name)\n",
    "# - 객체구조에 문자열(chr) 데이터 내용 이외에\n",
    "# - 속성명(attr)과 속성값(변수설명) 내용이 같이 나타남"
   ]
  },
  {
   "cell_type": "markdown",
   "metadata": {},
   "source": [
    "#### 문자변수 속성 출력"
   ]
  },
  {
   "cell_type": "code",
   "execution_count": 47,
   "metadata": {
    "scrolled": true
   },
   "outputs": [
    {
     "data": {
      "text/html": [
       "'응답자 이름'"
      ],
      "text/latex": [
       "'응답자 이름'"
      ],
      "text/markdown": [
       "'응답자 이름'"
      ],
      "text/plain": [
       "[1] \"응답자 이름\""
      ]
     },
     "metadata": {},
     "output_type": "display_data"
    }
   ],
   "source": [
    "attr(name, 'name변수 의미')\n",
    "# - 해당변수에 입력한 속성명으로 속성값(변수설명) 내용을 출력함"
   ]
  },
  {
   "cell_type": "markdown",
   "metadata": {},
   "source": [
    "### 숫자 변수의 속성입력과 출력"
   ]
  },
  {
   "cell_type": "markdown",
   "metadata": {},
   "source": [
    "#### 숫자변수 기본생성 및 내용조회"
   ]
  },
  {
   "cell_type": "code",
   "execution_count": 48,
   "metadata": {},
   "outputs": [],
   "source": [
    "# 숫자 변수 예시 생성\n",
    "gender <- c(2, 1, 1, 2)"
   ]
  },
  {
   "cell_type": "code",
   "execution_count": 49,
   "metadata": {},
   "outputs": [
    {
     "data": {
      "text/html": [
       "<ol class=list-inline>\n",
       "\t<li>2</li>\n",
       "\t<li>1</li>\n",
       "\t<li>1</li>\n",
       "\t<li>2</li>\n",
       "</ol>\n"
      ],
      "text/latex": [
       "\\begin{enumerate*}\n",
       "\\item 2\n",
       "\\item 1\n",
       "\\item 1\n",
       "\\item 2\n",
       "\\end{enumerate*}\n"
      ],
      "text/markdown": [
       "1. 2\n",
       "2. 1\n",
       "3. 1\n",
       "4. 2\n",
       "\n",
       "\n"
      ],
      "text/plain": [
       "[1] 2 1 1 2"
      ]
     },
     "metadata": {},
     "output_type": "display_data"
    },
    {
     "name": "stdout",
     "output_type": "stream",
     "text": [
      "[1] 2 1 1 2\n"
     ]
    }
   ],
   "source": [
    "# 숫자 변수 출력\n",
    "gender\n",
    "print(gender)"
   ]
  },
  {
   "cell_type": "code",
   "execution_count": 50,
   "metadata": {
    "scrolled": true
   },
   "outputs": [
    {
     "name": "stdout",
     "output_type": "stream",
     "text": [
      " num [1:4] 2 1 1 2\n"
     ]
    }
   ],
   "source": [
    "str(gender)\n",
    "# - 객체구조는 실수형(num) 데이터로 나타남"
   ]
  },
  {
   "cell_type": "markdown",
   "metadata": {},
   "source": [
    "#### 숫자변수에 속성입력"
   ]
  },
  {
   "cell_type": "code",
   "execution_count": 51,
   "metadata": {},
   "outputs": [],
   "source": [
    "# 숫자 변수에 속성명(메타데이터, 코딩북)과 속성값 입력\n",
    "attr(gender, 'gender변수 의미') <- '응답자 성별'\n",
    "\n",
    "# - gender변수 의미: 속성명\n",
    "# - 응답자 성별: 속성값(변수설명)"
   ]
  },
  {
   "cell_type": "code",
   "execution_count": 52,
   "metadata": {},
   "outputs": [
    {
     "data": {
      "text/html": [
       "<ol class=list-inline>\n",
       "\t<li>2</li>\n",
       "\t<li>1</li>\n",
       "\t<li>1</li>\n",
       "\t<li>2</li>\n",
       "</ol>\n"
      ],
      "text/latex": [
       "\\begin{enumerate*}\n",
       "\\item 2\n",
       "\\item 1\n",
       "\\item 1\n",
       "\\item 2\n",
       "\\end{enumerate*}\n"
      ],
      "text/markdown": [
       "1. 2\n",
       "2. 1\n",
       "3. 1\n",
       "4. 2\n",
       "\n",
       "\n"
      ],
      "text/plain": [
       "[1] 2 1 1 2\n",
       "attr(,\"gender변수 의미\")\n",
       "[1] \"응답자 성별\""
      ]
     },
     "metadata": {},
     "output_type": "display_data"
    },
    {
     "name": "stdout",
     "output_type": "stream",
     "text": [
      "[1] 2 1 1 2\n",
      "attr(,\"gender변수 의미\")\n",
      "[1] \"응답자 성별\"\n"
     ]
    }
   ],
   "source": [
    "# 숫자 변수출력\n",
    "\n",
    "gender\n",
    "# - 해당 변수의 내용만 출력\n",
    "\n",
    "print(gender)\n",
    "# - 해당 변수의 내용과 속성이 같이 출력됨"
   ]
  },
  {
   "cell_type": "code",
   "execution_count": 53,
   "metadata": {},
   "outputs": [
    {
     "name": "stdout",
     "output_type": "stream",
     "text": [
      " num [1:4] 2 1 1 2\n",
      " - attr(*, \"gender변수 의미\")= chr \"응답자 성별\"\n"
     ]
    }
   ],
   "source": [
    "str(gender)\n",
    "# - 객체구조에 실수형(num) 데이터 내용 이외에\n",
    "# - 속성명(attr)과 속성값(변수설명) 내용이 같이 나타남"
   ]
  },
  {
   "cell_type": "markdown",
   "metadata": {},
   "source": [
    "#### 숫자변수 속성 출력"
   ]
  },
  {
   "cell_type": "code",
   "execution_count": 54,
   "metadata": {
    "scrolled": true
   },
   "outputs": [
    {
     "data": {
      "text/html": [
       "'응답자 성별'"
      ],
      "text/latex": [
       "'응답자 성별'"
      ],
      "text/markdown": [
       "'응답자 성별'"
      ],
      "text/plain": [
       "[1] \"응답자 성별\""
      ]
     },
     "metadata": {},
     "output_type": "display_data"
    }
   ],
   "source": [
    "attr(gender, 'gender변수 의미')\n",
    "# - 해당변수에 입력한 속성명으로 속성값(변수설명) 내용을 출력함"
   ]
  },
  {
   "cell_type": "markdown",
   "metadata": {},
   "source": [
    "#### 숫자변수에 추가 속성입력"
   ]
  },
  {
   "cell_type": "code",
   "execution_count": 55,
   "metadata": {},
   "outputs": [],
   "source": [
    "# 추가적인 속성명과 속성값을 입력 \n",
    "attr(gender, 'gender변수 숫자의미') <- '응답자 숫자성별'"
   ]
  },
  {
   "cell_type": "code",
   "execution_count": 56,
   "metadata": {},
   "outputs": [
    {
     "name": "stdout",
     "output_type": "stream",
     "text": [
      "[1] 2 1 1 2\n",
      "attr(,\"gender변수 의미\")\n",
      "[1] \"응답자 성별\"\n",
      "attr(,\"gender변수 숫자의미\")\n",
      "[1] \"응답자 숫자성별\"\n"
     ]
    }
   ],
   "source": [
    "print(gender)\n",
    "# - 해당 변수 출력을 해보면, 기존의 속성명과 속성값 이외에\n",
    "#   추가로 입력한 속성명과 속성값이 같이 출력됨"
   ]
  },
  {
   "cell_type": "code",
   "execution_count": 57,
   "metadata": {},
   "outputs": [
    {
     "name": "stdout",
     "output_type": "stream",
     "text": [
      " num [1:4] 2 1 1 2\n",
      " - attr(*, \"gender변수 의미\")= chr \"응답자 성별\"\n",
      " - attr(*, \"gender변수 숫자의미\")= chr \"응답자 숫자성별\"\n"
     ]
    }
   ],
   "source": [
    "str(gender)\n",
    "# - 내부구조를 조회해 보면, 기존의 속성명과 속성값 이외에\n",
    "#   추가로 입력한 속성명과 속성값이 같이 출력됨"
   ]
  },
  {
   "cell_type": "markdown",
   "metadata": {},
   "source": [
    "#### 숫자변수 속성 출력"
   ]
  },
  {
   "cell_type": "code",
   "execution_count": 58,
   "metadata": {
    "scrolled": true
   },
   "outputs": [
    {
     "data": {
      "text/html": [
       "'응답자 성별'"
      ],
      "text/latex": [
       "'응답자 성별'"
      ],
      "text/markdown": [
       "'응답자 성별'"
      ],
      "text/plain": [
       "[1] \"응답자 성별\""
      ]
     },
     "metadata": {},
     "output_type": "display_data"
    }
   ],
   "source": [
    "attr(gender, 'gender변수 의미')\n",
    "# - 해당변수에 입력한 속성명으로 속성값(변수설명) 내용을 출력함"
   ]
  },
  {
   "cell_type": "code",
   "execution_count": 59,
   "metadata": {
    "scrolled": true
   },
   "outputs": [
    {
     "data": {
      "text/html": [
       "'응답자 숫자성별'"
      ],
      "text/latex": [
       "'응답자 숫자성별'"
      ],
      "text/markdown": [
       "'응답자 숫자성별'"
      ],
      "text/plain": [
       "[1] \"응답자 숫자성별\""
      ]
     },
     "metadata": {},
     "output_type": "display_data"
    }
   ],
   "source": [
    "attr(gender, 'gender변수 숫자의미')\n",
    "# - 해당변수에 입력한 속성명으로 속성값(변수설명) 내용을 출력함"
   ]
  },
  {
   "cell_type": "markdown",
   "metadata": {},
   "source": [
    "#### 숫자변수 데이터를 문자열로 변환"
   ]
  },
  {
   "cell_type": "code",
   "execution_count": 60,
   "metadata": {},
   "outputs": [
    {
     "name": "stdout",
     "output_type": "stream",
     "text": [
      "[1] \"여성\" \"남성\" \"남성\" \"여성\"\n"
     ]
    }
   ],
   "source": [
    "# 성별 숫자를 문자로 변환한 값을 저장할 텅빈 벡터객체 생성\n",
    "gender_chr <- c()\n",
    "\n",
    "# for반복 구문을 이용한 숫자성별을 문자성별로 변환\n",
    "for (i in 1:length(gender)) {\n",
    "    if (gender[i] == 1) {\n",
    "        gender_chr[i] <- '남성'\n",
    "    }\n",
    "    else {\n",
    "        gender_chr[i] <- '여성'\n",
    "    }     \n",
    "}\n",
    "\n",
    "print(gender_chr)"
   ]
  },
  {
   "cell_type": "code",
   "execution_count": 61,
   "metadata": {},
   "outputs": [
    {
     "name": "stdout",
     "output_type": "stream",
     "text": [
      "[1] \"여성\" \"남성\" \"남성\" \"여성\"\n"
     ]
    }
   ],
   "source": [
    "# ifelse() 벡터함수를 이용한 숫자성별을 문자성별로 변환\n",
    "gender_chr <- ifelse (gender == 1, '남성', '여성')\n",
    "\n",
    "print(gender_chr)"
   ]
  },
  {
   "cell_type": "markdown",
   "metadata": {},
   "source": [
    "#### 숫자변수에 문자성별을 추가속성으로 입력"
   ]
  },
  {
   "cell_type": "code",
   "execution_count": 62,
   "metadata": {},
   "outputs": [],
   "source": [
    "# 추가적인 속성명과 속성값을 입력 \n",
    "attr(gender, 'gender변수 문자성별') <- gender_chr"
   ]
  },
  {
   "cell_type": "code",
   "execution_count": 63,
   "metadata": {},
   "outputs": [
    {
     "name": "stdout",
     "output_type": "stream",
     "text": [
      "[1] 2 1 1 2\n",
      "attr(,\"gender변수 의미\")\n",
      "[1] \"응답자 성별\"\n",
      "attr(,\"gender변수 숫자의미\")\n",
      "[1] \"응답자 숫자성별\"\n",
      "attr(,\"gender변수 문자성별\")\n",
      "[1] \"여성\" \"남성\" \"남성\" \"여성\"\n"
     ]
    }
   ],
   "source": [
    "print(gender)\n",
    "# - 해당 변수 출력을 해보면, 기존의 속성명과 속성값 이외에\n",
    "#   추가로 입력한 속성명과 속성값이 같이 출력됨"
   ]
  },
  {
   "cell_type": "code",
   "execution_count": 64,
   "metadata": {},
   "outputs": [
    {
     "name": "stdout",
     "output_type": "stream",
     "text": [
      " num [1:4] 2 1 1 2\n",
      " - attr(*, \"gender변수 의미\")= chr \"응답자 성별\"\n",
      " - attr(*, \"gender변수 숫자의미\")= chr \"응답자 숫자성별\"\n",
      " - attr(*, \"gender변수 문자성별\")= chr [1:4] \"여성\" \"남성\" \"남성\" \"여성\"\n"
     ]
    }
   ],
   "source": [
    "str(gender)\n",
    "# - 내부구조를 조회해 보면, 기존의 속성명과 속성값 이외에\n",
    "#   추가로 입력한 속성명과 속성값이 같이 출력됨"
   ]
  },
  {
   "cell_type": "code",
   "execution_count": 65,
   "metadata": {
    "scrolled": true
   },
   "outputs": [
    {
     "data": {
      "text/html": [
       "'응답자 성별'"
      ],
      "text/latex": [
       "'응답자 성별'"
      ],
      "text/markdown": [
       "'응답자 성별'"
      ],
      "text/plain": [
       "[1] \"응답자 성별\""
      ]
     },
     "metadata": {},
     "output_type": "display_data"
    }
   ],
   "source": [
    "attr(gender, 'gender변수 의미')\n",
    "# - 해당변수에 입력한 속성명으로 속성값(변수설명) 내용을 출력함"
   ]
  },
  {
   "cell_type": "code",
   "execution_count": 66,
   "metadata": {
    "scrolled": true
   },
   "outputs": [
    {
     "data": {
      "text/html": [
       "'응답자 숫자성별'"
      ],
      "text/latex": [
       "'응답자 숫자성별'"
      ],
      "text/markdown": [
       "'응답자 숫자성별'"
      ],
      "text/plain": [
       "[1] \"응답자 숫자성별\""
      ]
     },
     "metadata": {},
     "output_type": "display_data"
    }
   ],
   "source": [
    "attr(gender, 'gender변수 숫자의미')\n",
    "# - 해당변수에 입력한 속성명으로 속성값(변수설명) 내용을 출력함"
   ]
  },
  {
   "cell_type": "code",
   "execution_count": 67,
   "metadata": {
    "scrolled": true
   },
   "outputs": [
    {
     "data": {
      "text/html": [
       "<ol class=list-inline>\n",
       "\t<li>'여성'</li>\n",
       "\t<li>'남성'</li>\n",
       "\t<li>'남성'</li>\n",
       "\t<li>'여성'</li>\n",
       "</ol>\n"
      ],
      "text/latex": [
       "\\begin{enumerate*}\n",
       "\\item '여성'\n",
       "\\item '남성'\n",
       "\\item '남성'\n",
       "\\item '여성'\n",
       "\\end{enumerate*}\n"
      ],
      "text/markdown": [
       "1. '여성'\n",
       "2. '남성'\n",
       "3. '남성'\n",
       "4. '여성'\n",
       "\n",
       "\n"
      ],
      "text/plain": [
       "[1] \"여성\" \"남성\" \"남성\" \"여성\""
      ]
     },
     "metadata": {},
     "output_type": "display_data"
    }
   ],
   "source": [
    "attr(gender, 'gender변수 문자성별')\n",
    "# - 해당변수에 입력한 속성명으로 속성값(변수설명) 내용을 출력함"
   ]
  },
  {
   "cell_type": "markdown",
   "metadata": {},
   "source": [
    "### 데이터프레임으로 결합"
   ]
  },
  {
   "cell_type": "code",
   "execution_count": 68,
   "metadata": {},
   "outputs": [],
   "source": [
    "my <- data.frame(name, gender, stringsAsFactors = FALSE)"
   ]
  },
  {
   "cell_type": "code",
   "execution_count": 69,
   "metadata": {},
   "outputs": [
    {
     "name": "stdout",
     "output_type": "stream",
     "text": [
      "    name gender\n",
      "1 갑돌이      2\n",
      "2 을순이      1\n",
      "3 병렬이      1\n",
      "4 정렬이      2\n"
     ]
    }
   ],
   "source": [
    "print(my)"
   ]
  },
  {
   "cell_type": "code",
   "execution_count": 70,
   "metadata": {},
   "outputs": [
    {
     "name": "stdout",
     "output_type": "stream",
     "text": [
      "'data.frame':\t4 obs. of  2 variables:\n",
      " $ name  : chr  \"갑돌이\" \"을순이\" \"병렬이\" \"정렬이\"\n",
      "  ..- attr(*, \"name변수 의미\")= chr \"응답자 이름\"\n",
      " $ gender: num  2 1 1 2\n",
      "  ..- attr(*, \"gender변수 의미\")= chr \"응답자 성별\"\n",
      "  ..- attr(*, \"gender변수 숫자의미\")= chr \"응답자 숫자성별\"\n",
      "  ..- attr(*, \"gender변수 문자성별\")= chr  \"여성\" \"남성\" \"남성\" \"여성\"\n"
     ]
    }
   ],
   "source": [
    "str(my)\n",
    "# - 기존 개별변수의 속성명과 속성값이 내부구조에 같이 보임"
   ]
  },
  {
   "cell_type": "code",
   "execution_count": 71,
   "metadata": {},
   "outputs": [
    {
     "data": {
      "text/html": [
       "<ol class=list-inline>\n",
       "\t<li>'갑돌이'</li>\n",
       "\t<li>'을순이'</li>\n",
       "\t<li>'병렬이'</li>\n",
       "\t<li>'정렬이'</li>\n",
       "</ol>\n"
      ],
      "text/latex": [
       "\\begin{enumerate*}\n",
       "\\item '갑돌이'\n",
       "\\item '을순이'\n",
       "\\item '병렬이'\n",
       "\\item '정렬이'\n",
       "\\end{enumerate*}\n"
      ],
      "text/markdown": [
       "1. '갑돌이'\n",
       "2. '을순이'\n",
       "3. '병렬이'\n",
       "4. '정렬이'\n",
       "\n",
       "\n"
      ],
      "text/plain": [
       "[1] \"갑돌이\" \"을순이\" \"병렬이\" \"정렬이\"\n",
       "attr(,\"name변수 의미\")\n",
       "[1] \"응답자 이름\""
      ]
     },
     "metadata": {},
     "output_type": "display_data"
    },
    {
     "name": "stdout",
     "output_type": "stream",
     "text": [
      "[1] \"갑돌이\" \"을순이\" \"병렬이\" \"정렬이\"\n",
      "attr(,\"name변수 의미\")\n",
      "[1] \"응답자 이름\"\n"
     ]
    }
   ],
   "source": [
    "my$name\n",
    "print(my$name)"
   ]
  },
  {
   "cell_type": "code",
   "execution_count": 72,
   "metadata": {},
   "outputs": [
    {
     "data": {
      "text/html": [
       "<ol class=list-inline>\n",
       "\t<li>2</li>\n",
       "\t<li>1</li>\n",
       "\t<li>1</li>\n",
       "\t<li>2</li>\n",
       "</ol>\n"
      ],
      "text/latex": [
       "\\begin{enumerate*}\n",
       "\\item 2\n",
       "\\item 1\n",
       "\\item 1\n",
       "\\item 2\n",
       "\\end{enumerate*}\n"
      ],
      "text/markdown": [
       "1. 2\n",
       "2. 1\n",
       "3. 1\n",
       "4. 2\n",
       "\n",
       "\n"
      ],
      "text/plain": [
       "[1] 2 1 1 2\n",
       "attr(,\"gender변수 의미\")\n",
       "[1] \"응답자 성별\"\n",
       "attr(,\"gender변수 숫자의미\")\n",
       "[1] \"응답자 숫자성별\"\n",
       "attr(,\"gender변수 문자성별\")\n",
       "[1] \"여성\" \"남성\" \"남성\" \"여성\""
      ]
     },
     "metadata": {},
     "output_type": "display_data"
    },
    {
     "name": "stdout",
     "output_type": "stream",
     "text": [
      "[1] 2 1 1 2\n",
      "attr(,\"gender변수 의미\")\n",
      "[1] \"응답자 성별\"\n",
      "attr(,\"gender변수 숫자의미\")\n",
      "[1] \"응답자 숫자성별\"\n",
      "attr(,\"gender변수 문자성별\")\n",
      "[1] \"여성\" \"남성\" \"남성\" \"여성\"\n"
     ]
    }
   ],
   "source": [
    "my$gender\n",
    "print(my$gender)"
   ]
  },
  {
   "cell_type": "markdown",
   "metadata": {},
   "source": [
    "# End of Source"
   ]
  }
 ],
 "metadata": {
  "kernelspec": {
   "display_name": "R",
   "language": "R",
   "name": "ir"
  },
  "language_info": {
   "codemirror_mode": "r",
   "file_extension": ".r",
   "mimetype": "text/x-r-source",
   "name": "R",
   "pygments_lexer": "r",
   "version": "3.5.1"
  }
 },
 "nbformat": 4,
 "nbformat_minor": 2
}
