{
 "cells": [
  {
   "cell_type": "markdown",
   "metadata": {},
   "source": [
    "# <font color = 'color'>[R텍마02] 2부1장_텍스트분석을 위한 데이터순환 관련함수</font>"
   ]
  },
  {
   "cell_type": "markdown",
   "metadata": {},
   "source": [
    "### 데이터 순환사용(recycling); 벡터연산(vector broadcasting)\n",
    "* 데이터셋에 들어 있는 요소항목별로 필요한 함수를 일괄적용하는 방법"
   ]
  },
  {
   "cell_type": "markdown",
   "metadata": {},
   "source": [
    "* base 패키지의 apply() 계열 함수\n",
    "<br>- apply(), lappy(), sapply(), tapply()<pre></pre>\n",
    "\n",
    "* purrr 패키지의 map() 계열 함수\n",
    "<br>- map(), map_dbl(), map_int(), map_df(), map_chr(), map_lgl(), map_if()  "
   ]
  },
  {
   "cell_type": "markdown",
   "metadata": {},
   "source": [
    "# <font color = 'blue'>apply() 함수(p.36)</font>\n",
    "* 가로/세로 구조를 가진 행렬이나 데이터프레임 형식을 가진 데이터셋에 대해 \n",
    "<br>가로방향(행/레코드/관찰치 단위)으로, 또는 세로방향(열/변수컬럼/필드 단위)으로 필요한 함수를 일괄 적용해줌"
   ]
  },
  {
   "cell_type": "markdown",
   "metadata": {},
   "source": [
    "### 간단 행렬데이터에 대한 가로&세로 방향 연산"
   ]
  },
  {
   "cell_type": "code",
   "execution_count": 1,
   "metadata": {},
   "outputs": [
    {
     "data": {
      "text/html": [
       "<table>\n",
       "<tbody>\n",
       "\t<tr><td>1</td><td>4</td><td>7</td></tr>\n",
       "\t<tr><td>2</td><td>5</td><td>8</td></tr>\n",
       "\t<tr><td>3</td><td>6</td><td>9</td></tr>\n",
       "</tbody>\n",
       "</table>\n"
      ],
      "text/latex": [
       "\\begin{tabular}{lll}\n",
       "\t 1 & 4 & 7\\\\\n",
       "\t 2 & 5 & 8\\\\\n",
       "\t 3 & 6 & 9\\\\\n",
       "\\end{tabular}\n"
      ],
      "text/markdown": [
       "\n",
       "| 1 | 4 | 7 | \n",
       "| 2 | 5 | 8 | \n",
       "| 3 | 6 | 9 | \n",
       "\n",
       "\n"
      ],
      "text/plain": [
       "     [,1] [,2] [,3]\n",
       "[1,] 1    4    7   \n",
       "[2,] 2    5    8   \n",
       "[3,] 3    6    9   "
      ]
     },
     "metadata": {},
     "output_type": "display_data"
    },
    {
     "name": "stdout",
     "output_type": "stream",
     "text": [
      "     [,1] [,2] [,3]\n",
      "[1,]    1    4    7\n",
      "[2,]    2    5    8\n",
      "[3,]    3    6    9\n"
     ]
    }
   ],
   "source": [
    "# 간단 데이터 생성\n",
    "m <- matrix(1:9, nrow = 3)\n",
    "\n",
    "m\n",
    "print(m)"
   ]
  },
  {
   "cell_type": "code",
   "execution_count": null,
   "metadata": {},
   "outputs": [],
   "source": [
    "숫자가 nrow X nrow 갯수에 비해 부족하면 결측지 NA로 채워야해"
   ]
  },
  {
   "cell_type": "markdown",
   "metadata": {},
   "source": [
    "#### 행렬전용 함수를 이용한 가로 & 세로 방향 연산"
   ]
  },
  {
   "cell_type": "code",
   "execution_count": 2,
   "metadata": {},
   "outputs": [
    {
     "data": {
      "text/html": [
       "<ol class=list-inline>\n",
       "\t<li>12</li>\n",
       "\t<li>15</li>\n",
       "\t<li>18</li>\n",
       "</ol>\n"
      ],
      "text/latex": [
       "\\begin{enumerate*}\n",
       "\\item 12\n",
       "\\item 15\n",
       "\\item 18\n",
       "\\end{enumerate*}\n"
      ],
      "text/markdown": [
       "1. 12\n",
       "2. 15\n",
       "3. 18\n",
       "\n",
       "\n"
      ],
      "text/plain": [
       "[1] 12 15 18"
      ]
     },
     "metadata": {},
     "output_type": "display_data"
    },
    {
     "name": "stdout",
     "output_type": "stream",
     "text": [
      "[1] 12 15 18\n"
     ]
    },
    {
     "data": {
      "text/html": [
       "'numeric'"
      ],
      "text/latex": [
       "'numeric'"
      ],
      "text/markdown": [
       "'numeric'"
      ],
      "text/plain": [
       "[1] \"numeric\""
      ]
     },
     "metadata": {},
     "output_type": "display_data"
    }
   ],
   "source": [
    "# rowSums() 함수이용 행렬데이터에 대한 가로방향 연산\n",
    "\n",
    "rowSums(m) \n",
    "print(rowSums(m))\n",
    "# - 행렬데이터 m객체에 대해 가로방향으로 각 행(row)별로 합(sum)을 구함\n",
    "\n",
    "class(rowSums(m))\n",
    "# - rowSums() 함수의 연산결과는 실수(numeric) 숫자임"
   ]
  },
  {
   "cell_type": "code",
   "execution_count": 3,
   "metadata": {},
   "outputs": [
    {
     "data": {
      "text/html": [
       "<ol class=list-inline>\n",
       "\t<li>6</li>\n",
       "\t<li>15</li>\n",
       "\t<li>24</li>\n",
       "</ol>\n"
      ],
      "text/latex": [
       "\\begin{enumerate*}\n",
       "\\item 6\n",
       "\\item 15\n",
       "\\item 24\n",
       "\\end{enumerate*}\n"
      ],
      "text/markdown": [
       "1. 6\n",
       "2. 15\n",
       "3. 24\n",
       "\n",
       "\n"
      ],
      "text/plain": [
       "[1]  6 15 24"
      ]
     },
     "metadata": {},
     "output_type": "display_data"
    },
    {
     "name": "stdout",
     "output_type": "stream",
     "text": [
      "[1]  6 15 24\n"
     ]
    },
    {
     "data": {
      "text/html": [
       "'numeric'"
      ],
      "text/latex": [
       "'numeric'"
      ],
      "text/markdown": [
       "'numeric'"
      ],
      "text/plain": [
       "[1] \"numeric\""
      ]
     },
     "metadata": {},
     "output_type": "display_data"
    }
   ],
   "source": [
    "# colSums() 함수이용 행렬데이터에 대한 세로방향 연산\n",
    "colSums(m)\n",
    "print(colSums(m))\n",
    "# - 행렬데이터 m객체에 대해 세로방향으로 각 열(col)별로 합(sum)을 구함\n",
    "\n",
    "class(colSums(m))\n",
    "# - colSums() 함수의 연산결과는 실수(numeric) 숫자임"
   ]
  },
  {
   "cell_type": "markdown",
   "metadata": {},
   "source": [
    "#### apply() 함수를 이용한 가로 & 세로 방향 연산\n",
    "* rowSums()와 colSums() vs. apply() \n",
    "<br>- rowSums는 가로방향으로, colSums()는 세로방향으로 총합만 구할수 있음\n",
    "<br>- apply()는 가로/세로방향으로 다양한 함수를 사용할 수 있음"
   ]
  },
  {
   "cell_type": "code",
   "execution_count": 4,
   "metadata": {},
   "outputs": [
    {
     "data": {
      "text/html": [
       "<ol class=list-inline>\n",
       "\t<li>12</li>\n",
       "\t<li>15</li>\n",
       "\t<li>18</li>\n",
       "</ol>\n"
      ],
      "text/latex": [
       "\\begin{enumerate*}\n",
       "\\item 12\n",
       "\\item 15\n",
       "\\item 18\n",
       "\\end{enumerate*}\n"
      ],
      "text/markdown": [
       "1. 12\n",
       "2. 15\n",
       "3. 18\n",
       "\n",
       "\n"
      ],
      "text/plain": [
       "[1] 12 15 18"
      ]
     },
     "metadata": {},
     "output_type": "display_data"
    },
    {
     "name": "stdout",
     "output_type": "stream",
     "text": [
      "[1] 12 15 18\n"
     ]
    },
    {
     "data": {
      "text/html": [
       "'integer'"
      ],
      "text/latex": [
       "'integer'"
      ],
      "text/markdown": [
       "'integer'"
      ],
      "text/plain": [
       "[1] \"integer\""
      ]
     },
     "metadata": {},
     "output_type": "display_data"
    }
   ],
   "source": [
    "# apply() 함수를 이용한 가로 & 세로 방향 연산\n",
    "\n",
    "apply(m, 1, sum) \n",
    "print(apply(m, 1, sum))\n",
    "# - m객체에 들어 있는 데이터에 대해서 가로방향(인수 1)으로 \n",
    "#   sum()함수를 한줄 한줄 적용한 결과\n",
    "\n",
    "class(apply(m, 1, sum) )\n",
    "# - apply() 함수의 연산결과는 정수(integer) 숫자임"
   ]
  },
  {
   "cell_type": "code",
   "execution_count": 5,
   "metadata": {},
   "outputs": [
    {
     "data": {
      "text/html": [
       "<ol class=list-inline>\n",
       "\t<li>6</li>\n",
       "\t<li>15</li>\n",
       "\t<li>24</li>\n",
       "</ol>\n"
      ],
      "text/latex": [
       "\\begin{enumerate*}\n",
       "\\item 6\n",
       "\\item 15\n",
       "\\item 24\n",
       "\\end{enumerate*}\n"
      ],
      "text/markdown": [
       "1. 6\n",
       "2. 15\n",
       "3. 24\n",
       "\n",
       "\n"
      ],
      "text/plain": [
       "[1]  6 15 24"
      ]
     },
     "metadata": {},
     "output_type": "display_data"
    },
    {
     "name": "stdout",
     "output_type": "stream",
     "text": [
      "[1]  6 15 24\n"
     ]
    },
    {
     "data": {
      "text/html": [
       "'integer'"
      ],
      "text/latex": [
       "'integer'"
      ],
      "text/markdown": [
       "'integer'"
      ],
      "text/plain": [
       "[1] \"integer\""
      ]
     },
     "metadata": {},
     "output_type": "display_data"
    }
   ],
   "source": [
    "# apply() 함수를 이용한 가로 & 세로 방향 연산\n",
    "\n",
    "apply(m, 2, sum)\n",
    "print(apply(m, 2, sum))\n",
    "# - m객체에 들어 있는 데이터에 대해서 세로방향(인수 2)으로 \n",
    "#   sum()함수를 한칸 한칸 적용한 결과\n",
    "\n",
    "class(apply(m, 2, sum) )\n",
    "# - apply() 함수의 연산결과는 정수(integer) 숫자임"
   ]
  },
  {
   "cell_type": "markdown",
   "metadata": {},
   "source": [
    "#### 객체간 형식&내용 동일성 검토"
   ]
  },
  {
   "cell_type": "code",
   "execution_count": 6,
   "metadata": {},
   "outputs": [
    {
     "data": {
      "text/html": [
       "FALSE"
      ],
      "text/latex": [
       "FALSE"
      ],
      "text/markdown": [
       "FALSE"
      ],
      "text/plain": [
       "[1] FALSE"
      ]
     },
     "metadata": {},
     "output_type": "display_data"
    },
    {
     "name": "stdout",
     "output_type": "stream",
     "text": [
      " num [1:3] 12 15 18\n",
      " int [1:3] 12 15 18\n"
     ]
    }
   ],
   "source": [
    "# 가로방향 연산결과에 대한 동일성 검토\n",
    "identical(rowSums(m), apply(m, 1, sum))\n",
    "\n",
    "str(rowSums(m)) # 데이터유형은 숫자, 객체형식은 실수벡터(num)임\n",
    "str(apply(m, 1, sum)) # 데이터유형은 숫자, 객체형식이 정수(int)임\n",
    "\n",
    "# - rowSums()와 apply() 산출결과의 형식은 달라도 숫자내용은 동일하며\n",
    "#   실수, 정수간 서로 형식 변환이 가능하므로 문제없음"
   ]
  },
  {
   "cell_type": "code",
   "execution_count": 7,
   "metadata": {},
   "outputs": [
    {
     "name": "stdout",
     "output_type": "stream",
     "text": [
      " int [1:3] 12 15 18\n",
      " num [1:3] 12 15 18\n"
     ]
    }
   ],
   "source": [
    "# 실수(numeric)숫자와 정수(integer)숫자간 자유로운 객체형식 변환\n",
    "\n",
    "# 파이프연산자 패키지로딩\n",
    "# install.packages('magrittr')\n",
    "library(magrittr)\n",
    "\n",
    "rowSums(m) %>% as.integer %>% str \n",
    "# - 실수벡터(num)를 정수벡터(int)로 변환\n",
    "\n",
    "apply(m, 1, sum) %>% as.numeric %>% str \n",
    "# - 정수벡터(int)를 실수벡터(num)로 변환"
   ]
  },
  {
   "cell_type": "markdown",
   "metadata": {},
   "source": [
    "#### 데이터에 NA가 있는 경우의 연산"
   ]
  },
  {
   "cell_type": "code",
   "execution_count": 8,
   "metadata": {},
   "outputs": [
    {
     "data": {
      "text/html": [
       "<table>\n",
       "<tbody>\n",
       "\t<tr><td> 1</td><td>4 </td><td>7 </td></tr>\n",
       "\t<tr><td>NA</td><td>5 </td><td>8 </td></tr>\n",
       "\t<tr><td> 3</td><td>6 </td><td>9 </td></tr>\n",
       "</tbody>\n",
       "</table>\n"
      ],
      "text/latex": [
       "\\begin{tabular}{lll}\n",
       "\t  1 & 4  & 7 \\\\\n",
       "\t NA & 5  & 8 \\\\\n",
       "\t  3 & 6  & 9 \\\\\n",
       "\\end{tabular}\n"
      ],
      "text/markdown": [
       "\n",
       "|  1 | 4  | 7  | \n",
       "| NA | 5  | 8  | \n",
       "|  3 | 6  | 9  | \n",
       "\n",
       "\n"
      ],
      "text/plain": [
       "     [,1] [,2] [,3]\n",
       "[1,]  1   4    7   \n",
       "[2,] NA   5    8   \n",
       "[3,]  3   6    9   "
      ]
     },
     "metadata": {},
     "output_type": "display_data"
    },
    {
     "name": "stdout",
     "output_type": "stream",
     "text": [
      "     [,1] [,2] [,3]\n",
      "[1,]    1    4    7\n",
      "[2,]   NA    5    8\n",
      "[3,]    3    6    9\n"
     ]
    }
   ],
   "source": [
    "# 특정 요소의 값을 NA로 설정\n",
    "m[2, 1] <- NA\n",
    "\n",
    "m\n",
    "print(m)"
   ]
  },
  {
   "cell_type": "code",
   "execution_count": 9,
   "metadata": {},
   "outputs": [
    {
     "data": {
      "text/html": [
       "<ol class=list-inline>\n",
       "\t<li>12</li>\n",
       "\t<li>&lt;NA&gt;</li>\n",
       "\t<li>18</li>\n",
       "</ol>\n"
      ],
      "text/latex": [
       "\\begin{enumerate*}\n",
       "\\item 12\n",
       "\\item <NA>\n",
       "\\item 18\n",
       "\\end{enumerate*}\n"
      ],
      "text/markdown": [
       "1. 12\n",
       "2. &lt;NA&gt;\n",
       "3. 18\n",
       "\n",
       "\n"
      ],
      "text/plain": [
       "[1] 12 NA 18"
      ]
     },
     "metadata": {},
     "output_type": "display_data"
    },
    {
     "data": {
      "text/html": [
       "<ol class=list-inline>\n",
       "\t<li>12</li>\n",
       "\t<li>13</li>\n",
       "\t<li>18</li>\n",
       "</ol>\n"
      ],
      "text/latex": [
       "\\begin{enumerate*}\n",
       "\\item 12\n",
       "\\item 13\n",
       "\\item 18\n",
       "\\end{enumerate*}\n"
      ],
      "text/markdown": [
       "1. 12\n",
       "2. 13\n",
       "3. 18\n",
       "\n",
       "\n"
      ],
      "text/plain": [
       "[1] 12 13 18"
      ]
     },
     "metadata": {},
     "output_type": "display_data"
    }
   ],
   "source": [
    "# 행(가로)방향 연산\n",
    "\n",
    "rowSums(m) # 사칙연산에서 NA가 있으면 결과도 NA로 나옴\n",
    "rowSums(m, na.rm = TRUE) # NA를 제외한 실제 데이터만 갖고 사칙연산수행"
   ]
  },
  {
   "cell_type": "code",
   "execution_count": 10,
   "metadata": {},
   "outputs": [
    {
     "data": {
      "text/html": [
       "<ol class=list-inline>\n",
       "\t<li>&lt;NA&gt;</li>\n",
       "\t<li>15</li>\n",
       "\t<li>24</li>\n",
       "</ol>\n"
      ],
      "text/latex": [
       "\\begin{enumerate*}\n",
       "\\item <NA>\n",
       "\\item 15\n",
       "\\item 24\n",
       "\\end{enumerate*}\n"
      ],
      "text/markdown": [
       "1. &lt;NA&gt;\n",
       "2. 15\n",
       "3. 24\n",
       "\n",
       "\n"
      ],
      "text/plain": [
       "[1] NA 15 24"
      ]
     },
     "metadata": {},
     "output_type": "display_data"
    },
    {
     "data": {
      "text/html": [
       "<ol class=list-inline>\n",
       "\t<li>4</li>\n",
       "\t<li>15</li>\n",
       "\t<li>24</li>\n",
       "</ol>\n"
      ],
      "text/latex": [
       "\\begin{enumerate*}\n",
       "\\item 4\n",
       "\\item 15\n",
       "\\item 24\n",
       "\\end{enumerate*}\n"
      ],
      "text/markdown": [
       "1. 4\n",
       "2. 15\n",
       "3. 24\n",
       "\n",
       "\n"
      ],
      "text/plain": [
       "[1]  4 15 24"
      ]
     },
     "metadata": {},
     "output_type": "display_data"
    }
   ],
   "source": [
    "# 열(세로)방향 연산결과\n",
    "\n",
    "apply(m, 2, sum) # 사칙연산에서 NA가 있으면 결과도 NA로 나옴\n",
    "apply(m, 2, sum, na.rm = TRUE)  # NA를 제외한 실제 데이터만 갖고 사칙연산수행"
   ]
  },
  {
   "cell_type": "markdown",
   "metadata": {},
   "source": [
    "### 데이터프레임 데이터셋을 이용한 가로&세로방향 연산"
   ]
  },
  {
   "cell_type": "code",
   "execution_count": 11,
   "metadata": {},
   "outputs": [],
   "source": [
    "# 데이터셋 생성\n",
    "student <- c(\"John Davis\",\"Angela Williams\",\"Bullwinkle Moose\",\n",
    "             \"David Jones\",\"Janice Markhammer\", \"Cheryl Cushing\",\n",
    "             \"Reuven Ytzrhak\", \"Greg Knox\",\"Joel England\",\"Mary Rayburn\")\n",
    "math <- c(72, 86, 59, 51, 71, 73, 59, 89, 82, 75)\n",
    "science <- c(95, 99, 80, 82, 75, 85, 80, 95, 89, 86)\n",
    "english <- c(80, 70, 60, 50, 70, 90, 50, 100, 90, 60)"
   ]
  },
  {
   "cell_type": "markdown",
   "metadata": {},
   "source": [
    "#### 데이터프레임 객체로 가공"
   ]
  },
  {
   "cell_type": "code",
   "execution_count": 12,
   "metadata": {},
   "outputs": [
    {
     "data": {
      "text/html": [
       "<table>\n",
       "<thead><tr><th scope=col>student</th><th scope=col>math</th><th scope=col>science</th><th scope=col>english</th></tr></thead>\n",
       "<tbody>\n",
       "\t<tr><td>John Davis       </td><td>72               </td><td>95               </td><td> 80              </td></tr>\n",
       "\t<tr><td>Angela Williams  </td><td>86               </td><td>99               </td><td> 70              </td></tr>\n",
       "\t<tr><td>Bullwinkle Moose </td><td>59               </td><td>80               </td><td> 60              </td></tr>\n",
       "\t<tr><td>David Jones      </td><td>51               </td><td>82               </td><td> 50              </td></tr>\n",
       "\t<tr><td>Janice Markhammer</td><td>71               </td><td>75               </td><td> 70              </td></tr>\n",
       "\t<tr><td>Cheryl Cushing   </td><td>73               </td><td>85               </td><td> 90              </td></tr>\n",
       "\t<tr><td>Reuven Ytzrhak   </td><td>59               </td><td>80               </td><td> 50              </td></tr>\n",
       "\t<tr><td>Greg Knox        </td><td>89               </td><td>95               </td><td>100              </td></tr>\n",
       "\t<tr><td>Joel England     </td><td>82               </td><td>89               </td><td> 90              </td></tr>\n",
       "\t<tr><td>Mary Rayburn     </td><td>75               </td><td>86               </td><td> 60              </td></tr>\n",
       "</tbody>\n",
       "</table>\n"
      ],
      "text/latex": [
       "\\begin{tabular}{r|llll}\n",
       " student & math & science & english\\\\\n",
       "\\hline\n",
       "\t John Davis        & 72                & 95                &  80              \\\\\n",
       "\t Angela Williams   & 86                & 99                &  70              \\\\\n",
       "\t Bullwinkle Moose  & 59                & 80                &  60              \\\\\n",
       "\t David Jones       & 51                & 82                &  50              \\\\\n",
       "\t Janice Markhammer & 71                & 75                &  70              \\\\\n",
       "\t Cheryl Cushing    & 73                & 85                &  90              \\\\\n",
       "\t Reuven Ytzrhak    & 59                & 80                &  50              \\\\\n",
       "\t Greg Knox         & 89                & 95                & 100              \\\\\n",
       "\t Joel England      & 82                & 89                &  90              \\\\\n",
       "\t Mary Rayburn      & 75                & 86                &  60              \\\\\n",
       "\\end{tabular}\n"
      ],
      "text/markdown": [
       "\n",
       "student | math | science | english | \n",
       "|---|---|---|---|---|---|---|---|---|---|\n",
       "| John Davis        | 72                | 95                |  80               | \n",
       "| Angela Williams   | 86                | 99                |  70               | \n",
       "| Bullwinkle Moose  | 59                | 80                |  60               | \n",
       "| David Jones       | 51                | 82                |  50               | \n",
       "| Janice Markhammer | 71                | 75                |  70               | \n",
       "| Cheryl Cushing    | 73                | 85                |  90               | \n",
       "| Reuven Ytzrhak    | 59                | 80                |  50               | \n",
       "| Greg Knox         | 89                | 95                | 100               | \n",
       "| Joel England      | 82                | 89                |  90               | \n",
       "| Mary Rayburn      | 75                | 86                |  60               | \n",
       "\n",
       "\n"
      ],
      "text/plain": [
       "   student           math science english\n",
       "1  John Davis        72   95       80    \n",
       "2  Angela Williams   86   99       70    \n",
       "3  Bullwinkle Moose  59   80       60    \n",
       "4  David Jones       51   82       50    \n",
       "5  Janice Markhammer 71   75       70    \n",
       "6  Cheryl Cushing    73   85       90    \n",
       "7  Reuven Ytzrhak    59   80       50    \n",
       "8  Greg Knox         89   95      100    \n",
       "9  Joel England      82   89       90    \n",
       "10 Mary Rayburn      75   86       60    "
      ]
     },
     "metadata": {},
     "output_type": "display_data"
    }
   ],
   "source": [
    "# data.frame 객체형태로 가공\n",
    "roster_df <- data.frame(student, \n",
    "                        math, \n",
    "                        science, \n",
    "                        english, \n",
    "                        stringsAsFactors = FALSE)\n",
    "\n",
    "roster_df"
   ]
  },
  {
   "cell_type": "code",
   "execution_count": 13,
   "metadata": {},
   "outputs": [
    {
     "name": "stdout",
     "output_type": "stream",
     "text": [
      "'data.frame':\t10 obs. of  4 variables:\n",
      " $ student: chr  \"John Davis\" \"Angela Williams\" \"Bullwinkle Moose\" \"David Jones\" ...\n",
      " $ math   : num  72 86 59 51 71 73 59 89 82 75\n",
      " $ science: num  95 99 80 82 75 85 80 95 89 86\n",
      " $ english: num  80 70 60 50 70 90 50 100 90 60\n"
     ]
    }
   ],
   "source": [
    "# 데이터프레임 객체 구조확인\n",
    "str(roster_df)"
   ]
  },
  {
   "cell_type": "markdown",
   "metadata": {},
   "source": [
    "#### 티블 객체로 가공"
   ]
  },
  {
   "cell_type": "code",
   "execution_count": 14,
   "metadata": {},
   "outputs": [
    {
     "data": {
      "text/html": [
       "<table>\n",
       "<thead><tr><th scope=col>student</th><th scope=col>math</th><th scope=col>science</th><th scope=col>english</th></tr></thead>\n",
       "<tbody>\n",
       "\t<tr><td>John Davis       </td><td>72               </td><td>95               </td><td> 80              </td></tr>\n",
       "\t<tr><td>Angela Williams  </td><td>86               </td><td>99               </td><td> 70              </td></tr>\n",
       "\t<tr><td>Bullwinkle Moose </td><td>59               </td><td>80               </td><td> 60              </td></tr>\n",
       "\t<tr><td>David Jones      </td><td>51               </td><td>82               </td><td> 50              </td></tr>\n",
       "\t<tr><td>Janice Markhammer</td><td>71               </td><td>75               </td><td> 70              </td></tr>\n",
       "\t<tr><td>Cheryl Cushing   </td><td>73               </td><td>85               </td><td> 90              </td></tr>\n",
       "\t<tr><td>Reuven Ytzrhak   </td><td>59               </td><td>80               </td><td> 50              </td></tr>\n",
       "\t<tr><td>Greg Knox        </td><td>89               </td><td>95               </td><td>100              </td></tr>\n",
       "\t<tr><td>Joel England     </td><td>82               </td><td>89               </td><td> 90              </td></tr>\n",
       "\t<tr><td>Mary Rayburn     </td><td>75               </td><td>86               </td><td> 60              </td></tr>\n",
       "</tbody>\n",
       "</table>\n"
      ],
      "text/latex": [
       "\\begin{tabular}{r|llll}\n",
       " student & math & science & english\\\\\n",
       "\\hline\n",
       "\t John Davis        & 72                & 95                &  80              \\\\\n",
       "\t Angela Williams   & 86                & 99                &  70              \\\\\n",
       "\t Bullwinkle Moose  & 59                & 80                &  60              \\\\\n",
       "\t David Jones       & 51                & 82                &  50              \\\\\n",
       "\t Janice Markhammer & 71                & 75                &  70              \\\\\n",
       "\t Cheryl Cushing    & 73                & 85                &  90              \\\\\n",
       "\t Reuven Ytzrhak    & 59                & 80                &  50              \\\\\n",
       "\t Greg Knox         & 89                & 95                & 100              \\\\\n",
       "\t Joel England      & 82                & 89                &  90              \\\\\n",
       "\t Mary Rayburn      & 75                & 86                &  60              \\\\\n",
       "\\end{tabular}\n"
      ],
      "text/markdown": [
       "\n",
       "student | math | science | english | \n",
       "|---|---|---|---|---|---|---|---|---|---|\n",
       "| John Davis        | 72                | 95                |  80               | \n",
       "| Angela Williams   | 86                | 99                |  70               | \n",
       "| Bullwinkle Moose  | 59                | 80                |  60               | \n",
       "| David Jones       | 51                | 82                |  50               | \n",
       "| Janice Markhammer | 71                | 75                |  70               | \n",
       "| Cheryl Cushing    | 73                | 85                |  90               | \n",
       "| Reuven Ytzrhak    | 59                | 80                |  50               | \n",
       "| Greg Knox         | 89                | 95                | 100               | \n",
       "| Joel England      | 82                | 89                |  90               | \n",
       "| Mary Rayburn      | 75                | 86                |  60               | \n",
       "\n",
       "\n"
      ],
      "text/plain": [
       "   student           math science english\n",
       "1  John Davis        72   95       80    \n",
       "2  Angela Williams   86   99       70    \n",
       "3  Bullwinkle Moose  59   80       60    \n",
       "4  David Jones       51   82       50    \n",
       "5  Janice Markhammer 71   75       70    \n",
       "6  Cheryl Cushing    73   85       90    \n",
       "7  Reuven Ytzrhak    59   80       50    \n",
       "8  Greg Knox         89   95      100    \n",
       "9  Joel England      82   89       90    \n",
       "10 Mary Rayburn      75   86       60    "
      ]
     },
     "metadata": {},
     "output_type": "display_data"
    }
   ],
   "source": [
    "# tibble 객체형태로 가공\n",
    "# install.packages(\"tibble)\n",
    "library(tibble)\n",
    "\n",
    "roster_tb <- tibble(student, math, science, english)\n",
    "roster_tb"
   ]
  },
  {
   "cell_type": "code",
   "execution_count": 15,
   "metadata": {},
   "outputs": [
    {
     "name": "stdout",
     "output_type": "stream",
     "text": [
      "Classes 'tbl_df', 'tbl' and 'data.frame':\t10 obs. of  4 variables:\n",
      " $ student: chr  \"John Davis\" \"Angela Williams\" \"Bullwinkle Moose\" \"David Jones\" ...\n",
      " $ math   : num  72 86 59 51 71 73 59 89 82 75\n",
      " $ science: num  95 99 80 82 75 85 80 95 89 86\n",
      " $ english: num  80 70 60 50 70 90 50 100 90 60\n"
     ]
    }
   ],
   "source": [
    "# 티블 객체 구조확인\n",
    "str(roster_tb)"
   ]
  },
  {
   "cell_type": "code",
   "execution_count": 16,
   "metadata": {},
   "outputs": [
    {
     "data": {
      "text/html": [
       "<table>\n",
       "<thead><tr><th scope=col>student</th><th scope=col>math</th><th scope=col>science</th><th scope=col>english</th></tr></thead>\n",
       "<tbody>\n",
       "\t<tr><td>John Davis       </td><td>72               </td><td>95               </td><td> 80              </td></tr>\n",
       "\t<tr><td>Angela Williams  </td><td>86               </td><td>99               </td><td> 70              </td></tr>\n",
       "\t<tr><td>Bullwinkle Moose </td><td>59               </td><td>80               </td><td> 60              </td></tr>\n",
       "\t<tr><td>David Jones      </td><td>51               </td><td>82               </td><td> 50              </td></tr>\n",
       "\t<tr><td>Janice Markhammer</td><td>71               </td><td>75               </td><td> 70              </td></tr>\n",
       "\t<tr><td>Cheryl Cushing   </td><td>73               </td><td>85               </td><td> 90              </td></tr>\n",
       "\t<tr><td>Reuven Ytzrhak   </td><td>59               </td><td>80               </td><td> 50              </td></tr>\n",
       "\t<tr><td>Greg Knox        </td><td>89               </td><td>95               </td><td>100              </td></tr>\n",
       "\t<tr><td>Joel England     </td><td>82               </td><td>89               </td><td> 90              </td></tr>\n",
       "\t<tr><td>Mary Rayburn     </td><td>75               </td><td>86               </td><td> 60              </td></tr>\n",
       "</tbody>\n",
       "</table>\n"
      ],
      "text/latex": [
       "\\begin{tabular}{r|llll}\n",
       " student & math & science & english\\\\\n",
       "\\hline\n",
       "\t John Davis        & 72                & 95                &  80              \\\\\n",
       "\t Angela Williams   & 86                & 99                &  70              \\\\\n",
       "\t Bullwinkle Moose  & 59                & 80                &  60              \\\\\n",
       "\t David Jones       & 51                & 82                &  50              \\\\\n",
       "\t Janice Markhammer & 71                & 75                &  70              \\\\\n",
       "\t Cheryl Cushing    & 73                & 85                &  90              \\\\\n",
       "\t Reuven Ytzrhak    & 59                & 80                &  50              \\\\\n",
       "\t Greg Knox         & 89                & 95                & 100              \\\\\n",
       "\t Joel England      & 82                & 89                &  90              \\\\\n",
       "\t Mary Rayburn      & 75                & 86                &  60              \\\\\n",
       "\\end{tabular}\n"
      ],
      "text/markdown": [
       "\n",
       "student | math | science | english | \n",
       "|---|---|---|---|---|---|---|---|---|---|\n",
       "| John Davis        | 72                | 95                |  80               | \n",
       "| Angela Williams   | 86                | 99                |  70               | \n",
       "| Bullwinkle Moose  | 59                | 80                |  60               | \n",
       "| David Jones       | 51                | 82                |  50               | \n",
       "| Janice Markhammer | 71                | 75                |  70               | \n",
       "| Cheryl Cushing    | 73                | 85                |  90               | \n",
       "| Reuven Ytzrhak    | 59                | 80                |  50               | \n",
       "| Greg Knox         | 89                | 95                | 100               | \n",
       "| Joel England      | 82                | 89                |  90               | \n",
       "| Mary Rayburn      | 75                | 86                |  60               | \n",
       "\n",
       "\n"
      ],
      "text/plain": [
       "   student           math science english\n",
       "1  John Davis        72   95       80    \n",
       "2  Angela Williams   86   99       70    \n",
       "3  Bullwinkle Moose  59   80       60    \n",
       "4  David Jones       51   82       50    \n",
       "5  Janice Markhammer 71   75       70    \n",
       "6  Cheryl Cushing    73   85       90    \n",
       "7  Reuven Ytzrhak    59   80       50    \n",
       "8  Greg Knox         89   95      100    \n",
       "9  Joel England      82   89       90    \n",
       "10 Mary Rayburn      75   86       60    "
      ]
     },
     "metadata": {},
     "output_type": "display_data"
    }
   ],
   "source": [
    "# 또는 data.frame객체를 tibble 객체로 변환\n",
    "roster <- tibble::as_tibble(roster_df)\n",
    "roster"
   ]
  },
  {
   "cell_type": "code",
   "execution_count": 17,
   "metadata": {},
   "outputs": [
    {
     "name": "stdout",
     "output_type": "stream",
     "text": [
      "Classes 'tbl_df', 'tbl' and 'data.frame':\t10 obs. of  4 variables:\n",
      " $ student: chr  \"John Davis\" \"Angela Williams\" \"Bullwinkle Moose\" \"David Jones\" ...\n",
      " $ math   : num  72 86 59 51 71 73 59 89 82 75\n",
      " $ science: num  95 99 80 82 75 85 80 95 89 86\n",
      " $ english: num  80 70 60 50 70 90 50 100 90 60\n"
     ]
    }
   ],
   "source": [
    "# 티블 객체 구조확인\n",
    "str(roster)"
   ]
  },
  {
   "cell_type": "code",
   "execution_count": 18,
   "metadata": {},
   "outputs": [
    {
     "data": {
      "text/html": [
       "<table>\n",
       "<thead><tr><th scope=col>math</th><th scope=col>science</th><th scope=col>english</th></tr></thead>\n",
       "<tbody>\n",
       "\t<tr><td>72 </td><td>95 </td><td> 80</td></tr>\n",
       "\t<tr><td>86 </td><td>99 </td><td> 70</td></tr>\n",
       "\t<tr><td>59 </td><td>80 </td><td> 60</td></tr>\n",
       "\t<tr><td>51 </td><td>82 </td><td> 50</td></tr>\n",
       "\t<tr><td>71 </td><td>75 </td><td> 70</td></tr>\n",
       "\t<tr><td>73 </td><td>85 </td><td> 90</td></tr>\n",
       "\t<tr><td>59 </td><td>80 </td><td> 50</td></tr>\n",
       "\t<tr><td>89 </td><td>95 </td><td>100</td></tr>\n",
       "\t<tr><td>82 </td><td>89 </td><td> 90</td></tr>\n",
       "\t<tr><td>75 </td><td>86 </td><td> 60</td></tr>\n",
       "</tbody>\n",
       "</table>\n"
      ],
      "text/latex": [
       "\\begin{tabular}{r|lll}\n",
       " math & science & english\\\\\n",
       "\\hline\n",
       "\t 72  & 95  &  80\\\\\n",
       "\t 86  & 99  &  70\\\\\n",
       "\t 59  & 80  &  60\\\\\n",
       "\t 51  & 82  &  50\\\\\n",
       "\t 71  & 75  &  70\\\\\n",
       "\t 73  & 85  &  90\\\\\n",
       "\t 59  & 80  &  50\\\\\n",
       "\t 89  & 95  & 100\\\\\n",
       "\t 82  & 89  &  90\\\\\n",
       "\t 75  & 86  &  60\\\\\n",
       "\\end{tabular}\n"
      ],
      "text/markdown": [
       "\n",
       "math | science | english | \n",
       "|---|---|---|---|---|---|---|---|---|---|\n",
       "| 72  | 95  |  80 | \n",
       "| 86  | 99  |  70 | \n",
       "| 59  | 80  |  60 | \n",
       "| 51  | 82  |  50 | \n",
       "| 71  | 75  |  70 | \n",
       "| 73  | 85  |  90 | \n",
       "| 59  | 80  |  50 | \n",
       "| 89  | 95  | 100 | \n",
       "| 82  | 89  |  90 | \n",
       "| 75  | 86  |  60 | \n",
       "\n",
       "\n"
      ],
      "text/plain": [
       "   math science english\n",
       "1  72   95       80    \n",
       "2  86   99       70    \n",
       "3  59   80       60    \n",
       "4  51   82       50    \n",
       "5  71   75       70    \n",
       "6  73   85       90    \n",
       "7  59   80       50    \n",
       "8  89   95      100    \n",
       "9  82   89       90    \n",
       "10 75   86       60    "
      ]
     },
     "metadata": {},
     "output_type": "display_data"
    }
   ],
   "source": [
    "# 점수 변수만 인덱싱\n",
    "roster[2:4]"
   ]
  },
  {
   "cell_type": "markdown",
   "metadata": {},
   "source": [
    "#### 가로방향 연산"
   ]
  },
  {
   "cell_type": "code",
   "execution_count": 19,
   "metadata": {},
   "outputs": [
    {
     "data": {
      "text/html": [
       "<ol class=list-inline>\n",
       "\t<li>247</li>\n",
       "\t<li>255</li>\n",
       "\t<li>199</li>\n",
       "\t<li>183</li>\n",
       "\t<li>216</li>\n",
       "\t<li>248</li>\n",
       "\t<li>189</li>\n",
       "\t<li>284</li>\n",
       "\t<li>261</li>\n",
       "\t<li>221</li>\n",
       "</ol>\n"
      ],
      "text/latex": [
       "\\begin{enumerate*}\n",
       "\\item 247\n",
       "\\item 255\n",
       "\\item 199\n",
       "\\item 183\n",
       "\\item 216\n",
       "\\item 248\n",
       "\\item 189\n",
       "\\item 284\n",
       "\\item 261\n",
       "\\item 221\n",
       "\\end{enumerate*}\n"
      ],
      "text/markdown": [
       "1. 247\n",
       "2. 255\n",
       "3. 199\n",
       "4. 183\n",
       "5. 216\n",
       "6. 248\n",
       "7. 189\n",
       "8. 284\n",
       "9. 261\n",
       "10. 221\n",
       "\n",
       "\n"
      ],
      "text/plain": [
       " [1] 247 255 199 183 216 248 189 284 261 221"
      ]
     },
     "metadata": {},
     "output_type": "display_data"
    },
    {
     "data": {
      "text/html": [
       "<ol class=list-inline>\n",
       "\t<li>3</li>\n",
       "\t<li>3</li>\n",
       "\t<li>3</li>\n",
       "\t<li>3</li>\n",
       "\t<li>3</li>\n",
       "\t<li>3</li>\n",
       "\t<li>3</li>\n",
       "\t<li>3</li>\n",
       "\t<li>3</li>\n",
       "\t<li>3</li>\n",
       "</ol>\n"
      ],
      "text/latex": [
       "\\begin{enumerate*}\n",
       "\\item 3\n",
       "\\item 3\n",
       "\\item 3\n",
       "\\item 3\n",
       "\\item 3\n",
       "\\item 3\n",
       "\\item 3\n",
       "\\item 3\n",
       "\\item 3\n",
       "\\item 3\n",
       "\\end{enumerate*}\n"
      ],
      "text/markdown": [
       "1. 3\n",
       "2. 3\n",
       "3. 3\n",
       "4. 3\n",
       "5. 3\n",
       "6. 3\n",
       "7. 3\n",
       "8. 3\n",
       "9. 3\n",
       "10. 3\n",
       "\n",
       "\n"
      ],
      "text/plain": [
       " [1] 3 3 3 3 3 3 3 3 3 3"
      ]
     },
     "metadata": {},
     "output_type": "display_data"
    },
    {
     "data": {
      "text/html": [
       "<ol class=list-inline>\n",
       "\t<li>247</li>\n",
       "\t<li>255</li>\n",
       "\t<li>199</li>\n",
       "\t<li>183</li>\n",
       "\t<li>216</li>\n",
       "\t<li>248</li>\n",
       "\t<li>189</li>\n",
       "\t<li>284</li>\n",
       "\t<li>261</li>\n",
       "\t<li>221</li>\n",
       "</ol>\n"
      ],
      "text/latex": [
       "\\begin{enumerate*}\n",
       "\\item 247\n",
       "\\item 255\n",
       "\\item 199\n",
       "\\item 183\n",
       "\\item 216\n",
       "\\item 248\n",
       "\\item 189\n",
       "\\item 284\n",
       "\\item 261\n",
       "\\item 221\n",
       "\\end{enumerate*}\n"
      ],
      "text/markdown": [
       "1. 247\n",
       "2. 255\n",
       "3. 199\n",
       "4. 183\n",
       "5. 216\n",
       "6. 248\n",
       "7. 189\n",
       "8. 284\n",
       "9. 261\n",
       "10. 221\n",
       "\n",
       "\n"
      ],
      "text/plain": [
       " [1] 247 255 199 183 216 248 189 284 261 221"
      ]
     },
     "metadata": {},
     "output_type": "display_data"
    },
    {
     "data": {
      "text/html": [
       "<ol class=list-inline>\n",
       "\t<li>95</li>\n",
       "\t<li>99</li>\n",
       "\t<li>80</li>\n",
       "\t<li>82</li>\n",
       "\t<li>75</li>\n",
       "\t<li>90</li>\n",
       "\t<li>80</li>\n",
       "\t<li>100</li>\n",
       "\t<li>90</li>\n",
       "\t<li>86</li>\n",
       "</ol>\n"
      ],
      "text/latex": [
       "\\begin{enumerate*}\n",
       "\\item 95\n",
       "\\item 99\n",
       "\\item 80\n",
       "\\item 82\n",
       "\\item 75\n",
       "\\item 90\n",
       "\\item 80\n",
       "\\item 100\n",
       "\\item 90\n",
       "\\item 86\n",
       "\\end{enumerate*}\n"
      ],
      "text/markdown": [
       "1. 95\n",
       "2. 99\n",
       "3. 80\n",
       "4. 82\n",
       "5. 75\n",
       "6. 90\n",
       "7. 80\n",
       "8. 100\n",
       "9. 90\n",
       "10. 86\n",
       "\n",
       "\n"
      ],
      "text/plain": [
       " [1]  95  99  80  82  75  90  80 100  90  86"
      ]
     },
     "metadata": {},
     "output_type": "display_data"
    },
    {
     "data": {
      "text/html": [
       "<ol class=list-inline>\n",
       "\t<li>72</li>\n",
       "\t<li>70</li>\n",
       "\t<li>59</li>\n",
       "\t<li>50</li>\n",
       "\t<li>70</li>\n",
       "\t<li>73</li>\n",
       "\t<li>50</li>\n",
       "\t<li>89</li>\n",
       "\t<li>82</li>\n",
       "\t<li>60</li>\n",
       "</ol>\n"
      ],
      "text/latex": [
       "\\begin{enumerate*}\n",
       "\\item 72\n",
       "\\item 70\n",
       "\\item 59\n",
       "\\item 50\n",
       "\\item 70\n",
       "\\item 73\n",
       "\\item 50\n",
       "\\item 89\n",
       "\\item 82\n",
       "\\item 60\n",
       "\\end{enumerate*}\n"
      ],
      "text/markdown": [
       "1. 72\n",
       "2. 70\n",
       "3. 59\n",
       "4. 50\n",
       "5. 70\n",
       "6. 73\n",
       "7. 50\n",
       "8. 89\n",
       "9. 82\n",
       "10. 60\n",
       "\n",
       "\n"
      ],
      "text/plain": [
       " [1] 72 70 59 50 70 73 50 89 82 60"
      ]
     },
     "metadata": {},
     "output_type": "display_data"
    },
    {
     "data": {
      "text/html": [
       "<ol class=list-inline>\n",
       "\t<li>80</li>\n",
       "\t<li>86</li>\n",
       "\t<li>60</li>\n",
       "\t<li>51</li>\n",
       "\t<li>71</li>\n",
       "\t<li>85</li>\n",
       "\t<li>59</li>\n",
       "\t<li>95</li>\n",
       "\t<li>89</li>\n",
       "\t<li>75</li>\n",
       "</ol>\n"
      ],
      "text/latex": [
       "\\begin{enumerate*}\n",
       "\\item 80\n",
       "\\item 86\n",
       "\\item 60\n",
       "\\item 51\n",
       "\\item 71\n",
       "\\item 85\n",
       "\\item 59\n",
       "\\item 95\n",
       "\\item 89\n",
       "\\item 75\n",
       "\\end{enumerate*}\n"
      ],
      "text/markdown": [
       "1. 80\n",
       "2. 86\n",
       "3. 60\n",
       "4. 51\n",
       "5. 71\n",
       "6. 85\n",
       "7. 59\n",
       "8. 95\n",
       "9. 89\n",
       "10. 75\n",
       "\n",
       "\n"
      ],
      "text/plain": [
       " [1] 80 86 60 51 71 85 59 95 89 75"
      ]
     },
     "metadata": {},
     "output_type": "display_data"
    },
    {
     "data": {
      "text/html": [
       "<ol class=list-inline>\n",
       "\t<li>82.3</li>\n",
       "\t<li>85</li>\n",
       "\t<li>66.3</li>\n",
       "\t<li>61</li>\n",
       "\t<li>72</li>\n",
       "\t<li>82.7</li>\n",
       "\t<li>63</li>\n",
       "\t<li>94.7</li>\n",
       "\t<li>87</li>\n",
       "\t<li>73.7</li>\n",
       "</ol>\n"
      ],
      "text/latex": [
       "\\begin{enumerate*}\n",
       "\\item 82.3\n",
       "\\item 85\n",
       "\\item 66.3\n",
       "\\item 61\n",
       "\\item 72\n",
       "\\item 82.7\n",
       "\\item 63\n",
       "\\item 94.7\n",
       "\\item 87\n",
       "\\item 73.7\n",
       "\\end{enumerate*}\n"
      ],
      "text/markdown": [
       "1. 82.3\n",
       "2. 85\n",
       "3. 66.3\n",
       "4. 61\n",
       "5. 72\n",
       "6. 82.7\n",
       "7. 63\n",
       "8. 94.7\n",
       "9. 87\n",
       "10. 73.7\n",
       "\n",
       "\n"
      ],
      "text/plain": [
       " [1] 82.3 85.0 66.3 61.0 72.0 82.7 63.0 94.7 87.0 73.7"
      ]
     },
     "metadata": {},
     "output_type": "display_data"
    },
    {
     "data": {
      "text/html": [
       "<ol class=list-inline>\n",
       "\t<li>11.7</li>\n",
       "\t<li>14.5</li>\n",
       "\t<li>11.8</li>\n",
       "\t<li>18.2</li>\n",
       "\t<li>2.6</li>\n",
       "\t<li>8.7</li>\n",
       "\t<li>15.4</li>\n",
       "\t<li>5.5</li>\n",
       "\t<li>4.4</li>\n",
       "\t<li>13.1</li>\n",
       "</ol>\n"
      ],
      "text/latex": [
       "\\begin{enumerate*}\n",
       "\\item 11.7\n",
       "\\item 14.5\n",
       "\\item 11.8\n",
       "\\item 18.2\n",
       "\\item 2.6\n",
       "\\item 8.7\n",
       "\\item 15.4\n",
       "\\item 5.5\n",
       "\\item 4.4\n",
       "\\item 13.1\n",
       "\\end{enumerate*}\n"
      ],
      "text/markdown": [
       "1. 11.7\n",
       "2. 14.5\n",
       "3. 11.8\n",
       "4. 18.2\n",
       "5. 2.6\n",
       "6. 8.7\n",
       "7. 15.4\n",
       "8. 5.5\n",
       "9. 4.4\n",
       "10. 13.1\n",
       "\n",
       "\n"
      ],
      "text/plain": [
       " [1] 11.7 14.5 11.8 18.2  2.6  8.7 15.4  5.5  4.4 13.1"
      ]
     },
     "metadata": {},
     "output_type": "display_data"
    }
   ],
   "source": [
    "# 가로방향 연산\n",
    "# - 각 학생별 과목점수에 대한 연산\n",
    "\n",
    "rowSums(roster[2:4])\n",
    "\n",
    "apply(roster[2:4], 1, length)\n",
    "apply(roster[2:4], 1, sum)\n",
    "apply(roster[2:4], 1, max)\n",
    "apply(roster[2:4], 1, min)\n",
    "apply(roster[2:4], 1, median)\n",
    "apply(roster[2:4], 1, mean) %>% round(1)\n",
    "apply(roster[2:4], 1, sd) %>% round(1)"
   ]
  },
  {
   "cell_type": "code",
   "execution_count": 20,
   "metadata": {},
   "outputs": [
    {
     "data": {
      "text/html": [
       "<table>\n",
       "<tbody>\n",
       "\t<tr><th scope=row>Min.</th><td>72.00000 </td><td>70.0     </td><td>59.00000 </td><td>50.0     </td><td>70.0     </td><td>73.00000 </td><td>50.0     </td><td> 89.00000</td><td>82.0     </td><td>60.00000 </td></tr>\n",
       "\t<tr><th scope=row>1st Qu.</th><td>76.00000 </td><td>78.0     </td><td>59.50000 </td><td>50.5     </td><td>70.5     </td><td>79.00000 </td><td>54.5     </td><td> 92.00000</td><td>85.5     </td><td>67.50000 </td></tr>\n",
       "\t<tr><th scope=row>Median</th><td>80.00000 </td><td>86.0     </td><td>60.00000 </td><td>51.0     </td><td>71.0     </td><td>85.00000 </td><td>59.0     </td><td> 95.00000</td><td>89.0     </td><td>75.00000 </td></tr>\n",
       "\t<tr><th scope=row>Mean</th><td>82.33333 </td><td>85.0     </td><td>66.33333 </td><td>61.0     </td><td>72.0     </td><td>82.66667 </td><td>63.0     </td><td> 94.66667</td><td>87.0     </td><td>73.66667 </td></tr>\n",
       "\t<tr><th scope=row>3rd Qu.</th><td>87.50000 </td><td>92.5     </td><td>70.00000 </td><td>66.5     </td><td>73.0     </td><td>87.50000 </td><td>69.5     </td><td> 97.50000</td><td>89.5     </td><td>80.50000 </td></tr>\n",
       "\t<tr><th scope=row>Max.</th><td>95.00000 </td><td>99.0     </td><td>80.00000 </td><td>82.0     </td><td>75.0     </td><td>90.00000 </td><td>80.0     </td><td>100.00000</td><td>90.0     </td><td>86.00000 </td></tr>\n",
       "</tbody>\n",
       "</table>\n"
      ],
      "text/latex": [
       "\\begin{tabular}{r|llllllllll}\n",
       "\tMin. & 72.00000  & 70.0      & 59.00000  & 50.0      & 70.0      & 73.00000  & 50.0      &  89.00000 & 82.0      & 60.00000 \\\\\n",
       "\t1st Qu. & 76.00000  & 78.0      & 59.50000  & 50.5      & 70.5      & 79.00000  & 54.5      &  92.00000 & 85.5      & 67.50000 \\\\\n",
       "\tMedian & 80.00000  & 86.0      & 60.00000  & 51.0      & 71.0      & 85.00000  & 59.0      &  95.00000 & 89.0      & 75.00000 \\\\\n",
       "\tMean & 82.33333  & 85.0      & 66.33333  & 61.0      & 72.0      & 82.66667  & 63.0      &  94.66667 & 87.0      & 73.66667 \\\\\n",
       "\t3rd Qu. & 87.50000  & 92.5      & 70.00000  & 66.5      & 73.0      & 87.50000  & 69.5      &  97.50000 & 89.5      & 80.50000 \\\\\n",
       "\tMax. & 95.00000  & 99.0      & 80.00000  & 82.0      & 75.0      & 90.00000  & 80.0      & 100.00000 & 90.0      & 86.00000 \\\\\n",
       "\\end{tabular}\n"
      ],
      "text/markdown": [
       "\n",
       "| Min. | 72.00000  | 70.0      | 59.00000  | 50.0      | 70.0      | 73.00000  | 50.0      |  89.00000 | 82.0      | 60.00000  | \n",
       "| 1st Qu. | 76.00000  | 78.0      | 59.50000  | 50.5      | 70.5      | 79.00000  | 54.5      |  92.00000 | 85.5      | 67.50000  | \n",
       "| Median | 80.00000  | 86.0      | 60.00000  | 51.0      | 71.0      | 85.00000  | 59.0      |  95.00000 | 89.0      | 75.00000  | \n",
       "| Mean | 82.33333  | 85.0      | 66.33333  | 61.0      | 72.0      | 82.66667  | 63.0      |  94.66667 | 87.0      | 73.66667  | \n",
       "| 3rd Qu. | 87.50000  | 92.5      | 70.00000  | 66.5      | 73.0      | 87.50000  | 69.5      |  97.50000 | 89.5      | 80.50000  | \n",
       "| Max. | 95.00000  | 99.0      | 80.00000  | 82.0      | 75.0      | 90.00000  | 80.0      | 100.00000 | 90.0      | 86.00000  | \n",
       "\n",
       "\n"
      ],
      "text/plain": [
       "        [,1]     [,2] [,3]     [,4] [,5] [,6]     [,7] [,8]      [,9] [,10]   \n",
       "Min.    72.00000 70.0 59.00000 50.0 70.0 73.00000 50.0  89.00000 82.0 60.00000\n",
       "1st Qu. 76.00000 78.0 59.50000 50.5 70.5 79.00000 54.5  92.00000 85.5 67.50000\n",
       "Median  80.00000 86.0 60.00000 51.0 71.0 85.00000 59.0  95.00000 89.0 75.00000\n",
       "Mean    82.33333 85.0 66.33333 61.0 72.0 82.66667 63.0  94.66667 87.0 73.66667\n",
       "3rd Qu. 87.50000 92.5 70.00000 66.5 73.0 87.50000 69.5  97.50000 89.5 80.50000\n",
       "Max.    95.00000 99.0 80.00000 82.0 75.0 90.00000 80.0 100.00000 90.0 86.00000"
      ]
     },
     "metadata": {},
     "output_type": "display_data"
    }
   ],
   "source": [
    "# 가로방향으로 기술통계함수 summary() 적용\n",
    "apply(roster[2:4], 1, summary)"
   ]
  },
  {
   "cell_type": "code",
   "execution_count": 21,
   "metadata": {},
   "outputs": [
    {
     "data": {
      "text/html": [
       "<table>\n",
       "<thead><tr><th scope=col>student</th><th scope=col>math</th><th scope=col>science</th><th scope=col>english</th><th scope=col>avg</th><th scope=col>std</th></tr></thead>\n",
       "<tbody>\n",
       "\t<tr><td>John Davis       </td><td>72               </td><td>95               </td><td> 80              </td><td>82.3             </td><td>11.7             </td></tr>\n",
       "\t<tr><td>Angela Williams  </td><td>86               </td><td>99               </td><td> 70              </td><td>85.0             </td><td>14.5             </td></tr>\n",
       "\t<tr><td>Bullwinkle Moose </td><td>59               </td><td>80               </td><td> 60              </td><td>66.3             </td><td>11.8             </td></tr>\n",
       "\t<tr><td>David Jones      </td><td>51               </td><td>82               </td><td> 50              </td><td>61.0             </td><td>18.2             </td></tr>\n",
       "\t<tr><td>Janice Markhammer</td><td>71               </td><td>75               </td><td> 70              </td><td>72.0             </td><td> 2.6             </td></tr>\n",
       "\t<tr><td>Cheryl Cushing   </td><td>73               </td><td>85               </td><td> 90              </td><td>82.7             </td><td> 8.7             </td></tr>\n",
       "\t<tr><td>Reuven Ytzrhak   </td><td>59               </td><td>80               </td><td> 50              </td><td>63.0             </td><td>15.4             </td></tr>\n",
       "\t<tr><td>Greg Knox        </td><td>89               </td><td>95               </td><td>100              </td><td>94.7             </td><td> 5.5             </td></tr>\n",
       "\t<tr><td>Joel England     </td><td>82               </td><td>89               </td><td> 90              </td><td>87.0             </td><td> 4.4             </td></tr>\n",
       "\t<tr><td>Mary Rayburn     </td><td>75               </td><td>86               </td><td> 60              </td><td>73.7             </td><td>13.1             </td></tr>\n",
       "</tbody>\n",
       "</table>\n"
      ],
      "text/latex": [
       "\\begin{tabular}{r|llllll}\n",
       " student & math & science & english & avg & std\\\\\n",
       "\\hline\n",
       "\t John Davis        & 72                & 95                &  80               & 82.3              & 11.7             \\\\\n",
       "\t Angela Williams   & 86                & 99                &  70               & 85.0              & 14.5             \\\\\n",
       "\t Bullwinkle Moose  & 59                & 80                &  60               & 66.3              & 11.8             \\\\\n",
       "\t David Jones       & 51                & 82                &  50               & 61.0              & 18.2             \\\\\n",
       "\t Janice Markhammer & 71                & 75                &  70               & 72.0              &  2.6             \\\\\n",
       "\t Cheryl Cushing    & 73                & 85                &  90               & 82.7              &  8.7             \\\\\n",
       "\t Reuven Ytzrhak    & 59                & 80                &  50               & 63.0              & 15.4             \\\\\n",
       "\t Greg Knox         & 89                & 95                & 100               & 94.7              &  5.5             \\\\\n",
       "\t Joel England      & 82                & 89                &  90               & 87.0              &  4.4             \\\\\n",
       "\t Mary Rayburn      & 75                & 86                &  60               & 73.7              & 13.1             \\\\\n",
       "\\end{tabular}\n"
      ],
      "text/markdown": [
       "\n",
       "student | math | science | english | avg | std | \n",
       "|---|---|---|---|---|---|---|---|---|---|\n",
       "| John Davis        | 72                | 95                |  80               | 82.3              | 11.7              | \n",
       "| Angela Williams   | 86                | 99                |  70               | 85.0              | 14.5              | \n",
       "| Bullwinkle Moose  | 59                | 80                |  60               | 66.3              | 11.8              | \n",
       "| David Jones       | 51                | 82                |  50               | 61.0              | 18.2              | \n",
       "| Janice Markhammer | 71                | 75                |  70               | 72.0              |  2.6              | \n",
       "| Cheryl Cushing    | 73                | 85                |  90               | 82.7              |  8.7              | \n",
       "| Reuven Ytzrhak    | 59                | 80                |  50               | 63.0              | 15.4              | \n",
       "| Greg Knox         | 89                | 95                | 100               | 94.7              |  5.5              | \n",
       "| Joel England      | 82                | 89                |  90               | 87.0              |  4.4              | \n",
       "| Mary Rayburn      | 75                | 86                |  60               | 73.7              | 13.1              | \n",
       "\n",
       "\n"
      ],
      "text/plain": [
       "   student           math science english avg  std \n",
       "1  John Davis        72   95       80     82.3 11.7\n",
       "2  Angela Williams   86   99       70     85.0 14.5\n",
       "3  Bullwinkle Moose  59   80       60     66.3 11.8\n",
       "4  David Jones       51   82       50     61.0 18.2\n",
       "5  Janice Markhammer 71   75       70     72.0  2.6\n",
       "6  Cheryl Cushing    73   85       90     82.7  8.7\n",
       "7  Reuven Ytzrhak    59   80       50     63.0 15.4\n",
       "8  Greg Knox         89   95      100     94.7  5.5\n",
       "9  Joel England      82   89       90     87.0  4.4\n",
       "10 Mary Rayburn      75   86       60     73.7 13.1"
      ]
     },
     "metadata": {},
     "output_type": "display_data"
    }
   ],
   "source": [
    "roster$avg <- apply(roster[2:4], 1, mean) %>% round(1)\n",
    "roster$std <- apply(roster[2:4], 1, sd) %>% round(1)\n",
    "roster"
   ]
  },
  {
   "cell_type": "code",
   "execution_count": 22,
   "metadata": {},
   "outputs": [
    {
     "name": "stderr",
     "output_type": "stream",
     "text": [
      "\n",
      "Attaching package: 'dplyr'\n",
      "\n",
      "The following objects are masked from 'package:stats':\n",
      "\n",
      "    filter, lag\n",
      "\n",
      "The following objects are masked from 'package:base':\n",
      "\n",
      "    intersect, setdiff, setequal, union\n",
      "\n"
     ]
    },
    {
     "data": {
      "text/html": [
       "<table>\n",
       "<thead><tr><th scope=col>student</th><th scope=col>math</th><th scope=col>science</th><th scope=col>english</th><th scope=col>avg</th><th scope=col>std</th></tr></thead>\n",
       "<tbody>\n",
       "\t<tr><td>Greg Knox        </td><td>89               </td><td>95               </td><td>100              </td><td>94.7             </td><td> 5.5             </td></tr>\n",
       "\t<tr><td>Joel England     </td><td>82               </td><td>89               </td><td> 90              </td><td>87.0             </td><td> 4.4             </td></tr>\n",
       "\t<tr><td>Angela Williams  </td><td>86               </td><td>99               </td><td> 70              </td><td>85.0             </td><td>14.5             </td></tr>\n",
       "\t<tr><td>Cheryl Cushing   </td><td>73               </td><td>85               </td><td> 90              </td><td>82.7             </td><td> 8.7             </td></tr>\n",
       "\t<tr><td>John Davis       </td><td>72               </td><td>95               </td><td> 80              </td><td>82.3             </td><td>11.7             </td></tr>\n",
       "\t<tr><td>Mary Rayburn     </td><td>75               </td><td>86               </td><td> 60              </td><td>73.7             </td><td>13.1             </td></tr>\n",
       "\t<tr><td>Janice Markhammer</td><td>71               </td><td>75               </td><td> 70              </td><td>72.0             </td><td> 2.6             </td></tr>\n",
       "\t<tr><td>Bullwinkle Moose </td><td>59               </td><td>80               </td><td> 60              </td><td>66.3             </td><td>11.8             </td></tr>\n",
       "\t<tr><td>Reuven Ytzrhak   </td><td>59               </td><td>80               </td><td> 50              </td><td>63.0             </td><td>15.4             </td></tr>\n",
       "\t<tr><td>David Jones      </td><td>51               </td><td>82               </td><td> 50              </td><td>61.0             </td><td>18.2             </td></tr>\n",
       "</tbody>\n",
       "</table>\n"
      ],
      "text/latex": [
       "\\begin{tabular}{r|llllll}\n",
       " student & math & science & english & avg & std\\\\\n",
       "\\hline\n",
       "\t Greg Knox         & 89                & 95                & 100               & 94.7              &  5.5             \\\\\n",
       "\t Joel England      & 82                & 89                &  90               & 87.0              &  4.4             \\\\\n",
       "\t Angela Williams   & 86                & 99                &  70               & 85.0              & 14.5             \\\\\n",
       "\t Cheryl Cushing    & 73                & 85                &  90               & 82.7              &  8.7             \\\\\n",
       "\t John Davis        & 72                & 95                &  80               & 82.3              & 11.7             \\\\\n",
       "\t Mary Rayburn      & 75                & 86                &  60               & 73.7              & 13.1             \\\\\n",
       "\t Janice Markhammer & 71                & 75                &  70               & 72.0              &  2.6             \\\\\n",
       "\t Bullwinkle Moose  & 59                & 80                &  60               & 66.3              & 11.8             \\\\\n",
       "\t Reuven Ytzrhak    & 59                & 80                &  50               & 63.0              & 15.4             \\\\\n",
       "\t David Jones       & 51                & 82                &  50               & 61.0              & 18.2             \\\\\n",
       "\\end{tabular}\n"
      ],
      "text/markdown": [
       "\n",
       "student | math | science | english | avg | std | \n",
       "|---|---|---|---|---|---|---|---|---|---|\n",
       "| Greg Knox         | 89                | 95                | 100               | 94.7              |  5.5              | \n",
       "| Joel England      | 82                | 89                |  90               | 87.0              |  4.4              | \n",
       "| Angela Williams   | 86                | 99                |  70               | 85.0              | 14.5              | \n",
       "| Cheryl Cushing    | 73                | 85                |  90               | 82.7              |  8.7              | \n",
       "| John Davis        | 72                | 95                |  80               | 82.3              | 11.7              | \n",
       "| Mary Rayburn      | 75                | 86                |  60               | 73.7              | 13.1              | \n",
       "| Janice Markhammer | 71                | 75                |  70               | 72.0              |  2.6              | \n",
       "| Bullwinkle Moose  | 59                | 80                |  60               | 66.3              | 11.8              | \n",
       "| Reuven Ytzrhak    | 59                | 80                |  50               | 63.0              | 15.4              | \n",
       "| David Jones       | 51                | 82                |  50               | 61.0              | 18.2              | \n",
       "\n",
       "\n"
      ],
      "text/plain": [
       "   student           math science english avg  std \n",
       "1  Greg Knox         89   95      100     94.7  5.5\n",
       "2  Joel England      82   89       90     87.0  4.4\n",
       "3  Angela Williams   86   99       70     85.0 14.5\n",
       "4  Cheryl Cushing    73   85       90     82.7  8.7\n",
       "5  John Davis        72   95       80     82.3 11.7\n",
       "6  Mary Rayburn      75   86       60     73.7 13.1\n",
       "7  Janice Markhammer 71   75       70     72.0  2.6\n",
       "8  Bullwinkle Moose  59   80       60     66.3 11.8\n",
       "9  Reuven Ytzrhak    59   80       50     63.0 15.4\n",
       "10 David Jones       51   82       50     61.0 18.2"
      ]
     },
     "metadata": {},
     "output_type": "display_data"
    },
    {
     "name": "stdout",
     "output_type": "stream",
     "text": [
      "\n"
     ]
    },
    {
     "data": {
      "text/html": [
       "<table>\n",
       "<thead><tr><th scope=col>student</th><th scope=col>math</th><th scope=col>science</th><th scope=col>english</th><th scope=col>avg</th><th scope=col>std</th></tr></thead>\n",
       "<tbody>\n",
       "\t<tr><td>Greg Knox        </td><td>89               </td><td>95               </td><td>100              </td><td>94.7             </td><td> 5.5             </td></tr>\n",
       "\t<tr><td>Joel England     </td><td>82               </td><td>89               </td><td> 90              </td><td>87.0             </td><td> 4.4             </td></tr>\n",
       "\t<tr><td>Angela Williams  </td><td>86               </td><td>99               </td><td> 70              </td><td>85.0             </td><td>14.5             </td></tr>\n",
       "\t<tr><td>Cheryl Cushing   </td><td>73               </td><td>85               </td><td> 90              </td><td>82.7             </td><td> 8.7             </td></tr>\n",
       "\t<tr><td>John Davis       </td><td>72               </td><td>95               </td><td> 80              </td><td>82.3             </td><td>11.7             </td></tr>\n",
       "\t<tr><td>Mary Rayburn     </td><td>75               </td><td>86               </td><td> 60              </td><td>73.7             </td><td>13.1             </td></tr>\n",
       "\t<tr><td>Janice Markhammer</td><td>71               </td><td>75               </td><td> 70              </td><td>72.0             </td><td> 2.6             </td></tr>\n",
       "\t<tr><td>Bullwinkle Moose </td><td>59               </td><td>80               </td><td> 60              </td><td>66.3             </td><td>11.8             </td></tr>\n",
       "\t<tr><td>Reuven Ytzrhak   </td><td>59               </td><td>80               </td><td> 50              </td><td>63.0             </td><td>15.4             </td></tr>\n",
       "\t<tr><td>David Jones      </td><td>51               </td><td>82               </td><td> 50              </td><td>61.0             </td><td>18.2             </td></tr>\n",
       "</tbody>\n",
       "</table>\n"
      ],
      "text/latex": [
       "\\begin{tabular}{r|llllll}\n",
       " student & math & science & english & avg & std\\\\\n",
       "\\hline\n",
       "\t Greg Knox         & 89                & 95                & 100               & 94.7              &  5.5             \\\\\n",
       "\t Joel England      & 82                & 89                &  90               & 87.0              &  4.4             \\\\\n",
       "\t Angela Williams   & 86                & 99                &  70               & 85.0              & 14.5             \\\\\n",
       "\t Cheryl Cushing    & 73                & 85                &  90               & 82.7              &  8.7             \\\\\n",
       "\t John Davis        & 72                & 95                &  80               & 82.3              & 11.7             \\\\\n",
       "\t Mary Rayburn      & 75                & 86                &  60               & 73.7              & 13.1             \\\\\n",
       "\t Janice Markhammer & 71                & 75                &  70               & 72.0              &  2.6             \\\\\n",
       "\t Bullwinkle Moose  & 59                & 80                &  60               & 66.3              & 11.8             \\\\\n",
       "\t Reuven Ytzrhak    & 59                & 80                &  50               & 63.0              & 15.4             \\\\\n",
       "\t David Jones       & 51                & 82                &  50               & 61.0              & 18.2             \\\\\n",
       "\\end{tabular}\n"
      ],
      "text/markdown": [
       "\n",
       "student | math | science | english | avg | std | \n",
       "|---|---|---|---|---|---|---|---|---|---|\n",
       "| Greg Knox         | 89                | 95                | 100               | 94.7              |  5.5              | \n",
       "| Joel England      | 82                | 89                |  90               | 87.0              |  4.4              | \n",
       "| Angela Williams   | 86                | 99                |  70               | 85.0              | 14.5              | \n",
       "| Cheryl Cushing    | 73                | 85                |  90               | 82.7              |  8.7              | \n",
       "| John Davis        | 72                | 95                |  80               | 82.3              | 11.7              | \n",
       "| Mary Rayburn      | 75                | 86                |  60               | 73.7              | 13.1              | \n",
       "| Janice Markhammer | 71                | 75                |  70               | 72.0              |  2.6              | \n",
       "| Bullwinkle Moose  | 59                | 80                |  60               | 66.3              | 11.8              | \n",
       "| Reuven Ytzrhak    | 59                | 80                |  50               | 63.0              | 15.4              | \n",
       "| David Jones       | 51                | 82                |  50               | 61.0              | 18.2              | \n",
       "\n",
       "\n"
      ],
      "text/plain": [
       "   student           math science english avg  std \n",
       "1  Greg Knox         89   95      100     94.7  5.5\n",
       "2  Joel England      82   89       90     87.0  4.4\n",
       "3  Angela Williams   86   99       70     85.0 14.5\n",
       "4  Cheryl Cushing    73   85       90     82.7  8.7\n",
       "5  John Davis        72   95       80     82.3 11.7\n",
       "6  Mary Rayburn      75   86       60     73.7 13.1\n",
       "7  Janice Markhammer 71   75       70     72.0  2.6\n",
       "8  Bullwinkle Moose  59   80       60     66.3 11.8\n",
       "9  Reuven Ytzrhak    59   80       50     63.0 15.4\n",
       "10 David Jones       51   82       50     61.0 18.2"
      ]
     },
     "metadata": {},
     "output_type": "display_data"
    }
   ],
   "source": [
    "# 특정변수컬럼을 기준으로 정렬하기\n",
    "# install.packages('dplyr')\n",
    "library(dplyr)\n",
    "library(magrittr)\n",
    "\n",
    "arrange(roster, desc(avg), desc(std))\n",
    "cat('\\n')\n",
    "roster %>% arrange(desc(avg), desc(std))"
   ]
  },
  {
   "cell_type": "markdown",
   "metadata": {},
   "source": [
    "#### 세로방향 연산"
   ]
  },
  {
   "cell_type": "code",
   "execution_count": 23,
   "metadata": {},
   "outputs": [
    {
     "data": {
      "text/html": [
       "<dl class=dl-horizontal>\n",
       "\t<dt>math</dt>\n",
       "\t\t<dd>717</dd>\n",
       "\t<dt>science</dt>\n",
       "\t\t<dd>866</dd>\n",
       "\t<dt>english</dt>\n",
       "\t\t<dd>720</dd>\n",
       "</dl>\n"
      ],
      "text/latex": [
       "\\begin{description*}\n",
       "\\item[math] 717\n",
       "\\item[science] 866\n",
       "\\item[english] 720\n",
       "\\end{description*}\n"
      ],
      "text/markdown": [
       "math\n",
       ":   717science\n",
       ":   866english\n",
       ":   720\n",
       "\n"
      ],
      "text/plain": [
       "   math science english \n",
       "    717     866     720 "
      ]
     },
     "metadata": {},
     "output_type": "display_data"
    },
    {
     "data": {
      "text/html": [
       "<dl class=dl-horizontal>\n",
       "\t<dt>math</dt>\n",
       "\t\t<dd>10</dd>\n",
       "\t<dt>science</dt>\n",
       "\t\t<dd>10</dd>\n",
       "\t<dt>english</dt>\n",
       "\t\t<dd>10</dd>\n",
       "</dl>\n"
      ],
      "text/latex": [
       "\\begin{description*}\n",
       "\\item[math] 10\n",
       "\\item[science] 10\n",
       "\\item[english] 10\n",
       "\\end{description*}\n"
      ],
      "text/markdown": [
       "math\n",
       ":   10science\n",
       ":   10english\n",
       ":   10\n",
       "\n"
      ],
      "text/plain": [
       "   math science english \n",
       "     10      10      10 "
      ]
     },
     "metadata": {},
     "output_type": "display_data"
    },
    {
     "data": {
      "text/html": [
       "<dl class=dl-horizontal>\n",
       "\t<dt>math</dt>\n",
       "\t\t<dd>717</dd>\n",
       "\t<dt>science</dt>\n",
       "\t\t<dd>866</dd>\n",
       "\t<dt>english</dt>\n",
       "\t\t<dd>720</dd>\n",
       "</dl>\n"
      ],
      "text/latex": [
       "\\begin{description*}\n",
       "\\item[math] 717\n",
       "\\item[science] 866\n",
       "\\item[english] 720\n",
       "\\end{description*}\n"
      ],
      "text/markdown": [
       "math\n",
       ":   717science\n",
       ":   866english\n",
       ":   720\n",
       "\n"
      ],
      "text/plain": [
       "   math science english \n",
       "    717     866     720 "
      ]
     },
     "metadata": {},
     "output_type": "display_data"
    },
    {
     "data": {
      "text/html": [
       "<dl class=dl-horizontal>\n",
       "\t<dt>math</dt>\n",
       "\t\t<dd>89</dd>\n",
       "\t<dt>science</dt>\n",
       "\t\t<dd>99</dd>\n",
       "\t<dt>english</dt>\n",
       "\t\t<dd>100</dd>\n",
       "</dl>\n"
      ],
      "text/latex": [
       "\\begin{description*}\n",
       "\\item[math] 89\n",
       "\\item[science] 99\n",
       "\\item[english] 100\n",
       "\\end{description*}\n"
      ],
      "text/markdown": [
       "math\n",
       ":   89science\n",
       ":   99english\n",
       ":   100\n",
       "\n"
      ],
      "text/plain": [
       "   math science english \n",
       "     89      99     100 "
      ]
     },
     "metadata": {},
     "output_type": "display_data"
    },
    {
     "data": {
      "text/html": [
       "<dl class=dl-horizontal>\n",
       "\t<dt>math</dt>\n",
       "\t\t<dd>51</dd>\n",
       "\t<dt>science</dt>\n",
       "\t\t<dd>75</dd>\n",
       "\t<dt>english</dt>\n",
       "\t\t<dd>50</dd>\n",
       "</dl>\n"
      ],
      "text/latex": [
       "\\begin{description*}\n",
       "\\item[math] 51\n",
       "\\item[science] 75\n",
       "\\item[english] 50\n",
       "\\end{description*}\n"
      ],
      "text/markdown": [
       "math\n",
       ":   51science\n",
       ":   75english\n",
       ":   50\n",
       "\n"
      ],
      "text/plain": [
       "   math science english \n",
       "     51      75      50 "
      ]
     },
     "metadata": {},
     "output_type": "display_data"
    },
    {
     "data": {
      "text/html": [
       "<dl class=dl-horizontal>\n",
       "\t<dt>math</dt>\n",
       "\t\t<dd>72.5</dd>\n",
       "\t<dt>science</dt>\n",
       "\t\t<dd>85.5</dd>\n",
       "\t<dt>english</dt>\n",
       "\t\t<dd>70</dd>\n",
       "</dl>\n"
      ],
      "text/latex": [
       "\\begin{description*}\n",
       "\\item[math] 72.5\n",
       "\\item[science] 85.5\n",
       "\\item[english] 70\n",
       "\\end{description*}\n"
      ],
      "text/markdown": [
       "math\n",
       ":   72.5science\n",
       ":   85.5english\n",
       ":   70\n",
       "\n"
      ],
      "text/plain": [
       "   math science english \n",
       "   72.5    85.5    70.0 "
      ]
     },
     "metadata": {},
     "output_type": "display_data"
    },
    {
     "data": {
      "text/html": [
       "<dl class=dl-horizontal>\n",
       "\t<dt>math</dt>\n",
       "\t\t<dd>71.7</dd>\n",
       "\t<dt>science</dt>\n",
       "\t\t<dd>86.6</dd>\n",
       "\t<dt>english</dt>\n",
       "\t\t<dd>72</dd>\n",
       "</dl>\n"
      ],
      "text/latex": [
       "\\begin{description*}\n",
       "\\item[math] 71.7\n",
       "\\item[science] 86.6\n",
       "\\item[english] 72\n",
       "\\end{description*}\n"
      ],
      "text/markdown": [
       "math\n",
       ":   71.7science\n",
       ":   86.6english\n",
       ":   72\n",
       "\n"
      ],
      "text/plain": [
       "   math science english \n",
       "   71.7    86.6    72.0 "
      ]
     },
     "metadata": {},
     "output_type": "display_data"
    },
    {
     "data": {
      "text/html": [
       "<dl class=dl-horizontal>\n",
       "\t<dt>math</dt>\n",
       "\t\t<dd>12.4</dd>\n",
       "\t<dt>science</dt>\n",
       "\t\t<dd>7.8</dd>\n",
       "\t<dt>english</dt>\n",
       "\t\t<dd>17.5</dd>\n",
       "</dl>\n"
      ],
      "text/latex": [
       "\\begin{description*}\n",
       "\\item[math] 12.4\n",
       "\\item[science] 7.8\n",
       "\\item[english] 17.5\n",
       "\\end{description*}\n"
      ],
      "text/markdown": [
       "math\n",
       ":   12.4science\n",
       ":   7.8english\n",
       ":   17.5\n",
       "\n"
      ],
      "text/plain": [
       "   math science english \n",
       "   12.4     7.8    17.5 "
      ]
     },
     "metadata": {},
     "output_type": "display_data"
    }
   ],
   "source": [
    "# 세로방향 연산\n",
    "# - 각 과목별 학생점수에 대한 연산\n",
    "\n",
    "colSums(roster[2:4])\n",
    "\n",
    "apply(roster[2:4], 2, length)\n",
    "apply(roster[2:4], 2, sum)\n",
    "apply(roster[2:4], 2, max)\n",
    "apply(roster[2:4], 2, min)\n",
    "apply(roster[2:4], 2, median)\n",
    "apply(roster[2:4], 2, mean) %>% round(1)\n",
    "apply(roster[2:4], 2, sd) %>% round(1)"
   ]
  },
  {
   "cell_type": "code",
   "execution_count": 24,
   "metadata": {},
   "outputs": [
    {
     "data": {
      "text/html": [
       "<table>\n",
       "<thead><tr><th></th><th scope=col>math</th><th scope=col>science</th><th scope=col>english</th></tr></thead>\n",
       "<tbody>\n",
       "\t<tr><th scope=row>Min.</th><td>51.00</td><td>75.0 </td><td> 50.0</td></tr>\n",
       "\t<tr><th scope=row>1st Qu.</th><td>62.00</td><td>80.5 </td><td> 60.0</td></tr>\n",
       "\t<tr><th scope=row>Median</th><td>72.50</td><td>85.5 </td><td> 70.0</td></tr>\n",
       "\t<tr><th scope=row>Mean</th><td>71.70</td><td>86.6 </td><td> 72.0</td></tr>\n",
       "\t<tr><th scope=row>3rd Qu.</th><td>80.25</td><td>93.5 </td><td> 87.5</td></tr>\n",
       "\t<tr><th scope=row>Max.</th><td>89.00</td><td>99.0 </td><td>100.0</td></tr>\n",
       "</tbody>\n",
       "</table>\n"
      ],
      "text/latex": [
       "\\begin{tabular}{r|lll}\n",
       "  & math & science & english\\\\\n",
       "\\hline\n",
       "\tMin. & 51.00 & 75.0  &  50.0\\\\\n",
       "\t1st Qu. & 62.00 & 80.5  &  60.0\\\\\n",
       "\tMedian & 72.50 & 85.5  &  70.0\\\\\n",
       "\tMean & 71.70 & 86.6  &  72.0\\\\\n",
       "\t3rd Qu. & 80.25 & 93.5  &  87.5\\\\\n",
       "\tMax. & 89.00 & 99.0  & 100.0\\\\\n",
       "\\end{tabular}\n"
      ],
      "text/markdown": [
       "\n",
       "| <!--/--> | math | science | english | \n",
       "|---|---|---|---|---|---|\n",
       "| Min. | 51.00 | 75.0  |  50.0 | \n",
       "| 1st Qu. | 62.00 | 80.5  |  60.0 | \n",
       "| Median | 72.50 | 85.5  |  70.0 | \n",
       "| Mean | 71.70 | 86.6  |  72.0 | \n",
       "| 3rd Qu. | 80.25 | 93.5  |  87.5 | \n",
       "| Max. | 89.00 | 99.0  | 100.0 | \n",
       "\n",
       "\n"
      ],
      "text/plain": [
       "        math  science english\n",
       "Min.    51.00 75.0     50.0  \n",
       "1st Qu. 62.00 80.5     60.0  \n",
       "Median  72.50 85.5     70.0  \n",
       "Mean    71.70 86.6     72.0  \n",
       "3rd Qu. 80.25 93.5     87.5  \n",
       "Max.    89.00 99.0    100.0  "
      ]
     },
     "metadata": {},
     "output_type": "display_data"
    }
   ],
   "source": [
    "# 세로방향으로 기술통계함수 summary() 적용\n",
    "apply(roster[2:4], 2, summary)"
   ]
  },
  {
   "cell_type": "markdown",
   "metadata": {},
   "source": [
    "# <font color = 'blue'>다양한 데이터순환 함수(p.36)</font>\n",
    "* 특정 데이터셋에 들어 있는 각 요소항목별로 \n",
    "<br>필요한 함수를 일괄 적용해서 리스트객체로 만들어줌"
   ]
  },
  {
   "cell_type": "markdown",
   "metadata": {},
   "source": [
    "### 간단 리스트 객체 생성"
   ]
  },
  {
   "cell_type": "code",
   "execution_count": 25,
   "metadata": {},
   "outputs": [
    {
     "name": "stdout",
     "output_type": "stream",
     "text": [
      "$A\n",
      "     [,1] [,2] [,3] [,4]\n",
      "[1,]    1    4    7   10\n",
      "[2,]    2    5    8   11\n",
      "[3,]    3    6    9   12\n",
      "\n",
      "$B\n",
      "[1] 1 2 3 4 5\n",
      "\n",
      "$C\n",
      "     [,1] [,2]\n",
      "[1,]    1    3\n",
      "[2,]    2    4\n",
      "\n",
      "$D\n",
      "[1] 2 4 2 4 2 4\n",
      "\n"
     ]
    }
   ],
   "source": [
    "# 간단 리스트 형식 데이터 생성\n",
    "ex <- list(A = matrix(1:12, 3, byrow = FALSE), B = 1:5, \n",
    "           C = matrix(1:4, 2), D = rep(c(2, 4), 3))\n",
    "\n",
    "print(ex)\n",
    "# - 전형적인 리스트 형식객체임"
   ]
  },
  {
   "cell_type": "markdown",
   "metadata": {},
   "source": [
    "### 데이터순환 적용결과를 리스트객체로 리턴"
   ]
  },
  {
   "cell_type": "markdown",
   "metadata": {},
   "source": [
    "#### 각 요소항목별 합(sum) 구하기"
   ]
  },
  {
   "cell_type": "code",
   "execution_count": 26,
   "metadata": {},
   "outputs": [
    {
     "name": "stdout",
     "output_type": "stream",
     "text": [
      "$A\n",
      "[1] 78\n",
      "\n",
      "$B\n",
      "[1] 15\n",
      "\n",
      "$C\n",
      "[1] 10\n",
      "\n",
      "$D\n",
      "[1] 18\n",
      "\n"
     ]
    },
    {
     "data": {
      "text/html": [
       "'list'"
      ],
      "text/latex": [
       "'list'"
      ],
      "text/markdown": [
       "'list'"
      ],
      "text/plain": [
       "[1] \"list\""
      ]
     },
     "metadata": {},
     "output_type": "display_data"
    },
    {
     "name": "stdout",
     "output_type": "stream",
     "text": [
      " A  B  C  D \n",
      "78 15 10 18 \n"
     ]
    },
    {
     "data": {
      "text/html": [
       "'numeric'"
      ],
      "text/latex": [
       "'numeric'"
      ],
      "text/markdown": [
       "'numeric'"
      ],
      "text/plain": [
       "[1] \"numeric\""
      ]
     },
     "metadata": {},
     "output_type": "display_data"
    }
   ],
   "source": [
    "# base::lapply() 함수사용 데이터순환\n",
    "print(lapply(ex, sum))\n",
    "# - 각 리스트항목에 접근해 sum함수를 적용한 결과를 리스트형식으로 만들어줌\n",
    "\n",
    "class(lapply(ex, sum))\n",
    "# - lapply() 함수적용 결과는 숫자형 리스트객체임\n",
    "\n",
    "# 리스트객체 구조를 해제하여, 벡터객체로 변환\n",
    "print(unlist(lapply(ex, sum)))\n",
    "class(unlist(lapply(ex, sum)))"
   ]
  },
  {
   "cell_type": "code",
   "execution_count": 27,
   "metadata": {},
   "outputs": [
    {
     "name": "stderr",
     "output_type": "stream",
     "text": [
      "\n",
      "Attaching package: 'purrr'\n",
      "\n",
      "The following object is masked from 'package:magrittr':\n",
      "\n",
      "    set_names\n",
      "\n"
     ]
    },
    {
     "name": "stdout",
     "output_type": "stream",
     "text": [
      "$A\n",
      "[1] 78\n",
      "\n",
      "$B\n",
      "[1] 15\n",
      "\n",
      "$C\n",
      "[1] 10\n",
      "\n",
      "$D\n",
      "[1] 18\n",
      "\n"
     ]
    },
    {
     "data": {
      "text/html": [
       "'list'"
      ],
      "text/latex": [
       "'list'"
      ],
      "text/markdown": [
       "'list'"
      ],
      "text/plain": [
       "[1] \"list\""
      ]
     },
     "metadata": {},
     "output_type": "display_data"
    },
    {
     "name": "stdout",
     "output_type": "stream",
     "text": [
      " A  B  C  D \n",
      "78 15 10 18 \n"
     ]
    },
    {
     "data": {
      "text/html": [
       "'numeric'"
      ],
      "text/latex": [
       "'numeric'"
      ],
      "text/markdown": [
       "'numeric'"
      ],
      "text/plain": [
       "[1] \"numeric\""
      ]
     },
     "metadata": {},
     "output_type": "display_data"
    }
   ],
   "source": [
    "# purr::map() 함수사용 데이터순환\n",
    "# install.packages('purrr')\n",
    "library(purrr)\n",
    "print(map(ex, sum))\n",
    "\n",
    "class(map(ex, sum))\n",
    "# - map() 함수적용 결과는 숫자형 리스트객체임\n",
    "\n",
    "# 리스트객체 구조를 해제하여, 벡터객체로 변환\n",
    "print(unlist(map(ex, sum)))\n",
    "class(unlist(map(ex, sum)))"
   ]
  },
  {
   "cell_type": "code",
   "execution_count": 28,
   "metadata": {},
   "outputs": [
    {
     "data": {
      "text/html": [
       "TRUE"
      ],
      "text/latex": [
       "TRUE"
      ],
      "text/markdown": [
       "TRUE"
      ],
      "text/plain": [
       "[1] TRUE"
      ]
     },
     "metadata": {},
     "output_type": "display_data"
    },
    {
     "data": {
      "text/html": [
       "TRUE"
      ],
      "text/latex": [
       "TRUE"
      ],
      "text/markdown": [
       "TRUE"
      ],
      "text/plain": [
       "[1] TRUE"
      ]
     },
     "metadata": {},
     "output_type": "display_data"
    }
   ],
   "source": [
    "# 두 방식간 동일성 체크\n",
    "\n",
    "identical(lapply(ex, sum), map(ex, sum))\n",
    "\n",
    "identical(unlist(lapply(ex, sum)), unlist(map(ex, sum)))"
   ]
  },
  {
   "cell_type": "markdown",
   "metadata": {},
   "source": [
    "#### 각 요소항목별 길이(length) 구하기"
   ]
  },
  {
   "cell_type": "code",
   "execution_count": 29,
   "metadata": {},
   "outputs": [
    {
     "name": "stdout",
     "output_type": "stream",
     "text": [
      "$A\n",
      "     [,1] [,2] [,3] [,4]\n",
      "[1,]    1    4    7   10\n",
      "[2,]    2    5    8   11\n",
      "[3,]    3    6    9   12\n",
      "\n",
      "$B\n",
      "[1] 1 2 3 4 5\n",
      "\n",
      "$C\n",
      "     [,1] [,2]\n",
      "[1,]    1    3\n",
      "[2,]    2    4\n",
      "\n",
      "$D\n",
      "[1] 2 4 2 4 2 4\n",
      "\n"
     ]
    }
   ],
   "source": [
    "# ex 리스트객체 내용 재확인\n",
    "print(ex)"
   ]
  },
  {
   "cell_type": "code",
   "execution_count": 30,
   "metadata": {},
   "outputs": [
    {
     "name": "stdout",
     "output_type": "stream",
     "text": [
      "$A\n",
      "[1] 12\n",
      "\n",
      "$B\n",
      "[1] 5\n",
      "\n",
      "$C\n",
      "[1] 4\n",
      "\n",
      "$D\n",
      "[1] 6\n",
      "\n",
      " A  B  C  D \n",
      "12  5  4  6 \n"
     ]
    }
   ],
   "source": [
    "# base패키지 lapply() 함수사용\n",
    "print(lapply(ex, length))\n",
    "# - 각 리스트항목에 접근해 sum함수를 적용한 결과를 리스트형식으로 만들어줌\n",
    "\n",
    "print(unlist(lapply(ex, length)))\n",
    "# - unlist()함수를 이용해 리스트객체를 벡터객체로 변환"
   ]
  },
  {
   "cell_type": "code",
   "execution_count": 31,
   "metadata": {},
   "outputs": [
    {
     "name": "stdout",
     "output_type": "stream",
     "text": [
      "$A\n",
      "[1] 12\n",
      "\n",
      "$B\n",
      "[1] 5\n",
      "\n",
      "$C\n",
      "[1] 4\n",
      "\n",
      "$D\n",
      "[1] 6\n",
      "\n",
      " A  B  C  D \n",
      "12  5  4  6 \n"
     ]
    }
   ],
   "source": [
    "# 데이터 순환사용 purr패키지 사용\n",
    "# install.packages('purrr')\n",
    "library(purrr)\n",
    "\n",
    "print(map(ex, length))\n",
    "\n",
    "print(unlist(map(ex, length)))\n",
    "# - unlist()함수를 이용해 리스트객체를 벡터객체로 변환"
   ]
  },
  {
   "cell_type": "code",
   "execution_count": 32,
   "metadata": {},
   "outputs": [
    {
     "data": {
      "text/html": [
       "TRUE"
      ],
      "text/latex": [
       "TRUE"
      ],
      "text/markdown": [
       "TRUE"
      ],
      "text/plain": [
       "[1] TRUE"
      ]
     },
     "metadata": {},
     "output_type": "display_data"
    },
    {
     "data": {
      "text/html": [
       "TRUE"
      ],
      "text/latex": [
       "TRUE"
      ],
      "text/markdown": [
       "TRUE"
      ],
      "text/plain": [
       "[1] TRUE"
      ]
     },
     "metadata": {},
     "output_type": "display_data"
    }
   ],
   "source": [
    "# 두 방식간 동일성 체크\n",
    "\n",
    "identical(lapply(ex, length), map(ex, length))\n",
    "\n",
    "identical(unlist(lapply(ex, length)), unlist(map(ex, length)))"
   ]
  },
  {
   "cell_type": "markdown",
   "metadata": {},
   "source": [
    "### 데이터순환 적용결과를 벡터객체로 리턴"
   ]
  },
  {
   "cell_type": "markdown",
   "metadata": {},
   "source": [
    "#### 각 요소항목별 합(sum) 구하기"
   ]
  },
  {
   "cell_type": "code",
   "execution_count": 33,
   "metadata": {
    "scrolled": true
   },
   "outputs": [
    {
     "name": "stdout",
     "output_type": "stream",
     "text": [
      "$A\n",
      "     [,1] [,2] [,3] [,4]\n",
      "[1,]    1    4    7   10\n",
      "[2,]    2    5    8   11\n",
      "[3,]    3    6    9   12\n",
      "\n",
      "$B\n",
      "[1] 1 2 3 4 5\n",
      "\n",
      "$C\n",
      "     [,1] [,2]\n",
      "[1,]    1    3\n",
      "[2,]    2    4\n",
      "\n",
      "$D\n",
      "[1] 2 4 2 4 2 4\n",
      "\n"
     ]
    }
   ],
   "source": [
    "# ex 리스트객체 내용 재확인\n",
    "print(ex)"
   ]
  },
  {
   "cell_type": "code",
   "execution_count": 34,
   "metadata": {},
   "outputs": [
    {
     "name": "stdout",
     "output_type": "stream",
     "text": [
      " A  B  C  D \n",
      "78 15 10 18 \n"
     ]
    },
    {
     "data": {
      "text/html": [
       "'numeric'"
      ],
      "text/latex": [
       "'numeric'"
      ],
      "text/markdown": [
       "'numeric'"
      ],
      "text/plain": [
       "[1] \"numeric\""
      ]
     },
     "metadata": {},
     "output_type": "display_data"
    }
   ],
   "source": [
    "# base패키f지 lapply() 함수사용\n",
    "print(sapply(ex, sum))\n",
    "# - 각 리스트항목에 접근해 sum함수를 적용한 결과를 리스트형식으로 만들어줌\n",
    "# - sum() 함수의 연산결과는 실수임\n",
    "\n",
    "class(sapply(ex, sum))\n",
    "# - sum() 함수는 실수형(numeric) 수치로 합을 구해주며, \n",
    "#   sapply()를 통해 실수형(numeric) 벡터객체로 리턴됨"
   ]
  },
  {
   "cell_type": "code",
   "execution_count": 35,
   "metadata": {},
   "outputs": [
    {
     "name": "stdout",
     "output_type": "stream",
     "text": [
      " A  B  C  D \n",
      "78 15 10 18 \n"
     ]
    },
    {
     "data": {
      "text/html": [
       "'numeric'"
      ],
      "text/latex": [
       "'numeric'"
      ],
      "text/markdown": [
       "'numeric'"
      ],
      "text/plain": [
       "[1] \"numeric\""
      ]
     },
     "metadata": {},
     "output_type": "display_data"
    }
   ],
   "source": [
    "# 데이터 순환사용 purr패키지 사용\n",
    "# install.packages('purrr')\n",
    "library(purrr)\n",
    "\n",
    "print(map_dbl(ex, sum))\n",
    "# - map_dbl() 함수의 데이터순환 연산결과는 실수임\n",
    "\n",
    "\n",
    "class(map_dbl(ex, sum))\n",
    "# - sum() 함수는 실수형(numeric) 수치로 합을 구해주며, \n",
    "#   map_dlb()을 통해 실수형(numeric) 벡터객체로 리턴됨"
   ]
  },
  {
   "cell_type": "code",
   "execution_count": 36,
   "metadata": {},
   "outputs": [
    {
     "data": {
      "text/html": [
       "TRUE"
      ],
      "text/latex": [
       "TRUE"
      ],
      "text/markdown": [
       "TRUE"
      ],
      "text/plain": [
       "[1] TRUE"
      ]
     },
     "metadata": {},
     "output_type": "display_data"
    }
   ],
   "source": [
    "# 두 방식간 동일성 체크\n",
    "\n",
    "identical(sapply(ex, sum), map_dbl(ex, sum))"
   ]
  },
  {
   "cell_type": "markdown",
   "metadata": {},
   "source": [
    "#### 각 요소항목별 길이(length) 구하기"
   ]
  },
  {
   "cell_type": "code",
   "execution_count": 37,
   "metadata": {
    "scrolled": true
   },
   "outputs": [
    {
     "name": "stdout",
     "output_type": "stream",
     "text": [
      "$A\n",
      "     [,1] [,2] [,3] [,4]\n",
      "[1,]    1    4    7   10\n",
      "[2,]    2    5    8   11\n",
      "[3,]    3    6    9   12\n",
      "\n",
      "$B\n",
      "[1] 1 2 3 4 5\n",
      "\n",
      "$C\n",
      "     [,1] [,2]\n",
      "[1,]    1    3\n",
      "[2,]    2    4\n",
      "\n",
      "$D\n",
      "[1] 2 4 2 4 2 4\n",
      "\n"
     ]
    }
   ],
   "source": [
    "# ex 리스트객체 내용 재확인\n",
    "print(ex)"
   ]
  },
  {
   "cell_type": "code",
   "execution_count": 38,
   "metadata": {},
   "outputs": [
    {
     "name": "stdout",
     "output_type": "stream",
     "text": [
      " A  B  C  D \n",
      "12  5  4  6 \n"
     ]
    },
    {
     "data": {
      "text/html": [
       "'integer'"
      ],
      "text/latex": [
       "'integer'"
      ],
      "text/markdown": [
       "'integer'"
      ],
      "text/plain": [
       "[1] \"integer\""
      ]
     },
     "metadata": {},
     "output_type": "display_data"
    }
   ],
   "source": [
    "# base패키지 lapply() 함수사용\n",
    "print(sapply(ex, length))\n",
    "# - 각 리스트항목에 접근해 length함수를 적용한 결과를 리스트형식으로 만들어줌\n",
    "# - length() 함수의 결과는 정수임\n",
    "\n",
    "class(sapply(ex, length))\n",
    "# - length() 함수는 정수형(integer) 수치로 요소갯수를 구해주며, \n",
    "#   sapply()를 통해 정수형(numeric) 벡터객체로 리턴됨"
   ]
  },
  {
   "cell_type": "code",
   "execution_count": 39,
   "metadata": {},
   "outputs": [
    {
     "name": "stdout",
     "output_type": "stream",
     "text": [
      " A  B  C  D \n",
      "12  5  4  6 \n"
     ]
    },
    {
     "data": {
      "text/html": [
       "'integer'"
      ],
      "text/latex": [
       "'integer'"
      ],
      "text/markdown": [
       "'integer'"
      ],
      "text/plain": [
       "[1] \"integer\""
      ]
     },
     "metadata": {},
     "output_type": "display_data"
    }
   ],
   "source": [
    "# 데이터 순환사용 purr패키지 사용\n",
    "# install.packages('purrr')\n",
    "library(purrr)\n",
    "\n",
    "print(map_int(ex, length))\n",
    "# - map_int() 함수의 데이터순환 연산결과는 정수임\n",
    "\n",
    "class(map_int(ex, length))\n",
    "# - length() 함수는 정수형(integer) 수치로 요소갯수를 구해주며, \n",
    "#   map_int()를 통해 정수형(numeric) 벡터객체로 리턴됨"
   ]
  },
  {
   "cell_type": "code",
   "execution_count": 40,
   "metadata": {},
   "outputs": [
    {
     "data": {
      "text/html": [
       "TRUE"
      ],
      "text/latex": [
       "TRUE"
      ],
      "text/markdown": [
       "TRUE"
      ],
      "text/plain": [
       "[1] TRUE"
      ]
     },
     "metadata": {},
     "output_type": "display_data"
    }
   ],
   "source": [
    "# 두 방식간 동일성 체크\n",
    "\n",
    "identical(sapply(ex, length), map_int(ex, length))"
   ]
  },
  {
   "cell_type": "markdown",
   "metadata": {},
   "source": [
    "### 데이터순환 적용결과를 다양한 객체형식으로 리턴"
   ]
  },
  {
   "cell_type": "markdown",
   "metadata": {},
   "source": [
    "#### 데이터순환 적용결과를 데이터프레임 객체형식으로 리턴받음"
   ]
  },
  {
   "cell_type": "code",
   "execution_count": 41,
   "metadata": {
    "scrolled": true
   },
   "outputs": [
    {
     "name": "stdout",
     "output_type": "stream",
     "text": [
      "$A\n",
      "     [,1] [,2] [,3] [,4]\n",
      "[1,]    1    4    7   10\n",
      "[2,]    2    5    8   11\n",
      "[3,]    3    6    9   12\n",
      "\n",
      "$B\n",
      "[1] 1 2 3 4 5\n",
      "\n",
      "$C\n",
      "     [,1] [,2]\n",
      "[1,]    1    3\n",
      "[2,]    2    4\n",
      "\n",
      "$D\n",
      "[1] 2 4 2 4 2 4\n",
      "\n"
     ]
    }
   ],
   "source": [
    "# ex 리스트객체 내용 재확인\n",
    "print(ex)"
   ]
  },
  {
   "cell_type": "code",
   "execution_count": 42,
   "metadata": {},
   "outputs": [
    {
     "data": {
      "text/html": [
       "<table>\n",
       "<thead><tr><th scope=col>A</th><th scope=col>B</th><th scope=col>C</th><th scope=col>D</th></tr></thead>\n",
       "<tbody>\n",
       "\t<tr><td>78</td><td>15</td><td>10</td><td>18</td></tr>\n",
       "</tbody>\n",
       "</table>\n"
      ],
      "text/latex": [
       "\\begin{tabular}{r|llll}\n",
       " A & B & C & D\\\\\n",
       "\\hline\n",
       "\t 78 & 15 & 10 & 18\\\\\n",
       "\\end{tabular}\n"
      ],
      "text/markdown": [
       "\n",
       "A | B | C | D | \n",
       "|---|\n",
       "| 78 | 15 | 10 | 18 | \n",
       "\n",
       "\n"
      ],
      "text/plain": [
       "  A  B  C  D \n",
       "1 78 15 10 18"
      ]
     },
     "metadata": {},
     "output_type": "display_data"
    },
    {
     "data": {
      "text/html": [
       "<ol class=list-inline>\n",
       "\t<li>'tbl_df'</li>\n",
       "\t<li>'tbl'</li>\n",
       "\t<li>'data.frame'</li>\n",
       "</ol>\n"
      ],
      "text/latex": [
       "\\begin{enumerate*}\n",
       "\\item 'tbl\\_df'\n",
       "\\item 'tbl'\n",
       "\\item 'data.frame'\n",
       "\\end{enumerate*}\n"
      ],
      "text/markdown": [
       "1. 'tbl_df'\n",
       "2. 'tbl'\n",
       "3. 'data.frame'\n",
       "\n",
       "\n"
      ],
      "text/plain": [
       "[1] \"tbl_df\"     \"tbl\"        \"data.frame\""
      ]
     },
     "metadata": {},
     "output_type": "display_data"
    }
   ],
   "source": [
    "# purrr::map_df() 함수사용\n",
    "\n",
    "map_df(ex, sum)\n",
    "# - 리스트객체인 ex의 각 리스트항목에 접근해 sum함수를 적용(mapping)해서\n",
    "#   그 결과를 데이터프레임 형식으로 만들어 줌\n",
    "\n",
    "class(map_df(ex, sum))\n",
    "# - purrr 패키지로 연산한 결과는 최신 자료저장객체 형식인 \n",
    "#  티블(tibble) 구조와 데이터프레임(data.frame) 구조를 같이 가지고 있음"
   ]
  },
  {
   "cell_type": "markdown",
   "metadata": {},
   "source": [
    "#### 데이터순환 적용결과를 문자열 객체형식으로 리턴받음"
   ]
  },
  {
   "cell_type": "code",
   "execution_count": 43,
   "metadata": {
    "scrolled": true
   },
   "outputs": [
    {
     "name": "stdout",
     "output_type": "stream",
     "text": [
      "$A\n",
      "     [,1] [,2] [,3] [,4]\n",
      "[1,]    1    4    7   10\n",
      "[2,]    2    5    8   11\n",
      "[3,]    3    6    9   12\n",
      "\n",
      "$B\n",
      "[1] 1 2 3 4 5\n",
      "\n",
      "$C\n",
      "     [,1] [,2]\n",
      "[1,]    1    3\n",
      "[2,]    2    4\n",
      "\n",
      "$D\n",
      "[1] 2 4 2 4 2 4\n",
      "\n"
     ]
    }
   ],
   "source": [
    "# ex 리스트객체 내용 재확인\n",
    "print(ex)"
   ]
  },
  {
   "cell_type": "code",
   "execution_count": 44,
   "metadata": {},
   "outputs": [
    {
     "data": {
      "text/html": [
       "<dl class=dl-horizontal>\n",
       "\t<dt>A</dt>\n",
       "\t\t<dd>'78'</dd>\n",
       "\t<dt>B</dt>\n",
       "\t\t<dd>'15'</dd>\n",
       "\t<dt>C</dt>\n",
       "\t\t<dd>'10'</dd>\n",
       "\t<dt>D</dt>\n",
       "\t\t<dd>'18.000000'</dd>\n",
       "</dl>\n"
      ],
      "text/latex": [
       "\\begin{description*}\n",
       "\\item[A] '78'\n",
       "\\item[B] '15'\n",
       "\\item[C] '10'\n",
       "\\item[D] '18.000000'\n",
       "\\end{description*}\n"
      ],
      "text/markdown": [
       "A\n",
       ":   '78'B\n",
       ":   '15'C\n",
       ":   '10'D\n",
       ":   '18.000000'\n",
       "\n"
      ],
      "text/plain": [
       "          A           B           C           D \n",
       "       \"78\"        \"15\"        \"10\" \"18.000000\" "
      ]
     },
     "metadata": {},
     "output_type": "display_data"
    },
    {
     "data": {
      "text/html": [
       "'character'"
      ],
      "text/latex": [
       "'character'"
      ],
      "text/markdown": [
       "'character'"
      ],
      "text/plain": [
       "[1] \"character\""
      ]
     },
     "metadata": {},
     "output_type": "display_data"
    }
   ],
   "source": [
    "# purrr::map_chr() 함수사용\n",
    "\n",
    "map_chr(ex, sum)\n",
    "# - ex리스트 객체의 각 리스트항목에 sum을 적용한 결과, \n",
    "#   실수형 합이 계산되는데 이를 강제로 문자벡터형식으로 변환해 출력해 줌\n",
    "\n",
    "class(map_chr(ex, sum))"
   ]
  },
  {
   "cell_type": "markdown",
   "metadata": {},
   "source": [
    "#### 데이터순환 적용결과를 논리형 객체형식으로 리턴받음"
   ]
  },
  {
   "cell_type": "code",
   "execution_count": 45,
   "metadata": {
    "scrolled": true
   },
   "outputs": [
    {
     "name": "stdout",
     "output_type": "stream",
     "text": [
      "$A\n",
      "     [,1] [,2] [,3] [,4]\n",
      "[1,]    1    4    7   10\n",
      "[2,]    2    5    8   11\n",
      "[3,]    3    6    9   12\n",
      "\n",
      "$B\n",
      "[1] 1 2 3 4 5\n",
      "\n",
      "$C\n",
      "     [,1] [,2]\n",
      "[1,]    1    3\n",
      "[2,]    2    4\n",
      "\n",
      "$D\n",
      "[1] 2 4 2 4 2 4\n",
      "\n"
     ]
    }
   ],
   "source": [
    "# ex 리스트객체 내용 재확인\n",
    "print(ex)"
   ]
  },
  {
   "cell_type": "code",
   "execution_count": 46,
   "metadata": {},
   "outputs": [
    {
     "data": {
      "text/html": [
       "<dl class=dl-horizontal>\n",
       "\t<dt>A</dt>\n",
       "\t\t<dd>TRUE</dd>\n",
       "\t<dt>B</dt>\n",
       "\t\t<dd>FALSE</dd>\n",
       "\t<dt>C</dt>\n",
       "\t\t<dd>TRUE</dd>\n",
       "\t<dt>D</dt>\n",
       "\t\t<dd>FALSE</dd>\n",
       "</dl>\n"
      ],
      "text/latex": [
       "\\begin{description*}\n",
       "\\item[A] TRUE\n",
       "\\item[B] FALSE\n",
       "\\item[C] TRUE\n",
       "\\item[D] FALSE\n",
       "\\end{description*}\n"
      ],
      "text/markdown": [
       "A\n",
       ":   TRUEB\n",
       ":   FALSEC\n",
       ":   TRUED\n",
       ":   FALSE\n",
       "\n"
      ],
      "text/plain": [
       "    A     B     C     D \n",
       " TRUE FALSE  TRUE FALSE "
      ]
     },
     "metadata": {},
     "output_type": "display_data"
    },
    {
     "data": {
      "text/html": [
       "'logical'"
      ],
      "text/latex": [
       "'logical'"
      ],
      "text/markdown": [
       "'logical'"
      ],
      "text/plain": [
       "[1] \"logical\""
      ]
     },
     "metadata": {},
     "output_type": "display_data"
    }
   ],
   "source": [
    "# purrr::map_lgl() 함수사용\n",
    "\n",
    "map_lgl(ex, is.matrix)\n",
    "# - ex리스트 객체의 각 리스트항목에 is.matrix() 함수를 적용한 결과, \n",
    "#   각 리스트항목이 행렬객체인지를 파악해 \n",
    "#   논리벡터 형식으로 반환해줌\n",
    "\n",
    "class(map_lgl(ex, is.matrix))"
   ]
  },
  {
   "cell_type": "code",
   "execution_count": 47,
   "metadata": {},
   "outputs": [
    {
     "data": {
      "text/html": [
       "<dl class=dl-horizontal>\n",
       "\t<dt>A</dt>\n",
       "\t\t<dd>TRUE</dd>\n",
       "\t<dt>B</dt>\n",
       "\t\t<dd>TRUE</dd>\n",
       "\t<dt>C</dt>\n",
       "\t\t<dd>TRUE</dd>\n",
       "\t<dt>D</dt>\n",
       "\t\t<dd>TRUE</dd>\n",
       "</dl>\n"
      ],
      "text/latex": [
       "\\begin{description*}\n",
       "\\item[A] TRUE\n",
       "\\item[B] TRUE\n",
       "\\item[C] TRUE\n",
       "\\item[D] TRUE\n",
       "\\end{description*}\n"
      ],
      "text/markdown": [
       "A\n",
       ":   TRUEB\n",
       ":   TRUEC\n",
       ":   TRUED\n",
       ":   TRUE\n",
       "\n"
      ],
      "text/plain": [
       "   A    B    C    D \n",
       "TRUE TRUE TRUE TRUE "
      ]
     },
     "metadata": {},
     "output_type": "display_data"
    },
    {
     "data": {
      "text/html": [
       "'logical'"
      ],
      "text/latex": [
       "'logical'"
      ],
      "text/markdown": [
       "'logical'"
      ],
      "text/plain": [
       "[1] \"logical\""
      ]
     },
     "metadata": {},
     "output_type": "display_data"
    }
   ],
   "source": [
    "# purrr::map_lgl() 함수사용\n",
    "\n",
    "map_lgl(ex, is.numeric)\n",
    "# - ex리스트 객체의 각 리스트항목에 numeric() 함수를 적용한 결과, \n",
    "#   각 리스트항목에 속한 요소들이 실수숫자인지를 파악해 \n",
    "#   논리벡터 형식으로 반환해줌\n",
    "\n",
    "class(map_lgl(ex, is.numeric))"
   ]
  },
  {
   "cell_type": "markdown",
   "metadata": {},
   "source": [
    "#### 데이터순환 적용시 if조건에 부합하는 요소에만 적용하도록 함"
   ]
  },
  {
   "cell_type": "code",
   "execution_count": 48,
   "metadata": {
    "scrolled": true
   },
   "outputs": [
    {
     "name": "stdout",
     "output_type": "stream",
     "text": [
      "$A\n",
      "     [,1] [,2] [,3] [,4]\n",
      "[1,]    1    4    7   10\n",
      "[2,]    2    5    8   11\n",
      "[3,]    3    6    9   12\n",
      "\n",
      "$B\n",
      "[1] 1 2 3 4 5\n",
      "\n",
      "$C\n",
      "     [,1] [,2]\n",
      "[1,]    1    3\n",
      "[2,]    2    4\n",
      "\n",
      "$D\n",
      "[1] 2 4 2 4 2 4\n",
      "\n"
     ]
    }
   ],
   "source": [
    "# ex 리스트객체 내용 재확인\n",
    "print(ex)"
   ]
  },
  {
   "cell_type": "code",
   "execution_count": 49,
   "metadata": {},
   "outputs": [
    {
     "name": "stdout",
     "output_type": "stream",
     "text": [
      "$A\n",
      "     [,1] [,2] [,3] [,4]\n",
      "[1,]    1    4    7   10\n",
      "[2,]    2    5    8   11\n",
      "[3,]    3    6    9   12\n",
      "\n",
      "$B\n",
      "   Min. 1st Qu.  Median    Mean 3rd Qu.    Max. \n",
      "      1       2       3       3       4       5 \n",
      "\n",
      "$C\n",
      "     [,1] [,2]\n",
      "[1,]    1    3\n",
      "[2,]    2    4\n",
      "\n",
      "$D\n",
      "   Min. 1st Qu.  Median    Mean 3rd Qu.    Max. \n",
      "      2       2       3       3       4       4 \n",
      "\n"
     ]
    }
   ],
   "source": [
    "# purrr::map_if() 함수사용\n",
    "\n",
    "print(map_if(ex, is.vector, summary)) \n",
    "\n",
    "# - ex리스트 객체의 각 리스트항목에 is.vector() 함수를 적용한 결과, \n",
    "#   각 리스트항목 중에서 벡터형식에만 summary() 함수를 적용해\n",
    "#   그대로 리스트 형식으로 반환해줌\n",
    "\n",
    "# - 4개 리스트항목요소 중에서 $B와 $D 항목이 벡터형식이라\n",
    "#   summary()함수가 적용됨"
   ]
  },
  {
   "cell_type": "code",
   "execution_count": 50,
   "metadata": {},
   "outputs": [
    {
     "data": {
      "text/html": [
       "<dl>\n",
       "\t<dt>$A</dt>\n",
       "\t\t<dd><table>\n",
       "<tbody>\n",
       "\t<tr><td>3 </td><td>12</td><td>21</td><td>30</td></tr>\n",
       "\t<tr><td>6 </td><td>15</td><td>24</td><td>33</td></tr>\n",
       "\t<tr><td>9 </td><td>18</td><td>27</td><td>36</td></tr>\n",
       "</tbody>\n",
       "</table>\n",
       "</dd>\n",
       "\t<dt>$B</dt>\n",
       "\t\t<dd><ol class=list-inline>\n",
       "\t<li>1</li>\n",
       "\t<li>2</li>\n",
       "\t<li>3</li>\n",
       "\t<li>4</li>\n",
       "\t<li>5</li>\n",
       "</ol>\n",
       "</dd>\n",
       "\t<dt>$C</dt>\n",
       "\t\t<dd><table>\n",
       "<tbody>\n",
       "\t<tr><td>3 </td><td> 9</td></tr>\n",
       "\t<tr><td>6 </td><td>12</td></tr>\n",
       "</tbody>\n",
       "</table>\n",
       "</dd>\n",
       "\t<dt>$D</dt>\n",
       "\t\t<dd><ol class=list-inline>\n",
       "\t<li>2</li>\n",
       "\t<li>4</li>\n",
       "\t<li>2</li>\n",
       "\t<li>4</li>\n",
       "\t<li>2</li>\n",
       "\t<li>4</li>\n",
       "</ol>\n",
       "</dd>\n",
       "</dl>\n"
      ],
      "text/latex": [
       "\\begin{description}\n",
       "\\item[\\$A] \\begin{tabular}{llll}\n",
       "\t 3  & 12 & 21 & 30\\\\\n",
       "\t 6  & 15 & 24 & 33\\\\\n",
       "\t 9  & 18 & 27 & 36\\\\\n",
       "\\end{tabular}\n",
       "\n",
       "\\item[\\$B] \\begin{enumerate*}\n",
       "\\item 1\n",
       "\\item 2\n",
       "\\item 3\n",
       "\\item 4\n",
       "\\item 5\n",
       "\\end{enumerate*}\n",
       "\n",
       "\\item[\\$C] \\begin{tabular}{ll}\n",
       "\t 3  &  9\\\\\n",
       "\t 6  & 12\\\\\n",
       "\\end{tabular}\n",
       "\n",
       "\\item[\\$D] \\begin{enumerate*}\n",
       "\\item 2\n",
       "\\item 4\n",
       "\\item 2\n",
       "\\item 4\n",
       "\\item 2\n",
       "\\item 4\n",
       "\\end{enumerate*}\n",
       "\n",
       "\\end{description}\n"
      ],
      "text/markdown": [
       "$A\n",
       ":   \n",
       "| 3  | 12 | 21 | 30 | \n",
       "| 6  | 15 | 24 | 33 | \n",
       "| 9  | 18 | 27 | 36 | \n",
       "\n",
       "\n",
       "\n",
       "$B\n",
       ":   1. 1\n",
       "2. 2\n",
       "3. 3\n",
       "4. 4\n",
       "5. 5\n",
       "\n",
       "\n",
       "\n",
       "$C\n",
       ":   \n",
       "| 3  |  9 | \n",
       "| 6  | 12 | \n",
       "\n",
       "\n",
       "\n",
       "$D\n",
       ":   1. 2\n",
       "2. 4\n",
       "3. 2\n",
       "4. 4\n",
       "5. 2\n",
       "6. 4\n",
       "\n",
       "\n",
       "\n",
       "\n",
       "\n"
      ],
      "text/plain": [
       "$A\n",
       "     [,1] [,2] [,3] [,4]\n",
       "[1,]    3   12   21   30\n",
       "[2,]    6   15   24   33\n",
       "[3,]    9   18   27   36\n",
       "\n",
       "$B\n",
       "[1] 1 2 3 4 5\n",
       "\n",
       "$C\n",
       "     [,1] [,2]\n",
       "[1,]    3    9\n",
       "[2,]    6   12\n",
       "\n",
       "$D\n",
       "[1] 2 4 2 4 2 4\n"
      ]
     },
     "metadata": {},
     "output_type": "display_data"
    },
    {
     "name": "stdout",
     "output_type": "stream",
     "text": [
      "\n"
     ]
    },
    {
     "data": {
      "text/html": [
       "<dl>\n",
       "\t<dt>$A</dt>\n",
       "\t\t<dd><table>\n",
       "<tbody>\n",
       "\t<tr><td>3 </td><td>12</td><td>21</td><td>30</td></tr>\n",
       "\t<tr><td>6 </td><td>15</td><td>24</td><td>33</td></tr>\n",
       "\t<tr><td>9 </td><td>18</td><td>27</td><td>36</td></tr>\n",
       "</tbody>\n",
       "</table>\n",
       "</dd>\n",
       "\t<dt>$B</dt>\n",
       "\t\t<dd><ol class=list-inline>\n",
       "\t<li>1</li>\n",
       "\t<li>2</li>\n",
       "\t<li>3</li>\n",
       "\t<li>4</li>\n",
       "\t<li>5</li>\n",
       "</ol>\n",
       "</dd>\n",
       "\t<dt>$C</dt>\n",
       "\t\t<dd><table>\n",
       "<tbody>\n",
       "\t<tr><td>3 </td><td> 9</td></tr>\n",
       "\t<tr><td>6 </td><td>12</td></tr>\n",
       "</tbody>\n",
       "</table>\n",
       "</dd>\n",
       "\t<dt>$D</dt>\n",
       "\t\t<dd><ol class=list-inline>\n",
       "\t<li>2</li>\n",
       "\t<li>4</li>\n",
       "\t<li>2</li>\n",
       "\t<li>4</li>\n",
       "\t<li>2</li>\n",
       "\t<li>4</li>\n",
       "</ol>\n",
       "</dd>\n",
       "</dl>\n"
      ],
      "text/latex": [
       "\\begin{description}\n",
       "\\item[\\$A] \\begin{tabular}{llll}\n",
       "\t 3  & 12 & 21 & 30\\\\\n",
       "\t 6  & 15 & 24 & 33\\\\\n",
       "\t 9  & 18 & 27 & 36\\\\\n",
       "\\end{tabular}\n",
       "\n",
       "\\item[\\$B] \\begin{enumerate*}\n",
       "\\item 1\n",
       "\\item 2\n",
       "\\item 3\n",
       "\\item 4\n",
       "\\item 5\n",
       "\\end{enumerate*}\n",
       "\n",
       "\\item[\\$C] \\begin{tabular}{ll}\n",
       "\t 3  &  9\\\\\n",
       "\t 6  & 12\\\\\n",
       "\\end{tabular}\n",
       "\n",
       "\\item[\\$D] \\begin{enumerate*}\n",
       "\\item 2\n",
       "\\item 4\n",
       "\\item 2\n",
       "\\item 4\n",
       "\\item 2\n",
       "\\item 4\n",
       "\\end{enumerate*}\n",
       "\n",
       "\\end{description}\n"
      ],
      "text/markdown": [
       "$A\n",
       ":   \n",
       "| 3  | 12 | 21 | 30 | \n",
       "| 6  | 15 | 24 | 33 | \n",
       "| 9  | 18 | 27 | 36 | \n",
       "\n",
       "\n",
       "\n",
       "$B\n",
       ":   1. 1\n",
       "2. 2\n",
       "3. 3\n",
       "4. 4\n",
       "5. 5\n",
       "\n",
       "\n",
       "\n",
       "$C\n",
       ":   \n",
       "| 3  |  9 | \n",
       "| 6  | 12 | \n",
       "\n",
       "\n",
       "\n",
       "$D\n",
       ":   1. 2\n",
       "2. 4\n",
       "3. 2\n",
       "4. 4\n",
       "5. 2\n",
       "6. 4\n",
       "\n",
       "\n",
       "\n",
       "\n",
       "\n"
      ],
      "text/plain": [
       "$A\n",
       "     [,1] [,2] [,3] [,4]\n",
       "[1,]    3   12   21   30\n",
       "[2,]    6   15   24   33\n",
       "[3,]    9   18   27   36\n",
       "\n",
       "$B\n",
       "[1] 1 2 3 4 5\n",
       "\n",
       "$C\n",
       "     [,1] [,2]\n",
       "[1,]    3    9\n",
       "[2,]    6   12\n",
       "\n",
       "$D\n",
       "[1] 2 4 2 4 2 4\n"
      ]
     },
     "metadata": {},
     "output_type": "display_data"
    }
   ],
   "source": [
    "# purrr::map_if() 함수사용\n",
    "\n",
    "# 데이터순환시 사용자정의함수를 이용해도 됨\n",
    "map_if(ex, is.matrix, function(x) {x * 3}) \n",
    "# - 익명/무명 함수방식\n",
    "\n",
    "cat('\\n')\n",
    "\n",
    "map_if(ex, is.matrix, ~ .x * 3) \n",
    "# - 관계식(formula) 설정방식\n",
    "\n",
    "# - ex리스트 객체의 각 리스트항목에 is.matrix() 함수를 적용한 결과, \n",
    "#   각 리스트항목 중에서 행렬(매트릭스)형식에만 곱하기 3을 하고\n",
    "#   그대로 리스트 형식으로 반환해줌\n",
    "\n",
    "# - 4개 리스트항목요소 중에서 $A와 $C 항목이 행렬형식이라\n",
    "#   summary()함수가 적용됨"
   ]
  },
  {
   "cell_type": "markdown",
   "metadata": {},
   "source": [
    "# <font color = 'blue'>결측치(NA)가 포함된 객체에 대한 데이터순환 함수 적용(p.37)</font>\n",
    "* 데이터순환 함수를 적용할 객체내용 중에서 NA가 포함되어 있는 경우 연산결과도 NA로 나오므로,\n",
    "<br>NA에 대한 고려를 통해 적절한 연산이 되도록 해야함"
   ]
  },
  {
   "cell_type": "markdown",
   "metadata": {},
   "source": [
    "### 행렬객체에 대한 인덱싱"
   ]
  },
  {
   "cell_type": "code",
   "execution_count": 51,
   "metadata": {
    "scrolled": false
   },
   "outputs": [
    {
     "name": "stdout",
     "output_type": "stream",
     "text": [
      "$A\n",
      "     [,1] [,2] [,3] [,4]\n",
      "[1,]    1    4    7   10\n",
      "[2,]    2    5    8   11\n",
      "[3,]    3    6    9   12\n",
      "\n",
      "$B\n",
      "[1] 1 2 3 4 5\n",
      "\n",
      "$C\n",
      "     [,1] [,2]\n",
      "[1,]    1    3\n",
      "[2,]    2    4\n",
      "\n",
      "$D\n",
      "[1] 2 4 2 4 2 4\n",
      "\n"
     ]
    }
   ],
   "source": [
    "# ex 리스트객체 내용 재확인\n",
    "print(ex)"
   ]
  },
  {
   "cell_type": "code",
   "execution_count": 52,
   "metadata": {},
   "outputs": [
    {
     "name": "stdout",
     "output_type": "stream",
     "text": [
      "     [,1] [,2] [,3] [,4]\n",
      "[1,]    1    4    7   10\n",
      "[2,]    2    5    8   11\n",
      "[3,]    3    6    9   12\n",
      "\n",
      "     [,1] [,2] [,3] [,4]\n",
      "[1,]    1    4    7   10\n",
      "[2,]    2    5    8   11\n",
      "[3,]    3    6    9   12\n",
      "\n",
      "     [,1] [,2] [,3] [,4]\n",
      "[1,]    1    4    7   10\n",
      "[2,]    2    5    8   11\n",
      "[3,]    3    6    9   12\n"
     ]
    }
   ],
   "source": [
    "## ex리스트객체에 A라는 행렬 리스트항목에 접근하기\n",
    "\n",
    "print(ex$A)\n",
    "cat('\\n')\n",
    "# - ex객체의 리스트요소항목 이름 중 $A라는 방식으로 인덱싱\n",
    "\n",
    "print(ex[[\"A\"]])\n",
    "cat('\\n')\n",
    "# - ex객체의 리스트요소항목 이름 중 [[A]]라는 방식으로 인덱싱\n",
    "\n",
    "print(ex[[1]])\n",
    "# - ex객체의 리스트요소항목 인덱스 중 [[1]]이라는 방식으로 인덱싱"
   ]
  },
  {
   "cell_type": "code",
   "execution_count": 53,
   "metadata": {},
   "outputs": [
    {
     "name": "stdout",
     "output_type": "stream",
     "text": [
      "[1]  2  5  8 11\n",
      "\n",
      "[1]  2  5  8 11\n",
      "\n",
      "[1]  2  5  8 11\n"
     ]
    }
   ],
   "source": [
    "print(ex$A[2, ])\n",
    "cat('\\n')\n",
    "# - ex객체의 리스트요소항목 이름 중 $A 요소에 대해 \n",
    "#   2행에 있는 세부요소를 인덱싱\n",
    "\n",
    "print(ex[[\"A\"]][2, ])\n",
    "cat('\\n')\n",
    "# - ex객체의 리스트요소항목 이름 중 [[A]] 요소에 대해 \n",
    "#   2행에 있는 세부요소를 인덱싱\n",
    "\n",
    "print(ex[[1]][2, ])\n",
    "# - ex객체의 리스트요소항목 인덱스 중 [[1]]이라는 요소에 대해 \n",
    "#   2행에 있는 세부요소를 인덱싱 "
   ]
  },
  {
   "cell_type": "code",
   "execution_count": 54,
   "metadata": {},
   "outputs": [
    {
     "data": {
      "text/html": [
       "<ol class=list-inline>\n",
       "\t<li>7</li>\n",
       "\t<li>8</li>\n",
       "\t<li>9</li>\n",
       "</ol>\n"
      ],
      "text/latex": [
       "\\begin{enumerate*}\n",
       "\\item 7\n",
       "\\item 8\n",
       "\\item 9\n",
       "\\end{enumerate*}\n"
      ],
      "text/markdown": [
       "1. 7\n",
       "2. 8\n",
       "3. 9\n",
       "\n",
       "\n"
      ],
      "text/plain": [
       "[1] 7 8 9"
      ]
     },
     "metadata": {},
     "output_type": "display_data"
    },
    {
     "name": "stdout",
     "output_type": "stream",
     "text": [
      "\n"
     ]
    },
    {
     "data": {
      "text/html": [
       "<ol class=list-inline>\n",
       "\t<li>7</li>\n",
       "\t<li>8</li>\n",
       "\t<li>9</li>\n",
       "</ol>\n"
      ],
      "text/latex": [
       "\\begin{enumerate*}\n",
       "\\item 7\n",
       "\\item 8\n",
       "\\item 9\n",
       "\\end{enumerate*}\n"
      ],
      "text/markdown": [
       "1. 7\n",
       "2. 8\n",
       "3. 9\n",
       "\n",
       "\n"
      ],
      "text/plain": [
       "[1] 7 8 9"
      ]
     },
     "metadata": {},
     "output_type": "display_data"
    },
    {
     "name": "stdout",
     "output_type": "stream",
     "text": [
      "\n"
     ]
    },
    {
     "data": {
      "text/html": [
       "<ol class=list-inline>\n",
       "\t<li>7</li>\n",
       "\t<li>8</li>\n",
       "\t<li>9</li>\n",
       "</ol>\n"
      ],
      "text/latex": [
       "\\begin{enumerate*}\n",
       "\\item 7\n",
       "\\item 8\n",
       "\\item 9\n",
       "\\end{enumerate*}\n"
      ],
      "text/markdown": [
       "1. 7\n",
       "2. 8\n",
       "3. 9\n",
       "\n",
       "\n"
      ],
      "text/plain": [
       "[1] 7 8 9"
      ]
     },
     "metadata": {},
     "output_type": "display_data"
    }
   ],
   "source": [
    "ex$A[ , 3]\n",
    "cat('\\n')\n",
    "# - ex객체의 리스트요소항목 이름 중 $A 요소에 대해 \n",
    "#   3열에 있는 세부요소를 인덱싱\n",
    "\n",
    "ex[[\"A\"]][ , 3]\n",
    "cat('\\n')\n",
    "# - ex객체의 리스트요소항목 이름 중 [[A]] 요소에 대해 \n",
    "#   3열에 있는 세부요소를 인덱싱\n",
    "\n",
    "ex[[1]][ , 3]\n",
    "# - ex객체의 리스트요소항목 인덱스 중 [[1]]이라는 요소에 대해 \n",
    "#   3열에 있는 세부요소를 인덱싱 "
   ]
  },
  {
   "cell_type": "code",
   "execution_count": 55,
   "metadata": {},
   "outputs": [
    {
     "data": {
      "text/html": [
       "8"
      ],
      "text/latex": [
       "8"
      ],
      "text/markdown": [
       "8"
      ],
      "text/plain": [
       "[1] 8"
      ]
     },
     "metadata": {},
     "output_type": "display_data"
    },
    {
     "name": "stdout",
     "output_type": "stream",
     "text": [
      "\n"
     ]
    },
    {
     "data": {
      "text/html": [
       "8"
      ],
      "text/latex": [
       "8"
      ],
      "text/markdown": [
       "8"
      ],
      "text/plain": [
       "[1] 8"
      ]
     },
     "metadata": {},
     "output_type": "display_data"
    },
    {
     "name": "stdout",
     "output_type": "stream",
     "text": [
      "\n"
     ]
    },
    {
     "data": {
      "text/html": [
       "8"
      ],
      "text/latex": [
       "8"
      ],
      "text/markdown": [
       "8"
      ],
      "text/plain": [
       "[1] 8"
      ]
     },
     "metadata": {},
     "output_type": "display_data"
    }
   ],
   "source": [
    "ex$A[2, 3]\n",
    "cat('\\n')\n",
    "# - ex객체의 리스트요소항목 이름 중 $A 요소에 대해 \n",
    "#   2행, 3열에 있는 세부요소를 인덱싱\n",
    "\n",
    "ex[[\"A\"]][2, 3]\n",
    "cat('\\n')\n",
    "# - ex객체의 리스트요소항목 이름 중 [[A]] 요소에 대해 \n",
    "#   2행, 3열에 있는 세부요소를 인덱싱\n",
    "\n",
    "ex[[1]][2, 3]\n",
    "# - ex객체의 리스트요소항목 인덱스 중 [[1]]이라는 요소에 대해 \n",
    "#   2행, 3열에 있는 세부요소를 인덱싱 "
   ]
  },
  {
   "cell_type": "markdown",
   "metadata": {},
   "source": [
    "### 리스트객체 특정요소를 NA값으로 변환"
   ]
  },
  {
   "cell_type": "code",
   "execution_count": 56,
   "metadata": {
    "scrolled": false
   },
   "outputs": [
    {
     "name": "stdout",
     "output_type": "stream",
     "text": [
      "$A\n",
      "     [,1] [,2] [,3] [,4]\n",
      "[1,]    1    4    7   10\n",
      "[2,]    2    5    8   11\n",
      "[3,]    3    6    9   12\n",
      "\n",
      "$B\n",
      "[1] 1 2 3 4 5\n",
      "\n",
      "$C\n",
      "     [,1] [,2]\n",
      "[1,]    1    3\n",
      "[2,]    2    4\n",
      "\n",
      "$D\n",
      "[1] 2 4 2 4 2 4\n",
      "\n"
     ]
    }
   ],
   "source": [
    "# ex 리스트객체 내용 재확인\n",
    "print(ex)"
   ]
  },
  {
   "cell_type": "markdown",
   "metadata": {},
   "source": [
    "#### 특정 리스트항목 요소에 대한 결측치 값 반영"
   ]
  },
  {
   "cell_type": "code",
   "execution_count": 57,
   "metadata": {},
   "outputs": [],
   "source": [
    "# ex리스트객체에서 A라는 리스트항목 중 2행, 3열에 있는 요소에 NA를 입력 \n",
    "\n",
    "ex$A[2, 3] <- NA\n",
    "ex[[\"A\"]][2, 3] <- NA\n",
    "ex[[1]][2, 3] <- NA"
   ]
  },
  {
   "cell_type": "code",
   "execution_count": 58,
   "metadata": {},
   "outputs": [
    {
     "name": "stdout",
     "output_type": "stream",
     "text": [
      "     [,1] [,2] [,3] [,4]\n",
      "[1,]    1    4    7   10\n",
      "[2,]    2    5   NA   11\n",
      "[3,]    3    6    9   12\n",
      "\n",
      "     [,1] [,2] [,3] [,4]\n",
      "[1,]    1    4    7   10\n",
      "[2,]    2    5   NA   11\n",
      "[3,]    3    6    9   12\n",
      "\n",
      "     [,1] [,2] [,3] [,4]\n",
      "[1,]    1    4    7   10\n",
      "[2,]    2    5   NA   11\n",
      "[3,]    3    6    9   12\n"
     ]
    }
   ],
   "source": [
    "# ex리스트객체에서 A라는 리스트항목을 출력해 NA입력부분 반영여부 확인\n",
    "\n",
    "print(ex$A)\n",
    "cat('\\n')\n",
    "\n",
    "print(ex[[\"A\"]])\n",
    "cat('\\n')\n",
    "\n",
    "print(ex[[1]])"
   ]
  },
  {
   "cell_type": "markdown",
   "metadata": {},
   "source": [
    "#### 특정 리스트항목 요소에 대한 결측치 값 반영"
   ]
  },
  {
   "cell_type": "code",
   "execution_count": 59,
   "metadata": {},
   "outputs": [],
   "source": [
    "ex$D[5] <- NA\n",
    "ex[[\"D\"]][5] <- NA\n",
    "ex[[4]][5] <- NA\n",
    "# - 리스트객체ex에서 D라는 리스트항목의 5번째 요소값에 대해서 \n",
    "#   NA처리 후 반영여부를 확인"
   ]
  },
  {
   "cell_type": "code",
   "execution_count": 60,
   "metadata": {},
   "outputs": [
    {
     "name": "stdout",
     "output_type": "stream",
     "text": [
      "[1]  2  4  2  4 NA  4\n",
      "\n",
      "[1]  2  4  2  4 NA  4\n",
      "\n",
      "[1]  2  4  2  4 NA  4\n"
     ]
    }
   ],
   "source": [
    "# ex리스트객체에서 D라는 리스트항목을 출력해 NA입력부분 반영여부 확인\n",
    "\n",
    "print(ex$D)\n",
    "cat('\\n')\n",
    "\n",
    "print(ex[[\"D\"]])\n",
    "cat('\\n')\n",
    "\n",
    "print(ex[[4]])"
   ]
  },
  {
   "cell_type": "code",
   "execution_count": 61,
   "metadata": {},
   "outputs": [
    {
     "name": "stdout",
     "output_type": "stream",
     "text": [
      "$A\n",
      "     [,1] [,2] [,3] [,4]\n",
      "[1,]    1    4    7   10\n",
      "[2,]    2    5   NA   11\n",
      "[3,]    3    6    9   12\n",
      "\n",
      "$B\n",
      "[1] 1 2 3 4 5\n",
      "\n",
      "$C\n",
      "     [,1] [,2]\n",
      "[1,]    1    3\n",
      "[2,]    2    4\n",
      "\n",
      "$D\n",
      "[1]  2  4  2  4 NA  4\n",
      "\n"
     ]
    }
   ],
   "source": [
    "print(ex)\n",
    "# - 전체적인 NA반영 현황 재확인"
   ]
  },
  {
   "cell_type": "markdown",
   "metadata": {},
   "source": [
    "### NA값이 포함된 리스트객체에 데이터순환을 적용해 리스트객체로 리턴"
   ]
  },
  {
   "cell_type": "code",
   "execution_count": 62,
   "metadata": {},
   "outputs": [
    {
     "name": "stdout",
     "output_type": "stream",
     "text": [
      "$A\n",
      "[1] NA\n",
      "\n",
      "$B\n",
      "[1] 15\n",
      "\n",
      "$C\n",
      "[1] 10\n",
      "\n",
      "$D\n",
      "[1] NA\n",
      "\n",
      "$A\n",
      "[1] NA\n",
      "\n",
      "$B\n",
      "[1] 15\n",
      "\n",
      "$C\n",
      "[1] 10\n",
      "\n",
      "$D\n",
      "[1] NA\n",
      "\n",
      " A  B  C  D \n",
      "NA 15 10 NA \n",
      " A  B  C  D \n",
      "NA 15 10 NA \n"
     ]
    }
   ],
   "source": [
    "# 리스트객체에 NA값이 포함되어 있는데, 그대로 데이터순환 함수를 적용하는 경우\n",
    "\n",
    "print(lapply(ex, sum))\n",
    "print(map(ex, sum))\n",
    "# - 각 리스트항목에 접근해 sum함수를 적용한 결과를 리스트형식으로 만들어줌\n",
    "# - 리스트항목 B, C를 활용해서 정상적으로 합계 출력됨\n",
    "# - NA요소를 가지고 있는 A와 D 리스트 항목에 대한 합계계산 결과는 NA로 출력됨\n",
    "\n",
    "print(unlist(lapply(ex, sum)))\n",
    "print(unlist(map(ex, sum)))\n",
    "# - unlist()함수를 이용해 리스트객체를 벡터객체로 만듬"
   ]
  },
  {
   "cell_type": "code",
   "execution_count": 63,
   "metadata": {},
   "outputs": [
    {
     "data": {
      "text/html": [
       "<dl>\n",
       "\t<dt>$A</dt>\n",
       "\t\t<dd>70</dd>\n",
       "\t<dt>$B</dt>\n",
       "\t\t<dd>15</dd>\n",
       "\t<dt>$C</dt>\n",
       "\t\t<dd>10</dd>\n",
       "\t<dt>$D</dt>\n",
       "\t\t<dd>16</dd>\n",
       "</dl>\n"
      ],
      "text/latex": [
       "\\begin{description}\n",
       "\\item[\\$A] 70\n",
       "\\item[\\$B] 15\n",
       "\\item[\\$C] 10\n",
       "\\item[\\$D] 16\n",
       "\\end{description}\n"
      ],
      "text/markdown": [
       "$A\n",
       ":   70\n",
       "$B\n",
       ":   15\n",
       "$C\n",
       ":   10\n",
       "$D\n",
       ":   16\n",
       "\n",
       "\n"
      ],
      "text/plain": [
       "$A\n",
       "[1] 70\n",
       "\n",
       "$B\n",
       "[1] 15\n",
       "\n",
       "$C\n",
       "[1] 10\n",
       "\n",
       "$D\n",
       "[1] 16\n"
      ]
     },
     "metadata": {},
     "output_type": "display_data"
    },
    {
     "data": {
      "text/html": [
       "<dl>\n",
       "\t<dt>$A</dt>\n",
       "\t\t<dd>70</dd>\n",
       "\t<dt>$B</dt>\n",
       "\t\t<dd>15</dd>\n",
       "\t<dt>$C</dt>\n",
       "\t\t<dd>10</dd>\n",
       "\t<dt>$D</dt>\n",
       "\t\t<dd>16</dd>\n",
       "</dl>\n"
      ],
      "text/latex": [
       "\\begin{description}\n",
       "\\item[\\$A] 70\n",
       "\\item[\\$B] 15\n",
       "\\item[\\$C] 10\n",
       "\\item[\\$D] 16\n",
       "\\end{description}\n"
      ],
      "text/markdown": [
       "$A\n",
       ":   70\n",
       "$B\n",
       ":   15\n",
       "$C\n",
       ":   10\n",
       "$D\n",
       ":   16\n",
       "\n",
       "\n"
      ],
      "text/plain": [
       "$A\n",
       "[1] 70\n",
       "\n",
       "$B\n",
       "[1] 15\n",
       "\n",
       "$C\n",
       "[1] 10\n",
       "\n",
       "$D\n",
       "[1] 16\n"
      ]
     },
     "metadata": {},
     "output_type": "display_data"
    },
    {
     "name": "stdout",
     "output_type": "stream",
     "text": [
      " A  B  C  D \n",
      "70 15 10 16 \n",
      " A  B  C  D \n",
      "70 15 10 16 \n"
     ]
    }
   ],
   "source": [
    "# 리스트객체에 NA값이 포함되어 있는데, 적절한 고려를 통해 데이터순환 함수를 적용하는 경우\n",
    "\n",
    "lapply(ex, sum, na.rm = TRUE)\n",
    "map(ex, sum, na.rm = TRUE)\n",
    "\n",
    "# - ex리스트객체의 각 리스트항목에 접근해 sum() 적용시 NA요소가 있을 경우\n",
    "#   이를 제외하고 sum() 함수를 적용하도록 na.rm = TRUE 옵션을 사용함\n",
    "\n",
    "print(unlist(lapply(ex, sum, na.rm = TRUE)))\n",
    "print(unlist(map(ex, sum, na.rm = TRUE)))\n",
    "# - unlist()함수를 이용해 리스트객체를 벡터객체로 만듬"
   ]
  },
  {
   "cell_type": "code",
   "execution_count": 64,
   "metadata": {},
   "outputs": [
    {
     "data": {
      "text/html": [
       "<dl>\n",
       "\t<dt>$A</dt>\n",
       "\t\t<dd>70</dd>\n",
       "\t<dt>$B</dt>\n",
       "\t\t<dd>15</dd>\n",
       "\t<dt>$C</dt>\n",
       "\t\t<dd>10</dd>\n",
       "\t<dt>$D</dt>\n",
       "\t\t<dd>16</dd>\n",
       "</dl>\n"
      ],
      "text/latex": [
       "\\begin{description}\n",
       "\\item[\\$A] 70\n",
       "\\item[\\$B] 15\n",
       "\\item[\\$C] 10\n",
       "\\item[\\$D] 16\n",
       "\\end{description}\n"
      ],
      "text/markdown": [
       "$A\n",
       ":   70\n",
       "$B\n",
       ":   15\n",
       "$C\n",
       ":   10\n",
       "$D\n",
       ":   16\n",
       "\n",
       "\n"
      ],
      "text/plain": [
       "$A\n",
       "[1] 70\n",
       "\n",
       "$B\n",
       "[1] 15\n",
       "\n",
       "$C\n",
       "[1] 10\n",
       "\n",
       "$D\n",
       "[1] 16\n"
      ]
     },
     "metadata": {},
     "output_type": "display_data"
    },
    {
     "data": {
      "text/html": [
       "<dl>\n",
       "\t<dt>$A</dt>\n",
       "\t\t<dd>70</dd>\n",
       "\t<dt>$B</dt>\n",
       "\t\t<dd>15</dd>\n",
       "\t<dt>$C</dt>\n",
       "\t\t<dd>10</dd>\n",
       "\t<dt>$D</dt>\n",
       "\t\t<dd>16</dd>\n",
       "</dl>\n"
      ],
      "text/latex": [
       "\\begin{description}\n",
       "\\item[\\$A] 70\n",
       "\\item[\\$B] 15\n",
       "\\item[\\$C] 10\n",
       "\\item[\\$D] 16\n",
       "\\end{description}\n"
      ],
      "text/markdown": [
       "$A\n",
       ":   70\n",
       "$B\n",
       ":   15\n",
       "$C\n",
       ":   10\n",
       "$D\n",
       ":   16\n",
       "\n",
       "\n"
      ],
      "text/plain": [
       "$A\n",
       "[1] 70\n",
       "\n",
       "$B\n",
       "[1] 15\n",
       "\n",
       "$C\n",
       "[1] 10\n",
       "\n",
       "$D\n",
       "[1] 16\n"
      ]
     },
     "metadata": {},
     "output_type": "display_data"
    }
   ],
   "source": [
    "lapply(ex, function(x) {sum(x, na.rm = TRUE)})\n",
    "map(ex, function(x) {sum(x, na.rm = TRUE)})\n",
    "# - 익명/무명함수(the anonymous functions)라고 부르는 형식을 이용해 \n",
    "#   sum() 함수 적용시 na.rm = TRUE 옵션을 반영해 NA요소에 대해 제외시킴"
   ]
  },
  {
   "cell_type": "markdown",
   "metadata": {},
   "source": [
    "### NA값이 포함된 리스트객체에 데이터순환을 적용해 벡터객체로 리턴"
   ]
  },
  {
   "cell_type": "code",
   "execution_count": 65,
   "metadata": {},
   "outputs": [
    {
     "name": "stdout",
     "output_type": "stream",
     "text": [
      " A  B  C  D \n",
      "NA 15 10 NA \n",
      " A  B  C  D \n",
      "NA 15 10 NA \n"
     ]
    }
   ],
   "source": [
    "# 리스트객체에 NA값이 포함되어 있는데, 그대로 데이터순환 함수를 적용하는 경우\n",
    "\n",
    "print(sapply(ex, sum))\n",
    "print(map_dbl(ex, sum))\n",
    "# - 각 리스트항목에 접근해 sum함수를 적용한 결과를 벡터형식으로 만들어줌\n",
    "# - 리스트항목 B, C를 활용해서 정상적으로 합계 출력됨\n",
    "# - NA요소를 가지고 있는 A와 D 리스트 항목에 대한 합계계산 결과는 NA로 출력됨"
   ]
  },
  {
   "cell_type": "code",
   "execution_count": 66,
   "metadata": {},
   "outputs": [
    {
     "name": "stdout",
     "output_type": "stream",
     "text": [
      " A  B  C  D \n",
      "70 15 10 16 \n",
      " A  B  C  D \n",
      "70 15 10 16 \n"
     ]
    }
   ],
   "source": [
    "# 리스트객체에 NA값이 포함되어 있는데, 적절한 고려를 통해 데이터순환 함수를 적용하는 경우\n",
    "\n",
    "print(sapply(ex, sum, na.rm = TRUE))\n",
    "print(map_dbl(ex, sum, na.rm = TRUE))\n",
    "\n",
    "# - ex리스트객체의 각 리스트항목에 접근해 sum() 적용시 NA요소가 있을 경우\n",
    "#   이를 제외하고 sum() 함수를 적용하도록 na.rm = TRUE 옵션을 사용함"
   ]
  },
  {
   "cell_type": "code",
   "execution_count": 67,
   "metadata": {},
   "outputs": [
    {
     "name": "stdout",
     "output_type": "stream",
     "text": [
      " A  B  C  D \n",
      "70 15 10 16 \n",
      " A  B  C  D \n",
      "70 15 10 16 \n"
     ]
    }
   ],
   "source": [
    "print(sapply(ex, function(x) {sum(x, na.rm = TRUE)}))\n",
    "print(map_dbl(ex, function(x) {sum(x, na.rm = TRUE)}))\n",
    "# - 익명/무명함수(the anonymous functions)라고 부르는 형식을 이용해 \n",
    "#   sum() 함수 적용시 na.rm = TRUE 옵션을 반영해 NA요소에 대해 제외시킴"
   ]
  },
  {
   "cell_type": "markdown",
   "metadata": {},
   "source": [
    "# <font color = 'blue'>tapply() 함수를 이용한 데이터순환(p.38)</font>\n",
    "* tapply(집계대상변수, 집계기준변수, 집계처리함수) 형식처럼 사용함\n",
    "* 데이터프레임 형식의 데이터셋에서 집계대상 변수를 집계기준 변수를 이용해 집계처리함수로 요약집계(aggregation)해줌"
   ]
  },
  {
   "cell_type": "markdown",
   "metadata": {},
   "source": [
    "### 데이터프레임 객체에 tapply() 함수 적용"
   ]
  },
  {
   "cell_type": "code",
   "execution_count": 68,
   "metadata": {},
   "outputs": [
    {
     "data": {
      "text/html": [
       "<table>\n",
       "<thead><tr><th scope=col>word</th><th scope=col>docA</th><th scope=col>docB</th></tr></thead>\n",
       "<tbody>\n",
       "\t<tr><td>the</td><td>3  </td><td>1  </td></tr>\n",
       "\t<tr><td>is </td><td>4  </td><td>1  </td></tr>\n",
       "\t<tr><td>a  </td><td>2  </td><td>1  </td></tr>\n",
       "\t<tr><td>the</td><td>4  </td><td>1  </td></tr>\n",
       "</tbody>\n",
       "</table>\n"
      ],
      "text/latex": [
       "\\begin{tabular}{r|lll}\n",
       " word & docA & docB\\\\\n",
       "\\hline\n",
       "\t the & 3   & 1  \\\\\n",
       "\t is  & 4   & 1  \\\\\n",
       "\t a   & 2   & 1  \\\\\n",
       "\t the & 4   & 1  \\\\\n",
       "\\end{tabular}\n"
      ],
      "text/markdown": [
       "\n",
       "word | docA | docB | \n",
       "|---|---|---|---|\n",
       "| the | 3   | 1   | \n",
       "| is  | 4   | 1   | \n",
       "| a   | 2   | 1   | \n",
       "| the | 4   | 1   | \n",
       "\n",
       "\n"
      ],
      "text/plain": [
       "  word docA docB\n",
       "1 the  3    1   \n",
       "2 is   4    1   \n",
       "3 a    2    1   \n",
       "4 the  4    1   "
      ]
     },
     "metadata": {},
     "output_type": "display_data"
    }
   ],
   "source": [
    "# 예제 데이터셋 준비\n",
    "word <- c('the', 'is', 'a', 'the')\n",
    "docA <- c(3, 4, 2, 4)\n",
    "docB <- rep(1, 4)\n",
    "\n",
    "df <- data.frame(word, docA, docB)\n",
    "df\n",
    "\n",
    "# - word변수에 포함된 단어들이 docA와 docB변수에 \n",
    "#   얼마나 들어 있는지를 나타내주는 데이터셋임"
   ]
  },
  {
   "cell_type": "code",
   "execution_count": 69,
   "metadata": {},
   "outputs": [
    {
     "name": "stdout",
     "output_type": "stream",
     "text": [
      "  a  is the \n",
      "  1   1   2 \n",
      "\n",
      "  a  is the \n",
      "  2   4   7 \n"
     ]
    }
   ],
   "source": [
    "# tapply()함수를 이용한 데이터순환방식의 요약집계\n",
    "\n",
    "print(tapply(df$docA, df$word, length))\n",
    "cat('\\n')\n",
    "# - 집계기준변수 word로 집계대상변수 docA에 대해 집계처리함수 length를 적용해 요약집계함\n",
    " \n",
    "print(tapply(df$docA, df$word, sum))\n",
    "# - 집계기준변수 word로 집계대상변수 docA에 대해 집계처리함수 sum을 적용해 요약집계함"
   ]
  },
  {
   "cell_type": "code",
   "execution_count": 70,
   "metadata": {},
   "outputs": [
    {
     "name": "stdout",
     "output_type": "stream",
     "text": [
      "  a  is the \n",
      "  1   1   2 \n",
      "\n",
      "  a  is the \n",
      "  1   1   2 \n"
     ]
    }
   ],
   "source": [
    "# tapply()함수를 이용한 데이터순환방식의 요약집계\n",
    "\n",
    "print(tapply(df$docB, df$word, length))\n",
    "cat('\\n')\n",
    "# - 집계기준변수 word로 집계대상변수 docB에 대해 집계처리함수 length를 적용해 요약집계함\n",
    "\n",
    "print(tapply(df$docB, df$word, sum))\n",
    "# - 집계기준변수 word로 집계대상변수 docB에 대해 집계처리함수 sum을 적용해 요약집계함"
   ]
  },
  {
   "cell_type": "markdown",
   "metadata": {},
   "source": [
    "### 문자열 객체에 들어 있는 단어빈도수 계산"
   ]
  },
  {
   "cell_type": "code",
   "execution_count": 71,
   "metadata": {},
   "outputs": [],
   "source": [
    "sent1 <- 'earth to earth'\n",
    "sent2 <- 'ashes to ashes'\n",
    "sent3 <- 'dust to dust'"
   ]
  },
  {
   "cell_type": "code",
   "execution_count": 72,
   "metadata": {},
   "outputs": [
    {
     "name": "stdout",
     "output_type": "stream",
     "text": [
      "[1] \"earth to earth\" \"ashes to ashes\" \"dust to dust\"  \n"
     ]
    }
   ],
   "source": [
    "sent <- c(sent1, sent2, sent3)\n",
    "print(sent)"
   ]
  },
  {
   "cell_type": "code",
   "execution_count": 73,
   "metadata": {},
   "outputs": [
    {
     "name": "stdout",
     "output_type": "stream",
     "text": [
      "[[1]]\n",
      "[1] \"earth\" \"to\"    \"earth\"\n",
      "\n",
      "[[2]]\n",
      "[1] \"ashes\" \"to\"    \"ashes\"\n",
      "\n",
      "[[3]]\n",
      "[1] \"dust\" \"to\"   \"dust\"\n",
      "\n"
     ]
    }
   ],
   "source": [
    "sent_sep <- strsplit(sent, split = ' ')\n",
    "print(sent_sep)"
   ]
  },
  {
   "cell_type": "code",
   "execution_count": 74,
   "metadata": {},
   "outputs": [
    {
     "data": {
      "text/html": [
       "<ol class=list-inline>\n",
       "\t<li>'earth'</li>\n",
       "\t<li>'to'</li>\n",
       "\t<li>'earth'</li>\n",
       "\t<li>'ashes'</li>\n",
       "\t<li>'to'</li>\n",
       "\t<li>'ashes'</li>\n",
       "\t<li>'dust'</li>\n",
       "\t<li>'to'</li>\n",
       "\t<li>'dust'</li>\n",
       "</ol>\n"
      ],
      "text/latex": [
       "\\begin{enumerate*}\n",
       "\\item 'earth'\n",
       "\\item 'to'\n",
       "\\item 'earth'\n",
       "\\item 'ashes'\n",
       "\\item 'to'\n",
       "\\item 'ashes'\n",
       "\\item 'dust'\n",
       "\\item 'to'\n",
       "\\item 'dust'\n",
       "\\end{enumerate*}\n"
      ],
      "text/markdown": [
       "1. 'earth'\n",
       "2. 'to'\n",
       "3. 'earth'\n",
       "4. 'ashes'\n",
       "5. 'to'\n",
       "6. 'ashes'\n",
       "7. 'dust'\n",
       "8. 'to'\n",
       "9. 'dust'\n",
       "\n",
       "\n"
      ],
      "text/plain": [
       "[1] \"earth\" \"to\"    \"earth\" \"ashes\" \"to\"    \"ashes\" \"dust\"  \"to\"    \"dust\" "
      ]
     },
     "metadata": {},
     "output_type": "display_data"
    }
   ],
   "source": [
    "sent_un <- unlist(sent_sep)\n",
    "sent_un"
   ]
  },
  {
   "cell_type": "code",
   "execution_count": 75,
   "metadata": {},
   "outputs": [
    {
     "data": {
      "text/plain": [
       "sent_un\n",
       "ashes  dust earth    to \n",
       "    2     2     2     3 "
      ]
     },
     "metadata": {},
     "output_type": "display_data"
    }
   ],
   "source": [
    "table(sent_un)"
   ]
  },
  {
   "cell_type": "markdown",
   "metadata": {},
   "source": [
    "# End of Source"
   ]
  }
 ],
 "metadata": {
  "kernelspec": {
   "display_name": "R",
   "language": "R",
   "name": "ir"
  },
  "language_info": {
   "codemirror_mode": "r",
   "file_extension": ".r",
   "mimetype": "text/x-r-source",
   "name": "R",
   "pygments_lexer": "r",
   "version": "3.5.1"
  }
 },
 "nbformat": 4,
 "nbformat_minor": 2
}
