{
 "cells": [
  {
   "cell_type": "markdown",
   "metadata": {},
   "source": [
    "# <font color = 'color'>[R텍마07] 2부2장3장_텍스트분석을 위한 정규표현식4</font>"
   ]
  },
  {
   "cell_type": "markdown",
   "metadata": {},
   "source": [
    "## 필요사항 준비"
   ]
  },
  {
   "cell_type": "markdown",
   "metadata": {},
   "source": [
    "### 필요 패키지 인스톨 및 라이브러리 로딩"
   ]
  },
  {
   "cell_type": "code",
   "execution_count": 1,
   "metadata": {},
   "outputs": [
    {
     "name": "stderr",
     "output_type": "stream",
     "text": [
      "Loading required package: stringr\n",
      "Loading required package: magrittr\n",
      "Loading required package: purrr\n",
      "\n",
      "Attaching package: 'purrr'\n",
      "\n",
      "The following object is masked from 'package:magrittr':\n",
      "\n",
      "    set_names\n",
      "\n",
      "The following object is masked from 'package:jsonlite':\n",
      "\n",
      "    flatten\n",
      "\n"
     ]
    },
    {
     "data": {
      "text/html": [
       "<dl class=dl-horizontal>\n",
       "\t<dt>stringr</dt>\n",
       "\t\t<dd>TRUE</dd>\n",
       "\t<dt>magrittr</dt>\n",
       "\t\t<dd>TRUE</dd>\n",
       "\t<dt>purrr</dt>\n",
       "\t\t<dd>TRUE</dd>\n",
       "</dl>\n"
      ],
      "text/latex": [
       "\\begin{description*}\n",
       "\\item[stringr] TRUE\n",
       "\\item[magrittr] TRUE\n",
       "\\item[purrr] TRUE\n",
       "\\end{description*}\n"
      ],
      "text/markdown": [
       "stringr\n",
       ":   TRUEmagrittr\n",
       ":   TRUEpurrr\n",
       ":   TRUE\n",
       "\n"
      ],
      "text/plain": [
       " stringr magrittr    purrr \n",
       "    TRUE     TRUE     TRUE "
      ]
     },
     "metadata": {},
     "output_type": "display_data"
    }
   ],
   "source": [
    "# 필요한 패키지 목록 생성\n",
    "pkg <- c('stringr', 'magrittr', 'purrr')\n",
    "\n",
    "# 필요패키지 설지여부를 체크해 미설치패키지 목록을 저장\n",
    "new_pkg <- pkg[!(pkg %in% rownames(installed.packages()))]\n",
    "\n",
    "# 미설치 패키지 목록이 1개라도 있으면, 일괄 인스톨 실시\n",
    "if (length(new_pkg)) install.packages(new_pkg, dependencies = TRUE)\n",
    "\n",
    "# 필요 패키지 일괄 로딩실시\n",
    "sapply(pkg, require, character.only = TRUE)  "
   ]
  },
  {
   "cell_type": "markdown",
   "metadata": {},
   "source": [
    "# <font color = 'blue'>정규표현식을 이용한 특정패턴 찾기(p.64)</font>"
   ]
  },
  {
   "cell_type": "markdown",
   "metadata": {},
   "source": [
    "## 간단 텍스트셋 준비"
   ]
  },
  {
   "cell_type": "code",
   "execution_count": 2,
   "metadata": {},
   "outputs": [
    {
     "data": {
      "text/html": [
       "'검색대상 객체내용:'"
      ],
      "text/latex": [
       "'검색대상 객체내용:'"
      ],
      "text/markdown": [
       "'검색대상 객체내용:'"
      ],
      "text/plain": [
       "[1] \"검색대상 객체내용:\""
      ]
     },
     "metadata": {},
     "output_type": "display_data"
    },
    {
     "name": "stdout",
     "output_type": "stream",
     "text": [
      "[1] \"Learning R is so interesting\" \"He is a fascinating singer\"  \n"
     ]
    },
    {
     "data": {
      "text/html": [
       "'검색대상 객체유형: character객체'"
      ],
      "text/latex": [
       "'검색대상 객체유형: character객체'"
      ],
      "text/markdown": [
       "'검색대상 객체유형: character객체'"
      ],
      "text/plain": [
       "[1] \"검색대상 객체유형: character객체\""
      ]
     },
     "metadata": {},
     "output_type": "display_data"
    },
    {
     "data": {
      "text/html": [
       "'검색대상 객체길이: 2요소'"
      ],
      "text/latex": [
       "'검색대상 객체길이: 2요소'"
      ],
      "text/markdown": [
       "'검색대상 객체길이: 2요소'"
      ],
      "text/plain": [
       "[1] \"검색대상 객체길이: 2요소\""
      ]
     },
     "metadata": {},
     "output_type": "display_data"
    },
    {
     "data": {
      "text/html": [
       "'검색대상 객체글자수:'"
      ],
      "text/latex": [
       "'검색대상 객체글자수:'"
      ],
      "text/markdown": [
       "'검색대상 객체글자수:'"
      ],
      "text/plain": [
       "[1] \"검색대상 객체글자수:\""
      ]
     },
     "metadata": {},
     "output_type": "display_data"
    },
    {
     "name": "stdout",
     "output_type": "stream",
     "text": [
      "[1] 28 26\n"
     ]
    }
   ],
   "source": [
    "# 간단 텍스트셋 준비\n",
    "\n",
    "my <- c('Learning R is so interesting', 'He is a fascinating singer')\n",
    "\n",
    "sprintf('검색대상 객체내용:')\n",
    "print(my)\n",
    "\n",
    "sprintf('검색대상 객체유형: %s객체', class(my))\n",
    "sprintf('검색대상 객체길이: %d요소', length(my))\n",
    "\n",
    "sprintf('검색대상 객체글자수:')\n",
    "nchar(my) %>% print\n",
    "# - sprintf('검색대상 객체글자수: %d글자', str_length(my))"
   ]
  },
  {
   "cell_type": "markdown",
   "metadata": {},
   "source": [
    "## 검색용 정규표현식 준비"
   ]
  },
  {
   "cell_type": "markdown",
   "metadata": {},
   "source": [
    "* 텍스트셋에서 <font color = 'red'>ing로 끝나는 단어</font> 찾기\n",
    "* 원본 Learning R is so interesting', 'He is a fascinating singer에서\n",
    "<br>(1) Learning, (2) interesting, (3) fascinating을 찾아야하며, \n",
    "<br>(4) singer는 ing표현이 있지만 ing로 끝나는 단어가 아니어서 제외되어야 함"
   ]
  },
  {
   "cell_type": "code",
   "execution_count": 3,
   "metadata": {},
   "outputs": [],
   "source": [
    "src = 'ing'\n",
    "# - ing라는 영어소문자 3글자가 나타나는 패턴검색"
   ]
  },
  {
   "cell_type": "code",
   "execution_count": 4,
   "metadata": {},
   "outputs": [],
   "source": [
    "src = '[[:alpha:]]ing'\n",
    "# - (역방향해석) ing라는 영어소문자 3글자가 있는데, 바로 앞에 아무거나 영어대소문자가 1글자가 오는 패턴검색\n",
    "# - (순방향해석) 아무거나 영어대소문자 1글자가 오고, 이어서 ing라는 영어소문자 3글자가 나타나는 패턴검색\n",
    "\n",
    "# 텍스트셋에 알파벳패턴 포함여부 정규표현식\n",
    "# - 소문자: a-z, [:lower:] --> pattern = [a-z], [[:lower:]] 로 입력\n",
    "# - 대문자: A-Z, [:upper:] --> pattern = [A-Z], [[:upper:]] 로 입력\n",
    "# - 대소문자: A-z, a-zA-Z, [:alpha:], [:lower:][:upper:] \n",
    "# - --> pattern = [A-z], [a-zA-Z], [[:alpha:]], [[:lower:][:upper:]] 로 입력"
   ]
  },
  {
   "cell_type": "code",
   "execution_count": 5,
   "metadata": {},
   "outputs": [],
   "source": [
    "src = '[[:alpha:]]+ing'\n",
    "# - (역방향 해석) ing라는 영어소문자 3글자가 있는데, 바로 앞에 아무거나 영어대소문자가 최소한 1글자 이상이 오는 패턴검색\n",
    "# - (순방향 해석) 아무거나 영어대소문자가 최소한 1글자 이상 나타나고, 이어서 ing라는 영어 소문자 3글자가 오는 패턴검색\n",
    "\n",
    "# 정량자(Quantifiers)를 통해서 패턴을 얼마나 많이 반복할지를 설정함 \n",
    "# - *: 적어도 0 번 일치하는 패턴탐색, 일치패턴이 없어도 되고, 1번 이상 출현해도 됨 \n",
    "# - +: 적어도 1 번 일치하는 패턴탐색 , 최소한 1번 이상은 일치패턴이 출현해야 됨\n",
    "# - ?: 많아아 1 번 일치하는 패턴탐색 , 일치패턴이 없어도 되고, 정확하게 1번만 일치패턴이 출현해야 됨\n",
    "# - {n}: 정확히 n 번 일치하는 패턴탐색 \n",
    "# - {n,}: 최소한 n번 이상은 일치패턴이 출현해야 됨 --> {n, } 하면 에러발생(공백없어야 함)\n",
    "# - {n,m}: 최소한 n번에서부터 최대 m번까지 이내로 일치패턴이 출현해야 됨 --> {n, m} 하면 에러발생(공백없어야 함)"
   ]
  },
  {
   "cell_type": "code",
   "execution_count": 6,
   "metadata": {},
   "outputs": [],
   "source": [
    "src = '[[:alpha:]]+ing\\\\b'\n",
    "# - (역방향 해석) ing라는 영어소문자 3글자로 끝나는 패턴을 찾아야 하며, 바로 앞에 영어대소문자가 최소한 1글자 이상이 오는 패턴검색\n",
    "# - (순방향 해석) 영어대소문자가 최소한 1글자 이상 나타나고, 이어서 ing라는 영어 소문자 3글자로 끝나는 패턴검색\n",
    "\n",
    "# 문자열 시작&종료부분 패턴매칭\n",
    "# - 정규표현식으로 작성하는 검색패턴에 시작부분과 끝나는부분에 대한 패턴탐색 \n",
    "# - ^: 문자열이 특정문자로 시작하는지 패턴탐색 --> pattern = ^OOO\n",
    "# - $: 문자열이 특정문자로 끝나는지 패턴탐색 --> pattern = OOO$\n",
    "# - \\b: 문자로 이루어진 단어의 양쪽 끝 경계를 설정(경계를 벗어나는 부분에 더이상 문자가 없음) --> pattern = \\\\bOOO\\\\b  \n",
    "# - \\B: 비문자로 이루어진 단어의 양쪽 끝 경계를 설정(경계를 벗어나는 부분에 더이상 비문자가 없음) --> pattern = \\\\BOOO\\\\B"
   ]
  },
  {
   "cell_type": "markdown",
   "metadata": {},
   "source": [
    "## 정규표현식을 이용한 패턴검색"
   ]
  },
  {
   "cell_type": "code",
   "execution_count": 7,
   "metadata": {
    "scrolled": false
   },
   "outputs": [
    {
     "data": {
      "text/html": [
       "'원본문장:'"
      ],
      "text/latex": [
       "'원본문장:'"
      ],
      "text/markdown": [
       "'원본문장:'"
      ],
      "text/plain": [
       "[1] \"원본문장:\""
      ]
     },
     "metadata": {},
     "output_type": "display_data"
    },
    {
     "name": "stdout",
     "output_type": "stream",
     "text": [
      "[1] \"Learning R is so interesting\" \"He is a fascinating singer\"  \n"
     ]
    },
    {
     "data": {
      "text/html": [
       "'정규표현식 검색패턴: [[:alpha:]]+ing\\\\b'"
      ],
      "text/latex": [
       "'정규표현식 검색패턴: {[}{[}:alpha:{]}{]}+ing\\textbackslash{}\\textbackslash{}b'"
      ],
      "text/markdown": [
       "'정규표현식 검색패턴: [[:alpha:]]+ing\\\\b'"
      ],
      "text/plain": [
       "[1] \"정규표현식 검색패턴: [[:alpha:]]+ing\\\\b\""
      ]
     },
     "metadata": {},
     "output_type": "display_data"
    },
    {
     "name": "stdout",
     "output_type": "stream",
     "text": [
      "#----------------------------------------"
     ]
    },
    {
     "data": {
      "text/html": [
       "'검색패턴 포함여부를 요소별 논리값으로;'"
      ],
      "text/latex": [
       "'검색패턴 포함여부를 요소별 논리값으로;'"
      ],
      "text/markdown": [
       "'검색패턴 포함여부를 요소별 논리값으로;'"
      ],
      "text/plain": [
       "[1] \"검색패턴 포함여부를 요소별 논리값으로;\""
      ]
     },
     "metadata": {},
     "output_type": "display_data"
    },
    {
     "name": "stdout",
     "output_type": "stream",
     "text": [
      "[1] TRUE TRUE\n"
     ]
    },
    {
     "data": {
      "text/html": [
       "'검색패턴 포함여부를 요소별 인덱스번호로:'"
      ],
      "text/latex": [
       "'검색패턴 포함여부를 요소별 인덱스번호로:'"
      ],
      "text/markdown": [
       "'검색패턴 포함여부를 요소별 인덱스번호로:'"
      ],
      "text/plain": [
       "[1] \"검색패턴 포함여부를 요소별 인덱스번호로:\""
      ]
     },
     "metadata": {},
     "output_type": "display_data"
    },
    {
     "name": "stdout",
     "output_type": "stream",
     "text": [
      "[1] 1 2\n"
     ]
    },
    {
     "data": {
      "text/html": [
       "'검색패턴 포함여부를 요소별 내용으로:'"
      ],
      "text/latex": [
       "'검색패턴 포함여부를 요소별 내용으로:'"
      ],
      "text/markdown": [
       "'검색패턴 포함여부를 요소별 내용으로:'"
      ],
      "text/plain": [
       "[1] \"검색패턴 포함여부를 요소별 내용으로:\""
      ]
     },
     "metadata": {},
     "output_type": "display_data"
    },
    {
     "name": "stdout",
     "output_type": "stream",
     "text": [
      "[1] \"Learning R is so interesting\" \"He is a fascinating singer\"  \n"
     ]
    },
    {
     "data": {
      "text/html": [
       "'검색패턴 포함여부를 요소별 출현위치로:'"
      ],
      "text/latex": [
       "'검색패턴 포함여부를 요소별 출현위치로:'"
      ],
      "text/markdown": [
       "'검색패턴 포함여부를 요소별 출현위치로:'"
      ],
      "text/plain": [
       "[1] \"검색패턴 포함여부를 요소별 출현위치로:\""
      ]
     },
     "metadata": {},
     "output_type": "display_data"
    },
    {
     "name": "stdout",
     "output_type": "stream",
     "text": [
      "[[1]]\n",
      "     start end\n",
      "[1,]     1   8\n",
      "[2,]    18  28\n",
      "\n",
      "[[2]]\n",
      "     start end\n",
      "[1,]     9  19\n",
      "\n"
     ]
    },
    {
     "data": {
      "text/html": [
       "'검색패턴 포함여부를 요소별 출현내용으로:'"
      ],
      "text/latex": [
       "'검색패턴 포함여부를 요소별 출현내용으로:'"
      ],
      "text/markdown": [
       "'검색패턴 포함여부를 요소별 출현내용으로:'"
      ],
      "text/plain": [
       "[1] \"검색패턴 포함여부를 요소별 출현내용으로:\""
      ]
     },
     "metadata": {},
     "output_type": "display_data"
    },
    {
     "name": "stdout",
     "output_type": "stream",
     "text": [
      "[[1]]\n",
      "[1] \"Learning\"    \"interesting\"\n",
      "\n",
      "[[2]]\n",
      "[1] \"fascinating\"\n",
      "\n"
     ]
    },
    {
     "data": {
      "text/html": [
       "'검색패턴 포함여부를 요소별 출현횟수로:'"
      ],
      "text/latex": [
       "'검색패턴 포함여부를 요소별 출현횟수로:'"
      ],
      "text/markdown": [
       "'검색패턴 포함여부를 요소별 출현횟수로:'"
      ],
      "text/plain": [
       "[1] \"검색패턴 포함여부를 요소별 출현횟수로:\""
      ]
     },
     "metadata": {},
     "output_type": "display_data"
    },
    {
     "name": "stdout",
     "output_type": "stream",
     "text": [
      "[1] 2 1\n"
     ]
    },
    {
     "data": {
      "text/html": [
       "'검색패턴 포함여부를 요소별 기술통계로:'"
      ],
      "text/latex": [
       "'검색패턴 포함여부를 요소별 기술통계로:'"
      ],
      "text/markdown": [
       "'검색패턴 포함여부를 요소별 기술통계로:'"
      ],
      "text/plain": [
       "[1] \"검색패턴 포함여부를 요소별 기술통계로:\""
      ]
     },
     "metadata": {},
     "output_type": "display_data"
    },
    {
     "name": "stdout",
     "output_type": "stream",
     "text": [
      "[[1]]\n",
      "\n",
      "interesting    Learning \n",
      "          1           1 \n",
      "\n",
      "[[2]]\n",
      "fascinating \n",
      "          1 \n",
      "\n"
     ]
    }
   ],
   "source": [
    "sprintf('원본문장:')\n",
    "print(my)\n",
    "sprintf('정규표현식 검색패턴: %s', src)\n",
    "cat('#----------------------------------------')\n",
    "\n",
    "sprintf('검색패턴 포함여부를 요소별 논리값으로;')\n",
    "str_detect(string = my, pattern = src) %>% print \n",
    "# - grepl(x = my, pattern = src) %>% print 동일결과\n",
    "# - 검색패턴이 들어 있으면 TRUE, 없으면 FALSE 출력\n",
    "\n",
    "sprintf('검색패턴 포함여부를 요소별 인덱스번호로:')\n",
    "str_which(string = my, pattern = src) %>% print\n",
    "# - grep(x = my, pattern = src) %>% print 동일결과\n",
    "# - 검색패턴이 들어 있으면 해당 요소의 인덱스번호 출력, 없으면 해당 요소 인덱스번호 미출력\n",
    "\n",
    "sprintf('검색패턴 포함여부를 요소별 내용으로:')\n",
    "str_subset(string = my, pattern = src) %>% print \n",
    "# - grep(x = my, pattern = src, value = TRUE) %>% print 동일결과\n",
    "# - 검색패턴이 들어 있으면 해당 요소의 내용 출력, 없으면 해당 요소의 내용 미출력\n",
    "\n",
    "sprintf('검색패턴 포함여부를 요소별 출현위치로:')\n",
    "str_locate_all(string = my, pattern = src) %>% print\n",
    "# - gregexpr(text = my, pattern = src) %>% print 동일결과\n",
    "# - 검색패턴이 해당 텍스트요소에 들어 있지 않으면 base::gregexpr()은 -1을, stringr::str_locate_all()은 NA를 출력함\n",
    "\n",
    "sprintf('검색패턴 포함여부를 요소별 출현내용으로:')\n",
    "str_extract_all(string = my, pattern = src) %>% print\n",
    "# - gregexpr(text = my, pattern = src) %>% regmatches(x = my) %>% print 동일결과\n",
    "# - 검색패턴이 해당 텍스트요소에 들어 있지 않으면 character(0)을 출력함\n",
    "\n",
    "sprintf('검색패턴 포함여부를 요소별 출현횟수로:')\n",
    "str_count(string = my, pattern = src) %>% print\n",
    "# - gregexpr(text = my, pattern = src) %>% regmatches(x = my) %>% lengths %>% print 동일결과\n",
    "# - 검색패턴이 해당 텍스트요소에 들어 있는 갯수를 카운팅해 출력함\n",
    "\n",
    "sprintf('검색패턴 포함여부를 요소별 기술통계로:')\n",
    "str_extract_all(string = my, pattern = src) %>% \n",
    "    map(table) %>% map(sort, decreasing = TRUE) %>% print"
   ]
  },
  {
   "cell_type": "markdown",
   "metadata": {},
   "source": [
    "# <font color = 'blue'>정규표현식을 이용한 특정패턴 찾기(p.69)</font>"
   ]
  },
  {
   "cell_type": "markdown",
   "metadata": {},
   "source": [
    "## 간단 텍스트셋 준비"
   ]
  },
  {
   "cell_type": "code",
   "execution_count": 8,
   "metadata": {},
   "outputs": [
    {
     "data": {
      "text/html": [
       "'원본내용:'"
      ],
      "text/latex": [
       "'원본내용:'"
      ],
      "text/markdown": [
       "'원본내용:'"
      ],
      "text/plain": [
       "[1] \"원본내용:\""
      ]
     },
     "metadata": {},
     "output_type": "display_data"
    },
    {
     "name": "stdout",
     "output_type": "stream",
     "text": [
      "[1] \"R is a programming language and free software environment for statistical computing and graphics supported by the R Foundation for Statistical Computing. The R language is widely used among statisticians and data miners for developing statistical software and data analysis. R is comparable to popular commercial statistical packages, such as SAS, SPSS, and STATA. \\nPolls, data mining surveys, and studies of scholarly literature databases show substantial increases in popularity in recent years. As of December 2018, R ranks 16th in the TIOBE index, a measure of popularity of programming languages. Choose Stat ABTest, Machine learning, Deep learning, and Text mining(Ref: librestats.com website).\"\n"
     ]
    },
    {
     "data": {
      "text/html": [
       "'객체유형: character객체'"
      ],
      "text/latex": [
       "'객체유형: character객체'"
      ],
      "text/markdown": [
       "'객체유형: character객체'"
      ],
      "text/plain": [
       "[1] \"객체유형: character객체\""
      ]
     },
     "metadata": {},
     "output_type": "display_data"
    },
    {
     "data": {
      "text/html": [
       "'객체길이: 1요소'"
      ],
      "text/latex": [
       "'객체길이: 1요소'"
      ],
      "text/markdown": [
       "'객체길이: 1요소'"
      ],
      "text/plain": [
       "[1] \"객체길이: 1요소\""
      ]
     },
     "metadata": {},
     "output_type": "display_data"
    },
    {
     "data": {
      "text/html": [
       "'원본글자수: 700글자'"
      ],
      "text/latex": [
       "'원본글자수: 700글자'"
      ],
      "text/markdown": [
       "'원본글자수: 700글자'"
      ],
      "text/plain": [
       "[1] \"원본글자수: 700글자\""
      ]
     },
     "metadata": {},
     "output_type": "display_data"
    }
   ],
   "source": [
    "# 분석대상 텍스트 데이터 원본 준비\n",
    "my <- 'R is a programming language and free software environment for statistical computing and graphics supported by the R Foundation for Statistical Computing. The R language is widely used among statisticians and data miners for developing statistical software and data analysis. R is comparable to popular commercial statistical packages, such as SAS, SPSS, and STATA. \n",
    "Polls, data mining surveys, and studies of scholarly literature databases show substantial increases in popularity in recent years. As of December 2018, R ranks 16th in the TIOBE index, a measure of popularity of programming languages. Choose Stat ABTest, Machine learning, Deep learning, and Text mining(Ref: librestats.com website).'\n",
    "\n",
    "sprintf('원본내용:')\n",
    "print(my)\n",
    "\n",
    "sprintf('객체유형: %s객체', class(my))\n",
    "sprintf('객체길이: %d요소', length(my))\n",
    "\n",
    "sprintf('원본글자수: %d글자', nchar(my))\n",
    "# - sprintf('검색대상 객체글자수: %d글자', str_length(my))"
   ]
  },
  {
   "cell_type": "markdown",
   "metadata": {},
   "source": [
    "## 검색용 정규표현식 준비"
   ]
  },
  {
   "cell_type": "markdown",
   "metadata": {},
   "source": [
    "* 텍스트셋에서 <font color = 'red'>stat라는 표현이 들어간 단어 찾기</font> 찾기\n",
    "* 원본 텍스트셋에서 \n",
    "<br>(1) stat라는 표현은 대소문자 상관없음 \n",
    "<br>(2) statistical, Statistical, statisticians, STATA, Stat을 찾아야 함\n",
    "<br>(3) librestas에도 stat라는 표현이 중간이후에 있으므로 찾아야 함"
   ]
  },
  {
   "cell_type": "code",
   "execution_count": 9,
   "metadata": {},
   "outputs": [],
   "source": [
    "src = 'stat'\n",
    "# - stat라는 영어소문자 4글자가 나타나는 패턴검색"
   ]
  },
  {
   "cell_type": "code",
   "execution_count": 10,
   "metadata": {},
   "outputs": [],
   "source": [
    "src = '[S|s]tat'\n",
    "# - 첫글자인 s가 대소문자에 상관없으며, 이어서 tat라는 영어소문자 3글자가 나타나는 패턴검색\n",
    "\n",
    "# 연산자\n",
    "# - 정규표현식으로 작성하는 검색패턴에 적절한 연산자를 반영하여 사전에 정해진 기능을 구현함 \n",
    "# - . --> 어떤 문자 하나와 일치하는 패턴탐색 \n",
    "# - [...] --> 문자 리스트. 꺾쇠괄호 내부에 지정된 문자중 하나와 매칭. 문자범위를 지정하는데 꺽쇠 내부에 -도 사용가능. \n",
    "# - [^...] --> 반전문자 리스트. [...]와 유사하지만, 꺾쇠괄호 내부에 있는 것을 제외한 문자 어떤 것이나 매칭 \n",
    "# - \\ --> 메타문자인 $ * + . ? [ ] ^ { } | ( ) 자체를 검색패턴으로 입력할 때 사전에 사용 \n",
    "# - | --> 'or'라는 의미를 가지며, | 어느쪽이든 일치하는 패턴탐색 \n",
    "# - (...) --> 일종의 그룹연산자 기능을 가짐"
   ]
  },
  {
   "cell_type": "code",
   "execution_count": 11,
   "metadata": {},
   "outputs": [],
   "source": [
    "src = '[S|s][T|t][A|a][T|t]'\n",
    "# - 첫글자 s, 두번째 t, 세번째 a, 네번째 t 알파벳이 대소문자에 상관없이 이어져 나타나는 패턴검색\n",
    "# - 이 표현으로 시작하든, 끝나든, 중간에 들어 있는 상관없음 "
   ]
  },
  {
   "cell_type": "code",
   "execution_count": 12,
   "metadata": {},
   "outputs": [],
   "source": [
    "src = '[S|s][T|t][A|a][T|t][[:alpha:]]'\n",
    "# - (순방향해석) stat라는 영어대소문자 4글자가 오고, 아무거나 영어대소문자 1글자가 오는 패턴검색\n",
    "# - (역방향해석) 아무거나 영어대소문자 1글자가 오고, 바로 앞에 stat라는 영어대소문자 4글자가 나타나는 패턴검색\n",
    "\n",
    "# 텍스트셋에 알파벳패턴 포함여부 정규표현식\n",
    "# - 소문자: a-z, [:lower:] --> pattern = [a-z], [[:lower:]] 로 입력\n",
    "# - 대문자: A-Z, [:upper:] --> pattern = [A-Z], [[:upper:]] 로 입력\n",
    "# - 대소문자: A-z, a-zA-Z, [:alpha:], [:lower:][:upper:] \n",
    "# - --> pattern = [A-z], [a-zA-Z], [[:alpha:]], [[:lower:][:upper:]] 로 입력"
   ]
  },
  {
   "cell_type": "code",
   "execution_count": 13,
   "metadata": {},
   "outputs": [],
   "source": [
    "src = '[S|s][T|t][A|a][T|t][[:alpha:]]*'\n",
    "# - (순방향해석) stat라는 영어대소문자 4글자가 오고, 아무거나 영어대소문자가 없거나 최소한 1글자 이상이 오는 패턴검색\n",
    "# - (역방향해석) 아무거나 영어대소문자가 없거나 최소한 1글자 이상 나타나고, 바로 앞에 stat라는 영어대소문자 4글자가 나타나는 패턴검색\n",
    "\n",
    "# 정량자(Quantifiers)를 통해서 패턴을 얼마나 많이 반복할지를 설정함 \n",
    "# - *: 적어도 0 번 일치하는 패턴탐색, 일치패턴이 없어도 되고, 1번 이상 출현해도 됨 \n",
    "# - +: 적어도 1 번 일치하는 패턴탐색 , 최소한 1번 이상은 일치패턴이 출현해야 됨\n",
    "# - ?: 많아아 1 번 일치하는 패턴탐색 , 일치패턴이 없어도 되고, 정확하게 1번만 일치패턴이 출현해야 됨\n",
    "# - {n}: 정확히 n 번 일치하는 패턴탐색 \n",
    "# - {n,}: 최소한 n번 이상은 일치패턴이 출현해야 됨 --> {n, } 하면 에러발생(공백없어야 함)\n",
    "# - {n,m}: 최소한 n번에서부터 최대 m번까지 이내로 일치패턴이 출현해야 됨 --> {n, m} 하면 에러발생(공백없어야 함)"
   ]
  },
  {
   "cell_type": "code",
   "execution_count": 14,
   "metadata": {},
   "outputs": [],
   "source": [
    "src = '[[:alpha:]]*[S|s][T|t][A|a][T|t][[:alpha:]]*'\n",
    "# - (순방향해석) 아무거나 영어대소문자가 없거나 최소한 1글자 이상이 오고, 그 다음에 stat라는 영어대소문자 4글자가 오고, \n",
    "#                이어서 아무거나 영어대소문자가 없거나 최소한 1글자 이상이 오는 패턴검색\n",
    "# - (역방향해석) 아무거나 영어대소문자가 없거나 최소한 1글자 이상 나타나고, 바로 앞에 stat라는 영어대소문자 4글자가 나타나고,\n",
    "#                보다 더 앞에 아무거나 영어대소문자가 없거나 최소한 1글자 이상 나타나는 패턴검색\n",
    "\n",
    "# 정량자(Quantifiers)를 통해서 패턴을 얼마나 많이 반복할지를 설정함 \n",
    "# - *: 적어도 0 번 일치하는 패턴탐색, 일치패턴이 없어도 되고, 1번 이상 출현해도 됨 \n",
    "# - +: 적어도 1 번 일치하는 패턴탐색 , 최소한 1번 이상은 일치패턴이 출현해야 됨\n",
    "# - ?: 많아아 1 번 일치하는 패턴탐색 , 일치패턴이 없어도 되고, 정확하게 1번만 일치패턴이 출현해야 됨\n",
    "# - {n}: 정확히 n 번 일치하는 패턴탐색 \n",
    "# - {n,}: 최소한 n번 이상은 일치패턴이 출현해야 됨 --> {n, } 하면 에러발생(공백없어야 함)\n",
    "# - {n,m}: 최소한 n번에서부터 최대 m번까지 이내로 일치패턴이 출현해야 됨 --> {n, m} 하면 에러발생(공백없어야 함)"
   ]
  },
  {
   "cell_type": "markdown",
   "metadata": {},
   "source": [
    "## 정규표현식을 이용한 패턴검색"
   ]
  },
  {
   "cell_type": "code",
   "execution_count": 15,
   "metadata": {
    "scrolled": false
   },
   "outputs": [
    {
     "data": {
      "text/html": [
       "'원본문장:'"
      ],
      "text/latex": [
       "'원본문장:'"
      ],
      "text/markdown": [
       "'원본문장:'"
      ],
      "text/plain": [
       "[1] \"원본문장:\""
      ]
     },
     "metadata": {},
     "output_type": "display_data"
    },
    {
     "name": "stdout",
     "output_type": "stream",
     "text": [
      "[1] \"R is a programming language and free software environment for statistical computing and graphics supported by the R Foundation for Statistical Computing. The R language is widely used among statisticians and data miners for developing statistical software and data analysis. R is comparable to popular commercial statistical packages, such as SAS, SPSS, and STATA. \\nPolls, data mining surveys, and studies of scholarly literature databases show substantial increases in popularity in recent years. As of December 2018, R ranks 16th in the TIOBE index, a measure of popularity of programming languages. Choose Stat ABTest, Machine learning, Deep learning, and Text mining(Ref: librestats.com website).\"\n"
     ]
    },
    {
     "data": {
      "text/html": [
       "'정규표현식 검색패턴: [[:alpha:]]*[S|s][T|t][A|a][T|t][[:alpha:]]*'"
      ],
      "text/latex": [
       "'정규표현식 검색패턴: {[}{[}:alpha:{]}{]}*{[}S\\textbar{}s{]}{[}T\\textbar{}t{]}{[}A\\textbar{}a{]}{[}T\\textbar{}t{]}{[}{[}:alpha:{]}{]}*'"
      ],
      "text/markdown": [
       "'정규표현식 검색패턴: [[:alpha:]]*[S|s][T|t][A|a][T|t][[:alpha:]]*'"
      ],
      "text/plain": [
       "[1] \"정규표현식 검색패턴: [[:alpha:]]*[S|s][T|t][A|a][T|t][[:alpha:]]*\""
      ]
     },
     "metadata": {},
     "output_type": "display_data"
    },
    {
     "name": "stdout",
     "output_type": "stream",
     "text": [
      "#----------------------------------------"
     ]
    },
    {
     "data": {
      "text/html": [
       "'검색패턴 포함여부를 요소별 논리값으로;'"
      ],
      "text/latex": [
       "'검색패턴 포함여부를 요소별 논리값으로;'"
      ],
      "text/markdown": [
       "'검색패턴 포함여부를 요소별 논리값으로;'"
      ],
      "text/plain": [
       "[1] \"검색패턴 포함여부를 요소별 논리값으로;\""
      ]
     },
     "metadata": {},
     "output_type": "display_data"
    },
    {
     "name": "stdout",
     "output_type": "stream",
     "text": [
      "[1] TRUE\n"
     ]
    },
    {
     "data": {
      "text/html": [
       "'검색패턴 포함여부를 요소별 인덱스번호로:'"
      ],
      "text/latex": [
       "'검색패턴 포함여부를 요소별 인덱스번호로:'"
      ],
      "text/markdown": [
       "'검색패턴 포함여부를 요소별 인덱스번호로:'"
      ],
      "text/plain": [
       "[1] \"검색패턴 포함여부를 요소별 인덱스번호로:\""
      ]
     },
     "metadata": {},
     "output_type": "display_data"
    },
    {
     "name": "stdout",
     "output_type": "stream",
     "text": [
      "[1] 1\n"
     ]
    },
    {
     "data": {
      "text/html": [
       "'검색패턴 포함여부를 요소별 내용으로:'"
      ],
      "text/latex": [
       "'검색패턴 포함여부를 요소별 내용으로:'"
      ],
      "text/markdown": [
       "'검색패턴 포함여부를 요소별 내용으로:'"
      ],
      "text/plain": [
       "[1] \"검색패턴 포함여부를 요소별 내용으로:\""
      ]
     },
     "metadata": {},
     "output_type": "display_data"
    },
    {
     "name": "stdout",
     "output_type": "stream",
     "text": [
      "[1] \"R is a programming language and free software environment for statistical computing and graphics supported by the R Foundation for Statistical Computing. The R language is widely used among statisticians and data miners for developing statistical software and data analysis. R is comparable to popular commercial statistical packages, such as SAS, SPSS, and STATA. \\nPolls, data mining surveys, and studies of scholarly literature databases show substantial increases in popularity in recent years. As of December 2018, R ranks 16th in the TIOBE index, a measure of popularity of programming languages. Choose Stat ABTest, Machine learning, Deep learning, and Text mining(Ref: librestats.com website).\"\n"
     ]
    },
    {
     "data": {
      "text/html": [
       "'검색패턴 포함여부를 요소별 출현위치로:'"
      ],
      "text/latex": [
       "'검색패턴 포함여부를 요소별 출현위치로:'"
      ],
      "text/markdown": [
       "'검색패턴 포함여부를 요소별 출현위치로:'"
      ],
      "text/plain": [
       "[1] \"검색패턴 포함여부를 요소별 출현위치로:\""
      ]
     },
     "metadata": {},
     "output_type": "display_data"
    },
    {
     "name": "stdout",
     "output_type": "stream",
     "text": [
      "[[1]]\n",
      "     start end\n",
      "[1,]    63  73\n",
      "[2,]   132 142\n",
      "[3,]   191 203\n",
      "[4,]   236 246\n",
      "[5,]   314 324\n",
      "[6,]   359 363\n",
      "[7,]   610 613\n",
      "[8,]   677 686\n",
      "\n"
     ]
    },
    {
     "data": {
      "text/html": [
       "'검색패턴 포함여부를 요소별 출현내용으로:'"
      ],
      "text/latex": [
       "'검색패턴 포함여부를 요소별 출현내용으로:'"
      ],
      "text/markdown": [
       "'검색패턴 포함여부를 요소별 출현내용으로:'"
      ],
      "text/plain": [
       "[1] \"검색패턴 포함여부를 요소별 출현내용으로:\""
      ]
     },
     "metadata": {},
     "output_type": "display_data"
    },
    {
     "name": "stdout",
     "output_type": "stream",
     "text": [
      "[[1]]\n",
      "[1] \"statistical\"   \"Statistical\"   \"statisticians\" \"statistical\"  \n",
      "[5] \"statistical\"   \"STATA\"         \"Stat\"          \"librestats\"   \n",
      "\n"
     ]
    },
    {
     "data": {
      "text/html": [
       "'검색패턴 포함여부를 요소별 출현횟수로:'"
      ],
      "text/latex": [
       "'검색패턴 포함여부를 요소별 출현횟수로:'"
      ],
      "text/markdown": [
       "'검색패턴 포함여부를 요소별 출현횟수로:'"
      ],
      "text/plain": [
       "[1] \"검색패턴 포함여부를 요소별 출현횟수로:\""
      ]
     },
     "metadata": {},
     "output_type": "display_data"
    },
    {
     "name": "stdout",
     "output_type": "stream",
     "text": [
      "[1] 8\n"
     ]
    },
    {
     "data": {
      "text/html": [
       "'검색패턴 포함여부를 요소별 기술통계로:'"
      ],
      "text/latex": [
       "'검색패턴 포함여부를 요소별 기술통계로:'"
      ],
      "text/markdown": [
       "'검색패턴 포함여부를 요소별 기술통계로:'"
      ],
      "text/plain": [
       "[1] \"검색패턴 포함여부를 요소별 기술통계로:\""
      ]
     },
     "metadata": {},
     "output_type": "display_data"
    },
    {
     "name": "stdout",
     "output_type": "stream",
     "text": [
      "[[1]]\n",
      "\n",
      "  statistical    librestats          Stat         STATA   Statistical \n",
      "            3             1             1             1             1 \n",
      "statisticians \n",
      "            1 \n",
      "\n"
     ]
    }
   ],
   "source": [
    "sprintf('원본문장:')\n",
    "print(my)\n",
    "sprintf('정규표현식 검색패턴: %s', src)\n",
    "cat('#----------------------------------------')\n",
    "\n",
    "sprintf('검색패턴 포함여부를 요소별 논리값으로;')\n",
    "str_detect(string = my, pattern = src) %>% print \n",
    "# - grepl(x = my, pattern = src) %>% print 동일결과\n",
    "# - 검색패턴이 들어 있으면 TRUE, 없으면 FALSE 출력\n",
    "\n",
    "sprintf('검색패턴 포함여부를 요소별 인덱스번호로:')\n",
    "str_which(string = my, pattern = src) %>% print\n",
    "# - grep(x = my, pattern = src) %>% print 동일결과\n",
    "# - 검색패턴이 들어 있으면 해당 요소의 인덱스번호 출력, 없으면 해당 요소 인덱스번호 미출력\n",
    "\n",
    "sprintf('검색패턴 포함여부를 요소별 내용으로:')\n",
    "str_subset(string = my, pattern = src) %>% print \n",
    "# - grep(x = my, pattern = src, value = TRUE) %>% print 동일결과\n",
    "# - 검색패턴이 들어 있으면 해당 요소의 내용 출력, 없으면 해당 요소의 내용 미출력\n",
    "\n",
    "sprintf('검색패턴 포함여부를 요소별 출현위치로:')\n",
    "str_locate_all(string = my, pattern = src) %>% print\n",
    "# - gregexpr(text = my, pattern = src) %>% print 동일결과\n",
    "# - 검색패턴이 해당 텍스트요소에 들어 있지 않으면 base::gregexpr()은 -1을, stringr::str_locate_all()은 NA를 출력함\n",
    "\n",
    "sprintf('검색패턴 포함여부를 요소별 출현내용으로:')\n",
    "str_extract_all(string = my, pattern = src) %>% print\n",
    "# - gregexpr(text = my, pattern = src) %>% regmatches(x = my) %>% print 동일결과\n",
    "# - 검색패턴이 해당 텍스트요소에 들어 있지 않으면 character(0)을 출력함\n",
    "\n",
    "sprintf('검색패턴 포함여부를 요소별 출현횟수로:')\n",
    "str_count(string = my, pattern = src) %>% print\n",
    "# - gregexpr(text = my, pattern = src) %>% regmatches(x = my) %>% lengths %>% print 동일결과\n",
    "# - 검색패턴이 해당 텍스트요소에 들어 있는 갯수를 카운팅해 출력함\n",
    "\n",
    "sprintf('검색패턴 포함여부를 요소별 기술통계로:')\n",
    "str_extract_all(string = my, pattern = src) %>% \n",
    "    map(table) %>% map(sort, decreasing = TRUE) %>% print"
   ]
  },
  {
   "cell_type": "markdown",
   "metadata": {},
   "source": [
    "# <font color = 'blue'>정규표현식을 이용한 특정패턴 찾기(p.76)</font>"
   ]
  },
  {
   "cell_type": "markdown",
   "metadata": {},
   "source": [
    "## 간단 텍스트셋 준비"
   ]
  },
  {
   "cell_type": "code",
   "execution_count": 16,
   "metadata": {},
   "outputs": [
    {
     "data": {
      "text/html": [
       "'원본내용:'"
      ],
      "text/latex": [
       "'원본내용:'"
      ],
      "text/markdown": [
       "'원본내용:'"
      ],
      "text/plain": [
       "[1] \"원본내용:\""
      ]
     },
     "metadata": {},
     "output_type": "display_data"
    },
    {
     "name": "stdout",
     "output_type": "stream",
     "text": [
      "[1] \"R is a programming language and free software environment for statistical computing and graphics supported by the R Foundation for Statistical Computing. The R language is widely used among statisticians and data miners for developing statistical software and data analysis. R is comparable to popular commercial statistical packages, such as SAS, SPSS, and STATA. \\nPolls, data mining surveys, and studies of scholarly literature databases show substantial increases in popularity in recent years. As of December 2018, R ranks 16th in the TIOBE index, a measure of popularity of programming languages. Choose Stat ABTest, Machine learning, Deep learning, and Text mining(Ref: librestats.com website).\"\n"
     ]
    },
    {
     "data": {
      "text/html": [
       "'객체유형: character객체'"
      ],
      "text/latex": [
       "'객체유형: character객체'"
      ],
      "text/markdown": [
       "'객체유형: character객체'"
      ],
      "text/plain": [
       "[1] \"객체유형: character객체\""
      ]
     },
     "metadata": {},
     "output_type": "display_data"
    },
    {
     "data": {
      "text/html": [
       "'객체길이: 1요소'"
      ],
      "text/latex": [
       "'객체길이: 1요소'"
      ],
      "text/markdown": [
       "'객체길이: 1요소'"
      ],
      "text/plain": [
       "[1] \"객체길이: 1요소\""
      ]
     },
     "metadata": {},
     "output_type": "display_data"
    },
    {
     "data": {
      "text/html": [
       "'원본글자수: 700글자'"
      ],
      "text/latex": [
       "'원본글자수: 700글자'"
      ],
      "text/markdown": [
       "'원본글자수: 700글자'"
      ],
      "text/plain": [
       "[1] \"원본글자수: 700글자\""
      ]
     },
     "metadata": {},
     "output_type": "display_data"
    }
   ],
   "source": [
    "# 분석대상 텍스트 데이터 원본 준비\n",
    "my <- 'R is a programming language and free software environment for statistical computing and graphics supported by the R Foundation for Statistical Computing. The R language is widely used among statisticians and data miners for developing statistical software and data analysis. R is comparable to popular commercial statistical packages, such as SAS, SPSS, and STATA. \n",
    "Polls, data mining surveys, and studies of scholarly literature databases show substantial increases in popularity in recent years. As of December 2018, R ranks 16th in the TIOBE index, a measure of popularity of programming languages. Choose Stat ABTest, Machine learning, Deep learning, and Text mining(Ref: librestats.com website).'\n",
    "\n",
    "sprintf('원본내용:')\n",
    "print(my)\n",
    "\n",
    "sprintf('객체유형: %s객체', class(my))\n",
    "sprintf('객체길이: %d요소', length(my))\n",
    "\n",
    "sprintf('원본글자수: %d글자', nchar(my))\n",
    "# - sprintf('검색대상 객체글자수: %d글자', str_length(my))"
   ]
  },
  {
   "cell_type": "markdown",
   "metadata": {},
   "source": [
    "## 검색용 정규표현식 준비"
   ]
  },
  {
   "cell_type": "markdown",
   "metadata": {},
   "source": [
    "* 텍스트셋에서 <font color = 'red'>지정된 문자는 없음</font> 찾기\n",
    "* 원본 텍스트셋에서 \n",
    "<br>(1) 첫번째 문자는 반드시 알파벳 대문자로 표현되어야 함 \n",
    "<br>(2) 두번째 문자는 알파벳 대소문자가 없을수도, 또는 1개 이상 올 수 있음"
   ]
  },
  {
   "cell_type": "code",
   "execution_count": 17,
   "metadata": {},
   "outputs": [],
   "source": [
    "src = '[[:upper:]]'\n",
    "# - stat라는 영어소문자 4글자가 나타나는 패턴검색"
   ]
  },
  {
   "cell_type": "code",
   "execution_count": 18,
   "metadata": {},
   "outputs": [],
   "source": [
    "src = '[[:upper:]]{1}'\n",
    "# - 첫글자인 s가 대소문자에 상관없으며, 이어서 tat라는 영어소문자 3글자가 나타나는 패턴검색\n"
   ]
  },
  {
   "cell_type": "code",
   "execution_count": 19,
   "metadata": {},
   "outputs": [],
   "source": [
    "src = '[[:upper:]]{1}[[:alpha:]]'\n",
    "# - 첫글자인 s가 대소문자에 상관없으며, 이어서 tat라는 영어소문자 3글자가 나타나는 패턴검색\n"
   ]
  },
  {
   "cell_type": "code",
   "execution_count": 20,
   "metadata": {},
   "outputs": [],
   "source": [
    "src = '[[:upper:]]{1}[[:alpha:]]{0,}'\n",
    "# - 첫글자인 s가 대소문자에 상관없으며, 이어서 tat라는 영어소문자 3글자가 나타나는 패턴검색\n"
   ]
  },
  {
   "cell_type": "code",
   "execution_count": 21,
   "metadata": {},
   "outputs": [],
   "source": [
    "src = '[S|s][T|t][A|a][T|t]'\n",
    "# - 첫글자 s, 두번째 t, 세번째 a, 네번째 t 알파벳이 대소문자에 상관없이 이어져 나타나는 패턴검색\n",
    "# - 이 표현으로 시작하든, 끝나든, 중간에 들어 있는 상관없음 "
   ]
  },
  {
   "cell_type": "code",
   "execution_count": 22,
   "metadata": {},
   "outputs": [],
   "source": [
    "src = '[S|s][T|t][A|a][T|t][[:alpha:]]'\n",
    "# - (순방향해석) stat라는 영어대소문자 4글자가 오고, 아무거나 영어대소문자 1글자가 오는 패턴검색\n",
    "# - (역방향해석) 아무거나 영어대소문자 1글자가 오고, 바로 앞에 stat라는 영어대소문자 4글자가 나타나는 패턴검색\n",
    "\n",
    "# 텍스트셋에 알파벳패턴 포함여부 정규표현식\n",
    "# - 소문자: a-z, [:lower:] --> pattern = [a-z], [[:lower:]] 로 입력\n",
    "# - 대문자: A-Z, [:upper:] --> pattern = [A-Z], [[:upper:]] 로 입력\n",
    "# - 대소문자: A-z, a-zA-Z, [:alpha:], [:lower:][:upper:] \n",
    "# - --> pattern = [A-z], [a-zA-Z], [[:alpha:]], [[:lower:][:upper:]] 로 입력"
   ]
  },
  {
   "cell_type": "code",
   "execution_count": 23,
   "metadata": {},
   "outputs": [],
   "source": [
    "src = '[S|s][T|t][A|a][T|t][[:alpha:]]*'\n",
    "# - (순방향해석) stat라는 영어대소문자 4글자가 오고, 아무거나 영어대소문자가 없거나 최소한 1글자 이상이 오는 패턴검색\n",
    "# - (역방향해석) 아무거나 영어대소문자가 없거나 최소한 1글자 이상 나타나고, 바로 앞에 stat라는 영어대소문자 4글자가 나타나는 패턴검색\n",
    "\n",
    "# 정량자(Quantifiers)를 통해서 패턴을 얼마나 많이 반복할지를 설정함 \n",
    "# - *: 적어도 0 번 일치하는 패턴탐색, 일치패턴이 없어도 되고, 1번 이상 출현해도 됨 \n",
    "# - +: 적어도 1 번 일치하는 패턴탐색 , 최소한 1번 이상은 일치패턴이 출현해야 됨\n",
    "# - ?: 많아아 1 번 일치하는 패턴탐색 , 일치패턴이 없어도 되고, 정확하게 1번만 일치패턴이 출현해야 됨\n",
    "# - {n}: 정확히 n 번 일치하는 패턴탐색 \n",
    "# - {n,}: 최소한 n번 이상은 일치패턴이 출현해야 됨 --> {n, } 하면 에러발생(공백없어야 함)\n",
    "# - {n,m}: 최소한 n번에서부터 최대 m번까지 이내로 일치패턴이 출현해야 됨 --> {n, m} 하면 에러발생(공백없어야 함)"
   ]
  },
  {
   "cell_type": "code",
   "execution_count": 24,
   "metadata": {},
   "outputs": [],
   "source": [
    "src = '[[:alpha:]]*[S|s][T|t][A|a][T|t][[:alpha:]]*'\n",
    "# - (순방향해석) 아무거나 영어대소문자가 없거나 최소한 1글자 이상이 오고, 그 다음에 stat라는 영어대소문자 4글자가 오고, \n",
    "#                이어서 아무거나 영어대소문자가 없거나 최소한 1글자 이상이 오는 패턴검색\n",
    "# - (역방향해석) 아무거나 영어대소문자가 없거나 최소한 1글자 이상 나타나고, 바로 앞에 stat라는 영어대소문자 4글자가 나타나고,\n",
    "#                보다 더 앞에 아무거나 영어대소문자가 없거나 최소한 1글자 이상 나타나는 패턴검색\n",
    "\n",
    "# 정량자(Quantifiers)를 통해서 패턴을 얼마나 많이 반복할지를 설정함 \n",
    "# - *: 적어도 0 번 일치하는 패턴탐색, 일치패턴이 없어도 되고, 1번 이상 출현해도 됨 \n",
    "# - +: 적어도 1 번 일치하는 패턴탐색 , 최소한 1번 이상은 일치패턴이 출현해야 됨\n",
    "# - ?: 많아아 1 번 일치하는 패턴탐색 , 일치패턴이 없어도 되고, 정확하게 1번만 일치패턴이 출현해야 됨\n",
    "# - {n}: 정확히 n 번 일치하는 패턴탐색 \n",
    "# - {n,}: 최소한 n번 이상은 일치패턴이 출현해야 됨 --> {n, } 하면 에러발생(공백없어야 함)\n",
    "# - {n,m}: 최소한 n번에서부터 최대 m번까지 이내로 일치패턴이 출현해야 됨 --> {n, m} 하면 에러발생(공백없어야 함)"
   ]
  },
  {
   "cell_type": "markdown",
   "metadata": {},
   "source": [
    "## 정규표현식을 이용한 패턴검색"
   ]
  },
  {
   "cell_type": "code",
   "execution_count": 25,
   "metadata": {
    "scrolled": false
   },
   "outputs": [
    {
     "data": {
      "text/html": [
       "'원본문장:'"
      ],
      "text/latex": [
       "'원본문장:'"
      ],
      "text/markdown": [
       "'원본문장:'"
      ],
      "text/plain": [
       "[1] \"원본문장:\""
      ]
     },
     "metadata": {},
     "output_type": "display_data"
    },
    {
     "name": "stdout",
     "output_type": "stream",
     "text": [
      "[1] \"R is a programming language and free software environment for statistical computing and graphics supported by the R Foundation for Statistical Computing. The R language is widely used among statisticians and data miners for developing statistical software and data analysis. R is comparable to popular commercial statistical packages, such as SAS, SPSS, and STATA. \\nPolls, data mining surveys, and studies of scholarly literature databases show substantial increases in popularity in recent years. As of December 2018, R ranks 16th in the TIOBE index, a measure of popularity of programming languages. Choose Stat ABTest, Machine learning, Deep learning, and Text mining(Ref: librestats.com website).\"\n"
     ]
    },
    {
     "data": {
      "text/html": [
       "'정규표현식 검색패턴: [[:alpha:]]*[S|s][T|t][A|a][T|t][[:alpha:]]*'"
      ],
      "text/latex": [
       "'정규표현식 검색패턴: {[}{[}:alpha:{]}{]}*{[}S\\textbar{}s{]}{[}T\\textbar{}t{]}{[}A\\textbar{}a{]}{[}T\\textbar{}t{]}{[}{[}:alpha:{]}{]}*'"
      ],
      "text/markdown": [
       "'정규표현식 검색패턴: [[:alpha:]]*[S|s][T|t][A|a][T|t][[:alpha:]]*'"
      ],
      "text/plain": [
       "[1] \"정규표현식 검색패턴: [[:alpha:]]*[S|s][T|t][A|a][T|t][[:alpha:]]*\""
      ]
     },
     "metadata": {},
     "output_type": "display_data"
    },
    {
     "name": "stdout",
     "output_type": "stream",
     "text": [
      "#----------------------------------------"
     ]
    },
    {
     "data": {
      "text/html": [
       "'검색패턴 포함여부를 요소별 논리값으로;'"
      ],
      "text/latex": [
       "'검색패턴 포함여부를 요소별 논리값으로;'"
      ],
      "text/markdown": [
       "'검색패턴 포함여부를 요소별 논리값으로;'"
      ],
      "text/plain": [
       "[1] \"검색패턴 포함여부를 요소별 논리값으로;\""
      ]
     },
     "metadata": {},
     "output_type": "display_data"
    },
    {
     "name": "stdout",
     "output_type": "stream",
     "text": [
      "[1] TRUE\n"
     ]
    },
    {
     "data": {
      "text/html": [
       "'검색패턴 포함여부를 요소별 인덱스번호로:'"
      ],
      "text/latex": [
       "'검색패턴 포함여부를 요소별 인덱스번호로:'"
      ],
      "text/markdown": [
       "'검색패턴 포함여부를 요소별 인덱스번호로:'"
      ],
      "text/plain": [
       "[1] \"검색패턴 포함여부를 요소별 인덱스번호로:\""
      ]
     },
     "metadata": {},
     "output_type": "display_data"
    },
    {
     "name": "stdout",
     "output_type": "stream",
     "text": [
      "[1] 1\n"
     ]
    },
    {
     "data": {
      "text/html": [
       "'검색패턴 포함여부를 요소별 내용으로:'"
      ],
      "text/latex": [
       "'검색패턴 포함여부를 요소별 내용으로:'"
      ],
      "text/markdown": [
       "'검색패턴 포함여부를 요소별 내용으로:'"
      ],
      "text/plain": [
       "[1] \"검색패턴 포함여부를 요소별 내용으로:\""
      ]
     },
     "metadata": {},
     "output_type": "display_data"
    },
    {
     "name": "stdout",
     "output_type": "stream",
     "text": [
      "[1] \"R is a programming language and free software environment for statistical computing and graphics supported by the R Foundation for Statistical Computing. The R language is widely used among statisticians and data miners for developing statistical software and data analysis. R is comparable to popular commercial statistical packages, such as SAS, SPSS, and STATA. \\nPolls, data mining surveys, and studies of scholarly literature databases show substantial increases in popularity in recent years. As of December 2018, R ranks 16th in the TIOBE index, a measure of popularity of programming languages. Choose Stat ABTest, Machine learning, Deep learning, and Text mining(Ref: librestats.com website).\"\n"
     ]
    },
    {
     "data": {
      "text/html": [
       "'검색패턴 포함여부를 요소별 출현위치로:'"
      ],
      "text/latex": [
       "'검색패턴 포함여부를 요소별 출현위치로:'"
      ],
      "text/markdown": [
       "'검색패턴 포함여부를 요소별 출현위치로:'"
      ],
      "text/plain": [
       "[1] \"검색패턴 포함여부를 요소별 출현위치로:\""
      ]
     },
     "metadata": {},
     "output_type": "display_data"
    },
    {
     "name": "stdout",
     "output_type": "stream",
     "text": [
      "[[1]]\n",
      "     start end\n",
      "[1,]    63  73\n",
      "[2,]   132 142\n",
      "[3,]   191 203\n",
      "[4,]   236 246\n",
      "[5,]   314 324\n",
      "[6,]   359 363\n",
      "[7,]   610 613\n",
      "[8,]   677 686\n",
      "\n"
     ]
    },
    {
     "data": {
      "text/html": [
       "'검색패턴 포함여부를 요소별 출현내용으로:'"
      ],
      "text/latex": [
       "'검색패턴 포함여부를 요소별 출현내용으로:'"
      ],
      "text/markdown": [
       "'검색패턴 포함여부를 요소별 출현내용으로:'"
      ],
      "text/plain": [
       "[1] \"검색패턴 포함여부를 요소별 출현내용으로:\""
      ]
     },
     "metadata": {},
     "output_type": "display_data"
    },
    {
     "name": "stdout",
     "output_type": "stream",
     "text": [
      "[[1]]\n",
      "[1] \"statistical\"   \"Statistical\"   \"statisticians\" \"statistical\"  \n",
      "[5] \"statistical\"   \"STATA\"         \"Stat\"          \"librestats\"   \n",
      "\n"
     ]
    },
    {
     "data": {
      "text/html": [
       "'검색패턴 포함여부를 요소별 출현횟수로:'"
      ],
      "text/latex": [
       "'검색패턴 포함여부를 요소별 출현횟수로:'"
      ],
      "text/markdown": [
       "'검색패턴 포함여부를 요소별 출현횟수로:'"
      ],
      "text/plain": [
       "[1] \"검색패턴 포함여부를 요소별 출현횟수로:\""
      ]
     },
     "metadata": {},
     "output_type": "display_data"
    },
    {
     "name": "stdout",
     "output_type": "stream",
     "text": [
      "[1] 8\n"
     ]
    },
    {
     "data": {
      "text/html": [
       "'검색패턴 포함여부를 요소별 기술통계로:'"
      ],
      "text/latex": [
       "'검색패턴 포함여부를 요소별 기술통계로:'"
      ],
      "text/markdown": [
       "'검색패턴 포함여부를 요소별 기술통계로:'"
      ],
      "text/plain": [
       "[1] \"검색패턴 포함여부를 요소별 기술통계로:\""
      ]
     },
     "metadata": {},
     "output_type": "display_data"
    },
    {
     "name": "stdout",
     "output_type": "stream",
     "text": [
      "[[1]]\n",
      "\n",
      "  statistical    librestats          Stat         STATA   Statistical \n",
      "            3             1             1             1             1 \n",
      "statisticians \n",
      "            1 \n",
      "\n"
     ]
    }
   ],
   "source": [
    "sprintf('원본문장:')\n",
    "print(my)\n",
    "sprintf('정규표현식 검색패턴: %s', src)\n",
    "cat('#----------------------------------------')\n",
    "\n",
    "sprintf('검색패턴 포함여부를 요소별 논리값으로;')\n",
    "str_detect(string = my, pattern = src) %>% print \n",
    "# - grepl(x = my, pattern = src) %>% print 동일결과\n",
    "# - 검색패턴이 들어 있으면 TRUE, 없으면 FALSE 출력\n",
    "\n",
    "sprintf('검색패턴 포함여부를 요소별 인덱스번호로:')\n",
    "str_which(string = my, pattern = src) %>% print\n",
    "# - grep(x = my, pattern = src) %>% print 동일결과\n",
    "# - 검색패턴이 들어 있으면 해당 요소의 인덱스번호 출력, 없으면 해당 요소 인덱스번호 미출력\n",
    "\n",
    "sprintf('검색패턴 포함여부를 요소별 내용으로:')\n",
    "str_subset(string = my, pattern = src) %>% print \n",
    "# - grep(x = my, pattern = src, value = TRUE) %>% print 동일결과\n",
    "# - 검색패턴이 들어 있으면 해당 요소의 내용 출력, 없으면 해당 요소의 내용 미출력\n",
    "\n",
    "sprintf('검색패턴 포함여부를 요소별 출현위치로:')\n",
    "str_locate_all(string = my, pattern = src) %>% print\n",
    "# - gregexpr(text = my, pattern = src) %>% print 동일결과\n",
    "# - 검색패턴이 해당 텍스트요소에 들어 있지 않으면 base::gregexpr()은 -1을, stringr::str_locate_all()은 NA를 출력함\n",
    "\n",
    "sprintf('검색패턴 포함여부를 요소별 출현내용으로:')\n",
    "str_extract_all(string = my, pattern = src) %>% print\n",
    "# - gregexpr(text = my, pattern = src) %>% regmatches(x = my) %>% print 동일결과\n",
    "# - 검색패턴이 해당 텍스트요소에 들어 있지 않으면 character(0)을 출력함\n",
    "\n",
    "sprintf('검색패턴 포함여부를 요소별 출현횟수로:')\n",
    "str_count(string = my, pattern = src) %>% print\n",
    "# - gregexpr(text = my, pattern = src) %>% regmatches(x = my) %>% lengths %>% print 동일결과\n",
    "# - 검색패턴이 해당 텍스트요소에 들어 있는 갯수를 카운팅해 출력함\n",
    "\n",
    "sprintf('검색패턴 포함여부를 요소별 기술통계로:')\n",
    "str_extract_all(string = my, pattern = src) %>% \n",
    "    map(table) %>% map(sort, decreasing = TRUE) %>% print"
   ]
  },
  {
   "cell_type": "markdown",
   "metadata": {},
   "source": [
    "# End of Source"
   ]
  }
 ],
 "metadata": {
  "kernelspec": {
   "display_name": "R",
   "language": "R",
   "name": "ir"
  },
  "language_info": {
   "codemirror_mode": "r",
   "file_extension": ".r",
   "mimetype": "text/x-r-source",
   "name": "R",
   "pygments_lexer": "r",
   "version": "3.5.1"
  },
  "toc": {
   "base_numbering": 1,
   "nav_menu": {
    "height": "259px",
    "width": "160px"
   },
   "number_sections": true,
   "sideBar": true,
   "skip_h1_title": false,
   "title_cell": "Table of Contents",
   "title_sidebar": "Contents",
   "toc_cell": false,
   "toc_position": {
    "height": "calc(100% - 180px)",
    "left": "10px",
    "top": "150px",
    "width": "364px"
   },
   "toc_section_display": true,
   "toc_window_display": true
  },
  "varInspector": {
   "cols": {
    "lenName": 16,
    "lenType": 16,
    "lenVar": 40
   },
   "kernels_config": {
    "python": {
     "delete_cmd_postfix": "",
     "delete_cmd_prefix": "del ",
     "library": "var_list.py",
     "varRefreshCmd": "print(var_dic_list())"
    },
    "r": {
     "delete_cmd_postfix": ") ",
     "delete_cmd_prefix": "rm(",
     "library": "var_list.r",
     "varRefreshCmd": "cat(var_dic_list()) "
    }
   },
   "position": {
    "height": "448px",
    "left": "906px",
    "right": "20px",
    "top": "228px",
    "width": "521px"
   },
   "types_to_exclude": [
    "module",
    "function",
    "builtin_function_or_method",
    "instance",
    "_Feature"
   ],
   "window_display": false
  }
 },
 "nbformat": 4,
 "nbformat_minor": 2
}
