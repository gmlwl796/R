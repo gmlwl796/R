{
 "cells": [
  {
   "cell_type": "markdown",
   "metadata": {},
   "source": [
    "# <font color = 'color'>[R텍마06] 2부2장3장_텍스트분석을 위한 정규표현식3</font>"
   ]
  },
  {
   "cell_type": "markdown",
   "metadata": {},
   "source": [
    "## 필요사항 준비"
   ]
  },
  {
   "cell_type": "markdown",
   "metadata": {},
   "source": [
    "### 필요 패키지 인스톨 및 라이브러리 로딩"
   ]
  },
  {
   "cell_type": "code",
   "execution_count": 1,
   "metadata": {},
   "outputs": [],
   "source": [
    "# 패키지 설치&로딩 사용자정의함수 작성\n",
    "mypak <- function(pkg){\n",
    "    # 필요패키지 설지여부를 체크해 미설치패키지 목록을 저장\n",
    "    new.pkg <- pkg[!(pkg %in% rownames(installed.packages()))]\n",
    "    \n",
    "    # 미설치 패키지를 일괄 인스톨 실시\n",
    "    if (length(new.pkg)) \n",
    "        install.packages(new.pkg, dependencies = TRUE)\n",
    "    \n",
    "    # 필요패키지를 일괄 로딩실시\n",
    "    sapply(pkg, require, character.only = TRUE)  \n",
    "}"
   ]
  },
  {
   "cell_type": "code",
   "execution_count": 2,
   "metadata": {},
   "outputs": [
    {
     "name": "stderr",
     "output_type": "stream",
     "text": [
      "Loading required package: stringr\n",
      "Loading required package: magrittr\n",
      "Loading required package: purrr\n",
      "\n",
      "Attaching package: 'purrr'\n",
      "\n",
      "The following object is masked from 'package:magrittr':\n",
      "\n",
      "    set_names\n",
      "\n",
      "The following object is masked from 'package:jsonlite':\n",
      "\n",
      "    flatten\n",
      "\n"
     ]
    },
    {
     "data": {
      "text/html": [
       "<dl class=dl-horizontal>\n",
       "\t<dt>stringr</dt>\n",
       "\t\t<dd>TRUE</dd>\n",
       "\t<dt>magrittr</dt>\n",
       "\t\t<dd>TRUE</dd>\n",
       "\t<dt>purrr</dt>\n",
       "\t\t<dd>TRUE</dd>\n",
       "</dl>\n"
      ],
      "text/latex": [
       "\\begin{description*}\n",
       "\\item[stringr] TRUE\n",
       "\\item[magrittr] TRUE\n",
       "\\item[purrr] TRUE\n",
       "\\end{description*}\n"
      ],
      "text/markdown": [
       "stringr\n",
       ":   TRUEmagrittr\n",
       ":   TRUEpurrr\n",
       ":   TRUE\n",
       "\n"
      ],
      "text/plain": [
       " stringr magrittr    purrr \n",
       "    TRUE     TRUE     TRUE "
      ]
     },
     "metadata": {},
     "output_type": "display_data"
    }
   ],
   "source": [
    "# 패키지 설치&로딩 사용자정의함수 이용\n",
    "pak <- c('stringr', 'magrittr', 'purrr')\n",
    "# - stringr: 문자열 분석패키지\n",
    "# - magrittr: 파이프연산자 %>%\n",
    "# - purrr: 데이터순환연산(벡터리사이클링, 벡터브로드캐스팅, 벡터연산) map시리즈 패키지\n",
    "\n",
    "mypak(pak)"
   ]
  },
  {
   "cell_type": "markdown",
   "metadata": {},
   "source": [
    "### 정규표현식 체크 사이트 참조\n",
    "<img src=\"./images/regex.jpg\">"
   ]
  },
  {
   "cell_type": "code",
   "execution_count": 3,
   "metadata": {},
   "outputs": [],
   "source": [
    "### 정규표현식 체크 사이트 접속\n",
    "\n",
    "browseURL(\"http://regex101.com\")"
   ]
  },
  {
   "cell_type": "code",
   "execution_count": 4,
   "metadata": {},
   "outputs": [],
   "source": [
    "### 정규표현식 체크 사이트 접속\n",
    "\n",
    "browseURL(\"http://regexr.com\")"
   ]
  },
  {
   "cell_type": "markdown",
   "metadata": {},
   "source": [
    "## 정규표현식 작성을 위한 방법"
   ]
  },
  {
   "cell_type": "markdown",
   "metadata": {},
   "source": [
    "### 메타문자\n",
    "* 정규표현식의 메타문자: 원래 그 문자가 가진 뜻이 아닌 특별한 용도로 사용하는 문자\n",
    "* 정규표현식의 메타문자 종류: . ^ $ * + ? { } [ ] \\ | ( )"
   ]
  },
  {
   "cell_type": "markdown",
   "metadata": {},
   "source": [
    "### 확장 문자열 (Escape Sequence)\n",
    "* 확장문자열(탈출문자)를 통해서 검색패턴에 직접적으로 포함시켜 검색할 수 없는 문자들을 검색할수 있도록 함\n",
    "* 정규표현식 작성시 사전에 약속되어 있는 메타문자 자체를 검색패턴에 포함시킬 때 해당 문자 앞에 백슬래스 \\를 표시함\n",
    "<br>\\': 단일 인용부호\n",
    "<br>\\\": 이중 인용부호\n",
    "<br>\\t: 탭문자\n",
    "<br>\\n: 개행문자 - LF(Line Feed): (\\n)는 행의 시작 부분으로 돌아 가지 않고 커서를 다음 행으로 이동 \n",
    "<br>\\r: 복귀문자 - CR(Carraiage Return): (\\r)는 커서를 다음 줄로 진행하지 않고 행의 시작 부분으로 이동 "
   ]
  },
  {
   "cell_type": "markdown",
   "metadata": {},
   "source": [
    "### 정량자(Quantifiers)\n",
    "* 정량자를 통해서 패턴을 얼마나 많이 반복할지를 설정함\n",
    "<br>*: 적어도 0 번 일치하는 패턴탐색\n",
    "<br>+: 적어도 1 번 일치하는 패턴탐색\n",
    "<br>?: 많아아 1 번 일치하는 패턴탐색\n",
    "<br>{n}: 정확히 n 번 일치하는 패턴탐색\n",
    "<br>{n,}: 적어도 n 번 일치하는 패턴탐색\n",
    "<br>{n,m}: n 번에서 m 번 일치하는 패턴탐색"
   ]
  },
  {
   "cell_type": "markdown",
   "metadata": {},
   "source": [
    "### 문자열 내부 패턴 위치\n",
    "* 정규표현식으로 작성하는 검색패턴에 시작부분과 끝나는부분에 대한 패턴탐색\n",
    "<br>^: 문자열이 특정문자로 시작하는지 패턴탐색\n",
    "<br>$: 문자열이 특정문자로 끝나는지 패턴탐색\n",
    "<br>\\b: 단어 양쪽 끝에 빈문자열이 일치하는 패턴탐색 \n",
    "<br>\\B: 단어 끝에 빈문자열이 위치하지 않는 패턴탐색"
   ]
  },
  {
   "cell_type": "markdown",
   "metadata": {},
   "source": [
    "### 연산자\n",
    "* 정규표현식으로 작성하는 검색패턴에 적절한 연산자를 반영하여 사전에 정해진 기능을 구현함\n",
    "<br>. --> 어떤 문자 하나와 일치하는 패턴탐색\n",
    "<br>[...] --> 문자 리스트. 꺾쇠괄호 내부에 지정된 문자중 하나와 매칭. 문자범위를 지정하는데 꺽쇠 내부에 -도 사용가능.\n",
    "<br>[^...] --> 반전문자 리스트. [...]와 유사하지만, 꺾쇠괄호 내부에 있는 것을 제외한 문자 어떤 것이나 매칭\n",
    "<br>\\ --> 메타문자인 $ * + . ? [ ] ^ { } | ( ) 자체를 검색패턴으로 입력할 때 사전에 사용 \n",
    "<br>| --> 'or'라는 의미를 가지며, | 어느쪽이든 일치하는 패턴탐색\n",
    "<br>(...) --> 일종의 그룹연산자 기능을 가짐"
   ]
  },
  {
   "cell_type": "markdown",
   "metadata": {},
   "source": [
    "## 데이터셋 준비"
   ]
  },
  {
   "cell_type": "markdown",
   "metadata": {},
   "source": [
    "### 탈출문자를 이용한 텍스트셋"
   ]
  },
  {
   "cell_type": "code",
   "execution_count": 5,
   "metadata": {
    "scrolled": true
   },
   "outputs": [
    {
     "data": {
      "text/html": [
       "<ol class=list-inline>\n",
       "\t<li>'\\\\'</li>\n",
       "\t<li>'\\\\\\\\'</li>\n",
       "\t<li>'\\n'</li>\n",
       "\t<li>'\\t'</li>\n",
       "\t<li>'\\\\.'</li>\n",
       "\t<li>'\"'</li>\n",
       "\t<li>'\\''</li>\n",
       "\t<li>'\\''</li>\n",
       "\t<li>'\"'</li>\n",
       "\t<li>'It\\'s'</li>\n",
       "\t<li>'36.5`C'</li>\n",
       "\t<li>'36.5\\'C'</li>\n",
       "\t<li>'2°10\\'26.5\"E'</li>\n",
       "\t<li>'2°10\\'26.5\"E'</li>\n",
       "</ol>\n"
      ],
      "text/latex": [
       "\\begin{enumerate*}\n",
       "\\item '\\textbackslash{}\\textbackslash{}'\n",
       "\\item '\\textbackslash{}\\textbackslash{}\\textbackslash{}\\textbackslash{}'\n",
       "\\item '\\textbackslash{}n'\n",
       "\\item '\\textbackslash{}t'\n",
       "\\item '\\textbackslash{}\\textbackslash{}.'\n",
       "\\item '\"'\n",
       "\\item '\\textbackslash{}''\n",
       "\\item '\\textbackslash{}''\n",
       "\\item '\"'\n",
       "\\item 'It\\textbackslash{}'s'\n",
       "\\item '36.5`C'\n",
       "\\item '36.5\\textbackslash{}'C'\n",
       "\\item '2°10\\textbackslash{}'26.5\"E'\n",
       "\\item '2°10\\textbackslash{}'26.5\"E'\n",
       "\\end{enumerate*}\n"
      ],
      "text/markdown": [
       "1. '\\\\'\n",
       "2. '\\\\\\\\'\n",
       "3. '\\n'\n",
       "4. '\\t'\n",
       "5. '\\\\.'\n",
       "6. '\"'\n",
       "7. '\\''\n",
       "8. '\\''\n",
       "9. '\"'\n",
       "10. 'It\\'s'\n",
       "11. '36.5`C'\n",
       "12. '36.5\\'C'\n",
       "13. '2°10\\'26.5\"E'\n",
       "14. '2°10\\'26.5\"E'\n",
       "\n",
       "\n"
      ],
      "text/plain": [
       " [1] \"\\\\\"            \"\\\\\\\\\"          \"\\n\"            \"\\t\"           \n",
       " [5] \"\\\\.\"           \"\\\"\"            \"'\"             \"'\"            \n",
       " [9] \"\\\"\"            \"It's\"          \"36.5`C\"        \"36.5'C\"       \n",
       "[13] \"2°10'26.5\\\"E\" \"2°10'26.5\\\"E\""
      ]
     },
     "metadata": {},
     "output_type": "display_data"
    },
    {
     "name": "stdout",
     "output_type": "stream",
     "text": [
      " [1] \"\\\\\"            \"\\\\\\\\\"          \"\\n\"            \"\\t\"           \n",
      " [5] \"\\\\.\"           \"\\\"\"            \"'\"             \"'\"            \n",
      " [9] \"\\\"\"            \"It's\"          \"36.5`C\"        \"36.5'C\"       \n",
      "[13] \"2°10'26.5\\\"E\" \"2°10'26.5\\\"E\"\n"
     ]
    }
   ],
   "source": [
    "# 간단 텍스트 데이터\n",
    "sam <- c('\\\\', '\\\\\\\\', '\\n', '\\t', '\\\\.', '\"', '\\'', \"'\", \"\\\"\", 'It\\'s', '36.5`C', '36.5\\'C', '2°10\\'26.5\"E', \"2°10'26.5\\\"E\")  \n",
    "sam\n",
    "print(sam)"
   ]
  },
  {
   "cell_type": "markdown",
   "metadata": {},
   "source": [
    "### 다양한 유형별 텍스트셋"
   ]
  },
  {
   "cell_type": "code",
   "execution_count": 6,
   "metadata": {},
   "outputs": [
    {
     "name": "stdout",
     "output_type": "stream",
     "text": [
      "$영어\n",
      " [1] \"a\"        \"A\"        \"R\"        \"bigpie\"   \"Bigpie\"   \"BigPie\"  \n",
      " [7] \"BIGPIE\"   \"RPyGo\"    \"gogle\"    \"google\"   \"goooggle\"\n",
      "\n",
      "$한글\n",
      "[1] \"ㄱㅎ\"   \"ㅏㅗ\"   \"파\"     \"한\"     \"파이썬\" \"빅파이\" \"파도\"   \"이차항\"\n",
      "[9] \"알파고\"\n",
      "\n",
      "$숫자\n",
      "[1]   34.00 -500.00  259.00 2019.00   36.50  -36.50  257.08\n",
      "\n",
      "$기호\n",
      "[1] \"!@#$\"     \"%^&?\"     \"(){}[]<>\" \"+-*/=\"    \".,:;|_`~\" \"\"         \" \"       \n",
      "[8] \"    \"    \n",
      "\n",
      "$탈출\n",
      " [1] \"\\\\\"            \"\\\\\\\\\"          \"\\n\"            \"\\t\"           \n",
      " [5] \"\\\\.\"           \"\\\"\"            \"'\"             \"'\"            \n",
      " [9] \"\\\"\"            \"It's\"          \"36.5`C\"        \"36.5'C\"       \n",
      "[13] \"2°10'26.5\\\"E\" \"2°10'26.5\\\"E\"\n",
      "\n",
      "$전화\n",
      "[1] \"02-369-7890\"   \"032) 578-6639\" \"070-900-1100\"  \"1588-1588\"    \n",
      "[5] \"1577-5700\"     \"010-5364-3355\" \"010-8887-3320\"\n",
      "\n",
      "$계량\n",
      "[1] \"175.4cm\" \"300미터\" \"80.50km\" \"65.8kg\"  \"350ml\"   \"1.5l\"    \"1.5리터\"\n",
      "[8] \"33평\"   \n",
      "\n",
      "$단위\n",
      "[1] \"삼천원\"  \"3천원\"   \"3000원\"  \"3,000원\" \"$30.5\"  \n",
      "\n",
      "$시간\n",
      "[1] \"11:30\"      \"22:05\"      \"11:30:45\"   \"11:30 a.m.\" \"11:30 AM\"  \n",
      "\n",
      "$날짜\n",
      "[1] \"2019\"              \"2019년\"            \"`19\"              \n",
      "[4] \"2019-03-15\"        \"2019년 3월 15일\"   \"3월15일\"          \n",
      "[7] \"February 22, 2020\" \"Feb. 22, 2020\"     \"2/22/2018\"        \n",
      "\n",
      "$결합\n",
      " [1] \"빅Py\"     \"알파Go\"   \"R파go\"    \"알파 Go\"  \"알 파 Go\" \"알파_Go\" \n",
      " [7] \"알파:Go\"  \"365일\"    \"3M\"       \"P&G\"      \"300스타\"  \"M16\"     \n",
      "[13] \"M16총\"   \n",
      "\n",
      "$간격\n",
      "[1] \"빅\\tPy\"      \"알파\\nGo\"    \"R파\\rgo\"     \"P&G\"         \"300\\n\\r스타\"\n",
      "\n",
      "$복합\n",
      " [1] \"jane@my.com\"    \"www.python.org\" \"<h2> </h2>\"     \"[3]\"           \n",
      " [5] \"[[3]]\"          \"km(Kilo-meter)\" \"주의!\"          \"(경고!)\"       \n",
      " [9] \"\\\"한국\\\"\"       \"'한국'\"        \n",
      "\n",
      "$범위\n",
      "[1] \"3~17\"             \"3 ~ 17\"           \"p.3~17\"           \"3-17\"            \n",
      "[5] \"3 - 17\"           \"p.3-p.17\"         \"3페이지~17페이지\" \"[5], [8], [20]\"  \n",
      "[9] \"한국, 미국, 영국\"\n",
      "\n"
     ]
    }
   ],
   "source": [
    "# 간단 텍스트 데이터\n",
    "ex <- list(\n",
    "    영어 = c('a', 'A', 'R', 'bigpie', 'Bigpie', 'BigPie', 'BIGPIE', 'RPyGo', 'gogle', 'google', 'goooggle'), \n",
    "    한글 = c('ㄱㅎ', 'ㅏㅗ', '파', '한', '파이썬', '빅파이', '파도', '이차항', '알파고'), \n",
    "    숫자 = c(34, -500, 259, 2019, 36.5, -36.5, 257.08),\n",
    "    기호 = c('!@#$', '%^&?', '(){}[]<>', '+-*/=', '.,:;|_`~', '', ' ', '    '),\n",
    "    탈출 = c('\\\\', '\\\\\\\\', '\\n', '\\t', '\\\\.', '\"', '\\'', \"'\", \"\\\"\", 'It\\'s', '36.5`C', '36.5\\'C', '2°10\\'26.5\"E', \"2°10'26.5\\\"E\"),\n",
    "    전화 = c('02-369-7890', '032) 578-6639', '070-900-1100', '1588-1588', '1577-5700', '010-5364-3355', '010-8887-3320'), \n",
    "    계량 = c('175.4cm', '300미터', '80.50km', '65.8kg', '350ml', '1.5l', '1.5리터', '33평'),\n",
    "    단위 = c('삼천원', '3천원', '3000원', '3,000원', '$30.5'),\n",
    "    시간 = c('11:30', '22:05', '11:30:45', '11:30 a.m.', '11:30 AM'),\n",
    "    날짜 = c('2019', '2019년', '`19', '2019-03-15', '2019년 3월 15일', '3월15일', 'February 22, 2020', 'Feb. 22, 2020', '2/22/2018'),\n",
    "    결합 = c('빅Py', '알파Go', 'R파go', '알파 Go', '알 파 Go', '알파_Go', '알파:Go', '365일', '3M', 'P&G', '300스타', 'M16', 'M16총'),\n",
    "    간격 = c('빅\\tPy', '알파\\nGo', 'R파\\rgo', 'P&G', '300\\n\\r스타'),\n",
    "    복합 = c('jane@my.com', 'www.python.org', '<h2> </h2>', '[3]', '[[3]]', 'km(Kilo-meter)', '주의!', '(경고!)', '\"한국\"', \"'한국'\"),\n",
    "    범위 = c('3~17', '3 ~ 17', 'p.3~17', '3-17', '3 - 17', 'p.3-p.17', '3페이지~17페이지', '[5], [8], [20]', '한국, 미국, 영국')\n",
    ")\n",
    "\n",
    "ex %>% print"
   ]
  },
  {
   "cell_type": "markdown",
   "metadata": {},
   "source": [
    "# <font color = 'blue'>숫자와 문자 검색을 위한 정규표현식</font>"
   ]
  },
  {
   "cell_type": "markdown",
   "metadata": {},
   "source": [
    "## 숫자와 문자 검색을 위한 정규표현식 작성방법\n",
    "* 정규표현식의 메타문자: 원래 그 문자가 가진 뜻이 아닌 특별한 용도로 사용하는 문자\n",
    "* 정규표현식의 메타문자 종류: . ^ $ * + ? { } [ ] \\ | ( )"
   ]
  },
  {
   "cell_type": "markdown",
   "metadata": {},
   "source": [
    "### 텍스트셋에 숫자패턴 포함여부 검색\n",
    "* <font color = 'red'>\\d</font> --> pattern = '\\\\\\\\d' 로 입력\n",
    "* <font color = 'red'>0, 1, 2, 3, 4, 5, 6, 7, 8, 9</font> --> pattern = '[0-9]' 로 입력\n",
    "* <font color = 'red'>[:digit:]</font> --> pattern = '[[:digit:]]' 로 입력<pre></pre>\n",
    "* (숫자아닌패턴) <font color = 'red'>\\D</font> --> pattern = '\\\\\\\\D' 로 입력\n",
    "* (숫자아닌패턴) <font color = 'red'>0, 1, 2, 3, 4, 5, 6, 7, 8, 9</font> --> pattern = '[^0-9]' 로 입력 "
   ]
  },
  {
   "cell_type": "markdown",
   "metadata": {},
   "source": [
    "### 텍스트셋에 알파벳패턴 포함여부 검색\n",
    "* 소문자: <font color = 'red'>a-z</font>, <font color = 'red'>[:lower:]</font> --> pattern = [a-z], [[:lower:]] 로 입력\n",
    "* 대문자: <font color = 'red'>A-Z</font>, <font color = 'red'>[:upper:]</font> --> pattern = [A-Z], [[:upper:]] 로 입력\n",
    "* 대소문자: <font color = 'red'>A-z</font>, <font color = 'red'>a-zA-Z</font>, <font color = 'red'>[:alpha:]</font>, <font color = 'red'>[:lower:][:upper:]</font> \n",
    "<br> --> pattern = [A-z], [a-zA-Z], [[:alpha:]], [[:lower:][:upper:]] 로 입력"
   ]
  },
  {
   "cell_type": "markdown",
   "metadata": {},
   "source": [
    "### 텍스트셋에 알파벳&숫자 포함여부 검색\n",
    "* <font color = 'red'>\\w</font> -> pattern = \\\\\\\\w\n",
    "* <font color = 'red'>A-z0-9</font> -> pattern = [A-z0-9]\n",
    "* <font color = 'red'>[:alnum:]</font> -> pattern = [[:alnum:]]\n",
    "* <font color = 'red'>[:alpha:][:digit:]</font> -> pattern = [[:alpha:][:digit:]] \n",
    "<pre></pre>\n",
    "* (알파벳&숫자 아닌패턴) <font color = 'red'>\\W</font> -> pattern = \\\\\\\\W\n",
    "* (알파벳&숫자 아닌패턴) <font color = 'red'>^A-z0-9</font> -> pattern = [^A-z0-9]"
   ]
  },
  {
   "cell_type": "markdown",
   "metadata": {},
   "source": [
    "## 숫자와 문자 검색을 위한 정규표현식 검색실습"
   ]
  },
  {
   "cell_type": "code",
   "execution_count": 7,
   "metadata": {},
   "outputs": [],
   "source": [
    "# 정규표현식 검색패턴 설정\n",
    "src = '\\\\d'"
   ]
  },
  {
   "cell_type": "code",
   "execution_count": 8,
   "metadata": {},
   "outputs": [
    {
     "data": {
      "text/html": [
       "TRUE"
      ],
      "text/latex": [
       "TRUE"
      ],
      "text/markdown": [
       "TRUE"
      ],
      "text/plain": [
       "[1] TRUE"
      ]
     },
     "metadata": {},
     "output_type": "display_data"
    }
   ],
   "source": [
    "# 정규표현식 검색패턴 동일성 비교\n",
    "a <- lapply(ex, grep, pattern = '\\\\d', value = TRUE)\n",
    "b <- lapply(ex, grep, pattern = '[0-9]', value = TRUE)\n",
    "\n",
    "identical(a, b)"
   ]
  },
  {
   "cell_type": "markdown",
   "metadata": {},
   "source": [
    "### 검색패턴 포함여부를 요소별 논리값으로"
   ]
  },
  {
   "cell_type": "code",
   "execution_count": 9,
   "metadata": {
    "scrolled": false
   },
   "outputs": [
    {
     "data": {
      "text/html": [
       "'정규표현식 검색패턴: \\\\d'"
      ],
      "text/latex": [
       "'정규표현식 검색패턴: \\textbackslash{}\\textbackslash{}d'"
      ],
      "text/markdown": [
       "'정규표현식 검색패턴: \\\\d'"
      ],
      "text/plain": [
       "[1] \"정규표현식 검색패턴: \\\\d\""
      ]
     },
     "metadata": {},
     "output_type": "display_data"
    },
    {
     "data": {
      "text/html": [
       "<dl>\n",
       "\t<dt>$영어</dt>\n",
       "\t\t<dd><ol class=list-inline>\n",
       "\t<li>FALSE</li>\n",
       "\t<li>FALSE</li>\n",
       "\t<li>FALSE</li>\n",
       "\t<li>FALSE</li>\n",
       "\t<li>FALSE</li>\n",
       "\t<li>FALSE</li>\n",
       "\t<li>FALSE</li>\n",
       "\t<li>FALSE</li>\n",
       "\t<li>FALSE</li>\n",
       "\t<li>FALSE</li>\n",
       "\t<li>FALSE</li>\n",
       "</ol>\n",
       "</dd>\n",
       "\t<dt>$한글</dt>\n",
       "\t\t<dd><ol class=list-inline>\n",
       "\t<li>FALSE</li>\n",
       "\t<li>FALSE</li>\n",
       "\t<li>FALSE</li>\n",
       "\t<li>FALSE</li>\n",
       "\t<li>FALSE</li>\n",
       "\t<li>FALSE</li>\n",
       "\t<li>FALSE</li>\n",
       "\t<li>FALSE</li>\n",
       "\t<li>FALSE</li>\n",
       "</ol>\n",
       "</dd>\n",
       "\t<dt>$숫자</dt>\n",
       "\t\t<dd><ol class=list-inline>\n",
       "\t<li>TRUE</li>\n",
       "\t<li>TRUE</li>\n",
       "\t<li>TRUE</li>\n",
       "\t<li>TRUE</li>\n",
       "\t<li>TRUE</li>\n",
       "\t<li>TRUE</li>\n",
       "\t<li>TRUE</li>\n",
       "</ol>\n",
       "</dd>\n",
       "\t<dt>$기호</dt>\n",
       "\t\t<dd><ol class=list-inline>\n",
       "\t<li>FALSE</li>\n",
       "\t<li>FALSE</li>\n",
       "\t<li>FALSE</li>\n",
       "\t<li>FALSE</li>\n",
       "\t<li>FALSE</li>\n",
       "\t<li>FALSE</li>\n",
       "\t<li>FALSE</li>\n",
       "\t<li>FALSE</li>\n",
       "</ol>\n",
       "</dd>\n",
       "\t<dt>$탈출</dt>\n",
       "\t\t<dd><ol class=list-inline>\n",
       "\t<li>FALSE</li>\n",
       "\t<li>FALSE</li>\n",
       "\t<li>FALSE</li>\n",
       "\t<li>FALSE</li>\n",
       "\t<li>FALSE</li>\n",
       "\t<li>FALSE</li>\n",
       "\t<li>FALSE</li>\n",
       "\t<li>FALSE</li>\n",
       "\t<li>FALSE</li>\n",
       "\t<li>FALSE</li>\n",
       "\t<li>TRUE</li>\n",
       "\t<li>TRUE</li>\n",
       "\t<li>TRUE</li>\n",
       "\t<li>TRUE</li>\n",
       "</ol>\n",
       "</dd>\n",
       "\t<dt>$전화</dt>\n",
       "\t\t<dd><ol class=list-inline>\n",
       "\t<li>TRUE</li>\n",
       "\t<li>TRUE</li>\n",
       "\t<li>TRUE</li>\n",
       "\t<li>TRUE</li>\n",
       "\t<li>TRUE</li>\n",
       "\t<li>TRUE</li>\n",
       "\t<li>TRUE</li>\n",
       "</ol>\n",
       "</dd>\n",
       "\t<dt>$계량</dt>\n",
       "\t\t<dd><ol class=list-inline>\n",
       "\t<li>TRUE</li>\n",
       "\t<li>TRUE</li>\n",
       "\t<li>TRUE</li>\n",
       "\t<li>TRUE</li>\n",
       "\t<li>TRUE</li>\n",
       "\t<li>TRUE</li>\n",
       "\t<li>TRUE</li>\n",
       "\t<li>TRUE</li>\n",
       "</ol>\n",
       "</dd>\n",
       "\t<dt>$단위</dt>\n",
       "\t\t<dd><ol class=list-inline>\n",
       "\t<li>FALSE</li>\n",
       "\t<li>TRUE</li>\n",
       "\t<li>TRUE</li>\n",
       "\t<li>TRUE</li>\n",
       "\t<li>TRUE</li>\n",
       "</ol>\n",
       "</dd>\n",
       "\t<dt>$시간</dt>\n",
       "\t\t<dd><ol class=list-inline>\n",
       "\t<li>TRUE</li>\n",
       "\t<li>TRUE</li>\n",
       "\t<li>TRUE</li>\n",
       "\t<li>TRUE</li>\n",
       "\t<li>TRUE</li>\n",
       "</ol>\n",
       "</dd>\n",
       "\t<dt>$날짜</dt>\n",
       "\t\t<dd><ol class=list-inline>\n",
       "\t<li>TRUE</li>\n",
       "\t<li>TRUE</li>\n",
       "\t<li>TRUE</li>\n",
       "\t<li>TRUE</li>\n",
       "\t<li>TRUE</li>\n",
       "\t<li>TRUE</li>\n",
       "\t<li>TRUE</li>\n",
       "\t<li>TRUE</li>\n",
       "\t<li>TRUE</li>\n",
       "</ol>\n",
       "</dd>\n",
       "\t<dt>$결합</dt>\n",
       "\t\t<dd><ol class=list-inline>\n",
       "\t<li>FALSE</li>\n",
       "\t<li>FALSE</li>\n",
       "\t<li>FALSE</li>\n",
       "\t<li>FALSE</li>\n",
       "\t<li>FALSE</li>\n",
       "\t<li>FALSE</li>\n",
       "\t<li>FALSE</li>\n",
       "\t<li>TRUE</li>\n",
       "\t<li>TRUE</li>\n",
       "\t<li>FALSE</li>\n",
       "\t<li>TRUE</li>\n",
       "\t<li>TRUE</li>\n",
       "\t<li>TRUE</li>\n",
       "</ol>\n",
       "</dd>\n",
       "\t<dt>$간격</dt>\n",
       "\t\t<dd><ol class=list-inline>\n",
       "\t<li>FALSE</li>\n",
       "\t<li>FALSE</li>\n",
       "\t<li>FALSE</li>\n",
       "\t<li>FALSE</li>\n",
       "\t<li>TRUE</li>\n",
       "</ol>\n",
       "</dd>\n",
       "\t<dt>$복합</dt>\n",
       "\t\t<dd><ol class=list-inline>\n",
       "\t<li>FALSE</li>\n",
       "\t<li>FALSE</li>\n",
       "\t<li>TRUE</li>\n",
       "\t<li>TRUE</li>\n",
       "\t<li>TRUE</li>\n",
       "\t<li>FALSE</li>\n",
       "\t<li>FALSE</li>\n",
       "\t<li>FALSE</li>\n",
       "\t<li>FALSE</li>\n",
       "\t<li>FALSE</li>\n",
       "</ol>\n",
       "</dd>\n",
       "\t<dt>$범위</dt>\n",
       "\t\t<dd><ol class=list-inline>\n",
       "\t<li>TRUE</li>\n",
       "\t<li>TRUE</li>\n",
       "\t<li>TRUE</li>\n",
       "\t<li>TRUE</li>\n",
       "\t<li>TRUE</li>\n",
       "\t<li>TRUE</li>\n",
       "\t<li>TRUE</li>\n",
       "\t<li>TRUE</li>\n",
       "\t<li>FALSE</li>\n",
       "</ol>\n",
       "</dd>\n",
       "</dl>\n"
      ],
      "text/latex": [
       "\\begin{description}\n",
       "\\item[\\$영어] \\begin{enumerate*}\n",
       "\\item FALSE\n",
       "\\item FALSE\n",
       "\\item FALSE\n",
       "\\item FALSE\n",
       "\\item FALSE\n",
       "\\item FALSE\n",
       "\\item FALSE\n",
       "\\item FALSE\n",
       "\\item FALSE\n",
       "\\item FALSE\n",
       "\\item FALSE\n",
       "\\end{enumerate*}\n",
       "\n",
       "\\item[\\$한글] \\begin{enumerate*}\n",
       "\\item FALSE\n",
       "\\item FALSE\n",
       "\\item FALSE\n",
       "\\item FALSE\n",
       "\\item FALSE\n",
       "\\item FALSE\n",
       "\\item FALSE\n",
       "\\item FALSE\n",
       "\\item FALSE\n",
       "\\end{enumerate*}\n",
       "\n",
       "\\item[\\$숫자] \\begin{enumerate*}\n",
       "\\item TRUE\n",
       "\\item TRUE\n",
       "\\item TRUE\n",
       "\\item TRUE\n",
       "\\item TRUE\n",
       "\\item TRUE\n",
       "\\item TRUE\n",
       "\\end{enumerate*}\n",
       "\n",
       "\\item[\\$기호] \\begin{enumerate*}\n",
       "\\item FALSE\n",
       "\\item FALSE\n",
       "\\item FALSE\n",
       "\\item FALSE\n",
       "\\item FALSE\n",
       "\\item FALSE\n",
       "\\item FALSE\n",
       "\\item FALSE\n",
       "\\end{enumerate*}\n",
       "\n",
       "\\item[\\$탈출] \\begin{enumerate*}\n",
       "\\item FALSE\n",
       "\\item FALSE\n",
       "\\item FALSE\n",
       "\\item FALSE\n",
       "\\item FALSE\n",
       "\\item FALSE\n",
       "\\item FALSE\n",
       "\\item FALSE\n",
       "\\item FALSE\n",
       "\\item FALSE\n",
       "\\item TRUE\n",
       "\\item TRUE\n",
       "\\item TRUE\n",
       "\\item TRUE\n",
       "\\end{enumerate*}\n",
       "\n",
       "\\item[\\$전화] \\begin{enumerate*}\n",
       "\\item TRUE\n",
       "\\item TRUE\n",
       "\\item TRUE\n",
       "\\item TRUE\n",
       "\\item TRUE\n",
       "\\item TRUE\n",
       "\\item TRUE\n",
       "\\end{enumerate*}\n",
       "\n",
       "\\item[\\$계량] \\begin{enumerate*}\n",
       "\\item TRUE\n",
       "\\item TRUE\n",
       "\\item TRUE\n",
       "\\item TRUE\n",
       "\\item TRUE\n",
       "\\item TRUE\n",
       "\\item TRUE\n",
       "\\item TRUE\n",
       "\\end{enumerate*}\n",
       "\n",
       "\\item[\\$단위] \\begin{enumerate*}\n",
       "\\item FALSE\n",
       "\\item TRUE\n",
       "\\item TRUE\n",
       "\\item TRUE\n",
       "\\item TRUE\n",
       "\\end{enumerate*}\n",
       "\n",
       "\\item[\\$시간] \\begin{enumerate*}\n",
       "\\item TRUE\n",
       "\\item TRUE\n",
       "\\item TRUE\n",
       "\\item TRUE\n",
       "\\item TRUE\n",
       "\\end{enumerate*}\n",
       "\n",
       "\\item[\\$날짜] \\begin{enumerate*}\n",
       "\\item TRUE\n",
       "\\item TRUE\n",
       "\\item TRUE\n",
       "\\item TRUE\n",
       "\\item TRUE\n",
       "\\item TRUE\n",
       "\\item TRUE\n",
       "\\item TRUE\n",
       "\\item TRUE\n",
       "\\end{enumerate*}\n",
       "\n",
       "\\item[\\$결합] \\begin{enumerate*}\n",
       "\\item FALSE\n",
       "\\item FALSE\n",
       "\\item FALSE\n",
       "\\item FALSE\n",
       "\\item FALSE\n",
       "\\item FALSE\n",
       "\\item FALSE\n",
       "\\item TRUE\n",
       "\\item TRUE\n",
       "\\item FALSE\n",
       "\\item TRUE\n",
       "\\item TRUE\n",
       "\\item TRUE\n",
       "\\end{enumerate*}\n",
       "\n",
       "\\item[\\$간격] \\begin{enumerate*}\n",
       "\\item FALSE\n",
       "\\item FALSE\n",
       "\\item FALSE\n",
       "\\item FALSE\n",
       "\\item TRUE\n",
       "\\end{enumerate*}\n",
       "\n",
       "\\item[\\$복합] \\begin{enumerate*}\n",
       "\\item FALSE\n",
       "\\item FALSE\n",
       "\\item TRUE\n",
       "\\item TRUE\n",
       "\\item TRUE\n",
       "\\item FALSE\n",
       "\\item FALSE\n",
       "\\item FALSE\n",
       "\\item FALSE\n",
       "\\item FALSE\n",
       "\\end{enumerate*}\n",
       "\n",
       "\\item[\\$범위] \\begin{enumerate*}\n",
       "\\item TRUE\n",
       "\\item TRUE\n",
       "\\item TRUE\n",
       "\\item TRUE\n",
       "\\item TRUE\n",
       "\\item TRUE\n",
       "\\item TRUE\n",
       "\\item TRUE\n",
       "\\item FALSE\n",
       "\\end{enumerate*}\n",
       "\n",
       "\\end{description}\n"
      ],
      "text/markdown": [
       "$영어\n",
       ":   1. FALSE\n",
       "2. FALSE\n",
       "3. FALSE\n",
       "4. FALSE\n",
       "5. FALSE\n",
       "6. FALSE\n",
       "7. FALSE\n",
       "8. FALSE\n",
       "9. FALSE\n",
       "10. FALSE\n",
       "11. FALSE\n",
       "\n",
       "\n",
       "\n",
       "$한글\n",
       ":   1. FALSE\n",
       "2. FALSE\n",
       "3. FALSE\n",
       "4. FALSE\n",
       "5. FALSE\n",
       "6. FALSE\n",
       "7. FALSE\n",
       "8. FALSE\n",
       "9. FALSE\n",
       "\n",
       "\n",
       "\n",
       "$숫자\n",
       ":   1. TRUE\n",
       "2. TRUE\n",
       "3. TRUE\n",
       "4. TRUE\n",
       "5. TRUE\n",
       "6. TRUE\n",
       "7. TRUE\n",
       "\n",
       "\n",
       "\n",
       "$기호\n",
       ":   1. FALSE\n",
       "2. FALSE\n",
       "3. FALSE\n",
       "4. FALSE\n",
       "5. FALSE\n",
       "6. FALSE\n",
       "7. FALSE\n",
       "8. FALSE\n",
       "\n",
       "\n",
       "\n",
       "$탈출\n",
       ":   1. FALSE\n",
       "2. FALSE\n",
       "3. FALSE\n",
       "4. FALSE\n",
       "5. FALSE\n",
       "6. FALSE\n",
       "7. FALSE\n",
       "8. FALSE\n",
       "9. FALSE\n",
       "10. FALSE\n",
       "11. TRUE\n",
       "12. TRUE\n",
       "13. TRUE\n",
       "14. TRUE\n",
       "\n",
       "\n",
       "\n",
       "$전화\n",
       ":   1. TRUE\n",
       "2. TRUE\n",
       "3. TRUE\n",
       "4. TRUE\n",
       "5. TRUE\n",
       "6. TRUE\n",
       "7. TRUE\n",
       "\n",
       "\n",
       "\n",
       "$계량\n",
       ":   1. TRUE\n",
       "2. TRUE\n",
       "3. TRUE\n",
       "4. TRUE\n",
       "5. TRUE\n",
       "6. TRUE\n",
       "7. TRUE\n",
       "8. TRUE\n",
       "\n",
       "\n",
       "\n",
       "$단위\n",
       ":   1. FALSE\n",
       "2. TRUE\n",
       "3. TRUE\n",
       "4. TRUE\n",
       "5. TRUE\n",
       "\n",
       "\n",
       "\n",
       "$시간\n",
       ":   1. TRUE\n",
       "2. TRUE\n",
       "3. TRUE\n",
       "4. TRUE\n",
       "5. TRUE\n",
       "\n",
       "\n",
       "\n",
       "$날짜\n",
       ":   1. TRUE\n",
       "2. TRUE\n",
       "3. TRUE\n",
       "4. TRUE\n",
       "5. TRUE\n",
       "6. TRUE\n",
       "7. TRUE\n",
       "8. TRUE\n",
       "9. TRUE\n",
       "\n",
       "\n",
       "\n",
       "$결합\n",
       ":   1. FALSE\n",
       "2. FALSE\n",
       "3. FALSE\n",
       "4. FALSE\n",
       "5. FALSE\n",
       "6. FALSE\n",
       "7. FALSE\n",
       "8. TRUE\n",
       "9. TRUE\n",
       "10. FALSE\n",
       "11. TRUE\n",
       "12. TRUE\n",
       "13. TRUE\n",
       "\n",
       "\n",
       "\n",
       "$간격\n",
       ":   1. FALSE\n",
       "2. FALSE\n",
       "3. FALSE\n",
       "4. FALSE\n",
       "5. TRUE\n",
       "\n",
       "\n",
       "\n",
       "$복합\n",
       ":   1. FALSE\n",
       "2. FALSE\n",
       "3. TRUE\n",
       "4. TRUE\n",
       "5. TRUE\n",
       "6. FALSE\n",
       "7. FALSE\n",
       "8. FALSE\n",
       "9. FALSE\n",
       "10. FALSE\n",
       "\n",
       "\n",
       "\n",
       "$범위\n",
       ":   1. TRUE\n",
       "2. TRUE\n",
       "3. TRUE\n",
       "4. TRUE\n",
       "5. TRUE\n",
       "6. TRUE\n",
       "7. TRUE\n",
       "8. TRUE\n",
       "9. FALSE\n",
       "\n",
       "\n",
       "\n",
       "\n",
       "\n"
      ],
      "text/plain": [
       "$영어\n",
       " [1] FALSE FALSE FALSE FALSE FALSE FALSE FALSE FALSE FALSE FALSE FALSE\n",
       "\n",
       "$한글\n",
       "[1] FALSE FALSE FALSE FALSE FALSE FALSE FALSE FALSE FALSE\n",
       "\n",
       "$숫자\n",
       "[1] TRUE TRUE TRUE TRUE TRUE TRUE TRUE\n",
       "\n",
       "$기호\n",
       "[1] FALSE FALSE FALSE FALSE FALSE FALSE FALSE FALSE\n",
       "\n",
       "$탈출\n",
       " [1] FALSE FALSE FALSE FALSE FALSE FALSE FALSE FALSE FALSE FALSE  TRUE  TRUE\n",
       "[13]  TRUE  TRUE\n",
       "\n",
       "$전화\n",
       "[1] TRUE TRUE TRUE TRUE TRUE TRUE TRUE\n",
       "\n",
       "$계량\n",
       "[1] TRUE TRUE TRUE TRUE TRUE TRUE TRUE TRUE\n",
       "\n",
       "$단위\n",
       "[1] FALSE  TRUE  TRUE  TRUE  TRUE\n",
       "\n",
       "$시간\n",
       "[1] TRUE TRUE TRUE TRUE TRUE\n",
       "\n",
       "$날짜\n",
       "[1] TRUE TRUE TRUE TRUE TRUE TRUE TRUE TRUE TRUE\n",
       "\n",
       "$결합\n",
       " [1] FALSE FALSE FALSE FALSE FALSE FALSE FALSE  TRUE  TRUE FALSE  TRUE  TRUE\n",
       "[13]  TRUE\n",
       "\n",
       "$간격\n",
       "[1] FALSE FALSE FALSE FALSE  TRUE\n",
       "\n",
       "$복합\n",
       " [1] FALSE FALSE  TRUE  TRUE  TRUE FALSE FALSE FALSE FALSE FALSE\n",
       "\n",
       "$범위\n",
       "[1]  TRUE  TRUE  TRUE  TRUE  TRUE  TRUE  TRUE  TRUE FALSE\n"
      ]
     },
     "metadata": {},
     "output_type": "display_data"
    }
   ],
   "source": [
    "# 텍스트셋 안에 검색패턴 포함여부를 해당요소별 논리값으로 도출 \n",
    "# - 검색패턴이 들어 있으면 TRUE, 없으면 FALSE 출력\n",
    "\n",
    "sprintf('정규표현식 검색패턴: %s', src)\n",
    "lapply(ex, grepl, pattern = src)\n",
    "# - map(ex, str_detect, pattern = src) 동일 검색결과 "
   ]
  },
  {
   "cell_type": "markdown",
   "metadata": {},
   "source": [
    "### 검색패턴 포함여부를 요소별 인덱스번호로"
   ]
  },
  {
   "cell_type": "code",
   "execution_count": 10,
   "metadata": {
    "scrolled": false
   },
   "outputs": [
    {
     "data": {
      "text/html": [
       "'정규표현식 검색패턴: \\\\d'"
      ],
      "text/latex": [
       "'정규표현식 검색패턴: \\textbackslash{}\\textbackslash{}d'"
      ],
      "text/markdown": [
       "'정규표현식 검색패턴: \\\\d'"
      ],
      "text/plain": [
       "[1] \"정규표현식 검색패턴: \\\\d\""
      ]
     },
     "metadata": {},
     "output_type": "display_data"
    },
    {
     "data": {
      "text/html": [
       "<dl>\n",
       "\t<dt>$영어</dt>\n",
       "\t\t<dd></dd>\n",
       "\t<dt>$한글</dt>\n",
       "\t\t<dd></dd>\n",
       "\t<dt>$숫자</dt>\n",
       "\t\t<dd><ol class=list-inline>\n",
       "\t<li>1</li>\n",
       "\t<li>2</li>\n",
       "\t<li>3</li>\n",
       "\t<li>4</li>\n",
       "\t<li>5</li>\n",
       "\t<li>6</li>\n",
       "\t<li>7</li>\n",
       "</ol>\n",
       "</dd>\n",
       "\t<dt>$기호</dt>\n",
       "\t\t<dd></dd>\n",
       "\t<dt>$탈출</dt>\n",
       "\t\t<dd><ol class=list-inline>\n",
       "\t<li>11</li>\n",
       "\t<li>12</li>\n",
       "\t<li>13</li>\n",
       "\t<li>14</li>\n",
       "</ol>\n",
       "</dd>\n",
       "\t<dt>$전화</dt>\n",
       "\t\t<dd><ol class=list-inline>\n",
       "\t<li>1</li>\n",
       "\t<li>2</li>\n",
       "\t<li>3</li>\n",
       "\t<li>4</li>\n",
       "\t<li>5</li>\n",
       "\t<li>6</li>\n",
       "\t<li>7</li>\n",
       "</ol>\n",
       "</dd>\n",
       "\t<dt>$계량</dt>\n",
       "\t\t<dd><ol class=list-inline>\n",
       "\t<li>1</li>\n",
       "\t<li>2</li>\n",
       "\t<li>3</li>\n",
       "\t<li>4</li>\n",
       "\t<li>5</li>\n",
       "\t<li>6</li>\n",
       "\t<li>7</li>\n",
       "\t<li>8</li>\n",
       "</ol>\n",
       "</dd>\n",
       "\t<dt>$단위</dt>\n",
       "\t\t<dd><ol class=list-inline>\n",
       "\t<li>2</li>\n",
       "\t<li>3</li>\n",
       "\t<li>4</li>\n",
       "\t<li>5</li>\n",
       "</ol>\n",
       "</dd>\n",
       "\t<dt>$시간</dt>\n",
       "\t\t<dd><ol class=list-inline>\n",
       "\t<li>1</li>\n",
       "\t<li>2</li>\n",
       "\t<li>3</li>\n",
       "\t<li>4</li>\n",
       "\t<li>5</li>\n",
       "</ol>\n",
       "</dd>\n",
       "\t<dt>$날짜</dt>\n",
       "\t\t<dd><ol class=list-inline>\n",
       "\t<li>1</li>\n",
       "\t<li>2</li>\n",
       "\t<li>3</li>\n",
       "\t<li>4</li>\n",
       "\t<li>5</li>\n",
       "\t<li>6</li>\n",
       "\t<li>7</li>\n",
       "\t<li>8</li>\n",
       "\t<li>9</li>\n",
       "</ol>\n",
       "</dd>\n",
       "\t<dt>$결합</dt>\n",
       "\t\t<dd><ol class=list-inline>\n",
       "\t<li>8</li>\n",
       "\t<li>9</li>\n",
       "\t<li>11</li>\n",
       "\t<li>12</li>\n",
       "\t<li>13</li>\n",
       "</ol>\n",
       "</dd>\n",
       "\t<dt>$간격</dt>\n",
       "\t\t<dd>5</dd>\n",
       "\t<dt>$복합</dt>\n",
       "\t\t<dd><ol class=list-inline>\n",
       "\t<li>3</li>\n",
       "\t<li>4</li>\n",
       "\t<li>5</li>\n",
       "</ol>\n",
       "</dd>\n",
       "\t<dt>$범위</dt>\n",
       "\t\t<dd><ol class=list-inline>\n",
       "\t<li>1</li>\n",
       "\t<li>2</li>\n",
       "\t<li>3</li>\n",
       "\t<li>4</li>\n",
       "\t<li>5</li>\n",
       "\t<li>6</li>\n",
       "\t<li>7</li>\n",
       "\t<li>8</li>\n",
       "</ol>\n",
       "</dd>\n",
       "</dl>\n"
      ],
      "text/latex": [
       "\\begin{description}\n",
       "\\item[\\$영어] \n",
       "\\item[\\$한글] \n",
       "\\item[\\$숫자] \\begin{enumerate*}\n",
       "\\item 1\n",
       "\\item 2\n",
       "\\item 3\n",
       "\\item 4\n",
       "\\item 5\n",
       "\\item 6\n",
       "\\item 7\n",
       "\\end{enumerate*}\n",
       "\n",
       "\\item[\\$기호] \n",
       "\\item[\\$탈출] \\begin{enumerate*}\n",
       "\\item 11\n",
       "\\item 12\n",
       "\\item 13\n",
       "\\item 14\n",
       "\\end{enumerate*}\n",
       "\n",
       "\\item[\\$전화] \\begin{enumerate*}\n",
       "\\item 1\n",
       "\\item 2\n",
       "\\item 3\n",
       "\\item 4\n",
       "\\item 5\n",
       "\\item 6\n",
       "\\item 7\n",
       "\\end{enumerate*}\n",
       "\n",
       "\\item[\\$계량] \\begin{enumerate*}\n",
       "\\item 1\n",
       "\\item 2\n",
       "\\item 3\n",
       "\\item 4\n",
       "\\item 5\n",
       "\\item 6\n",
       "\\item 7\n",
       "\\item 8\n",
       "\\end{enumerate*}\n",
       "\n",
       "\\item[\\$단위] \\begin{enumerate*}\n",
       "\\item 2\n",
       "\\item 3\n",
       "\\item 4\n",
       "\\item 5\n",
       "\\end{enumerate*}\n",
       "\n",
       "\\item[\\$시간] \\begin{enumerate*}\n",
       "\\item 1\n",
       "\\item 2\n",
       "\\item 3\n",
       "\\item 4\n",
       "\\item 5\n",
       "\\end{enumerate*}\n",
       "\n",
       "\\item[\\$날짜] \\begin{enumerate*}\n",
       "\\item 1\n",
       "\\item 2\n",
       "\\item 3\n",
       "\\item 4\n",
       "\\item 5\n",
       "\\item 6\n",
       "\\item 7\n",
       "\\item 8\n",
       "\\item 9\n",
       "\\end{enumerate*}\n",
       "\n",
       "\\item[\\$결합] \\begin{enumerate*}\n",
       "\\item 8\n",
       "\\item 9\n",
       "\\item 11\n",
       "\\item 12\n",
       "\\item 13\n",
       "\\end{enumerate*}\n",
       "\n",
       "\\item[\\$간격] 5\n",
       "\\item[\\$복합] \\begin{enumerate*}\n",
       "\\item 3\n",
       "\\item 4\n",
       "\\item 5\n",
       "\\end{enumerate*}\n",
       "\n",
       "\\item[\\$범위] \\begin{enumerate*}\n",
       "\\item 1\n",
       "\\item 2\n",
       "\\item 3\n",
       "\\item 4\n",
       "\\item 5\n",
       "\\item 6\n",
       "\\item 7\n",
       "\\item 8\n",
       "\\end{enumerate*}\n",
       "\n",
       "\\end{description}\n"
      ],
      "text/markdown": [
       "$영어\n",
       ":   \n",
       "$한글\n",
       ":   \n",
       "$숫자\n",
       ":   1. 1\n",
       "2. 2\n",
       "3. 3\n",
       "4. 4\n",
       "5. 5\n",
       "6. 6\n",
       "7. 7\n",
       "\n",
       "\n",
       "\n",
       "$기호\n",
       ":   \n",
       "$탈출\n",
       ":   1. 11\n",
       "2. 12\n",
       "3. 13\n",
       "4. 14\n",
       "\n",
       "\n",
       "\n",
       "$전화\n",
       ":   1. 1\n",
       "2. 2\n",
       "3. 3\n",
       "4. 4\n",
       "5. 5\n",
       "6. 6\n",
       "7. 7\n",
       "\n",
       "\n",
       "\n",
       "$계량\n",
       ":   1. 1\n",
       "2. 2\n",
       "3. 3\n",
       "4. 4\n",
       "5. 5\n",
       "6. 6\n",
       "7. 7\n",
       "8. 8\n",
       "\n",
       "\n",
       "\n",
       "$단위\n",
       ":   1. 2\n",
       "2. 3\n",
       "3. 4\n",
       "4. 5\n",
       "\n",
       "\n",
       "\n",
       "$시간\n",
       ":   1. 1\n",
       "2. 2\n",
       "3. 3\n",
       "4. 4\n",
       "5. 5\n",
       "\n",
       "\n",
       "\n",
       "$날짜\n",
       ":   1. 1\n",
       "2. 2\n",
       "3. 3\n",
       "4. 4\n",
       "5. 5\n",
       "6. 6\n",
       "7. 7\n",
       "8. 8\n",
       "9. 9\n",
       "\n",
       "\n",
       "\n",
       "$결합\n",
       ":   1. 8\n",
       "2. 9\n",
       "3. 11\n",
       "4. 12\n",
       "5. 13\n",
       "\n",
       "\n",
       "\n",
       "$간격\n",
       ":   5\n",
       "$복합\n",
       ":   1. 3\n",
       "2. 4\n",
       "3. 5\n",
       "\n",
       "\n",
       "\n",
       "$범위\n",
       ":   1. 1\n",
       "2. 2\n",
       "3. 3\n",
       "4. 4\n",
       "5. 5\n",
       "6. 6\n",
       "7. 7\n",
       "8. 8\n",
       "\n",
       "\n",
       "\n",
       "\n",
       "\n"
      ],
      "text/plain": [
       "$영어\n",
       "integer(0)\n",
       "\n",
       "$한글\n",
       "integer(0)\n",
       "\n",
       "$숫자\n",
       "[1] 1 2 3 4 5 6 7\n",
       "\n",
       "$기호\n",
       "integer(0)\n",
       "\n",
       "$탈출\n",
       "[1] 11 12 13 14\n",
       "\n",
       "$전화\n",
       "[1] 1 2 3 4 5 6 7\n",
       "\n",
       "$계량\n",
       "[1] 1 2 3 4 5 6 7 8\n",
       "\n",
       "$단위\n",
       "[1] 2 3 4 5\n",
       "\n",
       "$시간\n",
       "[1] 1 2 3 4 5\n",
       "\n",
       "$날짜\n",
       "[1] 1 2 3 4 5 6 7 8 9\n",
       "\n",
       "$결합\n",
       "[1]  8  9 11 12 13\n",
       "\n",
       "$간격\n",
       "[1] 5\n",
       "\n",
       "$복합\n",
       "[1] 3 4 5\n",
       "\n",
       "$범위\n",
       "[1] 1 2 3 4 5 6 7 8\n"
      ]
     },
     "metadata": {},
     "output_type": "display_data"
    }
   ],
   "source": [
    "# 텍스트셋 안에 검색패턴 포함여부를 해당요소별 인덱스번호로 도출 \n",
    "# - 검색패턴이 들어 있으면 해당 요소의 인덱스번호 출력, 없으면 해당 요소 인덱스번호 미출력\n",
    "\n",
    "sprintf('정규표현식 검색패턴: %s', src)\n",
    "lapply(ex, grep, pattern = src)\n",
    "# - tmp_lg <- map(ex, str_detect, pattern = src)\n",
    "# - map(tmp_lg, which) 동일 검색결과"
   ]
  },
  {
   "cell_type": "markdown",
   "metadata": {},
   "source": [
    "### 검색패턴 포함여부를 요소별 내용으로"
   ]
  },
  {
   "cell_type": "code",
   "execution_count": 11,
   "metadata": {},
   "outputs": [
    {
     "data": {
      "text/html": [
       "'정규표현식 검색패턴: \\\\d'"
      ],
      "text/latex": [
       "'정규표현식 검색패턴: \\textbackslash{}\\textbackslash{}d'"
      ],
      "text/markdown": [
       "'정규표현식 검색패턴: \\\\d'"
      ],
      "text/plain": [
       "[1] \"정규표현식 검색패턴: \\\\d\""
      ]
     },
     "metadata": {},
     "output_type": "display_data"
    },
    {
     "data": {
      "text/html": [
       "<dl>\n",
       "\t<dt>$영어</dt>\n",
       "\t\t<dd></dd>\n",
       "\t<dt>$한글</dt>\n",
       "\t\t<dd></dd>\n",
       "\t<dt>$숫자</dt>\n",
       "\t\t<dd><ol class=list-inline>\n",
       "\t<li>'34'</li>\n",
       "\t<li>'-500'</li>\n",
       "\t<li>'259'</li>\n",
       "\t<li>'2019'</li>\n",
       "\t<li>'36.5'</li>\n",
       "\t<li>'-36.5'</li>\n",
       "\t<li>'257.08'</li>\n",
       "</ol>\n",
       "</dd>\n",
       "\t<dt>$기호</dt>\n",
       "\t\t<dd></dd>\n",
       "\t<dt>$탈출</dt>\n",
       "\t\t<dd><ol class=list-inline>\n",
       "\t<li>'36.5`C'</li>\n",
       "\t<li>'36.5\\'C'</li>\n",
       "\t<li>'2°10\\'26.5\"E'</li>\n",
       "\t<li>'2°10\\'26.5\"E'</li>\n",
       "</ol>\n",
       "</dd>\n",
       "\t<dt>$전화</dt>\n",
       "\t\t<dd><ol class=list-inline>\n",
       "\t<li>'02-369-7890'</li>\n",
       "\t<li>'032) 578-6639'</li>\n",
       "\t<li>'070-900-1100'</li>\n",
       "\t<li>'1588-1588'</li>\n",
       "\t<li>'1577-5700'</li>\n",
       "\t<li>'010-5364-3355'</li>\n",
       "\t<li>'010-8887-3320'</li>\n",
       "</ol>\n",
       "</dd>\n",
       "\t<dt>$계량</dt>\n",
       "\t\t<dd><ol class=list-inline>\n",
       "\t<li>'175.4cm'</li>\n",
       "\t<li>'300미터'</li>\n",
       "\t<li>'80.50km'</li>\n",
       "\t<li>'65.8kg'</li>\n",
       "\t<li>'350ml'</li>\n",
       "\t<li>'1.5l'</li>\n",
       "\t<li>'1.5리터'</li>\n",
       "\t<li>'33평'</li>\n",
       "</ol>\n",
       "</dd>\n",
       "\t<dt>$단위</dt>\n",
       "\t\t<dd><ol class=list-inline>\n",
       "\t<li>'3천원'</li>\n",
       "\t<li>'3000원'</li>\n",
       "\t<li>'3,000원'</li>\n",
       "\t<li>'$30.5'</li>\n",
       "</ol>\n",
       "</dd>\n",
       "\t<dt>$시간</dt>\n",
       "\t\t<dd><ol class=list-inline>\n",
       "\t<li>'11:30'</li>\n",
       "\t<li>'22:05'</li>\n",
       "\t<li>'11:30:45'</li>\n",
       "\t<li>'11:30 a.m.'</li>\n",
       "\t<li>'11:30 AM'</li>\n",
       "</ol>\n",
       "</dd>\n",
       "\t<dt>$날짜</dt>\n",
       "\t\t<dd><ol class=list-inline>\n",
       "\t<li>'2019'</li>\n",
       "\t<li>'2019년'</li>\n",
       "\t<li>'`19'</li>\n",
       "\t<li>'2019-03-15'</li>\n",
       "\t<li>'2019년 3월 15일'</li>\n",
       "\t<li>'3월15일'</li>\n",
       "\t<li>'February 22, 2020'</li>\n",
       "\t<li>'Feb. 22, 2020'</li>\n",
       "\t<li>'2/22/2018'</li>\n",
       "</ol>\n",
       "</dd>\n",
       "\t<dt>$결합</dt>\n",
       "\t\t<dd><ol class=list-inline>\n",
       "\t<li>'365일'</li>\n",
       "\t<li>'3M'</li>\n",
       "\t<li>'300스타'</li>\n",
       "\t<li>'M16'</li>\n",
       "\t<li>'M16총'</li>\n",
       "</ol>\n",
       "</dd>\n",
       "\t<dt>$간격</dt>\n",
       "\t\t<dd>'300\\n\\r스타'</dd>\n",
       "\t<dt>$복합</dt>\n",
       "\t\t<dd><ol class=list-inline>\n",
       "\t<li>'&lt;h2&gt; &lt;/h2&gt;'</li>\n",
       "\t<li>'[3]'</li>\n",
       "\t<li>'[[3]]'</li>\n",
       "</ol>\n",
       "</dd>\n",
       "\t<dt>$범위</dt>\n",
       "\t\t<dd><ol class=list-inline>\n",
       "\t<li>'3~17'</li>\n",
       "\t<li>'3 ~ 17'</li>\n",
       "\t<li>'p.3~17'</li>\n",
       "\t<li>'3-17'</li>\n",
       "\t<li>'3 - 17'</li>\n",
       "\t<li>'p.3-p.17'</li>\n",
       "\t<li>'3페이지~17페이지'</li>\n",
       "\t<li>'[5], [8], [20]'</li>\n",
       "</ol>\n",
       "</dd>\n",
       "</dl>\n"
      ],
      "text/latex": [
       "\\begin{description}\n",
       "\\item[\\$영어] \n",
       "\\item[\\$한글] \n",
       "\\item[\\$숫자] \\begin{enumerate*}\n",
       "\\item '34'\n",
       "\\item '-500'\n",
       "\\item '259'\n",
       "\\item '2019'\n",
       "\\item '36.5'\n",
       "\\item '-36.5'\n",
       "\\item '257.08'\n",
       "\\end{enumerate*}\n",
       "\n",
       "\\item[\\$기호] \n",
       "\\item[\\$탈출] \\begin{enumerate*}\n",
       "\\item '36.5`C'\n",
       "\\item '36.5\\textbackslash{}'C'\n",
       "\\item '2°10\\textbackslash{}'26.5\"E'\n",
       "\\item '2°10\\textbackslash{}'26.5\"E'\n",
       "\\end{enumerate*}\n",
       "\n",
       "\\item[\\$전화] \\begin{enumerate*}\n",
       "\\item '02-369-7890'\n",
       "\\item '032) 578-6639'\n",
       "\\item '070-900-1100'\n",
       "\\item '1588-1588'\n",
       "\\item '1577-5700'\n",
       "\\item '010-5364-3355'\n",
       "\\item '010-8887-3320'\n",
       "\\end{enumerate*}\n",
       "\n",
       "\\item[\\$계량] \\begin{enumerate*}\n",
       "\\item '175.4cm'\n",
       "\\item '300미터'\n",
       "\\item '80.50km'\n",
       "\\item '65.8kg'\n",
       "\\item '350ml'\n",
       "\\item '1.5l'\n",
       "\\item '1.5리터'\n",
       "\\item '33평'\n",
       "\\end{enumerate*}\n",
       "\n",
       "\\item[\\$단위] \\begin{enumerate*}\n",
       "\\item '3천원'\n",
       "\\item '3000원'\n",
       "\\item '3,000원'\n",
       "\\item '\\$30.5'\n",
       "\\end{enumerate*}\n",
       "\n",
       "\\item[\\$시간] \\begin{enumerate*}\n",
       "\\item '11:30'\n",
       "\\item '22:05'\n",
       "\\item '11:30:45'\n",
       "\\item '11:30 a.m.'\n",
       "\\item '11:30 AM'\n",
       "\\end{enumerate*}\n",
       "\n",
       "\\item[\\$날짜] \\begin{enumerate*}\n",
       "\\item '2019'\n",
       "\\item '2019년'\n",
       "\\item '`19'\n",
       "\\item '2019-03-15'\n",
       "\\item '2019년 3월 15일'\n",
       "\\item '3월15일'\n",
       "\\item 'February 22, 2020'\n",
       "\\item 'Feb. 22, 2020'\n",
       "\\item '2/22/2018'\n",
       "\\end{enumerate*}\n",
       "\n",
       "\\item[\\$결합] \\begin{enumerate*}\n",
       "\\item '365일'\n",
       "\\item '3M'\n",
       "\\item '300스타'\n",
       "\\item 'M16'\n",
       "\\item 'M16총'\n",
       "\\end{enumerate*}\n",
       "\n",
       "\\item[\\$간격] '300\\textbackslash{}n\\textbackslash{}r스타'\n",
       "\\item[\\$복합] \\begin{enumerate*}\n",
       "\\item '<h2> </h2>'\n",
       "\\item '{[}3{]}'\n",
       "\\item '{[}{[}3{]}{]}'\n",
       "\\end{enumerate*}\n",
       "\n",
       "\\item[\\$범위] \\begin{enumerate*}\n",
       "\\item '3\\textasciitilde{}17'\n",
       "\\item '3 \\textasciitilde{} 17'\n",
       "\\item 'p.3\\textasciitilde{}17'\n",
       "\\item '3-17'\n",
       "\\item '3 - 17'\n",
       "\\item 'p.3-p.17'\n",
       "\\item '3페이지\\textasciitilde{}17페이지'\n",
       "\\item '{[}5{]}, {[}8{]}, {[}20{]}'\n",
       "\\end{enumerate*}\n",
       "\n",
       "\\end{description}\n"
      ],
      "text/markdown": [
       "$영어\n",
       ":   \n",
       "$한글\n",
       ":   \n",
       "$숫자\n",
       ":   1. '34'\n",
       "2. '-500'\n",
       "3. '259'\n",
       "4. '2019'\n",
       "5. '36.5'\n",
       "6. '-36.5'\n",
       "7. '257.08'\n",
       "\n",
       "\n",
       "\n",
       "$기호\n",
       ":   \n",
       "$탈출\n",
       ":   1. '36.5`C'\n",
       "2. '36.5\\'C'\n",
       "3. '2°10\\'26.5\"E'\n",
       "4. '2°10\\'26.5\"E'\n",
       "\n",
       "\n",
       "\n",
       "$전화\n",
       ":   1. '02-369-7890'\n",
       "2. '032) 578-6639'\n",
       "3. '070-900-1100'\n",
       "4. '1588-1588'\n",
       "5. '1577-5700'\n",
       "6. '010-5364-3355'\n",
       "7. '010-8887-3320'\n",
       "\n",
       "\n",
       "\n",
       "$계량\n",
       ":   1. '175.4cm'\n",
       "2. '300미터'\n",
       "3. '80.50km'\n",
       "4. '65.8kg'\n",
       "5. '350ml'\n",
       "6. '1.5l'\n",
       "7. '1.5리터'\n",
       "8. '33평'\n",
       "\n",
       "\n",
       "\n",
       "$단위\n",
       ":   1. '3천원'\n",
       "2. '3000원'\n",
       "3. '3,000원'\n",
       "4. '$30.5'\n",
       "\n",
       "\n",
       "\n",
       "$시간\n",
       ":   1. '11:30'\n",
       "2. '22:05'\n",
       "3. '11:30:45'\n",
       "4. '11:30 a.m.'\n",
       "5. '11:30 AM'\n",
       "\n",
       "\n",
       "\n",
       "$날짜\n",
       ":   1. '2019'\n",
       "2. '2019년'\n",
       "3. '`19'\n",
       "4. '2019-03-15'\n",
       "5. '2019년 3월 15일'\n",
       "6. '3월15일'\n",
       "7. 'February 22, 2020'\n",
       "8. 'Feb. 22, 2020'\n",
       "9. '2/22/2018'\n",
       "\n",
       "\n",
       "\n",
       "$결합\n",
       ":   1. '365일'\n",
       "2. '3M'\n",
       "3. '300스타'\n",
       "4. 'M16'\n",
       "5. 'M16총'\n",
       "\n",
       "\n",
       "\n",
       "$간격\n",
       ":   '300\\n\\r스타'\n",
       "$복합\n",
       ":   1. '&lt;h2&gt; &lt;/h2&gt;'\n",
       "2. '[3]'\n",
       "3. '[[3]]'\n",
       "\n",
       "\n",
       "\n",
       "$범위\n",
       ":   1. '3~17'\n",
       "2. '3 ~ 17'\n",
       "3. 'p.3~17'\n",
       "4. '3-17'\n",
       "5. '3 - 17'\n",
       "6. 'p.3-p.17'\n",
       "7. '3페이지~17페이지'\n",
       "8. '[5], [8], [20]'\n",
       "\n",
       "\n",
       "\n",
       "\n",
       "\n"
      ],
      "text/plain": [
       "$영어\n",
       "character(0)\n",
       "\n",
       "$한글\n",
       "character(0)\n",
       "\n",
       "$숫자\n",
       "[1] \"34\"     \"-500\"   \"259\"    \"2019\"   \"36.5\"   \"-36.5\"  \"257.08\"\n",
       "\n",
       "$기호\n",
       "character(0)\n",
       "\n",
       "$탈출\n",
       "[1] \"36.5`C\"        \"36.5'C\"        \"2°10'26.5\\\"E\" \"2°10'26.5\\\"E\"\n",
       "\n",
       "$전화\n",
       "[1] \"02-369-7890\"   \"032) 578-6639\" \"070-900-1100\"  \"1588-1588\"    \n",
       "[5] \"1577-5700\"     \"010-5364-3355\" \"010-8887-3320\"\n",
       "\n",
       "$계량\n",
       "[1] \"175.4cm\" \"300미터\" \"80.50km\" \"65.8kg\"  \"350ml\"   \"1.5l\"    \"1.5리터\"\n",
       "[8] \"33평\"   \n",
       "\n",
       "$단위\n",
       "[1] \"3천원\"   \"3000원\"  \"3,000원\" \"$30.5\"  \n",
       "\n",
       "$시간\n",
       "[1] \"11:30\"      \"22:05\"      \"11:30:45\"   \"11:30 a.m.\" \"11:30 AM\"  \n",
       "\n",
       "$날짜\n",
       "[1] \"2019\"              \"2019년\"            \"`19\"              \n",
       "[4] \"2019-03-15\"        \"2019년 3월 15일\"   \"3월15일\"          \n",
       "[7] \"February 22, 2020\" \"Feb. 22, 2020\"     \"2/22/2018\"        \n",
       "\n",
       "$결합\n",
       "[1] \"365일\"   \"3M\"      \"300스타\" \"M16\"     \"M16총\"  \n",
       "\n",
       "$간격\n",
       "[1] \"300\\n\\r스타\"\n",
       "\n",
       "$복합\n",
       "[1] \"<h2> </h2>\" \"[3]\"        \"[[3]]\"     \n",
       "\n",
       "$범위\n",
       "[1] \"3~17\"             \"3 ~ 17\"           \"p.3~17\"           \"3-17\"            \n",
       "[5] \"3 - 17\"           \"p.3-p.17\"         \"3페이지~17페이지\" \"[5], [8], [20]\"  \n"
      ]
     },
     "metadata": {},
     "output_type": "display_data"
    }
   ],
   "source": [
    "# 텍스트셋 안에 검색패턴 포함여부를 해당요소별 내용으로 도출 \n",
    "# - 검색패턴이 들어 있으면 해당 요소의 내용 출력, 없으면 해당 요소의 내용 미출력\n",
    "\n",
    "sprintf('정규표현식 검색패턴: %s', src)\n",
    "lapply(ex, grep, pattern = src, value = TRUE)"
   ]
  },
  {
   "cell_type": "markdown",
   "metadata": {},
   "source": [
    "### 검색패턴 포함여부를 세부요소별로 "
   ]
  },
  {
   "cell_type": "code",
   "execution_count": 12,
   "metadata": {},
   "outputs": [
    {
     "data": {
      "text/html": [
       "'정규표현식 검색대상: 영어'"
      ],
      "text/latex": [
       "'정규표현식 검색대상: 영어'"
      ],
      "text/markdown": [
       "'정규표현식 검색대상: 영어'"
      ],
      "text/plain": [
       "[1] \"정규표현식 검색대상: 영어\""
      ]
     },
     "metadata": {},
     "output_type": "display_data"
    },
    {
     "name": "stdout",
     "output_type": "stream",
     "text": [
      "$영어\n",
      " [1] \"a\"        \"A\"        \"R\"        \"bigpie\"   \"Bigpie\"   \"BigPie\"  \n",
      " [7] \"BIGPIE\"   \"RPyGo\"    \"gogle\"    \"google\"   \"goooggle\"\n",
      "\n"
     ]
    },
    {
     "data": {
      "text/html": [
       "'정규표현식 검색패턴: \\\\d'"
      ],
      "text/latex": [
       "'정규표현식 검색패턴: \\textbackslash{}\\textbackslash{}d'"
      ],
      "text/markdown": [
       "'정규표현식 검색패턴: \\\\d'"
      ],
      "text/plain": [
       "[1] \"정규표현식 검색패턴: \\\\d\""
      ]
     },
     "metadata": {},
     "output_type": "display_data"
    },
    {
     "name": "stdout",
     "output_type": "stream",
     "text": [
      "character(0)\n",
      "integer(0)\n",
      " [1] FALSE FALSE FALSE FALSE FALSE FALSE FALSE FALSE FALSE FALSE FALSE\n"
     ]
    }
   ],
   "source": [
    "item <- '영어'\n",
    "sprintf('정규표현식 검색대상: %s', item)\n",
    "ex[item] %>% print\n",
    "\n",
    "sprintf('정규표현식 검색패턴: %s', src)\n",
    "grep(pattern = src, x = ex[[item]], value = TRUE) %>% print\n",
    "grep(pattern = src, x = ex[[item]]) %>% print\n",
    "grepl(pattern = src, x = ex[[item]]) %>% print"
   ]
  },
  {
   "cell_type": "code",
   "execution_count": 13,
   "metadata": {},
   "outputs": [
    {
     "data": {
      "text/html": [
       "'정규표현식 검색대상: 한글'"
      ],
      "text/latex": [
       "'정규표현식 검색대상: 한글'"
      ],
      "text/markdown": [
       "'정규표현식 검색대상: 한글'"
      ],
      "text/plain": [
       "[1] \"정규표현식 검색대상: 한글\""
      ]
     },
     "metadata": {},
     "output_type": "display_data"
    },
    {
     "name": "stdout",
     "output_type": "stream",
     "text": [
      "$한글\n",
      "[1] \"ㄱㅎ\"   \"ㅏㅗ\"   \"파\"     \"한\"     \"파이썬\" \"빅파이\" \"파도\"   \"이차항\"\n",
      "[9] \"알파고\"\n",
      "\n"
     ]
    },
    {
     "data": {
      "text/html": [
       "'정규표현식 검색패턴: \\\\d'"
      ],
      "text/latex": [
       "'정규표현식 검색패턴: \\textbackslash{}\\textbackslash{}d'"
      ],
      "text/markdown": [
       "'정규표현식 검색패턴: \\\\d'"
      ],
      "text/plain": [
       "[1] \"정규표현식 검색패턴: \\\\d\""
      ]
     },
     "metadata": {},
     "output_type": "display_data"
    },
    {
     "name": "stdout",
     "output_type": "stream",
     "text": [
      "character(0)\n",
      "integer(0)\n",
      "[1] FALSE FALSE FALSE FALSE FALSE FALSE FALSE FALSE FALSE\n"
     ]
    }
   ],
   "source": [
    "item <- '한글'\n",
    "sprintf('정규표현식 검색대상: %s', item)\n",
    "ex[item] %>% print\n",
    "\n",
    "sprintf('정규표현식 검색패턴: %s', src)\n",
    "grep(pattern = src, x = ex[[item]], value = TRUE) %>% print\n",
    "grep(pattern = src, x = ex[[item]]) %>% print\n",
    "grepl(pattern = src, x = ex[[item]]) %>% print"
   ]
  },
  {
   "cell_type": "code",
   "execution_count": 14,
   "metadata": {},
   "outputs": [
    {
     "data": {
      "text/html": [
       "'정규표현식 검색대상: 숫자'"
      ],
      "text/latex": [
       "'정규표현식 검색대상: 숫자'"
      ],
      "text/markdown": [
       "'정규표현식 검색대상: 숫자'"
      ],
      "text/plain": [
       "[1] \"정규표현식 검색대상: 숫자\""
      ]
     },
     "metadata": {},
     "output_type": "display_data"
    },
    {
     "name": "stdout",
     "output_type": "stream",
     "text": [
      "$숫자\n",
      "[1]   34.00 -500.00  259.00 2019.00   36.50  -36.50  257.08\n",
      "\n"
     ]
    },
    {
     "data": {
      "text/html": [
       "'정규표현식 검색패턴: \\\\d'"
      ],
      "text/latex": [
       "'정규표현식 검색패턴: \\textbackslash{}\\textbackslash{}d'"
      ],
      "text/markdown": [
       "'정규표현식 검색패턴: \\\\d'"
      ],
      "text/plain": [
       "[1] \"정규표현식 검색패턴: \\\\d\""
      ]
     },
     "metadata": {},
     "output_type": "display_data"
    },
    {
     "name": "stdout",
     "output_type": "stream",
     "text": [
      "[1] \"34\"     \"-500\"   \"259\"    \"2019\"   \"36.5\"   \"-36.5\"  \"257.08\"\n",
      "[1] 1 2 3 4 5 6 7\n",
      "[1] TRUE TRUE TRUE TRUE TRUE TRUE TRUE\n"
     ]
    }
   ],
   "source": [
    "item <- '숫자'\n",
    "sprintf('정규표현식 검색대상: %s', item)\n",
    "ex[item] %>% print\n",
    "\n",
    "sprintf('정규표현식 검색패턴: %s', src)\n",
    "grep(pattern = src, x = ex[[item]], value = TRUE) %>% print\n",
    "grep(pattern = src, x = ex[[item]]) %>% print\n",
    "grepl(pattern = src, x = ex[[item]]) %>% print"
   ]
  },
  {
   "cell_type": "code",
   "execution_count": 15,
   "metadata": {},
   "outputs": [
    {
     "data": {
      "text/html": [
       "'정규표현식 검색대상: 기호'"
      ],
      "text/latex": [
       "'정규표현식 검색대상: 기호'"
      ],
      "text/markdown": [
       "'정규표현식 검색대상: 기호'"
      ],
      "text/plain": [
       "[1] \"정규표현식 검색대상: 기호\""
      ]
     },
     "metadata": {},
     "output_type": "display_data"
    },
    {
     "name": "stdout",
     "output_type": "stream",
     "text": [
      "$기호\n",
      "[1] \"!@#$\"     \"%^&?\"     \"(){}[]<>\" \"+-*/=\"    \".,:;|_`~\" \"\"         \" \"       \n",
      "[8] \"    \"    \n",
      "\n"
     ]
    },
    {
     "data": {
      "text/html": [
       "'정규표현식 검색패턴: \\\\d'"
      ],
      "text/latex": [
       "'정규표현식 검색패턴: \\textbackslash{}\\textbackslash{}d'"
      ],
      "text/markdown": [
       "'정규표현식 검색패턴: \\\\d'"
      ],
      "text/plain": [
       "[1] \"정규표현식 검색패턴: \\\\d\""
      ]
     },
     "metadata": {},
     "output_type": "display_data"
    },
    {
     "name": "stdout",
     "output_type": "stream",
     "text": [
      "character(0)\n",
      "integer(0)\n",
      "[1] FALSE FALSE FALSE FALSE FALSE FALSE FALSE FALSE\n"
     ]
    }
   ],
   "source": [
    "item <- '기호'\n",
    "sprintf('정규표현식 검색대상: %s', item)\n",
    "ex[item] %>% print\n",
    "\n",
    "sprintf('정규표현식 검색패턴: %s', src)\n",
    "grep(pattern = src, x = ex[[item]], value = TRUE) %>% print\n",
    "grep(pattern = src, x = ex[[item]]) %>% print\n",
    "grepl(pattern = src, x = ex[[item]]) %>% print"
   ]
  },
  {
   "cell_type": "code",
   "execution_count": 16,
   "metadata": {},
   "outputs": [
    {
     "data": {
      "text/html": [
       "'정규표현식 검색대상: 기호'"
      ],
      "text/latex": [
       "'정규표현식 검색대상: 기호'"
      ],
      "text/markdown": [
       "'정규표현식 검색대상: 기호'"
      ],
      "text/plain": [
       "[1] \"정규표현식 검색대상: 기호\""
      ]
     },
     "metadata": {},
     "output_type": "display_data"
    },
    {
     "name": "stdout",
     "output_type": "stream",
     "text": [
      "$기호\n",
      "[1] \"!@#$\"     \"%^&?\"     \"(){}[]<>\" \"+-*/=\"    \".,:;|_`~\" \"\"         \" \"       \n",
      "[8] \"    \"    \n",
      "\n"
     ]
    },
    {
     "data": {
      "text/html": [
       "'정규표현식 검색패턴: \\\\d'"
      ],
      "text/latex": [
       "'정규표현식 검색패턴: \\textbackslash{}\\textbackslash{}d'"
      ],
      "text/markdown": [
       "'정규표현식 검색패턴: \\\\d'"
      ],
      "text/plain": [
       "[1] \"정규표현식 검색패턴: \\\\d\""
      ]
     },
     "metadata": {},
     "output_type": "display_data"
    },
    {
     "name": "stdout",
     "output_type": "stream",
     "text": [
      "character(0)\n",
      "integer(0)\n",
      "[1] FALSE FALSE FALSE FALSE FALSE FALSE FALSE FALSE\n"
     ]
    }
   ],
   "source": [
    "item <- '기호'\n",
    "sprintf('정규표현식 검색대상: %s', item)\n",
    "ex[item] %>% print\n",
    "\n",
    "sprintf('정규표현식 검색패턴: %s', src)\n",
    "grep(pattern = src, x = ex[[item]], value = TRUE) %>% print\n",
    "grep(pattern = src, x = ex[[item]]) %>% print\n",
    "grepl(pattern = src, x = ex[[item]]) %>% print"
   ]
  },
  {
   "cell_type": "code",
   "execution_count": 17,
   "metadata": {},
   "outputs": [
    {
     "data": {
      "text/html": [
       "'정규표현식 검색대상: 탈출'"
      ],
      "text/latex": [
       "'정규표현식 검색대상: 탈출'"
      ],
      "text/markdown": [
       "'정규표현식 검색대상: 탈출'"
      ],
      "text/plain": [
       "[1] \"정규표현식 검색대상: 탈출\""
      ]
     },
     "metadata": {},
     "output_type": "display_data"
    },
    {
     "name": "stdout",
     "output_type": "stream",
     "text": [
      "$탈출\n",
      " [1] \"\\\\\"            \"\\\\\\\\\"          \"\\n\"            \"\\t\"           \n",
      " [5] \"\\\\.\"           \"\\\"\"            \"'\"             \"'\"            \n",
      " [9] \"\\\"\"            \"It's\"          \"36.5`C\"        \"36.5'C\"       \n",
      "[13] \"2°10'26.5\\\"E\" \"2°10'26.5\\\"E\"\n",
      "\n"
     ]
    },
    {
     "data": {
      "text/html": [
       "'정규표현식 검색패턴: \\\\d'"
      ],
      "text/latex": [
       "'정규표현식 검색패턴: \\textbackslash{}\\textbackslash{}d'"
      ],
      "text/markdown": [
       "'정규표현식 검색패턴: \\\\d'"
      ],
      "text/plain": [
       "[1] \"정규표현식 검색패턴: \\\\d\""
      ]
     },
     "metadata": {},
     "output_type": "display_data"
    },
    {
     "name": "stdout",
     "output_type": "stream",
     "text": [
      "[1] \"36.5`C\"        \"36.5'C\"        \"2°10'26.5\\\"E\" \"2°10'26.5\\\"E\"\n",
      "[1] 11 12 13 14\n",
      " [1] FALSE FALSE FALSE FALSE FALSE FALSE FALSE FALSE FALSE FALSE  TRUE  TRUE\n",
      "[13]  TRUE  TRUE\n"
     ]
    }
   ],
   "source": [
    "item <- '탈출'\n",
    "sprintf('정규표현식 검색대상: %s', item)\n",
    "ex[item] %>% print\n",
    "\n",
    "sprintf('정규표현식 검색패턴: %s', src)\n",
    "grep(pattern = src, x = ex[[item]], value = TRUE) %>% print\n",
    "grep(pattern = src, x = ex[[item]]) %>% print\n",
    "grepl(pattern = src, x = ex[[item]]) %>% print"
   ]
  },
  {
   "cell_type": "code",
   "execution_count": 18,
   "metadata": {},
   "outputs": [
    {
     "data": {
      "text/html": [
       "'정규표현식 검색대상: 전화'"
      ],
      "text/latex": [
       "'정규표현식 검색대상: 전화'"
      ],
      "text/markdown": [
       "'정규표현식 검색대상: 전화'"
      ],
      "text/plain": [
       "[1] \"정규표현식 검색대상: 전화\""
      ]
     },
     "metadata": {},
     "output_type": "display_data"
    },
    {
     "name": "stdout",
     "output_type": "stream",
     "text": [
      "$전화\n",
      "[1] \"02-369-7890\"   \"032) 578-6639\" \"070-900-1100\"  \"1588-1588\"    \n",
      "[5] \"1577-5700\"     \"010-5364-3355\" \"010-8887-3320\"\n",
      "\n"
     ]
    },
    {
     "data": {
      "text/html": [
       "'정규표현식 검색패턴: \\\\d'"
      ],
      "text/latex": [
       "'정규표현식 검색패턴: \\textbackslash{}\\textbackslash{}d'"
      ],
      "text/markdown": [
       "'정규표현식 검색패턴: \\\\d'"
      ],
      "text/plain": [
       "[1] \"정규표현식 검색패턴: \\\\d\""
      ]
     },
     "metadata": {},
     "output_type": "display_data"
    },
    {
     "name": "stdout",
     "output_type": "stream",
     "text": [
      "[1] \"02-369-7890\"   \"032) 578-6639\" \"070-900-1100\"  \"1588-1588\"    \n",
      "[5] \"1577-5700\"     \"010-5364-3355\" \"010-8887-3320\"\n",
      "[1] 1 2 3 4 5 6 7\n",
      "[1] TRUE TRUE TRUE TRUE TRUE TRUE TRUE\n"
     ]
    }
   ],
   "source": [
    "item <- '전화'\n",
    "sprintf('정규표현식 검색대상: %s', item)\n",
    "ex[item] %>% print\n",
    "\n",
    "sprintf('정규표현식 검색패턴: %s', src)\n",
    "grep(pattern = src, x = ex[[item]], value = TRUE) %>% print\n",
    "grep(pattern = src, x = ex[[item]]) %>% print\n",
    "grepl(pattern = src, x = ex[[item]]) %>% print"
   ]
  },
  {
   "cell_type": "code",
   "execution_count": 19,
   "metadata": {},
   "outputs": [
    {
     "data": {
      "text/html": [
       "'정규표현식 검색대상: 전화'"
      ],
      "text/latex": [
       "'정규표현식 검색대상: 전화'"
      ],
      "text/markdown": [
       "'정규표현식 검색대상: 전화'"
      ],
      "text/plain": [
       "[1] \"정규표현식 검색대상: 전화\""
      ]
     },
     "metadata": {},
     "output_type": "display_data"
    },
    {
     "name": "stdout",
     "output_type": "stream",
     "text": [
      "$전화\n",
      "[1] \"02-369-7890\"   \"032) 578-6639\" \"070-900-1100\"  \"1588-1588\"    \n",
      "[5] \"1577-5700\"     \"010-5364-3355\" \"010-8887-3320\"\n",
      "\n"
     ]
    },
    {
     "data": {
      "text/html": [
       "'정규표현식 검색패턴: \\\\d'"
      ],
      "text/latex": [
       "'정규표현식 검색패턴: \\textbackslash{}\\textbackslash{}d'"
      ],
      "text/markdown": [
       "'정규표현식 검색패턴: \\\\d'"
      ],
      "text/plain": [
       "[1] \"정규표현식 검색패턴: \\\\d\""
      ]
     },
     "metadata": {},
     "output_type": "display_data"
    },
    {
     "name": "stdout",
     "output_type": "stream",
     "text": [
      "[1] \"02-369-7890\"   \"032) 578-6639\" \"070-900-1100\"  \"1588-1588\"    \n",
      "[5] \"1577-5700\"     \"010-5364-3355\" \"010-8887-3320\"\n",
      "[1] 1 2 3 4 5 6 7\n",
      "[1] TRUE TRUE TRUE TRUE TRUE TRUE TRUE\n"
     ]
    }
   ],
   "source": [
    "item <- '전화'\n",
    "sprintf('정규표현식 검색대상: %s', item)\n",
    "ex[item] %>% print\n",
    "\n",
    "sprintf('정규표현식 검색패턴: %s', src)\n",
    "grep(pattern = src, x = ex[[item]], value = TRUE) %>% print\n",
    "grep(pattern = src, x = ex[[item]]) %>% print\n",
    "grepl(pattern = src, x = ex[[item]]) %>% print"
   ]
  },
  {
   "cell_type": "code",
   "execution_count": 20,
   "metadata": {},
   "outputs": [
    {
     "data": {
      "text/html": [
       "'정규표현식 검색대상: 계량'"
      ],
      "text/latex": [
       "'정규표현식 검색대상: 계량'"
      ],
      "text/markdown": [
       "'정규표현식 검색대상: 계량'"
      ],
      "text/plain": [
       "[1] \"정규표현식 검색대상: 계량\""
      ]
     },
     "metadata": {},
     "output_type": "display_data"
    },
    {
     "name": "stdout",
     "output_type": "stream",
     "text": [
      "$계량\n",
      "[1] \"175.4cm\" \"300미터\" \"80.50km\" \"65.8kg\"  \"350ml\"   \"1.5l\"    \"1.5리터\"\n",
      "[8] \"33평\"   \n",
      "\n"
     ]
    },
    {
     "data": {
      "text/html": [
       "'정규표현식 검색패턴: \\\\d'"
      ],
      "text/latex": [
       "'정규표현식 검색패턴: \\textbackslash{}\\textbackslash{}d'"
      ],
      "text/markdown": [
       "'정규표현식 검색패턴: \\\\d'"
      ],
      "text/plain": [
       "[1] \"정규표현식 검색패턴: \\\\d\""
      ]
     },
     "metadata": {},
     "output_type": "display_data"
    },
    {
     "name": "stdout",
     "output_type": "stream",
     "text": [
      "[1] \"175.4cm\" \"300미터\" \"80.50km\" \"65.8kg\"  \"350ml\"   \"1.5l\"    \"1.5리터\"\n",
      "[8] \"33평\"   \n",
      "[1] 1 2 3 4 5 6 7 8\n",
      "[1] TRUE TRUE TRUE TRUE TRUE TRUE TRUE TRUE\n"
     ]
    }
   ],
   "source": [
    "item <- '계량'\n",
    "sprintf('정규표현식 검색대상: %s', item)\n",
    "ex[item] %>% print\n",
    "\n",
    "sprintf('정규표현식 검색패턴: %s', src)\n",
    "grep(pattern = src, x = ex[[item]], value = TRUE) %>% print\n",
    "grep(pattern = src, x = ex[[item]]) %>% print\n",
    "grepl(pattern = src, x = ex[[item]]) %>% print"
   ]
  },
  {
   "cell_type": "code",
   "execution_count": 21,
   "metadata": {},
   "outputs": [
    {
     "data": {
      "text/html": [
       "'정규표현식 검색대상: 단위'"
      ],
      "text/latex": [
       "'정규표현식 검색대상: 단위'"
      ],
      "text/markdown": [
       "'정규표현식 검색대상: 단위'"
      ],
      "text/plain": [
       "[1] \"정규표현식 검색대상: 단위\""
      ]
     },
     "metadata": {},
     "output_type": "display_data"
    },
    {
     "name": "stdout",
     "output_type": "stream",
     "text": [
      "$단위\n",
      "[1] \"삼천원\"  \"3천원\"   \"3000원\"  \"3,000원\" \"$30.5\"  \n",
      "\n"
     ]
    },
    {
     "data": {
      "text/html": [
       "'정규표현식 검색패턴: \\\\d'"
      ],
      "text/latex": [
       "'정규표현식 검색패턴: \\textbackslash{}\\textbackslash{}d'"
      ],
      "text/markdown": [
       "'정규표현식 검색패턴: \\\\d'"
      ],
      "text/plain": [
       "[1] \"정규표현식 검색패턴: \\\\d\""
      ]
     },
     "metadata": {},
     "output_type": "display_data"
    },
    {
     "name": "stdout",
     "output_type": "stream",
     "text": [
      "[1] \"3천원\"   \"3000원\"  \"3,000원\" \"$30.5\"  \n",
      "[1] 2 3 4 5\n",
      "[1] FALSE  TRUE  TRUE  TRUE  TRUE\n"
     ]
    }
   ],
   "source": [
    "item <- '단위'\n",
    "sprintf('정규표현식 검색대상: %s', item)\n",
    "ex[item] %>% print\n",
    "\n",
    "sprintf('정규표현식 검색패턴: %s', src)\n",
    "grep(pattern = src, x = ex[[item]], value = TRUE) %>% print\n",
    "grep(pattern = src, x = ex[[item]]) %>% print\n",
    "grepl(pattern = src, x = ex[[item]]) %>% print"
   ]
  },
  {
   "cell_type": "code",
   "execution_count": 22,
   "metadata": {},
   "outputs": [
    {
     "data": {
      "text/html": [
       "'정규표현식 검색대상: 시간'"
      ],
      "text/latex": [
       "'정규표현식 검색대상: 시간'"
      ],
      "text/markdown": [
       "'정규표현식 검색대상: 시간'"
      ],
      "text/plain": [
       "[1] \"정규표현식 검색대상: 시간\""
      ]
     },
     "metadata": {},
     "output_type": "display_data"
    },
    {
     "name": "stdout",
     "output_type": "stream",
     "text": [
      "$시간\n",
      "[1] \"11:30\"      \"22:05\"      \"11:30:45\"   \"11:30 a.m.\" \"11:30 AM\"  \n",
      "\n"
     ]
    },
    {
     "data": {
      "text/html": [
       "'정규표현식 검색패턴: \\\\d'"
      ],
      "text/latex": [
       "'정규표현식 검색패턴: \\textbackslash{}\\textbackslash{}d'"
      ],
      "text/markdown": [
       "'정규표현식 검색패턴: \\\\d'"
      ],
      "text/plain": [
       "[1] \"정규표현식 검색패턴: \\\\d\""
      ]
     },
     "metadata": {},
     "output_type": "display_data"
    },
    {
     "name": "stdout",
     "output_type": "stream",
     "text": [
      "[1] \"11:30\"      \"22:05\"      \"11:30:45\"   \"11:30 a.m.\" \"11:30 AM\"  \n",
      "[1] 1 2 3 4 5\n",
      "[1] TRUE TRUE TRUE TRUE TRUE\n"
     ]
    }
   ],
   "source": [
    "item <- '시간'\n",
    "sprintf('정규표현식 검색대상: %s', item)\n",
    "ex[item] %>% print\n",
    "\n",
    "sprintf('정규표현식 검색패턴: %s', src)\n",
    "grep(pattern = src, x = ex[[item]], value = TRUE) %>% print\n",
    "grep(pattern = src, x = ex[[item]]) %>% print\n",
    "grepl(pattern = src, x = ex[[item]]) %>% print"
   ]
  },
  {
   "cell_type": "code",
   "execution_count": 23,
   "metadata": {},
   "outputs": [
    {
     "data": {
      "text/html": [
       "'정규표현식 검색대상: 날짜'"
      ],
      "text/latex": [
       "'정규표현식 검색대상: 날짜'"
      ],
      "text/markdown": [
       "'정규표현식 검색대상: 날짜'"
      ],
      "text/plain": [
       "[1] \"정규표현식 검색대상: 날짜\""
      ]
     },
     "metadata": {},
     "output_type": "display_data"
    },
    {
     "name": "stdout",
     "output_type": "stream",
     "text": [
      "$날짜\n",
      "[1] \"2019\"              \"2019년\"            \"`19\"              \n",
      "[4] \"2019-03-15\"        \"2019년 3월 15일\"   \"3월15일\"          \n",
      "[7] \"February 22, 2020\" \"Feb. 22, 2020\"     \"2/22/2018\"        \n",
      "\n"
     ]
    },
    {
     "data": {
      "text/html": [
       "'정규표현식 검색패턴: \\\\d'"
      ],
      "text/latex": [
       "'정규표현식 검색패턴: \\textbackslash{}\\textbackslash{}d'"
      ],
      "text/markdown": [
       "'정규표현식 검색패턴: \\\\d'"
      ],
      "text/plain": [
       "[1] \"정규표현식 검색패턴: \\\\d\""
      ]
     },
     "metadata": {},
     "output_type": "display_data"
    },
    {
     "name": "stdout",
     "output_type": "stream",
     "text": [
      "[1] \"2019\"              \"2019년\"            \"`19\"              \n",
      "[4] \"2019-03-15\"        \"2019년 3월 15일\"   \"3월15일\"          \n",
      "[7] \"February 22, 2020\" \"Feb. 22, 2020\"     \"2/22/2018\"        \n",
      "[1] 1 2 3 4 5 6 7 8 9\n",
      "[1] TRUE TRUE TRUE TRUE TRUE TRUE TRUE TRUE TRUE\n"
     ]
    }
   ],
   "source": [
    "item <- '날짜'\n",
    "sprintf('정규표현식 검색대상: %s', item)\n",
    "ex[item] %>% print\n",
    "\n",
    "sprintf('정규표현식 검색패턴: %s', src)\n",
    "grep(pattern = src, x = ex[[item]], value = TRUE) %>% print\n",
    "grep(pattern = src, x = ex[[item]]) %>% print\n",
    "grepl(pattern = src, x = ex[[item]]) %>% print"
   ]
  },
  {
   "cell_type": "code",
   "execution_count": 24,
   "metadata": {},
   "outputs": [
    {
     "data": {
      "text/html": [
       "'정규표현식 검색대상: 결합'"
      ],
      "text/latex": [
       "'정규표현식 검색대상: 결합'"
      ],
      "text/markdown": [
       "'정규표현식 검색대상: 결합'"
      ],
      "text/plain": [
       "[1] \"정규표현식 검색대상: 결합\""
      ]
     },
     "metadata": {},
     "output_type": "display_data"
    },
    {
     "name": "stdout",
     "output_type": "stream",
     "text": [
      "$결합\n",
      " [1] \"빅Py\"     \"알파Go\"   \"R파go\"    \"알파 Go\"  \"알 파 Go\" \"알파_Go\" \n",
      " [7] \"알파:Go\"  \"365일\"    \"3M\"       \"P&G\"      \"300스타\"  \"M16\"     \n",
      "[13] \"M16총\"   \n",
      "\n"
     ]
    },
    {
     "data": {
      "text/html": [
       "'정규표현식 검색패턴: \\\\d'"
      ],
      "text/latex": [
       "'정규표현식 검색패턴: \\textbackslash{}\\textbackslash{}d'"
      ],
      "text/markdown": [
       "'정규표현식 검색패턴: \\\\d'"
      ],
      "text/plain": [
       "[1] \"정규표현식 검색패턴: \\\\d\""
      ]
     },
     "metadata": {},
     "output_type": "display_data"
    },
    {
     "name": "stdout",
     "output_type": "stream",
     "text": [
      "[1] \"365일\"   \"3M\"      \"300스타\" \"M16\"     \"M16총\"  \n",
      "[1]  8  9 11 12 13\n",
      " [1] FALSE FALSE FALSE FALSE FALSE FALSE FALSE  TRUE  TRUE FALSE  TRUE  TRUE\n",
      "[13]  TRUE\n"
     ]
    }
   ],
   "source": [
    "item <- '결합'\n",
    "sprintf('정규표현식 검색대상: %s', item)\n",
    "ex[item] %>% print\n",
    "\n",
    "sprintf('정규표현식 검색패턴: %s', src)\n",
    "grep(pattern = src, x = ex[[item]], value = TRUE) %>% print\n",
    "grep(pattern = src, x = ex[[item]]) %>% print\n",
    "grepl(pattern = src, x = ex[[item]]) %>% print"
   ]
  },
  {
   "cell_type": "code",
   "execution_count": 25,
   "metadata": {},
   "outputs": [
    {
     "data": {
      "text/html": [
       "'정규표현식 검색대상: 복합'"
      ],
      "text/latex": [
       "'정규표현식 검색대상: 복합'"
      ],
      "text/markdown": [
       "'정규표현식 검색대상: 복합'"
      ],
      "text/plain": [
       "[1] \"정규표현식 검색대상: 복합\""
      ]
     },
     "metadata": {},
     "output_type": "display_data"
    },
    {
     "name": "stdout",
     "output_type": "stream",
     "text": [
      "$복합\n",
      " [1] \"jane@my.com\"    \"www.python.org\" \"<h2> </h2>\"     \"[3]\"           \n",
      " [5] \"[[3]]\"          \"km(Kilo-meter)\" \"주의!\"          \"(경고!)\"       \n",
      " [9] \"\\\"한국\\\"\"       \"'한국'\"        \n",
      "\n"
     ]
    },
    {
     "data": {
      "text/html": [
       "'정규표현식 검색패턴: \\\\d'"
      ],
      "text/latex": [
       "'정규표현식 검색패턴: \\textbackslash{}\\textbackslash{}d'"
      ],
      "text/markdown": [
       "'정규표현식 검색패턴: \\\\d'"
      ],
      "text/plain": [
       "[1] \"정규표현식 검색패턴: \\\\d\""
      ]
     },
     "metadata": {},
     "output_type": "display_data"
    },
    {
     "name": "stdout",
     "output_type": "stream",
     "text": [
      "[1] \"<h2> </h2>\" \"[3]\"        \"[[3]]\"     \n",
      "[1] 3 4 5\n",
      " [1] FALSE FALSE  TRUE  TRUE  TRUE FALSE FALSE FALSE FALSE FALSE\n"
     ]
    }
   ],
   "source": [
    "item <- '복합'\n",
    "sprintf('정규표현식 검색대상: %s', item)\n",
    "ex[item] %>% print\n",
    "\n",
    "sprintf('정규표현식 검색패턴: %s', src)\n",
    "grep(pattern = src, x = ex[[item]], value = TRUE) %>% print\n",
    "grep(pattern = src, x = ex[[item]]) %>% print\n",
    "grepl(pattern = src, x = ex[[item]]) %>% print"
   ]
  },
  {
   "cell_type": "code",
   "execution_count": 26,
   "metadata": {},
   "outputs": [
    {
     "data": {
      "text/html": [
       "'정규표현식 검색대상: 범위'"
      ],
      "text/latex": [
       "'정규표현식 검색대상: 범위'"
      ],
      "text/markdown": [
       "'정규표현식 검색대상: 범위'"
      ],
      "text/plain": [
       "[1] \"정규표현식 검색대상: 범위\""
      ]
     },
     "metadata": {},
     "output_type": "display_data"
    },
    {
     "name": "stdout",
     "output_type": "stream",
     "text": [
      "$범위\n",
      "[1] \"3~17\"             \"3 ~ 17\"           \"p.3~17\"           \"3-17\"            \n",
      "[5] \"3 - 17\"           \"p.3-p.17\"         \"3페이지~17페이지\" \"[5], [8], [20]\"  \n",
      "[9] \"한국, 미국, 영국\"\n",
      "\n"
     ]
    },
    {
     "data": {
      "text/html": [
       "'정규표현식 검색패턴: \\\\d'"
      ],
      "text/latex": [
       "'정규표현식 검색패턴: \\textbackslash{}\\textbackslash{}d'"
      ],
      "text/markdown": [
       "'정규표현식 검색패턴: \\\\d'"
      ],
      "text/plain": [
       "[1] \"정규표현식 검색패턴: \\\\d\""
      ]
     },
     "metadata": {},
     "output_type": "display_data"
    },
    {
     "name": "stdout",
     "output_type": "stream",
     "text": [
      "[1] \"3~17\"             \"3 ~ 17\"           \"p.3~17\"           \"3-17\"            \n",
      "[5] \"3 - 17\"           \"p.3-p.17\"         \"3페이지~17페이지\" \"[5], [8], [20]\"  \n",
      "[1] 1 2 3 4 5 6 7 8\n",
      "[1]  TRUE  TRUE  TRUE  TRUE  TRUE  TRUE  TRUE  TRUE FALSE\n"
     ]
    }
   ],
   "source": [
    "item <- '범위'\n",
    "sprintf('정규표현식 검색대상: %s', item)\n",
    "ex[item] %>% print\n",
    "\n",
    "sprintf('정규표현식 검색패턴: %s', src)\n",
    "grep(pattern = src, x = ex[[item]], value = TRUE) %>% print\n",
    "grep(pattern = src, x = ex[[item]]) %>% print\n",
    "grepl(pattern = src, x = ex[[item]]) %>% print"
   ]
  },
  {
   "cell_type": "markdown",
   "metadata": {},
   "source": [
    "# <font color = 'blue'>특수기호와 탈출문자 검색을 위한 정규표현식</font>"
   ]
  },
  {
   "cell_type": "markdown",
   "metadata": {},
   "source": [
    "## 특수기호와 탈출문자 검색을 위한 정규표현식 작성방법"
   ]
  },
  {
   "cell_type": "markdown",
   "metadata": {},
   "source": [
    "### 텍스트셋에 특수기호 포함여부 검색\n",
    "\n",
    "* <font color = 'red'>[:punct:]</font> --> ! \" # $ % & ’ ( ) * + , - . / : ; < = > ? @ [  ] ^ _ ` { | } ~ --> pattern = [[:punct:]]\n",
    "* <font color = 'red'>[:xdigit:]</font> --> 16진수, [0-9A-Fa-f] --> pattern = [[:xdigit:]]"
   ]
  },
  {
   "cell_type": "markdown",
   "metadata": {},
   "source": [
    "### 텍스트셋에 제어, 간격, 공백 문자 포함여부 검색\n",
    "* <font color = 'red'>[:blank:]</font> --> 간격문자 - 스페이스바(spacebar) 또는 탭키(Tab) 등 --> pattern = [[:blank:]]\n",
    "* <font color = 'red'>[:cntrl:]</font> --> 제어문자 - 캐리지리턴(CR), 라인피드(LF) --> pattern = [[:cntrl:]]\n",
    "* <font color = 'red'>[:space:]</font> --> 공백문자 - 스페이스바(spacebar), 탭키(Tab), 캐리지리턴(CR), 라인피드(LF), 라인끝(EOL) 등 --> pattern = [[:space:]]\n",
    "<br>- CR(Carraiage Return): (\\r)는 커서를 다음 줄로 진행하지 않고 행의 시작 부분으로 이동\n",
    "<br>- LF(Line Feed): (\\n)는 행의 시작 부분으로 돌아 가지 않고 커서를 다음 행으로 이동\n",
    "<br>- EOL(End of Line): (\\r\\n)는 두개의 ASCII 문자이며 CR과 LF 의 조합<pre></pre>\n",
    "* <font color = 'red'>\\s</font> -> pattern = \\\\\\\\s\n",
    "* <font color = 'red'>[ \\t\\n\\r\\f\\v\\e]</font> -> pattern = [ \\t\\n\\r\\f\\v\\e]\n",
    "<pre></pre>\n",
    "\n",
    "\n",
    "* (탈출문자 아닌패턴) <font color = 'red'>\\S</font> -> pattern = \\\\\\\\S\n",
    "* (탈출문자 아닌패턴) <font color = 'red'>^ \\t\\n\\r\\f\\v\\e</font> -> pattern = [^ \\t\\n\\r\\f\\v\\e]"
   ]
  },
  {
   "cell_type": "markdown",
   "metadata": {},
   "source": [
    "### 텍스트셋에 모든 유형 문자 포함여부 검색\n",
    "* [:graph:] : 그래픽 (사람이 읽을 수 있는) 문자, 동등한 표현 [[:alnum:][:punct:]]\n",
    "* [:print:] : 출력가능한 문자, 동등한 표현 [[:alnum:][:punct:]\\\\s]"
   ]
  },
  {
   "cell_type": "markdown",
   "metadata": {},
   "source": [
    "## 특수기호와 탈출문자 검색을 위한 정규표현식 검색실습"
   ]
  },
  {
   "cell_type": "code",
   "execution_count": 27,
   "metadata": {},
   "outputs": [],
   "source": [
    "# 정규표현식 검색패턴 설정\n",
    "src = '\\\\s'"
   ]
  },
  {
   "cell_type": "code",
   "execution_count": 28,
   "metadata": {},
   "outputs": [
    {
     "data": {
      "text/html": [
       "TRUE"
      ],
      "text/latex": [
       "TRUE"
      ],
      "text/markdown": [
       "TRUE"
      ],
      "text/plain": [
       "[1] TRUE"
      ]
     },
     "metadata": {},
     "output_type": "display_data"
    }
   ],
   "source": [
    "# 정규표현식 검색패턴 동일성 비교\n",
    "a <- lapply(ex, grep, pattern = '\\\\s', value = TRUE)\n",
    "b <- lapply(ex, grep, pattern = '[[:space:]]', value = TRUE)\n",
    "\n",
    "identical(a, b)"
   ]
  },
  {
   "cell_type": "markdown",
   "metadata": {},
   "source": [
    "### 검색패턴 포함여부를 요소별 논리값으로"
   ]
  },
  {
   "cell_type": "code",
   "execution_count": 29,
   "metadata": {
    "scrolled": true
   },
   "outputs": [
    {
     "data": {
      "text/html": [
       "'정규표현식 검색패턴: \\\\s'"
      ],
      "text/latex": [
       "'정규표현식 검색패턴: \\textbackslash{}\\textbackslash{}s'"
      ],
      "text/markdown": [
       "'정규표현식 검색패턴: \\\\s'"
      ],
      "text/plain": [
       "[1] \"정규표현식 검색패턴: \\\\s\""
      ]
     },
     "metadata": {},
     "output_type": "display_data"
    },
    {
     "data": {
      "text/html": [
       "<dl>\n",
       "\t<dt>$영어</dt>\n",
       "\t\t<dd><ol class=list-inline>\n",
       "\t<li>FALSE</li>\n",
       "\t<li>FALSE</li>\n",
       "\t<li>FALSE</li>\n",
       "\t<li>FALSE</li>\n",
       "\t<li>FALSE</li>\n",
       "\t<li>FALSE</li>\n",
       "\t<li>FALSE</li>\n",
       "\t<li>FALSE</li>\n",
       "\t<li>FALSE</li>\n",
       "\t<li>FALSE</li>\n",
       "\t<li>FALSE</li>\n",
       "</ol>\n",
       "</dd>\n",
       "\t<dt>$한글</dt>\n",
       "\t\t<dd><ol class=list-inline>\n",
       "\t<li>FALSE</li>\n",
       "\t<li>FALSE</li>\n",
       "\t<li>FALSE</li>\n",
       "\t<li>FALSE</li>\n",
       "\t<li>FALSE</li>\n",
       "\t<li>FALSE</li>\n",
       "\t<li>FALSE</li>\n",
       "\t<li>FALSE</li>\n",
       "\t<li>FALSE</li>\n",
       "</ol>\n",
       "</dd>\n",
       "\t<dt>$숫자</dt>\n",
       "\t\t<dd><ol class=list-inline>\n",
       "\t<li>FALSE</li>\n",
       "\t<li>FALSE</li>\n",
       "\t<li>FALSE</li>\n",
       "\t<li>FALSE</li>\n",
       "\t<li>FALSE</li>\n",
       "\t<li>FALSE</li>\n",
       "\t<li>FALSE</li>\n",
       "</ol>\n",
       "</dd>\n",
       "\t<dt>$기호</dt>\n",
       "\t\t<dd><ol class=list-inline>\n",
       "\t<li>FALSE</li>\n",
       "\t<li>FALSE</li>\n",
       "\t<li>FALSE</li>\n",
       "\t<li>FALSE</li>\n",
       "\t<li>FALSE</li>\n",
       "\t<li>FALSE</li>\n",
       "\t<li>TRUE</li>\n",
       "\t<li>TRUE</li>\n",
       "</ol>\n",
       "</dd>\n",
       "\t<dt>$탈출</dt>\n",
       "\t\t<dd><ol class=list-inline>\n",
       "\t<li>FALSE</li>\n",
       "\t<li>FALSE</li>\n",
       "\t<li>TRUE</li>\n",
       "\t<li>TRUE</li>\n",
       "\t<li>FALSE</li>\n",
       "\t<li>FALSE</li>\n",
       "\t<li>FALSE</li>\n",
       "\t<li>FALSE</li>\n",
       "\t<li>FALSE</li>\n",
       "\t<li>FALSE</li>\n",
       "\t<li>FALSE</li>\n",
       "\t<li>FALSE</li>\n",
       "\t<li>FALSE</li>\n",
       "\t<li>FALSE</li>\n",
       "</ol>\n",
       "</dd>\n",
       "\t<dt>$전화</dt>\n",
       "\t\t<dd><ol class=list-inline>\n",
       "\t<li>FALSE</li>\n",
       "\t<li>TRUE</li>\n",
       "\t<li>FALSE</li>\n",
       "\t<li>FALSE</li>\n",
       "\t<li>FALSE</li>\n",
       "\t<li>FALSE</li>\n",
       "\t<li>FALSE</li>\n",
       "</ol>\n",
       "</dd>\n",
       "\t<dt>$계량</dt>\n",
       "\t\t<dd><ol class=list-inline>\n",
       "\t<li>FALSE</li>\n",
       "\t<li>FALSE</li>\n",
       "\t<li>FALSE</li>\n",
       "\t<li>FALSE</li>\n",
       "\t<li>FALSE</li>\n",
       "\t<li>FALSE</li>\n",
       "\t<li>FALSE</li>\n",
       "\t<li>FALSE</li>\n",
       "</ol>\n",
       "</dd>\n",
       "\t<dt>$단위</dt>\n",
       "\t\t<dd><ol class=list-inline>\n",
       "\t<li>FALSE</li>\n",
       "\t<li>FALSE</li>\n",
       "\t<li>FALSE</li>\n",
       "\t<li>FALSE</li>\n",
       "\t<li>FALSE</li>\n",
       "</ol>\n",
       "</dd>\n",
       "\t<dt>$시간</dt>\n",
       "\t\t<dd><ol class=list-inline>\n",
       "\t<li>FALSE</li>\n",
       "\t<li>FALSE</li>\n",
       "\t<li>FALSE</li>\n",
       "\t<li>TRUE</li>\n",
       "\t<li>TRUE</li>\n",
       "</ol>\n",
       "</dd>\n",
       "\t<dt>$날짜</dt>\n",
       "\t\t<dd><ol class=list-inline>\n",
       "\t<li>FALSE</li>\n",
       "\t<li>FALSE</li>\n",
       "\t<li>FALSE</li>\n",
       "\t<li>FALSE</li>\n",
       "\t<li>TRUE</li>\n",
       "\t<li>FALSE</li>\n",
       "\t<li>TRUE</li>\n",
       "\t<li>TRUE</li>\n",
       "\t<li>FALSE</li>\n",
       "</ol>\n",
       "</dd>\n",
       "\t<dt>$결합</dt>\n",
       "\t\t<dd><ol class=list-inline>\n",
       "\t<li>FALSE</li>\n",
       "\t<li>FALSE</li>\n",
       "\t<li>FALSE</li>\n",
       "\t<li>TRUE</li>\n",
       "\t<li>TRUE</li>\n",
       "\t<li>FALSE</li>\n",
       "\t<li>FALSE</li>\n",
       "\t<li>FALSE</li>\n",
       "\t<li>FALSE</li>\n",
       "\t<li>FALSE</li>\n",
       "\t<li>FALSE</li>\n",
       "\t<li>FALSE</li>\n",
       "\t<li>FALSE</li>\n",
       "</ol>\n",
       "</dd>\n",
       "\t<dt>$간격</dt>\n",
       "\t\t<dd><ol class=list-inline>\n",
       "\t<li>TRUE</li>\n",
       "\t<li>TRUE</li>\n",
       "\t<li>TRUE</li>\n",
       "\t<li>FALSE</li>\n",
       "\t<li>TRUE</li>\n",
       "</ol>\n",
       "</dd>\n",
       "\t<dt>$복합</dt>\n",
       "\t\t<dd><ol class=list-inline>\n",
       "\t<li>FALSE</li>\n",
       "\t<li>FALSE</li>\n",
       "\t<li>TRUE</li>\n",
       "\t<li>FALSE</li>\n",
       "\t<li>FALSE</li>\n",
       "\t<li>FALSE</li>\n",
       "\t<li>FALSE</li>\n",
       "\t<li>FALSE</li>\n",
       "\t<li>FALSE</li>\n",
       "\t<li>FALSE</li>\n",
       "</ol>\n",
       "</dd>\n",
       "\t<dt>$범위</dt>\n",
       "\t\t<dd><ol class=list-inline>\n",
       "\t<li>FALSE</li>\n",
       "\t<li>TRUE</li>\n",
       "\t<li>FALSE</li>\n",
       "\t<li>FALSE</li>\n",
       "\t<li>TRUE</li>\n",
       "\t<li>FALSE</li>\n",
       "\t<li>FALSE</li>\n",
       "\t<li>TRUE</li>\n",
       "\t<li>TRUE</li>\n",
       "</ol>\n",
       "</dd>\n",
       "</dl>\n"
      ],
      "text/latex": [
       "\\begin{description}\n",
       "\\item[\\$영어] \\begin{enumerate*}\n",
       "\\item FALSE\n",
       "\\item FALSE\n",
       "\\item FALSE\n",
       "\\item FALSE\n",
       "\\item FALSE\n",
       "\\item FALSE\n",
       "\\item FALSE\n",
       "\\item FALSE\n",
       "\\item FALSE\n",
       "\\item FALSE\n",
       "\\item FALSE\n",
       "\\end{enumerate*}\n",
       "\n",
       "\\item[\\$한글] \\begin{enumerate*}\n",
       "\\item FALSE\n",
       "\\item FALSE\n",
       "\\item FALSE\n",
       "\\item FALSE\n",
       "\\item FALSE\n",
       "\\item FALSE\n",
       "\\item FALSE\n",
       "\\item FALSE\n",
       "\\item FALSE\n",
       "\\end{enumerate*}\n",
       "\n",
       "\\item[\\$숫자] \\begin{enumerate*}\n",
       "\\item FALSE\n",
       "\\item FALSE\n",
       "\\item FALSE\n",
       "\\item FALSE\n",
       "\\item FALSE\n",
       "\\item FALSE\n",
       "\\item FALSE\n",
       "\\end{enumerate*}\n",
       "\n",
       "\\item[\\$기호] \\begin{enumerate*}\n",
       "\\item FALSE\n",
       "\\item FALSE\n",
       "\\item FALSE\n",
       "\\item FALSE\n",
       "\\item FALSE\n",
       "\\item FALSE\n",
       "\\item TRUE\n",
       "\\item TRUE\n",
       "\\end{enumerate*}\n",
       "\n",
       "\\item[\\$탈출] \\begin{enumerate*}\n",
       "\\item FALSE\n",
       "\\item FALSE\n",
       "\\item TRUE\n",
       "\\item TRUE\n",
       "\\item FALSE\n",
       "\\item FALSE\n",
       "\\item FALSE\n",
       "\\item FALSE\n",
       "\\item FALSE\n",
       "\\item FALSE\n",
       "\\item FALSE\n",
       "\\item FALSE\n",
       "\\item FALSE\n",
       "\\item FALSE\n",
       "\\end{enumerate*}\n",
       "\n",
       "\\item[\\$전화] \\begin{enumerate*}\n",
       "\\item FALSE\n",
       "\\item TRUE\n",
       "\\item FALSE\n",
       "\\item FALSE\n",
       "\\item FALSE\n",
       "\\item FALSE\n",
       "\\item FALSE\n",
       "\\end{enumerate*}\n",
       "\n",
       "\\item[\\$계량] \\begin{enumerate*}\n",
       "\\item FALSE\n",
       "\\item FALSE\n",
       "\\item FALSE\n",
       "\\item FALSE\n",
       "\\item FALSE\n",
       "\\item FALSE\n",
       "\\item FALSE\n",
       "\\item FALSE\n",
       "\\end{enumerate*}\n",
       "\n",
       "\\item[\\$단위] \\begin{enumerate*}\n",
       "\\item FALSE\n",
       "\\item FALSE\n",
       "\\item FALSE\n",
       "\\item FALSE\n",
       "\\item FALSE\n",
       "\\end{enumerate*}\n",
       "\n",
       "\\item[\\$시간] \\begin{enumerate*}\n",
       "\\item FALSE\n",
       "\\item FALSE\n",
       "\\item FALSE\n",
       "\\item TRUE\n",
       "\\item TRUE\n",
       "\\end{enumerate*}\n",
       "\n",
       "\\item[\\$날짜] \\begin{enumerate*}\n",
       "\\item FALSE\n",
       "\\item FALSE\n",
       "\\item FALSE\n",
       "\\item FALSE\n",
       "\\item TRUE\n",
       "\\item FALSE\n",
       "\\item TRUE\n",
       "\\item TRUE\n",
       "\\item FALSE\n",
       "\\end{enumerate*}\n",
       "\n",
       "\\item[\\$결합] \\begin{enumerate*}\n",
       "\\item FALSE\n",
       "\\item FALSE\n",
       "\\item FALSE\n",
       "\\item TRUE\n",
       "\\item TRUE\n",
       "\\item FALSE\n",
       "\\item FALSE\n",
       "\\item FALSE\n",
       "\\item FALSE\n",
       "\\item FALSE\n",
       "\\item FALSE\n",
       "\\item FALSE\n",
       "\\item FALSE\n",
       "\\end{enumerate*}\n",
       "\n",
       "\\item[\\$간격] \\begin{enumerate*}\n",
       "\\item TRUE\n",
       "\\item TRUE\n",
       "\\item TRUE\n",
       "\\item FALSE\n",
       "\\item TRUE\n",
       "\\end{enumerate*}\n",
       "\n",
       "\\item[\\$복합] \\begin{enumerate*}\n",
       "\\item FALSE\n",
       "\\item FALSE\n",
       "\\item TRUE\n",
       "\\item FALSE\n",
       "\\item FALSE\n",
       "\\item FALSE\n",
       "\\item FALSE\n",
       "\\item FALSE\n",
       "\\item FALSE\n",
       "\\item FALSE\n",
       "\\end{enumerate*}\n",
       "\n",
       "\\item[\\$범위] \\begin{enumerate*}\n",
       "\\item FALSE\n",
       "\\item TRUE\n",
       "\\item FALSE\n",
       "\\item FALSE\n",
       "\\item TRUE\n",
       "\\item FALSE\n",
       "\\item FALSE\n",
       "\\item TRUE\n",
       "\\item TRUE\n",
       "\\end{enumerate*}\n",
       "\n",
       "\\end{description}\n"
      ],
      "text/markdown": [
       "$영어\n",
       ":   1. FALSE\n",
       "2. FALSE\n",
       "3. FALSE\n",
       "4. FALSE\n",
       "5. FALSE\n",
       "6. FALSE\n",
       "7. FALSE\n",
       "8. FALSE\n",
       "9. FALSE\n",
       "10. FALSE\n",
       "11. FALSE\n",
       "\n",
       "\n",
       "\n",
       "$한글\n",
       ":   1. FALSE\n",
       "2. FALSE\n",
       "3. FALSE\n",
       "4. FALSE\n",
       "5. FALSE\n",
       "6. FALSE\n",
       "7. FALSE\n",
       "8. FALSE\n",
       "9. FALSE\n",
       "\n",
       "\n",
       "\n",
       "$숫자\n",
       ":   1. FALSE\n",
       "2. FALSE\n",
       "3. FALSE\n",
       "4. FALSE\n",
       "5. FALSE\n",
       "6. FALSE\n",
       "7. FALSE\n",
       "\n",
       "\n",
       "\n",
       "$기호\n",
       ":   1. FALSE\n",
       "2. FALSE\n",
       "3. FALSE\n",
       "4. FALSE\n",
       "5. FALSE\n",
       "6. FALSE\n",
       "7. TRUE\n",
       "8. TRUE\n",
       "\n",
       "\n",
       "\n",
       "$탈출\n",
       ":   1. FALSE\n",
       "2. FALSE\n",
       "3. TRUE\n",
       "4. TRUE\n",
       "5. FALSE\n",
       "6. FALSE\n",
       "7. FALSE\n",
       "8. FALSE\n",
       "9. FALSE\n",
       "10. FALSE\n",
       "11. FALSE\n",
       "12. FALSE\n",
       "13. FALSE\n",
       "14. FALSE\n",
       "\n",
       "\n",
       "\n",
       "$전화\n",
       ":   1. FALSE\n",
       "2. TRUE\n",
       "3. FALSE\n",
       "4. FALSE\n",
       "5. FALSE\n",
       "6. FALSE\n",
       "7. FALSE\n",
       "\n",
       "\n",
       "\n",
       "$계량\n",
       ":   1. FALSE\n",
       "2. FALSE\n",
       "3. FALSE\n",
       "4. FALSE\n",
       "5. FALSE\n",
       "6. FALSE\n",
       "7. FALSE\n",
       "8. FALSE\n",
       "\n",
       "\n",
       "\n",
       "$단위\n",
       ":   1. FALSE\n",
       "2. FALSE\n",
       "3. FALSE\n",
       "4. FALSE\n",
       "5. FALSE\n",
       "\n",
       "\n",
       "\n",
       "$시간\n",
       ":   1. FALSE\n",
       "2. FALSE\n",
       "3. FALSE\n",
       "4. TRUE\n",
       "5. TRUE\n",
       "\n",
       "\n",
       "\n",
       "$날짜\n",
       ":   1. FALSE\n",
       "2. FALSE\n",
       "3. FALSE\n",
       "4. FALSE\n",
       "5. TRUE\n",
       "6. FALSE\n",
       "7. TRUE\n",
       "8. TRUE\n",
       "9. FALSE\n",
       "\n",
       "\n",
       "\n",
       "$결합\n",
       ":   1. FALSE\n",
       "2. FALSE\n",
       "3. FALSE\n",
       "4. TRUE\n",
       "5. TRUE\n",
       "6. FALSE\n",
       "7. FALSE\n",
       "8. FALSE\n",
       "9. FALSE\n",
       "10. FALSE\n",
       "11. FALSE\n",
       "12. FALSE\n",
       "13. FALSE\n",
       "\n",
       "\n",
       "\n",
       "$간격\n",
       ":   1. TRUE\n",
       "2. TRUE\n",
       "3. TRUE\n",
       "4. FALSE\n",
       "5. TRUE\n",
       "\n",
       "\n",
       "\n",
       "$복합\n",
       ":   1. FALSE\n",
       "2. FALSE\n",
       "3. TRUE\n",
       "4. FALSE\n",
       "5. FALSE\n",
       "6. FALSE\n",
       "7. FALSE\n",
       "8. FALSE\n",
       "9. FALSE\n",
       "10. FALSE\n",
       "\n",
       "\n",
       "\n",
       "$범위\n",
       ":   1. FALSE\n",
       "2. TRUE\n",
       "3. FALSE\n",
       "4. FALSE\n",
       "5. TRUE\n",
       "6. FALSE\n",
       "7. FALSE\n",
       "8. TRUE\n",
       "9. TRUE\n",
       "\n",
       "\n",
       "\n",
       "\n",
       "\n"
      ],
      "text/plain": [
       "$영어\n",
       " [1] FALSE FALSE FALSE FALSE FALSE FALSE FALSE FALSE FALSE FALSE FALSE\n",
       "\n",
       "$한글\n",
       "[1] FALSE FALSE FALSE FALSE FALSE FALSE FALSE FALSE FALSE\n",
       "\n",
       "$숫자\n",
       "[1] FALSE FALSE FALSE FALSE FALSE FALSE FALSE\n",
       "\n",
       "$기호\n",
       "[1] FALSE FALSE FALSE FALSE FALSE FALSE  TRUE  TRUE\n",
       "\n",
       "$탈출\n",
       " [1] FALSE FALSE  TRUE  TRUE FALSE FALSE FALSE FALSE FALSE FALSE FALSE FALSE\n",
       "[13] FALSE FALSE\n",
       "\n",
       "$전화\n",
       "[1] FALSE  TRUE FALSE FALSE FALSE FALSE FALSE\n",
       "\n",
       "$계량\n",
       "[1] FALSE FALSE FALSE FALSE FALSE FALSE FALSE FALSE\n",
       "\n",
       "$단위\n",
       "[1] FALSE FALSE FALSE FALSE FALSE\n",
       "\n",
       "$시간\n",
       "[1] FALSE FALSE FALSE  TRUE  TRUE\n",
       "\n",
       "$날짜\n",
       "[1] FALSE FALSE FALSE FALSE  TRUE FALSE  TRUE  TRUE FALSE\n",
       "\n",
       "$결합\n",
       " [1] FALSE FALSE FALSE  TRUE  TRUE FALSE FALSE FALSE FALSE FALSE FALSE FALSE\n",
       "[13] FALSE\n",
       "\n",
       "$간격\n",
       "[1]  TRUE  TRUE  TRUE FALSE  TRUE\n",
       "\n",
       "$복합\n",
       " [1] FALSE FALSE  TRUE FALSE FALSE FALSE FALSE FALSE FALSE FALSE\n",
       "\n",
       "$범위\n",
       "[1] FALSE  TRUE FALSE FALSE  TRUE FALSE FALSE  TRUE  TRUE\n"
      ]
     },
     "metadata": {},
     "output_type": "display_data"
    }
   ],
   "source": [
    "# 텍스트셋 안에 검색패턴 포함여부를 해당요소별 논리값으로 도출 \n",
    "# - 검색패턴이 들어 있으면 TRUE, 없으면 FALSE 출력\n",
    "\n",
    "sprintf('정규표현식 검색패턴: %s', src)\n",
    "lapply(ex, grepl, pattern = src)\n",
    "# - map(ex, str_detect, pattern = src) 동일 검색결과 "
   ]
  },
  {
   "cell_type": "markdown",
   "metadata": {},
   "source": [
    "### 검색패턴 포함여부를 요소별 인덱스번호로"
   ]
  },
  {
   "cell_type": "code",
   "execution_count": 30,
   "metadata": {
    "scrolled": false
   },
   "outputs": [
    {
     "data": {
      "text/html": [
       "'정규표현식 검색패턴: \\\\s'"
      ],
      "text/latex": [
       "'정규표현식 검색패턴: \\textbackslash{}\\textbackslash{}s'"
      ],
      "text/markdown": [
       "'정규표현식 검색패턴: \\\\s'"
      ],
      "text/plain": [
       "[1] \"정규표현식 검색패턴: \\\\s\""
      ]
     },
     "metadata": {},
     "output_type": "display_data"
    },
    {
     "data": {
      "text/html": [
       "<dl>\n",
       "\t<dt>$영어</dt>\n",
       "\t\t<dd></dd>\n",
       "\t<dt>$한글</dt>\n",
       "\t\t<dd></dd>\n",
       "\t<dt>$숫자</dt>\n",
       "\t\t<dd></dd>\n",
       "\t<dt>$기호</dt>\n",
       "\t\t<dd><ol class=list-inline>\n",
       "\t<li>7</li>\n",
       "\t<li>8</li>\n",
       "</ol>\n",
       "</dd>\n",
       "\t<dt>$탈출</dt>\n",
       "\t\t<dd><ol class=list-inline>\n",
       "\t<li>3</li>\n",
       "\t<li>4</li>\n",
       "</ol>\n",
       "</dd>\n",
       "\t<dt>$전화</dt>\n",
       "\t\t<dd>2</dd>\n",
       "\t<dt>$계량</dt>\n",
       "\t\t<dd></dd>\n",
       "\t<dt>$단위</dt>\n",
       "\t\t<dd></dd>\n",
       "\t<dt>$시간</dt>\n",
       "\t\t<dd><ol class=list-inline>\n",
       "\t<li>4</li>\n",
       "\t<li>5</li>\n",
       "</ol>\n",
       "</dd>\n",
       "\t<dt>$날짜</dt>\n",
       "\t\t<dd><ol class=list-inline>\n",
       "\t<li>5</li>\n",
       "\t<li>7</li>\n",
       "\t<li>8</li>\n",
       "</ol>\n",
       "</dd>\n",
       "\t<dt>$결합</dt>\n",
       "\t\t<dd><ol class=list-inline>\n",
       "\t<li>4</li>\n",
       "\t<li>5</li>\n",
       "</ol>\n",
       "</dd>\n",
       "\t<dt>$간격</dt>\n",
       "\t\t<dd><ol class=list-inline>\n",
       "\t<li>1</li>\n",
       "\t<li>2</li>\n",
       "\t<li>3</li>\n",
       "\t<li>5</li>\n",
       "</ol>\n",
       "</dd>\n",
       "\t<dt>$복합</dt>\n",
       "\t\t<dd>3</dd>\n",
       "\t<dt>$범위</dt>\n",
       "\t\t<dd><ol class=list-inline>\n",
       "\t<li>2</li>\n",
       "\t<li>5</li>\n",
       "\t<li>8</li>\n",
       "\t<li>9</li>\n",
       "</ol>\n",
       "</dd>\n",
       "</dl>\n"
      ],
      "text/latex": [
       "\\begin{description}\n",
       "\\item[\\$영어] \n",
       "\\item[\\$한글] \n",
       "\\item[\\$숫자] \n",
       "\\item[\\$기호] \\begin{enumerate*}\n",
       "\\item 7\n",
       "\\item 8\n",
       "\\end{enumerate*}\n",
       "\n",
       "\\item[\\$탈출] \\begin{enumerate*}\n",
       "\\item 3\n",
       "\\item 4\n",
       "\\end{enumerate*}\n",
       "\n",
       "\\item[\\$전화] 2\n",
       "\\item[\\$계량] \n",
       "\\item[\\$단위] \n",
       "\\item[\\$시간] \\begin{enumerate*}\n",
       "\\item 4\n",
       "\\item 5\n",
       "\\end{enumerate*}\n",
       "\n",
       "\\item[\\$날짜] \\begin{enumerate*}\n",
       "\\item 5\n",
       "\\item 7\n",
       "\\item 8\n",
       "\\end{enumerate*}\n",
       "\n",
       "\\item[\\$결합] \\begin{enumerate*}\n",
       "\\item 4\n",
       "\\item 5\n",
       "\\end{enumerate*}\n",
       "\n",
       "\\item[\\$간격] \\begin{enumerate*}\n",
       "\\item 1\n",
       "\\item 2\n",
       "\\item 3\n",
       "\\item 5\n",
       "\\end{enumerate*}\n",
       "\n",
       "\\item[\\$복합] 3\n",
       "\\item[\\$범위] \\begin{enumerate*}\n",
       "\\item 2\n",
       "\\item 5\n",
       "\\item 8\n",
       "\\item 9\n",
       "\\end{enumerate*}\n",
       "\n",
       "\\end{description}\n"
      ],
      "text/markdown": [
       "$영어\n",
       ":   \n",
       "$한글\n",
       ":   \n",
       "$숫자\n",
       ":   \n",
       "$기호\n",
       ":   1. 7\n",
       "2. 8\n",
       "\n",
       "\n",
       "\n",
       "$탈출\n",
       ":   1. 3\n",
       "2. 4\n",
       "\n",
       "\n",
       "\n",
       "$전화\n",
       ":   2\n",
       "$계량\n",
       ":   \n",
       "$단위\n",
       ":   \n",
       "$시간\n",
       ":   1. 4\n",
       "2. 5\n",
       "\n",
       "\n",
       "\n",
       "$날짜\n",
       ":   1. 5\n",
       "2. 7\n",
       "3. 8\n",
       "\n",
       "\n",
       "\n",
       "$결합\n",
       ":   1. 4\n",
       "2. 5\n",
       "\n",
       "\n",
       "\n",
       "$간격\n",
       ":   1. 1\n",
       "2. 2\n",
       "3. 3\n",
       "4. 5\n",
       "\n",
       "\n",
       "\n",
       "$복합\n",
       ":   3\n",
       "$범위\n",
       ":   1. 2\n",
       "2. 5\n",
       "3. 8\n",
       "4. 9\n",
       "\n",
       "\n",
       "\n",
       "\n",
       "\n"
      ],
      "text/plain": [
       "$영어\n",
       "integer(0)\n",
       "\n",
       "$한글\n",
       "integer(0)\n",
       "\n",
       "$숫자\n",
       "integer(0)\n",
       "\n",
       "$기호\n",
       "[1] 7 8\n",
       "\n",
       "$탈출\n",
       "[1] 3 4\n",
       "\n",
       "$전화\n",
       "[1] 2\n",
       "\n",
       "$계량\n",
       "integer(0)\n",
       "\n",
       "$단위\n",
       "integer(0)\n",
       "\n",
       "$시간\n",
       "[1] 4 5\n",
       "\n",
       "$날짜\n",
       "[1] 5 7 8\n",
       "\n",
       "$결합\n",
       "[1] 4 5\n",
       "\n",
       "$간격\n",
       "[1] 1 2 3 5\n",
       "\n",
       "$복합\n",
       "[1] 3\n",
       "\n",
       "$범위\n",
       "[1] 2 5 8 9\n"
      ]
     },
     "metadata": {},
     "output_type": "display_data"
    }
   ],
   "source": [
    "# 텍스트셋 안에 검색패턴 포함여부를 해당요소별 인덱스번호로 도출 \n",
    "# - 검색패턴이 들어 있으면 해당 요소의 인덱스번호 출력, 없으면 해당 요소 인덱스번호 미출력\n",
    "\n",
    "sprintf('정규표현식 검색패턴: %s', src)\n",
    "lapply(ex, grep, pattern = src)\n",
    "# - tmp_lg <- map(ex, str_detect, pattern = src)\n",
    "# - map(tmp_lg, which) 동일 검색결과"
   ]
  },
  {
   "cell_type": "markdown",
   "metadata": {},
   "source": [
    "### 검색패턴 포함여부를 요소별 내용으로"
   ]
  },
  {
   "cell_type": "code",
   "execution_count": 31,
   "metadata": {},
   "outputs": [
    {
     "data": {
      "text/html": [
       "'정규표현식 검색패턴: \\\\s'"
      ],
      "text/latex": [
       "'정규표현식 검색패턴: \\textbackslash{}\\textbackslash{}s'"
      ],
      "text/markdown": [
       "'정규표현식 검색패턴: \\\\s'"
      ],
      "text/plain": [
       "[1] \"정규표현식 검색패턴: \\\\s\""
      ]
     },
     "metadata": {},
     "output_type": "display_data"
    },
    {
     "data": {
      "text/html": [
       "<dl>\n",
       "\t<dt>$영어</dt>\n",
       "\t\t<dd></dd>\n",
       "\t<dt>$한글</dt>\n",
       "\t\t<dd></dd>\n",
       "\t<dt>$숫자</dt>\n",
       "\t\t<dd></dd>\n",
       "\t<dt>$기호</dt>\n",
       "\t\t<dd><ol class=list-inline>\n",
       "\t<li>' '</li>\n",
       "\t<li><span style=white-space:pre-wrap>'    '</span></li>\n",
       "</ol>\n",
       "</dd>\n",
       "\t<dt>$탈출</dt>\n",
       "\t\t<dd><ol class=list-inline>\n",
       "\t<li>'\\n'</li>\n",
       "\t<li>'\\t'</li>\n",
       "</ol>\n",
       "</dd>\n",
       "\t<dt>$전화</dt>\n",
       "\t\t<dd>'032) 578-6639'</dd>\n",
       "\t<dt>$계량</dt>\n",
       "\t\t<dd></dd>\n",
       "\t<dt>$단위</dt>\n",
       "\t\t<dd></dd>\n",
       "\t<dt>$시간</dt>\n",
       "\t\t<dd><ol class=list-inline>\n",
       "\t<li>'11:30 a.m.'</li>\n",
       "\t<li>'11:30 AM'</li>\n",
       "</ol>\n",
       "</dd>\n",
       "\t<dt>$날짜</dt>\n",
       "\t\t<dd><ol class=list-inline>\n",
       "\t<li>'2019년 3월 15일'</li>\n",
       "\t<li>'February 22, 2020'</li>\n",
       "\t<li>'Feb. 22, 2020'</li>\n",
       "</ol>\n",
       "</dd>\n",
       "\t<dt>$결합</dt>\n",
       "\t\t<dd><ol class=list-inline>\n",
       "\t<li>'알파 Go'</li>\n",
       "\t<li>'알 파 Go'</li>\n",
       "</ol>\n",
       "</dd>\n",
       "\t<dt>$간격</dt>\n",
       "\t\t<dd><ol class=list-inline>\n",
       "\t<li>'빅\\tPy'</li>\n",
       "\t<li>'알파\\nGo'</li>\n",
       "\t<li>'R파\\rgo'</li>\n",
       "\t<li>'300\\n\\r스타'</li>\n",
       "</ol>\n",
       "</dd>\n",
       "\t<dt>$복합</dt>\n",
       "\t\t<dd>'&lt;h2&gt; &lt;/h2&gt;'</dd>\n",
       "\t<dt>$범위</dt>\n",
       "\t\t<dd><ol class=list-inline>\n",
       "\t<li>'3 ~ 17'</li>\n",
       "\t<li>'3 - 17'</li>\n",
       "\t<li>'[5], [8], [20]'</li>\n",
       "\t<li>'한국, 미국, 영국'</li>\n",
       "</ol>\n",
       "</dd>\n",
       "</dl>\n"
      ],
      "text/latex": [
       "\\begin{description}\n",
       "\\item[\\$영어] \n",
       "\\item[\\$한글] \n",
       "\\item[\\$숫자] \n",
       "\\item[\\$기호] \\begin{enumerate*}\n",
       "\\item ' '\n",
       "\\item '    '\n",
       "\\end{enumerate*}\n",
       "\n",
       "\\item[\\$탈출] \\begin{enumerate*}\n",
       "\\item '\\textbackslash{}n'\n",
       "\\item '\\textbackslash{}t'\n",
       "\\end{enumerate*}\n",
       "\n",
       "\\item[\\$전화] '032) 578-6639'\n",
       "\\item[\\$계량] \n",
       "\\item[\\$단위] \n",
       "\\item[\\$시간] \\begin{enumerate*}\n",
       "\\item '11:30 a.m.'\n",
       "\\item '11:30 AM'\n",
       "\\end{enumerate*}\n",
       "\n",
       "\\item[\\$날짜] \\begin{enumerate*}\n",
       "\\item '2019년 3월 15일'\n",
       "\\item 'February 22, 2020'\n",
       "\\item 'Feb. 22, 2020'\n",
       "\\end{enumerate*}\n",
       "\n",
       "\\item[\\$결합] \\begin{enumerate*}\n",
       "\\item '알파 Go'\n",
       "\\item '알 파 Go'\n",
       "\\end{enumerate*}\n",
       "\n",
       "\\item[\\$간격] \\begin{enumerate*}\n",
       "\\item '빅\\textbackslash{}tPy'\n",
       "\\item '알파\\textbackslash{}nGo'\n",
       "\\item 'R파\\textbackslash{}rgo'\n",
       "\\item '300\\textbackslash{}n\\textbackslash{}r스타'\n",
       "\\end{enumerate*}\n",
       "\n",
       "\\item[\\$복합] '<h2> </h2>'\n",
       "\\item[\\$범위] \\begin{enumerate*}\n",
       "\\item '3 \\textasciitilde{} 17'\n",
       "\\item '3 - 17'\n",
       "\\item '{[}5{]}, {[}8{]}, {[}20{]}'\n",
       "\\item '한국, 미국, 영국'\n",
       "\\end{enumerate*}\n",
       "\n",
       "\\end{description}\n"
      ],
      "text/markdown": [
       "$영어\n",
       ":   \n",
       "$한글\n",
       ":   \n",
       "$숫자\n",
       ":   \n",
       "$기호\n",
       ":   1. ' '\n",
       "2. <span style=white-space:pre-wrap>'    '</span>\n",
       "\n",
       "\n",
       "\n",
       "$탈출\n",
       ":   1. '\\n'\n",
       "2. '\\t'\n",
       "\n",
       "\n",
       "\n",
       "$전화\n",
       ":   '032) 578-6639'\n",
       "$계량\n",
       ":   \n",
       "$단위\n",
       ":   \n",
       "$시간\n",
       ":   1. '11:30 a.m.'\n",
       "2. '11:30 AM'\n",
       "\n",
       "\n",
       "\n",
       "$날짜\n",
       ":   1. '2019년 3월 15일'\n",
       "2. 'February 22, 2020'\n",
       "3. 'Feb. 22, 2020'\n",
       "\n",
       "\n",
       "\n",
       "$결합\n",
       ":   1. '알파 Go'\n",
       "2. '알 파 Go'\n",
       "\n",
       "\n",
       "\n",
       "$간격\n",
       ":   1. '빅\\tPy'\n",
       "2. '알파\\nGo'\n",
       "3. 'R파\\rgo'\n",
       "4. '300\\n\\r스타'\n",
       "\n",
       "\n",
       "\n",
       "$복합\n",
       ":   '&lt;h2&gt; &lt;/h2&gt;'\n",
       "$범위\n",
       ":   1. '3 ~ 17'\n",
       "2. '3 - 17'\n",
       "3. '[5], [8], [20]'\n",
       "4. '한국, 미국, 영국'\n",
       "\n",
       "\n",
       "\n",
       "\n",
       "\n"
      ],
      "text/plain": [
       "$영어\n",
       "character(0)\n",
       "\n",
       "$한글\n",
       "character(0)\n",
       "\n",
       "$숫자\n",
       "character(0)\n",
       "\n",
       "$기호\n",
       "[1] \" \"    \"    \"\n",
       "\n",
       "$탈출\n",
       "[1] \"\\n\" \"\\t\"\n",
       "\n",
       "$전화\n",
       "[1] \"032) 578-6639\"\n",
       "\n",
       "$계량\n",
       "character(0)\n",
       "\n",
       "$단위\n",
       "character(0)\n",
       "\n",
       "$시간\n",
       "[1] \"11:30 a.m.\" \"11:30 AM\"  \n",
       "\n",
       "$날짜\n",
       "[1] \"2019년 3월 15일\"   \"February 22, 2020\" \"Feb. 22, 2020\"    \n",
       "\n",
       "$결합\n",
       "[1] \"알파 Go\"  \"알 파 Go\"\n",
       "\n",
       "$간격\n",
       "[1] \"빅\\tPy\"      \"알파\\nGo\"    \"R파\\rgo\"     \"300\\n\\r스타\"\n",
       "\n",
       "$복합\n",
       "[1] \"<h2> </h2>\"\n",
       "\n",
       "$범위\n",
       "[1] \"3 ~ 17\"           \"3 - 17\"           \"[5], [8], [20]\"   \"한국, 미국, 영국\"\n"
      ]
     },
     "metadata": {},
     "output_type": "display_data"
    }
   ],
   "source": [
    "# 텍스트셋 안에 검색패턴 포함여부를 해당요소별 내용으로 도출 \n",
    "# - 검색패턴이 들어 있으면 해당 요소의 내용 출력, 없으면 해당 요소의 내용 미출력\n",
    "\n",
    "sprintf('정규표현식 검색패턴: %s', src)\n",
    "lapply(ex, grep, pattern = src, value = TRUE)"
   ]
  },
  {
   "cell_type": "markdown",
   "metadata": {},
   "source": [
    "### 검색패턴 포함여부를 세부요소별로 "
   ]
  },
  {
   "cell_type": "code",
   "execution_count": 32,
   "metadata": {},
   "outputs": [
    {
     "data": {
      "text/html": [
       "'정규표현식 검색대상: 영어'"
      ],
      "text/latex": [
       "'정규표현식 검색대상: 영어'"
      ],
      "text/markdown": [
       "'정규표현식 검색대상: 영어'"
      ],
      "text/plain": [
       "[1] \"정규표현식 검색대상: 영어\""
      ]
     },
     "metadata": {},
     "output_type": "display_data"
    },
    {
     "name": "stdout",
     "output_type": "stream",
     "text": [
      "$영어\n",
      " [1] \"a\"        \"A\"        \"R\"        \"bigpie\"   \"Bigpie\"   \"BigPie\"  \n",
      " [7] \"BIGPIE\"   \"RPyGo\"    \"gogle\"    \"google\"   \"goooggle\"\n",
      "\n"
     ]
    },
    {
     "data": {
      "text/html": [
       "'정규표현식 검색패턴: \\\\s'"
      ],
      "text/latex": [
       "'정규표현식 검색패턴: \\textbackslash{}\\textbackslash{}s'"
      ],
      "text/markdown": [
       "'정규표현식 검색패턴: \\\\s'"
      ],
      "text/plain": [
       "[1] \"정규표현식 검색패턴: \\\\s\""
      ]
     },
     "metadata": {},
     "output_type": "display_data"
    },
    {
     "name": "stdout",
     "output_type": "stream",
     "text": [
      "character(0)\n",
      "integer(0)\n",
      " [1] FALSE FALSE FALSE FALSE FALSE FALSE FALSE FALSE FALSE FALSE FALSE\n"
     ]
    }
   ],
   "source": [
    "item <- '영어'\n",
    "sprintf('정규표현식 검색대상: %s', item)\n",
    "ex[item] %>% print\n",
    "\n",
    "sprintf('정규표현식 검색패턴: %s', src)\n",
    "grep(pattern = src, x = ex[[item]], value = TRUE) %>% print\n",
    "grep(pattern = src, x = ex[[item]]) %>% print\n",
    "grepl(pattern = src, x = ex[[item]]) %>% print"
   ]
  },
  {
   "cell_type": "code",
   "execution_count": 33,
   "metadata": {},
   "outputs": [
    {
     "data": {
      "text/html": [
       "'정규표현식 검색대상: 한글'"
      ],
      "text/latex": [
       "'정규표현식 검색대상: 한글'"
      ],
      "text/markdown": [
       "'정규표현식 검색대상: 한글'"
      ],
      "text/plain": [
       "[1] \"정규표현식 검색대상: 한글\""
      ]
     },
     "metadata": {},
     "output_type": "display_data"
    },
    {
     "name": "stdout",
     "output_type": "stream",
     "text": [
      "$한글\n",
      "[1] \"ㄱㅎ\"   \"ㅏㅗ\"   \"파\"     \"한\"     \"파이썬\" \"빅파이\" \"파도\"   \"이차항\"\n",
      "[9] \"알파고\"\n",
      "\n"
     ]
    },
    {
     "data": {
      "text/html": [
       "'정규표현식 검색패턴: \\\\s'"
      ],
      "text/latex": [
       "'정규표현식 검색패턴: \\textbackslash{}\\textbackslash{}s'"
      ],
      "text/markdown": [
       "'정규표현식 검색패턴: \\\\s'"
      ],
      "text/plain": [
       "[1] \"정규표현식 검색패턴: \\\\s\""
      ]
     },
     "metadata": {},
     "output_type": "display_data"
    },
    {
     "name": "stdout",
     "output_type": "stream",
     "text": [
      "character(0)\n",
      "integer(0)\n",
      "[1] FALSE FALSE FALSE FALSE FALSE FALSE FALSE FALSE FALSE\n"
     ]
    }
   ],
   "source": [
    "item <- '한글'\n",
    "sprintf('정규표현식 검색대상: %s', item)\n",
    "ex[item] %>% print\n",
    "\n",
    "sprintf('정규표현식 검색패턴: %s', src)\n",
    "grep(pattern = src, x = ex[[item]], value = TRUE) %>% print\n",
    "grep(pattern = src, x = ex[[item]]) %>% print\n",
    "grepl(pattern = src, x = ex[[item]]) %>% print"
   ]
  },
  {
   "cell_type": "code",
   "execution_count": 34,
   "metadata": {},
   "outputs": [
    {
     "data": {
      "text/html": [
       "'정규표현식 검색대상: 숫자'"
      ],
      "text/latex": [
       "'정규표현식 검색대상: 숫자'"
      ],
      "text/markdown": [
       "'정규표현식 검색대상: 숫자'"
      ],
      "text/plain": [
       "[1] \"정규표현식 검색대상: 숫자\""
      ]
     },
     "metadata": {},
     "output_type": "display_data"
    },
    {
     "name": "stdout",
     "output_type": "stream",
     "text": [
      "$숫자\n",
      "[1]   34.00 -500.00  259.00 2019.00   36.50  -36.50  257.08\n",
      "\n"
     ]
    },
    {
     "data": {
      "text/html": [
       "'정규표현식 검색패턴: \\\\s'"
      ],
      "text/latex": [
       "'정규표현식 검색패턴: \\textbackslash{}\\textbackslash{}s'"
      ],
      "text/markdown": [
       "'정규표현식 검색패턴: \\\\s'"
      ],
      "text/plain": [
       "[1] \"정규표현식 검색패턴: \\\\s\""
      ]
     },
     "metadata": {},
     "output_type": "display_data"
    },
    {
     "name": "stdout",
     "output_type": "stream",
     "text": [
      "character(0)\n",
      "integer(0)\n",
      "[1] FALSE FALSE FALSE FALSE FALSE FALSE FALSE\n"
     ]
    }
   ],
   "source": [
    "item <- '숫자'\n",
    "sprintf('정규표현식 검색대상: %s', item)\n",
    "ex[item] %>% print\n",
    "\n",
    "sprintf('정규표현식 검색패턴: %s', src)\n",
    "grep(pattern = src, x = ex[[item]], value = TRUE) %>% print\n",
    "grep(pattern = src, x = ex[[item]]) %>% print\n",
    "grepl(pattern = src, x = ex[[item]]) %>% print"
   ]
  },
  {
   "cell_type": "code",
   "execution_count": 35,
   "metadata": {},
   "outputs": [
    {
     "data": {
      "text/html": [
       "'정규표현식 검색대상: 기호'"
      ],
      "text/latex": [
       "'정규표현식 검색대상: 기호'"
      ],
      "text/markdown": [
       "'정규표현식 검색대상: 기호'"
      ],
      "text/plain": [
       "[1] \"정규표현식 검색대상: 기호\""
      ]
     },
     "metadata": {},
     "output_type": "display_data"
    },
    {
     "name": "stdout",
     "output_type": "stream",
     "text": [
      "$기호\n",
      "[1] \"!@#$\"     \"%^&?\"     \"(){}[]<>\" \"+-*/=\"    \".,:;|_`~\" \"\"         \" \"       \n",
      "[8] \"    \"    \n",
      "\n"
     ]
    },
    {
     "data": {
      "text/html": [
       "'정규표현식 검색패턴: \\\\s'"
      ],
      "text/latex": [
       "'정규표현식 검색패턴: \\textbackslash{}\\textbackslash{}s'"
      ],
      "text/markdown": [
       "'정규표현식 검색패턴: \\\\s'"
      ],
      "text/plain": [
       "[1] \"정규표현식 검색패턴: \\\\s\""
      ]
     },
     "metadata": {},
     "output_type": "display_data"
    },
    {
     "name": "stdout",
     "output_type": "stream",
     "text": [
      "[1] \" \"    \"    \"\n",
      "[1] 7 8\n",
      "[1] FALSE FALSE FALSE FALSE FALSE FALSE  TRUE  TRUE\n"
     ]
    }
   ],
   "source": [
    "item <- '기호'\n",
    "sprintf('정규표현식 검색대상: %s', item)\n",
    "ex[item] %>% print\n",
    "\n",
    "sprintf('정규표현식 검색패턴: %s', src)\n",
    "grep(pattern = src, x = ex[[item]], value = TRUE) %>% print\n",
    "grep(pattern = src, x = ex[[item]]) %>% print\n",
    "grepl(pattern = src, x = ex[[item]]) %>% print"
   ]
  },
  {
   "cell_type": "code",
   "execution_count": 36,
   "metadata": {},
   "outputs": [
    {
     "data": {
      "text/html": [
       "'정규표현식 검색대상: 기호'"
      ],
      "text/latex": [
       "'정규표현식 검색대상: 기호'"
      ],
      "text/markdown": [
       "'정규표현식 검색대상: 기호'"
      ],
      "text/plain": [
       "[1] \"정규표현식 검색대상: 기호\""
      ]
     },
     "metadata": {},
     "output_type": "display_data"
    },
    {
     "name": "stdout",
     "output_type": "stream",
     "text": [
      "$기호\n",
      "[1] \"!@#$\"     \"%^&?\"     \"(){}[]<>\" \"+-*/=\"    \".,:;|_`~\" \"\"         \" \"       \n",
      "[8] \"    \"    \n",
      "\n"
     ]
    },
    {
     "data": {
      "text/html": [
       "'정규표현식 검색패턴: \\\\s'"
      ],
      "text/latex": [
       "'정규표현식 검색패턴: \\textbackslash{}\\textbackslash{}s'"
      ],
      "text/markdown": [
       "'정규표현식 검색패턴: \\\\s'"
      ],
      "text/plain": [
       "[1] \"정규표현식 검색패턴: \\\\s\""
      ]
     },
     "metadata": {},
     "output_type": "display_data"
    },
    {
     "name": "stdout",
     "output_type": "stream",
     "text": [
      "[1] \" \"    \"    \"\n",
      "[1] 7 8\n",
      "[1] FALSE FALSE FALSE FALSE FALSE FALSE  TRUE  TRUE\n"
     ]
    }
   ],
   "source": [
    "item <- '기호'\n",
    "sprintf('정규표현식 검색대상: %s', item)\n",
    "ex[item] %>% print\n",
    "\n",
    "sprintf('정규표현식 검색패턴: %s', src)\n",
    "grep(pattern = src, x = ex[[item]], value = TRUE) %>% print\n",
    "grep(pattern = src, x = ex[[item]]) %>% print\n",
    "grepl(pattern = src, x = ex[[item]]) %>% print"
   ]
  },
  {
   "cell_type": "code",
   "execution_count": 37,
   "metadata": {},
   "outputs": [
    {
     "data": {
      "text/html": [
       "'정규표현식 검색대상: 탈출'"
      ],
      "text/latex": [
       "'정규표현식 검색대상: 탈출'"
      ],
      "text/markdown": [
       "'정규표현식 검색대상: 탈출'"
      ],
      "text/plain": [
       "[1] \"정규표현식 검색대상: 탈출\""
      ]
     },
     "metadata": {},
     "output_type": "display_data"
    },
    {
     "name": "stdout",
     "output_type": "stream",
     "text": [
      "$탈출\n",
      " [1] \"\\\\\"            \"\\\\\\\\\"          \"\\n\"            \"\\t\"           \n",
      " [5] \"\\\\.\"           \"\\\"\"            \"'\"             \"'\"            \n",
      " [9] \"\\\"\"            \"It's\"          \"36.5`C\"        \"36.5'C\"       \n",
      "[13] \"2°10'26.5\\\"E\" \"2°10'26.5\\\"E\"\n",
      "\n"
     ]
    },
    {
     "data": {
      "text/html": [
       "'정규표현식 검색패턴: \\\\s'"
      ],
      "text/latex": [
       "'정규표현식 검색패턴: \\textbackslash{}\\textbackslash{}s'"
      ],
      "text/markdown": [
       "'정규표현식 검색패턴: \\\\s'"
      ],
      "text/plain": [
       "[1] \"정규표현식 검색패턴: \\\\s\""
      ]
     },
     "metadata": {},
     "output_type": "display_data"
    },
    {
     "name": "stdout",
     "output_type": "stream",
     "text": [
      "[1] \"\\n\" \"\\t\"\n",
      "[1] 3 4\n",
      " [1] FALSE FALSE  TRUE  TRUE FALSE FALSE FALSE FALSE FALSE FALSE FALSE FALSE\n",
      "[13] FALSE FALSE\n"
     ]
    }
   ],
   "source": [
    "item <- '탈출'\n",
    "sprintf('정규표현식 검색대상: %s', item)\n",
    "ex[item] %>% print\n",
    "\n",
    "sprintf('정규표현식 검색패턴: %s', src)\n",
    "grep(pattern = src, x = ex[[item]], value = TRUE) %>% print\n",
    "grep(pattern = src, x = ex[[item]]) %>% print\n",
    "grepl(pattern = src, x = ex[[item]]) %>% print"
   ]
  },
  {
   "cell_type": "code",
   "execution_count": 38,
   "metadata": {},
   "outputs": [
    {
     "data": {
      "text/html": [
       "'정규표현식 검색대상: 전화'"
      ],
      "text/latex": [
       "'정규표현식 검색대상: 전화'"
      ],
      "text/markdown": [
       "'정규표현식 검색대상: 전화'"
      ],
      "text/plain": [
       "[1] \"정규표현식 검색대상: 전화\""
      ]
     },
     "metadata": {},
     "output_type": "display_data"
    },
    {
     "name": "stdout",
     "output_type": "stream",
     "text": [
      "$전화\n",
      "[1] \"02-369-7890\"   \"032) 578-6639\" \"070-900-1100\"  \"1588-1588\"    \n",
      "[5] \"1577-5700\"     \"010-5364-3355\" \"010-8887-3320\"\n",
      "\n"
     ]
    },
    {
     "data": {
      "text/html": [
       "'정규표현식 검색패턴: \\\\s'"
      ],
      "text/latex": [
       "'정규표현식 검색패턴: \\textbackslash{}\\textbackslash{}s'"
      ],
      "text/markdown": [
       "'정규표현식 검색패턴: \\\\s'"
      ],
      "text/plain": [
       "[1] \"정규표현식 검색패턴: \\\\s\""
      ]
     },
     "metadata": {},
     "output_type": "display_data"
    },
    {
     "name": "stdout",
     "output_type": "stream",
     "text": [
      "[1] \"032) 578-6639\"\n",
      "[1] 2\n",
      "[1] FALSE  TRUE FALSE FALSE FALSE FALSE FALSE\n"
     ]
    }
   ],
   "source": [
    "item <- '전화'\n",
    "sprintf('정규표현식 검색대상: %s', item)\n",
    "ex[item] %>% print\n",
    "\n",
    "sprintf('정규표현식 검색패턴: %s', src)\n",
    "grep(pattern = src, x = ex[[item]], value = TRUE) %>% print\n",
    "grep(pattern = src, x = ex[[item]]) %>% print\n",
    "grepl(pattern = src, x = ex[[item]]) %>% print"
   ]
  },
  {
   "cell_type": "code",
   "execution_count": 39,
   "metadata": {},
   "outputs": [
    {
     "data": {
      "text/html": [
       "'정규표현식 검색대상: 전화'"
      ],
      "text/latex": [
       "'정규표현식 검색대상: 전화'"
      ],
      "text/markdown": [
       "'정규표현식 검색대상: 전화'"
      ],
      "text/plain": [
       "[1] \"정규표현식 검색대상: 전화\""
      ]
     },
     "metadata": {},
     "output_type": "display_data"
    },
    {
     "name": "stdout",
     "output_type": "stream",
     "text": [
      "$전화\n",
      "[1] \"02-369-7890\"   \"032) 578-6639\" \"070-900-1100\"  \"1588-1588\"    \n",
      "[5] \"1577-5700\"     \"010-5364-3355\" \"010-8887-3320\"\n",
      "\n"
     ]
    },
    {
     "data": {
      "text/html": [
       "'정규표현식 검색패턴: \\\\s'"
      ],
      "text/latex": [
       "'정규표현식 검색패턴: \\textbackslash{}\\textbackslash{}s'"
      ],
      "text/markdown": [
       "'정규표현식 검색패턴: \\\\s'"
      ],
      "text/plain": [
       "[1] \"정규표현식 검색패턴: \\\\s\""
      ]
     },
     "metadata": {},
     "output_type": "display_data"
    },
    {
     "name": "stdout",
     "output_type": "stream",
     "text": [
      "[1] \"032) 578-6639\"\n",
      "[1] 2\n",
      "[1] FALSE  TRUE FALSE FALSE FALSE FALSE FALSE\n"
     ]
    }
   ],
   "source": [
    "item <- '전화'\n",
    "sprintf('정규표현식 검색대상: %s', item)\n",
    "ex[item] %>% print\n",
    "\n",
    "sprintf('정규표현식 검색패턴: %s', src)\n",
    "grep(pattern = src, x = ex[[item]], value = TRUE) %>% print\n",
    "grep(pattern = src, x = ex[[item]]) %>% print\n",
    "grepl(pattern = src, x = ex[[item]]) %>% print"
   ]
  },
  {
   "cell_type": "code",
   "execution_count": 40,
   "metadata": {},
   "outputs": [
    {
     "data": {
      "text/html": [
       "'정규표현식 검색대상: 계량'"
      ],
      "text/latex": [
       "'정규표현식 검색대상: 계량'"
      ],
      "text/markdown": [
       "'정규표현식 검색대상: 계량'"
      ],
      "text/plain": [
       "[1] \"정규표현식 검색대상: 계량\""
      ]
     },
     "metadata": {},
     "output_type": "display_data"
    },
    {
     "name": "stdout",
     "output_type": "stream",
     "text": [
      "$계량\n",
      "[1] \"175.4cm\" \"300미터\" \"80.50km\" \"65.8kg\"  \"350ml\"   \"1.5l\"    \"1.5리터\"\n",
      "[8] \"33평\"   \n",
      "\n"
     ]
    },
    {
     "data": {
      "text/html": [
       "'정규표현식 검색패턴: \\\\s'"
      ],
      "text/latex": [
       "'정규표현식 검색패턴: \\textbackslash{}\\textbackslash{}s'"
      ],
      "text/markdown": [
       "'정규표현식 검색패턴: \\\\s'"
      ],
      "text/plain": [
       "[1] \"정규표현식 검색패턴: \\\\s\""
      ]
     },
     "metadata": {},
     "output_type": "display_data"
    },
    {
     "name": "stdout",
     "output_type": "stream",
     "text": [
      "character(0)\n",
      "integer(0)\n",
      "[1] FALSE FALSE FALSE FALSE FALSE FALSE FALSE FALSE\n"
     ]
    }
   ],
   "source": [
    "item <- '계량'\n",
    "sprintf('정규표현식 검색대상: %s', item)\n",
    "ex[item] %>% print\n",
    "\n",
    "sprintf('정규표현식 검색패턴: %s', src)\n",
    "grep(pattern = src, x = ex[[item]], value = TRUE) %>% print\n",
    "grep(pattern = src, x = ex[[item]]) %>% print\n",
    "grepl(pattern = src, x = ex[[item]]) %>% print"
   ]
  },
  {
   "cell_type": "code",
   "execution_count": 41,
   "metadata": {},
   "outputs": [
    {
     "data": {
      "text/html": [
       "'정규표현식 검색대상: 단위'"
      ],
      "text/latex": [
       "'정규표현식 검색대상: 단위'"
      ],
      "text/markdown": [
       "'정규표현식 검색대상: 단위'"
      ],
      "text/plain": [
       "[1] \"정규표현식 검색대상: 단위\""
      ]
     },
     "metadata": {},
     "output_type": "display_data"
    },
    {
     "name": "stdout",
     "output_type": "stream",
     "text": [
      "$단위\n",
      "[1] \"삼천원\"  \"3천원\"   \"3000원\"  \"3,000원\" \"$30.5\"  \n",
      "\n"
     ]
    },
    {
     "data": {
      "text/html": [
       "'정규표현식 검색패턴: \\\\s'"
      ],
      "text/latex": [
       "'정규표현식 검색패턴: \\textbackslash{}\\textbackslash{}s'"
      ],
      "text/markdown": [
       "'정규표현식 검색패턴: \\\\s'"
      ],
      "text/plain": [
       "[1] \"정규표현식 검색패턴: \\\\s\""
      ]
     },
     "metadata": {},
     "output_type": "display_data"
    },
    {
     "name": "stdout",
     "output_type": "stream",
     "text": [
      "character(0)\n",
      "integer(0)\n",
      "[1] FALSE FALSE FALSE FALSE FALSE\n"
     ]
    }
   ],
   "source": [
    "item <- '단위'\n",
    "sprintf('정규표현식 검색대상: %s', item)\n",
    "ex[item] %>% print\n",
    "\n",
    "sprintf('정규표현식 검색패턴: %s', src)\n",
    "grep(pattern = src, x = ex[[item]], value = TRUE) %>% print\n",
    "grep(pattern = src, x = ex[[item]]) %>% print\n",
    "grepl(pattern = src, x = ex[[item]]) %>% print"
   ]
  },
  {
   "cell_type": "code",
   "execution_count": 42,
   "metadata": {},
   "outputs": [
    {
     "data": {
      "text/html": [
       "'정규표현식 검색대상: 시간'"
      ],
      "text/latex": [
       "'정규표현식 검색대상: 시간'"
      ],
      "text/markdown": [
       "'정규표현식 검색대상: 시간'"
      ],
      "text/plain": [
       "[1] \"정규표현식 검색대상: 시간\""
      ]
     },
     "metadata": {},
     "output_type": "display_data"
    },
    {
     "name": "stdout",
     "output_type": "stream",
     "text": [
      "$시간\n",
      "[1] \"11:30\"      \"22:05\"      \"11:30:45\"   \"11:30 a.m.\" \"11:30 AM\"  \n",
      "\n"
     ]
    },
    {
     "data": {
      "text/html": [
       "'정규표현식 검색패턴: \\\\s'"
      ],
      "text/latex": [
       "'정규표현식 검색패턴: \\textbackslash{}\\textbackslash{}s'"
      ],
      "text/markdown": [
       "'정규표현식 검색패턴: \\\\s'"
      ],
      "text/plain": [
       "[1] \"정규표현식 검색패턴: \\\\s\""
      ]
     },
     "metadata": {},
     "output_type": "display_data"
    },
    {
     "name": "stdout",
     "output_type": "stream",
     "text": [
      "[1] \"11:30 a.m.\" \"11:30 AM\"  \n",
      "[1] 4 5\n",
      "[1] FALSE FALSE FALSE  TRUE  TRUE\n"
     ]
    }
   ],
   "source": [
    "item <- '시간'\n",
    "sprintf('정규표현식 검색대상: %s', item)\n",
    "ex[item] %>% print\n",
    "\n",
    "sprintf('정규표현식 검색패턴: %s', src)\n",
    "grep(pattern = src, x = ex[[item]], value = TRUE) %>% print\n",
    "grep(pattern = src, x = ex[[item]]) %>% print\n",
    "grepl(pattern = src, x = ex[[item]]) %>% print"
   ]
  },
  {
   "cell_type": "code",
   "execution_count": 43,
   "metadata": {},
   "outputs": [
    {
     "data": {
      "text/html": [
       "'정규표현식 검색대상: 날짜'"
      ],
      "text/latex": [
       "'정규표현식 검색대상: 날짜'"
      ],
      "text/markdown": [
       "'정규표현식 검색대상: 날짜'"
      ],
      "text/plain": [
       "[1] \"정규표현식 검색대상: 날짜\""
      ]
     },
     "metadata": {},
     "output_type": "display_data"
    },
    {
     "name": "stdout",
     "output_type": "stream",
     "text": [
      "$날짜\n",
      "[1] \"2019\"              \"2019년\"            \"`19\"              \n",
      "[4] \"2019-03-15\"        \"2019년 3월 15일\"   \"3월15일\"          \n",
      "[7] \"February 22, 2020\" \"Feb. 22, 2020\"     \"2/22/2018\"        \n",
      "\n"
     ]
    },
    {
     "data": {
      "text/html": [
       "'정규표현식 검색패턴: \\\\s'"
      ],
      "text/latex": [
       "'정규표현식 검색패턴: \\textbackslash{}\\textbackslash{}s'"
      ],
      "text/markdown": [
       "'정규표현식 검색패턴: \\\\s'"
      ],
      "text/plain": [
       "[1] \"정규표현식 검색패턴: \\\\s\""
      ]
     },
     "metadata": {},
     "output_type": "display_data"
    },
    {
     "name": "stdout",
     "output_type": "stream",
     "text": [
      "[1] \"2019년 3월 15일\"   \"February 22, 2020\" \"Feb. 22, 2020\"    \n",
      "[1] 5 7 8\n",
      "[1] FALSE FALSE FALSE FALSE  TRUE FALSE  TRUE  TRUE FALSE\n"
     ]
    }
   ],
   "source": [
    "item <- '날짜'\n",
    "sprintf('정규표현식 검색대상: %s', item)\n",
    "ex[item] %>% print\n",
    "\n",
    "sprintf('정규표현식 검색패턴: %s', src)\n",
    "grep(pattern = src, x = ex[[item]], value = TRUE) %>% print\n",
    "grep(pattern = src, x = ex[[item]]) %>% print\n",
    "grepl(pattern = src, x = ex[[item]]) %>% print"
   ]
  },
  {
   "cell_type": "code",
   "execution_count": 44,
   "metadata": {},
   "outputs": [
    {
     "data": {
      "text/html": [
       "'정규표현식 검색대상: 결합'"
      ],
      "text/latex": [
       "'정규표현식 검색대상: 결합'"
      ],
      "text/markdown": [
       "'정규표현식 검색대상: 결합'"
      ],
      "text/plain": [
       "[1] \"정규표현식 검색대상: 결합\""
      ]
     },
     "metadata": {},
     "output_type": "display_data"
    },
    {
     "name": "stdout",
     "output_type": "stream",
     "text": [
      "$결합\n",
      " [1] \"빅Py\"     \"알파Go\"   \"R파go\"    \"알파 Go\"  \"알 파 Go\" \"알파_Go\" \n",
      " [7] \"알파:Go\"  \"365일\"    \"3M\"       \"P&G\"      \"300스타\"  \"M16\"     \n",
      "[13] \"M16총\"   \n",
      "\n"
     ]
    },
    {
     "data": {
      "text/html": [
       "'정규표현식 검색패턴: \\\\s'"
      ],
      "text/latex": [
       "'정규표현식 검색패턴: \\textbackslash{}\\textbackslash{}s'"
      ],
      "text/markdown": [
       "'정규표현식 검색패턴: \\\\s'"
      ],
      "text/plain": [
       "[1] \"정규표현식 검색패턴: \\\\s\""
      ]
     },
     "metadata": {},
     "output_type": "display_data"
    },
    {
     "name": "stdout",
     "output_type": "stream",
     "text": [
      "[1] \"알파 Go\"  \"알 파 Go\"\n",
      "[1] 4 5\n",
      " [1] FALSE FALSE FALSE  TRUE  TRUE FALSE FALSE FALSE FALSE FALSE FALSE FALSE\n",
      "[13] FALSE\n"
     ]
    }
   ],
   "source": [
    "item <- '결합'\n",
    "sprintf('정규표현식 검색대상: %s', item)\n",
    "ex[item] %>% print\n",
    "\n",
    "sprintf('정규표현식 검색패턴: %s', src)\n",
    "grep(pattern = src, x = ex[[item]], value = TRUE) %>% print\n",
    "grep(pattern = src, x = ex[[item]]) %>% print\n",
    "grepl(pattern = src, x = ex[[item]]) %>% print"
   ]
  },
  {
   "cell_type": "code",
   "execution_count": 45,
   "metadata": {},
   "outputs": [
    {
     "data": {
      "text/html": [
       "'정규표현식 검색대상: 복합'"
      ],
      "text/latex": [
       "'정규표현식 검색대상: 복합'"
      ],
      "text/markdown": [
       "'정규표현식 검색대상: 복합'"
      ],
      "text/plain": [
       "[1] \"정규표현식 검색대상: 복합\""
      ]
     },
     "metadata": {},
     "output_type": "display_data"
    },
    {
     "name": "stdout",
     "output_type": "stream",
     "text": [
      "$복합\n",
      " [1] \"jane@my.com\"    \"www.python.org\" \"<h2> </h2>\"     \"[3]\"           \n",
      " [5] \"[[3]]\"          \"km(Kilo-meter)\" \"주의!\"          \"(경고!)\"       \n",
      " [9] \"\\\"한국\\\"\"       \"'한국'\"        \n",
      "\n"
     ]
    },
    {
     "data": {
      "text/html": [
       "'정규표현식 검색패턴: \\\\s'"
      ],
      "text/latex": [
       "'정규표현식 검색패턴: \\textbackslash{}\\textbackslash{}s'"
      ],
      "text/markdown": [
       "'정규표현식 검색패턴: \\\\s'"
      ],
      "text/plain": [
       "[1] \"정규표현식 검색패턴: \\\\s\""
      ]
     },
     "metadata": {},
     "output_type": "display_data"
    },
    {
     "name": "stdout",
     "output_type": "stream",
     "text": [
      "[1] \"<h2> </h2>\"\n",
      "[1] 3\n",
      " [1] FALSE FALSE  TRUE FALSE FALSE FALSE FALSE FALSE FALSE FALSE\n"
     ]
    }
   ],
   "source": [
    "item <- '복합'\n",
    "sprintf('정규표현식 검색대상: %s', item)\n",
    "ex[item] %>% print\n",
    "\n",
    "sprintf('정규표현식 검색패턴: %s', src)\n",
    "grep(pattern = src, x = ex[[item]], value = TRUE) %>% print\n",
    "grep(pattern = src, x = ex[[item]]) %>% print\n",
    "grepl(pattern = src, x = ex[[item]]) %>% print"
   ]
  },
  {
   "cell_type": "code",
   "execution_count": 46,
   "metadata": {},
   "outputs": [
    {
     "data": {
      "text/html": [
       "'정규표현식 검색대상: 범위'"
      ],
      "text/latex": [
       "'정규표현식 검색대상: 범위'"
      ],
      "text/markdown": [
       "'정규표현식 검색대상: 범위'"
      ],
      "text/plain": [
       "[1] \"정규표현식 검색대상: 범위\""
      ]
     },
     "metadata": {},
     "output_type": "display_data"
    },
    {
     "name": "stdout",
     "output_type": "stream",
     "text": [
      "$범위\n",
      "[1] \"3~17\"             \"3 ~ 17\"           \"p.3~17\"           \"3-17\"            \n",
      "[5] \"3 - 17\"           \"p.3-p.17\"         \"3페이지~17페이지\" \"[5], [8], [20]\"  \n",
      "[9] \"한국, 미국, 영국\"\n",
      "\n"
     ]
    },
    {
     "data": {
      "text/html": [
       "'정규표현식 검색패턴: \\\\s'"
      ],
      "text/latex": [
       "'정규표현식 검색패턴: \\textbackslash{}\\textbackslash{}s'"
      ],
      "text/markdown": [
       "'정규표현식 검색패턴: \\\\s'"
      ],
      "text/plain": [
       "[1] \"정규표현식 검색패턴: \\\\s\""
      ]
     },
     "metadata": {},
     "output_type": "display_data"
    },
    {
     "name": "stdout",
     "output_type": "stream",
     "text": [
      "[1] \"3 ~ 17\"           \"3 - 17\"           \"[5], [8], [20]\"   \"한국, 미국, 영국\"\n",
      "[1] 2 5 8 9\n",
      "[1] FALSE  TRUE FALSE FALSE  TRUE FALSE FALSE  TRUE  TRUE\n"
     ]
    }
   ],
   "source": [
    "item <- '범위'\n",
    "sprintf('정규표현식 검색대상: %s', item)\n",
    "ex[item] %>% print\n",
    "\n",
    "sprintf('정규표현식 검색패턴: %s', src)\n",
    "grep(pattern = src, x = ex[[item]], value = TRUE) %>% print\n",
    "grep(pattern = src, x = ex[[item]]) %>% print\n",
    "grepl(pattern = src, x = ex[[item]]) %>% print"
   ]
  },
  {
   "cell_type": "markdown",
   "metadata": {},
   "source": [
    "# End of Source"
   ]
  }
 ],
 "metadata": {
  "kernelspec": {
   "display_name": "R",
   "language": "R",
   "name": "ir"
  },
  "language_info": {
   "codemirror_mode": "r",
   "file_extension": ".r",
   "mimetype": "text/x-r-source",
   "name": "R",
   "pygments_lexer": "r",
   "version": "3.5.1"
  },
  "toc": {
   "base_numbering": 1,
   "nav_menu": {
    "height": "259px",
    "width": "160px"
   },
   "number_sections": true,
   "sideBar": true,
   "skip_h1_title": false,
   "title_cell": "Table of Contents",
   "title_sidebar": "Contents",
   "toc_cell": false,
   "toc_position": {
    "height": "calc(100% - 180px)",
    "left": "10px",
    "top": "150px",
    "width": "364px"
   },
   "toc_section_display": true,
   "toc_window_display": true
  },
  "varInspector": {
   "cols": {
    "lenName": 16,
    "lenType": 16,
    "lenVar": 40
   },
   "kernels_config": {
    "python": {
     "delete_cmd_postfix": "",
     "delete_cmd_prefix": "del ",
     "library": "var_list.py",
     "varRefreshCmd": "print(var_dic_list())"
    },
    "r": {
     "delete_cmd_postfix": ") ",
     "delete_cmd_prefix": "rm(",
     "library": "var_list.r",
     "varRefreshCmd": "cat(var_dic_list()) "
    }
   },
   "types_to_exclude": [
    "module",
    "function",
    "builtin_function_or_method",
    "instance",
    "_Feature"
   ],
   "window_display": false
  }
 },
 "nbformat": 4,
 "nbformat_minor": 2
}
