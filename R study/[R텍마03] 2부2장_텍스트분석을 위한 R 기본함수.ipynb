{
 "cells": [
  {
   "cell_type": "markdown",
   "metadata": {},
   "source": [
    "# <font color = 'color'>[R텍마03] 2부2장_텍스트분석을 위한 R 기본함수</font>"
   ]
  },
  {
   "cell_type": "markdown",
   "metadata": {},
   "source": [
    "# <font color = 'blue'>알파벳 대소문자 다루기(p.42)</font>"
   ]
  },
  {
   "cell_type": "markdown",
   "metadata": {},
   "source": [
    "### 알파벳 소문자 상수함수: letters"
   ]
  },
  {
   "cell_type": "code",
   "execution_count": 1,
   "metadata": {},
   "outputs": [
    {
     "data": {
      "text/html": [
       "<ol class=list-inline>\n",
       "\t<li>'a'</li>\n",
       "\t<li>'b'</li>\n",
       "\t<li>'c'</li>\n",
       "\t<li>'d'</li>\n",
       "\t<li>'e'</li>\n",
       "\t<li>'f'</li>\n",
       "\t<li>'g'</li>\n",
       "\t<li>'h'</li>\n",
       "\t<li>'i'</li>\n",
       "\t<li>'j'</li>\n",
       "\t<li>'k'</li>\n",
       "\t<li>'l'</li>\n",
       "\t<li>'m'</li>\n",
       "\t<li>'n'</li>\n",
       "\t<li>'o'</li>\n",
       "\t<li>'p'</li>\n",
       "\t<li>'q'</li>\n",
       "\t<li>'r'</li>\n",
       "\t<li>'s'</li>\n",
       "\t<li>'t'</li>\n",
       "\t<li>'u'</li>\n",
       "\t<li>'v'</li>\n",
       "\t<li>'w'</li>\n",
       "\t<li>'x'</li>\n",
       "\t<li>'y'</li>\n",
       "\t<li>'z'</li>\n",
       "</ol>\n"
      ],
      "text/latex": [
       "\\begin{enumerate*}\n",
       "\\item 'a'\n",
       "\\item 'b'\n",
       "\\item 'c'\n",
       "\\item 'd'\n",
       "\\item 'e'\n",
       "\\item 'f'\n",
       "\\item 'g'\n",
       "\\item 'h'\n",
       "\\item 'i'\n",
       "\\item 'j'\n",
       "\\item 'k'\n",
       "\\item 'l'\n",
       "\\item 'm'\n",
       "\\item 'n'\n",
       "\\item 'o'\n",
       "\\item 'p'\n",
       "\\item 'q'\n",
       "\\item 'r'\n",
       "\\item 's'\n",
       "\\item 't'\n",
       "\\item 'u'\n",
       "\\item 'v'\n",
       "\\item 'w'\n",
       "\\item 'x'\n",
       "\\item 'y'\n",
       "\\item 'z'\n",
       "\\end{enumerate*}\n"
      ],
      "text/markdown": [
       "1. 'a'\n",
       "2. 'b'\n",
       "3. 'c'\n",
       "4. 'd'\n",
       "5. 'e'\n",
       "6. 'f'\n",
       "7. 'g'\n",
       "8. 'h'\n",
       "9. 'i'\n",
       "10. 'j'\n",
       "11. 'k'\n",
       "12. 'l'\n",
       "13. 'm'\n",
       "14. 'n'\n",
       "15. 'o'\n",
       "16. 'p'\n",
       "17. 'q'\n",
       "18. 'r'\n",
       "19. 's'\n",
       "20. 't'\n",
       "21. 'u'\n",
       "22. 'v'\n",
       "23. 'w'\n",
       "24. 'x'\n",
       "25. 'y'\n",
       "26. 'z'\n",
       "\n",
       "\n"
      ],
      "text/plain": [
       " [1] \"a\" \"b\" \"c\" \"d\" \"e\" \"f\" \"g\" \"h\" \"i\" \"j\" \"k\" \"l\" \"m\" \"n\" \"o\" \"p\" \"q\" \"r\" \"s\"\n",
       "[20] \"t\" \"u\" \"v\" \"w\" \"x\" \"y\" \"z\""
      ]
     },
     "metadata": {},
     "output_type": "display_data"
    },
    {
     "data": {
      "text/html": [
       "<ol class=list-inline>\n",
       "\t<li>'a'</li>\n",
       "\t<li>'b'</li>\n",
       "\t<li>'c'</li>\n",
       "\t<li>'d'</li>\n",
       "\t<li>'e'</li>\n",
       "\t<li>'f'</li>\n",
       "\t<li>'g'</li>\n",
       "\t<li>'h'</li>\n",
       "\t<li>'i'</li>\n",
       "\t<li>'j'</li>\n",
       "\t<li>'k'</li>\n",
       "\t<li>'l'</li>\n",
       "\t<li>'m'</li>\n",
       "\t<li>'n'</li>\n",
       "\t<li>'o'</li>\n",
       "\t<li>'p'</li>\n",
       "\t<li>'q'</li>\n",
       "\t<li>'r'</li>\n",
       "\t<li>'s'</li>\n",
       "\t<li>'t'</li>\n",
       "\t<li>'u'</li>\n",
       "\t<li>'v'</li>\n",
       "\t<li>'w'</li>\n",
       "\t<li>'x'</li>\n",
       "\t<li>'y'</li>\n",
       "\t<li>'z'</li>\n",
       "</ol>\n"
      ],
      "text/latex": [
       "\\begin{enumerate*}\n",
       "\\item 'a'\n",
       "\\item 'b'\n",
       "\\item 'c'\n",
       "\\item 'd'\n",
       "\\item 'e'\n",
       "\\item 'f'\n",
       "\\item 'g'\n",
       "\\item 'h'\n",
       "\\item 'i'\n",
       "\\item 'j'\n",
       "\\item 'k'\n",
       "\\item 'l'\n",
       "\\item 'm'\n",
       "\\item 'n'\n",
       "\\item 'o'\n",
       "\\item 'p'\n",
       "\\item 'q'\n",
       "\\item 'r'\n",
       "\\item 's'\n",
       "\\item 't'\n",
       "\\item 'u'\n",
       "\\item 'v'\n",
       "\\item 'w'\n",
       "\\item 'x'\n",
       "\\item 'y'\n",
       "\\item 'z'\n",
       "\\end{enumerate*}\n"
      ],
      "text/markdown": [
       "1. 'a'\n",
       "2. 'b'\n",
       "3. 'c'\n",
       "4. 'd'\n",
       "5. 'e'\n",
       "6. 'f'\n",
       "7. 'g'\n",
       "8. 'h'\n",
       "9. 'i'\n",
       "10. 'j'\n",
       "11. 'k'\n",
       "12. 'l'\n",
       "13. 'm'\n",
       "14. 'n'\n",
       "15. 'o'\n",
       "16. 'p'\n",
       "17. 'q'\n",
       "18. 'r'\n",
       "19. 's'\n",
       "20. 't'\n",
       "21. 'u'\n",
       "22. 'v'\n",
       "23. 'w'\n",
       "24. 'x'\n",
       "25. 'y'\n",
       "26. 'z'\n",
       "\n",
       "\n"
      ],
      "text/plain": [
       " [1] \"a\" \"b\" \"c\" \"d\" \"e\" \"f\" \"g\" \"h\" \"i\" \"j\" \"k\" \"l\" \"m\" \"n\" \"o\" \"p\" \"q\" \"r\" \"s\"\n",
       "[20] \"t\" \"u\" \"v\" \"w\" \"x\" \"y\" \"z\""
      ]
     },
     "metadata": {},
     "output_type": "display_data"
    },
    {
     "data": {
      "text/html": [
       "<ol class=list-inline>\n",
       "\t<li>'j'</li>\n",
       "\t<li>'k'</li>\n",
       "\t<li>'l'</li>\n",
       "\t<li>'m'</li>\n",
       "\t<li>'n'</li>\n",
       "\t<li>'o'</li>\n",
       "</ol>\n"
      ],
      "text/latex": [
       "\\begin{enumerate*}\n",
       "\\item 'j'\n",
       "\\item 'k'\n",
       "\\item 'l'\n",
       "\\item 'm'\n",
       "\\item 'n'\n",
       "\\item 'o'\n",
       "\\end{enumerate*}\n"
      ],
      "text/markdown": [
       "1. 'j'\n",
       "2. 'k'\n",
       "3. 'l'\n",
       "4. 'm'\n",
       "5. 'n'\n",
       "6. 'o'\n",
       "\n",
       "\n"
      ],
      "text/plain": [
       "[1] \"j\" \"k\" \"l\" \"m\" \"n\" \"o\""
      ]
     },
     "metadata": {},
     "output_type": "display_data"
    },
    {
     "data": {
      "text/html": [
       "'w'"
      ],
      "text/latex": [
       "'w'"
      ],
      "text/markdown": [
       "'w'"
      ],
      "text/plain": [
       "[1] \"w\""
      ]
     },
     "metadata": {},
     "output_type": "display_data"
    },
    {
     "data": {
      "text/html": [
       "<ol class=list-inline>\n",
       "\t<li>'w'</li>\n",
       "\t<li>'c'</li>\n",
       "\t<li>'d'</li>\n",
       "\t<li>'e'</li>\n",
       "\t<li>'g'</li>\n",
       "</ol>\n"
      ],
      "text/latex": [
       "\\begin{enumerate*}\n",
       "\\item 'w'\n",
       "\\item 'c'\n",
       "\\item 'd'\n",
       "\\item 'e'\n",
       "\\item 'g'\n",
       "\\end{enumerate*}\n"
      ],
      "text/markdown": [
       "1. 'w'\n",
       "2. 'c'\n",
       "3. 'd'\n",
       "4. 'e'\n",
       "5. 'g'\n",
       "\n",
       "\n"
      ],
      "text/plain": [
       "[1] \"w\" \"c\" \"d\" \"e\" \"g\""
      ]
     },
     "metadata": {},
     "output_type": "display_data"
    },
    {
     "name": "stdout",
     "output_type": "stream",
     "text": [
      " [1] \"a\" \"b\" \"c\" \"d\" \"e\" \"f\" \"g\" \"h\" \"i\" \"j\" \"k\" \"l\" \"m\" \"n\" \"o\" \"p\" \"q\" \"r\" \"s\"\n",
      "[20] \"t\" \"u\" \"v\" \"w\" \"x\" \"y\" \"z\"\n",
      "\n",
      " [1] \"a\" \"b\" \"c\" \"d\" \"e\" \"f\" \"g\" \"h\" \"i\" \"j\" \"k\" \"l\" \"m\" \"n\" \"o\" \"p\" \"q\" \"r\" \"s\"\n",
      "[20] \"t\" \"u\" \"v\" \"w\" \"x\" \"y\" \"z\"\n",
      "\n",
      "[1] \"j\" \"k\" \"l\" \"m\" \"n\" \"o\"\n",
      "\n",
      "[1] \"w\"\n",
      "\n",
      "[1] 23  3  4  5  7\n"
     ]
    }
   ],
   "source": [
    "# 알파벳 소문자 전체출력\n",
    "\n",
    "# 상수함수 직접조회\n",
    "\n",
    "letters # 전체조회\n",
    "letters[1:26] # 전체조회\n",
    "letters[10:15] # 슬라이싱조회\n",
    "letters[23] # 싱글조회\n",
    "letters[c(23, 3:5, 7)] # 복수조회\n",
    "\n",
    "# print()함수로 출력\n",
    "\n",
    "print(letters)\n",
    "cat('\\n')\n",
    "\n",
    "print(letters[1:26])\n",
    "cat('\\n')\n",
    "\n",
    "print(letters[10:15])\n",
    "cat('\\n')\n",
    "\n",
    "print(letters[23])\n",
    "cat('\\n')\n",
    "\n",
    "print(c(23, 3:5, 7))"
   ]
  },
  {
   "cell_type": "code",
   "execution_count": 32,
   "metadata": {},
   "outputs": [
    {
     "data": {
      "text/html": [
       "'letter상수함수의 소문자 갯수: 26개'"
      ],
      "text/latex": [
       "'letter상수함수의 소문자 갯수: 26개'"
      ],
      "text/markdown": [
       "'letter상수함수의 소문자 갯수: 26개'"
      ],
      "text/plain": [
       "[1] \"letter상수함수의 소문자 갯수: 26개\""
      ]
     },
     "metadata": {},
     "output_type": "display_data"
    }
   ],
   "source": [
    "# 문자열포맷 방식의 출력\n",
    "\n",
    "sprintf('letter상수함수의 소문자 갯수: %d개', length(letters))"
   ]
  },
  {
   "cell_type": "markdown",
   "metadata": {},
   "source": [
    "### 알파벳 대문자 상수함수: LETTERS"
   ]
  },
  {
   "cell_type": "code",
   "execution_count": 3,
   "metadata": {},
   "outputs": [
    {
     "data": {
      "text/html": [
       "<ol class=list-inline>\n",
       "\t<li>'A'</li>\n",
       "\t<li>'B'</li>\n",
       "\t<li>'C'</li>\n",
       "\t<li>'D'</li>\n",
       "\t<li>'E'</li>\n",
       "\t<li>'F'</li>\n",
       "\t<li>'G'</li>\n",
       "\t<li>'H'</li>\n",
       "\t<li>'I'</li>\n",
       "\t<li>'J'</li>\n",
       "\t<li>'K'</li>\n",
       "\t<li>'L'</li>\n",
       "\t<li>'M'</li>\n",
       "\t<li>'N'</li>\n",
       "\t<li>'O'</li>\n",
       "\t<li>'P'</li>\n",
       "\t<li>'Q'</li>\n",
       "\t<li>'R'</li>\n",
       "\t<li>'S'</li>\n",
       "\t<li>'T'</li>\n",
       "\t<li>'U'</li>\n",
       "\t<li>'V'</li>\n",
       "\t<li>'W'</li>\n",
       "\t<li>'X'</li>\n",
       "\t<li>'Y'</li>\n",
       "\t<li>'Z'</li>\n",
       "</ol>\n"
      ],
      "text/latex": [
       "\\begin{enumerate*}\n",
       "\\item 'A'\n",
       "\\item 'B'\n",
       "\\item 'C'\n",
       "\\item 'D'\n",
       "\\item 'E'\n",
       "\\item 'F'\n",
       "\\item 'G'\n",
       "\\item 'H'\n",
       "\\item 'I'\n",
       "\\item 'J'\n",
       "\\item 'K'\n",
       "\\item 'L'\n",
       "\\item 'M'\n",
       "\\item 'N'\n",
       "\\item 'O'\n",
       "\\item 'P'\n",
       "\\item 'Q'\n",
       "\\item 'R'\n",
       "\\item 'S'\n",
       "\\item 'T'\n",
       "\\item 'U'\n",
       "\\item 'V'\n",
       "\\item 'W'\n",
       "\\item 'X'\n",
       "\\item 'Y'\n",
       "\\item 'Z'\n",
       "\\end{enumerate*}\n"
      ],
      "text/markdown": [
       "1. 'A'\n",
       "2. 'B'\n",
       "3. 'C'\n",
       "4. 'D'\n",
       "5. 'E'\n",
       "6. 'F'\n",
       "7. 'G'\n",
       "8. 'H'\n",
       "9. 'I'\n",
       "10. 'J'\n",
       "11. 'K'\n",
       "12. 'L'\n",
       "13. 'M'\n",
       "14. 'N'\n",
       "15. 'O'\n",
       "16. 'P'\n",
       "17. 'Q'\n",
       "18. 'R'\n",
       "19. 'S'\n",
       "20. 'T'\n",
       "21. 'U'\n",
       "22. 'V'\n",
       "23. 'W'\n",
       "24. 'X'\n",
       "25. 'Y'\n",
       "26. 'Z'\n",
       "\n",
       "\n"
      ],
      "text/plain": [
       " [1] \"A\" \"B\" \"C\" \"D\" \"E\" \"F\" \"G\" \"H\" \"I\" \"J\" \"K\" \"L\" \"M\" \"N\" \"O\" \"P\" \"Q\" \"R\" \"S\"\n",
       "[20] \"T\" \"U\" \"V\" \"W\" \"X\" \"Y\" \"Z\""
      ]
     },
     "metadata": {},
     "output_type": "display_data"
    },
    {
     "data": {
      "text/html": [
       "<ol class=list-inline>\n",
       "\t<li>'A'</li>\n",
       "\t<li>'B'</li>\n",
       "\t<li>'C'</li>\n",
       "\t<li>'D'</li>\n",
       "\t<li>'E'</li>\n",
       "\t<li>'F'</li>\n",
       "\t<li>'G'</li>\n",
       "\t<li>'H'</li>\n",
       "\t<li>'I'</li>\n",
       "\t<li>'J'</li>\n",
       "\t<li>'K'</li>\n",
       "\t<li>'L'</li>\n",
       "\t<li>'M'</li>\n",
       "\t<li>'N'</li>\n",
       "\t<li>'O'</li>\n",
       "\t<li>'P'</li>\n",
       "\t<li>'Q'</li>\n",
       "\t<li>'R'</li>\n",
       "\t<li>'S'</li>\n",
       "\t<li>'T'</li>\n",
       "\t<li>'U'</li>\n",
       "\t<li>'V'</li>\n",
       "\t<li>'W'</li>\n",
       "\t<li>'X'</li>\n",
       "\t<li>'Y'</li>\n",
       "\t<li>'Z'</li>\n",
       "</ol>\n"
      ],
      "text/latex": [
       "\\begin{enumerate*}\n",
       "\\item 'A'\n",
       "\\item 'B'\n",
       "\\item 'C'\n",
       "\\item 'D'\n",
       "\\item 'E'\n",
       "\\item 'F'\n",
       "\\item 'G'\n",
       "\\item 'H'\n",
       "\\item 'I'\n",
       "\\item 'J'\n",
       "\\item 'K'\n",
       "\\item 'L'\n",
       "\\item 'M'\n",
       "\\item 'N'\n",
       "\\item 'O'\n",
       "\\item 'P'\n",
       "\\item 'Q'\n",
       "\\item 'R'\n",
       "\\item 'S'\n",
       "\\item 'T'\n",
       "\\item 'U'\n",
       "\\item 'V'\n",
       "\\item 'W'\n",
       "\\item 'X'\n",
       "\\item 'Y'\n",
       "\\item 'Z'\n",
       "\\end{enumerate*}\n"
      ],
      "text/markdown": [
       "1. 'A'\n",
       "2. 'B'\n",
       "3. 'C'\n",
       "4. 'D'\n",
       "5. 'E'\n",
       "6. 'F'\n",
       "7. 'G'\n",
       "8. 'H'\n",
       "9. 'I'\n",
       "10. 'J'\n",
       "11. 'K'\n",
       "12. 'L'\n",
       "13. 'M'\n",
       "14. 'N'\n",
       "15. 'O'\n",
       "16. 'P'\n",
       "17. 'Q'\n",
       "18. 'R'\n",
       "19. 'S'\n",
       "20. 'T'\n",
       "21. 'U'\n",
       "22. 'V'\n",
       "23. 'W'\n",
       "24. 'X'\n",
       "25. 'Y'\n",
       "26. 'Z'\n",
       "\n",
       "\n"
      ],
      "text/plain": [
       " [1] \"A\" \"B\" \"C\" \"D\" \"E\" \"F\" \"G\" \"H\" \"I\" \"J\" \"K\" \"L\" \"M\" \"N\" \"O\" \"P\" \"Q\" \"R\" \"S\"\n",
       "[20] \"T\" \"U\" \"V\" \"W\" \"X\" \"Y\" \"Z\""
      ]
     },
     "metadata": {},
     "output_type": "display_data"
    },
    {
     "data": {
      "text/html": [
       "<ol class=list-inline>\n",
       "\t<li>'J'</li>\n",
       "\t<li>'K'</li>\n",
       "\t<li>'L'</li>\n",
       "\t<li>'M'</li>\n",
       "\t<li>'N'</li>\n",
       "\t<li>'O'</li>\n",
       "</ol>\n"
      ],
      "text/latex": [
       "\\begin{enumerate*}\n",
       "\\item 'J'\n",
       "\\item 'K'\n",
       "\\item 'L'\n",
       "\\item 'M'\n",
       "\\item 'N'\n",
       "\\item 'O'\n",
       "\\end{enumerate*}\n"
      ],
      "text/markdown": [
       "1. 'J'\n",
       "2. 'K'\n",
       "3. 'L'\n",
       "4. 'M'\n",
       "5. 'N'\n",
       "6. 'O'\n",
       "\n",
       "\n"
      ],
      "text/plain": [
       "[1] \"J\" \"K\" \"L\" \"M\" \"N\" \"O\""
      ]
     },
     "metadata": {},
     "output_type": "display_data"
    },
    {
     "data": {
      "text/html": [
       "'W'"
      ],
      "text/latex": [
       "'W'"
      ],
      "text/markdown": [
       "'W'"
      ],
      "text/plain": [
       "[1] \"W\""
      ]
     },
     "metadata": {},
     "output_type": "display_data"
    },
    {
     "data": {
      "text/html": [
       "<ol class=list-inline>\n",
       "\t<li>'W'</li>\n",
       "\t<li>'C'</li>\n",
       "\t<li>'D'</li>\n",
       "\t<li>'E'</li>\n",
       "\t<li>'G'</li>\n",
       "</ol>\n"
      ],
      "text/latex": [
       "\\begin{enumerate*}\n",
       "\\item 'W'\n",
       "\\item 'C'\n",
       "\\item 'D'\n",
       "\\item 'E'\n",
       "\\item 'G'\n",
       "\\end{enumerate*}\n"
      ],
      "text/markdown": [
       "1. 'W'\n",
       "2. 'C'\n",
       "3. 'D'\n",
       "4. 'E'\n",
       "5. 'G'\n",
       "\n",
       "\n"
      ],
      "text/plain": [
       "[1] \"W\" \"C\" \"D\" \"E\" \"G\""
      ]
     },
     "metadata": {},
     "output_type": "display_data"
    },
    {
     "name": "stdout",
     "output_type": "stream",
     "text": [
      " [1] \"A\" \"B\" \"C\" \"D\" \"E\" \"F\" \"G\" \"H\" \"I\" \"J\" \"K\" \"L\" \"M\" \"N\" \"O\" \"P\" \"Q\" \"R\" \"S\"\n",
      "[20] \"T\" \"U\" \"V\" \"W\" \"X\" \"Y\" \"Z\"\n",
      "\n",
      " [1] \"A\" \"B\" \"C\" \"D\" \"E\" \"F\" \"G\" \"H\" \"I\" \"J\" \"K\" \"L\" \"M\" \"N\" \"O\" \"P\" \"Q\" \"R\" \"S\"\n",
      "[20] \"T\" \"U\" \"V\" \"W\" \"X\" \"Y\" \"Z\"\n",
      "\n",
      "[1] \"J\" \"K\" \"L\" \"M\" \"N\" \"O\"\n",
      "\n",
      "[1] \"W\"\n",
      "\n",
      "[1] \"W\" \"C\" \"D\" \"E\" \"G\"\n"
     ]
    }
   ],
   "source": [
    "# 알파벳 대문자 전체출력\n",
    "\n",
    "# 상수함수 직접조회\n",
    "LETTERS # 전체조회\n",
    "LETTERS[1:26] # 전체조회\n",
    "LETTERS[10:15] # 슬라이싱조회\n",
    "LETTERS[23] # 싱글조회\n",
    "LETTERS[c(23, 3:5, 7)] # 복수조회 \n",
    "\n",
    "# print()함수로 출력\n",
    "print(LETTERS)\n",
    "cat('\\n')\n",
    "\n",
    "print(LETTERS[1:26])\n",
    "cat('\\n')\n",
    "\n",
    "print(LETTERS[10:15])\n",
    "cat('\\n')\n",
    "\n",
    "print(LETTERS[23])\n",
    "cat('\\n')\n",
    "\n",
    "print(LETTERS[c(23, 3:5, 7)])"
   ]
  },
  {
   "cell_type": "code",
   "execution_count": 4,
   "metadata": {},
   "outputs": [
    {
     "data": {
      "text/html": [
       "'LETTERS상수함수의 대문자 갯수: 26개'"
      ],
      "text/latex": [
       "'LETTERS상수함수의 대문자 갯수: 26개'"
      ],
      "text/markdown": [
       "'LETTERS상수함수의 대문자 갯수: 26개'"
      ],
      "text/plain": [
       "[1] \"LETTERS상수함수의 대문자 갯수: 26개\""
      ]
     },
     "metadata": {},
     "output_type": "display_data"
    }
   ],
   "source": [
    "# 문자열포맷 방식의 출력\n",
    "sprintf('LETTERS상수함수의 대문자 갯수: %d개', NROW(LETTERS))"
   ]
  },
  {
   "cell_type": "markdown",
   "metadata": {},
   "source": [
    "### 알파벳 대소문자 전환: tolower(), toupper(), Hmisc::capitalize()"
   ]
  },
  {
   "cell_type": "code",
   "execution_count": 5,
   "metadata": {},
   "outputs": [],
   "source": [
    "# 문자열 예시 준비\n",
    "str <- 'Eye for eye'"
   ]
  },
  {
   "cell_type": "code",
   "execution_count": 6,
   "metadata": {},
   "outputs": [
    {
     "data": {
      "text/html": [
       "'eye for eye'"
      ],
      "text/latex": [
       "'eye for eye'"
      ],
      "text/markdown": [
       "'eye for eye'"
      ],
      "text/plain": [
       "[1] \"eye for eye\""
      ]
     },
     "metadata": {},
     "output_type": "display_data"
    },
    {
     "data": {
      "text/html": [
       "'EYE FOR EYE'"
      ],
      "text/latex": [
       "'EYE FOR EYE'"
      ],
      "text/markdown": [
       "'EYE FOR EYE'"
      ],
      "text/plain": [
       "[1] \"EYE FOR EYE\""
      ]
     },
     "metadata": {},
     "output_type": "display_data"
    }
   ],
   "source": [
    "tolower(str)\n",
    "toupper(str)"
   ]
  },
  {
   "cell_type": "code",
   "execution_count": 7,
   "metadata": {},
   "outputs": [],
   "source": [
    "# 복수 문자열 예시 준비\n",
    "str <- c('Eye for eye', 'Gold in gold out')"
   ]
  },
  {
   "cell_type": "code",
   "execution_count": 8,
   "metadata": {},
   "outputs": [
    {
     "data": {
      "text/html": [
       "<ol class=list-inline>\n",
       "\t<li>'eye for eye'</li>\n",
       "\t<li>'gold in gold out'</li>\n",
       "</ol>\n"
      ],
      "text/latex": [
       "\\begin{enumerate*}\n",
       "\\item 'eye for eye'\n",
       "\\item 'gold in gold out'\n",
       "\\end{enumerate*}\n"
      ],
      "text/markdown": [
       "1. 'eye for eye'\n",
       "2. 'gold in gold out'\n",
       "\n",
       "\n"
      ],
      "text/plain": [
       "[1] \"eye for eye\"      \"gold in gold out\""
      ]
     },
     "metadata": {},
     "output_type": "display_data"
    },
    {
     "data": {
      "text/html": [
       "<ol class=list-inline>\n",
       "\t<li>'EYE FOR EYE'</li>\n",
       "\t<li>'GOLD IN GOLD OUT'</li>\n",
       "</ol>\n"
      ],
      "text/latex": [
       "\\begin{enumerate*}\n",
       "\\item 'EYE FOR EYE'\n",
       "\\item 'GOLD IN GOLD OUT'\n",
       "\\end{enumerate*}\n"
      ],
      "text/markdown": [
       "1. 'EYE FOR EYE'\n",
       "2. 'GOLD IN GOLD OUT'\n",
       "\n",
       "\n"
      ],
      "text/plain": [
       "[1] \"EYE FOR EYE\"      \"GOLD IN GOLD OUT\""
      ]
     },
     "metadata": {},
     "output_type": "display_data"
    }
   ],
   "source": [
    "tolower(str)\n",
    "toupper(str)"
   ]
  },
  {
   "cell_type": "code",
   "execution_count": 9,
   "metadata": {},
   "outputs": [
    {
     "name": "stderr",
     "output_type": "stream",
     "text": [
      "Loading required package: lattice\n",
      "Loading required package: survival\n",
      "Loading required package: Formula\n",
      "Loading required package: ggplot2\n",
      "\n",
      "Attaching package: 'Hmisc'\n",
      "\n",
      "The following objects are masked from 'package:base':\n",
      "\n",
      "    format.pval, units\n",
      "\n"
     ]
    }
   ],
   "source": [
    "# 첫글자만 대문자로 만들기\n",
    "# - Hnisc::capitalize() 함수이용\n",
    "\n",
    "# if (!require(package)) install.packages('Hmisc')\n",
    "library(Hmisc)"
   ]
  },
  {
   "cell_type": "code",
   "execution_count": 10,
   "metadata": {},
   "outputs": [
    {
     "data": {
      "text/html": [
       "<ol class=list-inline>\n",
       "\t<li>'Eye for eye'</li>\n",
       "\t<li>'Gold in gold out'</li>\n",
       "</ol>\n"
      ],
      "text/latex": [
       "\\begin{enumerate*}\n",
       "\\item 'Eye for eye'\n",
       "\\item 'Gold in gold out'\n",
       "\\end{enumerate*}\n"
      ],
      "text/markdown": [
       "1. 'Eye for eye'\n",
       "2. 'Gold in gold out'\n",
       "\n",
       "\n"
      ],
      "text/plain": [
       "[1] \"Eye for eye\"      \"Gold in gold out\""
      ]
     },
     "metadata": {},
     "output_type": "display_data"
    }
   ],
   "source": [
    "capitalize(str)"
   ]
  },
  {
   "cell_type": "markdown",
   "metadata": {},
   "source": [
    "# <font color = 'blue'>문자 수와 바이트수 카운팅(p.44)</font>"
   ]
  },
  {
   "cell_type": "markdown",
   "metadata": {},
   "source": [
    "### 문자열 데이터의 문자 갯수와 바이트수 세기: nchar()"
   ]
  },
  {
   "cell_type": "code",
   "execution_count": 11,
   "metadata": {},
   "outputs": [
    {
     "data": {
      "text/html": [
       "'Eye for eye'"
      ],
      "text/latex": [
       "'Eye for eye'"
      ],
      "text/markdown": [
       "'Eye for eye'"
      ],
      "text/plain": [
       "[1] \"Eye for eye\""
      ]
     },
     "metadata": {},
     "output_type": "display_data"
    },
    {
     "name": "stdout",
     "output_type": "stream",
     "text": [
      "[1] \"Eye for eye\"\n",
      "Eye for eye"
     ]
    }
   ],
   "source": [
    "# 영어 문자열 예시 준비\n",
    "str_eng <- 'Eye for eye'\n",
    "\n",
    "str_eng\n",
    "print(str_eng)\n",
    "cat(str_eng)"
   ]
  },
  {
   "cell_type": "code",
   "execution_count": 35,
   "metadata": {},
   "outputs": [
    {
     "data": {
      "text/html": [
       "'Eye for eye 문자열의 문자갯수: 11개'"
      ],
      "text/latex": [
       "'Eye for eye 문자열의 문자갯수: 11개'"
      ],
      "text/markdown": [
       "'Eye for eye 문자열의 문자갯수: 11개'"
      ],
      "text/plain": [
       "[1] \"Eye for eye 문자열의 문자갯수: 11개\""
      ]
     },
     "metadata": {},
     "output_type": "display_data"
    },
    {
     "data": {
      "text/html": [
       "'Eye for eye 문자열의 문자갯수: 11개'"
      ],
      "text/latex": [
       "'Eye for eye 문자열의 문자갯수: 11개'"
      ],
      "text/markdown": [
       "'Eye for eye 문자열의 문자갯수: 11개'"
      ],
      "text/plain": [
       "[1] \"Eye for eye 문자열의 문자갯수: 11개\""
      ]
     },
     "metadata": {},
     "output_type": "display_data"
    },
    {
     "data": {
      "text/html": [
       "'Eye for eye 문자열의 바이트수: 11바이트'"
      ],
      "text/latex": [
       "'Eye for eye 문자열의 바이트수: 11바이트'"
      ],
      "text/markdown": [
       "'Eye for eye 문자열의 바이트수: 11바이트'"
      ],
      "text/plain": [
       "[1] \"Eye for eye 문자열의 바이트수: 11바이트\""
      ]
     },
     "metadata": {},
     "output_type": "display_data"
    }
   ],
   "source": [
    "# 영어문자열 데이터의 문자갯수와 바이트수\n",
    "\n",
    "sprintf('%s 문자열의 문자갯수: %d개', str_eng, nchar(str_eng))\n",
    "# - base::nchar() 함수이용 문자갯수 계산\n",
    "\n",
    "# install.package('stringr')\n",
    "library(stringr)\n",
    "sprintf('%s 문자열의 문자갯수: %d개', str_eng, str_length(str_eng))\n",
    "# - stringr::str_length() 함수이용 문자갯수 계산\n",
    "\n",
    "sprintf('%s 문자열의 바이트수: %d바이트', str_eng, nchar(str_eng, type = 'bytes'))"
   ]
  },
  {
   "cell_type": "code",
   "execution_count": 13,
   "metadata": {},
   "outputs": [
    {
     "data": {
      "text/html": [
       "'눈에는 눈'"
      ],
      "text/latex": [
       "'눈에는 눈'"
      ],
      "text/markdown": [
       "'눈에는 눈'"
      ],
      "text/plain": [
       "[1] \"눈에는 눈\""
      ]
     },
     "metadata": {},
     "output_type": "display_data"
    },
    {
     "name": "stdout",
     "output_type": "stream",
     "text": [
      "[1] \"눈에는 눈\"\n",
      "눈에는 눈"
     ]
    }
   ],
   "source": [
    "# 한글 문자열 예시 준비\n",
    "str_kor <- '눈에는 눈'\n",
    "\n",
    "str_kor\n",
    "print(str_kor)\n",
    "cat(str_kor)"
   ]
  },
  {
   "cell_type": "code",
   "execution_count": 36,
   "metadata": {},
   "outputs": [
    {
     "data": {
      "text/html": [
       "'눈에는 눈 문자열의 문자갯수: 5개'"
      ],
      "text/latex": [
       "'눈에는 눈 문자열의 문자갯수: 5개'"
      ],
      "text/markdown": [
       "'눈에는 눈 문자열의 문자갯수: 5개'"
      ],
      "text/plain": [
       "[1] \"눈에는 눈 문자열의 문자갯수: 5개\""
      ]
     },
     "metadata": {},
     "output_type": "display_data"
    },
    {
     "data": {
      "text/html": [
       "'눈에는 눈 문자열의 문자갯수: 5개'"
      ],
      "text/latex": [
       "'눈에는 눈 문자열의 문자갯수: 5개'"
      ],
      "text/markdown": [
       "'눈에는 눈 문자열의 문자갯수: 5개'"
      ],
      "text/plain": [
       "[1] \"눈에는 눈 문자열의 문자갯수: 5개\""
      ]
     },
     "metadata": {},
     "output_type": "display_data"
    },
    {
     "data": {
      "text/html": [
       "'눈에는 눈 문자열의 바이트수: 9바이트'"
      ],
      "text/latex": [
       "'눈에는 눈 문자열의 바이트수: 9바이트'"
      ],
      "text/markdown": [
       "'눈에는 눈 문자열의 바이트수: 9바이트'"
      ],
      "text/plain": [
       "[1] \"눈에는 눈 문자열의 바이트수: 9바이트\""
      ]
     },
     "metadata": {},
     "output_type": "display_data"
    }
   ],
   "source": [
    "# 한글문자열 데이터의 문자갯수와 바이트수\n",
    "sprintf('%s 문자열의 문자갯수: %d개', str_kor, nchar(str_kor))\n",
    "# - base::nchar() 함수이용 문자갯수 계산\n",
    "\n",
    "# install.package('stringr')\n",
    "library(stringr)\n",
    "sprintf('%s 문자열의 문자갯수: %d개', str_kor, str_length(str_kor))\n",
    "# - stringr::str_length() 함수이용 문자갯수 계산\n",
    "\n",
    "sprintf('%s 문자열의 바이트수: %d바이트', str_kor, nchar(str_kor, type = 'bytes'))"
   ]
  },
  {
   "cell_type": "code",
   "execution_count": 15,
   "metadata": {},
   "outputs": [
    {
     "data": {
      "text/html": [
       "'!@#$\\n\\t%^ &amp;*().'"
      ],
      "text/latex": [
       "'!@\\#\\$\\textbackslash{}n\\textbackslash{}t\\%\\textasciicircum{} \\&*().'"
      ],
      "text/markdown": [
       "'!@#$\\n\\t%^ &amp;*().'"
      ],
      "text/plain": [
       "[1] \"!@#$\\n\\t%^ &*().\""
      ]
     },
     "metadata": {},
     "output_type": "display_data"
    },
    {
     "name": "stdout",
     "output_type": "stream",
     "text": [
      "[1] \"!@#$\\n\\t%^ &*().\"\n",
      "!@#$\n",
      "\t%^ &*()."
     ]
    }
   ],
   "source": [
    "# 특수기호 문자열 예시 준비\n",
    "str_symbol <- '!@#$\\n\\t%^ &*().'\n",
    "# - 일반 특수기호, 공란, 구두점, 엔터키, 탭키 등\n",
    "\n",
    "str_symbol\n",
    "print(str_symbol)\n",
    "cat(str_symbol)"
   ]
  },
  {
   "cell_type": "code",
   "execution_count": 37,
   "metadata": {},
   "outputs": [
    {
     "data": {
      "text/html": [
       "'!@#$\\n\\t%^ &amp;*(). 문자열의 문자갯수: 14개'"
      ],
      "text/latex": [
       "'!@\\#\\$\\textbackslash{}n\\textbackslash{}t\\%\\textasciicircum{} \\&*(). 문자열의 문자갯수: 14개'"
      ],
      "text/markdown": [
       "'!@#$\\n\\t%^ &amp;*(). 문자열의 문자갯수: 14개'"
      ],
      "text/plain": [
       "[1] \"!@#$\\n\\t%^ &*(). 문자열의 문자갯수: 14개\""
      ]
     },
     "metadata": {},
     "output_type": "display_data"
    },
    {
     "data": {
      "text/html": [
       "'!@#$\\n\\t%^ &amp;*(). 문자열의 문자갯수: 14개'"
      ],
      "text/latex": [
       "'!@\\#\\$\\textbackslash{}n\\textbackslash{}t\\%\\textasciicircum{} \\&*(). 문자열의 문자갯수: 14개'"
      ],
      "text/markdown": [
       "'!@#$\\n\\t%^ &amp;*(). 문자열의 문자갯수: 14개'"
      ],
      "text/plain": [
       "[1] \"!@#$\\n\\t%^ &*(). 문자열의 문자갯수: 14개\""
      ]
     },
     "metadata": {},
     "output_type": "display_data"
    },
    {
     "data": {
      "text/html": [
       "'!@#$\\n\\t%^ &amp;*(). 문자열의 바이트수: 14바이트'"
      ],
      "text/latex": [
       "'!@\\#\\$\\textbackslash{}n\\textbackslash{}t\\%\\textasciicircum{} \\&*(). 문자열의 바이트수: 14바이트'"
      ],
      "text/markdown": [
       "'!@#$\\n\\t%^ &amp;*(). 문자열의 바이트수: 14바이트'"
      ],
      "text/plain": [
       "[1] \"!@#$\\n\\t%^ &*(). 문자열의 바이트수: 14바이트\""
      ]
     },
     "metadata": {},
     "output_type": "display_data"
    }
   ],
   "source": [
    "# 한글문자열 데이터의 문자갯수와 바이트수\n",
    "\n",
    "sprintf('%s 문자열의 문자갯수: %d개', str_symbol, nchar(str_symbol))\n",
    "# - base::nchar() 함수이용 문자갯수 계산\n",
    "\n",
    "# install.package('stringr')\n",
    "library(stringr)\n",
    "sprintf('%s 문자열의 문자갯수: %d개', str_symbol, str_length(str_symbol))\n",
    "# - stringr::str_length() 함수이용 문자갯수 계산\n",
    "\n",
    "sprintf('%s 문자열의 바이트수: %d바이트', str_symbol, nchar(str_symbol, type = 'bytes'))"
   ]
  },
  {
   "cell_type": "markdown",
   "metadata": {},
   "source": [
    "# <font color = 'blue'>문자열 분해와 결합(p.46)</font>"
   ]
  },
  {
   "cell_type": "markdown",
   "metadata": {},
   "source": [
    "### 영어문자열의 분해"
   ]
  },
  {
   "cell_type": "markdown",
   "metadata": {},
   "source": [
    "#### 영어문자열 데이터의 분해: strsplit()\n",
    "* 문장(sentence) --> 단어(word) --> 철자(letter)"
   ]
  },
  {
   "cell_type": "code",
   "execution_count": 38,
   "metadata": {},
   "outputs": [
    {
     "data": {
      "text/html": [
       "'Learning R is so interesting'"
      ],
      "text/latex": [
       "'Learning R is so interesting'"
      ],
      "text/markdown": [
       "'Learning R is so interesting'"
      ],
      "text/plain": [
       "[1] \"Learning R is so interesting\""
      ]
     },
     "metadata": {},
     "output_type": "display_data"
    },
    {
     "name": "stdout",
     "output_type": "stream",
     "text": [
      "[1] \"Learning R is so interesting\"\n"
     ]
    },
    {
     "data": {
      "text/html": [
       "'character'"
      ],
      "text/latex": [
       "'character'"
      ],
      "text/markdown": [
       "'character'"
      ],
      "text/plain": [
       "[1] \"character\""
      ]
     },
     "metadata": {},
     "output_type": "display_data"
    },
    {
     "name": "stdout",
     "output_type": "stream",
     "text": [
      "[1] \"character\"\n"
     ]
    }
   ],
   "source": [
    "# 분해대상 문장 텍스트데이터 준비\n",
    "mystr <- 'Learning R is so interesting'\n",
    "\n",
    "mystr\n",
    "print(mystr)\n",
    "# - 문자열 데이터가 하나의 문장으로 준비됨\n",
    "\n",
    "class(mystr)\n",
    "print(class(mystr))\n",
    "# - 하나의 문장은 문자열 객체형식임"
   ]
  },
  {
   "cell_type": "markdown",
   "metadata": {},
   "source": [
    "#### 특정문자를 기준으로 문장(sentence)을 단어(word) 단위로 분해하기"
   ]
  },
  {
   "cell_type": "code",
   "execution_count": 72,
   "metadata": {},
   "outputs": [
    {
     "data": {
      "text/html": [
       "<ol>\n",
       "\t<li><ol class=list-inline>\n",
       "\t<li>'Learning'</li>\n",
       "\t<li>'R'</li>\n",
       "\t<li>'is'</li>\n",
       "\t<li>'so'</li>\n",
       "\t<li>'interesting'</li>\n",
       "</ol>\n",
       "</li>\n",
       "</ol>\n"
      ],
      "text/latex": [
       "\\begin{enumerate}\n",
       "\\item \\begin{enumerate*}\n",
       "\\item 'Learning'\n",
       "\\item 'R'\n",
       "\\item 'is'\n",
       "\\item 'so'\n",
       "\\item 'interesting'\n",
       "\\end{enumerate*}\n",
       "\n",
       "\\end{enumerate}\n"
      ],
      "text/markdown": [
       "1. 1. 'Learning'\n",
       "2. 'R'\n",
       "3. 'is'\n",
       "4. 'so'\n",
       "5. 'interesting'\n",
       "\n",
       "\n",
       "\n",
       "\n",
       "\n"
      ],
      "text/plain": [
       "[[1]]\n",
       "[1] \"Learning\"    \"R\"           \"is\"          \"so\"          \"interesting\"\n"
      ]
     },
     "metadata": {},
     "output_type": "display_data"
    },
    {
     "name": "stdout",
     "output_type": "stream",
     "text": [
      "[[1]]\n",
      "[1] \"Learning\"    \"R\"           \"is\"          \"so\"          \"interesting\"\n",
      "\n"
     ]
    },
    {
     "data": {
      "text/html": [
       "'list'"
      ],
      "text/latex": [
       "'list'"
      ],
      "text/markdown": [
       "'list'"
      ],
      "text/plain": [
       "[1] \"list\""
      ]
     },
     "metadata": {},
     "output_type": "display_data"
    },
    {
     "name": "stdout",
     "output_type": "stream",
     "text": [
      "[1] \"list\"\n"
     ]
    }
   ],
   "source": [
    "# base::strsplit() 함수이용 분해\n",
    "\n",
    "mystr_word <- strsplit(x = mystr, split = ' ')\n",
    "# - 특정문장을 단어단위로 분해하기 위해서 분리기준을 공백으로 지정함\n",
    "\n",
    "mystr_word\n",
    "print(mystr_word)\n",
    "# - 공백을 기준으로 문자열이 단어단위로 분해됨\n",
    "\n",
    "class(mystr_word)\n",
    "print(class(mystr_word)) \n",
    "# - 분해된 문자열 데이터는 리스트 객체형식임"
   ]
  },
  {
   "cell_type": "code",
   "execution_count": 74,
   "metadata": {},
   "outputs": [
    {
     "data": {
      "text/html": [
       "<ol>\n",
       "\t<li><ol class=list-inline>\n",
       "\t<li>'Learning'</li>\n",
       "\t<li>'R'</li>\n",
       "\t<li>'is'</li>\n",
       "\t<li>'so'</li>\n",
       "\t<li>'interesting'</li>\n",
       "</ol>\n",
       "</li>\n",
       "</ol>\n"
      ],
      "text/latex": [
       "\\begin{enumerate}\n",
       "\\item \\begin{enumerate*}\n",
       "\\item 'Learning'\n",
       "\\item 'R'\n",
       "\\item 'is'\n",
       "\\item 'so'\n",
       "\\item 'interesting'\n",
       "\\end{enumerate*}\n",
       "\n",
       "\\end{enumerate}\n"
      ],
      "text/markdown": [
       "1. 1. 'Learning'\n",
       "2. 'R'\n",
       "3. 'is'\n",
       "4. 'so'\n",
       "5. 'interesting'\n",
       "\n",
       "\n",
       "\n",
       "\n",
       "\n"
      ],
      "text/plain": [
       "[[1]]\n",
       "[1] \"Learning\"    \"R\"           \"is\"          \"so\"          \"interesting\"\n"
      ]
     },
     "metadata": {},
     "output_type": "display_data"
    },
    {
     "name": "stdout",
     "output_type": "stream",
     "text": [
      "[[1]]\n",
      "[1] \"Learning\"    \"R\"           \"is\"          \"so\"          \"interesting\"\n",
      "\n"
     ]
    },
    {
     "data": {
      "text/html": [
       "'list'"
      ],
      "text/latex": [
       "'list'"
      ],
      "text/markdown": [
       "'list'"
      ],
      "text/plain": [
       "[1] \"list\""
      ]
     },
     "metadata": {},
     "output_type": "display_data"
    },
    {
     "name": "stdout",
     "output_type": "stream",
     "text": [
      "[1] \"list\"\n"
     ]
    }
   ],
   "source": [
    "# stringr::str_split() 함수이용 분해\n",
    "\n",
    "library(stringr)\n",
    "mystr_word <- str_split(string = mystr, pattern = ' ')\n",
    "# - 특정문장을 단어단위로 분해하기 위해서 분리기준을 공백으로 지정함\n",
    "\n",
    "mystr_word\n",
    "print(mystr_word)\n",
    "# - 공백을 기준으로 문자열이 단어단위로 분해됨\n",
    "\n",
    "class(mystr_word)\n",
    "print(class(mystr_word)) \n",
    "# - 분해된 문자열 데이터는 리스트 객체형식임"
   ]
  },
  {
   "cell_type": "markdown",
   "metadata": {},
   "source": [
    "#### 공백(빈칸)없음을 기준으로 단어(word)를 철자(letter) 단위로 분해하기"
   ]
  },
  {
   "cell_type": "code",
   "execution_count": 45,
   "metadata": {},
   "outputs": [
    {
     "data": {
      "text/html": [
       "'interesting'"
      ],
      "text/latex": [
       "'interesting'"
      ],
      "text/markdown": [
       "'interesting'"
      ],
      "text/plain": [
       "[1] \"interesting\""
      ]
     },
     "metadata": {},
     "output_type": "display_data"
    }
   ],
   "source": [
    "# 분해대상 단어 텍스트데이터 준비\n",
    "\n",
    "mystr_word[[1]][5]"
   ]
  },
  {
   "cell_type": "code",
   "execution_count": 75,
   "metadata": {},
   "outputs": [
    {
     "data": {
      "text/html": [
       "<ol>\n",
       "\t<li><ol class=list-inline>\n",
       "\t<li>'i'</li>\n",
       "\t<li>'n'</li>\n",
       "\t<li>'t'</li>\n",
       "\t<li>'e'</li>\n",
       "\t<li>'r'</li>\n",
       "\t<li>'e'</li>\n",
       "\t<li>'s'</li>\n",
       "\t<li>'t'</li>\n",
       "\t<li>'i'</li>\n",
       "\t<li>'n'</li>\n",
       "\t<li>'g'</li>\n",
       "</ol>\n",
       "</li>\n",
       "</ol>\n"
      ],
      "text/latex": [
       "\\begin{enumerate}\n",
       "\\item \\begin{enumerate*}\n",
       "\\item 'i'\n",
       "\\item 'n'\n",
       "\\item 't'\n",
       "\\item 'e'\n",
       "\\item 'r'\n",
       "\\item 'e'\n",
       "\\item 's'\n",
       "\\item 't'\n",
       "\\item 'i'\n",
       "\\item 'n'\n",
       "\\item 'g'\n",
       "\\end{enumerate*}\n",
       "\n",
       "\\end{enumerate}\n"
      ],
      "text/markdown": [
       "1. 1. 'i'\n",
       "2. 'n'\n",
       "3. 't'\n",
       "4. 'e'\n",
       "5. 'r'\n",
       "6. 'e'\n",
       "7. 's'\n",
       "8. 't'\n",
       "9. 'i'\n",
       "10. 'n'\n",
       "11. 'g'\n",
       "\n",
       "\n",
       "\n",
       "\n",
       "\n"
      ],
      "text/plain": [
       "[[1]]\n",
       " [1] \"i\" \"n\" \"t\" \"e\" \"r\" \"e\" \"s\" \"t\" \"i\" \"n\" \"g\"\n"
      ]
     },
     "metadata": {},
     "output_type": "display_data"
    },
    {
     "name": "stdout",
     "output_type": "stream",
     "text": [
      "[[1]]\n",
      " [1] \"i\" \"n\" \"t\" \"e\" \"r\" \"e\" \"s\" \"t\" \"i\" \"n\" \"g\"\n",
      "\n"
     ]
    },
    {
     "data": {
      "text/html": [
       "'list'"
      ],
      "text/latex": [
       "'list'"
      ],
      "text/markdown": [
       "'list'"
      ],
      "text/plain": [
       "[1] \"list\""
      ]
     },
     "metadata": {},
     "output_type": "display_data"
    },
    {
     "name": "stdout",
     "output_type": "stream",
     "text": [
      "[1] \"list\"\n"
     ]
    }
   ],
   "source": [
    "# base::strsplit() 함수이용 분해\n",
    "\n",
    "mystr_letter <- strsplit(x = mystr_word[[1]][5], split = '')\n",
    "\n",
    "mystr_letter\n",
    "print(mystr_letter)\n",
    "# - 공백없음을 기준으로 문자열이 철자단위로 분해됨\n",
    "\n",
    "class(mystr_letter)\n",
    "print(class(mystr_letter))\n",
    "# - 분해된 문자열데이터는 리스트 객체형식임"
   ]
  },
  {
   "cell_type": "code",
   "execution_count": 76,
   "metadata": {},
   "outputs": [
    {
     "data": {
      "text/html": [
       "<ol>\n",
       "\t<li><ol class=list-inline>\n",
       "\t<li>'i'</li>\n",
       "\t<li>'n'</li>\n",
       "\t<li>'t'</li>\n",
       "\t<li>'e'</li>\n",
       "\t<li>'r'</li>\n",
       "\t<li>'e'</li>\n",
       "\t<li>'s'</li>\n",
       "\t<li>'t'</li>\n",
       "\t<li>'i'</li>\n",
       "\t<li>'n'</li>\n",
       "\t<li>'g'</li>\n",
       "</ol>\n",
       "</li>\n",
       "</ol>\n"
      ],
      "text/latex": [
       "\\begin{enumerate}\n",
       "\\item \\begin{enumerate*}\n",
       "\\item 'i'\n",
       "\\item 'n'\n",
       "\\item 't'\n",
       "\\item 'e'\n",
       "\\item 'r'\n",
       "\\item 'e'\n",
       "\\item 's'\n",
       "\\item 't'\n",
       "\\item 'i'\n",
       "\\item 'n'\n",
       "\\item 'g'\n",
       "\\end{enumerate*}\n",
       "\n",
       "\\end{enumerate}\n"
      ],
      "text/markdown": [
       "1. 1. 'i'\n",
       "2. 'n'\n",
       "3. 't'\n",
       "4. 'e'\n",
       "5. 'r'\n",
       "6. 'e'\n",
       "7. 's'\n",
       "8. 't'\n",
       "9. 'i'\n",
       "10. 'n'\n",
       "11. 'g'\n",
       "\n",
       "\n",
       "\n",
       "\n",
       "\n"
      ],
      "text/plain": [
       "[[1]]\n",
       " [1] \"i\" \"n\" \"t\" \"e\" \"r\" \"e\" \"s\" \"t\" \"i\" \"n\" \"g\"\n"
      ]
     },
     "metadata": {},
     "output_type": "display_data"
    },
    {
     "name": "stdout",
     "output_type": "stream",
     "text": [
      "[[1]]\n",
      " [1] \"i\" \"n\" \"t\" \"e\" \"r\" \"e\" \"s\" \"t\" \"i\" \"n\" \"g\"\n",
      "\n"
     ]
    },
    {
     "data": {
      "text/html": [
       "'list'"
      ],
      "text/latex": [
       "'list'"
      ],
      "text/markdown": [
       "'list'"
      ],
      "text/plain": [
       "[1] \"list\""
      ]
     },
     "metadata": {},
     "output_type": "display_data"
    },
    {
     "name": "stdout",
     "output_type": "stream",
     "text": [
      "[1] \"list\"\n"
     ]
    }
   ],
   "source": [
    "# stringr::str_split() 함수이용 분해\n",
    "\n",
    "library(stringr)\n",
    "mystr_letter <- str_split(string = mystr_word[[1]][5], pattern = '')\n",
    "\n",
    "mystr_letter\n",
    "print(mystr_letter)\n",
    "# - 공백없음을 기준으로 문자열이 철자단위로 분해됨\n",
    "\n",
    "class(mystr_letter)\n",
    "print(class(mystr_letter))\n",
    "# - 분해된 문자열데이터는 리스트 객체형식임"
   ]
  },
  {
   "cell_type": "markdown",
   "metadata": {},
   "source": [
    "#### 여러 단어(word)들을 공백(빈칸)없음을 기준으로  철자단위(letter)로 분해"
   ]
  },
  {
   "cell_type": "code",
   "execution_count": 54,
   "metadata": {},
   "outputs": [
    {
     "name": "stdout",
     "output_type": "stream",
     "text": [
      "[[1]]\n",
      "[1] \"Learning\"    \"R\"           \"is\"          \"so\"          \"interesting\"\n",
      "\n"
     ]
    }
   ],
   "source": [
    "# 준비된 여러 단어들\n",
    "print(mystr_word)"
   ]
  },
  {
   "cell_type": "code",
   "execution_count": 55,
   "metadata": {},
   "outputs": [
    {
     "name": "stdout",
     "output_type": "stream",
     "text": [
      "list()\n"
     ]
    }
   ],
   "source": [
    "# 텅빈 리스트객체 생성\n",
    "myletters <- list()\n",
    "print(myletters)\n",
    "# - 여러 단어들을 철자로 분리했을 때 데이터를 저장할 용도임"
   ]
  },
  {
   "cell_type": "code",
   "execution_count": 96,
   "metadata": {},
   "outputs": [
    {
     "name": "stdout",
     "output_type": "stream",
     "text": [
      "$Learning\n",
      "[1] \"L\" \"e\" \"a\" \"r\" \"n\" \"i\" \"n\" \"g\"\n",
      "\n",
      "$R\n",
      "[1] \"R\"\n",
      "\n",
      "$is\n",
      "[1] \"i\" \"s\"\n",
      "\n",
      "$so\n",
      "[1] \"s\" \"o\"\n",
      "\n",
      "$interesting\n",
      " [1] \"i\" \"n\" \"t\" \"e\" \"r\" \"e\" \"s\" \"t\" \"i\" \"n\" \"g\"\n",
      "\n"
     ]
    },
    {
     "data": {
      "text/html": [
       "'list'"
      ],
      "text/latex": [
       "'list'"
      ],
      "text/markdown": [
       "'list'"
      ],
      "text/plain": [
       "[1] \"list\""
      ]
     },
     "metadata": {},
     "output_type": "display_data"
    },
    {
     "name": "stdout",
     "output_type": "stream",
     "text": [
      "$Learning\n",
      "[1] \"L\" \"e\" \"a\" \"r\" \"n\" \"i\" \"n\" \"g\"\n",
      "\n",
      "$R\n",
      "[1] \"R\"\n",
      "\n",
      "$is\n",
      "[1] \"i\" \"s\"\n",
      "\n",
      "$so\n",
      "[1] \"s\" \"o\"\n",
      "\n",
      "$interesting\n",
      " [1] \"i\" \"n\" \"t\" \"e\" \"r\" \"e\" \"s\" \"t\" \"i\" \"n\" \"g\"\n",
      "\n"
     ]
    },
    {
     "data": {
      "text/html": [
       "'list'"
      ],
      "text/latex": [
       "'list'"
      ],
      "text/markdown": [
       "'list'"
      ],
      "text/plain": [
       "[1] \"list\""
      ]
     },
     "metadata": {},
     "output_type": "display_data"
    }
   ],
   "source": [
    "# for반복구문을 이용해 개별 단어(word)들을 철자(letter) 단위로 분해\n",
    "\n",
    "for (i in 1:length(mystr_word[[1]])) {\n",
    "    myletters[i] <- strsplit(x = mystr_word[[1]][i], split = '')\n",
    "}\n",
    "# - 1:length(mystr_word[[1]]) --> 1, 2, 3, 4, 5 --> 1:5를 의미함\n",
    "# - strsplit() 함수의 파라미터 x와 split은 생략가능\n",
    "\n",
    "print(myletters)\n",
    "class(myletters)\n",
    "# - 리스트객체에 리스트 항목요소별로 단어별 철자가 분해되어 있음\n",
    "\n",
    "for (i in seq(length(mystr_word[[1]]))) {\n",
    "    myletters[i] <- str_split(string = mystr_word[[1]][i], pattern = '')\n",
    "}\n",
    "# - seq(length(mystr_word[[1]])) --> 1, 2, 3, 4, 5 --> 1:5를 의미함\n",
    "# - str_split() 함수의 파라미터 string와 pattern은 생략가능\n",
    "\n",
    "print(myletters)\n",
    "class(myletters)\n",
    "# - 리스트객체에 리스트 항목요소별로 단어별 철자가 분해되어 있음"
   ]
  },
  {
   "cell_type": "code",
   "execution_count": 109,
   "metadata": {},
   "outputs": [
    {
     "name": "stdout",
     "output_type": "stream",
     "text": [
      "[[1]]\n",
      "[[1]][[1]]\n",
      "[1] \"L\" \"e\" \"a\" \"r\" \"n\" \"i\" \"n\" \"g\"\n",
      "\n",
      "\n",
      "[[2]]\n",
      "[[2]][[1]]\n",
      "[1] \"R\"\n",
      "\n",
      "\n",
      "[[3]]\n",
      "[[3]][[1]]\n",
      "[1] \"i\" \"s\"\n",
      "\n",
      "\n",
      "[[4]]\n",
      "[[4]][[1]]\n",
      "[1] \"s\" \"o\"\n",
      "\n",
      "\n",
      "[[5]]\n",
      "[[5]][[1]]\n",
      " [1] \"i\" \"n\" \"t\" \"e\" \"r\" \"e\" \"s\" \"t\" \"i\" \"n\" \"g\"\n",
      "\n",
      "\n"
     ]
    },
    {
     "data": {
      "text/html": [
       "'list'"
      ],
      "text/latex": [
       "'list'"
      ],
      "text/markdown": [
       "'list'"
      ],
      "text/plain": [
       "[1] \"list\""
      ]
     },
     "metadata": {},
     "output_type": "display_data"
    }
   ],
   "source": [
    "# purrr::map()함수와 stringr::str_split() 함수이용 \n",
    "# 개별 단어(word)들을 철자(letter) 단위로 분해\n",
    "\n",
    "library(purrr)\n",
    "library(stringr)\n",
    "\n",
    "myletters <- map(mystr_word[[1]], str_split, pattern = '')\n",
    "\n",
    "print(myletters)\n",
    "class(myletters)\n",
    "# - 리스트객체에 리스트 항목요소별로 단어별 철자가 분해되어 있음"
   ]
  },
  {
   "cell_type": "code",
   "execution_count": 157,
   "metadata": {},
   "outputs": [
    {
     "name": "stdout",
     "output_type": "stream",
     "text": [
      "$Learning\n",
      "[1] \"L\" \"e\" \"a\" \"r\" \"n\" \"i\" \"n\" \"g\"\n",
      "\n",
      "$R\n",
      "[1] \"R\"\n",
      "\n",
      "$is\n",
      "[1] \"i\" \"s\"\n",
      "\n",
      "$so\n",
      "[1] \"s\" \"o\"\n",
      "\n",
      "$interesting\n",
      " [1] \"i\" \"n\" \"t\" \"e\" \"r\" \"e\" \"s\" \"t\" \"i\" \"n\" \"g\"\n",
      "\n"
     ]
    },
    {
     "data": {
      "text/html": [
       "'list'"
      ],
      "text/latex": [
       "'list'"
      ],
      "text/markdown": [
       "'list'"
      ],
      "text/plain": [
       "[1] \"list\""
      ]
     },
     "metadata": {},
     "output_type": "display_data"
    },
    {
     "name": "stdout",
     "output_type": "stream",
     "text": [
      "$Learning\n",
      "[1] \"L\" \"e\" \"a\" \"r\" \"n\" \"i\" \"n\" \"g\"\n",
      "\n",
      "$R\n",
      "[1] \"R\"\n",
      "\n",
      "$is\n",
      "[1] \"i\" \"s\"\n",
      "\n",
      "$so\n",
      "[1] \"s\" \"o\"\n",
      "\n",
      "$interesting\n",
      " [1] \"i\" \"n\" \"t\" \"e\" \"r\" \"e\" \"s\" \"t\" \"i\" \"n\" \"g\"\n",
      "\n"
     ]
    },
    {
     "data": {
      "text/html": [
       "'list'"
      ],
      "text/latex": [
       "'list'"
      ],
      "text/markdown": [
       "'list'"
      ],
      "text/plain": [
       "[1] \"list\""
      ]
     },
     "metadata": {},
     "output_type": "display_data"
    }
   ],
   "source": [
    "# base패키지 sapply()함수와 strsplit() 함수이용 \n",
    "# 개별 단어(word)들을 철자(letter) 단위로 분해\n",
    "\n",
    "myletters <- sapply(X = mystr_word[[1]], FUN = strsplit, split = '')\n",
    "# - sapply()에 일반함수 strsplit() 적용\n",
    "# - X와 FUN이라는 파라미터명은 생략가능함\n",
    "\n",
    "print(myletters)\n",
    "class(myletters)\n",
    "# - 리스트객체에 리스트 항목요소별로 단어별 철자가 분해되어 있음\n",
    "\n",
    "myletters <- sapply(mystr_word[[1]], function(x) {strsplit(x, split = '')})\n",
    "# - sapply()에 익명/무명함수(the anonymous functions) 적용\n",
    "# - X와 FUN이라는 파라미터명은 생략되었음\n",
    "\n",
    "print(myletters)\n",
    "class(myletters)\n",
    "# - 리스트객체에 리스트 항목요소별로 단어별 철자가 분해되어 있음"
   ]
  },
  {
   "cell_type": "markdown",
   "metadata": {},
   "source": [
    "### 영어문자열의 결합"
   ]
  },
  {
   "cell_type": "markdown",
   "metadata": {},
   "source": [
    "#### 영어문자열 데이터의 결합: paste()\n",
    "* 철자(letter) --> 단어(word) --> 문장(sentence) "
   ]
  },
  {
   "cell_type": "code",
   "execution_count": 116,
   "metadata": {},
   "outputs": [
    {
     "name": "stdout",
     "output_type": "stream",
     "text": [
      "$Learning\n",
      "[1] \"L\" \"e\" \"a\" \"r\" \"n\" \"i\" \"n\" \"g\"\n",
      "\n",
      "$R\n",
      "[1] \"R\"\n",
      "\n",
      "$is\n",
      "[1] \"i\" \"s\"\n",
      "\n",
      "$so\n",
      "[1] \"s\" \"o\"\n",
      "\n",
      "$interesting\n",
      " [1] \"i\" \"n\" \"t\" \"e\" \"r\" \"e\" \"s\" \"t\" \"i\" \"n\" \"g\"\n",
      "\n"
     ]
    },
    {
     "data": {
      "text/html": [
       "'list'"
      ],
      "text/latex": [
       "'list'"
      ],
      "text/markdown": [
       "'list'"
      ],
      "text/plain": [
       "[1] \"list\""
      ]
     },
     "metadata": {},
     "output_type": "display_data"
    }
   ],
   "source": [
    "# 준비된 철자단위 문자열 데이터\n",
    "print(myletters)\n",
    "class(myletters)\n",
    "# - 리스트객체에 리스트 항목요소별로 단어별 철자가 분해되어 있음"
   ]
  },
  {
   "cell_type": "code",
   "execution_count": 146,
   "metadata": {},
   "outputs": [
    {
     "data": {
      "text/html": [
       "<ol class=list-inline>\n",
       "\t<li>'L'</li>\n",
       "\t<li>'e'</li>\n",
       "\t<li>'a'</li>\n",
       "\t<li>'r'</li>\n",
       "\t<li>'n'</li>\n",
       "\t<li>'i'</li>\n",
       "\t<li>'n'</li>\n",
       "\t<li>'g'</li>\n",
       "</ol>\n"
      ],
      "text/latex": [
       "\\begin{enumerate*}\n",
       "\\item 'L'\n",
       "\\item 'e'\n",
       "\\item 'a'\n",
       "\\item 'r'\n",
       "\\item 'n'\n",
       "\\item 'i'\n",
       "\\item 'n'\n",
       "\\item 'g'\n",
       "\\end{enumerate*}\n"
      ],
      "text/markdown": [
       "1. 'L'\n",
       "2. 'e'\n",
       "3. 'a'\n",
       "4. 'r'\n",
       "5. 'n'\n",
       "6. 'i'\n",
       "7. 'n'\n",
       "8. 'g'\n",
       "\n",
       "\n"
      ],
      "text/plain": [
       "[1] \"L\" \"e\" \"a\" \"r\" \"n\" \"i\" \"n\" \"g\""
      ]
     },
     "metadata": {},
     "output_type": "display_data"
    },
    {
     "data": {
      "text/html": [
       "'Learning'"
      ],
      "text/latex": [
       "'Learning'"
      ],
      "text/markdown": [
       "'Learning'"
      ],
      "text/plain": [
       "[1] \"Learning\""
      ]
     },
     "metadata": {},
     "output_type": "display_data"
    },
    {
     "data": {
      "text/html": [
       "'Learning'"
      ],
      "text/latex": [
       "'Learning'"
      ],
      "text/markdown": [
       "'Learning'"
      ],
      "text/plain": [
       "[1] \"Learning\""
      ]
     },
     "metadata": {},
     "output_type": "display_data"
    }
   ],
   "source": [
    "# 분해된 특정단어 철자들을 결합해 단어화함\n",
    "myletters[[1]]\n",
    "\n",
    "paste(myletters[[1]], collapse = '')\n",
    "# - base::paste() 함수이용\n",
    "\n",
    "library(stringr)\n",
    "str_c(myletters[[1]], collapse = '')\n",
    "# - stringr::str_c() 함수이용"
   ]
  },
  {
   "cell_type": "markdown",
   "metadata": {},
   "source": [
    "#### 여러 철자들을 단어단위로 결합"
   ]
  },
  {
   "cell_type": "code",
   "execution_count": 147,
   "metadata": {},
   "outputs": [
    {
     "name": "stdout",
     "output_type": "stream",
     "text": [
      "list()\n"
     ]
    }
   ],
   "source": [
    "# 텅빈 리스트객체 생성\n",
    "mywords <- list()\n",
    "print(mywords)\n",
    "# - 분해된 철자들을 단어단위로 결합한 데이터를 저장할 용도임"
   ]
  },
  {
   "cell_type": "code",
   "execution_count": 162,
   "metadata": {},
   "outputs": [
    {
     "name": "stdout",
     "output_type": "stream",
     "text": [
      "$Learning\n",
      "[1] \"Learning\"\n",
      "\n",
      "$R\n",
      "[1] \"R\"\n",
      "\n",
      "$is\n",
      "[1] \"is\"\n",
      "\n",
      "$so\n",
      "[1] \"so\"\n",
      "\n",
      "$interesting\n",
      "[1] \"interesting\"\n",
      "\n"
     ]
    },
    {
     "data": {
      "text/html": [
       "'list'"
      ],
      "text/latex": [
       "'list'"
      ],
      "text/markdown": [
       "'list'"
      ],
      "text/plain": [
       "[1] \"list\""
      ]
     },
     "metadata": {},
     "output_type": "display_data"
    },
    {
     "name": "stdout",
     "output_type": "stream",
     "text": [
      "$Learning\n",
      "[1] \"Learning\"\n",
      "\n",
      "$R\n",
      "[1] \"R\"\n",
      "\n",
      "$is\n",
      "[1] \"is\"\n",
      "\n",
      "$so\n",
      "[1] \"so\"\n",
      "\n",
      "$interesting\n",
      "[1] \"interesting\"\n",
      "\n"
     ]
    },
    {
     "data": {
      "text/html": [
       "'list'"
      ],
      "text/latex": [
       "'list'"
      ],
      "text/markdown": [
       "'list'"
      ],
      "text/plain": [
       "[1] \"list\""
      ]
     },
     "metadata": {},
     "output_type": "display_data"
    }
   ],
   "source": [
    "# for구문을 이용한 분해된 철자(letter)들을 단어(word) 단위로 결합\n",
    "\n",
    "for (i in 1:length(myletters)) {\n",
    "    mywords[i] <- paste(myletters[[i]], collapse = '')\n",
    "}\n",
    "# - seq(length(myletters)) --> 1, 2, 3, 4, 5 --> 1:5를 의미함\n",
    "\n",
    "print(mywords)\n",
    "class(mywords)\n",
    "# - 리스트객체에 리스트 항목요소별로 단어가 들어 있음\n",
    "\n",
    "for (i in seq(length(myletters))) {\n",
    "    mywords[i] <- str_c(myletters[[i]], collapse = '')\n",
    "}\n",
    "# - seq(length(myletters)) --> 1, 2, 3, 4, 5 --> 1:5를 의미함\n",
    "\n",
    "print(mywords)\n",
    "class(mywords)\n",
    "# - 리스트객체에 리스트 항목요소별로 단어가 들어 있음"
   ]
  },
  {
   "cell_type": "code",
   "execution_count": 167,
   "metadata": {},
   "outputs": [
    {
     "name": "stdout",
     "output_type": "stream",
     "text": [
      "$Learning\n",
      "[1] \"Learning\"\n",
      "\n",
      "$R\n",
      "[1] \"R\"\n",
      "\n",
      "$is\n",
      "[1] \"is\"\n",
      "\n",
      "$so\n",
      "[1] \"so\"\n",
      "\n",
      "$interesting\n",
      "[1] \"interesting\"\n",
      "\n"
     ]
    },
    {
     "data": {
      "text/html": [
       "'list'"
      ],
      "text/latex": [
       "'list'"
      ],
      "text/markdown": [
       "'list'"
      ],
      "text/plain": [
       "[1] \"list\""
      ]
     },
     "metadata": {},
     "output_type": "display_data"
    }
   ],
   "source": [
    "# purrr::map()함수와 stringr::str_c() 함수이용 \n",
    "# 개별 철자(letter)들을 단어(word) 단위로 결합\n",
    "\n",
    "library(purrr)\n",
    "library(stringr)\n",
    "\n",
    "mywords <- map(myletters, str_c, collapse = '')\n",
    "\n",
    "print(mywords)\n",
    "class(mywords)\n",
    "# - 리스트객체에 리스트 항목요소별로 단어별 철자가 분해되어 있음"
   ]
  },
  {
   "cell_type": "code",
   "execution_count": 168,
   "metadata": {},
   "outputs": [
    {
     "name": "stdout",
     "output_type": "stream",
     "text": [
      "$Learning\n",
      "[1] \"Learning\"\n",
      "\n",
      "$R\n",
      "[1] \"R\"\n",
      "\n",
      "$is\n",
      "[1] \"is\"\n",
      "\n",
      "$so\n",
      "[1] \"so\"\n",
      "\n",
      "$interesting\n",
      "[1] \"interesting\"\n",
      "\n"
     ]
    },
    {
     "data": {
      "text/html": [
       "'list'"
      ],
      "text/latex": [
       "'list'"
      ],
      "text/markdown": [
       "'list'"
      ],
      "text/plain": [
       "[1] \"list\""
      ]
     },
     "metadata": {},
     "output_type": "display_data"
    },
    {
     "name": "stdout",
     "output_type": "stream",
     "text": [
      "[[1]]\n",
      "[1] \"Learning\"\n",
      "\n",
      "[[2]]\n",
      "[1] \"R\"\n",
      "\n",
      "[[3]]\n",
      "[1] \"is\"\n",
      "\n",
      "[[4]]\n",
      "[1] \"so\"\n",
      "\n",
      "[[5]]\n",
      "[1] \"interesting\"\n",
      "\n"
     ]
    },
    {
     "data": {
      "text/html": [
       "'list'"
      ],
      "text/latex": [
       "'list'"
      ],
      "text/markdown": [
       "'list'"
      ],
      "text/plain": [
       "[1] \"list\""
      ]
     },
     "metadata": {},
     "output_type": "display_data"
    }
   ],
   "source": [
    "# base패키지 sapply()함수와 strsplit() 함수이용 \n",
    "# 개별 철자(letter)들을 단어(word) 단위로 결합\n",
    "\n",
    "mywords <- lapply(X = myletters, FUN = paste, collapse = '')\n",
    "# - lapply()에 일반함수 paste() 적용\n",
    "# - X와 FUN이라는 파라미터명은 생략가능함\n",
    "\n",
    "print(mywords)\n",
    "class(mywords)\n",
    "# - 리스트객체에 리스트 항목요소별로 단어가 들어 있음\n",
    "\n",
    "mywords <- lapply(mystr_word[[1]], function(x) {paste(x, collapse = '')})\n",
    "# - sapply()에 익명/무명함수(the anonymous functions) 적용\n",
    "# - X와 FUN이라는 파라미터명은 생략되었음\n",
    "\n",
    "print(mywords)\n",
    "class(mywords)\n",
    "# - 리스트객체에 리스트 항목요소별로 단어가 들어 있음"
   ]
  },
  {
   "cell_type": "markdown",
   "metadata": {},
   "source": [
    "#### 여러 단어들을 문장단위로 결합"
   ]
  },
  {
   "cell_type": "code",
   "execution_count": 177,
   "metadata": {},
   "outputs": [
    {
     "name": "stdout",
     "output_type": "stream",
     "text": [
      "[1] \"Learning R is so interesting\"\n",
      "[1] \"Learning R is so interesting\"\n"
     ]
    }
   ],
   "source": [
    "mysentence <- paste(mywords, collapse = ' ')\n",
    "# - base::paste() 함수이용\n",
    "\n",
    "print(mysentence)\n",
    "\n",
    "library(stringr)\n",
    "mysentence <- str_c(mywords, collapse = ' ')\n",
    "# - stringr::str_c() 함수이용\n",
    "\n",
    "print(mysentence)"
   ]
  },
  {
   "cell_type": "markdown",
   "metadata": {},
   "source": [
    "### 한글문자열 데이터의 분해"
   ]
  },
  {
   "cell_type": "markdown",
   "metadata": {},
   "source": [
    "#### 한글문자열 데이터의 분해: strsplit()\n",
    "* 문장(sentence) --> 단어(word) --> 철자(letter)"
   ]
  },
  {
   "cell_type": "code",
   "execution_count": 178,
   "metadata": {},
   "outputs": [
    {
     "data": {
      "text/html": [
       "'알면 알수록 파고싶은 R'"
      ],
      "text/latex": [
       "'알면 알수록 파고싶은 R'"
      ],
      "text/markdown": [
       "'알면 알수록 파고싶은 R'"
      ],
      "text/plain": [
       "[1] \"알면 알수록 파고싶은 R\""
      ]
     },
     "metadata": {},
     "output_type": "display_data"
    },
    {
     "name": "stdout",
     "output_type": "stream",
     "text": [
      "[1] \"알면 알수록 파고싶은 R\"\n"
     ]
    },
    {
     "data": {
      "text/html": [
       "'character'"
      ],
      "text/latex": [
       "'character'"
      ],
      "text/markdown": [
       "'character'"
      ],
      "text/plain": [
       "[1] \"character\""
      ]
     },
     "metadata": {},
     "output_type": "display_data"
    },
    {
     "name": "stdout",
     "output_type": "stream",
     "text": [
      "[1] \"character\"\n"
     ]
    }
   ],
   "source": [
    "# 분해대상 문장 텍스트데이터 준비\n",
    "mystr <- '알면 알수록 파고싶은 R'\n",
    "\n",
    "mystr\n",
    "print(mystr)\n",
    "# - 문자열 데이터가 하나의 문장으로 준비됨\n",
    "\n",
    "class(mystr)\n",
    "print(class(mystr))\n",
    "# - 하나의 문장은 문자열 객체형식임"
   ]
  },
  {
   "cell_type": "markdown",
   "metadata": {},
   "source": [
    "#### 특정문자를 기준으로 문장(sentence)을 단어(word) 단위로 분해하기"
   ]
  },
  {
   "cell_type": "code",
   "execution_count": 179,
   "metadata": {},
   "outputs": [
    {
     "data": {
      "text/html": [
       "<ol>\n",
       "\t<li><ol class=list-inline>\n",
       "\t<li>'알면'</li>\n",
       "\t<li>'알수록'</li>\n",
       "\t<li>'파고싶은'</li>\n",
       "\t<li>'R'</li>\n",
       "</ol>\n",
       "</li>\n",
       "</ol>\n"
      ],
      "text/latex": [
       "\\begin{enumerate}\n",
       "\\item \\begin{enumerate*}\n",
       "\\item '알면'\n",
       "\\item '알수록'\n",
       "\\item '파고싶은'\n",
       "\\item 'R'\n",
       "\\end{enumerate*}\n",
       "\n",
       "\\end{enumerate}\n"
      ],
      "text/markdown": [
       "1. 1. '알면'\n",
       "2. '알수록'\n",
       "3. '파고싶은'\n",
       "4. 'R'\n",
       "\n",
       "\n",
       "\n",
       "\n",
       "\n"
      ],
      "text/plain": [
       "[[1]]\n",
       "[1] \"알면\"     \"알수록\"   \"파고싶은\" \"R\"       \n"
      ]
     },
     "metadata": {},
     "output_type": "display_data"
    },
    {
     "name": "stdout",
     "output_type": "stream",
     "text": [
      "[[1]]\n",
      "[1] \"알면\"     \"알수록\"   \"파고싶은\" \"R\"       \n",
      "\n"
     ]
    },
    {
     "data": {
      "text/html": [
       "'list'"
      ],
      "text/latex": [
       "'list'"
      ],
      "text/markdown": [
       "'list'"
      ],
      "text/plain": [
       "[1] \"list\""
      ]
     },
     "metadata": {},
     "output_type": "display_data"
    },
    {
     "name": "stdout",
     "output_type": "stream",
     "text": [
      "[1] \"list\"\n"
     ]
    }
   ],
   "source": [
    "# base::strsplit() 함수이용 분해\n",
    "\n",
    "mystr_word <- strsplit(x = mystr, split = ' ')\n",
    "# - 특정문장을 단어단위로 분해하기 위해서 분리기준을 공백으로 지정함\n",
    "\n",
    "mystr_word\n",
    "print(mystr_word)\n",
    "# - 공백을 기준으로 문자열이 단어단위로 분해됨\n",
    "\n",
    "class(mystr_word)\n",
    "print(class(mystr_word)) \n",
    "# - 분해된 문자열 데이터는 리스트 객체형식임"
   ]
  },
  {
   "cell_type": "code",
   "execution_count": 180,
   "metadata": {},
   "outputs": [
    {
     "data": {
      "text/html": [
       "<ol>\n",
       "\t<li><ol class=list-inline>\n",
       "\t<li>'알면'</li>\n",
       "\t<li>'알수록'</li>\n",
       "\t<li>'파고싶은'</li>\n",
       "\t<li>'R'</li>\n",
       "</ol>\n",
       "</li>\n",
       "</ol>\n"
      ],
      "text/latex": [
       "\\begin{enumerate}\n",
       "\\item \\begin{enumerate*}\n",
       "\\item '알면'\n",
       "\\item '알수록'\n",
       "\\item '파고싶은'\n",
       "\\item 'R'\n",
       "\\end{enumerate*}\n",
       "\n",
       "\\end{enumerate}\n"
      ],
      "text/markdown": [
       "1. 1. '알면'\n",
       "2. '알수록'\n",
       "3. '파고싶은'\n",
       "4. 'R'\n",
       "\n",
       "\n",
       "\n",
       "\n",
       "\n"
      ],
      "text/plain": [
       "[[1]]\n",
       "[1] \"알면\"     \"알수록\"   \"파고싶은\" \"R\"       \n"
      ]
     },
     "metadata": {},
     "output_type": "display_data"
    },
    {
     "name": "stdout",
     "output_type": "stream",
     "text": [
      "[[1]]\n",
      "[1] \"알면\"     \"알수록\"   \"파고싶은\" \"R\"       \n",
      "\n"
     ]
    },
    {
     "data": {
      "text/html": [
       "'list'"
      ],
      "text/latex": [
       "'list'"
      ],
      "text/markdown": [
       "'list'"
      ],
      "text/plain": [
       "[1] \"list\""
      ]
     },
     "metadata": {},
     "output_type": "display_data"
    },
    {
     "name": "stdout",
     "output_type": "stream",
     "text": [
      "[1] \"list\"\n"
     ]
    }
   ],
   "source": [
    "# stringr::str_split() 함수이용 분해\n",
    "\n",
    "library(stringr)\n",
    "mystr_word <- str_split(string = mystr, pattern = ' ')\n",
    "# - 특정문장을 단어단위로 분해하기 위해서 분리기준을 공백으로 지정함\n",
    "\n",
    "mystr_word\n",
    "print(mystr_word)\n",
    "# - 공백을 기준으로 문자열이 단어단위로 분해됨\n",
    "\n",
    "class(mystr_word)\n",
    "print(class(mystr_word)) \n",
    "# - 분해된 문자열 데이터는 리스트 객체형식임"
   ]
  },
  {
   "cell_type": "markdown",
   "metadata": {},
   "source": [
    "#### 공백(빈칸)없음을 기준으로 단어(word)를 철자(letter) 단위로 분해하기"
   ]
  },
  {
   "cell_type": "code",
   "execution_count": 182,
   "metadata": {},
   "outputs": [
    {
     "data": {
      "text/html": [
       "'파고싶은'"
      ],
      "text/latex": [
       "'파고싶은'"
      ],
      "text/markdown": [
       "'파고싶은'"
      ],
      "text/plain": [
       "[1] \"파고싶은\""
      ]
     },
     "metadata": {},
     "output_type": "display_data"
    }
   ],
   "source": [
    "# 분해대상 단어 텍스트데이터 준비\n",
    "\n",
    "mystr_word[[1]][3]"
   ]
  },
  {
   "cell_type": "code",
   "execution_count": 183,
   "metadata": {},
   "outputs": [
    {
     "data": {
      "text/html": [
       "<ol>\n",
       "\t<li><ol class=list-inline>\n",
       "\t<li>'파'</li>\n",
       "\t<li>'고'</li>\n",
       "\t<li>'싶'</li>\n",
       "\t<li>'은'</li>\n",
       "</ol>\n",
       "</li>\n",
       "</ol>\n"
      ],
      "text/latex": [
       "\\begin{enumerate}\n",
       "\\item \\begin{enumerate*}\n",
       "\\item '파'\n",
       "\\item '고'\n",
       "\\item '싶'\n",
       "\\item '은'\n",
       "\\end{enumerate*}\n",
       "\n",
       "\\end{enumerate}\n"
      ],
      "text/markdown": [
       "1. 1. '파'\n",
       "2. '고'\n",
       "3. '싶'\n",
       "4. '은'\n",
       "\n",
       "\n",
       "\n",
       "\n",
       "\n"
      ],
      "text/plain": [
       "[[1]]\n",
       "[1] \"파\" \"고\" \"싶\" \"은\"\n"
      ]
     },
     "metadata": {},
     "output_type": "display_data"
    },
    {
     "name": "stdout",
     "output_type": "stream",
     "text": [
      "[[1]]\n",
      "[1] \"파\" \"고\" \"싶\" \"은\"\n",
      "\n"
     ]
    },
    {
     "data": {
      "text/html": [
       "'list'"
      ],
      "text/latex": [
       "'list'"
      ],
      "text/markdown": [
       "'list'"
      ],
      "text/plain": [
       "[1] \"list\""
      ]
     },
     "metadata": {},
     "output_type": "display_data"
    },
    {
     "name": "stdout",
     "output_type": "stream",
     "text": [
      "[1] \"list\"\n"
     ]
    }
   ],
   "source": [
    "# base::strsplit() 함수이용 분해\n",
    "\n",
    "mystr_letter <- strsplit(x = mystr_word[[1]][3], split = '')\n",
    "\n",
    "mystr_letter\n",
    "print(mystr_letter)\n",
    "# - 공백없음을 기준으로 문자열이 철자단위로 분해됨\n",
    "\n",
    "class(mystr_letter)\n",
    "print(class(mystr_letter))\n",
    "# - 분해된 문자열데이터는 리스트 객체형식임"
   ]
  },
  {
   "cell_type": "code",
   "execution_count": 184,
   "metadata": {},
   "outputs": [
    {
     "data": {
      "text/html": [
       "<ol>\n",
       "\t<li><ol class=list-inline>\n",
       "\t<li>'파'</li>\n",
       "\t<li>'고'</li>\n",
       "\t<li>'싶'</li>\n",
       "\t<li>'은'</li>\n",
       "</ol>\n",
       "</li>\n",
       "</ol>\n"
      ],
      "text/latex": [
       "\\begin{enumerate}\n",
       "\\item \\begin{enumerate*}\n",
       "\\item '파'\n",
       "\\item '고'\n",
       "\\item '싶'\n",
       "\\item '은'\n",
       "\\end{enumerate*}\n",
       "\n",
       "\\end{enumerate}\n"
      ],
      "text/markdown": [
       "1. 1. '파'\n",
       "2. '고'\n",
       "3. '싶'\n",
       "4. '은'\n",
       "\n",
       "\n",
       "\n",
       "\n",
       "\n"
      ],
      "text/plain": [
       "[[1]]\n",
       "[1] \"파\" \"고\" \"싶\" \"은\"\n"
      ]
     },
     "metadata": {},
     "output_type": "display_data"
    },
    {
     "name": "stdout",
     "output_type": "stream",
     "text": [
      "[[1]]\n",
      "[1] \"파\" \"고\" \"싶\" \"은\"\n",
      "\n"
     ]
    },
    {
     "data": {
      "text/html": [
       "'list'"
      ],
      "text/latex": [
       "'list'"
      ],
      "text/markdown": [
       "'list'"
      ],
      "text/plain": [
       "[1] \"list\""
      ]
     },
     "metadata": {},
     "output_type": "display_data"
    },
    {
     "name": "stdout",
     "output_type": "stream",
     "text": [
      "[1] \"list\"\n"
     ]
    }
   ],
   "source": [
    "# stringr::str_split() 함수이용 분해\n",
    "\n",
    "library(stringr)\n",
    "mystr_letter <- str_split(string = mystr_word[[1]][3], pattern = '')\n",
    "\n",
    "mystr_letter\n",
    "print(mystr_letter)\n",
    "# - 공백없음을 기준으로 문자열이 철자단위로 분해됨\n",
    "\n",
    "class(mystr_letter)\n",
    "print(class(mystr_letter))\n",
    "# - 분해된 문자열데이터는 리스트 객체형식임"
   ]
  },
  {
   "cell_type": "markdown",
   "metadata": {},
   "source": [
    "#### 여러 단어(word)들을 공백(빈칸)없음을 기준으로  철자단위(letter)로 분해"
   ]
  },
  {
   "cell_type": "code",
   "execution_count": 185,
   "metadata": {},
   "outputs": [
    {
     "name": "stdout",
     "output_type": "stream",
     "text": [
      "[[1]]\n",
      "[1] \"알면\"     \"알수록\"   \"파고싶은\" \"R\"       \n",
      "\n"
     ]
    }
   ],
   "source": [
    "# 준비된 여러 단어들\n",
    "print(mystr_word)"
   ]
  },
  {
   "cell_type": "code",
   "execution_count": 186,
   "metadata": {},
   "outputs": [
    {
     "name": "stdout",
     "output_type": "stream",
     "text": [
      "list()\n"
     ]
    }
   ],
   "source": [
    "# 텅빈 리스트객체 생성\n",
    "myletters <- list()\n",
    "print(myletters)\n",
    "# - 여러 단어들을 철자로 분리했을 때 데이터를 저장할 용도임"
   ]
  },
  {
   "cell_type": "code",
   "execution_count": 188,
   "metadata": {},
   "outputs": [
    {
     "name": "stdout",
     "output_type": "stream",
     "text": [
      "[[1]]\n",
      "[1] \"알\" \"면\"\n",
      "\n",
      "[[2]]\n",
      "[1] \"알\" \"수\" \"록\"\n",
      "\n",
      "[[3]]\n",
      "[1] \"파\" \"고\" \"싶\" \"은\"\n",
      "\n",
      "[[4]]\n",
      "[1] \"R\"\n",
      "\n"
     ]
    },
    {
     "data": {
      "text/html": [
       "'list'"
      ],
      "text/latex": [
       "'list'"
      ],
      "text/markdown": [
       "'list'"
      ],
      "text/plain": [
       "[1] \"list\""
      ]
     },
     "metadata": {},
     "output_type": "display_data"
    },
    {
     "name": "stdout",
     "output_type": "stream",
     "text": [
      "[[1]]\n",
      "[1] \"알\" \"면\"\n",
      "\n",
      "[[2]]\n",
      "[1] \"알\" \"수\" \"록\"\n",
      "\n",
      "[[3]]\n",
      "[1] \"파\" \"고\" \"싶\" \"은\"\n",
      "\n",
      "[[4]]\n",
      "[1] \"R\"\n",
      "\n"
     ]
    },
    {
     "data": {
      "text/html": [
       "'list'"
      ],
      "text/latex": [
       "'list'"
      ],
      "text/markdown": [
       "'list'"
      ],
      "text/plain": [
       "[1] \"list\""
      ]
     },
     "metadata": {},
     "output_type": "display_data"
    }
   ],
   "source": [
    "# for반복구문을 이용해 개별 단어(word)들을 철자(letter) 단위로 분해\n",
    "\n",
    "for (i in 1:length(mystr_word[[1]])) {\n",
    "    myletters[i] <- strsplit(x = mystr_word[[1]][i], split = '')\n",
    "}\n",
    "# - 1:length(mystr_word[[1]]) --> 1, 2, 3, 4 --> 1:4를 의미함\n",
    "# - strsplit() 함수의 파라미터 x와 split은 생략가능\n",
    "\n",
    "print(myletters)\n",
    "class(myletters)\n",
    "# - 리스트객체에 리스트 항목요소별로 단어별 철자가 분해되어 있음\n",
    "\n",
    "for (i in seq(length(mystr_word[[1]]))) {\n",
    "    myletters[i] <- str_split(string = mystr_word[[1]][i], pattern = '')\n",
    "}\n",
    "# - seq(length(mystr_word[[1]])) --> 1, 2, 3, 4 --> 1:를 의미함\n",
    "# - str_split() 함수의 파라미터 string와 pattern은 생략가능\n",
    "\n",
    "print(myletters)\n",
    "class(myletters)\n",
    "# - 리스트객체에 리스트 항목요소별로 단어별 철자가 분해되어 있음"
   ]
  },
  {
   "cell_type": "code",
   "execution_count": 189,
   "metadata": {},
   "outputs": [
    {
     "name": "stdout",
     "output_type": "stream",
     "text": [
      "[[1]]\n",
      "[[1]][[1]]\n",
      "[1] \"알\" \"면\"\n",
      "\n",
      "\n",
      "[[2]]\n",
      "[[2]][[1]]\n",
      "[1] \"알\" \"수\" \"록\"\n",
      "\n",
      "\n",
      "[[3]]\n",
      "[[3]][[1]]\n",
      "[1] \"파\" \"고\" \"싶\" \"은\"\n",
      "\n",
      "\n",
      "[[4]]\n",
      "[[4]][[1]]\n",
      "[1] \"R\"\n",
      "\n",
      "\n"
     ]
    },
    {
     "data": {
      "text/html": [
       "'list'"
      ],
      "text/latex": [
       "'list'"
      ],
      "text/markdown": [
       "'list'"
      ],
      "text/plain": [
       "[1] \"list\""
      ]
     },
     "metadata": {},
     "output_type": "display_data"
    }
   ],
   "source": [
    "# purrr::map()함수와 stringr::str_split() 함수이용 \n",
    "# 개별 단어(word)들을 철자(letter) 단위로 분해\n",
    "\n",
    "library(purrr)\n",
    "library(stringr)\n",
    "\n",
    "myletters <- map(mystr_word[[1]], str_split, pattern = '')\n",
    "\n",
    "print(myletters)\n",
    "class(myletters)\n",
    "# - 리스트객체에 리스트 항목요소별로 단어별 철자가 분해되어 있음"
   ]
  },
  {
   "cell_type": "code",
   "execution_count": 190,
   "metadata": {},
   "outputs": [
    {
     "name": "stdout",
     "output_type": "stream",
     "text": [
      "$알면\n",
      "[1] \"알\" \"면\"\n",
      "\n",
      "$알수록\n",
      "[1] \"알\" \"수\" \"록\"\n",
      "\n",
      "$파고싶은\n",
      "[1] \"파\" \"고\" \"싶\" \"은\"\n",
      "\n",
      "$R\n",
      "[1] \"R\"\n",
      "\n"
     ]
    },
    {
     "data": {
      "text/html": [
       "'list'"
      ],
      "text/latex": [
       "'list'"
      ],
      "text/markdown": [
       "'list'"
      ],
      "text/plain": [
       "[1] \"list\""
      ]
     },
     "metadata": {},
     "output_type": "display_data"
    },
    {
     "name": "stdout",
     "output_type": "stream",
     "text": [
      "$알면\n",
      "[1] \"알\" \"면\"\n",
      "\n",
      "$알수록\n",
      "[1] \"알\" \"수\" \"록\"\n",
      "\n",
      "$파고싶은\n",
      "[1] \"파\" \"고\" \"싶\" \"은\"\n",
      "\n",
      "$R\n",
      "[1] \"R\"\n",
      "\n"
     ]
    },
    {
     "data": {
      "text/html": [
       "'list'"
      ],
      "text/latex": [
       "'list'"
      ],
      "text/markdown": [
       "'list'"
      ],
      "text/plain": [
       "[1] \"list\""
      ]
     },
     "metadata": {},
     "output_type": "display_data"
    }
   ],
   "source": [
    "# base패키지 sapply()함수와 strsplit() 함수이용 \n",
    "# 개별 단어(word)들을 철자(letter) 단위로 분해\n",
    "\n",
    "myletters <- sapply(X = mystr_word[[1]], FUN = strsplit, split = '')\n",
    "# - sapply()에 일반함수 strsplit() 적용\n",
    "# - X와 FUN이라는 파라미터명은 생략가능함\n",
    "\n",
    "print(myletters)\n",
    "class(myletters)\n",
    "# - 리스트객체에 리스트 항목요소별로 단어별 철자가 분해되어 있음\n",
    "\n",
    "myletters <- sapply(mystr_word[[1]], function(x) {strsplit(x, split = '')})\n",
    "# - sapply()에 익명/무명함수(the anonymous functions) 적용\n",
    "# - X와 FUN이라는 파라미터명은 생략되었음\n",
    "\n",
    "print(myletters)\n",
    "class(myletters)\n",
    "# - 리스트객체에 리스트 항목요소별로 단어별 철자가 분해되어 있음"
   ]
  },
  {
   "cell_type": "markdown",
   "metadata": {},
   "source": [
    "### 한글문자열의 결합"
   ]
  },
  {
   "cell_type": "markdown",
   "metadata": {},
   "source": [
    "#### 한글문자열 데이터의 결합: paste()\n",
    "* 철자(letter) --> 단어(word) --> 문장(sentence) "
   ]
  },
  {
   "cell_type": "code",
   "execution_count": 191,
   "metadata": {},
   "outputs": [
    {
     "name": "stdout",
     "output_type": "stream",
     "text": [
      "$알면\n",
      "[1] \"알\" \"면\"\n",
      "\n",
      "$알수록\n",
      "[1] \"알\" \"수\" \"록\"\n",
      "\n",
      "$파고싶은\n",
      "[1] \"파\" \"고\" \"싶\" \"은\"\n",
      "\n",
      "$R\n",
      "[1] \"R\"\n",
      "\n"
     ]
    },
    {
     "data": {
      "text/html": [
       "'list'"
      ],
      "text/latex": [
       "'list'"
      ],
      "text/markdown": [
       "'list'"
      ],
      "text/plain": [
       "[1] \"list\""
      ]
     },
     "metadata": {},
     "output_type": "display_data"
    }
   ],
   "source": [
    "# 준비된 철자단위 문자열 데이터\n",
    "print(myletters)\n",
    "class(myletters)\n",
    "# - 리스트객체에 리스트 항목요소별로 단어별 철자가 분해되어 있음"
   ]
  },
  {
   "cell_type": "code",
   "execution_count": 192,
   "metadata": {},
   "outputs": [
    {
     "data": {
      "text/html": [
       "<ol class=list-inline>\n",
       "\t<li>'알'</li>\n",
       "\t<li>'면'</li>\n",
       "</ol>\n"
      ],
      "text/latex": [
       "\\begin{enumerate*}\n",
       "\\item '알'\n",
       "\\item '면'\n",
       "\\end{enumerate*}\n"
      ],
      "text/markdown": [
       "1. '알'\n",
       "2. '면'\n",
       "\n",
       "\n"
      ],
      "text/plain": [
       "[1] \"알\" \"면\""
      ]
     },
     "metadata": {},
     "output_type": "display_data"
    },
    {
     "data": {
      "text/html": [
       "'알면'"
      ],
      "text/latex": [
       "'알면'"
      ],
      "text/markdown": [
       "'알면'"
      ],
      "text/plain": [
       "[1] \"알면\""
      ]
     },
     "metadata": {},
     "output_type": "display_data"
    },
    {
     "data": {
      "text/html": [
       "'알면'"
      ],
      "text/latex": [
       "'알면'"
      ],
      "text/markdown": [
       "'알면'"
      ],
      "text/plain": [
       "[1] \"알면\""
      ]
     },
     "metadata": {},
     "output_type": "display_data"
    }
   ],
   "source": [
    "# 분해된 특정단어 철자들을 결합해 단어화함\n",
    "myletters[[1]]\n",
    "\n",
    "paste(myletters[[1]], collapse = '')\n",
    "# - base::paste() 함수이용\n",
    "\n",
    "library(stringr)\n",
    "str_c(myletters[[1]], collapse = '')\n",
    "# - stringr::str_c() 함수이용"
   ]
  },
  {
   "cell_type": "markdown",
   "metadata": {},
   "source": [
    "#### 여러 철자들을 단어단위로 결합"
   ]
  },
  {
   "cell_type": "code",
   "execution_count": 193,
   "metadata": {},
   "outputs": [
    {
     "name": "stdout",
     "output_type": "stream",
     "text": [
      "list()\n"
     ]
    }
   ],
   "source": [
    "# 텅빈 리스트객체 생성\n",
    "mywords <- list()\n",
    "print(mywords)\n",
    "# - 분해된 철자들을 단어단위로 결합한 데이터를 저장할 용도임"
   ]
  },
  {
   "cell_type": "code",
   "execution_count": 194,
   "metadata": {},
   "outputs": [
    {
     "name": "stdout",
     "output_type": "stream",
     "text": [
      "[[1]]\n",
      "[1] \"알면\"\n",
      "\n",
      "[[2]]\n",
      "[1] \"알수록\"\n",
      "\n",
      "[[3]]\n",
      "[1] \"파고싶은\"\n",
      "\n",
      "[[4]]\n",
      "[1] \"R\"\n",
      "\n"
     ]
    },
    {
     "data": {
      "text/html": [
       "'list'"
      ],
      "text/latex": [
       "'list'"
      ],
      "text/markdown": [
       "'list'"
      ],
      "text/plain": [
       "[1] \"list\""
      ]
     },
     "metadata": {},
     "output_type": "display_data"
    },
    {
     "name": "stdout",
     "output_type": "stream",
     "text": [
      "[[1]]\n",
      "[1] \"알면\"\n",
      "\n",
      "[[2]]\n",
      "[1] \"알수록\"\n",
      "\n",
      "[[3]]\n",
      "[1] \"파고싶은\"\n",
      "\n",
      "[[4]]\n",
      "[1] \"R\"\n",
      "\n"
     ]
    },
    {
     "data": {
      "text/html": [
       "'list'"
      ],
      "text/latex": [
       "'list'"
      ],
      "text/markdown": [
       "'list'"
      ],
      "text/plain": [
       "[1] \"list\""
      ]
     },
     "metadata": {},
     "output_type": "display_data"
    }
   ],
   "source": [
    "# for구문을 이용한 분해된 철자(letter)들을 단어(word) 단위로 결합\n",
    "\n",
    "for (i in 1:length(myletters)) {\n",
    "    mywords[i] <- paste(myletters[[i]], collapse = '')\n",
    "}\n",
    "# - seq(length(myletters)) --> 1, 2, 3, 4, 5 --> 1:5를 의미함\n",
    "\n",
    "print(mywords)\n",
    "class(mywords)\n",
    "# - 리스트객체에 리스트 항목요소별로 단어가 들어 있음\n",
    "\n",
    "for (i in seq(length(myletters))) {\n",
    "    mywords[i] <- str_c(myletters[[i]], collapse = '')\n",
    "}\n",
    "# - seq(length(myletters)) --> 1, 2, 3, 4, 5 --> 1:5를 의미함\n",
    "\n",
    "print(mywords)\n",
    "class(mywords)\n",
    "# - 리스트객체에 리스트 항목요소별로 단어가 들어 있음"
   ]
  },
  {
   "cell_type": "code",
   "execution_count": 195,
   "metadata": {},
   "outputs": [
    {
     "name": "stdout",
     "output_type": "stream",
     "text": [
      "$알면\n",
      "[1] \"알면\"\n",
      "\n",
      "$알수록\n",
      "[1] \"알수록\"\n",
      "\n",
      "$파고싶은\n",
      "[1] \"파고싶은\"\n",
      "\n",
      "$R\n",
      "[1] \"R\"\n",
      "\n"
     ]
    },
    {
     "data": {
      "text/html": [
       "'list'"
      ],
      "text/latex": [
       "'list'"
      ],
      "text/markdown": [
       "'list'"
      ],
      "text/plain": [
       "[1] \"list\""
      ]
     },
     "metadata": {},
     "output_type": "display_data"
    }
   ],
   "source": [
    "# purrr::map()함수와 stringr::str_c() 함수이용 \n",
    "# 개별 철자(letter)들을 단어(word) 단위로 결합\n",
    "\n",
    "library(purrr)\n",
    "library(stringr)\n",
    "\n",
    "mywords <- map(myletters, str_c, collapse = '')\n",
    "\n",
    "print(mywords)\n",
    "class(mywords)\n",
    "# - 리스트객체에 리스트 항목요소별로 단어별 철자가 분해되어 있음"
   ]
  },
  {
   "cell_type": "code",
   "execution_count": 196,
   "metadata": {},
   "outputs": [
    {
     "name": "stdout",
     "output_type": "stream",
     "text": [
      "$알면\n",
      "[1] \"알면\"\n",
      "\n",
      "$알수록\n",
      "[1] \"알수록\"\n",
      "\n",
      "$파고싶은\n",
      "[1] \"파고싶은\"\n",
      "\n",
      "$R\n",
      "[1] \"R\"\n",
      "\n"
     ]
    },
    {
     "data": {
      "text/html": [
       "'list'"
      ],
      "text/latex": [
       "'list'"
      ],
      "text/markdown": [
       "'list'"
      ],
      "text/plain": [
       "[1] \"list\""
      ]
     },
     "metadata": {},
     "output_type": "display_data"
    },
    {
     "name": "stdout",
     "output_type": "stream",
     "text": [
      "[[1]]\n",
      "[1] \"알면\"\n",
      "\n",
      "[[2]]\n",
      "[1] \"알수록\"\n",
      "\n",
      "[[3]]\n",
      "[1] \"파고싶은\"\n",
      "\n",
      "[[4]]\n",
      "[1] \"R\"\n",
      "\n"
     ]
    },
    {
     "data": {
      "text/html": [
       "'list'"
      ],
      "text/latex": [
       "'list'"
      ],
      "text/markdown": [
       "'list'"
      ],
      "text/plain": [
       "[1] \"list\""
      ]
     },
     "metadata": {},
     "output_type": "display_data"
    }
   ],
   "source": [
    "# base패키지 sapply()함수와 strsplit() 함수이용 \n",
    "# 개별 철자(letter)들을 단어(word) 단위로 결합\n",
    "\n",
    "mywords <- lapply(X = myletters, FUN = paste, collapse = '')\n",
    "# - lapply()에 일반함수 paste() 적용\n",
    "# - X와 FUN이라는 파라미터명은 생략가능함\n",
    "\n",
    "print(mywords)\n",
    "class(mywords)\n",
    "# - 리스트객체에 리스트 항목요소별로 단어가 들어 있음\n",
    "\n",
    "mywords <- lapply(mystr_word[[1]], function(x) {paste(x, collapse = '')})\n",
    "# - sapply()에 익명/무명함수(the anonymous functions) 적용\n",
    "# - X와 FUN이라는 파라미터명은 생략되었음\n",
    "\n",
    "print(mywords)\n",
    "class(mywords)\n",
    "# - 리스트객체에 리스트 항목요소별로 단어가 들어 있음"
   ]
  },
  {
   "cell_type": "markdown",
   "metadata": {},
   "source": [
    "#### 여러 단어들을 문장단위로 결합"
   ]
  },
  {
   "cell_type": "code",
   "execution_count": 197,
   "metadata": {},
   "outputs": [
    {
     "name": "stdout",
     "output_type": "stream",
     "text": [
      "[1] \"알면 알수록 파고싶은 R\"\n",
      "[1] \"알면 알수록 파고싶은 R\"\n"
     ]
    }
   ],
   "source": [
    "mysentence <- paste(mywords, collapse = ' ')\n",
    "# - base::paste() 함수이용\n",
    "\n",
    "print(mysentence)\n",
    "\n",
    "library(stringr)\n",
    "mysentence <- str_c(mywords, collapse = ' ')\n",
    "# - stringr::str_c() 함수이용\n",
    "\n",
    "print(mysentence)"
   ]
  },
  {
   "cell_type": "markdown",
   "metadata": {},
   "source": [
    "# <font color = 'blue'>문단 분해와 결합(p.49)</font>"
   ]
  },
  {
   "cell_type": "markdown",
   "metadata": {},
   "source": [
    "### 문단 데이터의 분해: strsplit()\n",
    "* 문단(paragraph) --> 문장(sentence) --> 단어(word)"
   ]
  },
  {
   "cell_type": "code",
   "execution_count": 199,
   "metadata": {},
   "outputs": [],
   "source": [
    "# R에 대한 wiki사이트 소개글\n",
    "browseURL('https://ko.wikipedia.org/wiki/R_(%ED%94%84%EB%A1%9C%EA%B7%B8%EB%9E%98%EB%B0%8D_%EC%96%B8%EC%96%B4)')"
   ]
  },
  {
   "cell_type": "code",
   "execution_count": 265,
   "metadata": {},
   "outputs": [],
   "source": [
    "# 텍스트 예시자료 준비\n",
    "R_wiki <- 'R 프로그래밍 언어(줄여서 R)는 통계 계산과 그래픽을 위한 프로그래밍 언어이자 소프트웨어 환경이다. 뉴질랜드 오클랜드 대학의 로버트 젠틀맨(Robert Gentleman)과 로스 이하카(Ross Ihaka)에 의해 시작되어 현재는 R 코어 팀이 개발하고 있다.\n",
    "R은 GPL 하에 배포되는 S 프로그래밍 언어의 구현으로 GNU S라고도 한다. R은 통계 소프트웨어 개발과 자료 분석에 널리 사용되고 있다. 패키지 개발이 용이하여 통계학자들 사이에서 통계 소프트웨어 개발에 많이 쓰이고 있다.'"
   ]
  },
  {
   "cell_type": "code",
   "execution_count": 266,
   "metadata": {},
   "outputs": [
    {
     "name": "stdout",
     "output_type": "stream",
     "text": [
      "[1] \"R 프로그래밍 언어(줄여서 R)는 통계 계산과 그래픽을 위한 프로그래밍 언어이자 소프트웨어 환경이다. 뉴질랜드 오클랜드 대학의 로버트 젠틀맨(Robert Gentleman)과 로스 이하카(Ross Ihaka)에 의해 시작되어 현재는 R 코어 팀이 개발하고 있다.\\nR은 GPL 하에 배포되는 S 프로그래밍 언어의 구현으로 GNU S라고도 한다. R은 통계 소프트웨어 개발과 자료 분석에 널리 사용되고 있다. 패키지 개발이 용이하여 통계학자들 사이에서 통계 소프트웨어 개발에 많이 쓰이고 있다.\"\n"
     ]
    },
    {
     "data": {
      "text/html": [
       "'객체유형: character타입'"
      ],
      "text/latex": [
       "'객체유형: character타입'"
      ],
      "text/markdown": [
       "'객체유형: character타입'"
      ],
      "text/plain": [
       "[1] \"객체유형: character타입\""
      ]
     },
     "metadata": {},
     "output_type": "display_data"
    },
    {
     "data": {
      "text/html": [
       "'객체길이: 1요소'"
      ],
      "text/latex": [
       "'객체길이: 1요소'"
      ],
      "text/markdown": [
       "'객체길이: 1요소'"
      ],
      "text/plain": [
       "[1] \"객체길이: 1요소\""
      ]
     },
     "metadata": {},
     "output_type": "display_data"
    },
    {
     "data": {
      "text/html": [
       "'문자갯수: 274개'"
      ],
      "text/latex": [
       "'문자갯수: 274개'"
      ],
      "text/markdown": [
       "'문자갯수: 274개'"
      ],
      "text/plain": [
       "[1] \"문자갯수: 274개\""
      ]
     },
     "metadata": {},
     "output_type": "display_data"
    },
    {
     "data": {
      "text/html": [
       "'문자갯수: 274개'"
      ],
      "text/latex": [
       "'문자갯수: 274개'"
      ],
      "text/markdown": [
       "'문자갯수: 274개'"
      ],
      "text/plain": [
       "[1] \"문자갯수: 274개\""
      ]
     },
     "metadata": {},
     "output_type": "display_data"
    }
   ],
   "source": [
    "# R 위키소개글 객체내용\n",
    "print(R_wiki)\n",
    "\n",
    "# R 위키소개글 객체특성\n",
    "sprintf('객체유형: %s타입', class(R_wiki))\n",
    "sprintf('객체길이: %d요소', length(R_wiki))\n",
    "sprintf('문자갯수: %d개', nchar(R_wiki))\n",
    "\n",
    "library(stringr)\n",
    "sprintf('문자갯수: %d개', str_length(R_wiki))"
   ]
  },
  {
   "cell_type": "markdown",
   "metadata": {},
   "source": [
    "### 텍스트 데이터를 문단(paragraph) 단위로 분해"
   ]
  },
  {
   "cell_type": "code",
   "execution_count": 267,
   "metadata": {},
   "outputs": [
    {
     "name": "stdout",
     "output_type": "stream",
     "text": [
      "[[1]]\n",
      "[1] \"R 프로그래밍 언어(줄여서 R)는 통계 계산과 그래픽을 위한 프로그래밍 언어이자 소프트웨어 환경이다. 뉴질랜드 오클랜드 대학의 로버트 젠틀맨(Robert Gentleman)과 로스 이하카(Ross Ihaka)에 의해 시작되어 현재는 R 코어 팀이 개발하고 있다.\"\n",
      "[2] \"R은 GPL 하에 배포되는 S 프로그래밍 언어의 구현으로 GNU S라고도 한다. R은 통계 소프트웨어 개발과 자료 분석에 널리 사용되고 있다. 패키지 개발이 용이하여 통계학자들 사이에서 통계 소프트웨어 개발에 많이 쓰이고 있다.\"                  \n",
      "\n"
     ]
    },
    {
     "data": {
      "text/html": [
       "'객체유형: list타입'"
      ],
      "text/latex": [
       "'객체유형: list타입'"
      ],
      "text/markdown": [
       "'객체유형: list타입'"
      ],
      "text/plain": [
       "[1] \"객체유형: list타입\""
      ]
     },
     "metadata": {},
     "output_type": "display_data"
    },
    {
     "data": {
      "text/html": [
       "'객체길이: 1개 요소'"
      ],
      "text/latex": [
       "'객체길이: 1개 요소'"
      ],
      "text/markdown": [
       "'객체길이: 1개 요소'"
      ],
      "text/plain": [
       "[1] \"객체길이: 1개 요소\""
      ]
     },
     "metadata": {},
     "output_type": "display_data"
    },
    {
     "data": {
      "text/html": [
       "'객체길이: 2개 문단'"
      ],
      "text/latex": [
       "'객체길이: 2개 문단'"
      ],
      "text/markdown": [
       "'객체길이: 2개 문단'"
      ],
      "text/plain": [
       "[1] \"객체길이: 2개 문단\""
      ]
     },
     "metadata": {},
     "output_type": "display_data"
    },
    {
     "data": {
      "text/html": [
       "'문자갯수: 282개'"
      ],
      "text/latex": [
       "'문자갯수: 282개'"
      ],
      "text/markdown": [
       "'문자갯수: 282개'"
      ],
      "text/plain": [
       "[1] \"문자갯수: 282개\""
      ]
     },
     "metadata": {},
     "output_type": "display_data"
    },
    {
     "data": {
      "text/html": [
       "'문자갯수: 282개'"
      ],
      "text/latex": [
       "'문자갯수: 282개'"
      ],
      "text/markdown": [
       "'문자갯수: 282개'"
      ],
      "text/plain": [
       "[1] \"문자갯수: 282개\""
      ]
     },
     "metadata": {},
     "output_type": "display_data"
    }
   ],
   "source": [
    "# base::strsplit()함수에 엔터키를 기준으로 문단(paragraph) 단위로 분해 \n",
    "R_wiki_para <- strsplit(x = R_wiki, split = '\\n')\n",
    "\n",
    "# 문단(paragraph) 단위로 분해된 리스트객체 내용\n",
    "print(R_wiki_para)\n",
    "# - 전체 객체유형은 리스트객체이며, 세부적으로 2개 리스트항목을 가지고 있는 구조임\n",
    "\n",
    "# 문단(paragraph) 단위로 분해된 리스트객체 특성\n",
    "sprintf('객체유형: %s타입', class(R_wiki_para))\n",
    "sprintf('객체길이: %d개 요소', length(R_wiki_para)) # 리스트객체 전체길이\n",
    "sprintf('객체길이: %d개 문단', length(R_wiki_para[[1]])) # 리스트객체에 속한 세부요소 길이\n",
    "sprintf('문자갯수: %d개', nchar(R_wiki_para))\n",
    "sprintf('문자갯수: %d개', str_length(R_wiki_para))"
   ]
  },
  {
   "cell_type": "code",
   "execution_count": 268,
   "metadata": {},
   "outputs": [
    {
     "name": "stdout",
     "output_type": "stream",
     "text": [
      "[[1]]\n",
      "[1] \"R 프로그래밍 언어(줄여서 R)는 통계 계산과 그래픽을 위한 프로그래밍 언어이자 소프트웨어 환경이다. 뉴질랜드 오클랜드 대학의 로버트 젠틀맨(Robert Gentleman)과 로스 이하카(Ross Ihaka)에 의해 시작되어 현재는 R 코어 팀이 개발하고 있다.\"\n",
      "[2] \"R은 GPL 하에 배포되는 S 프로그래밍 언어의 구현으로 GNU S라고도 한다. R은 통계 소프트웨어 개발과 자료 분석에 널리 사용되고 있다. 패키지 개발이 용이하여 통계학자들 사이에서 통계 소프트웨어 개발에 많이 쓰이고 있다.\"                  \n",
      "\n"
     ]
    },
    {
     "data": {
      "text/html": [
       "'객체유형: list타입'"
      ],
      "text/latex": [
       "'객체유형: list타입'"
      ],
      "text/markdown": [
       "'객체유형: list타입'"
      ],
      "text/plain": [
       "[1] \"객체유형: list타입\""
      ]
     },
     "metadata": {},
     "output_type": "display_data"
    },
    {
     "data": {
      "text/html": [
       "'객체길이: 1개 요소'"
      ],
      "text/latex": [
       "'객체길이: 1개 요소'"
      ],
      "text/markdown": [
       "'객체길이: 1개 요소'"
      ],
      "text/plain": [
       "[1] \"객체길이: 1개 요소\""
      ]
     },
     "metadata": {},
     "output_type": "display_data"
    },
    {
     "data": {
      "text/html": [
       "'객체길이: 2개 문단'"
      ],
      "text/latex": [
       "'객체길이: 2개 문단'"
      ],
      "text/markdown": [
       "'객체길이: 2개 문단'"
      ],
      "text/plain": [
       "[1] \"객체길이: 2개 문단\""
      ]
     },
     "metadata": {},
     "output_type": "display_data"
    },
    {
     "data": {
      "text/html": [
       "'문자갯수: 282개'"
      ],
      "text/latex": [
       "'문자갯수: 282개'"
      ],
      "text/markdown": [
       "'문자갯수: 282개'"
      ],
      "text/plain": [
       "[1] \"문자갯수: 282개\""
      ]
     },
     "metadata": {},
     "output_type": "display_data"
    },
    {
     "data": {
      "text/html": [
       "'문자갯수: 282개'"
      ],
      "text/latex": [
       "'문자갯수: 282개'"
      ],
      "text/markdown": [
       "'문자갯수: 282개'"
      ],
      "text/plain": [
       "[1] \"문자갯수: 282개\""
      ]
     },
     "metadata": {},
     "output_type": "display_data"
    }
   ],
   "source": [
    "# stringr::str_split()함수에 엔터키를 기준으로 문단(paragraph) 단위로 분해 \n",
    "\n",
    "R_wiki_para <- str_split(string = R_wiki, pattern = '\\n')\n",
    "\n",
    "# 문단(paragraph) 단위로 분해된 리스트객체 내용\n",
    "print(R_wiki_para)\n",
    "# - 전체 객체유형은 리스트객체이며, 세부적으로 2개 리스트항목을 가지고 있는 구조임\n",
    "\n",
    "# 문단(paragraph) 단위로 분해된 리스트객체 특성\n",
    "sprintf('객체유형: %s타입', class(R_wiki_para))\n",
    "sprintf('객체길이: %d개 요소', length(R_wiki_para)) # 리스트객체 전체길이\n",
    "sprintf('객체길이: %d개 문단', length(R_wiki_para[[1]])) # 리스트객체에 속한 세부요소 길이\n",
    "sprintf('문자갯수: %d개', nchar(R_wiki_para))\n",
    "sprintf('문자갯수: %d개', str_length(R_wiki_para))"
   ]
  },
  {
   "cell_type": "code",
   "execution_count": 269,
   "metadata": {},
   "outputs": [
    {
     "name": "stdout",
     "output_type": "stream",
     "text": [
      "[1] \"R 프로그래밍 언어(줄여서 R)는 통계 계산과 그래픽을 위한 프로그래밍 언어이자 소프트웨어 환경이다. 뉴질랜드 오클랜드 대학의 로버트 젠틀맨(Robert Gentleman)과 로스 이하카(Ross Ihaka)에 의해 시작되어 현재는 R 코어 팀이 개발하고 있다.\"\n",
      "\n",
      "[1] \"1째 문단(paragraph) 객체유형: character타입\"\n",
      "[1] \"1째 문단(paragraph) 객체길이: 1요소\"\n",
      "[1] \"1째 문단(paragraph) 문자갯수: 146개\"\n",
      "\n",
      "[1] \"R은 GPL 하에 배포되는 S 프로그래밍 언어의 구현으로 GNU S라고도 한다. R은 통계 소프트웨어 개발과 자료 분석에 널리 사용되고 있다. 패키지 개발이 용이하여 통계학자들 사이에서 통계 소프트웨어 개발에 많이 쓰이고 있다.\"\n",
      "\n",
      "[1] \"2째 문단(paragraph) 객체유형: character타입\"\n",
      "[1] \"2째 문단(paragraph) 객체길이: 1요소\"\n",
      "[1] \"2째 문단(paragraph) 문자갯수: 127개\"\n",
      "\n"
     ]
    }
   ],
   "source": [
    "# for구문을 이용한 개별 문단(paragraph) 내용조회\n",
    "for(i in seq(length(R_wiki_para[[1]]))) {\n",
    "    # - 반복범위를 1:length(R_wiki_para[[1]])으로 코딩해도 됨\n",
    "\n",
    "    print(R_wiki_para[[1]][i])\n",
    "    cat('\\n')\n",
    "\n",
    "    print(sprintf('%d째 문단(paragraph) 객체유형: %s타입', i, class(R_wiki_para[[1]][i])))\n",
    "    print(sprintf('%d째 문단(paragraph) 객체길이: %d요소', i, length(R_wiki_para[[1]][i])))\n",
    "    print(sprintf('%d째 문단(paragraph) 문자갯수: %d개', i, nchar(R_wiki_para[[1]][i])))\n",
    "    # - nchar()대신에 stringr::str_length() 사용가능\n",
    "    \n",
    "    cat('\\n')\n",
    "}"
   ]
  },
  {
   "cell_type": "markdown",
   "metadata": {},
   "source": [
    "### 문단(paragraph)을 문장(sentence) 단위로 분해"
   ]
  },
  {
   "cell_type": "code",
   "execution_count": 270,
   "metadata": {},
   "outputs": [
    {
     "name": "stdout",
     "output_type": "stream",
     "text": [
      "list()\n"
     ]
    }
   ],
   "source": [
    "# 텅빈 리스트객체 생성\n",
    "R_wiki_sent <- list()\n",
    "\n",
    "print(R_wiki_sent)\n",
    "# - 문단(paragraph)을 문장(sentence) 단위로 분해된 데이터를 저장할 용도임"
   ]
  },
  {
   "cell_type": "code",
   "execution_count": 271,
   "metadata": {},
   "outputs": [
    {
     "name": "stdout",
     "output_type": "stream",
     "text": [
      "[[1]]\n",
      "[1] \"R 프로그래밍 언어(줄여서 R)는 통계 계산과 그래픽을 위한 프로그래밍 언어이자 소프트웨어 환경이다\"                                     \n",
      "[2] \" 뉴질랜드 오클랜드 대학의 로버트 젠틀맨(Robert Gentleman)과 로스 이하카(Ross Ihaka)에 의해 시작되어 현재는 R 코어 팀이 개발하고 있다\"\n",
      "\n",
      "[[2]]\n",
      "[1] \"R은 GPL 하에 배포되는 S 프로그래밍 언어의 구현으로 GNU S라고도 한다\"                \n",
      "[2] \" R은 통계 소프트웨어 개발과 자료 분석에 널리 사용되고 있다\"                         \n",
      "[3] \" 패키지 개발이 용이하여 통계학자들 사이에서 통계 소프트웨어 개발에 많이 쓰이고 있다\"\n",
      "\n"
     ]
    },
    {
     "data": {
      "text/html": [
       "'객체유형: list타입'"
      ],
      "text/latex": [
       "'객체유형: list타입'"
      ],
      "text/markdown": [
       "'객체유형: list타입'"
      ],
      "text/plain": [
       "[1] \"객체유형: list타입\""
      ]
     },
     "metadata": {},
     "output_type": "display_data"
    },
    {
     "data": {
      "text/html": [
       "'객체길이: 2개 요소'"
      ],
      "text/latex": [
       "'객체길이: 2개 요소'"
      ],
      "text/markdown": [
       "'객체길이: 2개 요소'"
      ],
      "text/plain": [
       "[1] \"객체길이: 2개 요소\""
      ]
     },
     "metadata": {},
     "output_type": "display_data"
    }
   ],
   "source": [
    "# for구문을 이용한 문단(paragraph)을 문장(sentence) 단위로 분해\n",
    "for(i in seq(length(R_wiki_para[[1]]))) {\n",
    "    # - 반복범위를 1:length(R_wiki_para[[1]])로 코딩가능\n",
    "    \n",
    "    R_wiki_sent[i] <- strsplit(R_wiki_para[[1]][i], split = '\\\\.')\n",
    "    # - 분해함수로 stringr::str_split() 사용가능\n",
    "}\n",
    "# - 문장과 문장사이를 구별하는 기준문자로 마침표(.)을 지정하기 위해서\n",
    "#   \\\\. 이라는 기호를 사용함\n",
    "\n",
    "# 문장(sentence) 단위로 분해된 리스트객체 내용\n",
    "print(R_wiki_sent)\n",
    "# - 전체 객체유형은 리스트객체이며, 세부적으로 2개 리스트항목을 가지고 있는 구조임\n",
    "\n",
    "# 문장(sentence) 단위로 분해된 리스트객체 특성\n",
    "sprintf('객체유형: %s타입', class(R_wiki_sent))\n",
    "sprintf('객체길이: %d개 요소', length(R_wiki_sent)) # 리스트객체 전체길이"
   ]
  },
  {
   "cell_type": "code",
   "execution_count": 274,
   "metadata": {},
   "outputs": [
    {
     "name": "stdout",
     "output_type": "stream",
     "text": [
      "[[1]]\n",
      "[[1]][[1]]\n",
      "[1] \"R 프로그래밍 언어(줄여서 R)는 통계 계산과 그래픽을 위한 프로그래밍 언어이자 소프트웨어 환경이다\"                                     \n",
      "[2] \" 뉴질랜드 오클랜드 대학의 로버트 젠틀맨(Robert Gentleman)과 로스 이하카(Ross Ihaka)에 의해 시작되어 현재는 R 코어 팀이 개발하고 있다\"\n",
      "[3] \"\"                                                                                                                                    \n",
      "\n",
      "\n",
      "[[2]]\n",
      "[[2]][[1]]\n",
      "[1] \"R은 GPL 하에 배포되는 S 프로그래밍 언어의 구현으로 GNU S라고도 한다\"                \n",
      "[2] \" R은 통계 소프트웨어 개발과 자료 분석에 널리 사용되고 있다\"                         \n",
      "[3] \" 패키지 개발이 용이하여 통계학자들 사이에서 통계 소프트웨어 개발에 많이 쓰이고 있다\"\n",
      "[4] \"\"                                                                                   \n",
      "\n",
      "\n",
      "$`R 프로그래밍 언어(줄여서 R)는 통계 계산과 그래픽을 위한 프로그래밍 언어이자 소프트웨어 환경이다. 뉴질랜드 오클랜드 대학의 로버트 젠틀맨(Robert Gentleman)과 로스 이하카(Ross Ihaka)에 의해 시작되어 현재는 R 코어 팀이 개발하고 있다.`\n",
      "[1] \"R 프로그래밍 언어(줄여서 R)는 통계 계산과 그래픽을 위한 프로그래밍 언어이자 소프트웨어 환경이다\"                                     \n",
      "[2] \" 뉴질랜드 오클랜드 대학의 로버트 젠틀맨(Robert Gentleman)과 로스 이하카(Ross Ihaka)에 의해 시작되어 현재는 R 코어 팀이 개발하고 있다\"\n",
      "\n",
      "$`R은 GPL 하에 배포되는 S 프로그래밍 언어의 구현으로 GNU S라고도 한다. R은 통계 소프트웨어 개발과 자료 분석에 널리 사용되고 있다. 패키지 개발이 용이하여 통계학자들 사이에서 통계 소프트웨어 개발에 많이 쓰이고 있다.`\n",
      "[1] \"R은 GPL 하에 배포되는 S 프로그래밍 언어의 구현으로 GNU S라고도 한다\"                \n",
      "[2] \" R은 통계 소프트웨어 개발과 자료 분석에 널리 사용되고 있다\"                         \n",
      "[3] \" 패키지 개발이 용이하여 통계학자들 사이에서 통계 소프트웨어 개발에 많이 쓰이고 있다\"\n",
      "\n"
     ]
    }
   ],
   "source": [
    "# 데이터순환을 이용한 문단(paragraph)을 문장(sentence) 단위로 분해\n",
    "\n",
    "R_wiki_sent <- map(R_wiki_para[[1]], function(x) {str_split(x, pattern = '\\\\.')})\n",
    "print(R_wiki_sent)\n",
    "\n",
    "R_wiki_sent <- sapply(R_wiki_para[[1]], strsplit, split = '\\\\.')\n",
    "print(R_wiki_sent)"
   ]
  },
  {
   "cell_type": "code",
   "execution_count": 275,
   "metadata": {},
   "outputs": [
    {
     "name": "stdout",
     "output_type": "stream",
     "text": [
      "[1] \"R 프로그래밍 언어(줄여서 R)는 통계 계산과 그래픽을 위한 프로그래밍 언어이자 소프트웨어 환경이다\"                                     \n",
      "[2] \" 뉴질랜드 오클랜드 대학의 로버트 젠틀맨(Robert Gentleman)과 로스 이하카(Ross Ihaka)에 의해 시작되어 현재는 R 코어 팀이 개발하고 있다\"\n",
      "\n",
      "[1] \"1째 문단(paragraph) 객체유형: character타입\"\n",
      "[1] \"1째 문단(paragraph) 객체길이: 2요소\"\n",
      "[1] \"문자갯수: 55개\" \"문자갯수: 89개\"\n",
      "\n",
      "[1] \"R은 GPL 하에 배포되는 S 프로그래밍 언어의 구현으로 GNU S라고도 한다\"                \n",
      "[2] \" R은 통계 소프트웨어 개발과 자료 분석에 널리 사용되고 있다\"                         \n",
      "[3] \" 패키지 개발이 용이하여 통계학자들 사이에서 통계 소프트웨어 개발에 많이 쓰이고 있다\"\n",
      "\n",
      "[1] \"2째 문단(paragraph) 객체유형: character타입\"\n",
      "[1] \"2째 문단(paragraph) 객체길이: 3요소\"\n",
      "[1] \"문자갯수: 43개\" \"문자갯수: 34개\" \"문자갯수: 47개\"\n",
      "\n"
     ]
    }
   ],
   "source": [
    "# for구문을 이용한 개별 문단(paragraph)의 문장(sentence) 내용조회\n",
    "for(i in seq(length(R_wiki_sent))) {\n",
    "    # - 반복범위를 1:length(R_wiki_sent)로 코딩가능\n",
    "\n",
    "    print(R_wiki_sent[[i]])\n",
    "    cat('\\n')\n",
    "\n",
    "    print(sprintf('%d째 문단(paragraph) 객체유형: %s타입', i, class(R_wiki_sent[[i]])))\n",
    "    print(sprintf('%d째 문단(paragraph) 객체길이: %d요소', i, length(R_wiki_sent[[i]])))\n",
    "    print(sprintf('문자갯수: %d개', nchar(R_wiki_sent[[i]])))\n",
    "    # - nchar()대신에 stringr::str_length() 사용가능\n",
    "    \n",
    "    cat('\\n')\n",
    "    \n",
    "}"
   ]
  },
  {
   "cell_type": "markdown",
   "metadata": {},
   "source": [
    "### 문장(sentence)을 단어(word) 단위로 분해"
   ]
  },
  {
   "cell_type": "code",
   "execution_count": 276,
   "metadata": {},
   "outputs": [
    {
     "name": "stdout",
     "output_type": "stream",
     "text": [
      "list()\n"
     ]
    }
   ],
   "source": [
    "# 텅빈 리스트객체 생성\n",
    "R_wiki_word <- list()\n",
    "\n",
    "print(R_wiki_word)\n",
    "# - 문장(sentence) 단어(word) 단위로 분해된 데이터를 저장할 용도임"
   ]
  },
  {
   "cell_type": "code",
   "execution_count": 279,
   "metadata": {},
   "outputs": [
    {
     "name": "stdout",
     "output_type": "stream",
     "text": [
      "[[1]]\n",
      "[[1]][[1]]\n",
      " [1] \"R\"           \"프로그래밍\"  \"언어(줄여서\" \"R)는\"        \"통계\"       \n",
      " [6] \"계산과\"      \"그래픽을\"    \"위한\"        \"프로그래밍\"  \"언어이자\"   \n",
      "[11] \"소프트웨어\"  \"환경이다\"   \n",
      "\n",
      "[[1]][[2]]\n",
      " [1] \"\"              \"뉴질랜드\"      \"오클랜드\"      \"대학의\"       \n",
      " [5] \"로버트\"        \"젠틀맨(Robert\" \"Gentleman)과\"  \"로스\"         \n",
      " [9] \"이하카(Ross\"   \"Ihaka)에\"      \"의해\"          \"시작되어\"     \n",
      "[13] \"현재는\"        \"R\"             \"코어\"          \"팀이\"         \n",
      "[17] \"개발하고\"      \"있다\"         \n",
      "\n",
      "\n",
      "[[2]]\n",
      "[[2]][[1]]\n",
      " [1] \"R은\"        \"GPL\"        \"하에\"       \"배포되는\"   \"S\"         \n",
      " [6] \"프로그래밍\" \"언어의\"     \"구현으로\"   \"GNU\"        \"S라고도\"   \n",
      "[11] \"한다\"      \n",
      "\n",
      "[[2]][[2]]\n",
      " [1] \"\"           \"R은\"        \"통계\"       \"소프트웨어\" \"개발과\"    \n",
      " [6] \"자료\"       \"분석에\"     \"널리\"       \"사용되고\"   \"있다\"      \n",
      "\n",
      "[[2]][[3]]\n",
      " [1] \"\"           \"패키지\"     \"개발이\"     \"용이하여\"   \"통계학자들\"\n",
      " [6] \"사이에서\"   \"통계\"       \"소프트웨어\" \"개발에\"     \"많이\"      \n",
      "[11] \"쓰이고\"     \"있다\"      \n",
      "\n",
      "\n"
     ]
    },
    {
     "data": {
      "text/html": [
       "'객체유형: list타입'"
      ],
      "text/latex": [
       "'객체유형: list타입'"
      ],
      "text/markdown": [
       "'객체유형: list타입'"
      ],
      "text/plain": [
       "[1] \"객체유형: list타입\""
      ]
     },
     "metadata": {},
     "output_type": "display_data"
    },
    {
     "data": {
      "text/html": [
       "'객체길이: 2개 요소'"
      ],
      "text/latex": [
       "'객체길이: 2개 요소'"
      ],
      "text/markdown": [
       "'객체길이: 2개 요소'"
      ],
      "text/plain": [
       "[1] \"객체길이: 2개 요소\""
      ]
     },
     "metadata": {},
     "output_type": "display_data"
    }
   ],
   "source": [
    "# for구문을 이용한 문장(sentence)을 단어(word) 단위로 분해\n",
    "for(i in seq(length(R_wiki_sent))) {\n",
    "    # - 반복범위를 1:length(R_wiki_sent)로 코딩가능함\n",
    "    \n",
    "    R_wiki_word[[i]] <- strsplit(R_wiki_sent[[i]], split = ' ')\n",
    "    # - 분해함수로 stringr::str_split() 사용가능함\n",
    "}\n",
    "\n",
    "# 문장(sentence) 단위로 분해된 리스트객체 내용\n",
    "print(R_wiki_word)\n",
    "# - 전체 객체유형은 리스트객체이며, 세부적으로 2개 리스트항목을 가지고 있는 구조임\n",
    "\n",
    "# 문장(sentence) 단위로 분해된 리스트객체 특성\n",
    "sprintf('객체유형: %s타입', class(R_wiki_word))\n",
    "sprintf('객체길이: %d개 요소', length(R_wiki_word)) # 리스트객체 전체길이"
   ]
  },
  {
   "cell_type": "code",
   "execution_count": 281,
   "metadata": {},
   "outputs": [
    {
     "name": "stdout",
     "output_type": "stream",
     "text": [
      "[[1]]\n",
      "[[1]][[1]]\n",
      " [1] \"R\"           \"프로그래밍\"  \"언어(줄여서\" \"R)는\"        \"통계\"       \n",
      " [6] \"계산과\"      \"그래픽을\"    \"위한\"        \"프로그래밍\"  \"언어이자\"   \n",
      "[11] \"소프트웨어\"  \"환경이다\"   \n",
      "\n",
      "\n",
      "[[2]]\n",
      "[[2]][[1]]\n",
      " [1] \"\"              \"뉴질랜드\"      \"오클랜드\"      \"대학의\"       \n",
      " [5] \"로버트\"        \"젠틀맨(Robert\" \"Gentleman)과\"  \"로스\"         \n",
      " [9] \"이하카(Ross\"   \"Ihaka)에\"      \"의해\"          \"시작되어\"     \n",
      "[13] \"현재는\"        \"R\"             \"코어\"          \"팀이\"         \n",
      "[17] \"개발하고\"      \"있다\"         \n",
      "\n",
      "\n",
      "$`R 프로그래밍 언어(줄여서 R)는 통계 계산과 그래픽을 위한 프로그래밍 언어이자 소프트웨어 환경이다`\n",
      " [1] \"R\"           \"프로그래밍\"  \"언어(줄여서\" \"R)는\"        \"통계\"       \n",
      " [6] \"계산과\"      \"그래픽을\"    \"위한\"        \"프로그래밍\"  \"언어이자\"   \n",
      "[11] \"소프트웨어\"  \"환경이다\"   \n",
      "\n",
      "$` 뉴질랜드 오클랜드 대학의 로버트 젠틀맨(Robert Gentleman)과 로스 이하카(Ross Ihaka)에 의해 시작되어 현재는 R 코어 팀이 개발하고 있다`\n",
      " [1] \"\"              \"뉴질랜드\"      \"오클랜드\"      \"대학의\"       \n",
      " [5] \"로버트\"        \"젠틀맨(Robert\" \"Gentleman)과\"  \"로스\"         \n",
      " [9] \"이하카(Ross\"   \"Ihaka)에\"      \"의해\"          \"시작되어\"     \n",
      "[13] \"현재는\"        \"R\"             \"코어\"          \"팀이\"         \n",
      "[17] \"개발하고\"      \"있다\"         \n",
      "\n"
     ]
    }
   ],
   "source": [
    "# 데이터순환을 이용한 문장(sentence)을 단어(word) 단위로 분해\n",
    "\n",
    "R_wiki_word <- map(R_wiki_sent[[1]], function(x) {str_split(x, pattern = ' ')})\n",
    "print(R_wiki_word)\n",
    "\n",
    "R_wiki_word <- sapply(R_wiki_sent[[1]], strsplit, split = ' ')\n",
    "print(R_wiki_word)"
   ]
  },
  {
   "cell_type": "markdown",
   "metadata": {},
   "source": [
    "# End of Source"
   ]
  }
 ],
 "metadata": {
  "kernelspec": {
   "display_name": "R",
   "language": "R",
   "name": "ir"
  },
  "language_info": {
   "codemirror_mode": "r",
   "file_extension": ".r",
   "mimetype": "text/x-r-source",
   "name": "R",
   "pygments_lexer": "r",
   "version": "3.5.1"
  }
 },
 "nbformat": 4,
 "nbformat_minor": 2
}
