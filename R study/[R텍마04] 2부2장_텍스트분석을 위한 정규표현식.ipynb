{
 "cells": [
  {
   "cell_type": "markdown",
   "metadata": {},
   "source": [
    "# <font color = 'color'>[R텍마04] 2부2장_텍스트분석을 위한 정규표현식</font>"
   ]
  },
  {
   "cell_type": "markdown",
   "metadata": {},
   "source": [
    "# <font color = 'blue'>텍스트데이터에 특정패턴의 위치파악(p.52)</font>"
   ]
  },
  {
   "cell_type": "markdown",
   "metadata": {},
   "source": [
    "### 텍스트 데이터내 특정패턴의 <font color = 'green'>최초 출현</font> 위치파악: regexpr()\n",
    "* regular expression\n",
    "* 검색패턴이 'ing'인 경우, 이 단어로 시작하는, 중간에 들어 있는, 끝나는 모든 위치 중에서 최초로 발견된 출현위치(자리)를 파악해 줌"
   ]
  },
  {
   "cell_type": "markdown",
   "metadata": {},
   "source": [
    "#### 간단 텍스트 데이터 준비"
   ]
  },
  {
   "cell_type": "code",
   "execution_count": 1,
   "metadata": {},
   "outputs": [
    {
     "data": {
      "text/html": [
       "'Learning R is so interesting'"
      ],
      "text/latex": [
       "'Learning R is so interesting'"
      ],
      "text/markdown": [
       "'Learning R is so interesting'"
      ],
      "text/plain": [
       "[1] \"Learning R is so interesting\""
      ]
     },
     "metadata": {},
     "output_type": "display_data"
    },
    {
     "name": "stdout",
     "output_type": "stream",
     "text": [
      "[1] \"Learning R is so interesting\"\n"
     ]
    },
    {
     "data": {
      "text/html": [
       "'my객체유형: character객체'"
      ],
      "text/latex": [
       "'my객체유형: character객체'"
      ],
      "text/markdown": [
       "'my객체유형: character객체'"
      ],
      "text/plain": [
       "[1] \"my객체유형: character객체\""
      ]
     },
     "metadata": {},
     "output_type": "display_data"
    },
    {
     "data": {
      "text/html": [
       "'my객체길이: 1요소'"
      ],
      "text/latex": [
       "'my객체길이: 1요소'"
      ],
      "text/markdown": [
       "'my객체길이: 1요소'"
      ],
      "text/plain": [
       "[1] \"my객체길이: 1요소\""
      ]
     },
     "metadata": {},
     "output_type": "display_data"
    }
   ],
   "source": [
    "# 간단 텍스트 데이터 준비\n",
    "my <- 'Learning R is so interesting'\n",
    "\n",
    "my\n",
    "print(my)\n",
    "\n",
    "sprintf('my객체유형: %s객체', class(my))\n",
    "sprintf('my객체길이: %d요소', length(my))"
   ]
  },
  {
   "cell_type": "markdown",
   "metadata": {},
   "source": [
    "#### 특정패턴의 최초 출현 위치파악"
   ]
  },
  {
   "cell_type": "code",
   "execution_count": 2,
   "metadata": {},
   "outputs": [
    {
     "name": "stdout",
     "output_type": "stream",
     "text": [
      "[1] 6\n",
      "attr(,\"match.length\")\n",
      "[1] 3\n",
      "attr(,\"index.type\")\n",
      "[1] \"chars\"\n",
      "attr(,\"useBytes\")\n",
      "[1] TRUE\n"
     ]
    },
    {
     "data": {
      "text/html": [
       "'integer'"
      ],
      "text/latex": [
       "'integer'"
      ],
      "text/markdown": [
       "'integer'"
      ],
      "text/plain": [
       "[1] \"integer\""
      ]
     },
     "metadata": {},
     "output_type": "display_data"
    }
   ],
   "source": [
    "# 특정패턴의 최초출현 위치파악\n",
    "keyword = 'ing'\n",
    "\n",
    "print(regexpr(pattern = keyword, text = my))\n",
    "# - 6: 특정표현(패턴)이 대상 텍스트 데이터에서 처음으로 나타나는 자리(위치)\n",
    "# - match.length: 매칭된 검색패턴(표현)의 길이\n",
    "# - userBytes: 검색결과는 바이트형식으로 출력됨\n",
    "\n",
    "class(regexpr(pattern = keyword, text = my))\n",
    "# - 특정패턴 최초출현 위치 검색결과는 정수형 객체임"
   ]
  },
  {
   "cell_type": "code",
   "execution_count": 3,
   "metadata": {},
   "outputs": [
    {
     "name": "stdout",
     "output_type": "stream",
     "text": [
      "[1] -1\n",
      "attr(,\"match.length\")\n",
      "[1] -1\n",
      "attr(,\"index.type\")\n",
      "[1] \"chars\"\n",
      "attr(,\"useBytes\")\n",
      "[1] TRUE\n"
     ]
    },
    {
     "data": {
      "text/html": [
       "'integer'"
      ],
      "text/latex": [
       "'integer'"
      ],
      "text/markdown": [
       "'integer'"
      ],
      "text/plain": [
       "[1] \"integer\""
      ]
     },
     "metadata": {},
     "output_type": "display_data"
    }
   ],
   "source": [
    "# 검색패턴의 대소문자에 따른 검색결과\n",
    "\n",
    "print(regexpr(pattern = 'Ing', text = my))\n",
    "# - 특정표현이 검색대상 텍스트 데이터에 없으면 -1을 출력\n",
    "# - 검색패턴의 대소문자에 따라 결과가 달라질 수 있음\n",
    "\n",
    "class(regexpr(pattern = 'Ing', text = my))\n",
    "# - 특정패턴 최초출현 위치 검색결과는 정수형 객체임"
   ]
  },
  {
   "cell_type": "code",
   "execution_count": 4,
   "metadata": {},
   "outputs": [
    {
     "name": "stdout",
     "output_type": "stream",
     "text": [
      "[1] 6\n",
      "attr(,\"match.length\")\n",
      "[1] 3\n",
      "attr(,\"index.type\")\n",
      "[1] \"chars\"\n",
      "attr(,\"useBytes\")\n",
      "[1] TRUE\n"
     ]
    },
    {
     "data": {
      "text/html": [
       "'integer'"
      ],
      "text/latex": [
       "'integer'"
      ],
      "text/markdown": [
       "'integer'"
      ],
      "text/plain": [
       "[1] \"integer\""
      ]
     },
     "metadata": {},
     "output_type": "display_data"
    }
   ],
   "source": [
    "# 검색패턴의 대소문자를 무시하는 옵션사용\n",
    "\n",
    "print(regexpr('Ing', my, ignore.case = TRUE))\n",
    "# - 특정표현으로 검색시 대소문자 상관없이 검색대상 텍스트 데이터에서 나타나는 자리(위치) 출력\n",
    "# - pattern과 text라는 파라미터는 생략가능함(단, 해당 인수값을 순서대로 입력해야 됨)\n",
    "# - ignore.case = TRUE 파라미터를 통해서 검색어의 대소문자에 상관없이 패턴매칭이 진행되도록 함\n",
    "\n",
    "class(regexpr('Ing', my, ignore.case = TRUE))\n",
    "# - 특정패턴 최초출현 위치 검색결과는 정수형 객체임"
   ]
  },
  {
   "cell_type": "markdown",
   "metadata": {},
   "source": [
    "#### 특정패턴의 시작-종료위치, 길이파악"
   ]
  },
  {
   "cell_type": "code",
   "execution_count": 5,
   "metadata": {},
   "outputs": [
    {
     "data": {
      "text/html": [
       "6"
      ],
      "text/latex": [
       "6"
      ],
      "text/markdown": [
       "6"
      ],
      "text/plain": [
       "[1] 6\n",
       "attr(,\"match.length\")\n",
       "[1] 3\n",
       "attr(,\"index.type\")\n",
       "[1] \"chars\"\n",
       "attr(,\"useBytes\")\n",
       "[1] TRUE"
      ]
     },
     "metadata": {},
     "output_type": "display_data"
    },
    {
     "name": "stdout",
     "output_type": "stream",
     "text": [
      "[1] 6\n",
      "attr(,\"match.length\")\n",
      "[1] 3\n",
      "attr(,\"index.type\")\n",
      "[1] \"chars\"\n",
      "attr(,\"useBytes\")\n",
      "[1] TRUE\n"
     ]
    },
    {
     "data": {
      "text/html": [
       "'integer'"
      ],
      "text/latex": [
       "'integer'"
      ],
      "text/markdown": [
       "'integer'"
      ],
      "text/plain": [
       "[1] \"integer\""
      ]
     },
     "metadata": {},
     "output_type": "display_data"
    }
   ],
   "source": [
    "# 특정패턴이 검색된 시작위치(자리)\n",
    "loc_start <- regexpr('ing', my)\n",
    "loc_start\n",
    "\n",
    "print(loc_start)\n",
    "class(loc_start)\n",
    "# - 특정패턴이 나타나는 시작 위치를 정수형 벡터객체로 로딩함"
   ]
  },
  {
   "cell_type": "code",
   "execution_count": 6,
   "metadata": {},
   "outputs": [
    {
     "data": {
      "text/html": [
       "3"
      ],
      "text/latex": [
       "3"
      ],
      "text/markdown": [
       "3"
      ],
      "text/plain": [
       "[1] 3"
      ]
     },
     "metadata": {},
     "output_type": "display_data"
    },
    {
     "name": "stdout",
     "output_type": "stream",
     "text": [
      "[1] 3\n"
     ]
    },
    {
     "data": {
      "text/html": [
       "'integer'"
      ],
      "text/latex": [
       "'integer'"
      ],
      "text/markdown": [
       "'integer'"
      ],
      "text/plain": [
       "[1] \"integer\""
      ]
     },
     "metadata": {},
     "output_type": "display_data"
    }
   ],
   "source": [
    "# 특정패턴이 매칭된 길이\n",
    "loc_length <- attr(regexpr('ing', my), 'match.length')\n",
    "loc_length\n",
    "\n",
    "print(loc_length)\n",
    "class(loc_length)\n",
    "# - 특정패턴이 매칭된 길이를 정수형 벡터객체로 로딩함"
   ]
  },
  {
   "cell_type": "code",
   "execution_count": 7,
   "metadata": {},
   "outputs": [
    {
     "data": {
      "text/html": [
       "8"
      ],
      "text/latex": [
       "8"
      ],
      "text/markdown": [
       "8"
      ],
      "text/plain": [
       "[1] 8\n",
       "attr(,\"match.length\")\n",
       "[1] 3\n",
       "attr(,\"index.type\")\n",
       "[1] \"chars\"\n",
       "attr(,\"useBytes\")\n",
       "[1] TRUE"
      ]
     },
     "metadata": {},
     "output_type": "display_data"
    },
    {
     "name": "stdout",
     "output_type": "stream",
     "text": [
      "[1] 8\n",
      "attr(,\"match.length\")\n",
      "[1] 3\n",
      "attr(,\"index.type\")\n",
      "[1] \"chars\"\n",
      "attr(,\"useBytes\")\n",
      "[1] TRUE\n"
     ]
    },
    {
     "data": {
      "text/html": [
       "'numeric'"
      ],
      "text/latex": [
       "'numeric'"
      ],
      "text/markdown": [
       "'numeric'"
      ],
      "text/plain": [
       "[1] \"numeric\""
      ]
     },
     "metadata": {},
     "output_type": "display_data"
    }
   ],
   "source": [
    "# 특정패턴이 검색된 종료위치(자리)\n",
    "loc_end <- loc_start + loc_length  - 1\n",
    "loc_end\n",
    "\n",
    "print(loc_end)\n",
    "class(loc_end)\n",
    "# - 특정패턴이 나타나는 종료 위치를 실수형 벡터객체로 로딩함"
   ]
  },
  {
   "cell_type": "code",
   "execution_count": 8,
   "metadata": {},
   "outputs": [
    {
     "data": {
      "text/html": [
       "'분석대상 텍스트: Learning R is so interesting'"
      ],
      "text/latex": [
       "'분석대상 텍스트: Learning R is so interesting'"
      ],
      "text/markdown": [
       "'분석대상 텍스트: Learning R is so interesting'"
      ],
      "text/plain": [
       "[1] \"분석대상 텍스트: Learning R is so interesting\""
      ]
     },
     "metadata": {},
     "output_type": "display_data"
    },
    {
     "data": {
      "text/html": [
       "'검색패턴 ing의 길이는 3이며, 총 1회 등장함'"
      ],
      "text/latex": [
       "'검색패턴 ing의 길이는 3이며, 총 1회 등장함'"
      ],
      "text/markdown": [
       "'검색패턴 ing의 길이는 3이며, 총 1회 등장함'"
      ],
      "text/plain": [
       "[1] \"검색패턴 ing의 길이는 3이며, 총 1회 등장함\""
      ]
     },
     "metadata": {},
     "output_type": "display_data"
    },
    {
     "data": {
      "text/html": [
       "'검색결과 시작위치: 6번째자리'"
      ],
      "text/latex": [
       "'검색결과 시작위치: 6번째자리'"
      ],
      "text/markdown": [
       "'검색결과 시작위치: 6번째자리'"
      ],
      "text/plain": [
       "[1] \"검색결과 시작위치: 6번째자리\""
      ]
     },
     "metadata": {},
     "output_type": "display_data"
    },
    {
     "data": {
      "text/html": [
       "'검색결과 종료위치: 8번째자리'"
      ],
      "text/latex": [
       "'검색결과 종료위치: 8번째자리'"
      ],
      "text/markdown": [
       "'검색결과 종료위치: 8번째자리'"
      ],
      "text/plain": [
       "[1] \"검색결과 종료위치: 8번째자리\""
      ]
     },
     "metadata": {},
     "output_type": "display_data"
    }
   ],
   "source": [
    "sprintf('분석대상 텍스트: %s', my)\n",
    "sprintf('검색패턴 %s의 길이는 %s이며, 총 %d회 등장함', \n",
    "        keyword, attr(regexpr('ing', my), 'match.length'), length(loc_start))\n",
    "sprintf('검색결과 시작위치: %d번째자리', loc_start)\n",
    "sprintf('검색결과 종료위치: %s번째자리', loc_end)"
   ]
  },
  {
   "cell_type": "markdown",
   "metadata": {},
   "source": [
    "### 텍스트 데이터내 특정패턴의 <font color = 'green'>모든 출현</font> 위치파악: gregexpr()\n",
    "* global regular expression\n",
    "* 검색패턴이 'ing'인 경우, 이 단어로 시작하는, 중간에 들어 있는, 끝나는 모든 출현위치(자리)를 파악해 줌"
   ]
  },
  {
   "cell_type": "markdown",
   "metadata": {},
   "source": [
    "#### 간단 텍스트 데이터 준비"
   ]
  },
  {
   "cell_type": "code",
   "execution_count": 9,
   "metadata": {},
   "outputs": [
    {
     "data": {
      "text/html": [
       "'Learning R is so interesting'"
      ],
      "text/latex": [
       "'Learning R is so interesting'"
      ],
      "text/markdown": [
       "'Learning R is so interesting'"
      ],
      "text/plain": [
       "[1] \"Learning R is so interesting\""
      ]
     },
     "metadata": {},
     "output_type": "display_data"
    },
    {
     "name": "stdout",
     "output_type": "stream",
     "text": [
      "[1] \"Learning R is so interesting\"\n"
     ]
    },
    {
     "data": {
      "text/html": [
       "'my객체유형: character객체'"
      ],
      "text/latex": [
       "'my객체유형: character객체'"
      ],
      "text/markdown": [
       "'my객체유형: character객체'"
      ],
      "text/plain": [
       "[1] \"my객체유형: character객체\""
      ]
     },
     "metadata": {},
     "output_type": "display_data"
    },
    {
     "data": {
      "text/html": [
       "'my객체길이: 1요소'"
      ],
      "text/latex": [
       "'my객체길이: 1요소'"
      ],
      "text/markdown": [
       "'my객체길이: 1요소'"
      ],
      "text/plain": [
       "[1] \"my객체길이: 1요소\""
      ]
     },
     "metadata": {},
     "output_type": "display_data"
    }
   ],
   "source": [
    "# 간단 텍스트 데이터 준비\n",
    "my <- 'Learning R is so interesting'\n",
    "\n",
    "my\n",
    "print(my)\n",
    "\n",
    "sprintf('my객체유형: %s객체', class(my))\n",
    "sprintf('my객체길이: %d요소', length(my))"
   ]
  },
  {
   "cell_type": "markdown",
   "metadata": {},
   "source": [
    "#### 특정패턴의 모든 출현 위치파악"
   ]
  },
  {
   "cell_type": "code",
   "execution_count": 10,
   "metadata": {},
   "outputs": [
    {
     "name": "stdout",
     "output_type": "stream",
     "text": [
      "[[1]]\n",
      "[1]  6 26\n",
      "attr(,\"match.length\")\n",
      "[1] 3 3\n",
      "attr(,\"index.type\")\n",
      "[1] \"chars\"\n",
      "attr(,\"useBytes\")\n",
      "[1] TRUE\n",
      "\n"
     ]
    },
    {
     "data": {
      "text/html": [
       "'list'"
      ],
      "text/latex": [
       "'list'"
      ],
      "text/markdown": [
       "'list'"
      ],
      "text/plain": [
       "[1] \"list\""
      ]
     },
     "metadata": {},
     "output_type": "display_data"
    }
   ],
   "source": [
    "# 특정패턴의 모든 출현 위치파악\n",
    "keyword = 'ing'\n",
    "\n",
    "print(gregexpr(pattern = keyword, text = my))\n",
    "# - 6 26: 특정표현(패턴)이 대상 텍스트 데이터에서 나타나는 모든 자리(위치)\n",
    "# - match.length: 매칭된 검색패턴(표현)의 길이\n",
    "# - userBytes: 검색결과는 바이트형식으로 출력됨\n",
    "\n",
    "class(gregexpr(pattern = keyword, text = my))\n",
    "# - 특정패턴의 모든 출현위치 검색결과는 리스트형 객체임"
   ]
  },
  {
   "cell_type": "code",
   "execution_count": 11,
   "metadata": {},
   "outputs": [
    {
     "name": "stdout",
     "output_type": "stream",
     "text": [
      "[[1]]\n",
      "[1] -1\n",
      "attr(,\"match.length\")\n",
      "[1] -1\n",
      "attr(,\"index.type\")\n",
      "[1] \"chars\"\n",
      "attr(,\"useBytes\")\n",
      "[1] TRUE\n",
      "\n"
     ]
    },
    {
     "data": {
      "text/html": [
       "'list'"
      ],
      "text/latex": [
       "'list'"
      ],
      "text/markdown": [
       "'list'"
      ],
      "text/plain": [
       "[1] \"list\""
      ]
     },
     "metadata": {},
     "output_type": "display_data"
    }
   ],
   "source": [
    "# 검색패턴의 대소문자에 따른 검색결과\n",
    "\n",
    "print(gregexpr(pattern = 'Ing', text = my))\n",
    "# - 특정표현이 검색대상 텍스트 데이터에 없으면 -1을 출력\n",
    "# - 검색패턴의 대소문자에 따라 결과가 달라질 수 있음\n",
    "\n",
    "class(gregexpr(pattern = 'Ing', text = my))\n",
    "# - 특정패턴의 모든 출현위치 검색결과는 리스트형 객체임"
   ]
  },
  {
   "cell_type": "code",
   "execution_count": 12,
   "metadata": {},
   "outputs": [
    {
     "name": "stdout",
     "output_type": "stream",
     "text": [
      "[[1]]\n",
      "[1]  6 26\n",
      "attr(,\"match.length\")\n",
      "[1] 3 3\n",
      "attr(,\"index.type\")\n",
      "[1] \"chars\"\n",
      "attr(,\"useBytes\")\n",
      "[1] TRUE\n",
      "\n"
     ]
    },
    {
     "data": {
      "text/html": [
       "'list'"
      ],
      "text/latex": [
       "'list'"
      ],
      "text/markdown": [
       "'list'"
      ],
      "text/plain": [
       "[1] \"list\""
      ]
     },
     "metadata": {},
     "output_type": "display_data"
    }
   ],
   "source": [
    "# 검색패턴의 대소문자를 무시하는 옵션사용\n",
    "\n",
    "print(gregexpr('Ing', my, ignore.case = TRUE))\n",
    "# - 특정표현으로 검색시 대소문자 상관없이 검색대상 텍스트 데이터에서 나타나는 자리(위치) 출력\n",
    "# - pattern과 text라는 파라미터는 생략가능함(단, 해당 인수값을 순서대로 입력해야 됨)\n",
    "# - ignore.case = TRUE 파라미터를 통해서 검색어의 대소문자에 상관없이 패턴매칭이 진행되도록 함\n",
    "\n",
    "class(gregexpr('Ing', my, ignore.case = TRUE))\n",
    "# - 특정패턴의 모든 출현위치 검색결과는 리스트형 객체임"
   ]
  },
  {
   "cell_type": "markdown",
   "metadata": {},
   "source": [
    "#### 특정패턴의 시작-종료위치, 길이파악"
   ]
  },
  {
   "cell_type": "code",
   "execution_count": 13,
   "metadata": {},
   "outputs": [
    {
     "name": "stdout",
     "output_type": "stream",
     "text": [
      "[[1]]\n",
      "[1]  6 26\n",
      "attr(,\"match.length\")\n",
      "[1] 3 3\n",
      "attr(,\"index.type\")\n",
      "[1] \"chars\"\n",
      "attr(,\"useBytes\")\n",
      "[1] TRUE\n",
      "\n"
     ]
    },
    {
     "data": {
      "text/html": [
       "'list'"
      ],
      "text/latex": [
       "'list'"
      ],
      "text/markdown": [
       "'list'"
      ],
      "text/plain": [
       "[1] \"list\""
      ]
     },
     "metadata": {},
     "output_type": "display_data"
    },
    {
     "name": "stdout",
     "output_type": "stream",
     "text": [
      "[1]  6 26\n",
      "attr(,\"match.length\")\n",
      "[1] 3 3\n",
      "attr(,\"index.type\")\n",
      "[1] \"chars\"\n",
      "attr(,\"useBytes\")\n",
      "[1] TRUE\n"
     ]
    },
    {
     "data": {
      "text/html": [
       "'integer'"
      ],
      "text/latex": [
       "'integer'"
      ],
      "text/markdown": [
       "'integer'"
      ],
      "text/plain": [
       "[1] \"integer\""
      ]
     },
     "metadata": {},
     "output_type": "display_data"
    }
   ],
   "source": [
    "# 특정패턴이 검색된 시작위치(자리)\n",
    "loc_start <- gregexpr('ing', my)\n",
    "print(loc_start)\n",
    "class(loc_start)\n",
    "# - 특정패턴이 나타나는 모든 위치를 찾은결과는 리스트객체임\n",
    "\n",
    "loc_start <- loc_start[[1]]\n",
    "# - unlist(loc_start)라는 코드를 통해 리스트구조를 해제하고, 벡터객체로 만들 수 있으나\n",
    "#   이 경우에는 같이 들어 있는 attr() 관련 속성정보가 사라지게됨\n",
    "\n",
    "print(loc_start)\n",
    "class(loc_start)\n",
    "# - 특정패턴이 나타나는 모든 시작위치를 정수형 벡터객체로 로딩함"
   ]
  },
  {
   "cell_type": "code",
   "execution_count": 14,
   "metadata": {},
   "outputs": [
    {
     "data": {
      "text/html": [
       "<ol class=list-inline>\n",
       "\t<li>3</li>\n",
       "\t<li>3</li>\n",
       "</ol>\n"
      ],
      "text/latex": [
       "\\begin{enumerate*}\n",
       "\\item 3\n",
       "\\item 3\n",
       "\\end{enumerate*}\n"
      ],
      "text/markdown": [
       "1. 3\n",
       "2. 3\n",
       "\n",
       "\n"
      ],
      "text/plain": [
       "[1] 3 3"
      ]
     },
     "metadata": {},
     "output_type": "display_data"
    },
    {
     "name": "stdout",
     "output_type": "stream",
     "text": [
      "[1] 3 3\n"
     ]
    },
    {
     "data": {
      "text/html": [
       "'integer'"
      ],
      "text/latex": [
       "'integer'"
      ],
      "text/markdown": [
       "'integer'"
      ],
      "text/plain": [
       "[1] \"integer\""
      ]
     },
     "metadata": {},
     "output_type": "display_data"
    }
   ],
   "source": [
    "# 특정패턴이 매칭된 길이\n",
    "loc_length <- attr(gregexpr('ing', my)[[1]], 'match.length')\n",
    "loc_length\n",
    "\n",
    "print(loc_length)\n",
    "class(loc_length)\n",
    "# - 특정패턴이 매칭된 모든 길이를 정수형 벡터객체로 로딩함"
   ]
  },
  {
   "cell_type": "code",
   "execution_count": 15,
   "metadata": {},
   "outputs": [
    {
     "data": {
      "text/html": [
       "<ol class=list-inline>\n",
       "\t<li>8</li>\n",
       "\t<li>28</li>\n",
       "</ol>\n"
      ],
      "text/latex": [
       "\\begin{enumerate*}\n",
       "\\item 8\n",
       "\\item 28\n",
       "\\end{enumerate*}\n"
      ],
      "text/markdown": [
       "1. 8\n",
       "2. 28\n",
       "\n",
       "\n"
      ],
      "text/plain": [
       "[1]  8 28\n",
       "attr(,\"match.length\")\n",
       "[1] 3 3\n",
       "attr(,\"index.type\")\n",
       "[1] \"chars\"\n",
       "attr(,\"useBytes\")\n",
       "[1] TRUE"
      ]
     },
     "metadata": {},
     "output_type": "display_data"
    },
    {
     "name": "stdout",
     "output_type": "stream",
     "text": [
      "[1]  8 28\n",
      "attr(,\"match.length\")\n",
      "[1] 3 3\n",
      "attr(,\"index.type\")\n",
      "[1] \"chars\"\n",
      "attr(,\"useBytes\")\n",
      "[1] TRUE\n"
     ]
    },
    {
     "data": {
      "text/html": [
       "'numeric'"
      ],
      "text/latex": [
       "'numeric'"
      ],
      "text/markdown": [
       "'numeric'"
      ],
      "text/plain": [
       "[1] \"numeric\""
      ]
     },
     "metadata": {},
     "output_type": "display_data"
    }
   ],
   "source": [
    "# 특정패턴이 검색된 종료위치(자리)\n",
    "loc_end <- loc_start + loc_length  - 1\n",
    "loc_end\n",
    "\n",
    "print(loc_end)\n",
    "class(loc_end)\n",
    "# - 특정패턴이 나타나는 모든 종료위치를 실수형 벡터객체로 로딩함"
   ]
  },
  {
   "cell_type": "code",
   "execution_count": 16,
   "metadata": {},
   "outputs": [
    {
     "data": {
      "text/html": [
       "'분석대상 텍스트: Learning R is so interesting'"
      ],
      "text/latex": [
       "'분석대상 텍스트: Learning R is so interesting'"
      ],
      "text/markdown": [
       "'분석대상 텍스트: Learning R is so interesting'"
      ],
      "text/plain": [
       "[1] \"분석대상 텍스트: Learning R is so interesting\""
      ]
     },
     "metadata": {},
     "output_type": "display_data"
    },
    {
     "data": {
      "text/html": [
       "'검색패턴 ing의 길이는 3이며, 총 2회 등장함'"
      ],
      "text/latex": [
       "'검색패턴 ing의 길이는 3이며, 총 2회 등장함'"
      ],
      "text/markdown": [
       "'검색패턴 ing의 길이는 3이며, 총 2회 등장함'"
      ],
      "text/plain": [
       "[1] \"검색패턴 ing의 길이는 3이며, 총 2회 등장함\""
      ]
     },
     "metadata": {},
     "output_type": "display_data"
    },
    {
     "data": {
      "text/html": [
       "<ol class=list-inline>\n",
       "\t<li>'검색결과 시작위치: 6번째자리'</li>\n",
       "\t<li>'검색결과 시작위치: 26번째자리'</li>\n",
       "</ol>\n"
      ],
      "text/latex": [
       "\\begin{enumerate*}\n",
       "\\item '검색결과 시작위치: 6번째자리'\n",
       "\\item '검색결과 시작위치: 26번째자리'\n",
       "\\end{enumerate*}\n"
      ],
      "text/markdown": [
       "1. '검색결과 시작위치: 6번째자리'\n",
       "2. '검색결과 시작위치: 26번째자리'\n",
       "\n",
       "\n"
      ],
      "text/plain": [
       "[1] \"검색결과 시작위치: 6번째자리\"  \"검색결과 시작위치: 26번째자리\""
      ]
     },
     "metadata": {},
     "output_type": "display_data"
    },
    {
     "data": {
      "text/html": [
       "<ol class=list-inline>\n",
       "\t<li>'검색결과 종료위치: 8번째자리'</li>\n",
       "\t<li>'검색결과 종료위치: 28번째자리'</li>\n",
       "</ol>\n"
      ],
      "text/latex": [
       "\\begin{enumerate*}\n",
       "\\item '검색결과 종료위치: 8번째자리'\n",
       "\\item '검색결과 종료위치: 28번째자리'\n",
       "\\end{enumerate*}\n"
      ],
      "text/markdown": [
       "1. '검색결과 종료위치: 8번째자리'\n",
       "2. '검색결과 종료위치: 28번째자리'\n",
       "\n",
       "\n"
      ],
      "text/plain": [
       "[1] \"검색결과 종료위치: 8번째자리\"  \"검색결과 종료위치: 28번째자리\""
      ]
     },
     "metadata": {},
     "output_type": "display_data"
    }
   ],
   "source": [
    "sprintf('분석대상 텍스트: %s', my)\n",
    "sprintf('검색패턴 %s의 길이는 %s이며, 총 %d회 등장함', \n",
    "        keyword, attr(regexpr('ing', my), 'match.length'), length(loc_start))\n",
    "sprintf('검색결과 시작위치: %d번째자리', loc_start)\n",
    "sprintf('검색결과 종료위치: %s번째자리', loc_end)"
   ]
  },
  {
   "cell_type": "markdown",
   "metadata": {},
   "source": [
    "### 텍스트 데이터내 특정 <font color = 'red'>중첩</font>패턴의 <font color = 'green'>최초 출현</font> 위치파악: regexec()\n",
    "* execute compiled regular expression  "
   ]
  },
  {
   "cell_type": "markdown",
   "metadata": {},
   "source": [
    "* 검색패턴이 <font color='blue'>'ing'</font>인 경우\n",
    "<br>- 이 단어로 시작하는, 중간에 들어 있는, 끝나는 모든 위치 중에서 최초로 발견된 위치(자리)를 파악해 줌"
   ]
  },
  {
   "cell_type": "markdown",
   "metadata": {},
   "source": [
    "* 검색패턴이 <font color='blue'>'interesting'</font>인 경우 \n",
    "<br>- 이 단어로 시작하는, 중간에 들어 있는, 끝나는 모든 위치 중에서 최초로 발견된 위치(자리)를 파악해 줌"
   ]
  },
  {
   "cell_type": "markdown",
   "metadata": {},
   "source": [
    "* 검색패턴이 <font color='blue'>'interest(ing)'</font>인 경우: <font color='red'>괄호</font>를 이용한 중첩검색패턴임 \n",
    "<br>- <font color='green'>interesting</font> 단어로 시작하는, 중간에 들어 있는, 끝나는 모든 위치 중에서 최초로 발견된 위치(자리)를 파악해 줌 \n",
    "<br>- 또한 <font color='green'>ing</font>라는 단어에 대해서도 interst에 이어서 나타나는 위치(자리)를 파악해 줌"
   ]
  },
  {
   "cell_type": "markdown",
   "metadata": {},
   "source": [
    "* 검색패턴이 <font color='blue'>'so (interest(ing))'</font>인 경우: <font color='red'>괄호</font>를 이용한 중첩검색패턴임 \n",
    "<br>- <font color='green'>so interesting</font> 문구로 시작하는, 중간에 들어 있는, 끝나는 모든 위치 중에서 최초로 발견된 위치(자리)를 파악해 줌 \n",
    "<br>- 또한 <font color='green'>interesting</font>이라는 단어에 대해서도 so에 이어서 나타나는 위치(자리)를 파악해 줌\n",
    "    <br>- 또한 <font color='green'>ing</font>라는 단어에 대해서도 interst에 이어서 나타나는 위치(자리)를 파악해 줌"
   ]
  },
  {
   "cell_type": "markdown",
   "metadata": {},
   "source": [
    "#### 간단 텍스트 데이터 준비"
   ]
  },
  {
   "cell_type": "code",
   "execution_count": 17,
   "metadata": {},
   "outputs": [
    {
     "data": {
      "text/html": [
       "'Learning R is so interesting'"
      ],
      "text/latex": [
       "'Learning R is so interesting'"
      ],
      "text/markdown": [
       "'Learning R is so interesting'"
      ],
      "text/plain": [
       "[1] \"Learning R is so interesting\""
      ]
     },
     "metadata": {},
     "output_type": "display_data"
    },
    {
     "name": "stdout",
     "output_type": "stream",
     "text": [
      "[1] \"Learning R is so interesting\"\n"
     ]
    },
    {
     "data": {
      "text/html": [
       "'my객체유형: character객체'"
      ],
      "text/latex": [
       "'my객체유형: character객체'"
      ],
      "text/markdown": [
       "'my객체유형: character객체'"
      ],
      "text/plain": [
       "[1] \"my객체유형: character객체\""
      ]
     },
     "metadata": {},
     "output_type": "display_data"
    },
    {
     "data": {
      "text/html": [
       "'my객체길이: 1요소'"
      ],
      "text/latex": [
       "'my객체길이: 1요소'"
      ],
      "text/markdown": [
       "'my객체길이: 1요소'"
      ],
      "text/plain": [
       "[1] \"my객체길이: 1요소\""
      ]
     },
     "metadata": {},
     "output_type": "display_data"
    }
   ],
   "source": [
    "# 간단 텍스트 데이터 준비\n",
    "my <- 'Learning R is so interesting'\n",
    "\n",
    "my\n",
    "print(my)\n",
    "\n",
    "sprintf('my객체유형: %s객체', class(my))\n",
    "sprintf('my객체길이: %d요소', length(my))"
   ]
  },
  {
   "cell_type": "markdown",
   "metadata": {},
   "source": [
    "#### 특정패턴의 최초 출현 위치파악"
   ]
  },
  {
   "cell_type": "code",
   "execution_count": 18,
   "metadata": {},
   "outputs": [
    {
     "name": "stdout",
     "output_type": "stream",
     "text": [
      "[[1]]\n",
      "[1] 6\n",
      "attr(,\"match.length\")\n",
      "[1] 3\n",
      "attr(,\"index.type\")\n",
      "[1] \"chars\"\n",
      "attr(,\"useBytes\")\n",
      "[1] TRUE\n",
      "\n"
     ]
    },
    {
     "data": {
      "text/html": [
       "'list'"
      ],
      "text/latex": [
       "'list'"
      ],
      "text/markdown": [
       "'list'"
      ],
      "text/plain": [
       "[1] \"list\""
      ]
     },
     "metadata": {},
     "output_type": "display_data"
    }
   ],
   "source": [
    "# 특정패턴의 최초 출현 위치파악\n",
    "keyword = 'ing'\n",
    "\n",
    "print(regexec(pattern = keyword, text = my))\n",
    "# - 6: 특정표현(패턴)이 대상 텍스트 데이터에서 나타나는 모든 자리(위치)\n",
    "# - match.length: 매칭된 검색패턴(표현)의 길이\n",
    "# - userBytes: 검색결과는 바이트형식으로 출력됨\n",
    "\n",
    "class(regexec(pattern = keyword, text = my))\n",
    "# - 특정패턴의 최초 출현위치 검색결과는 리스트형 객체임"
   ]
  },
  {
   "cell_type": "markdown",
   "metadata": {},
   "source": [
    "#### 중첩패턴의 최초 출현 위치파악: (1)"
   ]
  },
  {
   "cell_type": "code",
   "execution_count": 19,
   "metadata": {},
   "outputs": [
    {
     "name": "stdout",
     "output_type": "stream",
     "text": [
      "[[1]]\n",
      "[1] 18 26\n",
      "attr(,\"match.length\")\n",
      "[1] 11  3\n",
      "attr(,\"index.type\")\n",
      "[1] \"chars\"\n",
      "attr(,\"useBytes\")\n",
      "[1] TRUE\n",
      "\n"
     ]
    },
    {
     "data": {
      "text/html": [
       "'list'"
      ],
      "text/latex": [
       "'list'"
      ],
      "text/markdown": [
       "'list'"
      ],
      "text/plain": [
       "[1] \"list\""
      ]
     },
     "metadata": {},
     "output_type": "display_data"
    }
   ],
   "source": [
    "# 중첩패턴의 최초 출현 위치파악\n",
    "keyword = 'interest(ing)'\n",
    "# - 괄호를 이용해 이중 중첩검색어로 interesting과 ing를 검색하게 됨\n",
    "\n",
    "print(regexec(pattern = keyword, text = my))\n",
    "# - 중첩표현(패턴)이 대상 텍스트 데이터에서 나타나는 최초 자리(위치)\n",
    "#   interesting:18, ing:26\n",
    "# - match.length: 매칭된 검색패턴(표현)의 길이\n",
    "#   interesting:11, ing:3\n",
    "# - userBytes: 검색결과는 바이트형식으로 출력됨\n",
    "\n",
    "class(regexec(pattern = keyword, text = my))\n",
    "# - 중첩패턴의 최초 출현위치 검색결과는 리스트형 객체임"
   ]
  },
  {
   "cell_type": "markdown",
   "metadata": {},
   "source": [
    "#### 중첩패턴의 최초 출현 위치파악: (2)"
   ]
  },
  {
   "cell_type": "code",
   "execution_count": 20,
   "metadata": {},
   "outputs": [
    {
     "name": "stdout",
     "output_type": "stream",
     "text": [
      "[[1]]\n",
      "[1] 15 18 26\n",
      "attr(,\"match.length\")\n",
      "[1] 14 11  3\n",
      "attr(,\"index.type\")\n",
      "[1] \"chars\"\n",
      "attr(,\"useBytes\")\n",
      "[1] TRUE\n",
      "\n"
     ]
    },
    {
     "data": {
      "text/html": [
       "'list'"
      ],
      "text/latex": [
       "'list'"
      ],
      "text/markdown": [
       "'list'"
      ],
      "text/plain": [
       "[1] \"list\""
      ]
     },
     "metadata": {},
     "output_type": "display_data"
    }
   ],
   "source": [
    "# 중첩패턴의 최초 출현 위치파악\n",
    "keyword = 'so (interest(ing))'\n",
    "# - 괄호를 이용해 삼중 중첩검색어로 so, interesting, ing를 검색하게 됨\n",
    "\n",
    "print(regexec(pattern = keyword, text = my))\n",
    "# - 중첩표현(패턴)이 대상 텍스트 데이터에서 나타나는 최초 자리(위치)\n",
    "#   so: 15, interesting:18, ing:26\n",
    "# - match.length: 매칭된 검색패턴(표현)의 길이\n",
    "#   so:14, interesting:11, ing:3\n",
    "# - userBytes: 검색결과는 바이트형식으로 출력됨\n",
    "\n",
    "class(regexec(pattern = keyword, text = my))\n",
    "# - 중첩패턴의 최초 출현위치 검색결과는 리스트형 객체임"
   ]
  },
  {
   "cell_type": "code",
   "execution_count": 21,
   "metadata": {},
   "outputs": [
    {
     "name": "stdout",
     "output_type": "stream",
     "text": [
      "[[1]]\n",
      "[1] -1\n",
      "attr(,\"match.length\")\n",
      "[1] -1\n",
      "attr(,\"index.type\")\n",
      "[1] \"chars\"\n",
      "attr(,\"useBytes\")\n",
      "[1] TRUE\n",
      "\n"
     ]
    },
    {
     "data": {
      "text/html": [
       "'list'"
      ],
      "text/latex": [
       "'list'"
      ],
      "text/markdown": [
       "'list'"
      ],
      "text/plain": [
       "[1] \"list\""
      ]
     },
     "metadata": {},
     "output_type": "display_data"
    }
   ],
   "source": [
    "# 중첩패턴의 대소문자에 따른 검색결과\n",
    "print(regexec(pattern = 'So (Interest(ing))', text = my))\n",
    "# - 중첩표현이 검색대상 텍스트 데이터에 없으면 -1을 출력\n",
    "# - 검색패턴의 대소문자에 따라 결과가 달라질 수 있음\n",
    "\n",
    "class(regexec(pattern = 'So (Interest(ing))', text = my))\n",
    "# - 중첩패턴의 최초 출현위치 검색결과는 리스트형 객체임"
   ]
  },
  {
   "cell_type": "code",
   "execution_count": 22,
   "metadata": {},
   "outputs": [
    {
     "name": "stdout",
     "output_type": "stream",
     "text": [
      "[[1]]\n",
      "[1] 15 18 26\n",
      "attr(,\"match.length\")\n",
      "[1] 14 11  3\n",
      "attr(,\"index.type\")\n",
      "[1] \"chars\"\n",
      "attr(,\"useBytes\")\n",
      "[1] TRUE\n",
      "\n"
     ]
    },
    {
     "data": {
      "text/html": [
       "'list'"
      ],
      "text/latex": [
       "'list'"
      ],
      "text/markdown": [
       "'list'"
      ],
      "text/plain": [
       "[1] \"list\""
      ]
     },
     "metadata": {},
     "output_type": "display_data"
    }
   ],
   "source": [
    "# 중첩패턴의 대소문자를 무시하는 옵션사용\n",
    "\n",
    "print(regexec('So (Interest(ing))', my, ignore.case = TRUE))\n",
    "# - 특정표현으로 검색시 대소문자 상관없이 검색대상 텍스트 데이터에서 나타나는 자리(위치) 출력\n",
    "# - pattern과 text라는 파라미터는 생략가능함(단, 해당 인수값을 순서대로 입력해야 됨)\n",
    "# - ignore.case = TRUE 파라미터를 통해서 검색어의 대소문자에 상관없이 패턴매칭이 진행되도록 함\n",
    "\n",
    "class(regexec('So (Interest(ing))', my, ignore.case = TRUE))\n",
    "# - 중첩패턴의 최초 출현위치 검색결과는 리스트형 객체임"
   ]
  },
  {
   "cell_type": "markdown",
   "metadata": {},
   "source": [
    "#### 중첩패턴의 시작-종료위치, 길이파악"
   ]
  },
  {
   "cell_type": "code",
   "execution_count": 23,
   "metadata": {},
   "outputs": [
    {
     "name": "stdout",
     "output_type": "stream",
     "text": [
      "[[1]]\n",
      "[1] 15 18 26\n",
      "attr(,\"match.length\")\n",
      "[1] 14 11  3\n",
      "attr(,\"index.type\")\n",
      "[1] \"chars\"\n",
      "attr(,\"useBytes\")\n",
      "[1] TRUE\n",
      "\n"
     ]
    },
    {
     "data": {
      "text/html": [
       "'list'"
      ],
      "text/latex": [
       "'list'"
      ],
      "text/markdown": [
       "'list'"
      ],
      "text/plain": [
       "[1] \"list\""
      ]
     },
     "metadata": {},
     "output_type": "display_data"
    },
    {
     "name": "stdout",
     "output_type": "stream",
     "text": [
      "[1] 15 18 26\n",
      "attr(,\"match.length\")\n",
      "[1] 14 11  3\n",
      "attr(,\"index.type\")\n",
      "[1] \"chars\"\n",
      "attr(,\"useBytes\")\n",
      "[1] TRUE\n"
     ]
    },
    {
     "data": {
      "text/html": [
       "'integer'"
      ],
      "text/latex": [
       "'integer'"
      ],
      "text/markdown": [
       "'integer'"
      ],
      "text/plain": [
       "[1] \"integer\""
      ]
     },
     "metadata": {},
     "output_type": "display_data"
    }
   ],
   "source": [
    "# 중첩패턴이 검색된 시작위치(자리)\n",
    "loc_start <- regexec(pattern = 'so (interest(ing))', text = my)\n",
    "print(loc_start)\n",
    "class(loc_start)\n",
    "# - 중첩패턴이 나타나는 최초 위치를 찾은결과는 리스트객체임\n",
    "\n",
    "loc_start <- loc_start[[1]]\n",
    "print(loc_start)\n",
    "class(loc_start)\n",
    "# - 중첩패턴이 나타나는 최초 시작위치를 정수형 벡터객체로 로딩함"
   ]
  },
  {
   "cell_type": "code",
   "execution_count": 24,
   "metadata": {},
   "outputs": [
    {
     "data": {
      "text/html": [
       "<ol class=list-inline>\n",
       "\t<li>14</li>\n",
       "\t<li>11</li>\n",
       "\t<li>3</li>\n",
       "</ol>\n"
      ],
      "text/latex": [
       "\\begin{enumerate*}\n",
       "\\item 14\n",
       "\\item 11\n",
       "\\item 3\n",
       "\\end{enumerate*}\n"
      ],
      "text/markdown": [
       "1. 14\n",
       "2. 11\n",
       "3. 3\n",
       "\n",
       "\n"
      ],
      "text/plain": [
       "[1] 14 11  3"
      ]
     },
     "metadata": {},
     "output_type": "display_data"
    },
    {
     "name": "stdout",
     "output_type": "stream",
     "text": [
      "[1] 14 11  3\n"
     ]
    },
    {
     "data": {
      "text/html": [
       "'integer'"
      ],
      "text/latex": [
       "'integer'"
      ],
      "text/markdown": [
       "'integer'"
      ],
      "text/plain": [
       "[1] \"integer\""
      ]
     },
     "metadata": {},
     "output_type": "display_data"
    }
   ],
   "source": [
    "# 중첩패턴이 매칭된 길이\n",
    "loc_length <- attr(regexec('so (interest(ing))', my)[[1]], 'match.length')\n",
    "loc_length\n",
    "\n",
    "print(loc_length)\n",
    "class(loc_length)\n",
    "# - 중첩패턴이 매칭된 길이를 정수형 벡터객체로 로딩함"
   ]
  },
  {
   "cell_type": "code",
   "execution_count": 25,
   "metadata": {},
   "outputs": [
    {
     "data": {
      "text/html": [
       "<ol class=list-inline>\n",
       "\t<li>28</li>\n",
       "\t<li>28</li>\n",
       "\t<li>28</li>\n",
       "</ol>\n"
      ],
      "text/latex": [
       "\\begin{enumerate*}\n",
       "\\item 28\n",
       "\\item 28\n",
       "\\item 28\n",
       "\\end{enumerate*}\n"
      ],
      "text/markdown": [
       "1. 28\n",
       "2. 28\n",
       "3. 28\n",
       "\n",
       "\n"
      ],
      "text/plain": [
       "[1] 28 28 28\n",
       "attr(,\"match.length\")\n",
       "[1] 14 11  3\n",
       "attr(,\"index.type\")\n",
       "[1] \"chars\"\n",
       "attr(,\"useBytes\")\n",
       "[1] TRUE"
      ]
     },
     "metadata": {},
     "output_type": "display_data"
    },
    {
     "name": "stdout",
     "output_type": "stream",
     "text": [
      "[1] 28 28 28\n",
      "attr(,\"match.length\")\n",
      "[1] 14 11  3\n",
      "attr(,\"index.type\")\n",
      "[1] \"chars\"\n",
      "attr(,\"useBytes\")\n",
      "[1] TRUE\n"
     ]
    },
    {
     "data": {
      "text/html": [
       "'numeric'"
      ],
      "text/latex": [
       "'numeric'"
      ],
      "text/markdown": [
       "'numeric'"
      ],
      "text/plain": [
       "[1] \"numeric\""
      ]
     },
     "metadata": {},
     "output_type": "display_data"
    }
   ],
   "source": [
    "# 중첩패턴이 검색된 종료위치(자리)\n",
    "loc_end <- loc_start + loc_length  - 1\n",
    "loc_end\n",
    "\n",
    "print(loc_end)\n",
    "class(loc_end)\n",
    "# - 중첩패턴이 나타나는 종료위치를 실수형 벡터객체로 로딩함"
   ]
  },
  {
   "cell_type": "code",
   "execution_count": 26,
   "metadata": {},
   "outputs": [
    {
     "data": {
      "text/html": [
       "'분석대상 텍스트: Learning R is so interesting'"
      ],
      "text/latex": [
       "'분석대상 텍스트: Learning R is so interesting'"
      ],
      "text/markdown": [
       "'분석대상 텍스트: Learning R is so interesting'"
      ],
      "text/plain": [
       "[1] \"분석대상 텍스트: Learning R is so interesting\""
      ]
     },
     "metadata": {},
     "output_type": "display_data"
    },
    {
     "data": {
      "text/html": [
       "<ol class=list-inline>\n",
       "\t<li>'검색패턴 so (interest(ing))의 길이는 14이며, 총 3회 등장함'</li>\n",
       "\t<li>'검색패턴 so (interest(ing))의 길이는 11이며, 총 3회 등장함'</li>\n",
       "\t<li>'검색패턴 so (interest(ing))의 길이는 3이며, 총 3회 등장함'</li>\n",
       "</ol>\n"
      ],
      "text/latex": [
       "\\begin{enumerate*}\n",
       "\\item '검색패턴 so (interest(ing))의 길이는 14이며, 총 3회 등장함'\n",
       "\\item '검색패턴 so (interest(ing))의 길이는 11이며, 총 3회 등장함'\n",
       "\\item '검색패턴 so (interest(ing))의 길이는 3이며, 총 3회 등장함'\n",
       "\\end{enumerate*}\n"
      ],
      "text/markdown": [
       "1. '검색패턴 so (interest(ing))의 길이는 14이며, 총 3회 등장함'\n",
       "2. '검색패턴 so (interest(ing))의 길이는 11이며, 총 3회 등장함'\n",
       "3. '검색패턴 so (interest(ing))의 길이는 3이며, 총 3회 등장함'\n",
       "\n",
       "\n"
      ],
      "text/plain": [
       "[1] \"검색패턴 so (interest(ing))의 길이는 14이며, 총 3회 등장함\"\n",
       "[2] \"검색패턴 so (interest(ing))의 길이는 11이며, 총 3회 등장함\"\n",
       "[3] \"검색패턴 so (interest(ing))의 길이는 3이며, 총 3회 등장함\" "
      ]
     },
     "metadata": {},
     "output_type": "display_data"
    },
    {
     "data": {
      "text/html": [
       "<ol class=list-inline>\n",
       "\t<li>'검색결과 시작위치: 15번째자리'</li>\n",
       "\t<li>'검색결과 시작위치: 18번째자리'</li>\n",
       "\t<li>'검색결과 시작위치: 26번째자리'</li>\n",
       "</ol>\n"
      ],
      "text/latex": [
       "\\begin{enumerate*}\n",
       "\\item '검색결과 시작위치: 15번째자리'\n",
       "\\item '검색결과 시작위치: 18번째자리'\n",
       "\\item '검색결과 시작위치: 26번째자리'\n",
       "\\end{enumerate*}\n"
      ],
      "text/markdown": [
       "1. '검색결과 시작위치: 15번째자리'\n",
       "2. '검색결과 시작위치: 18번째자리'\n",
       "3. '검색결과 시작위치: 26번째자리'\n",
       "\n",
       "\n"
      ],
      "text/plain": [
       "[1] \"검색결과 시작위치: 15번째자리\" \"검색결과 시작위치: 18번째자리\"\n",
       "[3] \"검색결과 시작위치: 26번째자리\""
      ]
     },
     "metadata": {},
     "output_type": "display_data"
    },
    {
     "data": {
      "text/html": [
       "<ol class=list-inline>\n",
       "\t<li>'검색결과 종료위치: 28번째자리'</li>\n",
       "\t<li>'검색결과 종료위치: 28번째자리'</li>\n",
       "\t<li>'검색결과 종료위치: 28번째자리'</li>\n",
       "</ol>\n"
      ],
      "text/latex": [
       "\\begin{enumerate*}\n",
       "\\item '검색결과 종료위치: 28번째자리'\n",
       "\\item '검색결과 종료위치: 28번째자리'\n",
       "\\item '검색결과 종료위치: 28번째자리'\n",
       "\\end{enumerate*}\n"
      ],
      "text/markdown": [
       "1. '검색결과 종료위치: 28번째자리'\n",
       "2. '검색결과 종료위치: 28번째자리'\n",
       "3. '검색결과 종료위치: 28번째자리'\n",
       "\n",
       "\n"
      ],
      "text/plain": [
       "[1] \"검색결과 종료위치: 28번째자리\" \"검색결과 종료위치: 28번째자리\"\n",
       "[3] \"검색결과 종료위치: 28번째자리\""
      ]
     },
     "metadata": {},
     "output_type": "display_data"
    }
   ],
   "source": [
    "sprintf('분석대상 텍스트: %s', my)\n",
    "sprintf('검색패턴 %s의 길이는 %s이며, 총 %d회 등장함', \n",
    "        keyword, \n",
    "        attr(regexec('so (interest(ing))', my)[[1]], 'match.length'), \n",
    "        length(loc_start))\n",
    "sprintf('검색결과 시작위치: %d번째자리', loc_start)\n",
    "sprintf('검색결과 종료위치: %s번째자리', loc_end)"
   ]
  },
  {
   "cell_type": "markdown",
   "metadata": {},
   "source": [
    "# <font color = 'blue'>여러 문장 속에 특정패턴의 위치파악(p.56)</font>"
   ]
  },
  {
   "cell_type": "markdown",
   "metadata": {},
   "source": [
    "### 여러 문장 텍스트데이터 준비"
   ]
  },
  {
   "cell_type": "markdown",
   "metadata": {},
   "source": [
    "#### raw 문단데이터 준비"
   ]
  },
  {
   "cell_type": "code",
   "execution_count": 27,
   "metadata": {},
   "outputs": [
    {
     "name": "stdout",
     "output_type": "stream",
     "text": [
      "[1] \"R 프로그래밍 언어(줄여서 R)는 통계 계산과 그래픽을 위한 프로그래밍 언어이자 소프트웨어 환경이다. 뉴질랜드 오클랜드 대학의 로버트 젠틀맨(Robert Gentleman)과 로스 이하카(Ross Ihaka)에 의해 시작되어 현재는 R 코어 팀이 개발하고 있다.\\nR은 GPL 하에 배포되는 S 프로그래밍 언어의 구현으로 GNU S라고도 한다. R은 통계 소프트웨어 개발과 자료 분석에 널리 사용되고 있다. 패키지 개발이 용이하여 통계학자들 사이에서 통계 소프트웨어 개발에 많이 쓰이고 있다.\"\n"
     ]
    }
   ],
   "source": [
    "# 텍스트 예시자료 준비\n",
    "R_wiki <- 'R 프로그래밍 언어(줄여서 R)는 통계 계산과 그래픽을 위한 프로그래밍 언어이자 소프트웨어 환경이다. 뉴질랜드 오클랜드 대학의 로버트 젠틀맨(Robert Gentleman)과 로스 이하카(Ross Ihaka)에 의해 시작되어 현재는 R 코어 팀이 개발하고 있다.\n",
    "R은 GPL 하에 배포되는 S 프로그래밍 언어의 구현으로 GNU S라고도 한다. R은 통계 소프트웨어 개발과 자료 분석에 널리 사용되고 있다. 패키지 개발이 용이하여 통계학자들 사이에서 통계 소프트웨어 개발에 많이 쓰이고 있다.'\n",
    "\n",
    "# R 위키소개글 객체내용\n",
    "print(R_wiki)"
   ]
  },
  {
   "cell_type": "markdown",
   "metadata": {},
   "source": [
    "#### 텍스트 데이터를 문단(paragraph) 단위로 분해"
   ]
  },
  {
   "cell_type": "code",
   "execution_count": 28,
   "metadata": {},
   "outputs": [
    {
     "name": "stdout",
     "output_type": "stream",
     "text": [
      "[[1]]\n",
      "[1] \"R 프로그래밍 언어(줄여서 R)는 통계 계산과 그래픽을 위한 프로그래밍 언어이자 소프트웨어 환경이다. 뉴질랜드 오클랜드 대학의 로버트 젠틀맨(Robert Gentleman)과 로스 이하카(Ross Ihaka)에 의해 시작되어 현재는 R 코어 팀이 개발하고 있다.\"\n",
      "[2] \"R은 GPL 하에 배포되는 S 프로그래밍 언어의 구현으로 GNU S라고도 한다. R은 통계 소프트웨어 개발과 자료 분석에 널리 사용되고 있다. 패키지 개발이 용이하여 통계학자들 사이에서 통계 소프트웨어 개발에 많이 쓰이고 있다.\"                  \n",
      "\n"
     ]
    }
   ],
   "source": [
    "# base::strsplit()함수에 엔터키를 기준으로 문단(paragraph) 단위로 분해 \n",
    "R_wiki_para <- strsplit(x = R_wiki, split = '\\n')\n",
    "\n",
    "# 문단(paragraph) 단위로 분해된 리스트객체 내용\n",
    "print(R_wiki_para)\n",
    "# - 전체 객체유형은 리스트객체이며, 세부적으로 2개 리스트항목을 가지고 있는 구조임"
   ]
  },
  {
   "cell_type": "markdown",
   "metadata": {},
   "source": [
    "#### 문단(paragraph)을 문장(sentence) 단위로 분해"
   ]
  },
  {
   "cell_type": "code",
   "execution_count": 29,
   "metadata": {},
   "outputs": [
    {
     "name": "stdout",
     "output_type": "stream",
     "text": [
      "list()\n",
      "[[1]]\n",
      "[1] \"R 프로그래밍 언어(줄여서 R)는 통계 계산과 그래픽을 위한 프로그래밍 언어이자 소프트웨어 환경이다\"                                     \n",
      "[2] \" 뉴질랜드 오클랜드 대학의 로버트 젠틀맨(Robert Gentleman)과 로스 이하카(Ross Ihaka)에 의해 시작되어 현재는 R 코어 팀이 개발하고 있다\"\n",
      "\n",
      "[[2]]\n",
      "[1] \"R은 GPL 하에 배포되는 S 프로그래밍 언어의 구현으로 GNU S라고도 한다\"                \n",
      "[2] \" R은 통계 소프트웨어 개발과 자료 분석에 널리 사용되고 있다\"                         \n",
      "[3] \" 패키지 개발이 용이하여 통계학자들 사이에서 통계 소프트웨어 개발에 많이 쓰이고 있다\"\n",
      "\n"
     ]
    }
   ],
   "source": [
    "# 텅빈 리스트객체 생성\n",
    "R_wiki_sent <- list()\n",
    "\n",
    "print(R_wiki_sent)\n",
    "# - 문단(paragraph)을 문장(sentence) 단위로 분해된 데이터를 저장할 용도임\n",
    "\n",
    "# for구문을 이용한 문단(paragraph)을 문장(sentence) 단위로 분해\n",
    "for(i in seq(length(R_wiki_para[[1]]))) {\n",
    "    # - 반복범위를 1:length(R_wiki_para[[1]])로 코딩가능\n",
    "    \n",
    "    R_wiki_sent[i] <- strsplit(R_wiki_para[[1]][i], split = '\\\\.')\n",
    "    # - 분해함수로 stringr::str_split() 사용가능\n",
    "}\n",
    "# - 문장과 문장사이를 구별하는 기준문자로 마침표(.)을 지정하기 위해서\n",
    "#   \\\\. 이라는 기호를 사용함\n",
    "\n",
    "# 문장(sentence) 단위로 분해된 리스트객체 내용\n",
    "print(R_wiki_sent)\n",
    "# - 전체 객체유형은 리스트객체이며, 세부적으로 2개 리스트항목을 가지고 있는 구조임"
   ]
  },
  {
   "cell_type": "markdown",
   "metadata": {},
   "source": [
    "#### 문단(paragraph)을 해제해 문장(sentence) 단위 객체로 만듬"
   ]
  },
  {
   "cell_type": "code",
   "execution_count": 30,
   "metadata": {},
   "outputs": [
    {
     "name": "stdout",
     "output_type": "stream",
     "text": [
      "[1] \"R 프로그래밍 언어(줄여서 R)는 통계 계산과 그래픽을 위한 프로그래밍 언어이자 소프트웨어 환경이다\"                                     \n",
      "[2] \" 뉴질랜드 오클랜드 대학의 로버트 젠틀맨(Robert Gentleman)과 로스 이하카(Ross Ihaka)에 의해 시작되어 현재는 R 코어 팀이 개발하고 있다\"\n",
      "[3] \"R은 GPL 하에 배포되는 S 프로그래밍 언어의 구현으로 GNU S라고도 한다\"                                                                 \n",
      "[4] \" R은 통계 소프트웨어 개발과 자료 분석에 널리 사용되고 있다\"                                                                          \n",
      "[5] \" 패키지 개발이 용이하여 통계학자들 사이에서 통계 소프트웨어 개발에 많이 쓰이고 있다\"                                                 \n"
     ]
    },
    {
     "data": {
      "text/html": [
       "'mysent객체유형: character객체'"
      ],
      "text/latex": [
       "'mysent객체유형: character객체'"
      ],
      "text/markdown": [
       "'mysent객체유형: character객체'"
      ],
      "text/plain": [
       "[1] \"mysent객체유형: character객체\""
      ]
     },
     "metadata": {},
     "output_type": "display_data"
    },
    {
     "data": {
      "text/html": [
       "'mysent객체길이: 5요소'"
      ],
      "text/latex": [
       "'mysent객체길이: 5요소'"
      ],
      "text/markdown": [
       "'mysent객체길이: 5요소'"
      ],
      "text/plain": [
       "[1] \"mysent객체길이: 5요소\""
      ]
     },
     "metadata": {},
     "output_type": "display_data"
    }
   ],
   "source": [
    "mysent <- unlist(R_wiki_sent)\n",
    "print(mysent)\n",
    "\n",
    "sprintf('mysent객체유형: %s객체', class(mysent))\n",
    "sprintf('mysent객체길이: %d요소', length(mysent))"
   ]
  },
  {
   "cell_type": "markdown",
   "metadata": {},
   "source": [
    "### 여러 문장 속에 특정패턴의 <font color = 'green'>최초 출현</font> 위치파악: regexpr()"
   ]
  },
  {
   "cell_type": "markdown",
   "metadata": {},
   "source": [
    "#### 특정패턴의 최초 출현 위치(자리)파악"
   ]
  },
  {
   "cell_type": "code",
   "execution_count": 31,
   "metadata": {},
   "outputs": [
    {
     "name": "stdout",
     "output_type": "stream",
     "text": [
      "[1] 20 -1 -1  5 15\n",
      "attr(,\"match.length\")\n",
      "[1]  2 -1 -1  2  2\n"
     ]
    },
    {
     "data": {
      "text/html": [
       "'integer'"
      ],
      "text/latex": [
       "'integer'"
      ],
      "text/markdown": [
       "'integer'"
      ],
      "text/plain": [
       "[1] \"integer\""
      ]
     },
     "metadata": {},
     "output_type": "display_data"
    }
   ],
   "source": [
    "# 특정패턴의 최초출현 위치파악\n",
    "print(regexpr('통계', mysent))\n",
    "# - 각 문장에서 특정패턴이 최초출현하는 위치를 보여줌\n",
    "# - 출력결과가 -1인 경우에는 해당 문장에 검색패턴이 없다는 의미임\n",
    "\n",
    "class(regexpr('통계', mysent))\n",
    "# - 특정패턴 최초출현 위치 검색결과는 정수형 객체임"
   ]
  },
  {
   "cell_type": "markdown",
   "metadata": {},
   "source": [
    "#### 특정패턴의 시작-종료위치, 길이파악"
   ]
  },
  {
   "cell_type": "code",
   "execution_count": 32,
   "metadata": {},
   "outputs": [
    {
     "data": {
      "text/html": [
       "<ol class=list-inline>\n",
       "\t<li>20</li>\n",
       "\t<li>-1</li>\n",
       "\t<li>-1</li>\n",
       "\t<li>5</li>\n",
       "\t<li>15</li>\n",
       "</ol>\n"
      ],
      "text/latex": [
       "\\begin{enumerate*}\n",
       "\\item 20\n",
       "\\item -1\n",
       "\\item -1\n",
       "\\item 5\n",
       "\\item 15\n",
       "\\end{enumerate*}\n"
      ],
      "text/markdown": [
       "1. 20\n",
       "2. -1\n",
       "3. -1\n",
       "4. 5\n",
       "5. 15\n",
       "\n",
       "\n"
      ],
      "text/plain": [
       "[1] 20 -1 -1  5 15\n",
       "attr(,\"match.length\")\n",
       "[1]  2 -1 -1  2  2"
      ]
     },
     "metadata": {},
     "output_type": "display_data"
    },
    {
     "name": "stdout",
     "output_type": "stream",
     "text": [
      "[1] 20 -1 -1  5 15\n",
      "attr(,\"match.length\")\n",
      "[1]  2 -1 -1  2  2\n"
     ]
    },
    {
     "data": {
      "text/html": [
       "'integer'"
      ],
      "text/latex": [
       "'integer'"
      ],
      "text/markdown": [
       "'integer'"
      ],
      "text/plain": [
       "[1] \"integer\""
      ]
     },
     "metadata": {},
     "output_type": "display_data"
    },
    {
     "data": {
      "text/html": [
       "<ol class=list-inline>\n",
       "\t<li>20</li>\n",
       "\t<li>&lt;NA&gt;</li>\n",
       "\t<li>&lt;NA&gt;</li>\n",
       "\t<li>5</li>\n",
       "\t<li>15</li>\n",
       "</ol>\n"
      ],
      "text/latex": [
       "\\begin{enumerate*}\n",
       "\\item 20\n",
       "\\item <NA>\n",
       "\\item <NA>\n",
       "\\item 5\n",
       "\\item 15\n",
       "\\end{enumerate*}\n"
      ],
      "text/markdown": [
       "1. 20\n",
       "2. &lt;NA&gt;\n",
       "3. &lt;NA&gt;\n",
       "4. 5\n",
       "5. 15\n",
       "\n",
       "\n"
      ],
      "text/plain": [
       "[1] 20 NA NA  5 15\n",
       "attr(,\"match.length\")\n",
       "[1]  2 -1 -1  2  2"
      ]
     },
     "metadata": {},
     "output_type": "display_data"
    }
   ],
   "source": [
    "# 특정패턴이 검색된 시작위치(자리)\n",
    "loc_start <- regexpr('통계', mysent)\n",
    "loc_start\n",
    "\n",
    "print(loc_start)\n",
    "class(loc_start)\n",
    "# - 특정패턴이 나타나는 시작 위치를 정수형 벡터객체로 로딩함\n",
    "\n",
    "# 검색패턴 시작위치 변수컬럼 생성\n",
    "loc_start[loc_start == -1] <- NA\n",
    "loc_start"
   ]
  },
  {
   "cell_type": "code",
   "execution_count": 33,
   "metadata": {},
   "outputs": [
    {
     "data": {
      "text/html": [
       "<ol class=list-inline>\n",
       "\t<li>2</li>\n",
       "\t<li>-1</li>\n",
       "\t<li>-1</li>\n",
       "\t<li>2</li>\n",
       "\t<li>2</li>\n",
       "</ol>\n"
      ],
      "text/latex": [
       "\\begin{enumerate*}\n",
       "\\item 2\n",
       "\\item -1\n",
       "\\item -1\n",
       "\\item 2\n",
       "\\item 2\n",
       "\\end{enumerate*}\n"
      ],
      "text/markdown": [
       "1. 2\n",
       "2. -1\n",
       "3. -1\n",
       "4. 2\n",
       "5. 2\n",
       "\n",
       "\n"
      ],
      "text/plain": [
       "[1]  2 -1 -1  2  2"
      ]
     },
     "metadata": {},
     "output_type": "display_data"
    },
    {
     "name": "stdout",
     "output_type": "stream",
     "text": [
      "[1]  2 -1 -1  2  2\n"
     ]
    },
    {
     "data": {
      "text/html": [
       "'integer'"
      ],
      "text/latex": [
       "'integer'"
      ],
      "text/markdown": [
       "'integer'"
      ],
      "text/plain": [
       "[1] \"integer\""
      ]
     },
     "metadata": {},
     "output_type": "display_data"
    }
   ],
   "source": [
    "# 특정패턴이 매칭된 길이\n",
    "loc_length <- attr(regexpr('통계', mysent), 'match.length')\n",
    "loc_length\n",
    "\n",
    "print(loc_length)\n",
    "class(loc_length)\n",
    "# - 특정패턴이 매칭된 길이를 정수형 벡터객체로 로딩함"
   ]
  },
  {
   "cell_type": "code",
   "execution_count": 34,
   "metadata": {},
   "outputs": [
    {
     "data": {
      "text/html": [
       "<ol class=list-inline>\n",
       "\t<li>21</li>\n",
       "\t<li>&lt;NA&gt;</li>\n",
       "\t<li>&lt;NA&gt;</li>\n",
       "\t<li>6</li>\n",
       "\t<li>16</li>\n",
       "</ol>\n"
      ],
      "text/latex": [
       "\\begin{enumerate*}\n",
       "\\item 21\n",
       "\\item <NA>\n",
       "\\item <NA>\n",
       "\\item 6\n",
       "\\item 16\n",
       "\\end{enumerate*}\n"
      ],
      "text/markdown": [
       "1. 21\n",
       "2. &lt;NA&gt;\n",
       "3. &lt;NA&gt;\n",
       "4. 6\n",
       "5. 16\n",
       "\n",
       "\n"
      ],
      "text/plain": [
       "[1] 21 NA NA  6 16\n",
       "attr(,\"match.length\")\n",
       "[1]  2 -1 -1  2  2"
      ]
     },
     "metadata": {},
     "output_type": "display_data"
    },
    {
     "name": "stdout",
     "output_type": "stream",
     "text": [
      "[1] 21 NA NA  6 16\n",
      "attr(,\"match.length\")\n",
      "[1]  2 -1 -1  2  2\n"
     ]
    },
    {
     "data": {
      "text/html": [
       "'numeric'"
      ],
      "text/latex": [
       "'numeric'"
      ],
      "text/markdown": [
       "'numeric'"
      ],
      "text/plain": [
       "[1] \"numeric\""
      ]
     },
     "metadata": {},
     "output_type": "display_data"
    }
   ],
   "source": [
    "# 특정패턴이 검색된 종료위치(자리)\n",
    "loc_end <- loc_start + loc_length  - 1\n",
    "loc_end\n",
    "\n",
    "print(loc_end)\n",
    "class(loc_end)\n",
    "# - 특정패턴이 나타나는 종료 위치를 실수형 벡터객체로 로딩함"
   ]
  },
  {
   "cell_type": "markdown",
   "metadata": {},
   "source": [
    "#### 특정패턴의 시작-종료위치 테이블 정리"
   ]
  },
  {
   "cell_type": "code",
   "execution_count": 35,
   "metadata": {},
   "outputs": [
    {
     "data": {
      "text/html": [
       "<ol class=list-inline>\n",
       "\t<li>'문장 1'</li>\n",
       "\t<li>'문장 2'</li>\n",
       "\t<li>'문장 3'</li>\n",
       "\t<li>'문장 4'</li>\n",
       "\t<li>'문장 5'</li>\n",
       "</ol>\n"
      ],
      "text/latex": [
       "\\begin{enumerate*}\n",
       "\\item '문장 1'\n",
       "\\item '문장 2'\n",
       "\\item '문장 3'\n",
       "\\item '문장 4'\n",
       "\\item '문장 5'\n",
       "\\end{enumerate*}\n"
      ],
      "text/markdown": [
       "1. '문장 1'\n",
       "2. '문장 2'\n",
       "3. '문장 3'\n",
       "4. '문장 4'\n",
       "5. '문장 5'\n",
       "\n",
       "\n"
      ],
      "text/plain": [
       "[1] \"문장 1\" \"문장 2\" \"문장 3\" \"문장 4\" \"문장 5\""
      ]
     },
     "metadata": {},
     "output_type": "display_data"
    }
   ],
   "source": [
    "# 문장번호 변수컬럼생성\n",
    "sentence <- paste('문장', 1:length(mysent))\n",
    "sentence"
   ]
  },
  {
   "cell_type": "code",
   "execution_count": 36,
   "metadata": {
    "scrolled": true
   },
   "outputs": [
    {
     "data": {
      "text/html": [
       "<table>\n",
       "<thead><tr><th scope=col>문장번호</th><th scope=col>시작위치</th><th scope=col>종료위치</th></tr></thead>\n",
       "<tbody>\n",
       "\t<tr><td>문장 1</td><td>20    </td><td>21    </td></tr>\n",
       "\t<tr><td>문장 2</td><td>NA    </td><td>NA    </td></tr>\n",
       "\t<tr><td>문장 3</td><td>NA    </td><td>NA    </td></tr>\n",
       "\t<tr><td>문장 4</td><td> 5    </td><td> 6    </td></tr>\n",
       "\t<tr><td>문장 5</td><td>15    </td><td>16    </td></tr>\n",
       "</tbody>\n",
       "</table>\n"
      ],
      "text/latex": [
       "\\begin{tabular}{r|lll}\n",
       " 문장번호 & 시작위치 & 종료위치\\\\\n",
       "\\hline\n",
       "\t 문장 1 & 20     & 21    \\\\\n",
       "\t 문장 2 & NA     & NA    \\\\\n",
       "\t 문장 3 & NA     & NA    \\\\\n",
       "\t 문장 4 &  5     &  6    \\\\\n",
       "\t 문장 5 & 15     & 16    \\\\\n",
       "\\end{tabular}\n"
      ],
      "text/markdown": [
       "\n",
       "문장번호 | 시작위치 | 종료위치 | \n",
       "|---|---|---|---|---|\n",
       "| 문장 1 | 20     | 21     | \n",
       "| 문장 2 | NA     | NA     | \n",
       "| 문장 3 | NA     | NA     | \n",
       "| 문장 4 |  5     |  6     | \n",
       "| 문장 5 | 15     | 16     | \n",
       "\n",
       "\n"
      ],
      "text/plain": [
       "  문장번호 시작위치 종료위치\n",
       "1 문장 1   20       21      \n",
       "2 문장 2   NA       NA      \n",
       "3 문장 3   NA       NA      \n",
       "4 문장 4    5        6      \n",
       "5 문장 5   15       16      "
      ]
     },
     "metadata": {},
     "output_type": "display_data"
    }
   ],
   "source": [
    "data.frame(문장번호 = sentence, 시작위치 = loc_start, 종료위치 = loc_end)"
   ]
  },
  {
   "cell_type": "markdown",
   "metadata": {},
   "source": [
    "### 텍스트 데이터내 특정패턴의 <font color = 'green'>모든 출현</font> 위치파악: gregexpr()"
   ]
  },
  {
   "cell_type": "markdown",
   "metadata": {},
   "source": [
    "#### 특정패턴의 모든 출현 위치파악"
   ]
  },
  {
   "cell_type": "code",
   "execution_count": 37,
   "metadata": {},
   "outputs": [
    {
     "name": "stdout",
     "output_type": "stream",
     "text": [
      "[[1]]\n",
      "[1] 20\n",
      "attr(,\"match.length\")\n",
      "[1] 2\n",
      "\n",
      "[[2]]\n",
      "[1] -1\n",
      "attr(,\"match.length\")\n",
      "[1] -1\n",
      "\n",
      "[[3]]\n",
      "[1] -1\n",
      "attr(,\"match.length\")\n",
      "[1] -1\n",
      "\n",
      "[[4]]\n",
      "[1] 5\n",
      "attr(,\"match.length\")\n",
      "[1] 2\n",
      "\n",
      "[[5]]\n",
      "[1] 15 26\n",
      "attr(,\"match.length\")\n",
      "[1] 2 2\n",
      "\n"
     ]
    },
    {
     "data": {
      "text/html": [
       "'list'"
      ],
      "text/latex": [
       "'list'"
      ],
      "text/markdown": [
       "'list'"
      ],
      "text/plain": [
       "[1] \"list\""
      ]
     },
     "metadata": {},
     "output_type": "display_data"
    }
   ],
   "source": [
    "# 특정패턴의 모든 출현 위치파악\n",
    "print(gregexpr('통계', mysent))\n",
    "\n",
    "class(gregexpr('통계', mysent))\n",
    "# - 특정패턴의 모든 출현위치 검색결과는 리스트형 객체임"
   ]
  },
  {
   "cell_type": "markdown",
   "metadata": {},
   "source": [
    "#### 특정패턴의 시작-종료위치, 길이파악"
   ]
  },
  {
   "cell_type": "code",
   "execution_count": 38,
   "metadata": {},
   "outputs": [
    {
     "name": "stdout",
     "output_type": "stream",
     "text": [
      "[[1]]\n",
      "[1] 20\n",
      "attr(,\"match.length\")\n",
      "[1] 2\n",
      "\n",
      "[[2]]\n",
      "[1] -1\n",
      "attr(,\"match.length\")\n",
      "[1] -1\n",
      "\n",
      "[[3]]\n",
      "[1] -1\n",
      "attr(,\"match.length\")\n",
      "[1] -1\n",
      "\n",
      "[[4]]\n",
      "[1] 5\n",
      "attr(,\"match.length\")\n",
      "[1] 2\n",
      "\n",
      "[[5]]\n",
      "[1] 15 26\n",
      "attr(,\"match.length\")\n",
      "[1] 2 2\n",
      "\n"
     ]
    },
    {
     "data": {
      "text/html": [
       "'list'"
      ],
      "text/latex": [
       "'list'"
      ],
      "text/markdown": [
       "'list'"
      ],
      "text/plain": [
       "[1] \"list\""
      ]
     },
     "metadata": {},
     "output_type": "display_data"
    },
    {
     "name": "stdout",
     "output_type": "stream",
     "text": [
      "[1] 20 -1 -1  5 15\n",
      "[1] 20 NA NA  5 15\n"
     ]
    }
   ],
   "source": [
    "# 특정패턴이 검색된 시작위치(자리)\n",
    "loc_start <- gregexpr('통계', mysent)\n",
    "print(loc_start)\n",
    "class(loc_start)\n",
    "# - 특정패턴이 나타나는 모든 위치를 찾은결과는 리스트객체임\n",
    "\n",
    "# 특정패턴 출현 최초 위치 변수컬럼 생성\n",
    "loc_begin <- sapply(loc_start, '[', 1)\n",
    "print(loc_begin)\n",
    "\n",
    "loc_begin[loc_begin == -1] <- NA\n",
    "print(loc_begin)"
   ]
  },
  {
   "cell_type": "code",
   "execution_count": 39,
   "metadata": {},
   "outputs": [
    {
     "name": "stdout",
     "output_type": "stream",
     "text": [
      "[[1]]\n",
      "[1] 1\n",
      "\n",
      "[[2]]\n",
      "[1] 1\n",
      "\n",
      "[[3]]\n",
      "[1] 1\n",
      "\n",
      "[[4]]\n",
      "[1] 1\n",
      "\n",
      "[[5]]\n",
      "[1] 2\n",
      "\n"
     ]
    },
    {
     "data": {
      "text/html": [
       "'list'"
      ],
      "text/latex": [
       "'list'"
      ],
      "text/markdown": [
       "'list'"
      ],
      "text/plain": [
       "[1] \"list\""
      ]
     },
     "metadata": {},
     "output_type": "display_data"
    },
    {
     "name": "stdout",
     "output_type": "stream",
     "text": [
      "[1] 1 1 1 1 2\n",
      "[1]  1 NA NA  1  2\n"
     ]
    }
   ],
   "source": [
    "# 특정패턴이 매칭된 횟수\n",
    "library(purrr)\n",
    "loc_freq <- map(loc_start, length)\n",
    "\n",
    "print(loc_freq)\n",
    "class(loc_freq)\n",
    "# - 특정패턴이 매칭된 모든 횟수를 정수형 벡터객체로 로딩함\n",
    "\n",
    "# 특정패턴 매칭횟수 변수컬럼 생성\n",
    "loc_freq <- unlist(loc_freq)\n",
    "print(loc_freq)\n",
    "\n",
    "loc_freq[is.na(loc_begin)] <- NA\n",
    "print(loc_freq)"
   ]
  },
  {
   "cell_type": "markdown",
   "metadata": {},
   "source": [
    "#### 특정패턴의 시작-종료위치 테이블 정리"
   ]
  },
  {
   "cell_type": "code",
   "execution_count": 40,
   "metadata": {},
   "outputs": [
    {
     "data": {
      "text/html": [
       "<ol class=list-inline>\n",
       "\t<li>'문장 1'</li>\n",
       "\t<li>'문장 2'</li>\n",
       "\t<li>'문장 3'</li>\n",
       "\t<li>'문장 4'</li>\n",
       "\t<li>'문장 5'</li>\n",
       "</ol>\n"
      ],
      "text/latex": [
       "\\begin{enumerate*}\n",
       "\\item '문장 1'\n",
       "\\item '문장 2'\n",
       "\\item '문장 3'\n",
       "\\item '문장 4'\n",
       "\\item '문장 5'\n",
       "\\end{enumerate*}\n"
      ],
      "text/markdown": [
       "1. '문장 1'\n",
       "2. '문장 2'\n",
       "3. '문장 3'\n",
       "4. '문장 4'\n",
       "5. '문장 5'\n",
       "\n",
       "\n"
      ],
      "text/plain": [
       "[1] \"문장 1\" \"문장 2\" \"문장 3\" \"문장 4\" \"문장 5\""
      ]
     },
     "metadata": {},
     "output_type": "display_data"
    }
   ],
   "source": [
    "# 문장번호 변수컬럼생성\n",
    "sentence <- paste('문장', 1:length(mysent))\n",
    "sentence"
   ]
  },
  {
   "cell_type": "code",
   "execution_count": 41,
   "metadata": {
    "scrolled": true
   },
   "outputs": [
    {
     "data": {
      "text/html": [
       "<table>\n",
       "<thead><tr><th scope=col>문장번호</th><th scope=col>시작위치</th><th scope=col>출현횟수</th></tr></thead>\n",
       "<tbody>\n",
       "\t<tr><td>문장 1</td><td>20    </td><td> 1    </td></tr>\n",
       "\t<tr><td>문장 2</td><td>NA    </td><td>NA    </td></tr>\n",
       "\t<tr><td>문장 3</td><td>NA    </td><td>NA    </td></tr>\n",
       "\t<tr><td>문장 4</td><td> 5    </td><td> 1    </td></tr>\n",
       "\t<tr><td>문장 5</td><td>15    </td><td> 2    </td></tr>\n",
       "</tbody>\n",
       "</table>\n"
      ],
      "text/latex": [
       "\\begin{tabular}{r|lll}\n",
       " 문장번호 & 시작위치 & 출현횟수\\\\\n",
       "\\hline\n",
       "\t 문장 1 & 20     &  1    \\\\\n",
       "\t 문장 2 & NA     & NA    \\\\\n",
       "\t 문장 3 & NA     & NA    \\\\\n",
       "\t 문장 4 &  5     &  1    \\\\\n",
       "\t 문장 5 & 15     &  2    \\\\\n",
       "\\end{tabular}\n"
      ],
      "text/markdown": [
       "\n",
       "문장번호 | 시작위치 | 출현횟수 | \n",
       "|---|---|---|---|---|\n",
       "| 문장 1 | 20     |  1     | \n",
       "| 문장 2 | NA     | NA     | \n",
       "| 문장 3 | NA     | NA     | \n",
       "| 문장 4 |  5     |  1     | \n",
       "| 문장 5 | 15     |  2     | \n",
       "\n",
       "\n"
      ],
      "text/plain": [
       "  문장번호 시작위치 출현횟수\n",
       "1 문장 1   20        1      \n",
       "2 문장 2   NA       NA      \n",
       "3 문장 3   NA       NA      \n",
       "4 문장 4    5        1      \n",
       "5 문장 5   15        2      "
      ]
     },
     "metadata": {},
     "output_type": "display_data"
    }
   ],
   "source": [
    "data.frame(문장번호 = sentence, 시작위치 = loc_begin, 출현횟수 = loc_freq)"
   ]
  },
  {
   "cell_type": "markdown",
   "metadata": {},
   "source": [
    "# <font color = 'blue'>참고: 주피터노트북 상에서 메모리 객체내용 관리</font>"
   ]
  },
  {
   "cell_type": "markdown",
   "metadata": {},
   "source": [
    "### 메모리상의 객체 목록 조회"
   ]
  },
  {
   "cell_type": "code",
   "execution_count": 42,
   "metadata": {},
   "outputs": [
    {
     "data": {
      "text/html": [
       "<ol class=list-inline>\n",
       "\t<li>'i'</li>\n",
       "\t<li>'keyword'</li>\n",
       "\t<li>'loc_begin'</li>\n",
       "\t<li>'loc_end'</li>\n",
       "\t<li>'loc_freq'</li>\n",
       "\t<li>'loc_length'</li>\n",
       "\t<li>'loc_start'</li>\n",
       "\t<li>'my'</li>\n",
       "\t<li>'mysent'</li>\n",
       "\t<li>'R_wiki'</li>\n",
       "\t<li>'R_wiki_para'</li>\n",
       "\t<li>'R_wiki_sent'</li>\n",
       "\t<li>'sentence'</li>\n",
       "</ol>\n"
      ],
      "text/latex": [
       "\\begin{enumerate*}\n",
       "\\item 'i'\n",
       "\\item 'keyword'\n",
       "\\item 'loc\\_begin'\n",
       "\\item 'loc\\_end'\n",
       "\\item 'loc\\_freq'\n",
       "\\item 'loc\\_length'\n",
       "\\item 'loc\\_start'\n",
       "\\item 'my'\n",
       "\\item 'mysent'\n",
       "\\item 'R\\_wiki'\n",
       "\\item 'R\\_wiki\\_para'\n",
       "\\item 'R\\_wiki\\_sent'\n",
       "\\item 'sentence'\n",
       "\\end{enumerate*}\n"
      ],
      "text/markdown": [
       "1. 'i'\n",
       "2. 'keyword'\n",
       "3. 'loc_begin'\n",
       "4. 'loc_end'\n",
       "5. 'loc_freq'\n",
       "6. 'loc_length'\n",
       "7. 'loc_start'\n",
       "8. 'my'\n",
       "9. 'mysent'\n",
       "10. 'R_wiki'\n",
       "11. 'R_wiki_para'\n",
       "12. 'R_wiki_sent'\n",
       "13. 'sentence'\n",
       "\n",
       "\n"
      ],
      "text/plain": [
       " [1] \"i\"           \"keyword\"     \"loc_begin\"   \"loc_end\"     \"loc_freq\"   \n",
       " [6] \"loc_length\"  \"loc_start\"   \"my\"          \"mysent\"      \"R_wiki\"     \n",
       "[11] \"R_wiki_para\" \"R_wiki_sent\" \"sentence\"   "
      ]
     },
     "metadata": {},
     "output_type": "display_data"
    },
    {
     "name": "stdout",
     "output_type": "stream",
     "text": [
      " [1] \"i\"           \"keyword\"     \"loc_begin\"   \"loc_end\"     \"loc_freq\"   \n",
      " [6] \"loc_length\"  \"loc_start\"   \"my\"          \"mysent\"      \"R_wiki\"     \n",
      "[11] \"R_wiki_para\" \"R_wiki_sent\" \"sentence\"   \n"
     ]
    }
   ],
   "source": [
    "# 메모리 상의 모든 객체리스트 조회\n",
    "ls()\n",
    "print(ls())"
   ]
  },
  {
   "cell_type": "code",
   "execution_count": 43,
   "metadata": {},
   "outputs": [
    {
     "data": {
      "text/html": [
       "<ol class=list-inline>\n",
       "\t<li>'loc_begin'</li>\n",
       "\t<li>'loc_end'</li>\n",
       "\t<li>'loc_freq'</li>\n",
       "\t<li>'loc_length'</li>\n",
       "\t<li>'loc_start'</li>\n",
       "</ol>\n"
      ],
      "text/latex": [
       "\\begin{enumerate*}\n",
       "\\item 'loc\\_begin'\n",
       "\\item 'loc\\_end'\n",
       "\\item 'loc\\_freq'\n",
       "\\item 'loc\\_length'\n",
       "\\item 'loc\\_start'\n",
       "\\end{enumerate*}\n"
      ],
      "text/markdown": [
       "1. 'loc_begin'\n",
       "2. 'loc_end'\n",
       "3. 'loc_freq'\n",
       "4. 'loc_length'\n",
       "5. 'loc_start'\n",
       "\n",
       "\n"
      ],
      "text/plain": [
       "[1] \"loc_begin\"  \"loc_end\"    \"loc_freq\"   \"loc_length\" \"loc_start\" "
      ]
     },
     "metadata": {},
     "output_type": "display_data"
    },
    {
     "name": "stdout",
     "output_type": "stream",
     "text": [
      "[1] \"loc_begin\"  \"loc_end\"    \"loc_freq\"   \"loc_length\" \"loc_start\" \n"
     ]
    }
   ],
   "source": [
    "# 메모리 상의 특정패턴을 가진 객체리스트 조회\n",
    "ls(pattern = 'loc*')\n",
    "print(ls(pattern = 'loc*'))"
   ]
  },
  {
   "cell_type": "code",
   "execution_count": 44,
   "metadata": {},
   "outputs": [
    {
     "data": {
      "text/html": [
       "<ol class=list-inline>\n",
       "\t<li>'mysent'</li>\n",
       "\t<li>'R_wiki_sent'</li>\n",
       "\t<li>'sentence'</li>\n",
       "</ol>\n"
      ],
      "text/latex": [
       "\\begin{enumerate*}\n",
       "\\item 'mysent'\n",
       "\\item 'R\\_wiki\\_sent'\n",
       "\\item 'sentence'\n",
       "\\end{enumerate*}\n"
      ],
      "text/markdown": [
       "1. 'mysent'\n",
       "2. 'R_wiki_sent'\n",
       "3. 'sentence'\n",
       "\n",
       "\n"
      ],
      "text/plain": [
       "[1] \"mysent\"      \"R_wiki_sent\" \"sentence\"   "
      ]
     },
     "metadata": {},
     "output_type": "display_data"
    },
    {
     "name": "stdout",
     "output_type": "stream",
     "text": [
      "[1] \"loc_begin\"  \"loc_end\"    \"loc_freq\"   \"loc_length\" \"loc_start\" \n"
     ]
    }
   ],
   "source": [
    "# 메모리 상의 특정패턴을 가진 객체리스트 조회\n",
    "ls(pattern = '*sent*')\n",
    "print(ls(pattern = 'loc*'))"
   ]
  },
  {
   "cell_type": "markdown",
   "metadata": {},
   "source": [
    "### 메모리상의 객체별 구조파악"
   ]
  },
  {
   "cell_type": "code",
   "execution_count": 45,
   "metadata": {},
   "outputs": [
    {
     "name": "stdout",
     "output_type": "stream",
     "text": [
      "List of 13\n",
      " $ i          : int 2\n",
      " $ keyword    : chr \"so (interest(ing))\"\n",
      " $ loc_begin  : int [1:5] 20 NA NA 5 15\n",
      " $ loc_end    : num [1:5] 21 NA NA 6 16\n",
      "  ..- attr(*, \"match.length\")= int [1:5] 2 -1 -1 2 2\n",
      " $ loc_freq   : int [1:5] 1 NA NA 1 2\n",
      " $ loc_length : int [1:5] 2 -1 -1 2 2\n",
      " $ loc_start  :List of 5\n",
      "  ..$ : int 20\n",
      "  .. ..- attr(*, \"match.length\")= int 2\n",
      "  ..$ : int -1\n",
      "  .. ..- attr(*, \"match.length\")= int -1\n",
      "  ..$ : int -1\n",
      "  .. ..- attr(*, \"match.length\")= int -1\n",
      "  ..$ : int 5\n",
      "  .. ..- attr(*, \"match.length\")= int 2\n",
      "  ..$ : int [1:2] 15 26\n",
      "  .. ..- attr(*, \"match.length\")= int [1:2] 2 2\n",
      " $ my         : chr \"Learning R is so interesting\"\n",
      " $ mysent     : chr [1:5] \"R 프로그래밍 언어(줄여서 R)는 통계 계산과 그래픽을 위한 프로그래밍 언어이자 소프트웨어 환경이다\" \" 뉴질랜드 오클랜드 대학의 로버트 젠틀맨(Robert Gentleman)과 로스 이하카(Ross Ihaka)에 의해 시작되어 현재는 R 코\"| __truncated__ \"R은 GPL 하에 배포되는 S 프로그래밍 언어의 구현으로 GNU S라고도 한다\" \" R은 통계 소프트웨어 개발과 자료 분석에 널리 사용되고 있다\" ...\n",
      " $ R_wiki     : chr \"R 프로그래밍 언어(줄여서 R)는 통계 계산과 그래픽을 위한 프로그래밍 언어이자 소프트웨어 환경이다. 뉴질랜드 오클\"| __truncated__\n",
      " $ R_wiki_para:List of 1\n",
      "  ..$ : chr [1:2] \"R 프로그래밍 언어(줄여서 R)는 통계 계산과 그래픽을 위한 프로그래밍 언어이자 소프트웨어 환경이다. 뉴질랜드 오클\"| __truncated__ \"R은 GPL 하에 배포되는 S 프로그래밍 언어의 구현으로 GNU S라고도 한다. R은 통계 소프트웨어 개발과 자료 분석에 널\"| __truncated__\n",
      " $ R_wiki_sent:List of 2\n",
      "  ..$ : chr [1:2] \"R 프로그래밍 언어(줄여서 R)는 통계 계산과 그래픽을 위한 프로그래밍 언어이자 소프트웨어 환경이다\" \" 뉴질랜드 오클랜드 대학의 로버트 젠틀맨(Robert Gentleman)과 로스 이하카(Ross Ihaka)에 의해 시작되어 현재는 R 코\"| __truncated__\n",
      "  ..$ : chr [1:3] \"R은 GPL 하에 배포되는 S 프로그래밍 언어의 구현으로 GNU S라고도 한다\" \" R은 통계 소프트웨어 개발과 자료 분석에 널리 사용되고 있다\" \" 패키지 개발이 용이하여 통계학자들 사이에서 통계 소프트웨어 개발에 많이 쓰이고 있다\"\n",
      " $ sentence   : chr [1:5] \"문장 1\" \"문장 2\" \"문장 3\" \"문장 4\" ...\n"
     ]
    }
   ],
   "source": [
    "# 메모리 상의 모든 객체별 유형, 요소갯수, 속성, 내용 내부구조 파악\n",
    "str(mget(ls()))"
   ]
  },
  {
   "cell_type": "code",
   "execution_count": 46,
   "metadata": {
    "scrolled": true
   },
   "outputs": [
    {
     "name": "stdout",
     "output_type": "stream",
     "text": [
      "List of 5\n",
      " $ loc_begin : int [1:5] 20 NA NA 5 15\n",
      " $ loc_end   : num [1:5] 21 NA NA 6 16\n",
      "  ..- attr(*, \"match.length\")= int [1:5] 2 -1 -1 2 2\n",
      " $ loc_freq  : int [1:5] 1 NA NA 1 2\n",
      " $ loc_length: int [1:5] 2 -1 -1 2 2\n",
      " $ loc_start :List of 5\n",
      "  ..$ : int 20\n",
      "  .. ..- attr(*, \"match.length\")= int 2\n",
      "  ..$ : int -1\n",
      "  .. ..- attr(*, \"match.length\")= int -1\n",
      "  ..$ : int -1\n",
      "  .. ..- attr(*, \"match.length\")= int -1\n",
      "  ..$ : int 5\n",
      "  .. ..- attr(*, \"match.length\")= int 2\n",
      "  ..$ : int [1:2] 15 26\n",
      "  .. ..- attr(*, \"match.length\")= int [1:2] 2 2\n"
     ]
    }
   ],
   "source": [
    "# 메모리 상의 특정객체별 유형, 요소갯수, 속성, 내용 내부구조 파악\n",
    "str(mget(ls(pattern = 'loc*')))"
   ]
  },
  {
   "cell_type": "markdown",
   "metadata": {},
   "source": [
    "### 메모리상의 객체별 내용파악"
   ]
  },
  {
   "cell_type": "code",
   "execution_count": 47,
   "metadata": {},
   "outputs": [
    {
     "data": {
      "text/html": [
       "<dl>\n",
       "\t<dt>$i</dt>\n",
       "\t\t<dd>2</dd>\n",
       "\t<dt>$keyword</dt>\n",
       "\t\t<dd>'so (interest(ing))'</dd>\n",
       "\t<dt>$loc_begin</dt>\n",
       "\t\t<dd><ol class=list-inline>\n",
       "\t<li>20</li>\n",
       "\t<li>&lt;NA&gt;</li>\n",
       "\t<li>&lt;NA&gt;</li>\n",
       "\t<li>5</li>\n",
       "\t<li>15</li>\n",
       "</ol>\n",
       "</dd>\n",
       "\t<dt>$loc_end</dt>\n",
       "\t\t<dd><ol class=list-inline>\n",
       "\t<li>21</li>\n",
       "\t<li>&lt;NA&gt;</li>\n",
       "\t<li>&lt;NA&gt;</li>\n",
       "\t<li>6</li>\n",
       "\t<li>16</li>\n",
       "</ol>\n",
       "</dd>\n",
       "\t<dt>$loc_freq</dt>\n",
       "\t\t<dd><ol class=list-inline>\n",
       "\t<li>1</li>\n",
       "\t<li>&lt;NA&gt;</li>\n",
       "\t<li>&lt;NA&gt;</li>\n",
       "\t<li>1</li>\n",
       "\t<li>2</li>\n",
       "</ol>\n",
       "</dd>\n",
       "\t<dt>$loc_length</dt>\n",
       "\t\t<dd><ol class=list-inline>\n",
       "\t<li>2</li>\n",
       "\t<li>-1</li>\n",
       "\t<li>-1</li>\n",
       "\t<li>2</li>\n",
       "\t<li>2</li>\n",
       "</ol>\n",
       "</dd>\n",
       "\t<dt>$loc_start</dt>\n",
       "\t\t<dd><ol>\n",
       "\t<li>20</li>\n",
       "\t<li>-1</li>\n",
       "\t<li>-1</li>\n",
       "\t<li>5</li>\n",
       "\t<li><ol class=list-inline>\n",
       "\t<li>15</li>\n",
       "\t<li>26</li>\n",
       "</ol>\n",
       "</li>\n",
       "</ol>\n",
       "</dd>\n",
       "\t<dt>$my</dt>\n",
       "\t\t<dd>'Learning R is so interesting'</dd>\n",
       "\t<dt>$mysent</dt>\n",
       "\t\t<dd><ol class=list-inline>\n",
       "\t<li>'R 프로그래밍 언어(줄여서 R)는 통계 계산과 그래픽을 위한 프로그래밍 언어이자 소프트웨어 환경이다'</li>\n",
       "\t<li>' 뉴질랜드 오클랜드 대학의 로버트 젠틀맨(Robert Gentleman)과 로스 이하카(Ross Ihaka)에 의해 시작되어 현재는 R 코어 팀이 개발하고 있다'</li>\n",
       "\t<li>'R은 GPL 하에 배포되는 S 프로그래밍 언어의 구현으로 GNU S라고도 한다'</li>\n",
       "\t<li>' R은 통계 소프트웨어 개발과 자료 분석에 널리 사용되고 있다'</li>\n",
       "\t<li>' 패키지 개발이 용이하여 통계학자들 사이에서 통계 소프트웨어 개발에 많이 쓰이고 있다'</li>\n",
       "</ol>\n",
       "</dd>\n",
       "\t<dt>$R_wiki</dt>\n",
       "\t\t<dd>'R 프로그래밍 언어(줄여서 R)는 통계 계산과 그래픽을 위한 프로그래밍 언어이자 소프트웨어 환경이다. 뉴질랜드 오클랜드 대학의 로버트 젠틀맨(Robert Gentleman)과 로스 이하카(Ross Ihaka)에 의해 시작되어 현재는 R 코어 팀이 개발하고 있다.\\nR은 GPL 하에 배포되는 S 프로그래밍 언어의 구현으로 GNU S라고도 한다. R은 통계 소프트웨어 개발과 자료 분석에 널리 사용되고 있다. 패키지 개발이 용이하여 통계학자들 사이에서 통계 소프트웨어 개발에 많이 쓰이고 있다.'</dd>\n",
       "\t<dt>$R_wiki_para</dt>\n",
       "\t\t<dd><ol>\n",
       "\t<li><ol class=list-inline>\n",
       "\t<li>'R 프로그래밍 언어(줄여서 R)는 통계 계산과 그래픽을 위한 프로그래밍 언어이자 소프트웨어 환경이다. 뉴질랜드 오클랜드 대학의 로버트 젠틀맨(Robert Gentleman)과 로스 이하카(Ross Ihaka)에 의해 시작되어 현재는 R 코어 팀이 개발하고 있다.'</li>\n",
       "\t<li>'R은 GPL 하에 배포되는 S 프로그래밍 언어의 구현으로 GNU S라고도 한다. R은 통계 소프트웨어 개발과 자료 분석에 널리 사용되고 있다. 패키지 개발이 용이하여 통계학자들 사이에서 통계 소프트웨어 개발에 많이 쓰이고 있다.'</li>\n",
       "</ol>\n",
       "</li>\n",
       "</ol>\n",
       "</dd>\n",
       "\t<dt>$R_wiki_sent</dt>\n",
       "\t\t<dd><ol>\n",
       "\t<li><ol class=list-inline>\n",
       "\t<li>'R 프로그래밍 언어(줄여서 R)는 통계 계산과 그래픽을 위한 프로그래밍 언어이자 소프트웨어 환경이다'</li>\n",
       "\t<li>' 뉴질랜드 오클랜드 대학의 로버트 젠틀맨(Robert Gentleman)과 로스 이하카(Ross Ihaka)에 의해 시작되어 현재는 R 코어 팀이 개발하고 있다'</li>\n",
       "</ol>\n",
       "</li>\n",
       "\t<li><ol class=list-inline>\n",
       "\t<li>'R은 GPL 하에 배포되는 S 프로그래밍 언어의 구현으로 GNU S라고도 한다'</li>\n",
       "\t<li>' R은 통계 소프트웨어 개발과 자료 분석에 널리 사용되고 있다'</li>\n",
       "\t<li>' 패키지 개발이 용이하여 통계학자들 사이에서 통계 소프트웨어 개발에 많이 쓰이고 있다'</li>\n",
       "</ol>\n",
       "</li>\n",
       "</ol>\n",
       "</dd>\n",
       "\t<dt>$sentence</dt>\n",
       "\t\t<dd><ol class=list-inline>\n",
       "\t<li>'문장 1'</li>\n",
       "\t<li>'문장 2'</li>\n",
       "\t<li>'문장 3'</li>\n",
       "\t<li>'문장 4'</li>\n",
       "\t<li>'문장 5'</li>\n",
       "</ol>\n",
       "</dd>\n",
       "</dl>\n"
      ],
      "text/latex": [
       "\\begin{description}\n",
       "\\item[\\$i] 2\n",
       "\\item[\\$keyword] 'so (interest(ing))'\n",
       "\\item[\\$loc\\_begin] \\begin{enumerate*}\n",
       "\\item 20\n",
       "\\item <NA>\n",
       "\\item <NA>\n",
       "\\item 5\n",
       "\\item 15\n",
       "\\end{enumerate*}\n",
       "\n",
       "\\item[\\$loc\\_end] \\begin{enumerate*}\n",
       "\\item 21\n",
       "\\item <NA>\n",
       "\\item <NA>\n",
       "\\item 6\n",
       "\\item 16\n",
       "\\end{enumerate*}\n",
       "\n",
       "\\item[\\$loc\\_freq] \\begin{enumerate*}\n",
       "\\item 1\n",
       "\\item <NA>\n",
       "\\item <NA>\n",
       "\\item 1\n",
       "\\item 2\n",
       "\\end{enumerate*}\n",
       "\n",
       "\\item[\\$loc\\_length] \\begin{enumerate*}\n",
       "\\item 2\n",
       "\\item -1\n",
       "\\item -1\n",
       "\\item 2\n",
       "\\item 2\n",
       "\\end{enumerate*}\n",
       "\n",
       "\\item[\\$loc\\_start] \\begin{enumerate}\n",
       "\\item 20\n",
       "\\item -1\n",
       "\\item -1\n",
       "\\item 5\n",
       "\\item \\begin{enumerate*}\n",
       "\\item 15\n",
       "\\item 26\n",
       "\\end{enumerate*}\n",
       "\n",
       "\\end{enumerate}\n",
       "\n",
       "\\item[\\$my] 'Learning R is so interesting'\n",
       "\\item[\\$mysent] \\begin{enumerate*}\n",
       "\\item 'R 프로그래밍 언어(줄여서 R)는 통계 계산과 그래픽을 위한 프로그래밍 언어이자 소프트웨어 환경이다'\n",
       "\\item ' 뉴질랜드 오클랜드 대학의 로버트 젠틀맨(Robert Gentleman)과 로스 이하카(Ross Ihaka)에 의해 시작되어 현재는 R 코어 팀이 개발하고 있다'\n",
       "\\item 'R은 GPL 하에 배포되는 S 프로그래밍 언어의 구현으로 GNU S라고도 한다'\n",
       "\\item ' R은 통계 소프트웨어 개발과 자료 분석에 널리 사용되고 있다'\n",
       "\\item ' 패키지 개발이 용이하여 통계학자들 사이에서 통계 소프트웨어 개발에 많이 쓰이고 있다'\n",
       "\\end{enumerate*}\n",
       "\n",
       "\\item[\\$R\\_wiki] 'R 프로그래밍 언어(줄여서 R)는 통계 계산과 그래픽을 위한 프로그래밍 언어이자 소프트웨어 환경이다. 뉴질랜드 오클랜드 대학의 로버트 젠틀맨(Robert Gentleman)과 로스 이하카(Ross Ihaka)에 의해 시작되어 현재는 R 코어 팀이 개발하고 있다.\\textbackslash{}nR은 GPL 하에 배포되는 S 프로그래밍 언어의 구현으로 GNU S라고도 한다. R은 통계 소프트웨어 개발과 자료 분석에 널리 사용되고 있다. 패키지 개발이 용이하여 통계학자들 사이에서 통계 소프트웨어 개발에 많이 쓰이고 있다.'\n",
       "\\item[\\$R\\_wiki\\_para] \\begin{enumerate}\n",
       "\\item \\begin{enumerate*}\n",
       "\\item 'R 프로그래밍 언어(줄여서 R)는 통계 계산과 그래픽을 위한 프로그래밍 언어이자 소프트웨어 환경이다. 뉴질랜드 오클랜드 대학의 로버트 젠틀맨(Robert Gentleman)과 로스 이하카(Ross Ihaka)에 의해 시작되어 현재는 R 코어 팀이 개발하고 있다.'\n",
       "\\item 'R은 GPL 하에 배포되는 S 프로그래밍 언어의 구현으로 GNU S라고도 한다. R은 통계 소프트웨어 개발과 자료 분석에 널리 사용되고 있다. 패키지 개발이 용이하여 통계학자들 사이에서 통계 소프트웨어 개발에 많이 쓰이고 있다.'\n",
       "\\end{enumerate*}\n",
       "\n",
       "\\end{enumerate}\n",
       "\n",
       "\\item[\\$R\\_wiki\\_sent] \\begin{enumerate}\n",
       "\\item \\begin{enumerate*}\n",
       "\\item 'R 프로그래밍 언어(줄여서 R)는 통계 계산과 그래픽을 위한 프로그래밍 언어이자 소프트웨어 환경이다'\n",
       "\\item ' 뉴질랜드 오클랜드 대학의 로버트 젠틀맨(Robert Gentleman)과 로스 이하카(Ross Ihaka)에 의해 시작되어 현재는 R 코어 팀이 개발하고 있다'\n",
       "\\end{enumerate*}\n",
       "\n",
       "\\item \\begin{enumerate*}\n",
       "\\item 'R은 GPL 하에 배포되는 S 프로그래밍 언어의 구현으로 GNU S라고도 한다'\n",
       "\\item ' R은 통계 소프트웨어 개발과 자료 분석에 널리 사용되고 있다'\n",
       "\\item ' 패키지 개발이 용이하여 통계학자들 사이에서 통계 소프트웨어 개발에 많이 쓰이고 있다'\n",
       "\\end{enumerate*}\n",
       "\n",
       "\\end{enumerate}\n",
       "\n",
       "\\item[\\$sentence] \\begin{enumerate*}\n",
       "\\item '문장 1'\n",
       "\\item '문장 2'\n",
       "\\item '문장 3'\n",
       "\\item '문장 4'\n",
       "\\item '문장 5'\n",
       "\\end{enumerate*}\n",
       "\n",
       "\\end{description}\n"
      ],
      "text/markdown": [
       "$i\n",
       ":   2\n",
       "$keyword\n",
       ":   'so (interest(ing))'\n",
       "$loc_begin\n",
       ":   1. 20\n",
       "2. &lt;NA&gt;\n",
       "3. &lt;NA&gt;\n",
       "4. 5\n",
       "5. 15\n",
       "\n",
       "\n",
       "\n",
       "$loc_end\n",
       ":   1. 21\n",
       "2. &lt;NA&gt;\n",
       "3. &lt;NA&gt;\n",
       "4. 6\n",
       "5. 16\n",
       "\n",
       "\n",
       "\n",
       "$loc_freq\n",
       ":   1. 1\n",
       "2. &lt;NA&gt;\n",
       "3. &lt;NA&gt;\n",
       "4. 1\n",
       "5. 2\n",
       "\n",
       "\n",
       "\n",
       "$loc_length\n",
       ":   1. 2\n",
       "2. -1\n",
       "3. -1\n",
       "4. 2\n",
       "5. 2\n",
       "\n",
       "\n",
       "\n",
       "$loc_start\n",
       ":   1. 20\n",
       "2. -1\n",
       "3. -1\n",
       "4. 5\n",
       "5. 1. 15\n",
       "2. 26\n",
       "\n",
       "\n",
       "\n",
       "\n",
       "\n",
       "\n",
       "$my\n",
       ":   'Learning R is so interesting'\n",
       "$mysent\n",
       ":   1. 'R 프로그래밍 언어(줄여서 R)는 통계 계산과 그래픽을 위한 프로그래밍 언어이자 소프트웨어 환경이다'\n",
       "2. ' 뉴질랜드 오클랜드 대학의 로버트 젠틀맨(Robert Gentleman)과 로스 이하카(Ross Ihaka)에 의해 시작되어 현재는 R 코어 팀이 개발하고 있다'\n",
       "3. 'R은 GPL 하에 배포되는 S 프로그래밍 언어의 구현으로 GNU S라고도 한다'\n",
       "4. ' R은 통계 소프트웨어 개발과 자료 분석에 널리 사용되고 있다'\n",
       "5. ' 패키지 개발이 용이하여 통계학자들 사이에서 통계 소프트웨어 개발에 많이 쓰이고 있다'\n",
       "\n",
       "\n",
       "\n",
       "$R_wiki\n",
       ":   'R 프로그래밍 언어(줄여서 R)는 통계 계산과 그래픽을 위한 프로그래밍 언어이자 소프트웨어 환경이다. 뉴질랜드 오클랜드 대학의 로버트 젠틀맨(Robert Gentleman)과 로스 이하카(Ross Ihaka)에 의해 시작되어 현재는 R 코어 팀이 개발하고 있다.\\nR은 GPL 하에 배포되는 S 프로그래밍 언어의 구현으로 GNU S라고도 한다. R은 통계 소프트웨어 개발과 자료 분석에 널리 사용되고 있다. 패키지 개발이 용이하여 통계학자들 사이에서 통계 소프트웨어 개발에 많이 쓰이고 있다.'\n",
       "$R_wiki_para\n",
       ":   1. 1. 'R 프로그래밍 언어(줄여서 R)는 통계 계산과 그래픽을 위한 프로그래밍 언어이자 소프트웨어 환경이다. 뉴질랜드 오클랜드 대학의 로버트 젠틀맨(Robert Gentleman)과 로스 이하카(Ross Ihaka)에 의해 시작되어 현재는 R 코어 팀이 개발하고 있다.'\n",
       "2. 'R은 GPL 하에 배포되는 S 프로그래밍 언어의 구현으로 GNU S라고도 한다. R은 통계 소프트웨어 개발과 자료 분석에 널리 사용되고 있다. 패키지 개발이 용이하여 통계학자들 사이에서 통계 소프트웨어 개발에 많이 쓰이고 있다.'\n",
       "\n",
       "\n",
       "\n",
       "\n",
       "\n",
       "\n",
       "$R_wiki_sent\n",
       ":   1. 1. 'R 프로그래밍 언어(줄여서 R)는 통계 계산과 그래픽을 위한 프로그래밍 언어이자 소프트웨어 환경이다'\n",
       "2. ' 뉴질랜드 오클랜드 대학의 로버트 젠틀맨(Robert Gentleman)과 로스 이하카(Ross Ihaka)에 의해 시작되어 현재는 R 코어 팀이 개발하고 있다'\n",
       "\n",
       "\n",
       "\n",
       "2. 1. 'R은 GPL 하에 배포되는 S 프로그래밍 언어의 구현으로 GNU S라고도 한다'\n",
       "2. ' R은 통계 소프트웨어 개발과 자료 분석에 널리 사용되고 있다'\n",
       "3. ' 패키지 개발이 용이하여 통계학자들 사이에서 통계 소프트웨어 개발에 많이 쓰이고 있다'\n",
       "\n",
       "\n",
       "\n",
       "\n",
       "\n",
       "\n",
       "$sentence\n",
       ":   1. '문장 1'\n",
       "2. '문장 2'\n",
       "3. '문장 3'\n",
       "4. '문장 4'\n",
       "5. '문장 5'\n",
       "\n",
       "\n",
       "\n",
       "\n",
       "\n"
      ],
      "text/plain": [
       "$i\n",
       "[1] 2\n",
       "\n",
       "$keyword\n",
       "[1] \"so (interest(ing))\"\n",
       "\n",
       "$loc_begin\n",
       "[1] 20 NA NA  5 15\n",
       "\n",
       "$loc_end\n",
       "[1] 21 NA NA  6 16\n",
       "attr(,\"match.length\")\n",
       "[1]  2 -1 -1  2  2\n",
       "\n",
       "$loc_freq\n",
       "[1]  1 NA NA  1  2\n",
       "\n",
       "$loc_length\n",
       "[1]  2 -1 -1  2  2\n",
       "\n",
       "$loc_start\n",
       "$loc_start[[1]]\n",
       "[1] 20\n",
       "attr(,\"match.length\")\n",
       "[1] 2\n",
       "\n",
       "$loc_start[[2]]\n",
       "[1] -1\n",
       "attr(,\"match.length\")\n",
       "[1] -1\n",
       "\n",
       "$loc_start[[3]]\n",
       "[1] -1\n",
       "attr(,\"match.length\")\n",
       "[1] -1\n",
       "\n",
       "$loc_start[[4]]\n",
       "[1] 5\n",
       "attr(,\"match.length\")\n",
       "[1] 2\n",
       "\n",
       "$loc_start[[5]]\n",
       "[1] 15 26\n",
       "attr(,\"match.length\")\n",
       "[1] 2 2\n",
       "\n",
       "\n",
       "$my\n",
       "[1] \"Learning R is so interesting\"\n",
       "\n",
       "$mysent\n",
       "[1] \"R 프로그래밍 언어(줄여서 R)는 통계 계산과 그래픽을 위한 프로그래밍 언어이자 소프트웨어 환경이다\"                                     \n",
       "[2] \" 뉴질랜드 오클랜드 대학의 로버트 젠틀맨(Robert Gentleman)과 로스 이하카(Ross Ihaka)에 의해 시작되어 현재는 R 코어 팀이 개발하고 있다\"\n",
       "[3] \"R은 GPL 하에 배포되는 S 프로그래밍 언어의 구현으로 GNU S라고도 한다\"                                                                 \n",
       "[4] \" R은 통계 소프트웨어 개발과 자료 분석에 널리 사용되고 있다\"                                                                          \n",
       "[5] \" 패키지 개발이 용이하여 통계학자들 사이에서 통계 소프트웨어 개발에 많이 쓰이고 있다\"                                                 \n",
       "\n",
       "$R_wiki\n",
       "[1] \"R 프로그래밍 언어(줄여서 R)는 통계 계산과 그래픽을 위한 프로그래밍 언어이자 소프트웨어 환경이다. 뉴질랜드 오클랜드 대학의 로버트 젠틀맨(Robert Gentleman)과 로스 이하카(Ross Ihaka)에 의해 시작되어 현재는 R 코어 팀이 개발하고 있다.\\nR은 GPL 하에 배포되는 S 프로그래밍 언어의 구현으로 GNU S라고도 한다. R은 통계 소프트웨어 개발과 자료 분석에 널리 사용되고 있다. 패키지 개발이 용이하여 통계학자들 사이에서 통계 소프트웨어 개발에 많이 쓰이고 있다.\"\n",
       "\n",
       "$R_wiki_para\n",
       "$R_wiki_para[[1]]\n",
       "[1] \"R 프로그래밍 언어(줄여서 R)는 통계 계산과 그래픽을 위한 프로그래밍 언어이자 소프트웨어 환경이다. 뉴질랜드 오클랜드 대학의 로버트 젠틀맨(Robert Gentleman)과 로스 이하카(Ross Ihaka)에 의해 시작되어 현재는 R 코어 팀이 개발하고 있다.\"\n",
       "[2] \"R은 GPL 하에 배포되는 S 프로그래밍 언어의 구현으로 GNU S라고도 한다. R은 통계 소프트웨어 개발과 자료 분석에 널리 사용되고 있다. 패키지 개발이 용이하여 통계학자들 사이에서 통계 소프트웨어 개발에 많이 쓰이고 있다.\"                  \n",
       "\n",
       "\n",
       "$R_wiki_sent\n",
       "$R_wiki_sent[[1]]\n",
       "[1] \"R 프로그래밍 언어(줄여서 R)는 통계 계산과 그래픽을 위한 프로그래밍 언어이자 소프트웨어 환경이다\"                                     \n",
       "[2] \" 뉴질랜드 오클랜드 대학의 로버트 젠틀맨(Robert Gentleman)과 로스 이하카(Ross Ihaka)에 의해 시작되어 현재는 R 코어 팀이 개발하고 있다\"\n",
       "\n",
       "$R_wiki_sent[[2]]\n",
       "[1] \"R은 GPL 하에 배포되는 S 프로그래밍 언어의 구현으로 GNU S라고도 한다\"                \n",
       "[2] \" R은 통계 소프트웨어 개발과 자료 분석에 널리 사용되고 있다\"                         \n",
       "[3] \" 패키지 개발이 용이하여 통계학자들 사이에서 통계 소프트웨어 개발에 많이 쓰이고 있다\"\n",
       "\n",
       "\n",
       "$sentence\n",
       "[1] \"문장 1\" \"문장 2\" \"문장 3\" \"문장 4\" \"문장 5\"\n"
      ]
     },
     "metadata": {},
     "output_type": "display_data"
    }
   ],
   "source": [
    "# 메모리 상의 모든 객체별 내용 파악\n",
    "mget(ls())"
   ]
  },
  {
   "cell_type": "code",
   "execution_count": 48,
   "metadata": {},
   "outputs": [
    {
     "data": {
      "text/html": [
       "<dl>\n",
       "\t<dt>$loc_begin</dt>\n",
       "\t\t<dd><ol class=list-inline>\n",
       "\t<li>20</li>\n",
       "\t<li>&lt;NA&gt;</li>\n",
       "\t<li>&lt;NA&gt;</li>\n",
       "\t<li>5</li>\n",
       "\t<li>15</li>\n",
       "</ol>\n",
       "</dd>\n",
       "\t<dt>$loc_end</dt>\n",
       "\t\t<dd><ol class=list-inline>\n",
       "\t<li>21</li>\n",
       "\t<li>&lt;NA&gt;</li>\n",
       "\t<li>&lt;NA&gt;</li>\n",
       "\t<li>6</li>\n",
       "\t<li>16</li>\n",
       "</ol>\n",
       "</dd>\n",
       "\t<dt>$loc_freq</dt>\n",
       "\t\t<dd><ol class=list-inline>\n",
       "\t<li>1</li>\n",
       "\t<li>&lt;NA&gt;</li>\n",
       "\t<li>&lt;NA&gt;</li>\n",
       "\t<li>1</li>\n",
       "\t<li>2</li>\n",
       "</ol>\n",
       "</dd>\n",
       "\t<dt>$loc_length</dt>\n",
       "\t\t<dd><ol class=list-inline>\n",
       "\t<li>2</li>\n",
       "\t<li>-1</li>\n",
       "\t<li>-1</li>\n",
       "\t<li>2</li>\n",
       "\t<li>2</li>\n",
       "</ol>\n",
       "</dd>\n",
       "\t<dt>$loc_start</dt>\n",
       "\t\t<dd><ol>\n",
       "\t<li>20</li>\n",
       "\t<li>-1</li>\n",
       "\t<li>-1</li>\n",
       "\t<li>5</li>\n",
       "\t<li><ol class=list-inline>\n",
       "\t<li>15</li>\n",
       "\t<li>26</li>\n",
       "</ol>\n",
       "</li>\n",
       "</ol>\n",
       "</dd>\n",
       "</dl>\n"
      ],
      "text/latex": [
       "\\begin{description}\n",
       "\\item[\\$loc\\_begin] \\begin{enumerate*}\n",
       "\\item 20\n",
       "\\item <NA>\n",
       "\\item <NA>\n",
       "\\item 5\n",
       "\\item 15\n",
       "\\end{enumerate*}\n",
       "\n",
       "\\item[\\$loc\\_end] \\begin{enumerate*}\n",
       "\\item 21\n",
       "\\item <NA>\n",
       "\\item <NA>\n",
       "\\item 6\n",
       "\\item 16\n",
       "\\end{enumerate*}\n",
       "\n",
       "\\item[\\$loc\\_freq] \\begin{enumerate*}\n",
       "\\item 1\n",
       "\\item <NA>\n",
       "\\item <NA>\n",
       "\\item 1\n",
       "\\item 2\n",
       "\\end{enumerate*}\n",
       "\n",
       "\\item[\\$loc\\_length] \\begin{enumerate*}\n",
       "\\item 2\n",
       "\\item -1\n",
       "\\item -1\n",
       "\\item 2\n",
       "\\item 2\n",
       "\\end{enumerate*}\n",
       "\n",
       "\\item[\\$loc\\_start] \\begin{enumerate}\n",
       "\\item 20\n",
       "\\item -1\n",
       "\\item -1\n",
       "\\item 5\n",
       "\\item \\begin{enumerate*}\n",
       "\\item 15\n",
       "\\item 26\n",
       "\\end{enumerate*}\n",
       "\n",
       "\\end{enumerate}\n",
       "\n",
       "\\end{description}\n"
      ],
      "text/markdown": [
       "$loc_begin\n",
       ":   1. 20\n",
       "2. &lt;NA&gt;\n",
       "3. &lt;NA&gt;\n",
       "4. 5\n",
       "5. 15\n",
       "\n",
       "\n",
       "\n",
       "$loc_end\n",
       ":   1. 21\n",
       "2. &lt;NA&gt;\n",
       "3. &lt;NA&gt;\n",
       "4. 6\n",
       "5. 16\n",
       "\n",
       "\n",
       "\n",
       "$loc_freq\n",
       ":   1. 1\n",
       "2. &lt;NA&gt;\n",
       "3. &lt;NA&gt;\n",
       "4. 1\n",
       "5. 2\n",
       "\n",
       "\n",
       "\n",
       "$loc_length\n",
       ":   1. 2\n",
       "2. -1\n",
       "3. -1\n",
       "4. 2\n",
       "5. 2\n",
       "\n",
       "\n",
       "\n",
       "$loc_start\n",
       ":   1. 20\n",
       "2. -1\n",
       "3. -1\n",
       "4. 5\n",
       "5. 1. 15\n",
       "2. 26\n",
       "\n",
       "\n",
       "\n",
       "\n",
       "\n",
       "\n",
       "\n",
       "\n"
      ],
      "text/plain": [
       "$loc_begin\n",
       "[1] 20 NA NA  5 15\n",
       "\n",
       "$loc_end\n",
       "[1] 21 NA NA  6 16\n",
       "attr(,\"match.length\")\n",
       "[1]  2 -1 -1  2  2\n",
       "\n",
       "$loc_freq\n",
       "[1]  1 NA NA  1  2\n",
       "\n",
       "$loc_length\n",
       "[1]  2 -1 -1  2  2\n",
       "\n",
       "$loc_start\n",
       "$loc_start[[1]]\n",
       "[1] 20\n",
       "attr(,\"match.length\")\n",
       "[1] 2\n",
       "\n",
       "$loc_start[[2]]\n",
       "[1] -1\n",
       "attr(,\"match.length\")\n",
       "[1] -1\n",
       "\n",
       "$loc_start[[3]]\n",
       "[1] -1\n",
       "attr(,\"match.length\")\n",
       "[1] -1\n",
       "\n",
       "$loc_start[[4]]\n",
       "[1] 5\n",
       "attr(,\"match.length\")\n",
       "[1] 2\n",
       "\n",
       "$loc_start[[5]]\n",
       "[1] 15 26\n",
       "attr(,\"match.length\")\n",
       "[1] 2 2\n",
       "\n"
      ]
     },
     "metadata": {},
     "output_type": "display_data"
    }
   ],
   "source": [
    "# 메모리 상의 특정 객체별 내용 파악\n",
    "mget(ls(pattern = 'loc*'))"
   ]
  },
  {
   "cell_type": "markdown",
   "metadata": {},
   "source": [
    "### 메모리상의 객체별 용량파악"
   ]
  },
  {
   "cell_type": "code",
   "execution_count": 49,
   "metadata": {},
   "outputs": [
    {
     "data": {
      "text/html": [
       "<dl class=dl-horizontal>\n",
       "\t<dt>i</dt>\n",
       "\t\t<dd>56</dd>\n",
       "\t<dt>keyword</dt>\n",
       "\t\t<dd>136</dd>\n",
       "\t<dt>loc_begin</dt>\n",
       "\t\t<dd>80</dd>\n",
       "\t<dt>loc_end</dt>\n",
       "\t\t<dd>288</dd>\n",
       "\t<dt>loc_freq</dt>\n",
       "\t\t<dd>80</dd>\n",
       "\t<dt>loc_length</dt>\n",
       "\t\t<dd>80</dd>\n",
       "\t<dt>loc_start</dt>\n",
       "\t\t<dd>1216</dd>\n",
       "\t<dt>my</dt>\n",
       "\t\t<dd>136</dd>\n",
       "\t<dt>mysent</dt>\n",
       "\t\t<dd>920</dd>\n",
       "\t<dt>R_wiki</dt>\n",
       "\t\t<dd>552</dd>\n",
       "\t<dt>R_wiki_para</dt>\n",
       "\t\t<dd>664</dd>\n",
       "\t<dt>R_wiki_sent</dt>\n",
       "\t\t<dd>1032</dd>\n",
       "\t<dt>sentence</dt>\n",
       "\t\t<dd>376</dd>\n",
       "</dl>\n"
      ],
      "text/latex": [
       "\\begin{description*}\n",
       "\\item[i] 56\n",
       "\\item[keyword] 136\n",
       "\\item[loc\\textbackslash{}\\_begin] 80\n",
       "\\item[loc\\textbackslash{}\\_end] 288\n",
       "\\item[loc\\textbackslash{}\\_freq] 80\n",
       "\\item[loc\\textbackslash{}\\_length] 80\n",
       "\\item[loc\\textbackslash{}\\_start] 1216\n",
       "\\item[my] 136\n",
       "\\item[mysent] 920\n",
       "\\item[R\\textbackslash{}\\_wiki] 552\n",
       "\\item[R\\textbackslash{}\\_wiki\\textbackslash{}\\_para] 664\n",
       "\\item[R\\textbackslash{}\\_wiki\\textbackslash{}\\_sent] 1032\n",
       "\\item[sentence] 376\n",
       "\\end{description*}\n"
      ],
      "text/markdown": [
       "i\n",
       ":   56keyword\n",
       ":   136loc_begin\n",
       ":   80loc_end\n",
       ":   288loc_freq\n",
       ":   80loc_length\n",
       ":   80loc_start\n",
       ":   1216my\n",
       ":   136mysent\n",
       ":   920R_wiki\n",
       ":   552R_wiki_para\n",
       ":   664R_wiki_sent\n",
       ":   1032sentence\n",
       ":   376\n",
       "\n"
      ],
      "text/plain": [
       "          i     keyword   loc_begin     loc_end    loc_freq  loc_length \n",
       "         56         136          80         288          80          80 \n",
       "  loc_start          my      mysent      R_wiki R_wiki_para R_wiki_sent \n",
       "       1216         136         920         552         664        1032 \n",
       "   sentence \n",
       "        376 "
      ]
     },
     "metadata": {},
     "output_type": "display_data"
    }
   ],
   "source": [
    "# 메모리 상의 모든 객체별 용량 파악\n",
    "sapply(mget(ls()), object.size)"
   ]
  },
  {
   "cell_type": "code",
   "execution_count": 50,
   "metadata": {},
   "outputs": [
    {
     "data": {
      "text/plain": [
       "$i\n",
       "56 bytes\n",
       "\n",
       "$keyword\n",
       "136 bytes\n",
       "\n",
       "$loc_begin\n",
       "80 bytes\n",
       "\n",
       "$loc_end\n",
       "288 bytes\n",
       "\n",
       "$loc_freq\n",
       "80 bytes\n",
       "\n",
       "$loc_length\n",
       "80 bytes\n",
       "\n",
       "$loc_start\n",
       "1216 bytes\n",
       "\n",
       "$my\n",
       "136 bytes\n",
       "\n",
       "$mysent\n",
       "920 bytes\n",
       "\n",
       "$R_wiki\n",
       "552 bytes\n",
       "\n",
       "$R_wiki_para\n",
       "664 bytes\n",
       "\n",
       "$R_wiki_sent\n",
       "1032 bytes\n",
       "\n",
       "$sentence\n",
       "376 bytes\n"
      ]
     },
     "metadata": {},
     "output_type": "display_data"
    }
   ],
   "source": [
    "# 메모리 상의 모든 객체별 용량 파악\n",
    "lapply(mget(ls()), object.size)"
   ]
  },
  {
   "cell_type": "code",
   "execution_count": 51,
   "metadata": {},
   "outputs": [
    {
     "data": {
      "text/html": [
       "<dl class=dl-horizontal>\n",
       "\t<dt>loc_begin</dt>\n",
       "\t\t<dd>80</dd>\n",
       "\t<dt>loc_end</dt>\n",
       "\t\t<dd>288</dd>\n",
       "\t<dt>loc_freq</dt>\n",
       "\t\t<dd>80</dd>\n",
       "\t<dt>loc_length</dt>\n",
       "\t\t<dd>80</dd>\n",
       "\t<dt>loc_start</dt>\n",
       "\t\t<dd>1216</dd>\n",
       "</dl>\n"
      ],
      "text/latex": [
       "\\begin{description*}\n",
       "\\item[loc\\textbackslash{}\\_begin] 80\n",
       "\\item[loc\\textbackslash{}\\_end] 288\n",
       "\\item[loc\\textbackslash{}\\_freq] 80\n",
       "\\item[loc\\textbackslash{}\\_length] 80\n",
       "\\item[loc\\textbackslash{}\\_start] 1216\n",
       "\\end{description*}\n"
      ],
      "text/markdown": [
       "loc_begin\n",
       ":   80loc_end\n",
       ":   288loc_freq\n",
       ":   80loc_length\n",
       ":   80loc_start\n",
       ":   1216\n",
       "\n"
      ],
      "text/plain": [
       " loc_begin    loc_end   loc_freq loc_length  loc_start \n",
       "        80        288         80         80       1216 "
      ]
     },
     "metadata": {},
     "output_type": "display_data"
    }
   ],
   "source": [
    "# 메모리 상의 특정 객체별 용량 파악\n",
    "sapply(mget(ls(pattern = 'loc*')), object.size)"
   ]
  },
  {
   "cell_type": "code",
   "execution_count": 52,
   "metadata": {},
   "outputs": [
    {
     "data": {
      "text/plain": [
       "$loc_begin\n",
       "80 bytes\n",
       "\n",
       "$loc_end\n",
       "288 bytes\n",
       "\n",
       "$loc_freq\n",
       "80 bytes\n",
       "\n",
       "$loc_length\n",
       "80 bytes\n",
       "\n",
       "$loc_start\n",
       "1216 bytes\n"
      ]
     },
     "metadata": {},
     "output_type": "display_data"
    }
   ],
   "source": [
    "# 메모리 상의 특정 객체별 용량 파악\n",
    "lapply(mget(ls(pattern = 'loc*')), object.size)"
   ]
  },
  {
   "cell_type": "code",
   "execution_count": 53,
   "metadata": {
    "scrolled": true
   },
   "outputs": [
    {
     "data": {
      "text/html": [
       "'6.7 Kb'"
      ],
      "text/latex": [
       "'6.7 Kb'"
      ],
      "text/markdown": [
       "'6.7 Kb'"
      ],
      "text/plain": [
       "[1] \"6.7 Kb\""
      ]
     },
     "metadata": {},
     "output_type": "display_data"
    }
   ],
   "source": [
    "# 메모리 상의 모든 객체들의 용량합\n",
    "format(object.size(mget(ls())), units = \"auto\")"
   ]
  },
  {
   "cell_type": "code",
   "execution_count": 54,
   "metadata": {
    "scrolled": true
   },
   "outputs": [
    {
     "data": {
      "text/html": [
       "'2.3 Kb'"
      ],
      "text/latex": [
       "'2.3 Kb'"
      ],
      "text/markdown": [
       "'2.3 Kb'"
      ],
      "text/plain": [
       "[1] \"2.3 Kb\""
      ]
     },
     "metadata": {},
     "output_type": "display_data"
    }
   ],
   "source": [
    "# 메모리 상의 특정 객체들의 용량합\n",
    "format(object.size(mget(ls(pattern = 'loc*'))), units = \"auto\")"
   ]
  },
  {
   "cell_type": "markdown",
   "metadata": {},
   "source": [
    "### 메모리상의 객체 삭제"
   ]
  },
  {
   "cell_type": "code",
   "execution_count": 55,
   "metadata": {},
   "outputs": [
    {
     "data": {
      "text/html": [
       "<ol class=list-inline>\n",
       "\t<li>'i'</li>\n",
       "\t<li>'keyword'</li>\n",
       "\t<li>'loc_begin'</li>\n",
       "\t<li>'loc_end'</li>\n",
       "\t<li>'loc_freq'</li>\n",
       "\t<li>'loc_length'</li>\n",
       "\t<li>'loc_start'</li>\n",
       "\t<li>'my'</li>\n",
       "\t<li>'mysent'</li>\n",
       "\t<li>'R_wiki'</li>\n",
       "\t<li>'R_wiki_para'</li>\n",
       "\t<li>'R_wiki_sent'</li>\n",
       "\t<li>'sentence'</li>\n",
       "</ol>\n"
      ],
      "text/latex": [
       "\\begin{enumerate*}\n",
       "\\item 'i'\n",
       "\\item 'keyword'\n",
       "\\item 'loc\\_begin'\n",
       "\\item 'loc\\_end'\n",
       "\\item 'loc\\_freq'\n",
       "\\item 'loc\\_length'\n",
       "\\item 'loc\\_start'\n",
       "\\item 'my'\n",
       "\\item 'mysent'\n",
       "\\item 'R\\_wiki'\n",
       "\\item 'R\\_wiki\\_para'\n",
       "\\item 'R\\_wiki\\_sent'\n",
       "\\item 'sentence'\n",
       "\\end{enumerate*}\n"
      ],
      "text/markdown": [
       "1. 'i'\n",
       "2. 'keyword'\n",
       "3. 'loc_begin'\n",
       "4. 'loc_end'\n",
       "5. 'loc_freq'\n",
       "6. 'loc_length'\n",
       "7. 'loc_start'\n",
       "8. 'my'\n",
       "9. 'mysent'\n",
       "10. 'R_wiki'\n",
       "11. 'R_wiki_para'\n",
       "12. 'R_wiki_sent'\n",
       "13. 'sentence'\n",
       "\n",
       "\n"
      ],
      "text/plain": [
       " [1] \"i\"           \"keyword\"     \"loc_begin\"   \"loc_end\"     \"loc_freq\"   \n",
       " [6] \"loc_length\"  \"loc_start\"   \"my\"          \"mysent\"      \"R_wiki\"     \n",
       "[11] \"R_wiki_para\" \"R_wiki_sent\" \"sentence\"   "
      ]
     },
     "metadata": {},
     "output_type": "display_data"
    }
   ],
   "source": [
    "# 현재 객체 목록 조회\n",
    "ls()"
   ]
  },
  {
   "cell_type": "code",
   "execution_count": 56,
   "metadata": {},
   "outputs": [
    {
     "data": {
      "text/html": [
       "'mysent'"
      ],
      "text/latex": [
       "'mysent'"
      ],
      "text/markdown": [
       "'mysent'"
      ],
      "text/plain": [
       "[1] \"mysent\""
      ]
     },
     "metadata": {},
     "output_type": "display_data"
    }
   ],
   "source": [
    "# 메모리상의 특정객체 삭제\n",
    "rm(my)\n",
    "ls(pattern = 'my')"
   ]
  },
  {
   "cell_type": "code",
   "execution_count": 61,
   "metadata": {},
   "outputs": [
    {
     "name": "stderr",
     "output_type": "stream",
     "text": [
      "Warning message in rm(i, sentence, keyword):\n",
      "\"객체 'i'를 찾을 수 없습니다\"Warning message in rm(i, sentence, keyword):\n",
      "\"객체 'sentence'를 찾을 수 없습니다\"Warning message in rm(i, sentence, keyword):\n",
      "\"객체 'keyword'를 찾을 수 없습니다\""
     ]
    },
    {
     "data": {
      "text/html": [],
      "text/latex": [],
      "text/markdown": [],
      "text/plain": [
       "character(0)"
      ]
     },
     "metadata": {},
     "output_type": "display_data"
    }
   ],
   "source": [
    "# 메모리상의 복수객체 삭제\n",
    "rm(i, sentence, keyword)\n",
    "ls()"
   ]
  },
  {
   "cell_type": "code",
   "execution_count": 58,
   "metadata": {},
   "outputs": [
    {
     "data": {
      "text/html": [
       "<ol class=list-inline>\n",
       "\t<li>'loc_begin'</li>\n",
       "\t<li>'loc_end'</li>\n",
       "\t<li>'loc_freq'</li>\n",
       "\t<li>'loc_length'</li>\n",
       "\t<li>'loc_start'</li>\n",
       "</ol>\n"
      ],
      "text/latex": [
       "\\begin{enumerate*}\n",
       "\\item 'loc\\_begin'\n",
       "\\item 'loc\\_end'\n",
       "\\item 'loc\\_freq'\n",
       "\\item 'loc\\_length'\n",
       "\\item 'loc\\_start'\n",
       "\\end{enumerate*}\n"
      ],
      "text/markdown": [
       "1. 'loc_begin'\n",
       "2. 'loc_end'\n",
       "3. 'loc_freq'\n",
       "4. 'loc_length'\n",
       "5. 'loc_start'\n",
       "\n",
       "\n"
      ],
      "text/plain": [
       "[1] \"loc_begin\"  \"loc_end\"    \"loc_freq\"   \"loc_length\" \"loc_start\" "
      ]
     },
     "metadata": {},
     "output_type": "display_data"
    },
    {
     "data": {
      "text/html": [],
      "text/latex": [],
      "text/markdown": [],
      "text/plain": [
       "character(0)"
      ]
     },
     "metadata": {},
     "output_type": "display_data"
    }
   ],
   "source": [
    "# 메모리상의 특정패턴 객체 삭제\n",
    "\n",
    "ls(pattern = 'loc')\n",
    "# - loc라는 표현이 들어간 객체목록 조회\n",
    "\n",
    "rm(list = ls(pattern = 'loc'))\n",
    "# - loc라는 표현이 들어간 객체만 삭제\n",
    "\n",
    "ls(pattern = 'loc')\n",
    "# - loc라는 표현이 들어간 객체각 삭제되었는지 확인"
   ]
  },
  {
   "cell_type": "code",
   "execution_count": 59,
   "metadata": {},
   "outputs": [
    {
     "data": {
      "text/html": [],
      "text/latex": [],
      "text/markdown": [],
      "text/plain": [
       "character(0)"
      ]
     },
     "metadata": {},
     "output_type": "display_data"
    }
   ],
   "source": [
    "# 메모리상의 모든객체 일괄삭제\n",
    "rm(list = ls())\n",
    "ls()"
   ]
  },
  {
   "cell_type": "code",
   "execution_count": 60,
   "metadata": {},
   "outputs": [
    {
     "data": {
      "text/html": [
       "<table>\n",
       "<thead><tr><th></th><th scope=col>used</th><th scope=col>(Mb)</th><th scope=col>gc trigger</th><th scope=col>(Mb)</th><th scope=col>max used</th><th scope=col>(Mb)</th></tr></thead>\n",
       "<tbody>\n",
       "\t<tr><th scope=row>Ncells</th><td> 551312</td><td>29.5   </td><td>1152012</td><td>61.6   </td><td>1152012</td><td>61.6   </td></tr>\n",
       "\t<tr><th scope=row>Vcells</th><td>1003492</td><td> 7.7   </td><td>8388608</td><td>64.0   </td><td>1642473</td><td>12.6   </td></tr>\n",
       "</tbody>\n",
       "</table>\n"
      ],
      "text/latex": [
       "\\begin{tabular}{r|llllll}\n",
       "  & used & (Mb) & gc trigger & (Mb) & max used & (Mb)\\\\\n",
       "\\hline\n",
       "\tNcells &  551312 & 29.5    & 1152012 & 61.6    & 1152012 & 61.6   \\\\\n",
       "\tVcells & 1003492 &  7.7    & 8388608 & 64.0    & 1642473 & 12.6   \\\\\n",
       "\\end{tabular}\n"
      ],
      "text/markdown": [
       "\n",
       "| <!--/--> | used | (Mb) | gc trigger | (Mb) | max used | (Mb) | \n",
       "|---|---|\n",
       "| Ncells |  551312 | 29.5    | 1152012 | 61.6    | 1152012 | 61.6    | \n",
       "| Vcells | 1003492 |  7.7    | 8388608 | 64.0    | 1642473 | 12.6    | \n",
       "\n",
       "\n"
      ],
      "text/plain": [
       "       used    (Mb) gc trigger (Mb) max used (Mb)\n",
       "Ncells  551312 29.5 1152012    61.6 1152012  61.6\n",
       "Vcells 1003492  7.7 8388608    64.0 1642473  12.6"
      ]
     },
     "metadata": {},
     "output_type": "display_data"
    }
   ],
   "source": [
    "# 더이상 사용되지 않는 메모리를 강제로 리셋시켜 사용하도록 해줌\n",
    "gc()"
   ]
  },
  {
   "cell_type": "markdown",
   "metadata": {},
   "source": [
    "# End of Source"
   ]
  }
 ],
 "metadata": {
  "kernelspec": {
   "display_name": "R",
   "language": "R",
   "name": "ir"
  },
  "language_info": {
   "codemirror_mode": "r",
   "file_extension": ".r",
   "mimetype": "text/x-r-source",
   "name": "R",
   "pygments_lexer": "r",
   "version": "3.5.1"
  }
 },
 "nbformat": 4,
 "nbformat_minor": 2
}
