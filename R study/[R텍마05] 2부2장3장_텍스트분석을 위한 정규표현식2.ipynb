{
 "cells": [
  {
   "cell_type": "markdown",
   "metadata": {},
   "source": [
    "# <font color = 'color'>[R텍마05] 2부2장3장_텍스트분석을 위한 정규표현식2</font>"
   ]
  },
  {
   "cell_type": "markdown",
   "metadata": {},
   "source": [
    "### 필요 패키지 인스톨 및 라이브러리 로딩"
   ]
  },
  {
   "cell_type": "code",
   "execution_count": 1,
   "metadata": {},
   "outputs": [],
   "source": [
    "# 패키지 설치&로딩 사용자정의함수 작성\n",
    "mypak <- function(pkg){\n",
    "    # 필요패키지 설지여부를 체크해 미설치패키지 목록을 저장\n",
    "    new.pkg <- pkg[!(pkg %in% rownames(installed.packages()))]\n",
    "    \n",
    "    # 미설치 패키지를 일괄 인스톨 실시\n",
    "    if (length(new.pkg)) \n",
    "        install.packages(new.pkg, dependencies = TRUE)\n",
    "    \n",
    "    # 필요패키지를 일괄 로딩실시\n",
    "    sapply(pkg, require, character.only = TRUE)  \n",
    "}"
   ]
  },
  {
   "cell_type": "code",
   "execution_count": 2,
   "metadata": {},
   "outputs": [
    {
     "name": "stderr",
     "output_type": "stream",
     "text": [
      "Loading required package: stringr\n",
      "Loading required package: magrittr\n",
      "Loading required package: purrr\n",
      "\n",
      "Attaching package: 'purrr'\n",
      "\n",
      "The following object is masked from 'package:magrittr':\n",
      "\n",
      "    set_names\n",
      "\n",
      "The following object is masked from 'package:jsonlite':\n",
      "\n",
      "    flatten\n",
      "\n"
     ]
    },
    {
     "data": {
      "text/html": [
       "<dl class=dl-horizontal>\n",
       "\t<dt>stringr</dt>\n",
       "\t\t<dd>TRUE</dd>\n",
       "\t<dt>magrittr</dt>\n",
       "\t\t<dd>TRUE</dd>\n",
       "\t<dt>purrr</dt>\n",
       "\t\t<dd>TRUE</dd>\n",
       "</dl>\n"
      ],
      "text/latex": [
       "\\begin{description*}\n",
       "\\item[stringr] TRUE\n",
       "\\item[magrittr] TRUE\n",
       "\\item[purrr] TRUE\n",
       "\\end{description*}\n"
      ],
      "text/markdown": [
       "stringr\n",
       ":   TRUEmagrittr\n",
       ":   TRUEpurrr\n",
       ":   TRUE\n",
       "\n"
      ],
      "text/plain": [
       " stringr magrittr    purrr \n",
       "    TRUE     TRUE     TRUE "
      ]
     },
     "metadata": {},
     "output_type": "display_data"
    }
   ],
   "source": [
    "# 패키지 설치&로딩 사용자정의함수 이용\n",
    "pak <- c('stringr', 'magrittr', 'purrr')\n",
    "# - stringr: 문자열 분석패키지\n",
    "# - magrittr: 파이프연산자 %>%\n",
    "# - purrr: 데이터순환연산(벡터리사이클링, 벡터브로드캐스팅, 벡터연산) map시리즈 패키지\n",
    "\n",
    "mypak(pak)"
   ]
  },
  {
   "cell_type": "markdown",
   "metadata": {},
   "source": [
    "# <font color = 'blue'>텍스트셋에서 특정패턴 탐색: 대상객체가 1개 요소인 경우(p.59, p.73)</font>\n",
    "* 원본 텍스트셋의 내용과 구조에 상관없이 1개 문자요소로 간주하여 분석\n",
    "* base패키지(p.59)와 stringr패키지(p.73) 병행사용\n",
    "* 텍스트셋 안에 특정패턴의 포함여부, 출현위치, 출현내용, 출현횟수 파악\n",
    "* 텍스트셋 안에 원본패턴을 목표패턴으로 변경"
   ]
  },
  {
   "cell_type": "markdown",
   "metadata": {},
   "source": [
    "## 텍스트 데이터 준비"
   ]
  },
  {
   "cell_type": "code",
   "execution_count": 3,
   "metadata": {},
   "outputs": [
    {
     "data": {
      "text/html": [
       "'검색대상 객체내용:'"
      ],
      "text/latex": [
       "'검색대상 객체내용:'"
      ],
      "text/markdown": [
       "'검색대상 객체내용:'"
      ],
      "text/plain": [
       "[1] \"검색대상 객체내용:\""
      ]
     },
     "metadata": {},
     "output_type": "display_data"
    },
    {
     "name": "stdout",
     "output_type": "stream",
     "text": [
      "[1] \"The capabilities of R are extended through user-created packages, which allow specialised statistical techniques, graphical devices, import/export capabilities, reporting tools (knitr, Sweave), etc. These packages are developed primarily in R, and sometimes in Java, C, C++, and Fortran. The R packaging system is also used by researchers to create compendia to organise research data, code and report files in a systematic way for sharing and public archiving. \\nThe \\\"Task Views\\\" page (subject list) on the CRAN website lists a wide range of tasks (in fields such as Finance, Genetics, High Performance Computing, Machine Learning, Medical Imaging, Social Sciences and Spatial Statistics) to which R has been applied and for which packages are available. R has also been identified by the FDA as suitable for interpreting data from clinical research. Other R package resources include Crantastic, a community site for rating and reviewing all CRAN packages, and R-Forge, a central platform for the collaborative development of R packages, R-related software, and projects. R-Forge also hosts many unpublished beta packages, and development versions of CRAN packages.\"\n"
     ]
    },
    {
     "data": {
      "text/html": [
       "'검색대상 객체유형: character객체'"
      ],
      "text/latex": [
       "'검색대상 객체유형: character객체'"
      ],
      "text/markdown": [
       "'검색대상 객체유형: character객체'"
      ],
      "text/plain": [
       "[1] \"검색대상 객체유형: character객체\""
      ]
     },
     "metadata": {},
     "output_type": "display_data"
    },
    {
     "data": {
      "text/html": [
       "'검색대상 객체길이: 1요소'"
      ],
      "text/latex": [
       "'검색대상 객체길이: 1요소'"
      ],
      "text/markdown": [
       "'검색대상 객체길이: 1요소'"
      ],
      "text/plain": [
       "[1] \"검색대상 객체길이: 1요소\""
      ]
     },
     "metadata": {},
     "output_type": "display_data"
    },
    {
     "data": {
      "text/html": [
       "'검색대상 객체글자수: 1166개'"
      ],
      "text/latex": [
       "'검색대상 객체글자수: 1166개'"
      ],
      "text/markdown": [
       "'검색대상 객체글자수: 1166개'"
      ],
      "text/plain": [
       "[1] \"검색대상 객체글자수: 1166개\""
      ]
     },
     "metadata": {},
     "output_type": "display_data"
    }
   ],
   "source": [
    "# 분석대상 텍스트 데이터 준비\n",
    "my <- 'The capabilities of R are extended through user-created packages, which allow specialised statistical techniques, graphical devices, import/export capabilities, reporting tools (knitr, Sweave), etc. These packages are developed primarily in R, and sometimes in Java, C, C++, and Fortran. The R packaging system is also used by researchers to create compendia to organise research data, code and report files in a systematic way for sharing and public archiving. \n",
    "The \"Task Views\" page (subject list) on the CRAN website lists a wide range of tasks (in fields such as Finance, Genetics, High Performance Computing, Machine Learning, Medical Imaging, Social Sciences and Spatial Statistics) to which R has been applied and for which packages are available. R has also been identified by the FDA as suitable for interpreting data from clinical research. Other R package resources include Crantastic, a community site for rating and reviewing all CRAN packages, and R-Forge, a central platform for the collaborative development of R packages, R-related software, and projects. R-Forge also hosts many unpublished beta packages, and development versions of CRAN packages.'\n",
    "\n",
    "sprintf('검색대상 객체내용:')\n",
    "print(my)\n",
    "\n",
    "sprintf('검색대상 객체유형: %s객체', class(my))\n",
    "sprintf('검색대상 객체길이: %d요소', length(my))\n",
    "\n",
    "sprintf('검색대상 객체글자수: %d개', nchar(my))\n",
    "# - sprintf('검색대상 객체글자수: %d글자', str_length(my))"
   ]
  },
  {
   "cell_type": "markdown",
   "metadata": {},
   "source": [
    "## 텍스트셋에 특정패턴 포함여부 파악\n",
    "* base:: 논리값으로 grep(), 요소인덱스번호로 grepl()\n",
    "* stringr:: 논리값으로 str_detect(), 요소인덱스번호로 str_detect() & which()"
   ]
  },
  {
   "cell_type": "code",
   "execution_count": 4,
   "metadata": {},
   "outputs": [],
   "source": [
    "# 검색용 키워드 준비\n",
    "keyword = 'Packages'\n",
    "# - 검색패턴에 대소문자가 혼용되어 있는 상태임"
   ]
  },
  {
   "cell_type": "markdown",
   "metadata": {},
   "source": [
    "### 포함여부를 논리값으로"
   ]
  },
  {
   "cell_type": "code",
   "execution_count": 5,
   "metadata": {
    "code_folding": []
   },
   "outputs": [
    {
     "data": {
      "text/html": [
       "'base::grepl() 함수이용 특정패턴 포함유무'"
      ],
      "text/latex": [
       "'base::grepl() 함수이용 특정패턴 포함유무'"
      ],
      "text/markdown": [
       "'base::grepl() 함수이용 특정패턴 포함유무'"
      ],
      "text/plain": [
       "[1] \"base::grepl() 함수이용 특정패턴 포함유무\""
      ]
     },
     "metadata": {},
     "output_type": "display_data"
    },
    {
     "name": "stdout",
     "output_type": "stream",
     "text": [
      "[1] FALSE\n",
      "[1] TRUE\n"
     ]
    },
    {
     "data": {
      "text/html": [
       "'stringr::str_detect() 함수이용 특정패턴 포함유무'"
      ],
      "text/latex": [
       "'stringr::str\\_detect() 함수이용 특정패턴 포함유무'"
      ],
      "text/markdown": [
       "'stringr::str_detect() 함수이용 특정패턴 포함유무'"
      ],
      "text/plain": [
       "[1] \"stringr::str_detect() 함수이용 특정패턴 포함유무\""
      ]
     },
     "metadata": {},
     "output_type": "display_data"
    },
    {
     "name": "stdout",
     "output_type": "stream",
     "text": [
      "[1] FALSE\n",
      "[1] TRUE\n"
     ]
    }
   ],
   "source": [
    "# 텍스트셋 안에 특정패턴 포함여부를 논리값으로 도출 \n",
    "# - 현재 1개 텍스트요소에 대한 검색이므로 검색패턴이 들어 있으면 TRUE, 없으면 FALSE 출력\n",
    "\n",
    "sprintf('base::grepl() 함수이용 특정패턴 포함유무')\n",
    "print(grepl(pattern = keyword, x = my))\n",
    "print(grepl(pattern = keyword, x = my, ignore.case = TRUE)) # 대소문자 무시옵션\n",
    "\n",
    "sprintf('stringr::str_detect() 함수이용 특정패턴 포함유무')\n",
    "str_detect(pattern = keyword, string = my) %>% print\n",
    "str_detect(regex(pattern = keyword, ignore_case = TRUE), string = my) %>% print  # 대소문자 무시옵션"
   ]
  },
  {
   "cell_type": "markdown",
   "metadata": {},
   "source": [
    "### 포함여부를 요소인덱스번호로"
   ]
  },
  {
   "cell_type": "code",
   "execution_count": 6,
   "metadata": {
    "code_folding": []
   },
   "outputs": [
    {
     "data": {
      "text/html": [
       "'base::grep() 함수이용 특정패턴 포함인덱스'"
      ],
      "text/latex": [
       "'base::grep() 함수이용 특정패턴 포함인덱스'"
      ],
      "text/markdown": [
       "'base::grep() 함수이용 특정패턴 포함인덱스'"
      ],
      "text/plain": [
       "[1] \"base::grep() 함수이용 특정패턴 포함인덱스\""
      ]
     },
     "metadata": {},
     "output_type": "display_data"
    },
    {
     "name": "stdout",
     "output_type": "stream",
     "text": [
      "integer(0)\n",
      "[1] 1\n"
     ]
    },
    {
     "data": {
      "text/html": [
       "'stringr::str_detect() &amp; base::which() 함수이용 특정패턴 포함인덱스'"
      ],
      "text/latex": [
       "'stringr::str\\_detect() \\& base::which() 함수이용 특정패턴 포함인덱스'"
      ],
      "text/markdown": [
       "'stringr::str_detect() &amp; base::which() 함수이용 특정패턴 포함인덱스'"
      ],
      "text/plain": [
       "[1] \"stringr::str_detect() & base::which() 함수이용 특정패턴 포함인덱스\""
      ]
     },
     "metadata": {},
     "output_type": "display_data"
    },
    {
     "name": "stdout",
     "output_type": "stream",
     "text": [
      "integer(0)\n",
      "[1] 1\n"
     ]
    }
   ],
   "source": [
    "# 텍스트셋 안에 특정패턴 포함여부를 요소인덱스번호로 도출 \n",
    "# - 현재 1개 텍스트요소에 대한 검색이므로 검색패턴이 있으면 정수숫자 1을 출력해 주며, \n",
    "#   만일 해당하는 텍스트요소가 없으면, NULL의미를 가진 integer(0) 문구가 나옴\n",
    "\n",
    "sprintf('base::grep() 함수이용 특정패턴 포함인덱스')\n",
    "print(grep(pattern = keyword, x = my))\n",
    "print(grep(pattern = keyword, x = my, ignore.case = TRUE)) # 대소문자 무시옵션\n",
    "\n",
    "sprintf('stringr::str_detect() & base::which() 함수이용 특정패턴 포함인덱스')\n",
    "str_detect(pattern = keyword, string = my) %>% which %>% print\n",
    "str_detect(regex(pattern = keyword, ignore_case = TRUE), string = my) %>% which %>% print  # 대소문자 무시옵션"
   ]
  },
  {
   "cell_type": "markdown",
   "metadata": {},
   "source": [
    "### 포함여부를 요소내용으로"
   ]
  },
  {
   "cell_type": "code",
   "execution_count": 7,
   "metadata": {
    "code_folding": []
   },
   "outputs": [],
   "source": [
    "# 텍스트셋 안에 특정패턴 포함여부를 해당요소 내용으로 도출 \n",
    "# - 현재 1개 텍스트요소에 대한 검색이므로 검색패턴이 있으면 해당 요소의 내용을 출력해 주며, \n",
    "#   만일 해당하는 텍스트요소가 없으면, NULL의미를 가진 character(0) 문구가 나옴"
   ]
  },
  {
   "cell_type": "markdown",
   "metadata": {},
   "source": [
    "#### base::grep() 함수이용"
   ]
  },
  {
   "cell_type": "code",
   "execution_count": 8,
   "metadata": {
    "code_folding": []
   },
   "outputs": [
    {
     "data": {
      "text/html": [
       "'base::grep() 함수이용 특정패턴 포함 요소내용: 대소문자 무시옵션 FALSE'"
      ],
      "text/latex": [
       "'base::grep() 함수이용 특정패턴 포함 요소내용: 대소문자 무시옵션 FALSE'"
      ],
      "text/markdown": [
       "'base::grep() 함수이용 특정패턴 포함 요소내용: 대소문자 무시옵션 FALSE'"
      ],
      "text/plain": [
       "[1] \"base::grep() 함수이용 특정패턴 포함 요소내용: 대소문자 무시옵션 FALSE\""
      ]
     },
     "metadata": {},
     "output_type": "display_data"
    },
    {
     "name": "stdout",
     "output_type": "stream",
     "text": [
      "character(0)\n",
      "\n"
     ]
    },
    {
     "data": {
      "text/html": [
       "'base::grep() 함수이용 특정패턴 포함 요소내용: 대소문자 무시옵션 TRUE'"
      ],
      "text/latex": [
       "'base::grep() 함수이용 특정패턴 포함 요소내용: 대소문자 무시옵션 TRUE'"
      ],
      "text/markdown": [
       "'base::grep() 함수이용 특정패턴 포함 요소내용: 대소문자 무시옵션 TRUE'"
      ],
      "text/plain": [
       "[1] \"base::grep() 함수이용 특정패턴 포함 요소내용: 대소문자 무시옵션 TRUE\""
      ]
     },
     "metadata": {},
     "output_type": "display_data"
    },
    {
     "name": "stdout",
     "output_type": "stream",
     "text": [
      "[1] \"The capabilities of R are extended through user-created packages, which allow specialised statistical techniques, graphical devices, import/export capabilities, reporting tools (knitr, Sweave), etc. These packages are developed primarily in R, and sometimes in Java, C, C++, and Fortran. The R packaging system is also used by researchers to create compendia to organise research data, code and report files in a systematic way for sharing and public archiving. \\nThe \\\"Task Views\\\" page (subject list) on the CRAN website lists a wide range of tasks (in fields such as Finance, Genetics, High Performance Computing, Machine Learning, Medical Imaging, Social Sciences and Spatial Statistics) to which R has been applied and for which packages are available. R has also been identified by the FDA as suitable for interpreting data from clinical research. Other R package resources include Crantastic, a community site for rating and reviewing all CRAN packages, and R-Forge, a central platform for the collaborative development of R packages, R-related software, and projects. R-Forge also hosts many unpublished beta packages, and development versions of CRAN packages.\"\n"
     ]
    }
   ],
   "source": [
    "sprintf('base::grep() 함수이용 특정패턴 포함 요소내용: 대소문자 무시옵션 FALSE')\n",
    "print(grep(pattern = keyword, x = my, value = TRUE))\n",
    "\n",
    "cat('\\n')\n",
    "\n",
    "sprintf('base::grep() 함수이용 특정패턴 포함 요소내용: 대소문자 무시옵션 TRUE')\n",
    "print(grep(pattern = keyword, x = my, ignore.case = TRUE, value = TRUE))"
   ]
  },
  {
   "cell_type": "markdown",
   "metadata": {},
   "source": [
    "#### stringr::str_detect() 함수이용"
   ]
  },
  {
   "cell_type": "code",
   "execution_count": 9,
   "metadata": {},
   "outputs": [
    {
     "data": {
      "text/html": [
       "'stringr::str_detect() 함수이용 특정패턴 포함 요소내용: 대소문자 무시옵션 FALSE'"
      ],
      "text/latex": [
       "'stringr::str\\_detect() 함수이용 특정패턴 포함 요소내용: 대소문자 무시옵션 FALSE'"
      ],
      "text/markdown": [
       "'stringr::str_detect() 함수이용 특정패턴 포함 요소내용: 대소문자 무시옵션 FALSE'"
      ],
      "text/plain": [
       "[1] \"stringr::str_detect() 함수이용 특정패턴 포함 요소내용: 대소문자 무시옵션 FALSE\""
      ]
     },
     "metadata": {},
     "output_type": "display_data"
    },
    {
     "name": "stdout",
     "output_type": "stream",
     "text": [
      "[1] FALSE\n",
      "character(0)\n",
      "\n"
     ]
    },
    {
     "data": {
      "text/html": [
       "'stringr::str_detect() 함수이용 특정패턴 포함 요소내용: 대소문자 무시옵션 TRUE'"
      ],
      "text/latex": [
       "'stringr::str\\_detect() 함수이용 특정패턴 포함 요소내용: 대소문자 무시옵션 TRUE'"
      ],
      "text/markdown": [
       "'stringr::str_detect() 함수이용 특정패턴 포함 요소내용: 대소문자 무시옵션 TRUE'"
      ],
      "text/plain": [
       "[1] \"stringr::str_detect() 함수이용 특정패턴 포함 요소내용: 대소문자 무시옵션 TRUE\""
      ]
     },
     "metadata": {},
     "output_type": "display_data"
    },
    {
     "name": "stdout",
     "output_type": "stream",
     "text": [
      "[1] TRUE\n",
      "[1] \"The capabilities of R are extended through user-created packages, which allow specialised statistical techniques, graphical devices, import/export capabilities, reporting tools (knitr, Sweave), etc. These packages are developed primarily in R, and sometimes in Java, C, C++, and Fortran. The R packaging system is also used by researchers to create compendia to organise research data, code and report files in a systematic way for sharing and public archiving. \\nThe \\\"Task Views\\\" page (subject list) on the CRAN website lists a wide range of tasks (in fields such as Finance, Genetics, High Performance Computing, Machine Learning, Medical Imaging, Social Sciences and Spatial Statistics) to which R has been applied and for which packages are available. R has also been identified by the FDA as suitable for interpreting data from clinical research. Other R package resources include Crantastic, a community site for rating and reviewing all CRAN packages, and R-Forge, a central platform for the collaborative development of R packages, R-related software, and projects. R-Forge also hosts many unpublished beta packages, and development versions of CRAN packages.\"\n"
     ]
    }
   ],
   "source": [
    "sprintf('stringr::str_detect() 함수이용 특정패턴 포함 요소내용: 대소문자 무시옵션 FALSE')\n",
    "my_det <- str_detect(pattern = keyword, string = my) \n",
    "my_det %>% print\n",
    "my[my_det] %>% print\n",
    "\n",
    "cat('\\n')\n",
    "\n",
    "sprintf('stringr::str_detect() 함수이용 특정패턴 포함 요소내용: 대소문자 무시옵션 TRUE')\n",
    "my_det <- str_detect(regex(pattern = keyword, ignore_case = TRUE), string = my) \n",
    "my_det %>% print\n",
    "my[my_det] %>% print"
   ]
  },
  {
   "cell_type": "markdown",
   "metadata": {},
   "source": [
    "## 텍스트셋에 특정패턴 출현위치 파악\n",
    "* base:: 최초출현위치 regexpr(), 모든출현위치 gregexpr(), 중첩검색패턴 최초출현위치 regexec()\n",
    "* stringr:: 최초출현위치 str_locate(), 모든출현위치 str_locate_all()"
   ]
  },
  {
   "cell_type": "code",
   "execution_count": 10,
   "metadata": {},
   "outputs": [],
   "source": [
    "# 검색용 키워드 준비\n",
    "keyword = 'Packages'\n",
    "# - 검색패턴에 대소문자가 혼용되어 있는 상태임"
   ]
  },
  {
   "cell_type": "markdown",
   "metadata": {},
   "source": [
    "### 최초 출현위치"
   ]
  },
  {
   "cell_type": "code",
   "execution_count": 11,
   "metadata": {},
   "outputs": [
    {
     "data": {
      "text/html": [
       "'base::regexpr() 함수이용 최초 출현위치'"
      ],
      "text/latex": [
       "'base::regexpr() 함수이용 최초 출현위치'"
      ],
      "text/markdown": [
       "'base::regexpr() 함수이용 최초 출현위치'"
      ],
      "text/plain": [
       "[1] \"base::regexpr() 함수이용 최초 출현위치\""
      ]
     },
     "metadata": {},
     "output_type": "display_data"
    },
    {
     "name": "stdout",
     "output_type": "stream",
     "text": [
      "[1] -1\n",
      "attr(,\"match.length\")\n",
      "[1] -1\n",
      "attr(,\"index.type\")\n",
      "[1] \"chars\"\n",
      "attr(,\"useBytes\")\n",
      "[1] TRUE\n",
      "\n",
      "[1] 57\n",
      "attr(,\"match.length\")\n",
      "[1] 8\n",
      "attr(,\"index.type\")\n",
      "[1] \"chars\"\n",
      "attr(,\"useBytes\")\n",
      "[1] TRUE\n"
     ]
    },
    {
     "data": {
      "text/html": [
       "'stringr::str_locate() 함수이용 최초 출현위치'"
      ],
      "text/latex": [
       "'stringr::str\\_locate() 함수이용 최초 출현위치'"
      ],
      "text/markdown": [
       "'stringr::str_locate() 함수이용 최초 출현위치'"
      ],
      "text/plain": [
       "[1] \"stringr::str_locate() 함수이용 최초 출현위치\""
      ]
     },
     "metadata": {},
     "output_type": "display_data"
    },
    {
     "name": "stdout",
     "output_type": "stream",
     "text": [
      "     start end\n",
      "[1,]    NA  NA\n",
      "\n",
      "     start end\n",
      "[1,]    57  64\n"
     ]
    }
   ],
   "source": [
    "# 텍스트셋 안에 특정패턴 최초 출현위치 파악 \n",
    "# - 현재 1개 텍스트요소에 대한 검색이므로 검색패턴이 출현하는 최초 위치(자리)도 1개만 출력함\n",
    "# - 검색패턴이 해당 텍스트요소에 들어 있지 않으면 \n",
    "#   base::regexpr()은 -1을, stringr::str_locate()은 NA를 출력함\n",
    "\n",
    "sprintf('base::regexpr() 함수이용 최초 출현위치')\n",
    "print(regexpr(pattern = keyword, text = my))\n",
    "cat('\\n')\n",
    "print(regexpr(pattern = keyword, text = my, ignore.case = TRUE)) # 대소문자 무시옵션\n",
    "\n",
    "sprintf('stringr::str_locate() 함수이용 최초 출현위치')\n",
    "print(str_locate(pattern = keyword, string = my))\n",
    "cat('\\n')\n",
    "print(str_locate(regex(pattern = keyword, ignore_case = TRUE), string = my)) # 대소문자 무시옵션"
   ]
  },
  {
   "cell_type": "markdown",
   "metadata": {},
   "source": [
    "### 모든 출현위치"
   ]
  },
  {
   "cell_type": "code",
   "execution_count": 12,
   "metadata": {},
   "outputs": [
    {
     "data": {
      "text/html": [
       "'base::gregexpr() 함수이용 모든 출현위치'"
      ],
      "text/latex": [
       "'base::gregexpr() 함수이용 모든 출현위치'"
      ],
      "text/markdown": [
       "'base::gregexpr() 함수이용 모든 출현위치'"
      ],
      "text/plain": [
       "[1] \"base::gregexpr() 함수이용 모든 출현위치\""
      ]
     },
     "metadata": {},
     "output_type": "display_data"
    },
    {
     "name": "stdout",
     "output_type": "stream",
     "text": [
      "[[1]]\n",
      "[1] -1\n",
      "attr(,\"match.length\")\n",
      "[1] -1\n",
      "attr(,\"index.type\")\n",
      "[1] \"chars\"\n",
      "attr(,\"useBytes\")\n",
      "[1] TRUE\n",
      "\n",
      "[[1]]\n",
      "[1]   57  206  732  949 1030 1115 1158\n",
      "attr(,\"match.length\")\n",
      "[1] 8 8 8 8 8 8 8\n",
      "attr(,\"index.type\")\n",
      "[1] \"chars\"\n",
      "attr(,\"useBytes\")\n",
      "[1] TRUE\n",
      "\n"
     ]
    },
    {
     "data": {
      "text/html": [
       "'stringr::str_locate_all() 함수이용 모든 출현위치'"
      ],
      "text/latex": [
       "'stringr::str\\_locate\\_all() 함수이용 모든 출현위치'"
      ],
      "text/markdown": [
       "'stringr::str_locate_all() 함수이용 모든 출현위치'"
      ],
      "text/plain": [
       "[1] \"stringr::str_locate_all() 함수이용 모든 출현위치\""
      ]
     },
     "metadata": {},
     "output_type": "display_data"
    },
    {
     "name": "stdout",
     "output_type": "stream",
     "text": [
      "[[1]]\n",
      "     start end\n",
      "\n",
      "[[1]]\n",
      "     start  end\n",
      "[1,]    57   64\n",
      "[2,]   206  213\n",
      "[3,]   732  739\n",
      "[4,]   949  956\n",
      "[5,]  1030 1037\n",
      "[6,]  1115 1122\n",
      "[7,]  1158 1165\n",
      "\n"
     ]
    }
   ],
   "source": [
    "# 텍스트셋 안에 특정패턴 모든 출현위치 파악 \n",
    "# - 현재 1개 텍스트요소에 대한 검색인데, 검색패턴이 출현하는 모든 위치(자리)들을 출력함\n",
    "# - 검색패턴이 해당 텍스트요소에 들어 있지 않으면 \n",
    "#   base::gregexpr()은 -1을, stringr::str_locate_all()은 NA를 출력함\n",
    "\n",
    "sprintf('base::gregexpr() 함수이용 모든 출현위치')\n",
    "print(gregexpr(pattern = keyword, text = my))\n",
    "print(gregexpr(pattern = keyword, text = my, ignore.case = TRUE)) # 대소문자 무시옵션\n",
    "\n",
    "sprintf('stringr::str_locate_all() 함수이용 모든 출현위치')\n",
    "print(str_locate_all(pattern = keyword, string = my))\n",
    "print(str_locate_all(regex(pattern = keyword, ignore_case = TRUE), string = my)) # 대소문자 무시옵션"
   ]
  },
  {
   "cell_type": "markdown",
   "metadata": {},
   "source": [
    "## 텍스트셋에 특정패턴 출현내용 파악\n",
    "* base:: 최초출현내용 regexpr() & regmatches(), 모든출현내용 regexpr() & regmatches()  \n",
    "* stringr:: 최초출현내용 str_extract(), 모든출현내용 str_extract_all()"
   ]
  },
  {
   "cell_type": "code",
   "execution_count": 13,
   "metadata": {},
   "outputs": [],
   "source": [
    "# 검색용 키워드 준비\n",
    "keyword = 'Packages'\n",
    "# - 검색패턴에 대소문자가 혼용되어 있는 상태임"
   ]
  },
  {
   "cell_type": "markdown",
   "metadata": {},
   "source": [
    "### 최초 출현내용"
   ]
  },
  {
   "cell_type": "code",
   "execution_count": 14,
   "metadata": {},
   "outputs": [
    {
     "data": {
      "text/html": [
       "'base::regexpr() &amp; regmatches 함수이용 최초 출현내용: 세부연산과정 상세'"
      ],
      "text/latex": [
       "'base::regexpr() \\& regmatches 함수이용 최초 출현내용: 세부연산과정 상세'"
      ],
      "text/markdown": [
       "'base::regexpr() &amp; regmatches 함수이용 최초 출현내용: 세부연산과정 상세'"
      ],
      "text/plain": [
       "[1] \"base::regexpr() & regmatches 함수이용 최초 출현내용: 세부연산과정 상세\""
      ]
     },
     "metadata": {},
     "output_type": "display_data"
    },
    {
     "name": "stdout",
     "output_type": "stream",
     "text": [
      "[1] -1\n",
      "attr(,\"match.length\")\n",
      "[1] -1\n",
      "attr(,\"index.type\")\n",
      "[1] \"chars\"\n",
      "attr(,\"useBytes\")\n",
      "[1] TRUE\n",
      "\n",
      "character(0)\n",
      "\n",
      "#--------------------\n",
      "\n",
      "[1] 57\n",
      "attr(,\"match.length\")\n",
      "[1] 8\n",
      "attr(,\"index.type\")\n",
      "[1] \"chars\"\n",
      "attr(,\"useBytes\")\n",
      "[1] TRUE\n",
      "\n",
      "[1] \"packages\"\n"
     ]
    }
   ],
   "source": [
    "# 텍스트셋 안에 특정패턴 최초 출현내용 파악 \n",
    "\n",
    "sprintf('base::regexpr() & regmatches 함수이용 최초 출현내용: 세부연산과정 상세')\n",
    "# - 검색패턴이 해당 텍스트요소에 들어 있지 않으면 \n",
    "#   base::regexpr()은 -1을, regmatches는 character(0)을 출력 \n",
    "# - 검색패턴이 해당 텍스트요소에 들어 있으면 \n",
    "#   base::gregexpr()은 최초 출현위치 인덱스를, regmatches는 최초 출현내용을 출력 \n",
    "\n",
    "# 검색패턴 대소문자 구별옵션 ignore.case = FALSE인 경우\n",
    "tmp_loc <- regexpr(pattern = keyword, text = my, ignore.case = FALSE)\n",
    "print(tmp_loc)\n",
    "cat('\\n')\n",
    "tmp_ptr <- regmatches(x = my, m = tmp_loc)\n",
    "print(tmp_ptr)\n",
    "\n",
    "cat('\\n#--------------------\\n\\n')\n",
    "\n",
    "# 검색패턴 대소문자 구별옵션 ignore.case = TRUE인 경우\n",
    "tmp_loc <- regexpr(pattern = keyword, text = my, ignore.case = TRUE)\n",
    "print(tmp_loc)\n",
    "cat('\\n')\n",
    "tmp_ptr <- regmatches(x = my, m = tmp_loc)\n",
    "print(tmp_ptr)"
   ]
  },
  {
   "cell_type": "code",
   "execution_count": 15,
   "metadata": {},
   "outputs": [
    {
     "data": {
      "text/html": [
       "<span style=white-space:pre-wrap>'base::regexpr() &amp; regmatches  함수이용 최초 출현내용: 파이프연산자 이용'</span>"
      ],
      "text/latex": [
       "'base::regexpr() \\& regmatches  함수이용 최초 출현내용: 파이프연산자 이용'"
      ],
      "text/markdown": [
       "<span style=white-space:pre-wrap>'base::regexpr() &amp; regmatches  함수이용 최초 출현내용: 파이프연산자 이용'</span>"
      ],
      "text/plain": [
       "[1] \"base::regexpr() & regmatches  함수이용 최초 출현내용: 파이프연산자 이용\""
      ]
     },
     "metadata": {},
     "output_type": "display_data"
    },
    {
     "name": "stdout",
     "output_type": "stream",
     "text": [
      "character(0)\n",
      "[1] \"packages\"\n"
     ]
    },
    {
     "data": {
      "text/html": [
       "'stringr::str_extract() 함수이용 최초 출현내용'"
      ],
      "text/latex": [
       "'stringr::str\\_extract() 함수이용 최초 출현내용'"
      ],
      "text/markdown": [
       "'stringr::str_extract() 함수이용 최초 출현내용'"
      ],
      "text/plain": [
       "[1] \"stringr::str_extract() 함수이용 최초 출현내용\""
      ]
     },
     "metadata": {},
     "output_type": "display_data"
    },
    {
     "name": "stdout",
     "output_type": "stream",
     "text": [
      "[1] NA\n",
      "[1] \"packages\"\n"
     ]
    }
   ],
   "source": [
    "# 텍스트셋 안에 특정패턴 최초 출현내용 파악\n",
    "# - 현재 1개 텍스트요소에 대한 검색이므로 검색패턴이 출현하는 모든 내용도 1개만 출력함\n",
    "# - 검색패턴이 해당 텍스트요소에 들어 있지 않으면 \n",
    "#   base::regexpr()은 -1을, regmatches는 character(0), \n",
    "#   stringr::str_extract()은 NA를 출력함\n",
    "\n",
    "sprintf('base::regexpr() & regmatches  함수이용 최초 출현내용: 파이프연산자 이용')\n",
    "regexpr(pattern = keyword, text = my) %>% regmatches(x = my) %>% print\n",
    "regexpr(pattern = keyword, text = my, ignore.case = TRUE) %>% regmatches(x = my) %>% print\n",
    "\n",
    "sprintf('stringr::str_extract() 함수이용 최초 출현내용')\n",
    "str_extract(pattern = keyword, string = my) %>% print\n",
    "str_extract(regex(pattern = keyword, ignore_case = TRUE), string = my) %>% print"
   ]
  },
  {
   "cell_type": "markdown",
   "metadata": {},
   "source": [
    "### 모든 출현내용"
   ]
  },
  {
   "cell_type": "code",
   "execution_count": 16,
   "metadata": {},
   "outputs": [
    {
     "data": {
      "text/html": [
       "'base::gregexpr() &amp; regmatches 함수이용 모든 출현내용: 세부연산과정 상세'"
      ],
      "text/latex": [
       "'base::gregexpr() \\& regmatches 함수이용 모든 출현내용: 세부연산과정 상세'"
      ],
      "text/markdown": [
       "'base::gregexpr() &amp; regmatches 함수이용 모든 출현내용: 세부연산과정 상세'"
      ],
      "text/plain": [
       "[1] \"base::gregexpr() & regmatches 함수이용 모든 출현내용: 세부연산과정 상세\""
      ]
     },
     "metadata": {},
     "output_type": "display_data"
    },
    {
     "name": "stdout",
     "output_type": "stream",
     "text": [
      "[[1]]\n",
      "[1] -1\n",
      "attr(,\"match.length\")\n",
      "[1] -1\n",
      "attr(,\"index.type\")\n",
      "[1] \"chars\"\n",
      "attr(,\"useBytes\")\n",
      "[1] TRUE\n",
      "\n",
      "\n",
      "[[1]]\n",
      "character(0)\n",
      "\n",
      "\n",
      "#--------------------\n",
      "\n",
      "[[1]]\n",
      "[1]   57  206  732  949 1030 1115 1158\n",
      "attr(,\"match.length\")\n",
      "[1] 8 8 8 8 8 8 8\n",
      "attr(,\"index.type\")\n",
      "[1] \"chars\"\n",
      "attr(,\"useBytes\")\n",
      "[1] TRUE\n",
      "\n",
      "\n",
      "[[1]]\n",
      "[1] \"packages\" \"packages\" \"packages\" \"packages\" \"packages\" \"packages\" \"packages\"\n",
      "\n"
     ]
    }
   ],
   "source": [
    "# 텍스트셋 안에 특정패턴 모든 출현내용 파악 \n",
    "\n",
    "sprintf('base::gregexpr() & regmatches 함수이용 모든 출현내용: 세부연산과정 상세')\n",
    "# - 검색패턴이 해당 텍스트요소에 들어 있지 않으면 \n",
    "#   base::gregexpr()은 -1을, regmatches는 character(0)을 출력 \n",
    "# - 검색패턴이 해당 텍스트요소에 들어 있으면 \n",
    "#   base::gregexpr()은 모든 출현위치 인덱스를, regmatches는 모든 출현내용을 출력 \n",
    "\n",
    "# 검색패턴 대소문자 구별옵션 ignore.case = FALSE인 경우\n",
    "tmp_loc <- gregexpr(pattern = keyword, text = my, ignore.case = FALSE)\n",
    "print(tmp_loc)\n",
    "cat('\\n')\n",
    "tmp_ptr <- regmatches(x = my, m = tmp_loc)\n",
    "print(tmp_ptr)\n",
    "\n",
    "cat('\\n#--------------------\\n\\n')\n",
    "\n",
    "# 검색패턴 대소문자 구별옵션 ignore.case = TRUE인 경우\n",
    "tmp_loc <- gregexpr(pattern = keyword, text = my, ignore.case = TRUE)\n",
    "print(tmp_loc)\n",
    "cat('\\n')\n",
    "tmp_ptr <- regmatches(x = my, m = tmp_loc)\n",
    "print(tmp_ptr)"
   ]
  },
  {
   "cell_type": "code",
   "execution_count": 17,
   "metadata": {},
   "outputs": [
    {
     "data": {
      "text/html": [
       "<span style=white-space:pre-wrap>'base::gregexpr() &amp; regmatches  함수이용 모든 출현내용: 파이프연산자 이용'</span>"
      ],
      "text/latex": [
       "'base::gregexpr() \\& regmatches  함수이용 모든 출현내용: 파이프연산자 이용'"
      ],
      "text/markdown": [
       "<span style=white-space:pre-wrap>'base::gregexpr() &amp; regmatches  함수이용 모든 출현내용: 파이프연산자 이용'</span>"
      ],
      "text/plain": [
       "[1] \"base::gregexpr() & regmatches  함수이용 모든 출현내용: 파이프연산자 이용\""
      ]
     },
     "metadata": {},
     "output_type": "display_data"
    },
    {
     "name": "stdout",
     "output_type": "stream",
     "text": [
      "[[1]]\n",
      "character(0)\n",
      "\n",
      "[[1]]\n",
      "[1] \"packages\" \"packages\" \"packages\" \"packages\" \"packages\" \"packages\" \"packages\"\n",
      "\n"
     ]
    },
    {
     "data": {
      "text/html": [
       "'stringr::str_extract_all() 함수이용 모든 출현내용'"
      ],
      "text/latex": [
       "'stringr::str\\_extract\\_all() 함수이용 모든 출현내용'"
      ],
      "text/markdown": [
       "'stringr::str_extract_all() 함수이용 모든 출현내용'"
      ],
      "text/plain": [
       "[1] \"stringr::str_extract_all() 함수이용 모든 출현내용\""
      ]
     },
     "metadata": {},
     "output_type": "display_data"
    },
    {
     "name": "stdout",
     "output_type": "stream",
     "text": [
      "[[1]]\n",
      "character(0)\n",
      "\n",
      "[[1]]\n",
      "[1] \"packages\" \"packages\" \"packages\" \"packages\" \"packages\" \"packages\" \"packages\"\n",
      "\n"
     ]
    }
   ],
   "source": [
    "# 텍스트셋 안에 특정패턴 모든 출현내용 파악\n",
    "# - 현재 1개 텍스트요소에 대한 검색인데, 검색패턴이 출현하는 모든 내용을 출력함\n",
    "# - 검색패턴이 해당 텍스트요소에 들어 있지 않으면 character(0)을 출력함\n",
    "\n",
    "sprintf('base::gregexpr() & regmatches  함수이용 모든 출현내용: 파이프연산자 이용')\n",
    "gregexpr(pattern = keyword, text = my) %>% regmatches(x = my) %>% print\n",
    "gregexpr(pattern = keyword, text = my, ignore.case = TRUE) %>% regmatches(x = my) %>% print\n",
    "\n",
    "sprintf('stringr::str_extract_all() 함수이용 모든 출현내용')\n",
    "str_extract_all(pattern = keyword, string = my) %>% print\n",
    "str_extract_all(regex(pattern = keyword, ignore_case = TRUE), string = my) %>% print"
   ]
  },
  {
   "cell_type": "markdown",
   "metadata": {},
   "source": [
    "## 테스트셋에 특정패턴 출현횟수 파악\n",
    "* base:: gregexpr() & & regmatches & lenghts\n",
    "* stringr:: str_count()"
   ]
  },
  {
   "cell_type": "code",
   "execution_count": 18,
   "metadata": {},
   "outputs": [],
   "source": [
    "# 검색용 키워드 준비\n",
    "keyword = 'Packages'\n",
    "# - 검색패턴에 대소문자가 혼용되어 있는 상태임"
   ]
  },
  {
   "cell_type": "markdown",
   "metadata": {},
   "source": [
    "### 출현횟수: 세부연산과정 상세"
   ]
  },
  {
   "cell_type": "code",
   "execution_count": 19,
   "metadata": {},
   "outputs": [
    {
     "data": {
      "text/html": [
       "<span style=white-space:pre-wrap>'base::gregexpr() &amp; regmatches &amp; lengths  함수이용 출현횟수: 세부연산과정 상세'</span>"
      ],
      "text/latex": [
       "'base::gregexpr() \\& regmatches \\& lengths  함수이용 출현횟수: 세부연산과정 상세'"
      ],
      "text/markdown": [
       "<span style=white-space:pre-wrap>'base::gregexpr() &amp; regmatches &amp; lengths  함수이용 출현횟수: 세부연산과정 상세'</span>"
      ],
      "text/plain": [
       "[1] \"base::gregexpr() & regmatches & lengths  함수이용 출현횟수: 세부연산과정 상세\""
      ]
     },
     "metadata": {},
     "output_type": "display_data"
    },
    {
     "name": "stdout",
     "output_type": "stream",
     "text": [
      "[[1]]\n",
      "[1]   57  206  732  949 1030 1115 1158\n",
      "attr(,\"match.length\")\n",
      "[1] 8 8 8 8 8 8 8\n",
      "attr(,\"index.type\")\n",
      "[1] \"chars\"\n",
      "attr(,\"useBytes\")\n",
      "[1] TRUE\n",
      "\n",
      "[[1]]\n",
      "[1] \"packages\" \"packages\" \"packages\" \"packages\" \"packages\" \"packages\" \"packages\"\n",
      "\n",
      "[1] 7\n"
     ]
    }
   ],
   "source": [
    "# 대상텍스트에 변경대상 키워드 출현횟수를 파악\n",
    "sprintf('base::gregexpr() & regmatches & lengths  함수이용 출현횟수: 세부연산과정 상세')\n",
    "\n",
    "tmp_loc <- gregexpr(pattern = keyword, text = my, ignore.case = TRUE)\n",
    "print(tmp_loc)\n",
    "# - 해당표현이 출현한 모든 위치를 파악\n",
    "\n",
    "tmp_ptr <- regmatches(x = my, m = tmp_loc)\n",
    "print(tmp_ptr)\n",
    "# - 해당표현이 출현한 모든 내용을 파악: 리스트객체임\n",
    "\n",
    "lengths(tmp_ptr) %>% print\n",
    "# - 리스트객체에 대한 리스트항목별 세부요소갯수 산정"
   ]
  },
  {
   "cell_type": "markdown",
   "metadata": {},
   "source": [
    "### 출현횟수: 파이프연산자 이용"
   ]
  },
  {
   "cell_type": "code",
   "execution_count": 20,
   "metadata": {},
   "outputs": [
    {
     "data": {
      "text/html": [
       "<span style=white-space:pre-wrap>'base::gregexpr() &amp; regmatches  함수이용 출현횟수: 파이프연산자 이용'</span>"
      ],
      "text/latex": [
       "'base::gregexpr() \\& regmatches  함수이용 출현횟수: 파이프연산자 이용'"
      ],
      "text/markdown": [
       "<span style=white-space:pre-wrap>'base::gregexpr() &amp; regmatches  함수이용 출현횟수: 파이프연산자 이용'</span>"
      ],
      "text/plain": [
       "[1] \"base::gregexpr() & regmatches  함수이용 출현횟수: 파이프연산자 이용\""
      ]
     },
     "metadata": {},
     "output_type": "display_data"
    },
    {
     "name": "stdout",
     "output_type": "stream",
     "text": [
      "[1] 7\n"
     ]
    },
    {
     "data": {
      "text/html": [
       "'stringr::str_count() 함수이용 출현횟수'"
      ],
      "text/latex": [
       "'stringr::str\\_count() 함수이용 출현횟수'"
      ],
      "text/markdown": [
       "'stringr::str_count() 함수이용 출현횟수'"
      ],
      "text/plain": [
       "[1] \"stringr::str_count() 함수이용 출현횟수\""
      ]
     },
     "metadata": {},
     "output_type": "display_data"
    },
    {
     "name": "stdout",
     "output_type": "stream",
     "text": [
      "[1] 7\n"
     ]
    }
   ],
   "source": [
    "# 대상텍스트에 변경대상 키워드 포함갯수를 파악\n",
    "sprintf('base::gregexpr() & regmatches  함수이용 출현횟수: 파이프연산자 이용')\n",
    "gregexpr(pattern = keyword, text = my, ignore.case = TRUE) %>% regmatches(x = my) %>% lengths %>% print\n",
    "\n",
    "sprintf('stringr::str_count() 함수이용 출현횟수')\n",
    "str_count(regex(pattern = keyword, ignore_case = TRUE), string = my) %>% print"
   ]
  },
  {
   "cell_type": "markdown",
   "metadata": {},
   "source": [
    "## 원본패턴을 목표패턴으로 변경\n",
    "* base:: 최초패턴을 변경 sub(), 모든패턴을 변경 gsub()\n",
    "* stringr:: 최초패턴을 변경 str_replace(), 모든패턴을 변경 str_replace_all()"
   ]
  },
  {
   "cell_type": "code",
   "execution_count": 21,
   "metadata": {},
   "outputs": [
    {
     "name": "stdout",
     "output_type": "stream",
     "text": [
      "[1] \"The capabilities of R are extended through user-created packages, which allow specialised statistical techniques, graphical devices, import/export capabilities, reporting tools (knitr, Sweave), etc. These packages are developed primarily in R, and sometimes in Java, C, C++, and Fortran. The R packaging system is also used by researchers to create compendia to organise research data, code and report files in a systematic way for sharing and public archiving. \\nThe \\\"Task Views\\\" page (subject list) on the CRAN website lists a wide range of tasks (in fields such as Finance, Genetics, High Performance Computing, Machine Learning, Medical Imaging, Social Sciences and Spatial Statistics) to which R has been applied and for which packages are available. R has also been identified by the FDA as suitable for interpreting data from clinical research. Other R package resources include Crantastic, a community site for rating and reviewing all CRAN packages, and R-Forge, a central platform for the collaborative development of R packages, R-related software, and projects. R-Forge also hosts many unpublished beta packages, and development versions of CRAN packages.\"\n"
     ]
    }
   ],
   "source": [
    "# 대상텍스트데이터 재확인\n",
    "print(my)"
   ]
  },
  {
   "cell_type": "code",
   "execution_count": 22,
   "metadata": {},
   "outputs": [],
   "source": [
    "# 변경용 키워드 준비\n",
    "src = 'Packages' # 원본패턴\n",
    "tgt = 'library' # 목표패턴\n",
    "# - 검색용 원본패턴에 대소문자가 혼용되어 있는 상태임"
   ]
  },
  {
   "cell_type": "markdown",
   "metadata": {},
   "source": [
    "### 최초 출현내용 변경"
   ]
  },
  {
   "cell_type": "code",
   "execution_count": 23,
   "metadata": {},
   "outputs": [
    {
     "data": {
      "text/html": [
       "'base::sub() 함수이용 최초 출현내용 변경'"
      ],
      "text/latex": [
       "'base::sub() 함수이용 최초 출현내용 변경'"
      ],
      "text/markdown": [
       "'base::sub() 함수이용 최초 출현내용 변경'"
      ],
      "text/plain": [
       "[1] \"base::sub() 함수이용 최초 출현내용 변경\""
      ]
     },
     "metadata": {},
     "output_type": "display_data"
    },
    {
     "name": "stdout",
     "output_type": "stream",
     "text": [
      "[1] \"The capabilities of R are extended through user-created library, which allow specialised statistical techniques, graphical devices, import/export capabilities, reporting tools (knitr, Sweave), etc. These packages are developed primarily in R, and sometimes in Java, C, C++, and Fortran. The R packaging system is also used by researchers to create compendia to organise research data, code and report files in a systematic way for sharing and public archiving. \\nThe \\\"Task Views\\\" page (subject list) on the CRAN website lists a wide range of tasks (in fields such as Finance, Genetics, High Performance Computing, Machine Learning, Medical Imaging, Social Sciences and Spatial Statistics) to which R has been applied and for which packages are available. R has also been identified by the FDA as suitable for interpreting data from clinical research. Other R package resources include Crantastic, a community site for rating and reviewing all CRAN packages, and R-Forge, a central platform for the collaborative development of R packages, R-related software, and projects. R-Forge also hosts many unpublished beta packages, and development versions of CRAN packages.\"\n"
     ]
    },
    {
     "data": {
      "text/html": [
       "'stringr::str_replace() 함수이용 최초 출현내용 변경'"
      ],
      "text/latex": [
       "'stringr::str\\_replace() 함수이용 최초 출현내용 변경'"
      ],
      "text/markdown": [
       "'stringr::str_replace() 함수이용 최초 출현내용 변경'"
      ],
      "text/plain": [
       "[1] \"stringr::str_replace() 함수이용 최초 출현내용 변경\""
      ]
     },
     "metadata": {},
     "output_type": "display_data"
    },
    {
     "name": "stdout",
     "output_type": "stream",
     "text": [
      "[1] \"The capabilities of R are extended through user-created library, which allow specialised statistical techniques, graphical devices, import/export capabilities, reporting tools (knitr, Sweave), etc. These packages are developed primarily in R, and sometimes in Java, C, C++, and Fortran. The R packaging system is also used by researchers to create compendia to organise research data, code and report files in a systematic way for sharing and public archiving. \\nThe \\\"Task Views\\\" page (subject list) on the CRAN website lists a wide range of tasks (in fields such as Finance, Genetics, High Performance Computing, Machine Learning, Medical Imaging, Social Sciences and Spatial Statistics) to which R has been applied and for which packages are available. R has also been identified by the FDA as suitable for interpreting data from clinical research. Other R package resources include Crantastic, a community site for rating and reviewing all CRAN packages, and R-Forge, a central platform for the collaborative development of R packages, R-related software, and projects. R-Forge also hosts many unpublished beta packages, and development versions of CRAN packages.\"\n"
     ]
    }
   ],
   "source": [
    "# 텍스트데이터내 원본패턴 중 최초 출현내용을 목표패턴으로 변경\n",
    "\n",
    "sprintf('base::sub() 함수이용 최초 출현내용 변경')\n",
    "my_sub <- sub(pattern = src, replacement = tgt, x = my, ignore.case = TRUE)\n",
    "print(my_sub)\n",
    "\n",
    "sprintf('stringr::str_replace() 함수이용 최초 출현내용 변경')\n",
    "my_rep <- str_replace(regex(pattern = keyword, ignore_case = TRUE), replacement = tgt, string = my)\n",
    "print(my_rep)"
   ]
  },
  {
   "cell_type": "code",
   "execution_count": 24,
   "metadata": {},
   "outputs": [
    {
     "data": {
      "text/html": [
       "'원본패턴 Packages 출현횟수:'"
      ],
      "text/latex": [
       "'원본패턴 Packages 출현횟수:'"
      ],
      "text/markdown": [
       "'원본패턴 Packages 출현횟수:'"
      ],
      "text/plain": [
       "[1] \"원본패턴 Packages 출현횟수:\""
      ]
     },
     "metadata": {},
     "output_type": "display_data"
    },
    {
     "name": "stdout",
     "output_type": "stream",
     "text": [
      "[1] 6\n",
      "[1] 6\n"
     ]
    },
    {
     "data": {
      "text/html": [
       "'목표패턴 library 출현횟수:'"
      ],
      "text/latex": [
       "'목표패턴 library 출현횟수:'"
      ],
      "text/markdown": [
       "'목표패턴 library 출현횟수:'"
      ],
      "text/plain": [
       "[1] \"목표패턴 library 출현횟수:\""
      ]
     },
     "metadata": {},
     "output_type": "display_data"
    },
    {
     "name": "stdout",
     "output_type": "stream",
     "text": [
      "[1] 1\n",
      "[1] 1\n"
     ]
    }
   ],
   "source": [
    "# 최초 춯현내용 변경여부 파악\n",
    "\n",
    "src = 'Packages' # 원본패턴\n",
    "tgt = 'library' # 목표패턴\n",
    "\n",
    "# 대상텍스트에 변경대상 키워드 포함갯수를 파악\n",
    "sprintf('원본패턴 %s 출현횟수:', src) \n",
    "gregexpr(pattern = src, text = my_sub, ignore.case = TRUE) %>% regmatches(x = my_sub) %>% lengths %>% print\n",
    "str_count(regex(pattern = src, ignore_case = TRUE), string = my_sub) %>% print\n",
    "\n",
    "sprintf('목표패턴 %s 출현횟수:', tgt)\n",
    "gregexpr(pattern = tgt, text = my_rep, ignore.case = TRUE) %>% regmatches(x = my_rep) %>% lengths %>% print\n",
    "str_count(regex(pattern = tgt, ignore_case = TRUE), string = my_rep) %>% print"
   ]
  },
  {
   "cell_type": "markdown",
   "metadata": {},
   "source": [
    "### 모든 출현내용 변경"
   ]
  },
  {
   "cell_type": "code",
   "execution_count": 25,
   "metadata": {},
   "outputs": [
    {
     "data": {
      "text/html": [
       "'base::gsub() 함수이용 모든 출현내용 변경'"
      ],
      "text/latex": [
       "'base::gsub() 함수이용 모든 출현내용 변경'"
      ],
      "text/markdown": [
       "'base::gsub() 함수이용 모든 출현내용 변경'"
      ],
      "text/plain": [
       "[1] \"base::gsub() 함수이용 모든 출현내용 변경\""
      ]
     },
     "metadata": {},
     "output_type": "display_data"
    },
    {
     "name": "stdout",
     "output_type": "stream",
     "text": [
      "[1] \"The capabilities of R are extended through user-created library, which allow specialised statistical techniques, graphical devices, import/export capabilities, reporting tools (knitr, Sweave), etc. These library are developed primarily in R, and sometimes in Java, C, C++, and Fortran. The R packaging system is also used by researchers to create compendia to organise research data, code and report files in a systematic way for sharing and public archiving. \\nThe \\\"Task Views\\\" page (subject list) on the CRAN website lists a wide range of tasks (in fields such as Finance, Genetics, High Performance Computing, Machine Learning, Medical Imaging, Social Sciences and Spatial Statistics) to which R has been applied and for which library are available. R has also been identified by the FDA as suitable for interpreting data from clinical research. Other R package resources include Crantastic, a community site for rating and reviewing all CRAN library, and R-Forge, a central platform for the collaborative development of R library, R-related software, and projects. R-Forge also hosts many unpublished beta library, and development versions of CRAN library.\"\n"
     ]
    },
    {
     "data": {
      "text/html": [
       "'stringr::str_replace_all() 함수이용 모든 출현내용 변경'"
      ],
      "text/latex": [
       "'stringr::str\\_replace\\_all() 함수이용 모든 출현내용 변경'"
      ],
      "text/markdown": [
       "'stringr::str_replace_all() 함수이용 모든 출현내용 변경'"
      ],
      "text/plain": [
       "[1] \"stringr::str_replace_all() 함수이용 모든 출현내용 변경\""
      ]
     },
     "metadata": {},
     "output_type": "display_data"
    },
    {
     "name": "stdout",
     "output_type": "stream",
     "text": [
      "[1] \"The capabilities of R are extended through user-created library, which allow specialised statistical techniques, graphical devices, import/export capabilities, reporting tools (knitr, Sweave), etc. These library are developed primarily in R, and sometimes in Java, C, C++, and Fortran. The R packaging system is also used by researchers to create compendia to organise research data, code and report files in a systematic way for sharing and public archiving. \\nThe \\\"Task Views\\\" page (subject list) on the CRAN website lists a wide range of tasks (in fields such as Finance, Genetics, High Performance Computing, Machine Learning, Medical Imaging, Social Sciences and Spatial Statistics) to which R has been applied and for which library are available. R has also been identified by the FDA as suitable for interpreting data from clinical research. Other R package resources include Crantastic, a community site for rating and reviewing all CRAN library, and R-Forge, a central platform for the collaborative development of R library, R-related software, and projects. R-Forge also hosts many unpublished beta library, and development versions of CRAN library.\"\n"
     ]
    }
   ],
   "source": [
    "# 텍스트데이터내 원본패턴 중 모든 출현내용을 목표패턴으로 변경\n",
    "\n",
    "sprintf('base::gsub() 함수이용 모든 출현내용 변경')\n",
    "my_gsub <- gsub(pattern = src, replacement = tgt, x = my, ignore.case = TRUE)\n",
    "print(my_gsub)\n",
    "\n",
    "sprintf('stringr::str_replace_all() 함수이용 모든 출현내용 변경')\n",
    "my_rep_all <- str_replace_all(regex(pattern = keyword, ignore_case = TRUE), replacement = tgt, string = my)\n",
    "print(my_rep_all)"
   ]
  },
  {
   "cell_type": "code",
   "execution_count": 26,
   "metadata": {},
   "outputs": [
    {
     "data": {
      "text/html": [
       "'원본패턴 Packages 출현횟수:'"
      ],
      "text/latex": [
       "'원본패턴 Packages 출현횟수:'"
      ],
      "text/markdown": [
       "'원본패턴 Packages 출현횟수:'"
      ],
      "text/plain": [
       "[1] \"원본패턴 Packages 출현횟수:\""
      ]
     },
     "metadata": {},
     "output_type": "display_data"
    },
    {
     "name": "stdout",
     "output_type": "stream",
     "text": [
      "[1] 0\n",
      "[1] 0\n"
     ]
    },
    {
     "data": {
      "text/html": [
       "'목표패턴 library 출현횟수:'"
      ],
      "text/latex": [
       "'목표패턴 library 출현횟수:'"
      ],
      "text/markdown": [
       "'목표패턴 library 출현횟수:'"
      ],
      "text/plain": [
       "[1] \"목표패턴 library 출현횟수:\""
      ]
     },
     "metadata": {},
     "output_type": "display_data"
    },
    {
     "name": "stdout",
     "output_type": "stream",
     "text": [
      "[1] 7\n",
      "[1] 7\n"
     ]
    }
   ],
   "source": [
    "# 모든 춯현내용 변경여부 파악\n",
    "\n",
    "src = 'Packages' # 원본패턴\n",
    "tgt = 'library' # 목표패턴\n",
    "\n",
    "# 대상텍스트에 변경대상 키워드 포함갯수를 파악\n",
    "sprintf('원본패턴 %s 출현횟수:', src) \n",
    "gregexpr(pattern = src, text = my_gsub, ignore.case = TRUE) %>% regmatches(x = my_gsub) %>% lengths %>% print\n",
    "str_count(regex(pattern = src, ignore_case = TRUE), string = my_gsub) %>% print\n",
    "\n",
    "sprintf('목표패턴 %s 출현횟수:', tgt)\n",
    "gregexpr(pattern = tgt, text = my_rep_all, ignore.case = TRUE) %>% regmatches(x = my_rep_all) %>% lengths %>% print\n",
    "str_count(regex(pattern = tgt, ignore_case = TRUE), string = my_rep_all) %>% print"
   ]
  },
  {
   "cell_type": "markdown",
   "metadata": {},
   "source": [
    "# <font color = 'blue'>텍스트셋에서 특정패턴 탐색: 대상객체가 여러 개 요소인 경우(p.59, p.73)</font>\n",
    "* 원본텍스트셋 --> 문단단위 분해 --> 각 문단별 문장단위 분해 --> 순수 문장단위화\n",
    "* base패키지(p.59)와 stringr패키지(p.73) 병행사용\n",
    "* 텍스트셋 안에 특정패턴의 포함여부, 출현위치, 출현내용, 출현횟수 파악\n",
    "* 텍스트셋 안에 원본패턴을 목표패턴으로 변경"
   ]
  },
  {
   "cell_type": "markdown",
   "metadata": {},
   "source": [
    "## 텍스트 데이터 준비\n",
    "* 원본 --> 문단단위(리스트구조) --> 문장단위(리스트구조) --> 순수문장단위(벡터구조)"
   ]
  },
  {
   "cell_type": "markdown",
   "metadata": {},
   "source": [
    "### 원본 텍스트데이터"
   ]
  },
  {
   "cell_type": "code",
   "execution_count": 27,
   "metadata": {},
   "outputs": [
    {
     "data": {
      "text/html": [
       "'원본내용:'"
      ],
      "text/latex": [
       "'원본내용:'"
      ],
      "text/markdown": [
       "'원본내용:'"
      ],
      "text/plain": [
       "[1] \"원본내용:\""
      ]
     },
     "metadata": {},
     "output_type": "display_data"
    },
    {
     "name": "stdout",
     "output_type": "stream",
     "text": [
      "[1] \"The capabilities of R are extended through user-created packages, which allow specialised statistical techniques, graphical devices, import/export capabilities, reporting tools (knitr, Sweave), etc. These packages are developed primarily in R, and sometimes in Java, C, C++, and Fortran. The R packaging system is also used by researchers to create compendia to organise research data, code and report files in a systematic way for sharing and public archiving. \\nThe \\\"Task Views\\\" page (subject list) on the CRAN website lists a wide range of tasks (in fields such as Finance, Genetics, High Performance Computing, Machine Learning, Medical Imaging, Social Sciences and Spatial Statistics) to which R has been applied and for which packages are available. R has also been identified by the FDA as suitable for interpreting data from clinical research. Other R package resources include Crantastic, a community site for rating and reviewing all CRAN packages, and R-Forge, a central platform for the collaborative development of R packages, R-related software, and projects. R-Forge also hosts many unpublished beta packages, and development versions of CRAN packages.\"\n"
     ]
    },
    {
     "data": {
      "text/html": [
       "'객체유형: character객체'"
      ],
      "text/latex": [
       "'객체유형: character객체'"
      ],
      "text/markdown": [
       "'객체유형: character객체'"
      ],
      "text/plain": [
       "[1] \"객체유형: character객체\""
      ]
     },
     "metadata": {},
     "output_type": "display_data"
    },
    {
     "data": {
      "text/html": [
       "'객체길이: 1요소'"
      ],
      "text/latex": [
       "'객체길이: 1요소'"
      ],
      "text/markdown": [
       "'객체길이: 1요소'"
      ],
      "text/plain": [
       "[1] \"객체길이: 1요소\""
      ]
     },
     "metadata": {},
     "output_type": "display_data"
    },
    {
     "data": {
      "text/html": [
       "'원본글자수: 1166글자'"
      ],
      "text/latex": [
       "'원본글자수: 1166글자'"
      ],
      "text/markdown": [
       "'원본글자수: 1166글자'"
      ],
      "text/plain": [
       "[1] \"원본글자수: 1166글자\""
      ]
     },
     "metadata": {},
     "output_type": "display_data"
    }
   ],
   "source": [
    "# 분석대상 텍스트 데이터 원본 준비\n",
    "my <- 'The capabilities of R are extended through user-created packages, which allow specialised statistical techniques, graphical devices, import/export capabilities, reporting tools (knitr, Sweave), etc. These packages are developed primarily in R, and sometimes in Java, C, C++, and Fortran. The R packaging system is also used by researchers to create compendia to organise research data, code and report files in a systematic way for sharing and public archiving. \n",
    "The \"Task Views\" page (subject list) on the CRAN website lists a wide range of tasks (in fields such as Finance, Genetics, High Performance Computing, Machine Learning, Medical Imaging, Social Sciences and Spatial Statistics) to which R has been applied and for which packages are available. R has also been identified by the FDA as suitable for interpreting data from clinical research. Other R package resources include Crantastic, a community site for rating and reviewing all CRAN packages, and R-Forge, a central platform for the collaborative development of R packages, R-related software, and projects. R-Forge also hosts many unpublished beta packages, and development versions of CRAN packages.'\n",
    "\n",
    "sprintf('원본내용:')\n",
    "print(my)\n",
    "\n",
    "sprintf('객체유형: %s객체', class(my))\n",
    "sprintf('객체길이: %d요소', length(my))\n",
    "\n",
    "sprintf('원본글자수: %d글자', nchar(my))\n",
    "# - sprintf('검색대상 객체글자수: %d글자', str_length(my))"
   ]
  },
  {
   "cell_type": "markdown",
   "metadata": {},
   "source": [
    "### 원본을 문단(paragraph) 단위 분해"
   ]
  },
  {
   "cell_type": "code",
   "execution_count": 28,
   "metadata": {},
   "outputs": [
    {
     "data": {
      "text/html": [
       "'객체내용:'"
      ],
      "text/latex": [
       "'객체내용:'"
      ],
      "text/markdown": [
       "'객체내용:'"
      ],
      "text/plain": [
       "[1] \"객체내용:\""
      ]
     },
     "metadata": {},
     "output_type": "display_data"
    },
    {
     "name": "stdout",
     "output_type": "stream",
     "text": [
      "[[1]]\n",
      "[1] \"The capabilities of R are extended through user-created packages, which allow specialised statistical techniques, graphical devices, import/export capabilities, reporting tools (knitr, Sweave), etc. These packages are developed primarily in R, and sometimes in Java, C, C++, and Fortran. The R packaging system is also used by researchers to create compendia to organise research data, code and report files in a systematic way for sharing and public archiving. \"                                                                                                                                                                                                                                                   \n",
      "[2] \"The \\\"Task Views\\\" page (subject list) on the CRAN website lists a wide range of tasks (in fields such as Finance, Genetics, High Performance Computing, Machine Learning, Medical Imaging, Social Sciences and Spatial Statistics) to which R has been applied and for which packages are available. R has also been identified by the FDA as suitable for interpreting data from clinical research. Other R package resources include Crantastic, a community site for rating and reviewing all CRAN packages, and R-Forge, a central platform for the collaborative development of R packages, R-related software, and projects. R-Forge also hosts many unpublished beta packages, and development versions of CRAN packages.\"\n",
      "\n"
     ]
    },
    {
     "data": {
      "text/html": [
       "'객체유형: list객체'"
      ],
      "text/latex": [
       "'객체유형: list객체'"
      ],
      "text/markdown": [
       "'객체유형: list객체'"
      ],
      "text/plain": [
       "[1] \"객체유형: list객체\""
      ]
     },
     "metadata": {},
     "output_type": "display_data"
    },
    {
     "data": {
      "text/html": [
       "'객체길이: 1요소'"
      ],
      "text/latex": [
       "'객체길이: 1요소'"
      ],
      "text/markdown": [
       "'객체길이: 1요소'"
      ],
      "text/plain": [
       "[1] \"객체길이: 1요소\""
      ]
     },
     "metadata": {},
     "output_type": "display_data"
    },
    {
     "data": {
      "text/html": [
       "'문단갯수: 2개'"
      ],
      "text/latex": [
       "'문단갯수: 2개'"
      ],
      "text/markdown": [
       "'문단갯수: 2개'"
      ],
      "text/plain": [
       "[1] \"문단갯수: 2개\""
      ]
     },
     "metadata": {},
     "output_type": "display_data"
    },
    {
     "data": {
      "text/html": [
       "'문단별 글자수:'"
      ],
      "text/latex": [
       "'문단별 글자수:'"
      ],
      "text/markdown": [
       "'문단별 글자수:'"
      ],
      "text/plain": [
       "[1] \"문단별 글자수:\""
      ]
     },
     "metadata": {},
     "output_type": "display_data"
    },
    {
     "name": "stdout",
     "output_type": "stream",
     "text": [
      "[1] 462 703\n"
     ]
    }
   ],
   "source": [
    "# 원본을 문단(paragraph) 단위로 분해\n",
    "my_para <- strsplit(my, split = '\\n')\n",
    "# - my_para <- stringr::str_split(my, pattern = '\\n') 으로 코딩해도 됨\n",
    "\n",
    "sprintf('객체내용:')\n",
    "print(my_para)\n",
    "\n",
    "sprintf('객체유형: %s객체', class(my_para))\n",
    "sprintf('객체길이: %d요소', length(my_para))\n",
    "sprintf('문단갯수: %d개', lengths(my_para))\n",
    "\n",
    "sprintf('문단별 글자수:') \n",
    "nchar(my_para[[1]]) %>% print\n",
    "# - stringr::str_length(my_para[[1]]) %>% print 으로 코딩해도 됨"
   ]
  },
  {
   "cell_type": "markdown",
   "metadata": {},
   "source": [
    "### 각 문단을 문장(sentence) 단위 분해"
   ]
  },
  {
   "cell_type": "code",
   "execution_count": 29,
   "metadata": {
    "scrolled": false
   },
   "outputs": [
    {
     "data": {
      "text/html": [
       "'객체내용:'"
      ],
      "text/latex": [
       "'객체내용:'"
      ],
      "text/markdown": [
       "'객체내용:'"
      ],
      "text/plain": [
       "[1] \"객체내용:\""
      ]
     },
     "metadata": {},
     "output_type": "display_data"
    },
    {
     "name": "stdout",
     "output_type": "stream",
     "text": [
      "[[1]]\n",
      "[1] \"The capabilities of R are extended through user-created packages, which allow specialised statistical techniques, graphical devices, import/export capabilities, reporting tools (knitr, Sweave), etc\"\n",
      "[2] \"These packages are developed primarily in R, and sometimes in Java, C, C++, and Fortran\"                                                                                                              \n",
      "[3] \"The R packaging system is also used by researchers to create compendia to organise research data, code and report files in a systematic way for sharing and public archiving\"                         \n",
      "\n",
      "[[2]]\n",
      "[1] \"The \\\"Task Views\\\" page (subject list) on the CRAN website lists a wide range of tasks (in fields such as Finance, Genetics, High Performance Computing, Machine Learning, Medical Imaging, Social Sciences and Spatial Statistics) to which R has been applied and for which packages are available\"\n",
      "[2] \"R has also been identified by the FDA as suitable for interpreting data from clinical research\"                                                                                                                                                                                                      \n",
      "[3] \"Other R package resources include Crantastic, a community site for rating and reviewing all CRAN packages, and R-Forge, a central platform for the collaborative development of R packages, R-related software, and projects\"                                                                        \n",
      "[4] \"R-Forge also hosts many unpublished beta packages, and development versions of CRAN packages.\"                                                                                                                                                                                                       \n",
      "\n"
     ]
    },
    {
     "data": {
      "text/html": [
       "'객체유형: list객체'"
      ],
      "text/latex": [
       "'객체유형: list객체'"
      ],
      "text/markdown": [
       "'객체유형: list객체'"
      ],
      "text/plain": [
       "[1] \"객체유형: list객체\""
      ]
     },
     "metadata": {},
     "output_type": "display_data"
    },
    {
     "data": {
      "text/html": [
       "'문단길이: 2요소'"
      ],
      "text/latex": [
       "'문단길이: 2요소'"
      ],
      "text/markdown": [
       "'문단길이: 2요소'"
      ],
      "text/plain": [
       "[1] \"문단길이: 2요소\""
      ]
     },
     "metadata": {},
     "output_type": "display_data"
    },
    {
     "data": {
      "text/html": [
       "'문단별 문장갯수:'"
      ],
      "text/latex": [
       "'문단별 문장갯수:'"
      ],
      "text/markdown": [
       "'문단별 문장갯수:'"
      ],
      "text/plain": [
       "[1] \"문단별 문장갯수:\""
      ]
     },
     "metadata": {},
     "output_type": "display_data"
    },
    {
     "name": "stdout",
     "output_type": "stream",
     "text": [
      "[1] 3 4\n"
     ]
    },
    {
     "data": {
      "text/html": [
       "'문단별 글자갯수:'"
      ],
      "text/latex": [
       "'문단별 글자갯수:'"
      ],
      "text/markdown": [
       "'문단별 글자갯수:'"
      ],
      "text/plain": [
       "[1] \"문단별 글자갯수:\""
      ]
     },
     "metadata": {},
     "output_type": "display_data"
    },
    {
     "name": "stdout",
     "output_type": "stream",
     "text": [
      "[1] 469 717\n"
     ]
    },
    {
     "data": {
      "text/html": [
       "'문단의 문장별 글자갯수:'"
      ],
      "text/latex": [
       "'문단의 문장별 글자갯수:'"
      ],
      "text/markdown": [
       "'문단의 문장별 글자갯수:'"
      ],
      "text/plain": [
       "[1] \"문단의 문장별 글자갯수:\""
      ]
     },
     "metadata": {},
     "output_type": "display_data"
    },
    {
     "name": "stdout",
     "output_type": "stream",
     "text": [
      "[[1]]\n",
      "[1] 197  87 172\n",
      "\n",
      "[[2]]\n",
      "[1] 290  94 220  93\n",
      "\n"
     ]
    }
   ],
   "source": [
    "# 각 문단(paragraph)을 문장(sentence) 단위로 분해\n",
    "my_para_sent <- strsplit(my_para[[1]], split = '\\\\. ')\n",
    "# - my_para <- stringr::str_split(my_para, pattern = '\\\\.')으로 코딩해도 됨\n",
    "\n",
    "sprintf('객체내용:')\n",
    "print(my_para_sent)\n",
    "\n",
    "sprintf('객체유형: %s객체', class(my_para_sent))\n",
    "sprintf('문단길이: %d요소', length(my_para_sent))\n",
    "\n",
    "sprintf('문단별 문장갯수:')\n",
    "lengths(my_para_sent) %>% print\n",
    "\n",
    "sprintf('문단별 글자갯수:')\n",
    "nchar(my_para_sent) %>% print\n",
    "# - str_length(my_para_sent) %>% print 으로 코딩해도 됨\n",
    "\n",
    "sprintf('문단의 문장별 글자갯수:')\n",
    "sapply(my_para_sent, nchar) %>% print\n",
    "# - map(my_para_sent, str_length) %>% print 으로 코딩해도 됨"
   ]
  },
  {
   "cell_type": "markdown",
   "metadata": {},
   "source": [
    "### 순수 문장(sentence) 단위화(벡터객체)"
   ]
  },
  {
   "cell_type": "code",
   "execution_count": 30,
   "metadata": {},
   "outputs": [
    {
     "data": {
      "text/html": [
       "'객체내용:'"
      ],
      "text/latex": [
       "'객체내용:'"
      ],
      "text/markdown": [
       "'객체내용:'"
      ],
      "text/plain": [
       "[1] \"객체내용:\""
      ]
     },
     "metadata": {},
     "output_type": "display_data"
    },
    {
     "name": "stdout",
     "output_type": "stream",
     "text": [
      "[1] \"The capabilities of R are extended through user-created packages, which allow specialised statistical techniques, graphical devices, import/export capabilities, reporting tools (knitr, Sweave), etc\"                                                                                               \n",
      "[2] \"These packages are developed primarily in R, and sometimes in Java, C, C++, and Fortran\"                                                                                                                                                                                                             \n",
      "[3] \"The R packaging system is also used by researchers to create compendia to organise research data, code and report files in a systematic way for sharing and public archiving\"                                                                                                                        \n",
      "[4] \"The \\\"Task Views\\\" page (subject list) on the CRAN website lists a wide range of tasks (in fields such as Finance, Genetics, High Performance Computing, Machine Learning, Medical Imaging, Social Sciences and Spatial Statistics) to which R has been applied and for which packages are available\"\n",
      "[5] \"R has also been identified by the FDA as suitable for interpreting data from clinical research\"                                                                                                                                                                                                      \n",
      "[6] \"Other R package resources include Crantastic, a community site for rating and reviewing all CRAN packages, and R-Forge, a central platform for the collaborative development of R packages, R-related software, and projects\"                                                                        \n",
      "[7] \"R-Forge also hosts many unpublished beta packages, and development versions of CRAN packages.\"                                                                                                                                                                                                       \n"
     ]
    },
    {
     "data": {
      "text/html": [
       "'객체유형: character객체'"
      ],
      "text/latex": [
       "'객체유형: character객체'"
      ],
      "text/markdown": [
       "'객체유형: character객체'"
      ],
      "text/plain": [
       "[1] \"객체유형: character객체\""
      ]
     },
     "metadata": {},
     "output_type": "display_data"
    },
    {
     "data": {
      "text/html": [
       "'문단길이: 7요소'"
      ],
      "text/latex": [
       "'문단길이: 7요소'"
      ],
      "text/markdown": [
       "'문단길이: 7요소'"
      ],
      "text/plain": [
       "[1] \"문단길이: 7요소\""
      ]
     },
     "metadata": {},
     "output_type": "display_data"
    },
    {
     "name": "stdout",
     "output_type": "stream",
     "text": [
      "[1] \"문장갯수: 7개\"\n"
     ]
    },
    {
     "data": {
      "text/html": [
       "'문장별 글자갯수:'"
      ],
      "text/latex": [
       "'문장별 글자갯수:'"
      ],
      "text/markdown": [
       "'문장별 글자갯수:'"
      ],
      "text/plain": [
       "[1] \"문장별 글자갯수:\""
      ]
     },
     "metadata": {},
     "output_type": "display_data"
    },
    {
     "name": "stdout",
     "output_type": "stream",
     "text": [
      "[1] 197  87 172 290  94 220  93\n"
     ]
    }
   ],
   "source": [
    "# 문단구조(리스트객체)를 해제하고 순수한 문장(sentence) 단위(벡터객체)로 구성\n",
    "my_sent <- unlist(my_para_sent)\n",
    "\n",
    "sprintf('객체내용:')\n",
    "print(my_sent)\n",
    "\n",
    "sprintf('객체유형: %s객체', class(my_sent))\n",
    "sprintf('문단길이: %d요소', length(my_sent))\n",
    "sprintf('문장갯수: %d개', length(my_sent)) %>% print\n",
    "\n",
    "sprintf('문장별 글자갯수:')\n",
    "nchar(my_sent) %>% print\n",
    "# - str_length(my_para_sent) %>% print 으로 코딩해도 됨"
   ]
  },
  {
   "cell_type": "markdown",
   "metadata": {},
   "source": [
    "## 텍스트셋에 특정패턴 포함여부 파악\n",
    "* base:: 논리값으로 grep(), 요소인덱스번호로 grepl()\n",
    "* stringr:: 논리값으로 str_detect(), 요소인덱스번호로 str_detect() & which()"
   ]
  },
  {
   "cell_type": "code",
   "execution_count": 31,
   "metadata": {},
   "outputs": [],
   "source": [
    "# 검색용 키워드 준비\n",
    "keyword = 'Packages'\n",
    "# - 검색패턴에 대소문자가 혼용되어 있는 상태임"
   ]
  },
  {
   "cell_type": "markdown",
   "metadata": {},
   "source": [
    "### 포함여부를 논리값으로"
   ]
  },
  {
   "cell_type": "code",
   "execution_count": 32,
   "metadata": {
    "code_folding": []
   },
   "outputs": [
    {
     "data": {
      "text/html": [
       "'base::grepl() 함수이용 특정패턴 포함유무'"
      ],
      "text/latex": [
       "'base::grepl() 함수이용 특정패턴 포함유무'"
      ],
      "text/markdown": [
       "'base::grepl() 함수이용 특정패턴 포함유무'"
      ],
      "text/plain": [
       "[1] \"base::grepl() 함수이용 특정패턴 포함유무\""
      ]
     },
     "metadata": {},
     "output_type": "display_data"
    },
    {
     "data": {
      "text/html": [
       "<ol class=list-inline>\n",
       "\t<li>FALSE</li>\n",
       "\t<li>FALSE</li>\n",
       "\t<li>FALSE</li>\n",
       "\t<li>FALSE</li>\n",
       "\t<li>FALSE</li>\n",
       "\t<li>FALSE</li>\n",
       "\t<li>FALSE</li>\n",
       "</ol>\n"
      ],
      "text/latex": [
       "\\begin{enumerate*}\n",
       "\\item FALSE\n",
       "\\item FALSE\n",
       "\\item FALSE\n",
       "\\item FALSE\n",
       "\\item FALSE\n",
       "\\item FALSE\n",
       "\\item FALSE\n",
       "\\end{enumerate*}\n"
      ],
      "text/markdown": [
       "1. FALSE\n",
       "2. FALSE\n",
       "3. FALSE\n",
       "4. FALSE\n",
       "5. FALSE\n",
       "6. FALSE\n",
       "7. FALSE\n",
       "\n",
       "\n"
      ],
      "text/plain": [
       "[1] FALSE FALSE FALSE FALSE FALSE FALSE FALSE"
      ]
     },
     "metadata": {},
     "output_type": "display_data"
    },
    {
     "data": {
      "text/html": [
       "<ol class=list-inline>\n",
       "\t<li>TRUE</li>\n",
       "\t<li>TRUE</li>\n",
       "\t<li>FALSE</li>\n",
       "\t<li>TRUE</li>\n",
       "\t<li>FALSE</li>\n",
       "\t<li>TRUE</li>\n",
       "\t<li>TRUE</li>\n",
       "</ol>\n"
      ],
      "text/latex": [
       "\\begin{enumerate*}\n",
       "\\item TRUE\n",
       "\\item TRUE\n",
       "\\item FALSE\n",
       "\\item TRUE\n",
       "\\item FALSE\n",
       "\\item TRUE\n",
       "\\item TRUE\n",
       "\\end{enumerate*}\n"
      ],
      "text/markdown": [
       "1. TRUE\n",
       "2. TRUE\n",
       "3. FALSE\n",
       "4. TRUE\n",
       "5. FALSE\n",
       "6. TRUE\n",
       "7. TRUE\n",
       "\n",
       "\n"
      ],
      "text/plain": [
       "[1]  TRUE  TRUE FALSE  TRUE FALSE  TRUE  TRUE"
      ]
     },
     "metadata": {},
     "output_type": "display_data"
    },
    {
     "data": {
      "text/html": [
       "'stringr::str_detect() 함수이용 특정패턴 포함유무'"
      ],
      "text/latex": [
       "'stringr::str\\_detect() 함수이용 특정패턴 포함유무'"
      ],
      "text/markdown": [
       "'stringr::str_detect() 함수이용 특정패턴 포함유무'"
      ],
      "text/plain": [
       "[1] \"stringr::str_detect() 함수이용 특정패턴 포함유무\""
      ]
     },
     "metadata": {},
     "output_type": "display_data"
    },
    {
     "name": "stdout",
     "output_type": "stream",
     "text": [
      "[1] FALSE FALSE FALSE FALSE FALSE FALSE FALSE\n",
      "[1]  TRUE  TRUE FALSE  TRUE FALSE  TRUE  TRUE\n"
     ]
    }
   ],
   "source": [
    "# 텍스트셋 안에 특정패턴 포함여부를 논리값으로 도출 \n",
    "# - 분석대상 텍스트데이터를 구성하는 여러 개 텍스트요소들 중에서 \n",
    "#   검색패턴이 들어 있는 요소는 TRUE, 없는 요소는 FALSE 출력\n",
    "\n",
    "sprintf('base::grepl() 함수이용 특정패턴 포함유무')\n",
    "grepl(pattern = keyword, x = my_sent) # 대소문자 무시옵션: FALSE\n",
    "grepl(pattern = keyword, x = my_sent, ignore.case = TRUE) # 대소문자 무시옵션: TRUE\n",
    "\n",
    "sprintf('stringr::str_detect() 함수이용 특정패턴 포함유무')\n",
    "str_detect(pattern = keyword, string = my_sent) %>% print # 대소문자 무시옵션: FALSE\n",
    "str_detect(regex(pattern = keyword, ignore_case = TRUE), string = my_sent) %>% print # 대소문자 무시옵션: TRUE"
   ]
  },
  {
   "cell_type": "markdown",
   "metadata": {},
   "source": [
    "### 포함여부를 요소인덱스번호로"
   ]
  },
  {
   "cell_type": "code",
   "execution_count": 33,
   "metadata": {
    "code_folding": []
   },
   "outputs": [
    {
     "data": {
      "text/html": [
       "'base::grep() 함수이용 특정패턴 포함 인덱스'"
      ],
      "text/latex": [
       "'base::grep() 함수이용 특정패턴 포함 인덱스'"
      ],
      "text/markdown": [
       "'base::grep() 함수이용 특정패턴 포함 인덱스'"
      ],
      "text/plain": [
       "[1] \"base::grep() 함수이용 특정패턴 포함 인덱스\""
      ]
     },
     "metadata": {},
     "output_type": "display_data"
    },
    {
     "name": "stdout",
     "output_type": "stream",
     "text": [
      "integer(0)\n",
      "[1] 1 2 4 6 7\n"
     ]
    },
    {
     "data": {
      "text/html": [
       "'stringr::str_detect() &amp; base::which() 함수이용 특정패턴 포함 인덱스'"
      ],
      "text/latex": [
       "'stringr::str\\_detect() \\& base::which() 함수이용 특정패턴 포함 인덱스'"
      ],
      "text/markdown": [
       "'stringr::str_detect() &amp; base::which() 함수이용 특정패턴 포함 인덱스'"
      ],
      "text/plain": [
       "[1] \"stringr::str_detect() & base::which() 함수이용 특정패턴 포함 인덱스\""
      ]
     },
     "metadata": {},
     "output_type": "display_data"
    },
    {
     "name": "stdout",
     "output_type": "stream",
     "text": [
      "integer(0)\n",
      "[1] 1 2 4 6 7\n"
     ]
    }
   ],
   "source": [
    "# 텍스트셋 안에 특정패턴 포함여부를 요소인덱스번호로 도출 \n",
    "# - 분석대상 텍스트데이터를 구성하는 여러 개 텍스트요소들 중에서 \n",
    "#   검색패턴이 들어 있는 요소인덱스 번호만을 출력함\n",
    "# - 검색패턴이 없는 텍스트요소들은 아무것도 출력이 안됨\n",
    "# - 만일 하나라도 해당하는 텍스트요소가 없으면, NULL의미를 가진 integer(0) 문구가 나옴\n",
    "\n",
    "sprintf('base::grep() 함수이용 특정패턴 포함 인덱스')\n",
    "grep(pattern = keyword, x = my_sent) %>% print # 대소문자 무시옵션: FALSE\n",
    "grep(pattern = keyword, x = my_sent, ignore.case = TRUE) %>% print # 대소문자 무시옵션: TRUE\n",
    "\n",
    "sprintf('stringr::str_detect() & base::which() 함수이용 특정패턴 포함 인덱스')\n",
    "str_detect(pattern = keyword, string = my_sent) %>% which %>% print # 대소문자 무시옵션: FALSE\n",
    "str_detect(regex(pattern = keyword, ignore_case = TRUE), string = my_sent) %>% which %>% print # 대소문자 무시옵션: TRUE"
   ]
  },
  {
   "cell_type": "markdown",
   "metadata": {},
   "source": [
    "### 포함여부를 요소내용으로"
   ]
  },
  {
   "cell_type": "code",
   "execution_count": 34,
   "metadata": {
    "code_folding": []
   },
   "outputs": [],
   "source": [
    "# 텍스트셋 안에 특정패턴 포함여부를 해당요소 내용으로 도출 \n",
    "# - 분석대상 텍스트데이터를 구성하는 여러 개 텍스트요소들 중에서 \n",
    "# - 검색패턴이 없는 텍스트요소들은 아무것도 출력이 안됨\n",
    "# - 만일 하나라도 해당하는 텍스트요소가 없으면, NULL의미를 가진 character(0) 문구가 나옴"
   ]
  },
  {
   "cell_type": "markdown",
   "metadata": {},
   "source": [
    "#### base::grep() 함수이용"
   ]
  },
  {
   "cell_type": "code",
   "execution_count": 35,
   "metadata": {
    "code_folding": []
   },
   "outputs": [
    {
     "data": {
      "text/html": [
       "'base::grep() 함수이용 특정패턴 포함 요소내용: 대소문자 무시옵션 FALSE'"
      ],
      "text/latex": [
       "'base::grep() 함수이용 특정패턴 포함 요소내용: 대소문자 무시옵션 FALSE'"
      ],
      "text/markdown": [
       "'base::grep() 함수이용 특정패턴 포함 요소내용: 대소문자 무시옵션 FALSE'"
      ],
      "text/plain": [
       "[1] \"base::grep() 함수이용 특정패턴 포함 요소내용: 대소문자 무시옵션 FALSE\""
      ]
     },
     "metadata": {},
     "output_type": "display_data"
    },
    {
     "name": "stdout",
     "output_type": "stream",
     "text": [
      "character(0)\n",
      "\n"
     ]
    },
    {
     "data": {
      "text/html": [
       "'base::grep() 함수이용 특정패턴 포함 요소내용: 대소문자 무시옵션 TRUE'"
      ],
      "text/latex": [
       "'base::grep() 함수이용 특정패턴 포함 요소내용: 대소문자 무시옵션 TRUE'"
      ],
      "text/markdown": [
       "'base::grep() 함수이용 특정패턴 포함 요소내용: 대소문자 무시옵션 TRUE'"
      ],
      "text/plain": [
       "[1] \"base::grep() 함수이용 특정패턴 포함 요소내용: 대소문자 무시옵션 TRUE\""
      ]
     },
     "metadata": {},
     "output_type": "display_data"
    },
    {
     "name": "stdout",
     "output_type": "stream",
     "text": [
      "[1] \"The capabilities of R are extended through user-created packages, which allow specialised statistical techniques, graphical devices, import/export capabilities, reporting tools (knitr, Sweave), etc\"                                                                                               \n",
      "[2] \"These packages are developed primarily in R, and sometimes in Java, C, C++, and Fortran\"                                                                                                                                                                                                             \n",
      "[3] \"The \\\"Task Views\\\" page (subject list) on the CRAN website lists a wide range of tasks (in fields such as Finance, Genetics, High Performance Computing, Machine Learning, Medical Imaging, Social Sciences and Spatial Statistics) to which R has been applied and for which packages are available\"\n",
      "[4] \"Other R package resources include Crantastic, a community site for rating and reviewing all CRAN packages, and R-Forge, a central platform for the collaborative development of R packages, R-related software, and projects\"                                                                        \n",
      "[5] \"R-Forge also hosts many unpublished beta packages, and development versions of CRAN packages.\"                                                                                                                                                                                                       \n"
     ]
    }
   ],
   "source": [
    "sprintf('base::grep() 함수이용 특정패턴 포함 요소내용: 대소문자 무시옵션 FALSE')\n",
    "print(grep(pattern = keyword, x = my_sent, value = TRUE))\n",
    "\n",
    "cat('\\n')\n",
    "\n",
    "sprintf('base::grep() 함수이용 특정패턴 포함 요소내용: 대소문자 무시옵션 TRUE')\n",
    "print(grep(pattern = keyword, x = my_sent, ignore.case = TRUE, value = TRUE))"
   ]
  },
  {
   "cell_type": "markdown",
   "metadata": {},
   "source": [
    "#### stringr::str_detect() 함수이용"
   ]
  },
  {
   "cell_type": "code",
   "execution_count": 36,
   "metadata": {},
   "outputs": [
    {
     "data": {
      "text/html": [
       "'stringr::str_detect() 함수이용 특정패턴 포함 요소내용: 대소문자 무시옵션 FALSE'"
      ],
      "text/latex": [
       "'stringr::str\\_detect() 함수이용 특정패턴 포함 요소내용: 대소문자 무시옵션 FALSE'"
      ],
      "text/markdown": [
       "'stringr::str_detect() 함수이용 특정패턴 포함 요소내용: 대소문자 무시옵션 FALSE'"
      ],
      "text/plain": [
       "[1] \"stringr::str_detect() 함수이용 특정패턴 포함 요소내용: 대소문자 무시옵션 FALSE\""
      ]
     },
     "metadata": {},
     "output_type": "display_data"
    },
    {
     "name": "stdout",
     "output_type": "stream",
     "text": [
      "[1] FALSE FALSE FALSE FALSE FALSE FALSE FALSE\n",
      "character(0)\n",
      "\n"
     ]
    },
    {
     "data": {
      "text/html": [
       "'stringr::str_detect() 함수이용 특정패턴 포함 요소내용: 대소문자 무시옵션 TRUE'"
      ],
      "text/latex": [
       "'stringr::str\\_detect() 함수이용 특정패턴 포함 요소내용: 대소문자 무시옵션 TRUE'"
      ],
      "text/markdown": [
       "'stringr::str_detect() 함수이용 특정패턴 포함 요소내용: 대소문자 무시옵션 TRUE'"
      ],
      "text/plain": [
       "[1] \"stringr::str_detect() 함수이용 특정패턴 포함 요소내용: 대소문자 무시옵션 TRUE\""
      ]
     },
     "metadata": {},
     "output_type": "display_data"
    },
    {
     "name": "stdout",
     "output_type": "stream",
     "text": [
      "[1]  TRUE  TRUE FALSE  TRUE FALSE  TRUE  TRUE\n",
      "[1] \"The capabilities of R are extended through user-created packages, which allow specialised statistical techniques, graphical devices, import/export capabilities, reporting tools (knitr, Sweave), etc\"                                                                                               \n",
      "[2] \"These packages are developed primarily in R, and sometimes in Java, C, C++, and Fortran\"                                                                                                                                                                                                             \n",
      "[3] \"The \\\"Task Views\\\" page (subject list) on the CRAN website lists a wide range of tasks (in fields such as Finance, Genetics, High Performance Computing, Machine Learning, Medical Imaging, Social Sciences and Spatial Statistics) to which R has been applied and for which packages are available\"\n",
      "[4] \"Other R package resources include Crantastic, a community site for rating and reviewing all CRAN packages, and R-Forge, a central platform for the collaborative development of R packages, R-related software, and projects\"                                                                        \n",
      "[5] \"R-Forge also hosts many unpublished beta packages, and development versions of CRAN packages.\"                                                                                                                                                                                                       \n"
     ]
    }
   ],
   "source": [
    "sprintf('stringr::str_detect() 함수이용 특정패턴 포함 요소내용: 대소문자 무시옵션 FALSE')\n",
    "my_det <- str_detect(pattern = keyword, string = my_sent) \n",
    "my_det %>% print\n",
    "my_sent[my_det] %>% print\n",
    "\n",
    "cat('\\n')\n",
    "\n",
    "sprintf('stringr::str_detect() 함수이용 특정패턴 포함 요소내용: 대소문자 무시옵션 TRUE')\n",
    "my_det <- str_detect(regex(pattern = keyword, ignore_case = TRUE), string = my_sent) \n",
    "my_det %>% print\n",
    "my_sent[my_det] %>% print"
   ]
  },
  {
   "cell_type": "markdown",
   "metadata": {},
   "source": [
    "## 텍스트셋에 특정패턴 출현위치 파악\n",
    "* base:: 최초출현위치 regexpr(), 모든출현위치 gregexpr(), 중첩검색패턴 최초출현위치 regexec()\n",
    "* stringr:: 최초출현위치 str_locate(), 모든출현위치 str_locate_all()"
   ]
  },
  {
   "cell_type": "code",
   "execution_count": 37,
   "metadata": {},
   "outputs": [
    {
     "name": "stdout",
     "output_type": "stream",
     "text": [
      "[1] \"The capabilities of R are extended through user-created packages, which allow specialised statistical techniques, graphical devices, import/export capabilities, reporting tools (knitr, Sweave), etc\"                                                                                               \n",
      "[2] \"These packages are developed primarily in R, and sometimes in Java, C, C++, and Fortran\"                                                                                                                                                                                                             \n",
      "[3] \"The R packaging system is also used by researchers to create compendia to organise research data, code and report files in a systematic way for sharing and public archiving\"                                                                                                                        \n",
      "[4] \"The \\\"Task Views\\\" page (subject list) on the CRAN website lists a wide range of tasks (in fields such as Finance, Genetics, High Performance Computing, Machine Learning, Medical Imaging, Social Sciences and Spatial Statistics) to which R has been applied and for which packages are available\"\n",
      "[5] \"R has also been identified by the FDA as suitable for interpreting data from clinical research\"                                                                                                                                                                                                      \n",
      "[6] \"Other R package resources include Crantastic, a community site for rating and reviewing all CRAN packages, and R-Forge, a central platform for the collaborative development of R packages, R-related software, and projects\"                                                                        \n",
      "[7] \"R-Forge also hosts many unpublished beta packages, and development versions of CRAN packages.\"                                                                                                                                                                                                       \n"
     ]
    }
   ],
   "source": [
    "# 대상 텍스트셋 재확인\n",
    "print(my_sent)"
   ]
  },
  {
   "cell_type": "code",
   "execution_count": 38,
   "metadata": {},
   "outputs": [],
   "source": [
    "# 검색용 키워드 준비\n",
    "keyword = 'Packages'\n",
    "# - 검색패턴에 대소문자가 혼용되어 있는 상태임"
   ]
  },
  {
   "cell_type": "markdown",
   "metadata": {},
   "source": [
    "### 최초 출현위치"
   ]
  },
  {
   "cell_type": "code",
   "execution_count": 39,
   "metadata": {},
   "outputs": [],
   "source": [
    "# 텍스트셋 안에 특정패턴 최초 출현위치 파악 \n",
    "# - 분석대상 텍스트데이터를 구성하는 여러 개 텍스트요소들마다 \n",
    "#   검색패턴이 출현하는 최초 위치(자리)를 파악해 출력함\n",
    "# - 검색패턴이 해당 텍스트요소에 들어 있지 않으면 \n",
    "#   base::regexpr()은 -1을, stringr::str_locate()은 NA를 출력함"
   ]
  },
  {
   "cell_type": "markdown",
   "metadata": {},
   "source": [
    "#### base::regexpr() 함수이용"
   ]
  },
  {
   "cell_type": "code",
   "execution_count": 40,
   "metadata": {},
   "outputs": [
    {
     "data": {
      "text/html": [
       "'base::regexpr() 함수이용 최초 출현위치: 대소문자 무시옵션 FALSE'"
      ],
      "text/latex": [
       "'base::regexpr() 함수이용 최초 출현위치: 대소문자 무시옵션 FALSE'"
      ],
      "text/markdown": [
       "'base::regexpr() 함수이용 최초 출현위치: 대소문자 무시옵션 FALSE'"
      ],
      "text/plain": [
       "[1] \"base::regexpr() 함수이용 최초 출현위치: 대소문자 무시옵션 FALSE\""
      ]
     },
     "metadata": {},
     "output_type": "display_data"
    },
    {
     "name": "stdout",
     "output_type": "stream",
     "text": [
      "[1] -1 -1 -1 -1 -1 -1 -1\n",
      "attr(,\"match.length\")\n",
      "[1] -1 -1 -1 -1 -1 -1 -1\n",
      "attr(,\"index.type\")\n",
      "[1] \"chars\"\n",
      "attr(,\"useBytes\")\n",
      "[1] TRUE\n",
      "\n"
     ]
    },
    {
     "data": {
      "text/html": [
       "'base::regexpr() 함수이용 최초 출현위치: 대소문자 무시옵션 TRUE'"
      ],
      "text/latex": [
       "'base::regexpr() 함수이용 최초 출현위치: 대소문자 무시옵션 TRUE'"
      ],
      "text/markdown": [
       "'base::regexpr() 함수이용 최초 출현위치: 대소문자 무시옵션 TRUE'"
      ],
      "text/plain": [
       "[1] \"base::regexpr() 함수이용 최초 출현위치: 대소문자 무시옵션 TRUE\""
      ]
     },
     "metadata": {},
     "output_type": "display_data"
    },
    {
     "name": "stdout",
     "output_type": "stream",
     "text": [
      "[1]  57   7  -1 269  -1  98  42\n",
      "attr(,\"match.length\")\n",
      "[1]  8  8 -1  8 -1  8  8\n",
      "attr(,\"index.type\")\n",
      "[1] \"chars\"\n",
      "attr(,\"useBytes\")\n",
      "[1] TRUE\n"
     ]
    }
   ],
   "source": [
    "sprintf('base::regexpr() 함수이용 최초 출현위치: 대소문자 무시옵션 FALSE')\n",
    "regexpr(pattern = keyword, text = my_sent) %>% print\n",
    "\n",
    "cat('\\n')\n",
    "\n",
    "sprintf('base::regexpr() 함수이용 최초 출현위치: 대소문자 무시옵션 TRUE')\n",
    "regexpr(pattern = keyword, text = my_sent, ignore.case = TRUE) %>% print"
   ]
  },
  {
   "cell_type": "markdown",
   "metadata": {},
   "source": [
    "#### stringr::str_locate() 함수이용"
   ]
  },
  {
   "cell_type": "code",
   "execution_count": 41,
   "metadata": {},
   "outputs": [
    {
     "data": {
      "text/html": [
       "'stringr::str_locate() 함수이용 최초 출현위치: 대소문자 무시옵션 FALSE'"
      ],
      "text/latex": [
       "'stringr::str\\_locate() 함수이용 최초 출현위치: 대소문자 무시옵션 FALSE'"
      ],
      "text/markdown": [
       "'stringr::str_locate() 함수이용 최초 출현위치: 대소문자 무시옵션 FALSE'"
      ],
      "text/plain": [
       "[1] \"stringr::str_locate() 함수이용 최초 출현위치: 대소문자 무시옵션 FALSE\""
      ]
     },
     "metadata": {},
     "output_type": "display_data"
    },
    {
     "name": "stdout",
     "output_type": "stream",
     "text": [
      "     start end\n",
      "[1,]    NA  NA\n",
      "[2,]    NA  NA\n",
      "[3,]    NA  NA\n",
      "[4,]    NA  NA\n",
      "[5,]    NA  NA\n",
      "[6,]    NA  NA\n",
      "[7,]    NA  NA\n",
      "\n"
     ]
    },
    {
     "data": {
      "text/html": [
       "'stringr::str_locate() 함수이용 최초 출현위치: 대소문자 무시옵션 TRUE'"
      ],
      "text/latex": [
       "'stringr::str\\_locate() 함수이용 최초 출현위치: 대소문자 무시옵션 TRUE'"
      ],
      "text/markdown": [
       "'stringr::str_locate() 함수이용 최초 출현위치: 대소문자 무시옵션 TRUE'"
      ],
      "text/plain": [
       "[1] \"stringr::str_locate() 함수이용 최초 출현위치: 대소문자 무시옵션 TRUE\""
      ]
     },
     "metadata": {},
     "output_type": "display_data"
    },
    {
     "name": "stdout",
     "output_type": "stream",
     "text": [
      "     start end\n",
      "[1,]    57  64\n",
      "[2,]     7  14\n",
      "[3,]    NA  NA\n",
      "[4,]   269 276\n",
      "[5,]    NA  NA\n",
      "[6,]    98 105\n",
      "[7,]    42  49\n"
     ]
    }
   ],
   "source": [
    "sprintf('stringr::str_locate() 함수이용 최초 출현위치: 대소문자 무시옵션 FALSE')\n",
    "str_locate(pattern = keyword, string = my_sent)  %>% print\n",
    "\n",
    "cat('\\n')\n",
    "\n",
    "sprintf('stringr::str_locate() 함수이용 최초 출현위치: 대소문자 무시옵션 TRUE')\n",
    "str_locate(regex(pattern = keyword, ignore_case = TRUE), string = my_sent)  %>% print"
   ]
  },
  {
   "cell_type": "markdown",
   "metadata": {},
   "source": [
    "### 모든 출현위치"
   ]
  },
  {
   "cell_type": "code",
   "execution_count": 42,
   "metadata": {},
   "outputs": [],
   "source": [
    "# 텍스트셋 안에 특정패턴 모든 출현위치 파악 \n",
    "# - 분석대상 텍스트데이터를 구성하는 여러 개 텍스트요소들마다 \n",
    "#   검색패턴이 출현하는 모든 위치(자리)를 파악해 출력함\n",
    "# - 검색패턴이 해당 텍스트요소에 들어 있지 않으면 \n",
    "#   base::gregexpr()은 -1을, stringr::str_locate_all()은 NA를 출력함"
   ]
  },
  {
   "cell_type": "markdown",
   "metadata": {},
   "source": [
    "#### base::gregexpr() 함수이용"
   ]
  },
  {
   "cell_type": "code",
   "execution_count": 43,
   "metadata": {
    "scrolled": true
   },
   "outputs": [
    {
     "data": {
      "text/html": [
       "'base::gregexpr() 함수이용 모든 출현위치: 대소문자 무시옵션 FALSE'"
      ],
      "text/latex": [
       "'base::gregexpr() 함수이용 모든 출현위치: 대소문자 무시옵션 FALSE'"
      ],
      "text/markdown": [
       "'base::gregexpr() 함수이용 모든 출현위치: 대소문자 무시옵션 FALSE'"
      ],
      "text/plain": [
       "[1] \"base::gregexpr() 함수이용 모든 출현위치: 대소문자 무시옵션 FALSE\""
      ]
     },
     "metadata": {},
     "output_type": "display_data"
    },
    {
     "name": "stdout",
     "output_type": "stream",
     "text": [
      "[[1]]\n",
      "[1] -1\n",
      "attr(,\"match.length\")\n",
      "[1] -1\n",
      "attr(,\"index.type\")\n",
      "[1] \"chars\"\n",
      "attr(,\"useBytes\")\n",
      "[1] TRUE\n",
      "\n",
      "[[2]]\n",
      "[1] -1\n",
      "attr(,\"match.length\")\n",
      "[1] -1\n",
      "attr(,\"index.type\")\n",
      "[1] \"chars\"\n",
      "attr(,\"useBytes\")\n",
      "[1] TRUE\n",
      "\n",
      "[[3]]\n",
      "[1] -1\n",
      "attr(,\"match.length\")\n",
      "[1] -1\n",
      "attr(,\"index.type\")\n",
      "[1] \"chars\"\n",
      "attr(,\"useBytes\")\n",
      "[1] TRUE\n",
      "\n",
      "[[4]]\n",
      "[1] -1\n",
      "attr(,\"match.length\")\n",
      "[1] -1\n",
      "attr(,\"index.type\")\n",
      "[1] \"chars\"\n",
      "attr(,\"useBytes\")\n",
      "[1] TRUE\n",
      "\n",
      "[[5]]\n",
      "[1] -1\n",
      "attr(,\"match.length\")\n",
      "[1] -1\n",
      "attr(,\"index.type\")\n",
      "[1] \"chars\"\n",
      "attr(,\"useBytes\")\n",
      "[1] TRUE\n",
      "\n",
      "[[6]]\n",
      "[1] -1\n",
      "attr(,\"match.length\")\n",
      "[1] -1\n",
      "attr(,\"index.type\")\n",
      "[1] \"chars\"\n",
      "attr(,\"useBytes\")\n",
      "[1] TRUE\n",
      "\n",
      "[[7]]\n",
      "[1] -1\n",
      "attr(,\"match.length\")\n",
      "[1] -1\n",
      "attr(,\"index.type\")\n",
      "[1] \"chars\"\n",
      "attr(,\"useBytes\")\n",
      "[1] TRUE\n",
      "\n"
     ]
    }
   ],
   "source": [
    "sprintf('base::gregexpr() 함수이용 모든 출현위치: 대소문자 무시옵션 FALSE')\n",
    "gregexpr(pattern = keyword, text = my_sent) %>% print"
   ]
  },
  {
   "cell_type": "code",
   "execution_count": 44,
   "metadata": {
    "scrolled": true
   },
   "outputs": [
    {
     "data": {
      "text/html": [
       "'base::gregexpr() 함수이용 모든 출현위치: 대소문자 무시옵션 TRUE'"
      ],
      "text/latex": [
       "'base::gregexpr() 함수이용 모든 출현위치: 대소문자 무시옵션 TRUE'"
      ],
      "text/markdown": [
       "'base::gregexpr() 함수이용 모든 출현위치: 대소문자 무시옵션 TRUE'"
      ],
      "text/plain": [
       "[1] \"base::gregexpr() 함수이용 모든 출현위치: 대소문자 무시옵션 TRUE\""
      ]
     },
     "metadata": {},
     "output_type": "display_data"
    },
    {
     "name": "stdout",
     "output_type": "stream",
     "text": [
      "[[1]]\n",
      "[1] 57\n",
      "attr(,\"match.length\")\n",
      "[1] 8\n",
      "attr(,\"index.type\")\n",
      "[1] \"chars\"\n",
      "attr(,\"useBytes\")\n",
      "[1] TRUE\n",
      "\n",
      "[[2]]\n",
      "[1] 7\n",
      "attr(,\"match.length\")\n",
      "[1] 8\n",
      "attr(,\"index.type\")\n",
      "[1] \"chars\"\n",
      "attr(,\"useBytes\")\n",
      "[1] TRUE\n",
      "\n",
      "[[3]]\n",
      "[1] -1\n",
      "attr(,\"match.length\")\n",
      "[1] -1\n",
      "attr(,\"index.type\")\n",
      "[1] \"chars\"\n",
      "attr(,\"useBytes\")\n",
      "[1] TRUE\n",
      "\n",
      "[[4]]\n",
      "[1] 269\n",
      "attr(,\"match.length\")\n",
      "[1] 8\n",
      "attr(,\"index.type\")\n",
      "[1] \"chars\"\n",
      "attr(,\"useBytes\")\n",
      "[1] TRUE\n",
      "\n",
      "[[5]]\n",
      "[1] -1\n",
      "attr(,\"match.length\")\n",
      "[1] -1\n",
      "attr(,\"index.type\")\n",
      "[1] \"chars\"\n",
      "attr(,\"useBytes\")\n",
      "[1] TRUE\n",
      "\n",
      "[[6]]\n",
      "[1]  98 179\n",
      "attr(,\"match.length\")\n",
      "[1] 8 8\n",
      "attr(,\"index.type\")\n",
      "[1] \"chars\"\n",
      "attr(,\"useBytes\")\n",
      "[1] TRUE\n",
      "\n",
      "[[7]]\n",
      "[1] 42 85\n",
      "attr(,\"match.length\")\n",
      "[1] 8 8\n",
      "attr(,\"index.type\")\n",
      "[1] \"chars\"\n",
      "attr(,\"useBytes\")\n",
      "[1] TRUE\n",
      "\n"
     ]
    }
   ],
   "source": [
    "sprintf('base::gregexpr() 함수이용 모든 출현위치: 대소문자 무시옵션 TRUE')\n",
    "gregexpr(pattern = keyword, text = my_sent, ignore.case = TRUE) %>% print"
   ]
  },
  {
   "cell_type": "markdown",
   "metadata": {},
   "source": [
    "#### stringr::str_locate_all() 함수이용 "
   ]
  },
  {
   "cell_type": "code",
   "execution_count": 45,
   "metadata": {
    "scrolled": true
   },
   "outputs": [
    {
     "data": {
      "text/html": [
       "'stringr::str_locate_all() 함수이용 모든 출현위치: 대소문자 무시옵션 FALSE'"
      ],
      "text/latex": [
       "'stringr::str\\_locate\\_all() 함수이용 모든 출현위치: 대소문자 무시옵션 FALSE'"
      ],
      "text/markdown": [
       "'stringr::str_locate_all() 함수이용 모든 출현위치: 대소문자 무시옵션 FALSE'"
      ],
      "text/plain": [
       "[1] \"stringr::str_locate_all() 함수이용 모든 출현위치: 대소문자 무시옵션 FALSE\""
      ]
     },
     "metadata": {},
     "output_type": "display_data"
    },
    {
     "name": "stdout",
     "output_type": "stream",
     "text": [
      "[[1]]\n",
      "     start end\n",
      "\n",
      "[[2]]\n",
      "     start end\n",
      "\n",
      "[[3]]\n",
      "     start end\n",
      "\n",
      "[[4]]\n",
      "     start end\n",
      "\n",
      "[[5]]\n",
      "     start end\n",
      "\n",
      "[[6]]\n",
      "     start end\n",
      "\n",
      "[[7]]\n",
      "     start end\n",
      "\n",
      "\n",
      "#--------------------\n",
      "\n"
     ]
    },
    {
     "data": {
      "text/html": [
       "'stringr::str_locate_all() 함수이용 모든 출현위치: 대소문자 무시옵션 TRUE'"
      ],
      "text/latex": [
       "'stringr::str\\_locate\\_all() 함수이용 모든 출현위치: 대소문자 무시옵션 TRUE'"
      ],
      "text/markdown": [
       "'stringr::str_locate_all() 함수이용 모든 출현위치: 대소문자 무시옵션 TRUE'"
      ],
      "text/plain": [
       "[1] \"stringr::str_locate_all() 함수이용 모든 출현위치: 대소문자 무시옵션 TRUE\""
      ]
     },
     "metadata": {},
     "output_type": "display_data"
    },
    {
     "name": "stdout",
     "output_type": "stream",
     "text": [
      "[[1]]\n",
      "     start end\n",
      "[1,]    57  64\n",
      "\n",
      "[[2]]\n",
      "     start end\n",
      "[1,]     7  14\n",
      "\n",
      "[[3]]\n",
      "     start end\n",
      "\n",
      "[[4]]\n",
      "     start end\n",
      "[1,]   269 276\n",
      "\n",
      "[[5]]\n",
      "     start end\n",
      "\n",
      "[[6]]\n",
      "     start end\n",
      "[1,]    98 105\n",
      "[2,]   179 186\n",
      "\n",
      "[[7]]\n",
      "     start end\n",
      "[1,]    42  49\n",
      "[2,]    85  92\n",
      "\n"
     ]
    }
   ],
   "source": [
    "sprintf('stringr::str_locate_all() 함수이용 모든 출현위치: 대소문자 무시옵션 FALSE')\n",
    "str_locate_all(pattern = keyword, string = my_sent) %>% print\n",
    "\n",
    "cat('\\n#--------------------\\n\\n')\n",
    "\n",
    "sprintf('stringr::str_locate_all() 함수이용 모든 출현위치: 대소문자 무시옵션 TRUE')\n",
    "str_locate_all(regex(pattern = keyword, ignore_case = TRUE), string = my_sent) %>% print"
   ]
  },
  {
   "cell_type": "markdown",
   "metadata": {},
   "source": [
    "## 텍스트셋에 특정패턴 출현내용 파악\n",
    "* base:: 최초출현내용 regexpr() & regmatches(), 모든출현내용 regexpr() & regmatches()  \n",
    "* stringr:: 최초출현내용 str_extract(), 모든출현내용 str_extract_all()"
   ]
  },
  {
   "cell_type": "code",
   "execution_count": 46,
   "metadata": {},
   "outputs": [
    {
     "name": "stdout",
     "output_type": "stream",
     "text": [
      "[1] \"The capabilities of R are extended through user-created packages, which allow specialised statistical techniques, graphical devices, import/export capabilities, reporting tools (knitr, Sweave), etc\"                                                                                               \n",
      "[2] \"These packages are developed primarily in R, and sometimes in Java, C, C++, and Fortran\"                                                                                                                                                                                                             \n",
      "[3] \"The R packaging system is also used by researchers to create compendia to organise research data, code and report files in a systematic way for sharing and public archiving\"                                                                                                                        \n",
      "[4] \"The \\\"Task Views\\\" page (subject list) on the CRAN website lists a wide range of tasks (in fields such as Finance, Genetics, High Performance Computing, Machine Learning, Medical Imaging, Social Sciences and Spatial Statistics) to which R has been applied and for which packages are available\"\n",
      "[5] \"R has also been identified by the FDA as suitable for interpreting data from clinical research\"                                                                                                                                                                                                      \n",
      "[6] \"Other R package resources include Crantastic, a community site for rating and reviewing all CRAN packages, and R-Forge, a central platform for the collaborative development of R packages, R-related software, and projects\"                                                                        \n",
      "[7] \"R-Forge also hosts many unpublished beta packages, and development versions of CRAN packages.\"                                                                                                                                                                                                       \n"
     ]
    }
   ],
   "source": [
    "# 대상 텍스트셋 재확인\n",
    "print(my_sent)"
   ]
  },
  {
   "cell_type": "code",
   "execution_count": 47,
   "metadata": {},
   "outputs": [],
   "source": [
    "# 검색용 키워드 준비\n",
    "keyword = 'Packages'\n",
    "# - 검색패턴에 대소문자가 혼용되어 있는 상태임"
   ]
  },
  {
   "cell_type": "markdown",
   "metadata": {},
   "source": [
    "### 최초 출현내용: 세부연산과정 상세\n",
    "* base::regexpr() & regmatches 함수이용 최초 출현내용: 세부연산과정 상세"
   ]
  },
  {
   "cell_type": "code",
   "execution_count": 48,
   "metadata": {},
   "outputs": [],
   "source": [
    "# 텍스트셋 안에 특정패턴 최초 출현내용 파악 \n",
    "# - 검색패턴이 해당 텍스트요소에 들어 있지 않으면 \n",
    "#   base::regexpr()은 -1을, regmatches는 character(0)을 출력 \n",
    "# - 검색패턴이 해당 텍스트요소에 들어 있으면 \n",
    "#   base::gregexpr()은 최초 출현위치 인덱스를, regmatches는 최초 출현내용을 출력 "
   ]
  },
  {
   "cell_type": "code",
   "execution_count": 49,
   "metadata": {},
   "outputs": [
    {
     "data": {
      "text/html": [
       "'검색패턴 대소문자 구별옵션 ignore.case = FALSE인 경우'"
      ],
      "text/latex": [
       "'검색패턴 대소문자 구별옵션 ignore.case = FALSE인 경우'"
      ],
      "text/markdown": [
       "'검색패턴 대소문자 구별옵션 ignore.case = FALSE인 경우'"
      ],
      "text/plain": [
       "[1] \"검색패턴 대소문자 구별옵션 ignore.case = FALSE인 경우\""
      ]
     },
     "metadata": {},
     "output_type": "display_data"
    },
    {
     "name": "stdout",
     "output_type": "stream",
     "text": [
      "[1] -1 -1 -1 -1 -1 -1 -1\n",
      "attr(,\"match.length\")\n",
      "[1] -1 -1 -1 -1 -1 -1 -1\n",
      "attr(,\"index.type\")\n",
      "[1] \"chars\"\n",
      "attr(,\"useBytes\")\n",
      "[1] TRUE\n",
      "\n",
      "character(0)\n",
      "\n",
      "#--------------------\n",
      "\n"
     ]
    },
    {
     "data": {
      "text/html": [
       "'검색패턴 대소문자 구별옵션 ignore.case = TRUE인 경우'"
      ],
      "text/latex": [
       "'검색패턴 대소문자 구별옵션 ignore.case = TRUE인 경우'"
      ],
      "text/markdown": [
       "'검색패턴 대소문자 구별옵션 ignore.case = TRUE인 경우'"
      ],
      "text/plain": [
       "[1] \"검색패턴 대소문자 구별옵션 ignore.case = TRUE인 경우\""
      ]
     },
     "metadata": {},
     "output_type": "display_data"
    },
    {
     "name": "stdout",
     "output_type": "stream",
     "text": [
      "[1]  57   7  -1 269  -1  98  42\n",
      "attr(,\"match.length\")\n",
      "[1]  8  8 -1  8 -1  8  8\n",
      "attr(,\"index.type\")\n",
      "[1] \"chars\"\n",
      "attr(,\"useBytes\")\n",
      "[1] TRUE\n",
      "\n",
      "[1] \"packages\" \"packages\" \"packages\" \"packages\" \"packages\"\n"
     ]
    }
   ],
   "source": [
    "# 검색패턴 대소문자 구별옵션 ignore.case = FALSE인 경우\n",
    "sprintf('검색패턴 대소문자 구별옵션 ignore.case = FALSE인 경우')\n",
    "\n",
    "tmp_loc <- regexpr(pattern = keyword, text = my_sent, ignore.case = FALSE)\n",
    "print(tmp_loc)\n",
    "cat('\\n')\n",
    "tmp_ptr <- regmatches(x = my_sent, m = tmp_loc)\n",
    "print(tmp_ptr)\n",
    "\n",
    "cat('\\n#--------------------\\n\\n')\n",
    "\n",
    "sprintf('검색패턴 대소문자 구별옵션 ignore.case = TRUE인 경우')\n",
    "tmp_loc <- regexpr(pattern = keyword, text = my_sent, ignore.case = TRUE)\n",
    "print(tmp_loc)\n",
    "cat('\\n')\n",
    "tmp_ptr <- regmatches(x = my_sent, m = tmp_loc)\n",
    "print(tmp_ptr)"
   ]
  },
  {
   "cell_type": "markdown",
   "metadata": {},
   "source": [
    "### 최초 출현내용: 파이프연산자 이용\n",
    "* base::regexpr() & regmatches 함수이용 최초 출현내용: 파이프연산자 이용\n",
    "* 'stringr::str_extract() 함수이용 최초 출현내용"
   ]
  },
  {
   "cell_type": "code",
   "execution_count": 50,
   "metadata": {},
   "outputs": [],
   "source": [
    "# 텍스트셋 안에 특정패턴 최초 출현내용 파악\n",
    "# - 현재 1개 텍스트요소에 대한 검색이므로 검색패턴이 출현하는 모든 내용도 1개만 출력함\n",
    "# - 검색패턴이 해당 텍스트요소에 들어 있지 않으면 \n",
    "#   base::regexpr()은 -1을, regmatches는 character(0), \n",
    "#   stringr::str_extract()은 NA를 출력함"
   ]
  },
  {
   "cell_type": "markdown",
   "metadata": {},
   "source": [
    "#### base::regexpr() & regmatches  함수이용"
   ]
  },
  {
   "cell_type": "code",
   "execution_count": 51,
   "metadata": {},
   "outputs": [
    {
     "data": {
      "text/html": [
       "'검색패턴 대소문자 구별옵션 ignore.case = FALSE인 경우'"
      ],
      "text/latex": [
       "'검색패턴 대소문자 구별옵션 ignore.case = FALSE인 경우'"
      ],
      "text/markdown": [
       "'검색패턴 대소문자 구별옵션 ignore.case = FALSE인 경우'"
      ],
      "text/plain": [
       "[1] \"검색패턴 대소문자 구별옵션 ignore.case = FALSE인 경우\""
      ]
     },
     "metadata": {},
     "output_type": "display_data"
    },
    {
     "name": "stdout",
     "output_type": "stream",
     "text": [
      "character(0)\n"
     ]
    },
    {
     "data": {
      "text/html": [
       "'검색패턴 대소문자 구별옵션 ignore.case = TRUE인 경우'"
      ],
      "text/latex": [
       "'검색패턴 대소문자 구별옵션 ignore.case = TRUE인 경우'"
      ],
      "text/markdown": [
       "'검색패턴 대소문자 구별옵션 ignore.case = TRUE인 경우'"
      ],
      "text/plain": [
       "[1] \"검색패턴 대소문자 구별옵션 ignore.case = TRUE인 경우\""
      ]
     },
     "metadata": {},
     "output_type": "display_data"
    },
    {
     "name": "stdout",
     "output_type": "stream",
     "text": [
      "[1] \"packages\" \"packages\" \"packages\" \"packages\" \"packages\"\n"
     ]
    }
   ],
   "source": [
    "sprintf('검색패턴 대소문자 구별옵션 ignore.case = FALSE인 경우')\n",
    "regexpr(pattern = keyword, text = my_sent) %>% regmatches(x = my_sent) %>% print\n",
    "\n",
    "sprintf('검색패턴 대소문자 구별옵션 ignore.case = TRUE인 경우')\n",
    "regexpr(pattern = keyword, text = my_sent, ignore.case = TRUE) %>% regmatches(x = my_sent) %>% print"
   ]
  },
  {
   "cell_type": "markdown",
   "metadata": {},
   "source": [
    "#### stringr::str_extract() 함수이용"
   ]
  },
  {
   "cell_type": "code",
   "execution_count": 52,
   "metadata": {},
   "outputs": [
    {
     "data": {
      "text/html": [
       "'검색패턴 대소문자 구별옵션 ignore.case = FALSE인 경우'"
      ],
      "text/latex": [
       "'검색패턴 대소문자 구별옵션 ignore.case = FALSE인 경우'"
      ],
      "text/markdown": [
       "'검색패턴 대소문자 구별옵션 ignore.case = FALSE인 경우'"
      ],
      "text/plain": [
       "[1] \"검색패턴 대소문자 구별옵션 ignore.case = FALSE인 경우\""
      ]
     },
     "metadata": {},
     "output_type": "display_data"
    },
    {
     "name": "stdout",
     "output_type": "stream",
     "text": [
      "[1] NA NA NA NA NA NA NA\n"
     ]
    },
    {
     "data": {
      "text/html": [
       "'검색패턴 대소문자 구별옵션 ignore.case = TRUE인 경우'"
      ],
      "text/latex": [
       "'검색패턴 대소문자 구별옵션 ignore.case = TRUE인 경우'"
      ],
      "text/markdown": [
       "'검색패턴 대소문자 구별옵션 ignore.case = TRUE인 경우'"
      ],
      "text/plain": [
       "[1] \"검색패턴 대소문자 구별옵션 ignore.case = TRUE인 경우\""
      ]
     },
     "metadata": {},
     "output_type": "display_data"
    },
    {
     "name": "stdout",
     "output_type": "stream",
     "text": [
      "[1] \"packages\" \"packages\" NA         \"packages\" NA         \"packages\" \"packages\"\n"
     ]
    }
   ],
   "source": [
    "sprintf('검색패턴 대소문자 구별옵션 ignore.case = FALSE인 경우')\n",
    "str_extract(pattern = keyword, string = my_sent) %>% print\n",
    "\n",
    "sprintf('검색패턴 대소문자 구별옵션 ignore.case = TRUE인 경우')\n",
    "str_extract(regex(pattern = keyword, ignore_case = TRUE), string = my_sent) %>% print"
   ]
  },
  {
   "cell_type": "markdown",
   "metadata": {},
   "source": [
    "### 모든 출현내용: 세부연산과정 상세\n",
    "* base::gregexpr() & regmatches 함수이용 모든 출현내용: 세부연산과정 상세"
   ]
  },
  {
   "cell_type": "code",
   "execution_count": 53,
   "metadata": {},
   "outputs": [],
   "source": [
    "# 텍스트셋 안에 특정패턴 모든 출현내용 파악 \n",
    "# - 검색패턴이 해당 텍스트요소에 들어 있지 않으면 \n",
    "#   base::gregexpr()은 -1을, regmatches는 character(0)을 출력 \n",
    "# - 검색패턴이 해당 텍스트요소에 들어 있으면 \n",
    "#   base::gregexpr()은 모든 출현위치 인덱스를, regmatches는 모든 출현내용을 출력 "
   ]
  },
  {
   "cell_type": "code",
   "execution_count": 54,
   "metadata": {
    "scrolled": true
   },
   "outputs": [
    {
     "data": {
      "text/html": [
       "'검색패턴 대소문자 구별옵션 ignore.case = FALSE인 경우'"
      ],
      "text/latex": [
       "'검색패턴 대소문자 구별옵션 ignore.case = FALSE인 경우'"
      ],
      "text/markdown": [
       "'검색패턴 대소문자 구별옵션 ignore.case = FALSE인 경우'"
      ],
      "text/plain": [
       "[1] \"검색패턴 대소문자 구별옵션 ignore.case = FALSE인 경우\""
      ]
     },
     "metadata": {},
     "output_type": "display_data"
    },
    {
     "name": "stdout",
     "output_type": "stream",
     "text": [
      "[[1]]\n",
      "[1] -1\n",
      "attr(,\"match.length\")\n",
      "[1] -1\n",
      "attr(,\"index.type\")\n",
      "[1] \"chars\"\n",
      "attr(,\"useBytes\")\n",
      "[1] TRUE\n",
      "\n",
      "[[2]]\n",
      "[1] -1\n",
      "attr(,\"match.length\")\n",
      "[1] -1\n",
      "attr(,\"index.type\")\n",
      "[1] \"chars\"\n",
      "attr(,\"useBytes\")\n",
      "[1] TRUE\n",
      "\n",
      "[[3]]\n",
      "[1] -1\n",
      "attr(,\"match.length\")\n",
      "[1] -1\n",
      "attr(,\"index.type\")\n",
      "[1] \"chars\"\n",
      "attr(,\"useBytes\")\n",
      "[1] TRUE\n",
      "\n",
      "[[4]]\n",
      "[1] -1\n",
      "attr(,\"match.length\")\n",
      "[1] -1\n",
      "attr(,\"index.type\")\n",
      "[1] \"chars\"\n",
      "attr(,\"useBytes\")\n",
      "[1] TRUE\n",
      "\n",
      "[[5]]\n",
      "[1] -1\n",
      "attr(,\"match.length\")\n",
      "[1] -1\n",
      "attr(,\"index.type\")\n",
      "[1] \"chars\"\n",
      "attr(,\"useBytes\")\n",
      "[1] TRUE\n",
      "\n",
      "[[6]]\n",
      "[1] -1\n",
      "attr(,\"match.length\")\n",
      "[1] -1\n",
      "attr(,\"index.type\")\n",
      "[1] \"chars\"\n",
      "attr(,\"useBytes\")\n",
      "[1] TRUE\n",
      "\n",
      "[[7]]\n",
      "[1] -1\n",
      "attr(,\"match.length\")\n",
      "[1] -1\n",
      "attr(,\"index.type\")\n",
      "[1] \"chars\"\n",
      "attr(,\"useBytes\")\n",
      "[1] TRUE\n",
      "\n"
     ]
    }
   ],
   "source": [
    "sprintf('검색패턴 대소문자 구별옵션 ignore.case = FALSE인 경우')\n",
    "tmp_loc <- gregexpr(pattern = keyword, text = my_sent, ignore.case = FALSE)\n",
    "print(tmp_loc)"
   ]
  },
  {
   "cell_type": "code",
   "execution_count": 55,
   "metadata": {},
   "outputs": [
    {
     "data": {
      "text/html": [
       "'검색패턴 대소문자 구별옵션 ignore.case = TRUE인 경우'"
      ],
      "text/latex": [
       "'검색패턴 대소문자 구별옵션 ignore.case = TRUE인 경우'"
      ],
      "text/markdown": [
       "'검색패턴 대소문자 구별옵션 ignore.case = TRUE인 경우'"
      ],
      "text/plain": [
       "[1] \"검색패턴 대소문자 구별옵션 ignore.case = TRUE인 경우\""
      ]
     },
     "metadata": {},
     "output_type": "display_data"
    },
    {
     "name": "stdout",
     "output_type": "stream",
     "text": [
      "[[1]]\n",
      "character(0)\n",
      "\n",
      "[[2]]\n",
      "character(0)\n",
      "\n",
      "[[3]]\n",
      "character(0)\n",
      "\n",
      "[[4]]\n",
      "character(0)\n",
      "\n",
      "[[5]]\n",
      "character(0)\n",
      "\n",
      "[[6]]\n",
      "character(0)\n",
      "\n",
      "[[7]]\n",
      "character(0)\n",
      "\n"
     ]
    }
   ],
   "source": [
    "sprintf('검색패턴 대소문자 구별옵션 ignore.case = TRUE인 경우')\n",
    "tmp_ptr <- regmatches(x = my_sent, m = tmp_loc)\n",
    "print(tmp_ptr)"
   ]
  },
  {
   "cell_type": "markdown",
   "metadata": {},
   "source": [
    "### 모든 출현내용: 파이프연산자 이용\n",
    "* base::gregexpr() & regmatches 함수이용 모든 출현내용: 파이프연산자 이용\n",
    "* stringr::str_extract_all() 함수이용 모든 출현내용"
   ]
  },
  {
   "cell_type": "code",
   "execution_count": 56,
   "metadata": {},
   "outputs": [],
   "source": [
    "# 텍스트셋 안에 특정패턴 모든 출현내용 파악\n",
    "# - 현재 1개 텍스트요소에 대한 검색인데, 검색패턴이 출현하는 모든 내용을 출력함\n",
    "# - 검색패턴이 해당 텍스트요소에 들어 있지 않으면 character(0)을 출력함"
   ]
  },
  {
   "cell_type": "markdown",
   "metadata": {},
   "source": [
    "#### base::gregexpr() & regmatches 함수이용"
   ]
  },
  {
   "cell_type": "code",
   "execution_count": 57,
   "metadata": {},
   "outputs": [
    {
     "data": {
      "text/html": [
       "'대소문자 무시옵션: FALSE'"
      ],
      "text/latex": [
       "'대소문자 무시옵션: FALSE'"
      ],
      "text/markdown": [
       "'대소문자 무시옵션: FALSE'"
      ],
      "text/plain": [
       "[1] \"대소문자 무시옵션: FALSE\""
      ]
     },
     "metadata": {},
     "output_type": "display_data"
    },
    {
     "name": "stdout",
     "output_type": "stream",
     "text": [
      "[[1]]\n",
      "character(0)\n",
      "\n",
      "[[2]]\n",
      "character(0)\n",
      "\n",
      "[[3]]\n",
      "character(0)\n",
      "\n",
      "[[4]]\n",
      "character(0)\n",
      "\n",
      "[[5]]\n",
      "character(0)\n",
      "\n",
      "[[6]]\n",
      "character(0)\n",
      "\n",
      "[[7]]\n",
      "character(0)\n",
      "\n"
     ]
    }
   ],
   "source": [
    "sprintf('대소문자 무시옵션: FALSE')\n",
    "gregexpr(pattern = keyword, text = my_sent) %>% regmatches(x = my_sent) %>% print"
   ]
  },
  {
   "cell_type": "code",
   "execution_count": 58,
   "metadata": {},
   "outputs": [
    {
     "data": {
      "text/html": [
       "'대소문자 무시옵션: TRUE'"
      ],
      "text/latex": [
       "'대소문자 무시옵션: TRUE'"
      ],
      "text/markdown": [
       "'대소문자 무시옵션: TRUE'"
      ],
      "text/plain": [
       "[1] \"대소문자 무시옵션: TRUE\""
      ]
     },
     "metadata": {},
     "output_type": "display_data"
    },
    {
     "name": "stdout",
     "output_type": "stream",
     "text": [
      "[[1]]\n",
      "[1] \"packages\"\n",
      "\n",
      "[[2]]\n",
      "[1] \"packages\"\n",
      "\n",
      "[[3]]\n",
      "character(0)\n",
      "\n",
      "[[4]]\n",
      "[1] \"packages\"\n",
      "\n",
      "[[5]]\n",
      "character(0)\n",
      "\n",
      "[[6]]\n",
      "[1] \"packages\" \"packages\"\n",
      "\n",
      "[[7]]\n",
      "[1] \"packages\" \"packages\"\n",
      "\n"
     ]
    }
   ],
   "source": [
    "sprintf('대소문자 무시옵션: TRUE')\n",
    "gregexpr(pattern = keyword, text = my_sent, ignore.case = TRUE) %>% regmatches(x = my_sent) %>% print"
   ]
  },
  {
   "cell_type": "markdown",
   "metadata": {},
   "source": [
    "#### stringr::str_extract_all() 함수이용"
   ]
  },
  {
   "cell_type": "code",
   "execution_count": 59,
   "metadata": {},
   "outputs": [
    {
     "data": {
      "text/html": [
       "'대소문자 무시옵션: FALSE'"
      ],
      "text/latex": [
       "'대소문자 무시옵션: FALSE'"
      ],
      "text/markdown": [
       "'대소문자 무시옵션: FALSE'"
      ],
      "text/plain": [
       "[1] \"대소문자 무시옵션: FALSE\""
      ]
     },
     "metadata": {},
     "output_type": "display_data"
    },
    {
     "name": "stdout",
     "output_type": "stream",
     "text": [
      "[[1]]\n",
      "character(0)\n",
      "\n",
      "[[2]]\n",
      "character(0)\n",
      "\n",
      "[[3]]\n",
      "character(0)\n",
      "\n",
      "[[4]]\n",
      "character(0)\n",
      "\n",
      "[[5]]\n",
      "character(0)\n",
      "\n",
      "[[6]]\n",
      "character(0)\n",
      "\n",
      "[[7]]\n",
      "character(0)\n",
      "\n"
     ]
    }
   ],
   "source": [
    "sprintf('대소문자 무시옵션: FALSE')\n",
    "str_extract_all(pattern = keyword, string = my_sent) %>% print"
   ]
  },
  {
   "cell_type": "code",
   "execution_count": 60,
   "metadata": {},
   "outputs": [
    {
     "data": {
      "text/html": [
       "'대소문자 무시옵션: TRUE'"
      ],
      "text/latex": [
       "'대소문자 무시옵션: TRUE'"
      ],
      "text/markdown": [
       "'대소문자 무시옵션: TRUE'"
      ],
      "text/plain": [
       "[1] \"대소문자 무시옵션: TRUE\""
      ]
     },
     "metadata": {},
     "output_type": "display_data"
    },
    {
     "name": "stdout",
     "output_type": "stream",
     "text": [
      "[[1]]\n",
      "[1] \"packages\"\n",
      "\n",
      "[[2]]\n",
      "[1] \"packages\"\n",
      "\n",
      "[[3]]\n",
      "character(0)\n",
      "\n",
      "[[4]]\n",
      "[1] \"packages\"\n",
      "\n",
      "[[5]]\n",
      "character(0)\n",
      "\n",
      "[[6]]\n",
      "[1] \"packages\" \"packages\"\n",
      "\n",
      "[[7]]\n",
      "[1] \"packages\" \"packages\"\n",
      "\n"
     ]
    }
   ],
   "source": [
    "sprintf('대소문자 무시옵션: TRUE')\n",
    "str_extract_all(regex(pattern = keyword, ignore_case = TRUE), string = my_sent) %>% print"
   ]
  },
  {
   "cell_type": "markdown",
   "metadata": {},
   "source": [
    "## 테스트셋에 특정패턴 출현횟수 파악\n",
    "* base:: gregexpr() & & regmatches & lenghts\n",
    "* stringr:: str_count()"
   ]
  },
  {
   "cell_type": "code",
   "execution_count": 61,
   "metadata": {},
   "outputs": [
    {
     "name": "stdout",
     "output_type": "stream",
     "text": [
      "[1] \"The capabilities of R are extended through user-created packages, which allow specialised statistical techniques, graphical devices, import/export capabilities, reporting tools (knitr, Sweave), etc\"                                                                                               \n",
      "[2] \"These packages are developed primarily in R, and sometimes in Java, C, C++, and Fortran\"                                                                                                                                                                                                             \n",
      "[3] \"The R packaging system is also used by researchers to create compendia to organise research data, code and report files in a systematic way for sharing and public archiving\"                                                                                                                        \n",
      "[4] \"The \\\"Task Views\\\" page (subject list) on the CRAN website lists a wide range of tasks (in fields such as Finance, Genetics, High Performance Computing, Machine Learning, Medical Imaging, Social Sciences and Spatial Statistics) to which R has been applied and for which packages are available\"\n",
      "[5] \"R has also been identified by the FDA as suitable for interpreting data from clinical research\"                                                                                                                                                                                                      \n",
      "[6] \"Other R package resources include Crantastic, a community site for rating and reviewing all CRAN packages, and R-Forge, a central platform for the collaborative development of R packages, R-related software, and projects\"                                                                        \n",
      "[7] \"R-Forge also hosts many unpublished beta packages, and development versions of CRAN packages.\"                                                                                                                                                                                                       \n"
     ]
    }
   ],
   "source": [
    "# 대상 텍스트셋 재확인\n",
    "print(my_sent)"
   ]
  },
  {
   "cell_type": "code",
   "execution_count": 62,
   "metadata": {},
   "outputs": [],
   "source": [
    "# 검색용 키워드 준비\n",
    "keyword = 'Packages'\n",
    "# - 검색패턴에 대소문자가 혼용되어 있는 상태임"
   ]
  },
  {
   "cell_type": "markdown",
   "metadata": {},
   "source": [
    "### 출현횟수: 세부연산과정 상세\n",
    "* base::gregexpr() & regmatches & lengths 함수이용 출현횟수: 세부연산과정 상세"
   ]
  },
  {
   "cell_type": "markdown",
   "metadata": {},
   "source": [
    "#### 해당표현이 출현한 모든 위치를 파악"
   ]
  },
  {
   "cell_type": "code",
   "execution_count": 63,
   "metadata": {
    "scrolled": true
   },
   "outputs": [
    {
     "name": "stdout",
     "output_type": "stream",
     "text": [
      "[[1]]\n",
      "[1] 57\n",
      "attr(,\"match.length\")\n",
      "[1] 8\n",
      "attr(,\"index.type\")\n",
      "[1] \"chars\"\n",
      "attr(,\"useBytes\")\n",
      "[1] TRUE\n",
      "\n",
      "[[2]]\n",
      "[1] 7\n",
      "attr(,\"match.length\")\n",
      "[1] 8\n",
      "attr(,\"index.type\")\n",
      "[1] \"chars\"\n",
      "attr(,\"useBytes\")\n",
      "[1] TRUE\n",
      "\n",
      "[[3]]\n",
      "[1] -1\n",
      "attr(,\"match.length\")\n",
      "[1] -1\n",
      "attr(,\"index.type\")\n",
      "[1] \"chars\"\n",
      "attr(,\"useBytes\")\n",
      "[1] TRUE\n",
      "\n",
      "[[4]]\n",
      "[1] 269\n",
      "attr(,\"match.length\")\n",
      "[1] 8\n",
      "attr(,\"index.type\")\n",
      "[1] \"chars\"\n",
      "attr(,\"useBytes\")\n",
      "[1] TRUE\n",
      "\n",
      "[[5]]\n",
      "[1] -1\n",
      "attr(,\"match.length\")\n",
      "[1] -1\n",
      "attr(,\"index.type\")\n",
      "[1] \"chars\"\n",
      "attr(,\"useBytes\")\n",
      "[1] TRUE\n",
      "\n",
      "[[6]]\n",
      "[1]  98 179\n",
      "attr(,\"match.length\")\n",
      "[1] 8 8\n",
      "attr(,\"index.type\")\n",
      "[1] \"chars\"\n",
      "attr(,\"useBytes\")\n",
      "[1] TRUE\n",
      "\n",
      "[[7]]\n",
      "[1] 42 85\n",
      "attr(,\"match.length\")\n",
      "[1] 8 8\n",
      "attr(,\"index.type\")\n",
      "[1] \"chars\"\n",
      "attr(,\"useBytes\")\n",
      "[1] TRUE\n",
      "\n"
     ]
    }
   ],
   "source": [
    "tmp_loc <- gregexpr(pattern = keyword, text = my_sent, ignore.case = TRUE)\n",
    "print(tmp_loc)"
   ]
  },
  {
   "cell_type": "markdown",
   "metadata": {},
   "source": [
    "#### 해당표현이 출현한 모든 내용을 파악: 리스트객체임"
   ]
  },
  {
   "cell_type": "code",
   "execution_count": 64,
   "metadata": {},
   "outputs": [
    {
     "name": "stdout",
     "output_type": "stream",
     "text": [
      "[[1]]\n",
      "[1] \"packages\"\n",
      "\n",
      "[[2]]\n",
      "[1] \"packages\"\n",
      "\n",
      "[[3]]\n",
      "character(0)\n",
      "\n",
      "[[4]]\n",
      "[1] \"packages\"\n",
      "\n",
      "[[5]]\n",
      "character(0)\n",
      "\n",
      "[[6]]\n",
      "[1] \"packages\" \"packages\"\n",
      "\n",
      "[[7]]\n",
      "[1] \"packages\" \"packages\"\n",
      "\n"
     ]
    }
   ],
   "source": [
    "tmp_ptr <- regmatches(x = my_sent, m = tmp_loc)\n",
    "print(tmp_ptr)"
   ]
  },
  {
   "cell_type": "markdown",
   "metadata": {},
   "source": [
    "#### 대상텍스트에 변경대상 키워드 출현횟수를 파악"
   ]
  },
  {
   "cell_type": "code",
   "execution_count": 65,
   "metadata": {},
   "outputs": [
    {
     "name": "stdout",
     "output_type": "stream",
     "text": [
      "[1] 1 1 0 1 0 2 2\n"
     ]
    }
   ],
   "source": [
    "lengths(tmp_ptr) %>% print\n",
    "# - 리스트객체에 대한 리스트항목별 세부요소갯수 산정"
   ]
  },
  {
   "cell_type": "markdown",
   "metadata": {},
   "source": [
    "### 출현횟수: 파이프연산자 이용\n",
    "* base::gregexpr() & regmatches  함수이용 출현횟수: 파이프연산자 이용\n",
    "* stringr::str_count() 함수이용 출현횟수"
   ]
  },
  {
   "cell_type": "code",
   "execution_count": 66,
   "metadata": {},
   "outputs": [
    {
     "data": {
      "text/html": [
       "<span style=white-space:pre-wrap>'base::gregexpr() &amp; regmatches  함수이용 출현횟수: 대소문자 무시옵션 FALSE'</span>"
      ],
      "text/latex": [
       "'base::gregexpr() \\& regmatches  함수이용 출현횟수: 대소문자 무시옵션 FALSE'"
      ],
      "text/markdown": [
       "<span style=white-space:pre-wrap>'base::gregexpr() &amp; regmatches  함수이용 출현횟수: 대소문자 무시옵션 FALSE'</span>"
      ],
      "text/plain": [
       "[1] \"base::gregexpr() & regmatches  함수이용 출현횟수: 대소문자 무시옵션 FALSE\""
      ]
     },
     "metadata": {},
     "output_type": "display_data"
    },
    {
     "name": "stdout",
     "output_type": "stream",
     "text": [
      "[1] 0 0 0 0 0 0 0\n"
     ]
    },
    {
     "data": {
      "text/html": [
       "<span style=white-space:pre-wrap>'base::gregexpr() &amp; regmatches  함수이용 출현횟수: 대소문자 무시옵션 TRUE'</span>"
      ],
      "text/latex": [
       "'base::gregexpr() \\& regmatches  함수이용 출현횟수: 대소문자 무시옵션 TRUE'"
      ],
      "text/markdown": [
       "<span style=white-space:pre-wrap>'base::gregexpr() &amp; regmatches  함수이용 출현횟수: 대소문자 무시옵션 TRUE'</span>"
      ],
      "text/plain": [
       "[1] \"base::gregexpr() & regmatches  함수이용 출현횟수: 대소문자 무시옵션 TRUE\""
      ]
     },
     "metadata": {},
     "output_type": "display_data"
    },
    {
     "name": "stdout",
     "output_type": "stream",
     "text": [
      "[1] 1 1 0 1 0 2 2\n",
      "\n",
      "#--------------------\n",
      "\n"
     ]
    },
    {
     "data": {
      "text/html": [
       "'stringr::str_count() 함수이용 출현횟수: 대소문자 무시옵션 FALSE'"
      ],
      "text/latex": [
       "'stringr::str\\_count() 함수이용 출현횟수: 대소문자 무시옵션 FALSE'"
      ],
      "text/markdown": [
       "'stringr::str_count() 함수이용 출현횟수: 대소문자 무시옵션 FALSE'"
      ],
      "text/plain": [
       "[1] \"stringr::str_count() 함수이용 출현횟수: 대소문자 무시옵션 FALSE\""
      ]
     },
     "metadata": {},
     "output_type": "display_data"
    },
    {
     "name": "stdout",
     "output_type": "stream",
     "text": [
      "[1] 0 0 0 0 0 0 0\n"
     ]
    },
    {
     "data": {
      "text/html": [
       "'stringr::str_count() 함수이용 출현횟수: 대소문자 무시옵션 TRUE'"
      ],
      "text/latex": [
       "'stringr::str\\_count() 함수이용 출현횟수: 대소문자 무시옵션 TRUE'"
      ],
      "text/markdown": [
       "'stringr::str_count() 함수이용 출현횟수: 대소문자 무시옵션 TRUE'"
      ],
      "text/plain": [
       "[1] \"stringr::str_count() 함수이용 출현횟수: 대소문자 무시옵션 TRUE\""
      ]
     },
     "metadata": {},
     "output_type": "display_data"
    },
    {
     "name": "stdout",
     "output_type": "stream",
     "text": [
      "[1] 1 1 0 1 0 2 2\n"
     ]
    }
   ],
   "source": [
    "# 대상텍스트에 변경대상 키워드 포함갯수를 파악\n",
    "sprintf('base::gregexpr() & regmatches  함수이용 출현횟수: 대소문자 무시옵션 FALSE')\n",
    "gregexpr(pattern = keyword, text = my_sent) %>% regmatches(x = my_sent) %>% lengths %>% print\n",
    "\n",
    "sprintf('base::gregexpr() & regmatches  함수이용 출현횟수: 대소문자 무시옵션 TRUE')\n",
    "gregexpr(pattern = keyword, text = my_sent, ignore.case = TRUE) %>% regmatches(x = my_sent) %>% lengths %>% print\n",
    "\n",
    "cat('\\n#--------------------\\n\\n')\n",
    "\n",
    "sprintf('stringr::str_count() 함수이용 출현횟수: 대소문자 무시옵션 FALSE')\n",
    "str_count(pattern = keyword, string = my_sent) %>% print\n",
    "\n",
    "sprintf('stringr::str_count() 함수이용 출현횟수: 대소문자 무시옵션 TRUE')\n",
    "str_count(regex(pattern = keyword, ignore_case = TRUE), string = my_sent) %>% print"
   ]
  },
  {
   "cell_type": "markdown",
   "metadata": {},
   "source": [
    "## 원본패턴을 목표패턴으로 변경\n",
    "* base:: 최초패턴을 변경 sub(), 모든패턴을 변경 gsub()\n",
    "* stringr:: 최초패턴을 변경 str_replace(), 모든패턴을 변경 str_replace_all()"
   ]
  },
  {
   "cell_type": "code",
   "execution_count": 67,
   "metadata": {},
   "outputs": [
    {
     "name": "stdout",
     "output_type": "stream",
     "text": [
      "[1] \"The capabilities of R are extended through user-created packages, which allow specialised statistical techniques, graphical devices, import/export capabilities, reporting tools (knitr, Sweave), etc\"                                                                                               \n",
      "[2] \"These packages are developed primarily in R, and sometimes in Java, C, C++, and Fortran\"                                                                                                                                                                                                             \n",
      "[3] \"The R packaging system is also used by researchers to create compendia to organise research data, code and report files in a systematic way for sharing and public archiving\"                                                                                                                        \n",
      "[4] \"The \\\"Task Views\\\" page (subject list) on the CRAN website lists a wide range of tasks (in fields such as Finance, Genetics, High Performance Computing, Machine Learning, Medical Imaging, Social Sciences and Spatial Statistics) to which R has been applied and for which packages are available\"\n",
      "[5] \"R has also been identified by the FDA as suitable for interpreting data from clinical research\"                                                                                                                                                                                                      \n",
      "[6] \"Other R package resources include Crantastic, a community site for rating and reviewing all CRAN packages, and R-Forge, a central platform for the collaborative development of R packages, R-related software, and projects\"                                                                        \n",
      "[7] \"R-Forge also hosts many unpublished beta packages, and development versions of CRAN packages.\"                                                                                                                                                                                                       \n"
     ]
    }
   ],
   "source": [
    "# 대상 텍스트셋 재확인\n",
    "print(my_sent)"
   ]
  },
  {
   "cell_type": "code",
   "execution_count": 68,
   "metadata": {},
   "outputs": [],
   "source": [
    "# 변경용 키워드 준비\n",
    "src = 'Packages' # 원본패턴\n",
    "tgt = 'library' # 목표패턴\n",
    "# - 검색용 원본패턴에 대소문자가 혼용되어 있는 상태임"
   ]
  },
  {
   "cell_type": "markdown",
   "metadata": {},
   "source": [
    "### 최초 출현내용 변경"
   ]
  },
  {
   "cell_type": "code",
   "execution_count": 69,
   "metadata": {},
   "outputs": [
    {
     "data": {
      "text/html": [
       "'base::sub() 함수이용 최초 출현내용 변경'"
      ],
      "text/latex": [
       "'base::sub() 함수이용 최초 출현내용 변경'"
      ],
      "text/markdown": [
       "'base::sub() 함수이용 최초 출현내용 변경'"
      ],
      "text/plain": [
       "[1] \"base::sub() 함수이용 최초 출현내용 변경\""
      ]
     },
     "metadata": {},
     "output_type": "display_data"
    },
    {
     "name": "stdout",
     "output_type": "stream",
     "text": [
      "[1] \"The capabilities of R are extended through user-created library, which allow specialised statistical techniques, graphical devices, import/export capabilities, reporting tools (knitr, Sweave), etc. These packages are developed primarily in R, and sometimes in Java, C, C++, and Fortran. The R packaging system is also used by researchers to create compendia to organise research data, code and report files in a systematic way for sharing and public archiving. \\nThe \\\"Task Views\\\" page (subject list) on the CRAN website lists a wide range of tasks (in fields such as Finance, Genetics, High Performance Computing, Machine Learning, Medical Imaging, Social Sciences and Spatial Statistics) to which R has been applied and for which packages are available. R has also been identified by the FDA as suitable for interpreting data from clinical research. Other R package resources include Crantastic, a community site for rating and reviewing all CRAN packages, and R-Forge, a central platform for the collaborative development of R packages, R-related software, and projects. R-Forge also hosts many unpublished beta packages, and development versions of CRAN packages.\"\n"
     ]
    },
    {
     "data": {
      "text/html": [
       "'stringr::str_replace() 함수이용 최초 출현내용 변경'"
      ],
      "text/latex": [
       "'stringr::str\\_replace() 함수이용 최초 출현내용 변경'"
      ],
      "text/markdown": [
       "'stringr::str_replace() 함수이용 최초 출현내용 변경'"
      ],
      "text/plain": [
       "[1] \"stringr::str_replace() 함수이용 최초 출현내용 변경\""
      ]
     },
     "metadata": {},
     "output_type": "display_data"
    },
    {
     "name": "stdout",
     "output_type": "stream",
     "text": [
      "[1] \"The capabilities of R are extended through user-created library, which allow specialised statistical techniques, graphical devices, import/export capabilities, reporting tools (knitr, Sweave), etc. These packages are developed primarily in R, and sometimes in Java, C, C++, and Fortran. The R packaging system is also used by researchers to create compendia to organise research data, code and report files in a systematic way for sharing and public archiving. \\nThe \\\"Task Views\\\" page (subject list) on the CRAN website lists a wide range of tasks (in fields such as Finance, Genetics, High Performance Computing, Machine Learning, Medical Imaging, Social Sciences and Spatial Statistics) to which R has been applied and for which packages are available. R has also been identified by the FDA as suitable for interpreting data from clinical research. Other R package resources include Crantastic, a community site for rating and reviewing all CRAN packages, and R-Forge, a central platform for the collaborative development of R packages, R-related software, and projects. R-Forge also hosts many unpublished beta packages, and development versions of CRAN packages.\"\n"
     ]
    }
   ],
   "source": [
    "# 텍스트데이터내 원본패턴 중 최초 출현내용을 목표패턴으로 변경\n",
    "\n",
    "sprintf('base::sub() 함수이용 최초 출현내용 변경')\n",
    "my_sub <- sub(pattern = src, replacement = tgt, x = my, ignore.case = TRUE)\n",
    "print(my_sub)\n",
    "\n",
    "sprintf('stringr::str_replace() 함수이용 최초 출현내용 변경')\n",
    "my_rep <- str_replace(regex(pattern = keyword, ignore_case = TRUE), replacement = tgt, string = my)\n",
    "print(my_rep)"
   ]
  },
  {
   "cell_type": "code",
   "execution_count": 70,
   "metadata": {},
   "outputs": [
    {
     "data": {
      "text/html": [
       "'원본패턴 Packages 출현횟수:'"
      ],
      "text/latex": [
       "'원본패턴 Packages 출현횟수:'"
      ],
      "text/markdown": [
       "'원본패턴 Packages 출현횟수:'"
      ],
      "text/plain": [
       "[1] \"원본패턴 Packages 출현횟수:\""
      ]
     },
     "metadata": {},
     "output_type": "display_data"
    },
    {
     "name": "stdout",
     "output_type": "stream",
     "text": [
      "[1] 6\n",
      "[1] 6\n"
     ]
    },
    {
     "data": {
      "text/html": [
       "'목표패턴 library 출현횟수:'"
      ],
      "text/latex": [
       "'목표패턴 library 출현횟수:'"
      ],
      "text/markdown": [
       "'목표패턴 library 출현횟수:'"
      ],
      "text/plain": [
       "[1] \"목표패턴 library 출현횟수:\""
      ]
     },
     "metadata": {},
     "output_type": "display_data"
    },
    {
     "name": "stdout",
     "output_type": "stream",
     "text": [
      "[1] 1\n",
      "[1] 1\n"
     ]
    }
   ],
   "source": [
    "# 최초 춯현내용 변경여부 파악\n",
    "\n",
    "src = 'Packages' # 원본패턴\n",
    "tgt = 'library' # 목표패턴\n",
    "\n",
    "# 대상텍스트에 변경대상 키워드 포함갯수를 파악\n",
    "sprintf('원본패턴 %s 출현횟수:', src) \n",
    "gregexpr(pattern = src, text = my_sub, ignore.case = TRUE) %>% regmatches(x = my_sub) %>% lengths %>% print\n",
    "str_count(regex(pattern = src, ignore_case = TRUE), string = my_sub) %>% print\n",
    "\n",
    "sprintf('목표패턴 %s 출현횟수:', tgt)\n",
    "gregexpr(pattern = tgt, text = my_rep, ignore.case = TRUE) %>% regmatches(x = my_rep) %>% lengths %>% print\n",
    "str_count(regex(pattern = tgt, ignore_case = TRUE), string = my_rep) %>% print"
   ]
  },
  {
   "cell_type": "markdown",
   "metadata": {},
   "source": [
    "### 모든 출현내용 변경"
   ]
  },
  {
   "cell_type": "code",
   "execution_count": 71,
   "metadata": {},
   "outputs": [
    {
     "data": {
      "text/html": [
       "'base::gsub() 함수이용 모든 출현내용 변경'"
      ],
      "text/latex": [
       "'base::gsub() 함수이용 모든 출현내용 변경'"
      ],
      "text/markdown": [
       "'base::gsub() 함수이용 모든 출현내용 변경'"
      ],
      "text/plain": [
       "[1] \"base::gsub() 함수이용 모든 출현내용 변경\""
      ]
     },
     "metadata": {},
     "output_type": "display_data"
    },
    {
     "name": "stdout",
     "output_type": "stream",
     "text": [
      "[1] \"The capabilities of R are extended through user-created library, which allow specialised statistical techniques, graphical devices, import/export capabilities, reporting tools (knitr, Sweave), etc. These library are developed primarily in R, and sometimes in Java, C, C++, and Fortran. The R packaging system is also used by researchers to create compendia to organise research data, code and report files in a systematic way for sharing and public archiving. \\nThe \\\"Task Views\\\" page (subject list) on the CRAN website lists a wide range of tasks (in fields such as Finance, Genetics, High Performance Computing, Machine Learning, Medical Imaging, Social Sciences and Spatial Statistics) to which R has been applied and for which library are available. R has also been identified by the FDA as suitable for interpreting data from clinical research. Other R package resources include Crantastic, a community site for rating and reviewing all CRAN library, and R-Forge, a central platform for the collaborative development of R library, R-related software, and projects. R-Forge also hosts many unpublished beta library, and development versions of CRAN library.\"\n"
     ]
    },
    {
     "data": {
      "text/html": [
       "'stringr::str_replace_all() 함수이용 모든 출현내용 변경'"
      ],
      "text/latex": [
       "'stringr::str\\_replace\\_all() 함수이용 모든 출현내용 변경'"
      ],
      "text/markdown": [
       "'stringr::str_replace_all() 함수이용 모든 출현내용 변경'"
      ],
      "text/plain": [
       "[1] \"stringr::str_replace_all() 함수이용 모든 출현내용 변경\""
      ]
     },
     "metadata": {},
     "output_type": "display_data"
    },
    {
     "name": "stdout",
     "output_type": "stream",
     "text": [
      "[1] \"The capabilities of R are extended through user-created library, which allow specialised statistical techniques, graphical devices, import/export capabilities, reporting tools (knitr, Sweave), etc. These library are developed primarily in R, and sometimes in Java, C, C++, and Fortran. The R packaging system is also used by researchers to create compendia to organise research data, code and report files in a systematic way for sharing and public archiving. \\nThe \\\"Task Views\\\" page (subject list) on the CRAN website lists a wide range of tasks (in fields such as Finance, Genetics, High Performance Computing, Machine Learning, Medical Imaging, Social Sciences and Spatial Statistics) to which R has been applied and for which library are available. R has also been identified by the FDA as suitable for interpreting data from clinical research. Other R package resources include Crantastic, a community site for rating and reviewing all CRAN library, and R-Forge, a central platform for the collaborative development of R library, R-related software, and projects. R-Forge also hosts many unpublished beta library, and development versions of CRAN library.\"\n"
     ]
    }
   ],
   "source": [
    "# 텍스트데이터내 원본패턴 중 모든 출현내용을 목표패턴으로 변경\n",
    "\n",
    "sprintf('base::gsub() 함수이용 모든 출현내용 변경')\n",
    "my_gsub <- gsub(pattern = src, replacement = tgt, x = my, ignore.case = TRUE)\n",
    "print(my_gsub)\n",
    "\n",
    "sprintf('stringr::str_replace_all() 함수이용 모든 출현내용 변경')\n",
    "my_rep_all <- str_replace_all(regex(pattern = keyword, ignore_case = TRUE), replacement = tgt, string = my)\n",
    "print(my_rep_all)"
   ]
  },
  {
   "cell_type": "code",
   "execution_count": 72,
   "metadata": {},
   "outputs": [
    {
     "data": {
      "text/html": [
       "'원본패턴 Packages 출현횟수:'"
      ],
      "text/latex": [
       "'원본패턴 Packages 출현횟수:'"
      ],
      "text/markdown": [
       "'원본패턴 Packages 출현횟수:'"
      ],
      "text/plain": [
       "[1] \"원본패턴 Packages 출현횟수:\""
      ]
     },
     "metadata": {},
     "output_type": "display_data"
    },
    {
     "name": "stdout",
     "output_type": "stream",
     "text": [
      "[1] 0\n",
      "[1] 0\n"
     ]
    },
    {
     "data": {
      "text/html": [
       "'목표패턴 library 출현횟수:'"
      ],
      "text/latex": [
       "'목표패턴 library 출현횟수:'"
      ],
      "text/markdown": [
       "'목표패턴 library 출현횟수:'"
      ],
      "text/plain": [
       "[1] \"목표패턴 library 출현횟수:\""
      ]
     },
     "metadata": {},
     "output_type": "display_data"
    },
    {
     "name": "stdout",
     "output_type": "stream",
     "text": [
      "[1] 7\n",
      "[1] 7\n"
     ]
    }
   ],
   "source": [
    "# 모든 춯현내용 변경여부 파악\n",
    "\n",
    "src = 'Packages' # 원본패턴\n",
    "tgt = 'library' # 목표패턴\n",
    "\n",
    "# 대상텍스트에 변경대상 키워드 포함갯수를 파악\n",
    "sprintf('원본패턴 %s 출현횟수:', src) \n",
    "gregexpr(pattern = src, text = my_gsub, ignore.case = TRUE) %>% regmatches(x = my_gsub) %>% lengths %>% print\n",
    "str_count(regex(pattern = src, ignore_case = TRUE), string = my_gsub) %>% print\n",
    "\n",
    "sprintf('목표패턴 %s 출현횟수:', tgt)\n",
    "gregexpr(pattern = tgt, text = my_rep_all, ignore.case = TRUE) %>% regmatches(x = my_rep_all) %>% lengths %>% print\n",
    "str_count(regex(pattern = tgt, ignore_case = TRUE), string = my_rep_all) %>% print"
   ]
  },
  {
   "cell_type": "markdown",
   "metadata": {},
   "source": [
    "# End of Source"
   ]
  }
 ],
 "metadata": {
  "kernelspec": {
   "display_name": "R",
   "language": "R",
   "name": "ir"
  },
  "language_info": {
   "codemirror_mode": "r",
   "file_extension": ".r",
   "mimetype": "text/x-r-source",
   "name": "R",
   "pygments_lexer": "r",
   "version": "3.5.1"
  },
  "toc": {
   "base_numbering": 1,
   "nav_menu": {
    "height": "259px",
    "width": "160px"
   },
   "number_sections": true,
   "sideBar": true,
   "skip_h1_title": false,
   "title_cell": "Table of Contents",
   "title_sidebar": "Contents",
   "toc_cell": false,
   "toc_position": {
    "height": "calc(100% - 180px)",
    "left": "10px",
    "top": "150px",
    "width": "364px"
   },
   "toc_section_display": true,
   "toc_window_display": true
  },
  "varInspector": {
   "cols": {
    "lenName": 16,
    "lenType": 16,
    "lenVar": 40
   },
   "kernels_config": {
    "python": {
     "delete_cmd_postfix": "",
     "delete_cmd_prefix": "del ",
     "library": "var_list.py",
     "varRefreshCmd": "print(var_dic_list())"
    },
    "r": {
     "delete_cmd_postfix": ") ",
     "delete_cmd_prefix": "rm(",
     "library": "var_list.r",
     "varRefreshCmd": "cat(var_dic_list()) "
    }
   },
   "position": {
    "height": "470px",
    "left": "1247px",
    "right": "20px",
    "top": "177px",
    "width": "473px"
   },
   "types_to_exclude": [
    "module",
    "function",
    "builtin_function_or_method",
    "instance",
    "_Feature"
   ],
   "window_display": false
  }
 },
 "nbformat": 4,
 "nbformat_minor": 2
}
